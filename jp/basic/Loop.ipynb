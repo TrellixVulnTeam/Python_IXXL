{
 "cells": [
  {
   "cell_type": "markdown",
   "metadata": {},
   "source": [
    "For loop : 以固定數量的變數(ex:range())，作為控制條件的重點\n",
    "\n",
    "for [變數名稱] in range(範圍): "
   ]
  },
  {
   "cell_type": "code",
   "execution_count": 35,
   "metadata": {},
   "outputs": [
    {
     "name": "stdout",
     "output_type": "stream",
     "text": [
      "1,2,3,4,5,6,7,8,9,\n",
      "2,4,6,8,10,12,14,16,18,\n",
      "3,6,9,12,15,18,21,24,27,\n",
      "4,8,12,16,20,24,28,32,36,\n",
      "5,10,15,20,25,30,35,40,45,\n",
      "6,12,18,24,30,36,42,48,54,\n",
      "7,14,21,28,35,42,49,56,63,\n",
      "8,16,24,32,40,48,56,64,72,\n",
      "9,18,27,36,45,54,63,72,81,\n"
     ]
    }
   ],
   "source": [
    "#99乘法表\n",
    "for i in range(1,10):\n",
    "    \n",
    "    for j in range(1,10):     \n",
    "        print(i*j, end=',')  #結尾不換行，改成','\n",
    "        \n",
    "    print(end='\\n')          #在j迴圈的縮排換行，表示i跑完9個就換行"
   ]
  },
  {
   "cell_type": "code",
   "execution_count": 1,
   "metadata": {
    "scrolled": true
   },
   "outputs": [
    {
     "name": "stdout",
     "output_type": "stream",
     "text": [
      "5\n",
      "Wrong\n",
      "6\n",
      "Wrong\n",
      "28\n",
      "Bingo!\n",
      "Game Over\n"
     ]
    }
   ],
   "source": [
    "#猜數字\n",
    "ans = 28 #答案\n",
    "for guessChance in range(0,3):  #range(0,3)為(0,1,2)共三次\n",
    "    guess = int(input())\n",
    "    if ans == guess:  # =:代表賦值；==:代表判斷是否相等，返回True or False\n",
    "        print('Bingo!')\n",
    "        break  #猜中離開迴圈\n",
    "    else:\n",
    "        print('Wrong') \n",
    "print('Game Over')  #猜中或答完三次Game Over"
   ]
  },
  {
   "cell_type": "code",
   "execution_count": null,
   "metadata": {},
   "outputs": [],
   "source": []
  },
  {
   "cell_type": "markdown",
   "metadata": {},
   "source": [
    "While loop : 以某個條件，作為控制條件的重點，當迴圈返回True繼續循環，直到返回False\n",
    "\n",
    "因為while本身就是依靠布林值判斷進入迴圈與否，故python的無窮迴圈通常用while做，\n",
    "在製造無窮迴圈時，特別注意需搭配限定條件使用(例如：if 跟 break)，不然電腦就會跑到停不下來\n",
    "\n",
    "+= : 直接進行+，會重新生成一個對象，而進行+=操作並不改變原來的對象，是在原來對象的基礎上進行操作，所以+=也稱為\"就地加， -= 同理。"
   ]
  },
  {
   "cell_type": "code",
   "execution_count": 10,
   "metadata": {},
   "outputs": [
    {
     "name": "stdout",
     "output_type": "stream",
     "text": [
      "0\n",
      "2\n",
      "4\n",
      "6\n",
      "8\n"
     ]
    }
   ],
   "source": [
    "#範例1：以控制變數(count)小於3，作為控制條件\n",
    "\n",
    "count = 0                 #初始值\n",
    "while count < 10:          #讓迴圈執行的條件，當不符合即停止\n",
    "         print(count)\n",
    "         count += 2       #更新值 (就地加) "
   ]
  },
  {
   "cell_type": "code",
   "execution_count": 11,
   "metadata": {},
   "outputs": [
    {
     "name": "stdout",
     "output_type": "stream",
     "text": [
      "0\n",
      "2\n",
      "4\n",
      "6\n",
      "8\n",
      "10\n"
     ]
    }
   ],
   "source": [
    "#範例2：以while等於True，作為控制條件，製造無窮迴圈，\n",
    "#特別注意需搭配限定條件使用(例如：if 跟 break)，不然電腦就會跑到停不下來\n",
    "\n",
    "count = 0                   #初始值\n",
    "while True:                 #無窮迴圈起手式  \n",
    "          print(count)\n",
    "          count += 2        #更新值 (就地加) ，每執行一次+2\n",
    "          if count > 10 :   #當count大於6時，迴圈結束\n",
    "                    break   #挑出迴圈"
   ]
  },
  {
   "cell_type": "code",
   "execution_count": 13,
   "metadata": {},
   "outputs": [
    {
     "name": "stdout",
     "output_type": "stream",
     "text": [
      "1 + 2 + 3 + ... + 98 + 99 + 100 = 5050\n"
     ]
    }
   ],
   "source": [
    "sum = 0         #初始值\n",
    "i = 1\n",
    "while i <= 100: #讓迴圈結束的條件\n",
    "    sum += i    #更新值 (就地加) ，每執行一次+i\n",
    "    i += 1\n",
    "  \n",
    "print(\"1 + 2 + 3 + ... + 98 + 99 + 100 =\", sum)"
   ]
  },
  {
   "cell_type": "code",
   "execution_count": 14,
   "metadata": {
    "scrolled": false
   },
   "outputs": [
    {
     "name": "stdout",
     "output_type": "stream",
     "text": [
      "1 2 3 4 5 6 7 8 9 \n",
      "2 4 6 8 10 12 14 16 18 \n",
      "3 6 9 12 15 18 21 24 27 \n",
      "4 8 12 16 20 24 28 32 36 \n",
      "5 10 15 20 25 30 35 40 45 \n",
      "6 12 18 24 30 36 42 48 54 \n",
      "7 14 21 28 35 42 49 56 63 \n",
      "8 16 24 32 40 48 56 64 72 \n",
      "9 18 27 36 45 54 63 72 81 \n"
     ]
    }
   ],
   "source": [
    "i = 1\n",
    "j = 1\n",
    "while i <= 9:      #外層循環9次\n",
    "    \n",
    "    while j <= 9:                      #內層循環9次\n",
    "        print(i * j, end = \" \")        #印出 i*j，內層不換行，以空白間隔\n",
    "        j += 1                         #i*1,i*2,i*3....,i*9，直到=9，跳出內層迴圈，需要在print之下，因為要先印出1，才接續+1\n",
    "        \n",
    "    i += 1         # i = 1,2,3,4,5,6,7,8,9 (也就是列數)\n",
    "    j = 1          # j在外層每次都改回1\n",
    "    print()"
   ]
  },
  {
   "cell_type": "code",
   "execution_count": 15,
   "metadata": {
    "scrolled": false
   },
   "outputs": [
    {
     "name": "stdout",
     "output_type": "stream",
     "text": [
      "1 2 3 5 6 7 8 9 \n",
      "2 4 6 10 12 14 16 18 \n",
      "3 6 9 15 18 21 24 27 \n",
      "4 8 12 20 24 28 32 36 \n"
     ]
    }
   ],
   "source": [
    "i = 1\n",
    "j = 1\n",
    "while i <= 9:\n",
    "    if i == 5:\n",
    "        break      #跳出迴圈，因此乘法表的5列不會被印出\n",
    "  \n",
    "    while j <= 9:\n",
    "        if j == 4:\n",
    "            j += 1\n",
    "            continue  #跳過迴圈這一輪的執行，因此乘法表的4欄不會被印出。\n",
    "          \n",
    "        print(i * j, end = \" \")\n",
    "        j += 1\n",
    "      \n",
    "    i += 1\n",
    "    j = 1\n",
    "    print()"
   ]
  },
  {
   "cell_type": "code",
   "execution_count": null,
   "metadata": {},
   "outputs": [],
   "source": []
  },
  {
   "cell_type": "markdown",
   "metadata": {},
   "source": [
    "總結，while的控制在一個條件成立；for的控制則在一個範圍之內。"
   ]
  }
 ],
 "metadata": {
  "kernelspec": {
   "display_name": "Python 3",
   "language": "python",
   "name": "python3"
  },
  "language_info": {
   "codemirror_mode": {
    "name": "ipython",
    "version": 3
   },
   "file_extension": ".py",
   "mimetype": "text/x-python",
   "name": "python",
   "nbconvert_exporter": "python",
   "pygments_lexer": "ipython3",
   "version": "3.7.1"
  }
 },
 "nbformat": 4,
 "nbformat_minor": 2
}
