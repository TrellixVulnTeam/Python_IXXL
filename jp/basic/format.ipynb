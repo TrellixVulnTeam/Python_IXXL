{
 "cells": [
  {
   "cell_type": "code",
   "execution_count": null,
   "metadata": {},
   "outputs": [],
   "source": [
    "x = 1234.56789"
   ]
  },
  {
   "cell_type": "code",
   "execution_count": null,
   "metadata": {},
   "outputs": [],
   "source": [
    "# Two decimal places of accuracy\n",
    "format(x, '0.2f') #無空格，小數保留2位\n",
    "'1234.57'"
   ]
  },
  {
   "cell_type": "code",
   "execution_count": null,
   "metadata": {},
   "outputs": [],
   "source": [
    "# Right justified in 10 chars, one-digit accuracy\n",
    "format(x, '>10.1f') #數字輸出靠右，總計長度為10，小數保留1位\n",
    "'    1234.6'"
   ]
  },
  {
   "cell_type": "code",
   "execution_count": null,
   "metadata": {},
   "outputs": [],
   "source": [
    "# Left justified\n",
    "format(x, '<10.1f') #數字輸出靠左，總計長度為10，小數保留1位\n",
    "'1234.6    '"
   ]
  },
  {
   "cell_type": "code",
   "execution_count": null,
   "metadata": {},
   "outputs": [],
   "source": [
    "# Centered\n",
    "format(x, '^10.1f') #數字輸出靠中，小數保留2位\n",
    "'  1234.6  '"
   ]
  },
  {
   "cell_type": "code",
   "execution_count": null,
   "metadata": {},
   "outputs": [],
   "source": [
    "# Inclusion of thousands separator\n",
    "format(x, ',') #指定逗號位數字的千分位分隔符\n",
    "'1,234.56789'"
   ]
  },
  {
   "cell_type": "raw",
   "metadata": {},
   "source": [
    "format(x, '0,.1f') #無佔位輸出，用逗號作為分隔符，保留1位小數\n",
    "'1,234.6'"
   ]
  },
  {
   "cell_type": "code",
   "execution_count": null,
   "metadata": {},
   "outputs": [],
   "source": []
  },
  {
   "cell_type": "code",
   "execution_count": null,
   "metadata": {},
   "outputs": [],
   "source": []
  },
  {
   "cell_type": "code",
   "execution_count": 1,
   "metadata": {},
   "outputs": [
    {
     "name": "stdout",
     "output_type": "stream",
     "text": [
      "12,345,678\n"
     ]
    }
   ],
   "source": [
    "a=\"{:,}\".format(12345678) \n",
    "print(a)"
   ]
  },
  {
   "cell_type": "code",
   "execution_count": 2,
   "metadata": {},
   "outputs": [
    {
     "name": "stdout",
     "output_type": "stream",
     "text": [
      "20,003\n"
     ]
    }
   ],
   "source": [
    "import re  \n",
    "a = '20003'  \n",
    "result = re.sub(r\"(?<=\\d)(?=(?:\\d\\d\\d)+$)\", \",\", a)  \n",
    "print(result)"
   ]
  },
  {
   "cell_type": "code",
   "execution_count": null,
   "metadata": {},
   "outputs": [],
   "source": []
  }
 ],
 "metadata": {
  "kernelspec": {
   "display_name": "Python 3",
   "language": "python",
   "name": "python3"
  },
  "language_info": {
   "codemirror_mode": {
    "name": "ipython",
    "version": 3
   },
   "file_extension": ".py",
   "mimetype": "text/x-python",
   "name": "python",
   "nbconvert_exporter": "python",
   "pygments_lexer": "ipython3",
   "version": "3.7.1"
  }
 },
 "nbformat": 4,
 "nbformat_minor": 2
}
