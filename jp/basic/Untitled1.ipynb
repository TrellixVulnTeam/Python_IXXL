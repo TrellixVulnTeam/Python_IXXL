{
 "cells": [
  {
   "cell_type": "code",
   "execution_count": 2,
   "metadata": {},
   "outputs": [
    {
     "name": "stdout",
     "output_type": "stream",
     "text": [
      "Collecting pyquery\n",
      "  Downloading https://files.pythonhosted.org/packages/09/c7/ce8c9c37ab8ff8337faad3335c088d60bed4a35a4bed33a64f0e64fbcf29/pyquery-1.4.0-py2.py3-none-any.whl\n",
      "Collecting selenium\n",
      "  Downloading https://files.pythonhosted.org/packages/80/d6/4294f0b4bce4de0abf13e17190289f9d0613b0a44e5dd6a7f5ca98459853/selenium-3.141.0-py2.py3-none-any.whl (904kB)\n",
      "Requirement already satisfied, skipping upgrade: lxml>=2.1 in c:\\users\\11004076\\anaconda3\\lib\\site-packages (from pyquery) (4.2.5)\n",
      "Requirement already satisfied, skipping upgrade: cssselect>0.7.9 in c:\\users\\11004076\\anaconda3\\lib\\site-packages (from pyquery) (1.1.0)\n",
      "Requirement already satisfied, skipping upgrade: urllib3 in c:\\users\\11004076\\anaconda3\\lib\\site-packages (from selenium) (1.24.1)\n",
      "Installing collected packages: pyquery, selenium\n",
      "Successfully installed pyquery-1.4.0 selenium-3.141.0\n"
     ]
    }
   ],
   "source": [
    "!pip install -U pyquery selenium"
   ]
  },
  {
   "cell_type": "code",
   "execution_count": 3,
   "metadata": {},
   "outputs": [],
   "source": [
    "from pyquery import PyQuery as pq\n",
    "from selenium import webdriver\n",
    "from random import randint\n",
    "import time"
   ]
  },
  {
   "cell_type": "code",
   "execution_count": 4,
   "metadata": {},
   "outputs": [
    {
     "name": "stdout",
     "output_type": "stream",
     "text": [
      "{'movieRating': 8.6, 'movieReleaseDate': '24 April 2019 (Taiwan)', 'movieGenre': ['Action', 'Adventure', 'Sci-Fi'], 'moviePosterLink': 'https://m.media-amazon.com/images/M/MV5BMTc5MDE2ODcwNV5BMl5BanBnXkFtZTgwMzI2NzQ2NzM@._V1_UX182_CR0,0,182,268_AL_.jpg', 'movieCast': ['Robert Downey Jr.', 'Chris Evans', 'Mark Ruffalo', 'Chris Hemsworth', 'Scarlett Johansson', 'Jeremy Renner', 'Don Cheadle', 'Paul Rudd', 'Benedict Cumberbatch', 'Chadwick Boseman', 'Brie Larson', 'Tom Holland', 'Karen Gillan', 'Zoe Saldana', 'Evangeline Lilly']}\n"
     ]
    }
   ],
   "source": [
    "def get_movie_info(movie_url):\n",
    "    \"\"\"\n",
    "    Get movie info from certain IMDB url\n",
    "    \"\"\"\n",
    "    d = pq(movie_url)\n",
    "    movie_rating = float(d(\"strong span\").text())\n",
    "    movie_genre = [x.text() for x in d(\".subtext a\").items()]\n",
    "    movie_release_date = movie_genre.pop()\n",
    "    movie_poster = d(\".poster img\").attr('src')\n",
    "    movie_cast = [x.text() for x in d(\".primary_photo+ td a\").items()]\n",
    "\n",
    "    # 回傳資訊\n",
    "    movie_info = {\n",
    "        \"movieRating\": movie_rating,\n",
    "        \"movieReleaseDate\": movie_release_date,\n",
    "        \"movieGenre\": movie_genre,\n",
    "        \"moviePosterLink\": movie_poster,\n",
    "        \"movieCast\": movie_cast\n",
    "    }\n",
    "    return movie_info\n",
    "\n",
    "end_game = get_movie_info(\"https://www.imdb.com/title/tt4154796\")\n",
    "print(end_game)"
   ]
  },
  {
   "cell_type": "code",
   "execution_count": null,
   "metadata": {},
   "outputs": [],
   "source": []
  }
 ],
 "metadata": {
  "kernelspec": {
   "display_name": "Python 3",
   "language": "python",
   "name": "python3"
  },
  "language_info": {
   "codemirror_mode": {
    "name": "ipython",
    "version": 3
   },
   "file_extension": ".py",
   "mimetype": "text/x-python",
   "name": "python",
   "nbconvert_exporter": "python",
   "pygments_lexer": "ipython3",
   "version": "3.7.1"
  }
 },
 "nbformat": 4,
 "nbformat_minor": 2
}
