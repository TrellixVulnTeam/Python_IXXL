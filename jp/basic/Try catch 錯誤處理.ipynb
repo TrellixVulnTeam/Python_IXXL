{
 "cells": [
  {
   "cell_type": "code",
   "execution_count": null,
   "metadata": {},
   "outputs": [],
   "source": [
    "try:\n",
    "    # 你要執行的程式\n",
    "except <錯誤類型>:\n",
    "    # 發生錯誤時要執行的程式"
   ]
  },
  {
   "cell_type": "code",
   "execution_count": 1,
   "metadata": {},
   "outputs": [
    {
     "name": "stdout",
     "output_type": "stream",
     "text": [
      "#1 請輸入數字: 1\n",
      "#1 你剛才輸入的是: 1\n"
     ]
    }
   ],
   "source": [
    "while True:\n",
    "    try:\n",
    "        x = int(input(\"#1 請輸入數字: \"))\n",
    "        print(\"#1 你剛才輸入的是:\", x)\n",
    "        break    # 跳出迴圈\n",
    "        \n",
    "    except ValueError:   # 數值錯誤\n",
    "        print(\"#1 你輸入的不是數字，請你再輸入一次！...\")"
   ]
  },
  {
   "cell_type": "code",
   "execution_count": 8,
   "metadata": {},
   "outputs": [
    {
     "name": "stdout",
     "output_type": "stream",
     "text": [
      "#2 2不能除以零，誰都不行！\n"
     ]
    }
   ],
   "source": [
    "try:    \n",
    "    print(\"#2 {0}除以零！\".format(x/0))  # 故意除以零\n",
    "\n",
    "except ZeroDivisionError:  # 數值除以零的錯誤\n",
    "    print(\"#2 {0}不能除以零，誰都不行！\".format(x))"
   ]
  },
  {
   "cell_type": "code",
   "execution_count": 9,
   "metadata": {},
   "outputs": [
    {
     "name": "stdout",
     "output_type": "stream",
     "text": [
      "#3 變數未宣告的錯誤！\n"
     ]
    }
   ],
   "source": [
    "try:    \n",
    "    print(\"#3 兩數相乘: {0}\", x * magic_number) # 故意用了沒宣告過的變數『magic_number』\n",
    "\n",
    "except NameError:  # 變數未宣告的錯誤\n",
    "    print(\"#3 變數未宣告的錯誤！\")"
   ]
  },
  {
   "cell_type": "code",
   "execution_count": 11,
   "metadata": {},
   "outputs": [
    {
     "name": "stdout",
     "output_type": "stream",
     "text": [
      "Unexpected error: <class 'ZeroDivisionError'>\n"
     ]
    }
   ],
   "source": [
    "#無法確定會發生什麼錯誤時的做法，那就用except吧！\n",
    "try:\n",
    "    mm = 9 / 0\n",
    "except:\n",
    "    print(\"Unexpected error:\", sys.exc_info()[0]) #sys.exc_info()[0]就是用來取出except的錯誤訊息的方法"
   ]
  },
  {
   "cell_type": "code",
   "execution_count": 13,
   "metadata": {},
   "outputs": [
    {
     "name": "stdout",
     "output_type": "stream",
     "text": [
      "Unexpected error: <class 'ZeroDivisionError'>\n"
     ]
    }
   ],
   "source": [
    "#無法確定會發生什麼錯誤時的做法，那就用except吧！\n",
    "try:\n",
    "    mm = 9 / 0\n",
    "except:\n",
    "    print(\"Unexpected error:\", sys.exc_info()[0]) #sys.exc_info()[0]就是用來取出except的錯誤訊息的方法"
   ]
  },
  {
   "cell_type": "code",
   "execution_count": null,
   "metadata": {
    "scrolled": false
   },
   "outputs": [],
   "source": []
  },
  {
   "cell_type": "code",
   "execution_count": null,
   "metadata": {},
   "outputs": [],
   "source": []
  }
 ],
 "metadata": {
  "kernelspec": {
   "display_name": "Python 3",
   "language": "python",
   "name": "python3"
  },
  "language_info": {
   "codemirror_mode": {
    "name": "ipython",
    "version": 3
   },
   "file_extension": ".py",
   "mimetype": "text/x-python",
   "name": "python",
   "nbconvert_exporter": "python",
   "pygments_lexer": "ipython3",
   "version": "3.7.1"
  }
 },
 "nbformat": 4,
 "nbformat_minor": 2
}
