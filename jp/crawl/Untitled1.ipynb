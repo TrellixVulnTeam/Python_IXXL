{
 "cells": [
  {
   "cell_type": "code",
   "execution_count": 39,
   "metadata": {},
   "outputs": [
    {
     "data": {
      "text/plain": [
       "[]"
      ]
     },
     "execution_count": 39,
     "metadata": {},
     "output_type": "execute_result"
    }
   ],
   "source": [
    "# 載入相關套件\n",
    "import requests\n",
    "from requests_html import HTML\n",
    "import pandas as pd\n",
    "import re\n",
    "\n",
    "# 輸入爬蟲網址與使用者資訊\n",
    "url = 'https://www.amazon.com/Best-Sellers-Computers-Accessories-Computer-Mice/zgbs/pc/11036491/ref=zg_bs_nav_pc_4_12879431'\n",
    "# 男生服飾\n",
    "\n",
    "# 加入使用者資訊(如使用什麼瀏覽器、作業系統...等資訊)模擬真實瀏覽網頁的情況\n",
    "headers = {'User-Agent': 'Mozilla/5.0 (Macintosh; Intel Mac OS X 10_11_5) AppleWebKit/537.36 (KHTML, like Gecko) Chrome/50.0.2661.102 Safari/537.36'}\n",
    "\n",
    "# 找出所有的商品連結\n",
    "resp = requests.get(url, headers=headers)\n",
    "html = HTML(html=resp.text)\n",
    "a = html.find('a.product-list-item')\n",
    "a"
   ]
  },
  {
   "cell_type": "code",
   "execution_count": 44,
   "metadata": {},
   "outputs": [
    {
     "data": {
      "text/plain": [
       "[]"
      ]
     },
     "execution_count": 44,
     "metadata": {},
     "output_type": "execute_result"
    }
   ],
   "source": [
    "a"
   ]
  },
  {
   "cell_type": "code",
   "execution_count": 30,
   "metadata": {
    "scrolled": true
   },
   "outputs": [
    {
     "name": "stdout",
     "output_type": "stream",
     "text": [
      "['https://www.amazon.com/Best-Sellers-Computers-Accessories-Computer-Keyboards/zgbs/pc/12879431/ref=zg_bs_pg_1?_encoding=UTF8&pg=1']\n"
     ]
    }
   ],
   "source": []
  },
  {
   "cell_type": "code",
   "execution_count": 17,
   "metadata": {},
   "outputs": [
    {
     "name": "stdout",
     "output_type": "stream",
     "text": [
      "{'https://shopping.pchome.com.tw', 'https://ecvip.pchome.com.tw/?m=myaccount&c=service&f=showSearchService', 'http://24h.pchome.com.tw/?mod=store&func=choice_buy&page_url=shopping&NO=D&C=D', 'https://ecvip.pchome.com.tw/web/coupon', 'http://faq.pchome.com.tw/faq_solution.html?q_id=16&c_nickname=member&f_id=4', 'https://ecssl.pchome.com.tw/sys/cflowex/index/staticPage/CLAUSE', 'https://ecvip.pchome.com.tw/', 'https://ecvip.pchome.com.tw/?0x3aeac70a06872cfa63d19a20ea6eaf67e2e2bd7c2e68123d2b5669f3bdd69b313d405cc47a96cac9', 'https://ecvip.pchome.com.tw/contact/', '//shopping.pchome.com.tw/sitemap/', 'https://ecvip.pchome.com.tw/?0xad70a21315391f5263d19a20ea6eaf679683275ee94981ab4d9ee8a8f55af4dbf93547f92611bcb319fe86d003de3ce7', '//24h.pchome.com.tw/?mod=store&func=choice_buy&page_url=shopping&NO=D&C=D', 'https://www.google.com.tw/chrome/browser/desktop/', '//ecvip.pchome.com.tw/web/pages/24hHelp.htm', 'http://www.pchome.com.tw', 'https://www.mozilla.org/zh-TW/firefox/new/', 'https://24h.pchome.com.tw'}\n",
      "{'https://shopping.pchome.com.tw', 'https://ecvip.pchome.com.tw/?m=myaccount&c=service&f=showSearchService', 'http://24h.pchome.com.tw/?mod=store&func=choice_buy&page_url=shopping&NO=D&C=D', 'https://ecvip.pchome.com.tw/web/coupon', 'http://faq.pchome.com.tw/faq_solution.html?q_id=16&c_nickname=member&f_id=4', 'https://ecssl.pchome.com.tw/sys/cflowex/index/staticPage/CLAUSE', 'https://ecvip.pchome.com.tw/', 'https://ecvip.pchome.com.tw/?0x3aeac70a06872cfa63d19a20ea6eaf67e2e2bd7c2e68123d2b5669f3bdd69b313d405cc47a96cac9', 'https://ecvip.pchome.com.tw/contact/', 'https://24h.pchome.com.tw/?mod=store&func=choice_buy&page_url=shopping&NO=D&C=D', 'https://ecvip.pchome.com.tw/?0xad70a21315391f5263d19a20ea6eaf679683275ee94981ab4d9ee8a8f55af4dbf93547f92611bcb319fe86d003de3ce7', 'https://ecvip.pchome.com.tw/web/pages/24hHelp.htm', 'https://www.google.com.tw/chrome/browser/desktop/', 'https://shopping.pchome.com.tw/sitemap/', 'http://www.pchome.com.tw', 'https://www.mozilla.org/zh-TW/firefox/new/', 'https://24h.pchome.com.tw'}\n"
     ]
    }
   ],
   "source": [
    "from requests_html import HTMLSession\n",
    "session = HTMLSession()\n",
    "\n",
    "r = session.get('https://24h.pchome.com.tw/store/DCAH87')\n",
    "\n",
    "# 获取页面上的所有链接。\n",
    "all_links =  r.html.links\n",
    "print(all_links)\n",
    "\n",
    "# 获取页面上的所有链接，以绝对路径的方式。\n",
    "all_absolute_links = r.html.absolute_links\n",
    "print(all_absolute_links)"
   ]
  },
  {
   "cell_type": "code",
   "execution_count": 7,
   "metadata": {},
   "outputs": [
    {
     "name": "stdout",
     "output_type": "stream",
     "text": [
      "研發投入逾GDP的2％ 捷克經濟穩外商青睞- Yahoo奇摩新聞\n",
      "set()\n",
      "商務與經貿| 捷克經濟文化辦事處 - MZV\n",
      "set()\n",
      "2019年第2季捷克經濟成長率(折成年率)：3% | Stock-ai，自由的 ...\n",
      "set()\n",
      "捷克 - 經濟部國際貿易局::: 各國政經情勢\n",
      "set()\n",
      "首頁- 駐捷克台北經濟文化代表處Taipei Economic and Cultural ...\n",
      "set()\n",
      "Czech Economic and Cultural Office in Taipei 捷克經濟文化 ...\n",
      "set()\n",
      "捷克經濟文化辦事處CZECH ECONOMIC AND CULTURAL ...\n",
      "set()\n",
      "捷克2020年經濟成長放緩至2.0％ | 商情| Taiwantrade 台灣經貿網\n",
      "set()\n",
      "捷克Czech Republic - 全球政府採購商機網\n",
      "set()\n",
      "捷克捷克經濟、債信評等概況 - 貿易俱樂部\n",
      "set()\n"
     ]
    }
   ],
   "source": [
    "from requests_html import HTMLSession\n",
    "\n",
    "session = HTMLSession()\n",
    "\n",
    "r = session.get(\"https://www.google.com/search?q=%E6%8D%B7%E5%85%8B%E7%B6%93%E6%BF%9F2019&oq=&sourceid=chrome&ie=UTF-8\")\n",
    "\n",
    "# 通过CSS找到新闻标签\n",
    "news = r.html.find('.S3Uucc')\n",
    "\n",
    "for new in news:\n",
    "    print(new.text)  # 获得新闻标题\n",
    "    print(new.absolute_links)  # 获得新闻链接"
   ]
  },
  {
   "cell_type": "code",
   "execution_count": 53,
   "metadata": {
    "scrolled": true
   },
   "outputs": [
    {
     "name": "stdout",
     "output_type": "stream",
     "text": [
      "http://pic1.win4000.com/wallpaper/2019-12-03/5de5f6376166e.jpg2020年创意数字高清桌面壁纸\n"
     ]
    },
    {
     "ename": "FileNotFoundError",
     "evalue": "[Errno 2] No such file or directory: './bg/2020年创意数字高清桌面壁纸.jpg'",
     "output_type": "error",
     "traceback": [
      "\u001b[1;31m---------------------------------------------------------------------------\u001b[0m",
      "\u001b[1;31mFileNotFoundError\u001b[0m                         Traceback (most recent call last)",
      "\u001b[1;32m<ipython-input-53-d2416a7200b5>\u001b[0m in \u001b[0;36m<module>\u001b[1;34m\u001b[0m\n\u001b[0;32m     25\u001b[0m         \u001b[0mtitle\u001b[0m \u001b[1;33m=\u001b[0m \u001b[0mitem_img\u001b[0m\u001b[1;33m.\u001b[0m\u001b[0mattrs\u001b[0m\u001b[1;33m[\u001b[0m\u001b[1;34m'title'\u001b[0m\u001b[1;33m]\u001b[0m\u001b[1;33m\u001b[0m\u001b[1;33m\u001b[0m\u001b[0m\n\u001b[0;32m     26\u001b[0m         \u001b[0mprint\u001b[0m\u001b[1;33m(\u001b[0m\u001b[0murl\u001b[0m\u001b[1;33m+\u001b[0m\u001b[0mtitle\u001b[0m\u001b[1;33m)\u001b[0m\u001b[1;33m\u001b[0m\u001b[1;33m\u001b[0m\u001b[0m\n\u001b[1;32m---> 27\u001b[1;33m         \u001b[0msave_image\u001b[0m\u001b[1;33m(\u001b[0m\u001b[0murl\u001b[0m\u001b[1;33m,\u001b[0m \u001b[0mtitle\u001b[0m\u001b[1;33m)\u001b[0m\u001b[1;33m\u001b[0m\u001b[1;33m\u001b[0m\u001b[0m\n\u001b[0m",
      "\u001b[1;32m<ipython-input-53-d2416a7200b5>\u001b[0m in \u001b[0;36msave_image\u001b[1;34m(url, title)\u001b[0m\n\u001b[0;32m      6\u001b[0m \u001b[1;32mdef\u001b[0m \u001b[0msave_image\u001b[0m\u001b[1;33m(\u001b[0m\u001b[0murl\u001b[0m\u001b[1;33m,\u001b[0m \u001b[0mtitle\u001b[0m\u001b[1;33m)\u001b[0m\u001b[1;33m:\u001b[0m\u001b[1;33m\u001b[0m\u001b[1;33m\u001b[0m\u001b[0m\n\u001b[0;32m      7\u001b[0m     \u001b[0mimg_response\u001b[0m \u001b[1;33m=\u001b[0m \u001b[0mrequests\u001b[0m\u001b[1;33m.\u001b[0m\u001b[0mget\u001b[0m\u001b[1;33m(\u001b[0m\u001b[0murl\u001b[0m\u001b[1;33m)\u001b[0m\u001b[1;33m\u001b[0m\u001b[1;33m\u001b[0m\u001b[0m\n\u001b[1;32m----> 8\u001b[1;33m     \u001b[1;32mwith\u001b[0m \u001b[0mopen\u001b[0m\u001b[1;33m(\u001b[0m\u001b[1;34m'./bg/'\u001b[0m\u001b[1;33m+\u001b[0m\u001b[0mtitle\u001b[0m\u001b[1;33m+\u001b[0m\u001b[1;34m'.jpg'\u001b[0m\u001b[1;33m,\u001b[0m \u001b[1;34m'wb'\u001b[0m\u001b[1;33m)\u001b[0m \u001b[1;32mas\u001b[0m \u001b[0mfile\u001b[0m\u001b[1;33m:\u001b[0m\u001b[1;33m\u001b[0m\u001b[1;33m\u001b[0m\u001b[0m\n\u001b[0m\u001b[0;32m      9\u001b[0m         \u001b[0mfile\u001b[0m\u001b[1;33m.\u001b[0m\u001b[0mwrite\u001b[0m\u001b[1;33m(\u001b[0m\u001b[0mimg_response\u001b[0m\u001b[1;33m.\u001b[0m\u001b[0mcontent\u001b[0m\u001b[1;33m)\u001b[0m\u001b[1;33m\u001b[0m\u001b[1;33m\u001b[0m\u001b[0m\n\u001b[0;32m     10\u001b[0m \u001b[1;33m\u001b[0m\u001b[0m\n",
      "\u001b[1;31mFileNotFoundError\u001b[0m: [Errno 2] No such file or directory: './bg/2020年创意数字高清桌面壁纸.jpg'"
     ]
    }
   ],
   "source": [
    "from requests_html import HTMLSession\n",
    "import requests\n",
    "\n",
    "\n",
    "# 保存图片到bg/目录\n",
    "def save_image(url, title):\n",
    "    img_response = requests.get(url)\n",
    "    with open('./bg/'+title+'.jpg', 'wb') as file:\n",
    "        file.write(img_response.content)\n",
    "\n",
    "# 背景图片地址，这里选择1920*1080的背景图片\n",
    "url = \"http://www.win4000.com/wallpaper_2358_0_10_1.html\"\n",
    "\n",
    "session = HTMLSession()\n",
    "r = session.get(url)\n",
    "\n",
    "# 查找页面中背景图，找到链接，访问查看大图，并获取大图地址\n",
    "items_img = r.html.find('ul.clearfix > li > a')\n",
    "for img in items_img:\n",
    "    img_url = img.attrs['href']\n",
    "    if \"/wallpaper_detail\" in img_url:\n",
    "        r = session.get(img_url)\n",
    "        item_img = r.html.find('img.pic-large', first=True)\n",
    "        url = item_img.attrs['src']\n",
    "        title = item_img.attrs['title']\n",
    "        print(url+title)\n",
    "        save_image(url, title)"
   ]
  },
  {
   "cell_type": "markdown",
   "metadata": {},
   "source": [
    "構造一個訪問python.org的GET請求，使用Requests："
   ]
  },
  {
   "cell_type": "code",
   "execution_count": 47,
   "metadata": {},
   "outputs": [
    {
     "data": {
      "text/plain": [
       "<Response [200]>"
      ]
     },
     "execution_count": 47,
     "metadata": {},
     "output_type": "execute_result"
    }
   ],
   "source": [
    "from requests_html import HTMLSession\n",
    "session = HTMLSession()\n",
    "\n",
    "r = session.get('https://www.amazon.com/')\n",
    "r"
   ]
  },
  {
   "cell_type": "markdown",
   "metadata": {},
   "source": [
    "獲取本頁面所有的鏈接並返回一個列表，保留了網址在頁面中原本的形式（已經自動去掉了html標籤）："
   ]
  },
  {
   "cell_type": "code",
   "execution_count": 48,
   "metadata": {
    "scrolled": true
   },
   "outputs": [
    {
     "data": {
      "text/plain": [
       "{'https://www.amazon.com/gp/help/customer/display.html/ref=footer_cou?ie=UTF8&nodeId=508088',\n",
       " 'https://www.amazon.com/gp/help/customer/display.html/ref=footer_privacy?ie=UTF8&nodeId=468496'}"
      ]
     },
     "execution_count": 48,
     "metadata": {},
     "output_type": "execute_result"
    }
   ],
   "source": [
    "r.html.links"
   ]
  },
  {
   "cell_type": "markdown",
   "metadata": {},
   "source": [
    "獲取本頁面所有的鏈接並返回一個列表，自動將URL轉換為絕對路徑形式（已經自動去掉了html標籤）："
   ]
  },
  {
   "cell_type": "code",
   "execution_count": 49,
   "metadata": {},
   "outputs": [
    {
     "data": {
      "text/plain": [
       "{'https://www.amazon.com/gp/help/customer/display.html/ref=footer_cou?ie=UTF8&nodeId=508088',\n",
       " 'https://www.amazon.com/gp/help/customer/display.html/ref=footer_privacy?ie=UTF8&nodeId=468496'}"
      ]
     },
     "execution_count": 49,
     "metadata": {},
     "output_type": "execute_result"
    }
   ],
   "source": [
    "r.html.absolute_links"
   ]
  },
  {
   "cell_type": "markdown",
   "metadata": {},
   "source": [
    "通過css選擇器選取一個Element對象"
   ]
  },
  {
   "cell_type": "code",
   "execution_count": 27,
   "metadata": {},
   "outputs": [],
   "source": [
    "about = r.html.find('.limit-2-line', first=True)"
   ]
  },
  {
   "cell_type": "markdown",
   "metadata": {},
   "source": [
    "獲取一個元素對象內的文本內容"
   ]
  },
  {
   "cell_type": "code",
   "execution_count": 28,
   "metadata": {},
   "outputs": [
    {
     "name": "stdout",
     "output_type": "stream",
     "text": [
      "【增量版+30g】日本珪藻土無痕防水牆面修復膏280克\n"
     ]
    }
   ],
   "source": [
    "print(about.text)"
   ]
  },
  {
   "cell_type": "markdown",
   "metadata": {},
   "source": [
    "獲取一個元素對象的所有屬性"
   ]
  },
  {
   "cell_type": "code",
   "execution_count": 29,
   "metadata": {},
   "outputs": [
    {
     "data": {
      "text/plain": [
       "{'class': ('product-name', 'limit-2-line')}"
      ]
     },
     "execution_count": 29,
     "metadata": {},
     "output_type": "execute_result"
    }
   ],
   "source": [
    "about.attrs"
   ]
  },
  {
   "cell_type": "markdown",
   "metadata": {},
   "source": [
    "渲染出一個Element對象的HTML內容："
   ]
  },
  {
   "cell_type": "code",
   "execution_count": 30,
   "metadata": {},
   "outputs": [
    {
     "data": {
      "text/plain": [
       "'<div class=\"product-name limit-2-line\">【增量版+30g】日本珪藻土無痕防水牆面修復膏280克</div>'"
      ]
     },
     "execution_count": 30,
     "metadata": {},
     "output_type": "execute_result"
    }
   ],
   "source": [
    "about.html"
   ]
  },
  {
   "cell_type": "markdown",
   "metadata": {},
   "source": [
    "獲取元素對象內部的特定子元素對象，返回列表："
   ]
  },
  {
   "cell_type": "code",
   "execution_count": 33,
   "metadata": {},
   "outputs": [
    {
     "data": {
      "text/plain": [
       "[<Element 'div' class=('product-name', 'limit-2-line')>]"
      ]
     },
     "execution_count": 33,
     "metadata": {},
     "output_type": "execute_result"
    }
   ],
   "source": [
    "about.find('div')"
   ]
  },
  {
   "cell_type": "markdown",
   "metadata": {},
   "source": [
    "發現一個元素對象內的絕對路徑鏈接"
   ]
  },
  {
   "cell_type": "code",
   "execution_count": 34,
   "metadata": {},
   "outputs": [
    {
     "data": {
      "text/plain": [
       "set()"
      ]
     },
     "execution_count": 34,
     "metadata": {},
     "output_type": "execute_result"
    }
   ],
   "source": [
    "about.absolute_links"
   ]
  },
  {
   "cell_type": "code",
   "execution_count": null,
   "metadata": {},
   "outputs": [],
   "source": []
  }
 ],
 "metadata": {
  "kernelspec": {
   "display_name": "Python 3",
   "language": "python",
   "name": "python3"
  },
  "language_info": {
   "codemirror_mode": {
    "name": "ipython",
    "version": 3
   },
   "file_extension": ".py",
   "mimetype": "text/x-python",
   "name": "python",
   "nbconvert_exporter": "python",
   "pygments_lexer": "ipython3",
   "version": "3.7.1"
  }
 },
 "nbformat": 4,
 "nbformat_minor": 2
}
