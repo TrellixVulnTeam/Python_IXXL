{
 "cells": [
  {
   "cell_type": "code",
   "execution_count": 1,
   "metadata": {},
   "outputs": [
    {
     "data": {
      "text/plain": [
       "<Figure size 600x400 with 2 Axes>"
      ]
     },
     "metadata": {},
     "output_type": "display_data"
    }
   ],
   "source": [
    "#Ch14_1_2\n",
    "import matplotlib.pyplot as plt\n",
    "import seaborn as sns\n",
    "import math\n",
    "\n",
    "x = [0,0.5,1,1.5,2,2.5,3,3.5,4,4.5,5,\n",
    "     5.5,6,6.5,7,7.5,8,8.5,9,9.5,10]\n",
    "sinus = [math.sin(v) for v in x]\n",
    "cosinus = [math.cos(v) for v in x]\n",
    "\n",
    "sns.set()\n",
    "fig, axes = plt.subplots(1,2, figsize=(6,4))\n",
    "ax1 = sns.lineplot(x=x, y=sinus, ax=axes[0])\n",
    "ax2 = sns.scatterplot(x=x, y=cosinus, ax=axes[1])\n",
    "plt.show()"
   ]
  },
  {
   "cell_type": "code",
   "execution_count": 2,
   "metadata": {},
   "outputs": [
    {
     "name": "stdout",
     "output_type": "stream",
     "text": [
      "     x       sin       cos\n",
      "0  0.0  0.000000  1.000000\n",
      "1  0.5  0.479426  0.877583\n",
      "2  1.0  0.841471  0.540302\n",
      "3  1.5  0.997495  0.070737\n",
      "4  2.0  0.909297 -0.416147\n",
      "     x variable     value\n",
      "0  0.0      sin  0.000000\n",
      "1  0.5      sin  0.479426\n",
      "2  1.0      sin  0.841471\n",
      "3  1.5      sin  0.997495\n",
      "4  2.0      sin  0.909297\n"
     ]
    },
    {
     "data": {
      "image/png": "[encoded data removed]",
      "text/plain": [
       "<Figure size 720x360 with 2 Axes>"
      ]
     },
     "metadata": {},
     "output_type": "display_data"
    }
   ],
   "source": [
    "#Ch14_1_2a\n",
    "import matplotlib.pyplot as plt\n",
    "import seaborn as sns\n",
    "import pandas as pd\n",
    "import math\n",
    "\n",
    "x = [0,0.5,1,1.5,2,2.5,3,3.5,4,4.5,5,\n",
    "     5.5,6,6.5,7,7.5,8,8.5,9,9.5,10]\n",
    "sinus = [math.sin(v) for v in x]\n",
    "cosinus = [math.cos(v) for v in x]\n",
    "\n",
    "df = pd.DataFrame()\n",
    "df[\"x\"] = x\n",
    "df[\"sin\"]= sinus\n",
    "df[\"cos\"] = cosinus\n",
    "print(df.head())\n",
    "df.head().to_html(\"Ch14_1_2a_01.html\")\n",
    "df2 = pd.melt(df, id_vars=['x'], value_vars=['sin', 'cos'])\n",
    "print(df2.head())\n",
    "df2.head().to_html(\"Ch14_1_2a_02.html\")\n",
    "\n",
    "sns.set()\n",
    "sns.relplot(x=\"x\", y=\"value\", kind=\"scatter\", col=\"variable\", data=df2)\n",
    "plt.show()\n"
   ]
  },
  {
   "cell_type": "code",
   "execution_count": null,
   "metadata": {},
   "outputs": [],
   "source": [
    "#Ch14_1_3\n",
    "import matplotlib.pyplot as plt\n",
    "import seaborn as sns\n",
    "import math\n",
    "\n",
    "x = [0,0.5,1,1.5,2,2.5,3,3.5,4,4.5,5,\n",
    "     5.5,6,6.5,7,7.5,8,8.5,9,9.5,10]\n",
    "sinus = [math.sin(v) for v in x]\n",
    "\n",
    "sns.set_style(\"whitegrid\")\n",
    "sns.lineplot(x=x, y=sinus)\n",
    "plt.show()\n"
   ]
  },
  {
   "cell_type": "code",
   "execution_count": null,
   "metadata": {},
   "outputs": [],
   "source": [
    "#Ch14_1_3a\n",
    "import matplotlib.pyplot as plt\n",
    "import seaborn as sns\n",
    "import math\n",
    "\n",
    "x = [0,0.5,1,1.5,2,2.5,3,3.5,4,4.5,5,\n",
    "     5.5,6,6.5,7,7.5,8,8.5,9,9.5,10]\n",
    "sinus = [math.sin(v) for v in x]\n",
    "\n",
    "sns.set_style(\"whitegrid\")\n",
    "sns.lineplot(x=x, y=sinus)\n",
    "sns.despine()\n",
    "plt.show()\n"
   ]
  },
  {
   "cell_type": "code",
   "execution_count": null,
   "metadata": {},
   "outputs": [],
   "source": [
    "#Ch14_1_3b\n",
    "import matplotlib.pyplot as plt\n",
    "import seaborn as sns\n",
    "import math\n",
    "\n",
    "x = [0,0.5,1,1.5,2,2.5,3,3.5,4,4.5,5,\n",
    "     5.5,6,6.5,7,7.5,8,8.5,9,9.5,10]\n",
    "sinus = [math.sin(v) for v in x]\n",
    "\n",
    "sns.set_style(\"darkgrid\", {\"axes.axisbelow\": False})\n",
    "sns.lineplot(x=x, y=sinus)\n",
    "plt.show()\n",
    "\n",
    "print(sns.axes_style())"
   ]
  },
  {
   "cell_type": "code",
   "execution_count": null,
   "metadata": {},
   "outputs": [],
   "source": [
    "#Ch14_1_3c\n",
    "import matplotlib.pyplot as plt\n",
    "import seaborn as sns\n",
    "import math\n",
    "\n",
    "x = [0,0.5,1,1.5,2,2.5,3,3.5,4,4.5,5,\n",
    "     5.5,6,6.5,7,7.5,8,8.5,9,9.5,10]\n",
    "sinus = [math.sin(v) for v in x]\n",
    "\n",
    "sns.set_style(\"darkgrid\", {\"axes.axisbelow\": False})\n",
    "sns.lineplot(x=x, y=sinus)\n",
    "plt.title(\"Sinus Wave\")\n",
    "plt.xlim(-2, 12)\n",
    "plt.ylim(-2, 2)\n",
    "plt.xlabel(\"x\")\n",
    "plt.ylabel(\"sin(x)\")\n",
    "plt.show()\n"
   ]
  },
  {
   "cell_type": "code",
   "execution_count": null,
   "metadata": {},
   "outputs": [],
   "source": [
    "#Ch14_1_3d\n",
    "import matplotlib.pyplot as plt\n",
    "import seaborn as sns\n",
    "import pandas as pd\n",
    "import math\n",
    "\n",
    "x = [0,0.5,1,1.5,2,2.5,3,3.5,4,4.5,5,\n",
    "     5.5,6,6.5,7,7.5,8,8.5,9,9.5,10]\n",
    "sinus = [math.sin(v) for v in x]\n",
    "cosinus = [math.cos(v) for v in x]\n",
    "\n",
    "df = pd.DataFrame()\n",
    "df[\"x\"] = x\n",
    "df[\"sin\"]= sinus\n",
    "df[\"cos\"] = cosinus\n",
    "print(df.head())\n",
    "df.head().to_html(\"Ch14_1_2a_01.html\")\n",
    "df2 = pd.melt(df, id_vars=['x'], value_vars=['sin', 'cos'])\n",
    "print(df2.head())\n",
    "df2.head().to_html(\"Ch14_1_2a_02.html\")\n",
    "\n",
    "sns.set()\n",
    "sns.relplot(x=\"x\", y=\"value\", kind=\"scatter\", col=\"variable\",\n",
    "            height=4, aspect=1.2, data=df2)\n",
    "plt.show()\n"
   ]
  },
  {
   "cell_type": "code",
   "execution_count": null,
   "metadata": {},
   "outputs": [],
   "source": [
    "#Ch14_1_4\n",
    "import seaborn as sns\n",
    "\n",
    "df = sns.load_dataset(\"tips\")\n",
    "print(df.head())\n",
    "df.head().to_html(\"Ch14_1_4.html\")\n",
    "\n",
    "\n"
   ]
  },
  {
   "cell_type": "code",
   "execution_count": null,
   "metadata": {},
   "outputs": [],
   "source": [
    "#Ch14_1_4a\n",
    "import seaborn as sns\n",
    "\n",
    "print(sns.get_dataset_names())\n"
   ]
  },
  {
   "cell_type": "code",
   "execution_count": null,
   "metadata": {},
   "outputs": [],
   "source": [
    "#Ch14_2_1\n",
    "import seaborn as sns\n",
    "import matplotlib.pyplot as plt\n",
    "\n",
    "df = sns.load_dataset(\"tips\")\n",
    "\n",
    "sns.set()\n",
    "sns.relplot(x=\"total_bill\", y=\"tip\", data=df)\n",
    "plt.show()\n",
    "\n"
   ]
  },
  {
   "cell_type": "code",
   "execution_count": null,
   "metadata": {},
   "outputs": [],
   "source": [
    "#Ch14_2_1a\n",
    "import seaborn as sns\n",
    "import matplotlib.pyplot as plt\n",
    "\n",
    "df = sns.load_dataset(\"tips\")\n",
    "\n",
    "sns.set()\n",
    "sns.relplot(x=\"total_bill\", y=\"tip\", hue=\"smoker\", data=df)\n",
    "plt.show()\n",
    "\n"
   ]
  },
  {
   "cell_type": "code",
   "execution_count": null,
   "metadata": {},
   "outputs": [],
   "source": [
    "#Ch14_2_1b\n",
    "import seaborn as sns\n",
    "import matplotlib.pyplot as plt\n",
    "\n",
    "df = sns.load_dataset(\"tips\")\n",
    "\n",
    "sns.set()\n",
    "sns.relplot(x=\"total_bill\", y=\"tip\", hue=\"smoker\",\n",
    "            style=\"smoker\", data=df)\n",
    "plt.show()\n",
    "\n"
   ]
  },
  {
   "cell_type": "code",
   "execution_count": null,
   "metadata": {},
   "outputs": [],
   "source": [
    "#Ch14_2_2\n",
    "import seaborn as sns\n",
    "import matplotlib.pyplot as plt\n",
    "import pandas as pd\n",
    "\n",
    "df = pd.read_csv(\"Kobe_stats.csv\")\n",
    "data = pd.DataFrame()\n",
    "data[\"Season\"] = pd.to_datetime(df[\"Season\"])\n",
    "data[\"PTS\"] = df[\"PTS\"]\n",
    "\n",
    "sns.set()\n",
    "sns.relplot(x=\"Season\", y=\"PTS\", data=data, kind=\"line\")\n",
    "plt.xlim(\"1995\", \"2015\")\n",
    "plt.show()\n",
    "\n"
   ]
  },
  {
   "cell_type": "code",
   "execution_count": null,
   "metadata": {},
   "outputs": [],
   "source": [
    "#Ch14_2_2a\n",
    "import seaborn as sns\n",
    "import matplotlib.pyplot as plt\n",
    "\n",
    "df = sns.load_dataset(\"fmri\")\n",
    "\n",
    "sns.set()\n",
    "sns.relplot(x=\"timepoint\", y=\"signal\", data=df, kind=\"line\")\n",
    "\n",
    "sns.relplot(x=\"timepoint\", y=\"signal\", ci=None, data=df, kind=\"line\")\n",
    "sns.relplot(x=\"timepoint\", y=\"signal\", ci=\"sd\", data=df, kind=\"line\")\n",
    "\n",
    "sns.relplot(x=\"timepoint\", y=\"signal\", \n",
    "            estimator=None, data=df, kind=\"line\")\n",
    "\n",
    "plt.show()\n",
    "\n"
   ]
  },
  {
   "cell_type": "code",
   "execution_count": null,
   "metadata": {},
   "outputs": [],
   "source": [
    "#Ch14_3_1\n",
    "import seaborn as sns\n",
    "import matplotlib.pyplot as plt\n",
    "\n",
    "df = sns.load_dataset(\"tips\")\n",
    "\n",
    "sns.set()\n",
    "sns.distplot(df[\"total_bill\"], kde=False)\n",
    "plt.show()\n",
    "\n"
   ]
  },
  {
   "cell_type": "code",
   "execution_count": null,
   "metadata": {},
   "outputs": [],
   "source": [
    "#Ch14_3_1a\n",
    "import seaborn as sns\n",
    "import matplotlib.pyplot as plt\n",
    "\n",
    "df = sns.load_dataset(\"tips\")\n",
    "\n",
    "sns.set()\n",
    "sns.distplot(df[\"total_bill\"], kde=False)\n",
    "sns.distplot(df[\"total_bill\"], kde=False, bins=20)\n",
    "sns.distplot(df[\"total_bill\"], kde=False, bins=30)\n",
    "plt.show()\n",
    "\n"
   ]
  },
  {
   "cell_type": "code",
   "execution_count": null,
   "metadata": {},
   "outputs": [],
   "source": [
    "#Ch14_3_1b\n",
    "import seaborn as sns\n",
    "import matplotlib.pyplot as plt\n",
    "\n",
    "df = sns.load_dataset(\"tips\")\n",
    "\n",
    "sns.set()\n",
    "sns.distplot(df[\"total_bill\"], hist=False)\n",
    "plt.show()\n",
    "\n"
   ]
  },
  {
   "cell_type": "code",
   "execution_count": null,
   "metadata": {},
   "outputs": [],
   "source": [
    "#Ch14_3_1c\n",
    "import seaborn as sns\n",
    "import matplotlib.pyplot as plt\n",
    "\n",
    "df = sns.load_dataset(\"tips\")\n",
    "\n",
    "sns.set()\n",
    "sns.kdeplot(df[\"total_bill\"])\n",
    "sns.kdeplot(df[\"total_bill\"], bw=2, label=\"bw: 2\")\n",
    "sns.kdeplot(df[\"total_bill\"], bw=5, label=\"bw: 5\")\n",
    "plt.show()\n",
    "\n"
   ]
  },
  {
   "cell_type": "code",
   "execution_count": null,
   "metadata": {},
   "outputs": [],
   "source": [
    "#Ch14_3_1d\n",
    "import seaborn as sns\n",
    "import matplotlib.pyplot as plt\n",
    "\n",
    "df = sns.load_dataset(\"tips\")\n",
    "\n",
    "sns.set()\n",
    "sns.distplot(df[\"total_bill\"])\n",
    "plt.show()\n",
    "\n"
   ]
  },
  {
   "cell_type": "code",
   "execution_count": null,
   "metadata": {},
   "outputs": [],
   "source": [
    "#Ch14_3_1e\n",
    "import seaborn as sns\n",
    "import matplotlib.pyplot as plt\n",
    "\n",
    "df = sns.load_dataset(\"tips\")\n",
    "\n",
    "sns.set()\n",
    "sns.distplot(df[\"total_bill\"], rug=True)\n",
    "plt.show()\n",
    "\n"
   ]
  },
  {
   "cell_type": "code",
   "execution_count": null,
   "metadata": {},
   "outputs": [],
   "source": [
    "#Ch14_3_2\n",
    "import seaborn as sns\n",
    "\n",
    "df = sns.load_dataset(\"iris\")\n",
    "print(df.head())\n",
    "df.head().to_html(\"Ch14_3_2.html\")\n"
   ]
  },
  {
   "cell_type": "code",
   "execution_count": null,
   "metadata": {},
   "outputs": [],
   "source": [
    "#Ch14_3_2a\n",
    "import seaborn as sns\n",
    "import matplotlib.pyplot as plt\n",
    "\n",
    "df = sns.load_dataset(\"iris\")\n",
    "\n",
    "sns.set()\n",
    "sns.jointplot(x=\"petal_length\", y=\"petal_width\", data=df)\n",
    "plt.show()\n",
    "\n"
   ]
  },
  {
   "cell_type": "code",
   "execution_count": null,
   "metadata": {},
   "outputs": [],
   "source": [
    "#Ch14_3_2b\n",
    "import seaborn as sns\n",
    "import matplotlib.pyplot as plt\n",
    "\n",
    "df = sns.load_dataset(\"iris\")\n",
    "\n",
    "sns.set()\n",
    "sns.jointplot(x=\"petal_length\", y=\"petal_width\", kind=\"hex\", data=df)\n",
    "plt.show()\n",
    "\n"
   ]
  },
  {
   "cell_type": "code",
   "execution_count": null,
   "metadata": {},
   "outputs": [],
   "source": [
    "#Ch14_3_2c\n",
    "import seaborn as sns\n",
    "import matplotlib.pyplot as plt\n",
    "\n",
    "df = sns.load_dataset(\"iris\")\n",
    "\n",
    "sns.set()\n",
    "sns.jointplot(x=\"petal_length\", y=\"petal_width\", kind=\"kde\", data=df)\n",
    "plt.show()\n",
    "\n"
   ]
  },
  {
   "cell_type": "code",
   "execution_count": null,
   "metadata": {},
   "outputs": [],
   "source": [
    "#Ch14_3_3\n",
    "import seaborn as sns\n",
    "import matplotlib.pyplot as plt\n",
    "\n",
    "df = sns.load_dataset(\"iris\")\n",
    "\n",
    "sns.set()\n",
    "sns.pairplot(df)\n",
    "plt.show()\n",
    "\n"
   ]
  },
  {
   "cell_type": "code",
   "execution_count": null,
   "metadata": {},
   "outputs": [],
   "source": [
    "#Ch14_3_3a\n",
    "import seaborn as sns\n",
    "import matplotlib.pyplot as plt\n",
    "\n",
    "df = sns.load_dataset(\"iris\")\n",
    "\n",
    "sns.set()\n",
    "sns.pairplot(df, kind=\"scatter\", diag_kind=\"kde\",\n",
    "             hue=\"species\", palette=\"husl\")\n",
    "plt.show()\n",
    "\n"
   ]
  },
  {
   "cell_type": "code",
   "execution_count": null,
   "metadata": {},
   "outputs": [],
   "source": [
    "#Ch14_4_1\n",
    "import seaborn as sns\n",
    "import matplotlib.pyplot as plt\n",
    "\n",
    "df = sns.load_dataset(\"iris\")\n",
    "\n",
    "sns.set()\n",
    "sns.stripplot(x=\"species\", y=\"sepal_length\", data=df)\n",
    "plt.show()\n",
    "\n",
    "\n"
   ]
  },
  {
   "cell_type": "code",
   "execution_count": null,
   "metadata": {},
   "outputs": [],
   "source": [
    "#Ch14_4_1a\n",
    "import seaborn as sns\n",
    "import matplotlib.pyplot as plt\n",
    "\n",
    "df = sns.load_dataset(\"iris\")\n",
    "\n",
    "sns.set()\n",
    "sns.stripplot(x=\"species\", y=\"sepal_length\", jitter=False, data=df)\n",
    "plt.show()\n",
    "\n",
    "\n"
   ]
  },
  {
   "cell_type": "code",
   "execution_count": null,
   "metadata": {},
   "outputs": [],
   "source": [
    "#Ch14_4_1b\n",
    "import seaborn as sns\n",
    "import matplotlib.pyplot as plt\n",
    "\n",
    "df = sns.load_dataset(\"iris\")\n",
    "\n",
    "sns.set()\n",
    "sns.swarmplot(x=\"species\", y=\"sepal_length\", data=df)\n",
    "plt.show()\n",
    "\n",
    "\n"
   ]
  },
  {
   "cell_type": "code",
   "execution_count": null,
   "metadata": {},
   "outputs": [],
   "source": [
    "#Ch14_4_2\n",
    "import seaborn as sns\n",
    "import matplotlib.pyplot as plt\n",
    "\n",
    "df = sns.load_dataset(\"iris\")\n",
    "\n",
    "sns.set()\n",
    "sns.boxplot(x=\"species\", y=\"petal_length\", data=df)\n",
    "plt.show()\n",
    "\n",
    "\n"
   ]
  },
  {
   "cell_type": "code",
   "execution_count": null,
   "metadata": {},
   "outputs": [],
   "source": [
    "#Ch14_4_2a\n",
    "import seaborn as sns\n",
    "import matplotlib.pyplot as plt\n",
    "\n",
    "df = sns.load_dataset(\"tips\")\n",
    "\n",
    "sns.set()\n",
    "sns.violinplot(x=\"day\", y=\"total_bill\", data=df)\n",
    "plt.show()\n",
    "\n",
    "\n"
   ]
  },
  {
   "cell_type": "code",
   "execution_count": null,
   "metadata": {},
   "outputs": [],
   "source": [
    "#Ch14_4_2b\n",
    "import seaborn as sns\n",
    "import matplotlib.pyplot as plt\n",
    "\n",
    "df = sns.load_dataset(\"tips\")\n",
    "\n",
    "sns.set()\n",
    "sns.violinplot(x=\"day\", y=\"total_bill\", hue=\"sex\", data=df)\n",
    "plt.show()\n",
    "\n",
    "\n"
   ]
  },
  {
   "cell_type": "code",
   "execution_count": null,
   "metadata": {},
   "outputs": [],
   "source": [
    "#Ch14_4_2c\n",
    "import seaborn as sns\n",
    "import matplotlib.pyplot as plt\n",
    "\n",
    "df = sns.load_dataset(\"tips\")\n",
    "\n",
    "sns.set()\n",
    "sns.violinplot(x=\"day\", y=\"total_bill\", hue=\"sex\", \n",
    "               split=True, data=df)\n",
    "plt.show()\n",
    "\n",
    "\n"
   ]
  },
  {
   "cell_type": "code",
   "execution_count": null,
   "metadata": {},
   "outputs": [],
   "source": [
    "#Ch14_4_3\n",
    "import seaborn as sns\n",
    "import matplotlib.pyplot as plt\n",
    "\n",
    "df = sns.load_dataset(\"tips\")\n",
    "\n",
    "sns.set()\n",
    "sns.barplot(x=\"sex\", y=\"total_bill\", hue=\"day\", data=df)\n",
    "plt.show()\n",
    "\n",
    "\n"
   ]
  },
  {
   "cell_type": "code",
   "execution_count": null,
   "metadata": {},
   "outputs": [],
   "source": [
    "#Ch14_4_3a\n",
    "import seaborn as sns\n",
    "import matplotlib.pyplot as plt\n",
    "\n",
    "df = sns.load_dataset(\"tips\")\n",
    "\n",
    "sns.set()\n",
    "sns.countplot(x=\"sex\", data=df)\n",
    "plt.show()\n",
    "\n",
    "\n"
   ]
  },
  {
   "cell_type": "code",
   "execution_count": null,
   "metadata": {},
   "outputs": [],
   "source": [
    "#Ch14_4_3b\n",
    "import seaborn as sns\n",
    "import matplotlib.pyplot as plt\n",
    "\n",
    "df = sns.load_dataset(\"tips\")\n",
    "\n",
    "sns.set()\n",
    "sns.pointplot(x=\"sex\", y=\"total_bill\", hue=\"day\", data=df)\n",
    "plt.show()\n",
    "\n",
    "\n"
   ]
  },
  {
   "cell_type": "code",
   "execution_count": null,
   "metadata": {},
   "outputs": [],
   "source": [
    "#Ch14_4_4\n",
    "import seaborn as sns\n",
    "import matplotlib.pyplot as plt\n",
    "\n",
    "df = sns.load_dataset(\"tips\")\n",
    "\n",
    "sns.set()\n",
    "sns.catplot(x=\"day\", y=\"total_bill\", data=df,\n",
    "               kind=\"bar\", hue=\"sex\")\n",
    "plt.show()\n",
    "\n",
    "\n"
   ]
  },
  {
   "cell_type": "code",
   "execution_count": null,
   "metadata": {},
   "outputs": [],
   "source": [
    "#Ch14_4_4a\n",
    "import seaborn as sns\n",
    "import matplotlib.pyplot as plt\n",
    "\n",
    "df = sns.load_dataset(\"tips\")\n",
    "\n",
    "sns.set()\n",
    "sns.catplot(x=\"day\", y=\"total_bill\", data=df,\n",
    "               kind=\"bar\", col=\"sex\")\n",
    "plt.show()\n",
    "\n",
    "\n"
   ]
  },
  {
   "cell_type": "code",
   "execution_count": null,
   "metadata": {},
   "outputs": [],
   "source": [
    "#Ch14_4_4b\n",
    "import seaborn as sns\n",
    "import matplotlib.pyplot as plt\n",
    "\n",
    "df = sns.load_dataset(\"tips\")\n",
    "\n",
    "sns.set()\n",
    "sns.catplot(x=\"sex\", y=\"total_bill\", data=df,\n",
    "               kind=\"bar\", col=\"day\", col_wrap=2)\n",
    "plt.show()\n",
    "\n",
    "\n"
   ]
  },
  {
   "cell_type": "code",
   "execution_count": null,
   "metadata": {},
   "outputs": [],
   "source": [
    "#Ch14_5\n",
    "import seaborn as sns\n",
    "import matplotlib.pyplot as plt\n",
    "\n",
    "df = sns.load_dataset(\"iris\")\n",
    "\n",
    "sns.set()\n",
    "sns.boxplot(x=\"petal_length\", y=\"species\", data=df)\n",
    "plt.show()\n",
    "\n",
    "\n"
   ]
  },
  {
   "cell_type": "code",
   "execution_count": null,
   "metadata": {},
   "outputs": [],
   "source": [
    "#Ch14_5a\n",
    "import seaborn as sns\n",
    "import matplotlib.pyplot as plt\n",
    "\n",
    "df = sns.load_dataset(\"iris\")\n",
    "\n",
    "sns.set()\n",
    "sns.boxplot(data=df, orient=\"h\")\n",
    "plt.show()\n",
    "\n",
    "\n"
   ]
  },
  {
   "cell_type": "code",
   "execution_count": null,
   "metadata": {},
   "outputs": [],
   "source": [
    "#Ch14_6_1\n",
    "import seaborn as sns\n",
    "import matplotlib.pyplot as plt\n",
    "\n",
    "df = sns.load_dataset(\"tips\")\n",
    "\n",
    "sns.set()\n",
    "sns.regplot(x=\"total_bill\", y=\"tip\", data=df)\n",
    "sns.lmplot(x=\"total_bill\", y=\"tip\", data=df)\n",
    "plt.show()\n",
    "\n",
    "\n"
   ]
  },
  {
   "cell_type": "code",
   "execution_count": null,
   "metadata": {},
   "outputs": [],
   "source": [
    "#Ch14_6_1a\n",
    "import seaborn as sns\n",
    "import matplotlib.pyplot as plt\n",
    "\n",
    "df = sns.load_dataset(\"tips\")\n",
    "\n",
    "sns.set()\n",
    "sns.regplot(x=df[\"total_bill\"], y=df[\"tip\"])\n",
    "sns.lmplot(x=\"total_bill\", y=\"tip\", data=df)\n",
    "plt.show()\n",
    "\n",
    "\n"
   ]
  },
  {
   "cell_type": "code",
   "execution_count": null,
   "metadata": {},
   "outputs": [],
   "source": [
    "#Ch14_6_2\n",
    "import seaborn as sns\n",
    "import matplotlib.pyplot as plt\n",
    "\n",
    "df = sns.load_dataset(\"anscombe\")\n",
    "\n",
    "sns.set()\n",
    "sns.lmplot(x=\"x\", y=\"y\", col=\"dataset\", hue=\"dataset\", data=df,\n",
    "           col_wrap=2, ci=None, height=4)\n",
    "plt.show()\n",
    "\n",
    "\n"
   ]
  },
  {
   "cell_type": "code",
   "execution_count": null,
   "metadata": {},
   "outputs": [],
   "source": [
    "#Ch14_6_2a\n",
    "import seaborn as sns\n",
    "import matplotlib.pyplot as plt\n",
    "\n",
    "df = sns.load_dataset(\"anscombe\")\n",
    "\n",
    "sns.set()\n",
    "sns.lmplot(x=\"x\", y=\"y\", data=df.query(\"dataset=='II'\"), order=2)\n",
    "plt.show()\n",
    "\n",
    "\n"
   ]
  },
  {
   "cell_type": "code",
   "execution_count": null,
   "metadata": {},
   "outputs": [],
   "source": [
    "#Ch14_6_2b\n",
    "import seaborn as sns\n",
    "import matplotlib.pyplot as plt\n",
    "\n",
    "df = sns.load_dataset(\"anscombe\")\n",
    "\n",
    "sns.set()\n",
    "sns.residplot(x=\"x\", y=\"y\", data=df.query(\"dataset=='III'\"))\n",
    "plt.show()\n",
    "\n",
    "\n"
   ]
  }
 ],
 "metadata": {
  "kernelspec": {
   "display_name": "Python 3",
   "language": "python",
   "name": "python3"
  },
  "language_info": {
   "codemirror_mode": {
    "name": "ipython",
    "version": 3
   },
   "file_extension": ".py",
   "mimetype": "text/x-python",
   "name": "python",
   "nbconvert_exporter": "python",
   "pygments_lexer": "ipython3",
   "version": "3.7.1"
  }
 },
 "nbformat": 4,
 "nbformat_minor": 2
}
