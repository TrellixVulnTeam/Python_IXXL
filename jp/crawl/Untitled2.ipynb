{
 "cells": [
  {
   "cell_type": "code",
   "execution_count": 29,
   "metadata": {},
   "outputs": [
    {
     "data": {
      "text/plain": [
       "'\\\\u25bc\\\\uff11\\\\uff12\\\\uff11\\\\uff12\\\\u5e74\\\\u7d42\\\\u7292\\\\u8cde\\\\u25bc<\\\\/font><\\\\/b>\\n\\\\u7f85\\\\u6280 M570 \\\\u7121\\\\u7dda\\\\u8ecc\\\\u8de1\\\\u7403\",\"Store\":\"DCANBB\",\"PreOrdDate\":\"\",\"SpeOrdDate\":\"\",\"Price\":{\"M\":1490,\"P\":1212,\"Prime\":\"\"},\"Discount\":0,\"Pic\":{\"B\":\"\\\\/items\\\\/DCAH01A58317460\\\\/000001_1575341112.jpg\",\"S\":\"\\\\/items\\\\/DCAH01A58317460\\\\/000002_1537952484.jpg\"},\"Weight\":0.36,\"ISBN\":\"\",\"Qty\":20,\"Bonus\":0,\"isBig\":0,\"isSpec\":0,\"isCombine\":0,\"isDiy\":0,\"isRecyclable\":0,\"isCarrier\":0,\"isMedical\":0,\"isBigCart\":1,\"isSnapUp\":0,\"isDescAndIntroSync\":0,\"isFoodContents\":0,\"isHuge\":0,\"isEnergySubsidy\":0,\"isPrimeOnly\":0,\"isPreOrder24h\":0,\"isWarranty\":0,\"isLegalStore\":1,\"isOnSale\":0,\"isPriceTask\":0,\"isFresh\":0,\"isBidding\":0,\"isSet\":0,\"isETicket\":0},\"DCAN30-A81760484-000\":{\"Seq\":10381936,\"Id\":\"DCAN30-A81760484-000\",\"Name\":\"\\\\u7f85\\\\u6280 M310t \\\\u7121\\\\u7dda\\\\u96f7\\\\u5c04\\\\u6ed1\\\\u9f20(\\\\u85cd)\",\"Nick\":\"\\\\u7f85\\\\u6280 M310t \\\\u7121\\\\u7dda\\\\u96f7\\\\u5c04\\\\u6ed1\\\\u9f20(\\\\u85cd) \",\"Store\":\"DCAN8J\",\"PreOrdDate\":\"\",\"SpeOrdDate\":\"\",\"Price\":{\"M\":0,\"P\":699,\"Prime\":\"\"},\"Discount\":0,\"Pic\":{\"B\":\"\\\\/items\\\\/DCAN30A81760484\\\\/000001_1570415920.jpg\",\"S\":\"\\\\/items\\\\/DCAN30A81760484\\\\/000002_1540352921.jpg\"},\"Weight\":0.18,\"ISBN\":\"\",\"Qty\":5,\"Bonus\":0,\"isBig\":0,\"isSpec\":0,\"isCombine\":0,\"isDiy\":0,\"isRecyclable\":0,\"isCarrier\":0,\"isMedical\":0,\"isBigCart\":1,\"isSnapUp\":0,\"isDescAndIntroSync\":0,\"isFoodContents\":0,\"isHuge\":0,\"isEnergySubsidy\":0,\"isPrimeOnly\":0,\"isPreOrder24h\":0,\"isWarranty\":0,\"isLegalStore\":1,\"isOnSale\":0,\"isPriceTask\":0,\"isFresh\":0,\"isBidding\":0,\"isSet\":0,\"isETicket\":0},\"DCAN8J-A900A5XTO-000\":{\"Seq\":23247982,\"Id\":\"DCAN8J-A900A5XTO-000\",\"Name\":\"\\\\u7f85\\\\u6280 M350 \\\\u9d5d\\\\u5375\\\\u77f3\\\\u7121\\\\u7dda\\\\u6ed1\\\\u9f20-\\\\u77f3\\\\u58a8\\\\u9ed1\",\"Nick\":\"\\\\u7f85\\\\u6280 M350 \\\\u9d5d\\\\u5375\\\\u77f3\\\\u7121\\\\u7dda\\\\u6ed1\\\\u9f20-\\\\u77f3\\\\u58a8\\\\u9ed1\",\"Store\":\"DCAN8J\",\"PreOrdDate\":\"\",\"SpeOrdDate\":\"\",\"Price\":{\"M\":0,\"P\":699,\"Prime\":\"\"},\"Discount\":0,\"Pic\":{\"B\":\"\\\\/items\\\\/DCAN8JA900A5XTO\\\\/000001_1575280471.jpg\",\"S\":\"\\\\/items\\\\/DCAN8JA900A5XTO\\\\/000002_1575280471.jpg\"},\"Weight\":0.11,\"ISBN\":\"\",\"Qty\":20,\"Bonus\":0,\"isBig\":0,\"isSpec\":0,\"isCombine\":0,\"isDiy\":0,\"isRecyclable\":0,\"isCarrier\":0,\"isMedical\":0,\"isBigCart\":1,\"isSnapUp\":0,\"isDescAndIntroSync\":0,\"isFoodContents\":0,\"isHuge\":0,\"isEnergySubsidy\":0,\"isPrimeOnly\":0,\"isPreOrder24h\":0,\"isWarranty\":0,\"isLegalStore\":1,\"isOnSale\":0,\"isPriceTask\":0,\"isFresh\":0,\"isBidding\":0,\"isSet\":0,\"isETicket\":0},\"DCAN8J-A900A5XTF-000\":{\"Seq\":23247968,\"Id\":\"DCAN8J-A900A5XTF-000\",\"Name\":\"\\\\u7f85\\\\u6280 M350 \\\\u9d5d\\\\u5375\\\\u77f3\\\\u7121\\\\u7dda\\\\u6ed1\\\\u9f20-\\\\u73ab\\\\u7470\\\\u7c89\",\"Nick\":\"\\\\u7f85\\\\u6280 M350 \\\\u9d5d\\\\u5375\\\\u77f3\\\\u7121\\\\u7dda\\\\u6ed1\\\\u9f20-\\\\u73ab\\\\u7470\\\\u7c89\",\"Store\":\"DCAN8J\",\"PreOrdDate\":\"\",\"SpeOrdDate\":\"\",\"Price\":{\"M\":0,\"P\":699,\"Prime\":\"\"},\"Discount\":0,\"Pic\":{\"B\":\"\\\\/items\\\\/DCAN8JA900A5XTF\\\\/000001_1575280453.jpg\",\"S\":\"\\\\/items\\\\/DCAN8JA900A5XTF\\\\/000002_1575280453.jpg\"},\"Weight\":0.11,\"ISBN\":\"\",\"Qty\":20,\"Bonus\":0,\"isBig\":0,\"isSpec\":0,\"isCombine\":0,\"isDiy\":0,\"isRecyclable\":0,\"isCarrier\":0,\"isMedical\":0,\"isBigCart\":1,\"isSnapUp\":0,\"isDescAndIntroSync\":0,\"isFoodContents\":0,\"isHuge\":0,\"isEnergySubsidy\":0,\"isPrimeOnly\":0,\"isPreOrder24h\":0,\"isWarranty\":0,\"isLegalStore\":1,\"isOnSale\":0,\"isPriceTask\":0,\"isFresh\":0,\"isBidding\":0,\"isSet\":0,\"isETicket\":0}});}catch(e){if(window.console){console.log(e);}}'"
      ]
     },
     "execution_count": 29,
     "metadata": {},
     "output_type": "execute_result"
    }
   ],
   "source": [
    "import requests\n",
    "from requests_html import HTML\n",
    "import pandas as pd\n",
    "import re\n",
    "\n",
    "# 輸入爬蟲網址與使用者資訊\n",
    "url = 'https://24h.m.pchome.com.tw/ecapi/ecshop/prodapi/v2/prod?id=DCAN8J-A9009177W,DCAN8J-A9009177X,DCAN8J-A9009O9XT,DCAN8J-A9009O9X9,DCAN8J-A900858D2,DCAN8J-A90097H2L,DCAN8J-A90097H2N,DCAN8J-A90097H67,DCAN8J-A9008GOTR,DCAN30-A81760527,DCAN8J-A9008KJXD,DCAN8J-A9008EWMX,DCAN8J-A900ACK3M,DCAN8J-A9009178B,DCAN8J-A9008KJYU,DCAN8J-A9009OS4V,DCAH01-A58317460,DCAN30-A81760484,DCAN8J-A900A5XTO,DCAN8J-A900A5XTF&fields=Seq,Id,Name,Nick,Store,PreOrdDate,SpeOrdDate,Price,Discount,Pic,Weight,ISBN,Qty,Bonus,isBig,isSpec,isCombine,isDiy,isRecyclable,isCarrier,isMedical,isBigCart,isSnapUp,isDescAndIntroSync,isFoodContents,isHuge,isEnergySubsidy,isPrimeOnly,isPreOrder24h,isWarranty,isLegalStore,isOnSale,isPriceTask,isFresh,isBidding,isSet,isETicket&_callback=jsonp_prodget&_callback=jsonp_prodget'\n",
    "\n",
    "# 加入使用者資訊(如使用什麼瀏覽器、作業系統...等資訊)模擬真實瀏覽網頁的情況\n",
    "headers = {'User-Agent': 'Mozilla/5.0 (Linux; Android 6.0; Nexus 5 Build/MRA58N) AppleWebKit/537.36 (KHTML, like Gecko) Chrome/78.0.3904.108 Mobile Safari/537.36'}\n",
    "\n",
    "# 找出所有的商品連結\n",
    "resp = requests.get(url, headers=headers)\n",
    "html = HTML(html=resp.text , default_encoding= 'utf-8')\n",
    "html.text"
   ]
  },
  {
   "cell_type": "code",
   "execution_count": 19,
   "metadata": {},
   "outputs": [
    {
     "data": {
      "text/plain": [
       "set()"
      ]
     },
     "execution_count": 19,
     "metadata": {},
     "output_type": "execute_result"
    }
   ],
   "source": [
    "from requests_html import HTMLSession\n",
    "session = HTMLSession()\n",
    "\n",
    "r = session.get('https://24h.m.pchome.com.tw/ecapi/ecshop/prodapi/v2/prod?id=DCAN8J-A9009177W,DCAN8J-A9009177X,DCAN8J-A9009O9XT,DCAN8J-A9009O9X9,DCAN8J-A900858D2,DCAN8J-A90097H2L,DCAN8J-A90097H2N,DCAN8J-A90097H67,DCAN8J-A9008GOTR,DCAN30-A81760527,DCAN8J-A9008KJXD,DCAN8J-A9008EWMX,DCAN8J-A900ACK3M,DCAN8J-A9009178B,DCAN8J-A9008KJYU,DCAN8J-A9009OS4V,DCAH01-A58317460,DCAN30-A81760484,DCAN8J-A900A5XTO,DCAN8J-A900A5XTF&fields=Seq,Id,Name,Nick,Store,PreOrdDate,SpeOrdDate,Price,Discount,Pic,Weight,ISBN,Qty,Bonus,isBig,isSpec,isCombine,isDiy,isRecyclable,isCarrier,isMedical,isBigCart,isSnapUp,isDescAndIntroSync,isFoodContents,isHuge,isEnergySubsidy,isPrimeOnly,isPreOrder24h,isWarranty,isLegalStore,isOnSale,isPriceTask,isFresh,isBidding,isSet,isETicket&_callback=jsonp_prodget&_callback=jsonp_prodget')\n",
    "r.html.links"
   ]
  },
  {
   "cell_type": "code",
   "execution_count": null,
   "metadata": {},
   "outputs": [],
   "source": [
    "# 定義ProdList函數，輸入商品分類編號，輸出該分類下所有商品連結\n",
    "def ProdList(info):\n",
    "    resp = requests.get(url + str(info), headers=headers)\n",
    "    html = HTML(html=resp.text)\n",
    "    return(html.find('a.product-list-item'))\n",
    "\n",
    "# 定義Crawl_SongGuo函數，輸入商品網址，輸出該商品的各項屬性\n",
    "def Crawl_SongGuo(info):\n",
    "    resp = requests.get('https://www.pcone.com.tw/product/info/' + re.search(r'\\d{12}',str(info)).group(), headers=headers)\n",
    "    html = HTML(html=resp.text)\n",
    "    print(re.search(r'\\d{12}',str(info)).group())\n",
    "    return(pd.DataFrame(\n",
    "            data=[{\n",
    "                '店家名稱':html.find('a.store-name',first = True).text,\n",
    "                '店家商品數量':html.find('div.store-val',first = False)[0].attrs['data-val'],\n",
    "                '店家評價':html.find('div.store-val',first = False)[1].attrs['data-val'],\n",
    "                '店家出貨天數':html.find('div.store-val',first = False)[2].attrs['data-val'],\n",
    "                '店家回覆率':html.find('div.store-val',first = False)[3].attrs['data-val'],\n",
    "                '產品名稱':html.find('h1.product-name',first = True).text,\n",
    "                '特價':html.find('span.bind-lowest-price.discount',first = True).text,\n",
    "                '原價':html.find('span.original',first = True).text,\n",
    "                '折數':html.find('span.bind-discount-number.discount-number',first = True).text,\n",
    "                '商品評分':html.find('span.count > span',first = False)[0].text,\n",
    "                '評價人數':html.find('span.count > span',first = False)[1].text,\n",
    "                '收藏人數':html.find('div.count',first = False)[0].text,\n",
    "                '提問人數':html.find('div.count',first = False)[1].text,\n",
    "                '商品分類':html.find('div.breadcrumbs-set',first = True).text,\n",
    "                '商品標籤':html.find('div.tags',first = True).text,\n",
    "                '連結':'https://www.pcone.com.tw/product/info/' + re.search(r'\\d{12}',str(info)).group()}],\n",
    "            columns = ['店家名稱', '店家商品數量', '店家評價', '店家出貨天數', '店家回覆率',  '產品名稱', '特價', '原價', '折數',\n",
    "                       '商品評分', '評價人數', '收藏人數','提問人數', '商品分類', '商品標籤', '連結']))\n",
    "\n",
    "# 組合以上兩個函數，輸入商品分類的編號，即自動爬出所有商品的屬性，並將資料存在df中\n",
    "prodlist = ProdList(327)\n",
    "df = pd.DataFrame()\n",
    "for i in range(len(prodlist)):\n",
    "    df = df.append(Crawl_SongGuo(prodlist[i]), ignore_index=True)\n",
    "\n",
    "# 檢視抓下來的資料\n",
    "df\n",
    "\n",
    "# 將df轉成excel並存在桌面上\n",
    "df.to_excel('SongGuo1.xlsx')"
   ]
  },
  {
   "cell_type": "code",
   "execution_count": 30,
   "metadata": {},
   "outputs": [],
   "source": [
    "import time\n",
    "import requests\n",
    "from bs4 import BeautifulSoup\n",
    "import pandas\n",
    "import csv\n",
    "\n",
    "# 目標URL網址\n",
    "URL = \"https://www.amazon.com/Best-Sellers-Computers-Accessories-Computer-Keyboards/zgbs/pc/12879431/ref=zg_m_bs__nav_pc_4_11036491&pg={0}\"\n",
    "       \n",
    "def generate_urls(url, start_page, end_page): #使用參數基底URL、開始和結束頁數來建立URL清單\n",
    "    urls = []   #爬蟲主程式建立的目標網址清單\n",
    "    for page in range(start_page, end_page+1):\n",
    "        urls.append(url.format(page))\n",
    "    return urls\n",
    "\n",
    "def get_resource(url):\n",
    "    headers = {\"user-agent\": \"Mozilla/5.0 (Linux; Android 6.0; Nexus 5 Build/MRA58N)\"\n",
    "               \"AppleWebKit/537.36 (KHTML, like Gecko)\"\n",
    "               \"Chrome/78.0.3904.108 Mobile Safari/537.36\"}\n",
    "    return requests.get(url, headers=headers) \n",
    "\n",
    "def parse_html(html_str):\n",
    "    return BeautifulSoup(html_str, \"lxml\")\n",
    "\n",
    "def get_goods(soup):\n",
    "    goods = []\n",
    "    rows = soup.find_all(\"li\", class_=\"zg-item-immersion\")\n",
    "    for row in rows:\n",
    "        #照理說是直接取.text最快，但不知為何一直出現AttributeError: \" 'NoneType' object has no attribute 'text' \" 爬文也沒解\n",
    "        #只好用str()將bs4.element.Tag轉換成字串，再使用 []取部分內容(這個動作叫 slicing)\n",
    "        rank = row.find(\"span\", class_=\"zg-badge-text\").text\n",
    "        name = row.find(\"div\", class_=\"a-section a-spacing-small\").text\n",
    "        star = row.find(\"span\", class_=\"a-icon-alt\").text  #位置剛好都在25~28之間，所以轉換成str再slicing\n",
    "        #下面兩行比較特別，先轉換成str，但位置都不同，所以得用find找\">\"和\"<\"的位置，再包在slicing中，等同取得\">\"到\"<\"之間的字串\n",
    "        reviews = row.find(\"a\", class_=\"a-size-small a-link-normal\").text\n",
    "        #reviews = reviews_tag[reviews_tag.find(\">\",1)+1 : reviews_tag.find(\"<\",1)]\n",
    "        price = row.find(\"span\", class_=\"p13n-sc-price\").text\n",
    "        \n",
    "        good= [rank, name, star, reviews, price]\n",
    "        goods.append(good)\n",
    "    return goods\n",
    "\n",
    "def web_scraping_bot(urls):\n",
    "    all_goods = [[\"排名\",\"品名\",\"評價\",\"評論數\",\"價格\"]]  #巢狀清單\n",
    "    page = 1\n",
    "    \n",
    "    for url in urls:\n",
    "        print(\"抓取: 第\" + str(page) + \"頁 網路資料中...\")\n",
    "        page = page + 1\n",
    "        r = get_resource(url)\n",
    "        if r.status_code == requests.codes.ok:\n",
    "            soup = parse_html(r.text)\n",
    "            goods = get_goods(soup)\n",
    "            all_goods = all_goods + goods\n",
    "            print(\"等待5秒鐘...\")\n",
    "            if soup.find(\"li\", class_=\"a-disabled a-last\"):\n",
    "                break   #已經沒有下一頁\n",
    "            time.sleep(5) \n",
    "        else:\n",
    "            print(\"HTTP請求錯誤...\")\n",
    "\n",
    "    return all_goods\n",
    "\n",
    "def save_to_csv(items, file):\n",
    "    with open(file, \"w+\", newline=\"\", encoding=\"utf_8_sig\") as fp:  #utf_8_sig:能讓輸出的csv正確顯示中文(utf_8會有亂碼)\n",
    "        writer = csv.writer(fp)\n",
    "        for item in items:\n",
    "            writer.writerow(item)"
   ]
  },
  {
   "cell_type": "code",
   "execution_count": null,
   "metadata": {},
   "outputs": [],
   "source": [
    "if __name__ == \"__main__\":\n",
    "    urls = generate_urls(URL, 1, 1)  #爬取1~3頁\n",
    "    print(urls)\n",
    "    goods = web_scraping_bot(urls) \n",
    "    df = pandas.DataFrame(goods)       #用dataframe列出\n",
    "    print(df)"
   ]
  },
  {
   "cell_type": "code",
   "execution_count": 10,
   "metadata": {},
   "outputs": [
    {
     "ename": "ImportError",
     "evalue": "cannot import name 'threads' from 'tomorrow' (unknown location)",
     "output_type": "error",
     "traceback": [
      "\u001b[1;31m---------------------------------------------------------------------------\u001b[0m",
      "\u001b[1;31mImportError\u001b[0m                               Traceback (most recent call last)",
      "\u001b[1;32m<ipython-input-10-48f092842e1e>\u001b[0m in \u001b[0;36m<module>\u001b[1;34m\u001b[0m\n\u001b[0;32m      1\u001b[0m \u001b[1;32mimport\u001b[0m \u001b[0mtime\u001b[0m\u001b[1;33m\u001b[0m\u001b[1;33m\u001b[0m\u001b[0m\n\u001b[0;32m      2\u001b[0m \u001b[1;32mimport\u001b[0m \u001b[0mrequests\u001b[0m\u001b[1;33m\u001b[0m\u001b[1;33m\u001b[0m\u001b[0m\n\u001b[1;32m----> 3\u001b[1;33m \u001b[1;32mfrom\u001b[0m \u001b[0mtomorrow\u001b[0m \u001b[1;32mimport\u001b[0m \u001b[0mthreads\u001b[0m\u001b[1;33m\u001b[0m\u001b[1;33m\u001b[0m\u001b[0m\n\u001b[0m\u001b[0;32m      4\u001b[0m \u001b[1;33m\u001b[0m\u001b[0m\n\u001b[0;32m      5\u001b[0m urls = [\n",
      "\u001b[1;31mImportError\u001b[0m: cannot import name 'threads' from 'tomorrow' (unknown location)"
     ]
    }
   ],
   "source": [
    "import time\n",
    "import requests\n",
    "from tomorrow import threads\n",
    "\n",
    "urls = [\n",
    "    'http://www.baidu.com',\n",
    "    'http://www.163.com',\n",
    "    'http://www.bilibili.com',\n",
    "    'http://www.jd.com',\n",
    "    'http://www.12306.com',\n",
    "    'http://www.sohu.com',\n",
    "    'http://www.taobao.com'\n",
    "]\n",
    "\n",
    "\n",
    "@threads(5)\n",
    "def download(url):\n",
    "    return requests.get(url)\n",
    "\n",
    "\n",
    "if __name__ == \"__main__\":\n",
    "    import time\n",
    "\n",
    "    start = time.time()\n",
    "    responses = [download(url) for url in urls]\n",
    "    html = [response.text for response in responses]\n",
    "    end = time.time()\n",
    "    print(\"Time: %f seconds\" % (end - start))\n",
    "    # Time: 0.171315 seconds"
   ]
  },
  {
   "cell_type": "code",
   "execution_count": null,
   "metadata": {},
   "outputs": [],
   "source": []
  }
 ],
 "metadata": {
  "kernelspec": {
   "display_name": "Python 3",
   "language": "python",
   "name": "python3"
  },
  "language_info": {
   "codemirror_mode": {
    "name": "ipython",
    "version": 3
   },
   "file_extension": ".py",
   "mimetype": "text/x-python",
   "name": "python",
   "nbconvert_exporter": "python",
   "pygments_lexer": "ipython3",
   "version": "3.7.1"
  }
 },
 "nbformat": 4,
 "nbformat_minor": 2
}
