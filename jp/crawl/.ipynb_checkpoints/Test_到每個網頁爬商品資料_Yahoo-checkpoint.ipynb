{
 "cells": [
  {
   "cell_type": "code",
   "execution_count": 40,
   "metadata": {},
   "outputs": [],
   "source": [
    "import pandas as pd\n",
    "import re, time, requests\n",
    "from selenium import webdriver\n",
    "from bs4 import BeautifulSoup"
   ]
  },
  {
   "cell_type": "code",
   "execution_count": 58,
   "metadata": {},
   "outputs": [],
   "source": [
    "def FindLinks(url):\n",
    "    linklist = []\n",
    "    driver = webdriver.Chrome()\n",
    "    driver.get(url)\n",
    "    soup = BeautifulSoup(driver.page_source)\n",
    "\n",
    "    links = soup.find_all('a', {'class':'BaseGridItem__content___3LORP'})\n",
    "    linklist = []\n",
    "    for link in links:\n",
    "        k = link.get('href')\n",
    "        linklist.append(k)\n",
    "    return linklist"
   ]
  },
  {
   "cell_type": "code",
   "execution_count": 61,
   "metadata": {
    "scrolled": false
   },
   "outputs": [
    {
     "ename": "NameError",
     "evalue": "name 'links' is not defined",
     "output_type": "error",
     "traceback": [
      "\u001b[1;31m---------------------------------------------------------------------------\u001b[0m",
      "\u001b[1;31mNameError\u001b[0m                                 Traceback (most recent call last)",
      "\u001b[1;32m<ipython-input-61-e85b8cb4623b>\u001b[0m in \u001b[0;36m<module>\u001b[1;34m\u001b[0m\n\u001b[1;32m----> 1\u001b[1;33m \u001b[0mlinks\u001b[0m\u001b[1;33m\u001b[0m\u001b[1;33m\u001b[0m\u001b[0m\n\u001b[0m",
      "\u001b[1;31mNameError\u001b[0m: name 'links' is not defined"
     ]
    }
   ],
   "source": [
    "links"
   ]
  },
  {
   "cell_type": "code",
   "execution_count": 63,
   "metadata": {
    "scrolled": true
   },
   "outputs": [
    {
     "data": {
      "text/plain": [
       "['https://tw.mall.yahoo.com/item/p0904196550128',\n",
       " 'https://tw.mall.yahoo.com/item/p0904108728569',\n",
       " 'https://tw.mall.yahoo.com/item/p090415882600',\n",
       " 'https://tw.mall.yahoo.com/item/p0904144506389',\n",
       " 'https://tw.mall.yahoo.com/item/p0904108729320',\n",
       " 'https://tw.mall.yahoo.com/item/p0904157320416',\n",
       " 'https://tw.mall.yahoo.com/item/p049917840109',\n",
       " 'https://tw.mall.yahoo.com/item/p054277396957',\n",
       " 'https://tw.mall.yahoo.com/item/p0844121957574',\n",
       " 'https://tw.mall.yahoo.com/item/p030984579080']"
      ]
     },
     "execution_count": 63,
     "metadata": {},
     "output_type": "execute_result"
    }
   ],
   "source": [
    "FindLinks('https://tw.search.mall.yahoo.com/search/mall/product?kw=%E6%98%86%E7%9B%88&p=%E6%98%86%E7%9B%88&cid=0&clv=0')"
   ]
  },
  {
   "cell_type": "code",
   "execution_count": 84,
   "metadata": {},
   "outputs": [],
   "source": [
    "def GetGoods(response):\n",
    "    soup2 = BeautifulSoup(response.text)\n",
    "    #url = soup2.find('link')['href']  #多餘的\n",
    "    df = pd.DataFrame(data = [{'TITLE':soup2.find('span', attrs={'itemprop':'name'}).text,\n",
    "                               'Price':soup2.find('span', attrs={'class':'has_promo_price'}), \n",
    "                               'Activity Price':soup2.find('span',attrs={'class':'price'}).text }],\n",
    "                               columns = ['TITLE', 'Price', 'Activity Price']) \n",
    "    return df"
   ]
  },
  {
   "cell_type": "code",
   "execution_count": 74,
   "metadata": {},
   "outputs": [
    {
     "data": {
      "text/html": [
       "<div>\n",
       "<style scoped>\n",
       "    .dataframe tbody tr th:only-of-type {\n",
       "        vertical-align: middle;\n",
       "    }\n",
       "\n",
       "    .dataframe tbody tr th {\n",
       "        vertical-align: top;\n",
       "    }\n",
       "\n",
       "    .dataframe thead th {\n",
       "        text-align: right;\n",
       "    }\n",
       "</style>\n",
       "<table border=\"1\" class=\"dataframe\">\n",
       "  <thead>\n",
       "    <tr style=\"text-align: right;\">\n",
       "      <th></th>\n",
       "      <th>TITLE</th>\n",
       "      <th>Price</th>\n",
       "      <th>Activity Price</th>\n",
       "    </tr>\n",
       "  </thead>\n",
       "  <tbody>\n",
       "    <tr>\n",
       "      <th>0</th>\n",
       "      <td>GENIUS 昆盈 DX-110 (USB) 熱力紅 有線光學滑鼠</td>\n",
       "      <td>149元</td>\n",
       "      <td>135元</td>\n",
       "    </tr>\n",
       "  </tbody>\n",
       "</table>\n",
       "</div>"
      ],
      "text/plain": [
       "                               TITLE Price Activity Price\n",
       "0  GENIUS 昆盈 DX-110 (USB) 熱力紅 有線光學滑鼠  149元           135元"
      ]
     },
     "execution_count": 74,
     "metadata": {},
     "output_type": "execute_result"
    }
   ],
   "source": [
    "url = 'https://tw.mall.yahoo.com/item/GENIUS-%E6%98%86%E7%9B%88-DX-110-USB-%E7%86%B1%E5%8A%9B%E7%B4%85-%E6%9C%89%E7%B7%9A%E5%85%89%E5%AD%B8%E6%BB%91%E9%BC%A0-p0904196550128'\n",
    "resp = requests.get(url)\n",
    "GetGoods(resp)"
   ]
  },
  {
   "cell_type": "code",
   "execution_count": 75,
   "metadata": {},
   "outputs": [
    {
     "data": {
      "text/plain": [
       "pandas.core.frame.DataFrame"
      ]
     },
     "execution_count": 75,
     "metadata": {},
     "output_type": "execute_result"
    }
   ],
   "source": [
    "url = 'https://tw.mall.yahoo.com/item/Genius-%E6%98%86%E7%9B%88-NX-7000-%E6%B2%89%E7%A9%A9%E9%BB%91-%E8%97%8D%E5%85%89-%E7%84%A1%E7%B7%9A%E6%BB%91%E9%BC%A0-p0904108728569'\n",
    "resp = requests.get(url)\n",
    "GetGoods(resp)"
   ]
  },
  {
   "cell_type": "code",
   "execution_count": 49,
   "metadata": {},
   "outputs": [
    {
     "data": {
      "text/plain": [
       "['https://tw.mall.yahoo.com/item/p0904196550128',\n",
       " 'https://tw.mall.yahoo.com/item/p0904108728569',\n",
       " 'https://tw.mall.yahoo.com/item/p090415882600',\n",
       " 'https://tw.mall.yahoo.com/item/p0904144506389',\n",
       " 'https://tw.mall.yahoo.com/item/p0904108729320',\n",
       " 'https://tw.mall.yahoo.com/item/p0904157320416',\n",
       " 'https://tw.mall.yahoo.com/item/p049917840109',\n",
       " 'https://tw.mall.yahoo.com/item/p054277396957',\n",
       " 'https://tw.mall.yahoo.com/item/p0844121957574',\n",
       " 'https://tw.mall.yahoo.com/item/p030984579080']"
      ]
     },
     "execution_count": 49,
     "metadata": {},
     "output_type": "execute_result"
    }
   ],
   "source": [
    "urls = 'https://tw.search.mall.yahoo.com/search/mall/product?kw=%E6%98%86%E7%9B%88&p=%E6%98%86%E7%9B%88&cid=0&clv=0'\n",
    "FindLinks(urls)"
   ]
  },
  {
   "cell_type": "code",
   "execution_count": 85,
   "metadata": {},
   "outputs": [
    {
     "data": {
      "text/plain": [
       "[                               TITLE   Price Activity Price\n",
       " 0  GENIUS 昆盈 DX-110 (USB) 熱力紅 有線光學滑鼠  [149元]           135元,\n",
       "                            TITLE   Price Activity Price\n",
       " 0  Genius 昆盈 NX-7000 沉穩黑 藍光 無線滑鼠  [299元]           274元,\n",
       "                                 TITLE   Price Activity Price\n",
       " 0  Genius 昆盈 MAURUS 沙漠黃金蠍 FPS 專業 電競滑鼠  [700元]           650元,\n",
       "                           TITLE   Price Activity Price\n",
       " 0  Genius 昆盈 NX-7000 藍光無線滑鼠 熱情紅  [299元]           274元,\n",
       "                            TITLE   Price Activity Price\n",
       " 0  Genius 昆盈 NX-7015 閃耀銀 無線 藍光滑鼠  [299元]           274元,\n",
       "                                        TITLE   Price Activity Price\n",
       " 0  Genius 昆盈 NX-7000 藍光無線滑鼠-海洋藍 (NX-7000-BL)  [299元]           274元,\n",
       "                                                TITLE Price Activity Price\n",
       " 0  【貓頭鷹3C】Genius 昆盈 GX Gaming DeathTaker 奪命蠍-MMO/...  None          1290元,\n",
       "                                               TITLE Price Activity Price\n",
       " 0  {光華成功NO.1}  昆盈 Genius NS-6000 2.4G 無線光學滑鼠  喔!看呢來  None           450元,\n",
       "                                                TITLE Price Activity Price\n",
       " 0  新竹【超人3C】enius 昆盈 GX Gaming GX-CONTROL 320mmX23...  None           302元,\n",
       "                                                TITLE Price Activity Price\n",
       " 0  全新 Genius昆盈GX Gaming Mordax HS-G600 震天青尾蠍震撼電競耳...  None          1290元]"
      ]
     },
     "execution_count": 85,
     "metadata": {},
     "output_type": "execute_result"
    }
   ],
   "source": [
    "urls = 'https://tw.search.mall.yahoo.com/search/mall/product?kw=%E6%98%86%E7%9B%88&p=%E6%98%86%E7%9B%88&cid=0&clv=0'\n",
    "ndf = []\n",
    "for i in FindLinks(urls):\n",
    "    res = requests.get(i)\n",
    "    g = GetGoods(res)\n",
    "    ndf.append(g)\n",
    "    time.sleep(1)\n",
    "ndf"
   ]
  },
  {
   "cell_type": "code",
   "execution_count": 86,
   "metadata": {},
   "outputs": [
    {
     "data": {
      "text/html": [
       "<div>\n",
       "<style scoped>\n",
       "    .dataframe tbody tr th:only-of-type {\n",
       "        vertical-align: middle;\n",
       "    }\n",
       "\n",
       "    .dataframe tbody tr th {\n",
       "        vertical-align: top;\n",
       "    }\n",
       "\n",
       "    .dataframe thead th {\n",
       "        text-align: right;\n",
       "    }\n",
       "</style>\n",
       "<table border=\"1\" class=\"dataframe\">\n",
       "  <thead>\n",
       "    <tr style=\"text-align: right;\">\n",
       "      <th></th>\n",
       "      <th>TITLE</th>\n",
       "      <th>Price</th>\n",
       "      <th>Activity Price</th>\n",
       "    </tr>\n",
       "  </thead>\n",
       "  <tbody>\n",
       "    <tr>\n",
       "      <th>0</th>\n",
       "      <td>GENIUS 昆盈 DX-110 (USB) 熱力紅 有線光學滑鼠</td>\n",
       "      <td>[149元]</td>\n",
       "      <td>135元</td>\n",
       "    </tr>\n",
       "    <tr>\n",
       "      <th>0</th>\n",
       "      <td>Genius 昆盈 NX-7000 沉穩黑 藍光 無線滑鼠</td>\n",
       "      <td>[299元]</td>\n",
       "      <td>274元</td>\n",
       "    </tr>\n",
       "    <tr>\n",
       "      <th>0</th>\n",
       "      <td>Genius 昆盈 MAURUS 沙漠黃金蠍 FPS 專業 電競滑鼠</td>\n",
       "      <td>[700元]</td>\n",
       "      <td>650元</td>\n",
       "    </tr>\n",
       "    <tr>\n",
       "      <th>0</th>\n",
       "      <td>Genius 昆盈 NX-7000 藍光無線滑鼠 熱情紅</td>\n",
       "      <td>[299元]</td>\n",
       "      <td>274元</td>\n",
       "    </tr>\n",
       "    <tr>\n",
       "      <th>0</th>\n",
       "      <td>Genius 昆盈 NX-7015 閃耀銀 無線 藍光滑鼠</td>\n",
       "      <td>[299元]</td>\n",
       "      <td>274元</td>\n",
       "    </tr>\n",
       "    <tr>\n",
       "      <th>0</th>\n",
       "      <td>Genius 昆盈 NX-7000 藍光無線滑鼠-海洋藍 (NX-7000-BL)</td>\n",
       "      <td>[299元]</td>\n",
       "      <td>274元</td>\n",
       "    </tr>\n",
       "    <tr>\n",
       "      <th>0</th>\n",
       "      <td>【貓頭鷹3C】Genius 昆盈 GX Gaming DeathTaker 奪命蠍-MMO/...</td>\n",
       "      <td>None</td>\n",
       "      <td>1290元</td>\n",
       "    </tr>\n",
       "    <tr>\n",
       "      <th>0</th>\n",
       "      <td>{光華成功NO.1}  昆盈 Genius NS-6000 2.4G 無線光學滑鼠  喔!看呢來</td>\n",
       "      <td>None</td>\n",
       "      <td>450元</td>\n",
       "    </tr>\n",
       "    <tr>\n",
       "      <th>0</th>\n",
       "      <td>新竹【超人3C】enius 昆盈 GX Gaming GX-CONTROL 320mmX23...</td>\n",
       "      <td>None</td>\n",
       "      <td>302元</td>\n",
       "    </tr>\n",
       "    <tr>\n",
       "      <th>0</th>\n",
       "      <td>全新 Genius昆盈GX Gaming Mordax HS-G600 震天青尾蠍震撼電競耳...</td>\n",
       "      <td>None</td>\n",
       "      <td>1290元</td>\n",
       "    </tr>\n",
       "  </tbody>\n",
       "</table>\n",
       "</div>"
      ],
      "text/plain": [
       "                                               TITLE   Price Activity Price\n",
       "0                  GENIUS 昆盈 DX-110 (USB) 熱力紅 有線光學滑鼠  [149元]           135元\n",
       "0                      Genius 昆盈 NX-7000 沉穩黑 藍光 無線滑鼠  [299元]           274元\n",
       "0                 Genius 昆盈 MAURUS 沙漠黃金蠍 FPS 專業 電競滑鼠  [700元]           650元\n",
       "0                       Genius 昆盈 NX-7000 藍光無線滑鼠 熱情紅  [299元]           274元\n",
       "0                      Genius 昆盈 NX-7015 閃耀銀 無線 藍光滑鼠  [299元]           274元\n",
       "0          Genius 昆盈 NX-7000 藍光無線滑鼠-海洋藍 (NX-7000-BL)  [299元]           274元\n",
       "0  【貓頭鷹3C】Genius 昆盈 GX Gaming DeathTaker 奪命蠍-MMO/...    None          1290元\n",
       "0   {光華成功NO.1}  昆盈 Genius NS-6000 2.4G 無線光學滑鼠  喔!看呢來    None           450元\n",
       "0  新竹【超人3C】enius 昆盈 GX Gaming GX-CONTROL 320mmX23...    None           302元\n",
       "0  全新 Genius昆盈GX Gaming Mordax HS-G600 震天青尾蠍震撼電競耳...    None          1290元"
      ]
     },
     "execution_count": 86,
     "metadata": {},
     "output_type": "execute_result"
    }
   ],
   "source": [
    "df_all = pd.concat(ndf)\n",
    "df_all"
   ]
  },
  {
   "cell_type": "code",
   "execution_count": null,
   "metadata": {},
   "outputs": [],
   "source": []
  }
 ],
 "metadata": {
  "kernelspec": {
   "display_name": "Python 3",
   "language": "python",
   "name": "python3"
  },
  "language_info": {
   "codemirror_mode": {
    "name": "ipython",
    "version": 3
   },
   "file_extension": ".py",
   "mimetype": "text/x-python",
   "name": "python",
   "nbconvert_exporter": "python",
   "pygments_lexer": "ipython3",
   "version": "3.7.1"
  }
 },
 "nbformat": 4,
 "nbformat_minor": 2
}
