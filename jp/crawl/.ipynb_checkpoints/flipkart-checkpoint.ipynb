{
 "cells": [
  {
   "cell_type": "code",
   "execution_count": 43,
   "metadata": {},
   "outputs": [],
   "source": [
    "import requests\n",
    "from bs4 import BeautifulSoup\n",
    "import pandas as pd"
   ]
  },
  {
   "cell_type": "code",
   "execution_count": 3,
   "metadata": {},
   "outputs": [],
   "source": [
    "url = 'https://www.flipkart.com/search?q=logitech&sid=6bo%2Cai3%2C3oe&as=on&as-show=on&otracker=AS_QueryStore_OrganicAutoSuggest_0_5_na_na_pr&otracker1=AS_QueryStore_OrganicAutoSuggest_0_5_na_na_pr&as-pos=0&as-type=RECENT&suggestionId=logitech%7Cin+Keyboards&requestId=45676ce1-76ce-47f3-832d-36d751606cac&as-searchtext=logit&p%5B%5D=facets.price_range.from%3DMin&p%5B%5D=facets.price_range.to%3DMax'"
   ]
  },
  {
   "cell_type": "code",
   "execution_count": null,
   "metadata": {},
   "outputs": [],
   "source": [
    "res = requests.get(url)\n",
    "soup = BeautifulSoup(res.text, 'lxml')\n",
    "soup"
   ]
  },
  {
   "cell_type": "code",
   "execution_count": 38,
   "metadata": {},
   "outputs": [],
   "source": [
    "tags = soup.find('div', attrs={'class':'_1HmYoV _35HD7C', 'style':'flex-grow:1;overflow:auto'}).find_all('div', 'bhgxx2 col-12-12')"
   ]
  },
  {
   "cell_type": "code",
   "execution_count": 89,
   "metadata": {},
   "outputs": [],
   "source": [
    "goods = []\n",
    "try:\n",
    "    for tag in tags:\n",
    "        name = tag.find('a', '_2cLu-l').text  #40/40\n",
    "        star = tag.find('div', 'hGSR34').text  #24/40\n",
    "        reviews = tag.find('span', '_38sUEc').text  #24/40\n",
    "        price = tag.find('div', '_1vC4OE').text  #40/40\n",
    "        Original_price = tag.find('div', '_3auQ3N').text  #31/40\n",
    "        reviews = tag.find('div', 'VGWI6T').span.text  #30/40\n",
    "\n",
    "        good = [name, star, reviews, price, Original_price, reviews]\n",
    "        goods.append(good)\n",
    "\n",
    "except AttributeError:\n",
    "    pass"
   ]
  },
  {
   "cell_type": "code",
   "execution_count": 80,
   "metadata": {},
   "outputs": [],
   "source": [
    "goods = []\n",
    "for tag in tags:\n",
    "    name = tag.find('a', '_2cLu-l')  #40/40\n",
    "    star = tag.find('div', 'hGSR34')  #24/40\n",
    "    reviews = tag.find('span', '_38sUEc')  #24/40\n",
    "    price = tag.find('div', '_1vC4OE')  #40/40\n",
    "    Original_price = tag.find('div', '_3auQ3N')  #31/40\n",
    "    reviews = tag.find('div', 'VGWI6T')  #30/40\n",
    "\n",
    "    good = [name, star, reviews, price, Original_price, reviews]\n",
    "    goods.append(good)"
   ]
  },
  {
   "cell_type": "code",
   "execution_count": 95,
   "metadata": {
    "scrolled": false
   },
   "outputs": [
    {
     "data": {
      "text/html": [
       "<div>\n",
       "<style scoped>\n",
       "    .dataframe tbody tr th:only-of-type {\n",
       "        vertical-align: middle;\n",
       "    }\n",
       "\n",
       "    .dataframe tbody tr th {\n",
       "        vertical-align: top;\n",
       "    }\n",
       "\n",
       "    .dataframe thead th {\n",
       "        text-align: right;\n",
       "    }\n",
       "</style>\n",
       "<table border=\"1\" class=\"dataframe\">\n",
       "  <thead>\n",
       "    <tr style=\"text-align: right;\">\n",
       "      <th></th>\n",
       "      <th>name</th>\n",
       "      <th>star</th>\n",
       "      <th>reviews</th>\n",
       "      <th>price</th>\n",
       "      <th>Original_price</th>\n",
       "      <th>reviews</th>\n",
       "    </tr>\n",
       "  </thead>\n",
       "  <tbody>\n",
       "    <tr>\n",
       "      <th>0</th>\n",
       "      <td>Logitech K120 Wired USB Desktop Keyboard</td>\n",
       "      <td>4.3</td>\n",
       "      <td>28% off</td>\n",
       "      <td>₹500</td>\n",
       "      <td>₹695</td>\n",
       "      <td>28% off</td>\n",
       "    </tr>\n",
       "    <tr>\n",
       "      <th>1</th>\n",
       "      <td>Logitech MK200 Mouse &amp; Wired USB Laptop Keyboard</td>\n",
       "      <td>4.3</td>\n",
       "      <td>39% off</td>\n",
       "      <td>₹849</td>\n",
       "      <td>₹1,395</td>\n",
       "      <td>39% off</td>\n",
       "    </tr>\n",
       "    <tr>\n",
       "      <th>2</th>\n",
       "      <td>Logitech MK275 Mouse &amp; Wireless Laptop Keyboard</td>\n",
       "      <td>4.4</td>\n",
       "      <td>18% off</td>\n",
       "      <td>₹1,870</td>\n",
       "      <td>₹2,295</td>\n",
       "      <td>18% off</td>\n",
       "    </tr>\n",
       "    <tr>\n",
       "      <th>3</th>\n",
       "      <td>Lenovo KB MICE_BO Wireless combo 100 Eng Wirel...</td>\n",
       "      <td>4.3</td>\n",
       "      <td>45% off</td>\n",
       "      <td>₹1,099</td>\n",
       "      <td>₹1,999</td>\n",
       "      <td>45% off</td>\n",
       "    </tr>\n",
       "    <tr>\n",
       "      <th>4</th>\n",
       "      <td>Logitech K400 PLUS Wireless Laptop Keyboard</td>\n",
       "      <td>4.4</td>\n",
       "      <td>31% off</td>\n",
       "      <td>₹2,732</td>\n",
       "      <td>₹3,995</td>\n",
       "      <td>31% off</td>\n",
       "    </tr>\n",
       "    <tr>\n",
       "      <th>5</th>\n",
       "      <td>Logitech PN 920-007119 Wireless Tablet Keyboard</td>\n",
       "      <td>3.6</td>\n",
       "      <td>26% off</td>\n",
       "      <td>₹2,940</td>\n",
       "      <td>₹3,995</td>\n",
       "      <td>26% off</td>\n",
       "    </tr>\n",
       "    <tr>\n",
       "      <th>6</th>\n",
       "      <td>Logitech K120 USB Keyboard Black Wired USB Mul...</td>\n",
       "      <td>4.3</td>\n",
       "      <td>1% off</td>\n",
       "      <td>₹685</td>\n",
       "      <td>₹695</td>\n",
       "      <td>1% off</td>\n",
       "    </tr>\n",
       "  </tbody>\n",
       "</table>\n",
       "</div>"
      ],
      "text/plain": [
       "                                                name star  reviews   price  \\\n",
       "0           Logitech K120 Wired USB Desktop Keyboard  4.3  28% off    ₹500   \n",
       "1   Logitech MK200 Mouse & Wired USB Laptop Keyboard  4.3  39% off    ₹849   \n",
       "2    Logitech MK275 Mouse & Wireless Laptop Keyboard  4.4  18% off  ₹1,870   \n",
       "3  Lenovo KB MICE_BO Wireless combo 100 Eng Wirel...  4.3  45% off  ₹1,099   \n",
       "4        Logitech K400 PLUS Wireless Laptop Keyboard  4.4  31% off  ₹2,732   \n",
       "5    Logitech PN 920-007119 Wireless Tablet Keyboard  3.6  26% off  ₹2,940   \n",
       "6  Logitech K120 USB Keyboard Black Wired USB Mul...  4.3   1% off    ₹685   \n",
       "\n",
       "  Original_price  reviews  \n",
       "0           ₹695  28% off  \n",
       "1         ₹1,395  39% off  \n",
       "2         ₹2,295  18% off  \n",
       "3         ₹1,999  45% off  \n",
       "4         ₹3,995  31% off  \n",
       "5         ₹3,995  26% off  \n",
       "6           ₹695   1% off  "
      ]
     },
     "execution_count": 95,
     "metadata": {},
     "output_type": "execute_result"
    }
   ],
   "source": [
    "df = pd.DataFrame(goods)\n",
    "df.columns = ['name', 'star', 'reviews', 'price', 'Original_price', 'reviews']\n",
    "df"
   ]
  },
  {
   "cell_type": "code",
   "execution_count": null,
   "metadata": {},
   "outputs": [],
   "source": []
  }
 ],
 "metadata": {
  "kernelspec": {
   "display_name": "Python 3",
   "language": "python",
   "name": "python3"
  },
  "language_info": {
   "codemirror_mode": {
    "name": "ipython",
    "version": 3
   },
   "file_extension": ".py",
   "mimetype": "text/x-python",
   "name": "python",
   "nbconvert_exporter": "python",
   "pygments_lexer": "ipython3",
   "version": "3.7.1"
  }
 },
 "nbformat": 4,
 "nbformat_minor": 2
}
