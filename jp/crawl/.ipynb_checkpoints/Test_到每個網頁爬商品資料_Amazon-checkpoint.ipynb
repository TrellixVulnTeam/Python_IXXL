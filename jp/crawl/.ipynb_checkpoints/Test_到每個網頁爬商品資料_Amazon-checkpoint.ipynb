{
 "cells": [
  {
   "cell_type": "code",
   "execution_count": 1,
   "metadata": {},
   "outputs": [],
   "source": [
    "import pandas as pd\n",
    "import re, time, requests\n",
    "from selenium import webdriver\n",
    "from bs4 import BeautifulSoup"
   ]
  },
  {
   "cell_type": "markdown",
   "metadata": {},
   "source": [
    "# 取得各點入頁面網址"
   ]
  },
  {
   "cell_type": "code",
   "execution_count": 15,
   "metadata": {},
   "outputs": [],
   "source": [
    "def FindLinks(url):\n",
    "    linklist = []\n",
    "    driver = webdriver.Chrome()\n",
    "    driver.get(url)\n",
    "    soup = BeautifulSoup(driver.page_source)\n",
    "    \n",
    "    domain = 'https://www.amazon.com'\n",
    "    links = soup.find('div', {'id':'zg-center-div'}).find_all('a', {'class':'a-link-normal a-text-normal'})\n",
    "    linklist = []\n",
    "    for link in links:\n",
    "        k = link.get('href')\n",
    "        linklist.append(domain + k)\n",
    "    return linklist"
   ]
  },
  {
   "cell_type": "code",
   "execution_count": 36,
   "metadata": {
    "scrolled": true
   },
   "outputs": [
    {
     "data": {
      "text/plain": [
       "['https://www.amazon.com/Logitech-Wireless-Keyboard-Control-Touchpad/dp/B014EUQOGK/ref=zg_bs_12879431_1/146-4822185-1108748?_encoding=UTF8&psc=1&refRID=QAZM4MM589RVJMSQFJXG',\n",
       " 'https://www.amazon.com/Apple-Keyboard-Numeric-Wireless-Rechargable/dp/B071ZZTNBM/ref=zg_bs_12879431_2/146-4822185-1108748?_encoding=UTF8&psc=1&refRID=QAZM4MM589RVJMSQFJXG',\n",
       " 'https://www.amazon.com/Arteck-HB030B-Universal-Bluetooth-Rechargeable/dp/B00X5P8BJO/ref=zg_bs_12879431_3/146-4822185-1108748?_encoding=UTF8&psc=1&refRID=QAZM4MM589RVJMSQFJXG',\n",
       " 'https://www.amazon.com/Arteck-Wireless-Keyboard-Stainless-Rechargeable/dp/B07D34L57F/ref=zg_bs_12879431_4/146-4822185-1108748?_encoding=UTF8&psc=1&refRID=QAZM4MM589RVJMSQFJXG',\n",
       " 'https://www.amazon.com/Apple-Keyboard-Wireless-Rechargable-English/dp/B016QO64FI/ref=zg_bs_12879431_5/146-4822185-1108748?_encoding=UTF8&psc=1&refRID=QAZM4MM589RVJMSQFJXG',\n",
       " 'https://www.amazon.com/AmazonBasics-KU-0833-Wired-Keyboard/dp/B005EOWBHC/ref=zg_bs_12879431_6/146-4822185-1108748?_encoding=UTF8&psc=1&refRID=QAZM4MM589RVJMSQFJXG',\n",
       " 'https://www.amazon.com/Microsoft-Natural-Ergonomic-Keyboard-Business/dp/B004SUIM4E/ref=zg_bs_12879431_7/146-4822185-1108748?_encoding=UTF8&psc=1&refRID=QAZM4MM589RVJMSQFJXG',\n",
       " 'https://www.amazon.com/Logitech-K380-Multi-Device-Bluetooth-Keyboard/dp/B0148NPH9I/ref=zg_bs_12879431_8/146-4822185-1108748?_encoding=UTF8&psc=1&refRID=QAZM4MM589RVJMSQFJXG',\n",
       " 'https://www.amazon.com/OMOTON-Ultra-Slim-Bluetooth-Keyboard-Enabled/dp/B00GD1BGYO/ref=zg_bs_12879431_9/146-4822185-1108748?_encoding=UTF8&psc=1&refRID=QAZM4MM589RVJMSQFJXG',\n",
       " 'https://www.amazon.com/Logitech-G613-Lightspeed-Mechanical-Multihost-Connectivity/dp/B07796MBJ7/ref=zg_bs_12879431_10/146-4822185-1108748?_encoding=UTF8&psc=1&refRID=QAZM4MM589RVJMSQFJXG',\n",
       " 'https://www.amazon.com/Logitech-K800-Wireless-Illuminated-Keyboard/dp/B003VAGXWK/ref=zg_bs_12879431_11/146-4822185-1108748?_encoding=UTF8&psc=1&refRID=QAZM4MM589RVJMSQFJXG',\n",
       " 'https://www.amazon.com/Microsoft-Ergonomic-Keyboard-Business-5KV-00001/dp/B00CYX26BC/ref=zg_bs_12879431_12/146-4822185-1108748?_encoding=UTF8&psc=1&refRID=QAZM4MM589RVJMSQFJXG',\n",
       " 'https://www.amazon.com/Logitech-Slim-Integrated-Bluetooth-Keyboard-Generation/dp/B07F2NTH91/ref=zg_bs_12879431_13/146-4822185-1108748?_encoding=UTF8&psc=1&refRID=QAZM4MM589RVJMSQFJXG',\n",
       " 'https://www.amazon.com/Logitech-Keyboard-Dedicated-Controls-Spill-Resistant/dp/B01K48R5V4/ref=zg_bs_12879431_14/146-4822185-1108748?_encoding=UTF8&psc=1&refRID=QAZM4MM589RVJMSQFJXG',\n",
       " 'https://www.amazon.com/Microsoft-Natural-Ergonomic-Keyboard-4000/dp/B000A6PPOK/ref=zg_bs_12879431_15/146-4822185-1108748?_encoding=UTF8&psc=1&refRID=QAZM4MM589RVJMSQFJXG',\n",
       " 'https://www.amazon.com/Logitech-Bluetooth-Multi-Device-Keyboard-K480/dp/B00MUTWLW4/ref=zg_bs_12879431_16/146-4822185-1108748?_encoding=UTF8&psc=1&refRID=QAZM4MM589RVJMSQFJXG',\n",
       " 'https://www.amazon.com/VicTsing-Keyboard-Ultra-Thin-Computer-Desktop-Black/dp/B07DRG6ZVD/ref=zg_bs_12879431_17/146-4822185-1108748?_encoding=UTF8&psc=1&refRID=QAZM4MM589RVJMSQFJXG',\n",
       " 'https://www.amazon.com/Logitech-K350-2-4Ghz-Wireless-Keyboard/dp/B002MMY4WY/ref=zg_bs_12879431_18/146-4822185-1108748?_encoding=UTF8&psc=1&refRID=QAZM4MM589RVJMSQFJXG',\n",
       " 'https://www.amazon.com/Apple-Keyboard-Numeric-Wireless-Rechargable/dp/B07BR9ZBZ5/ref=zg_bs_12879431_19/146-4822185-1108748?_encoding=UTF8&psc=1&refRID=QAZM4MM589RVJMSQFJXG',\n",
       " 'https://www.amazon.com/OMOTON-Ultra-Slim-Bluetooth-Keyboard-Compatible/dp/B00B24I4II/ref=zg_bs_12879431_20/146-4822185-1108748?_encoding=UTF8&psc=1&refRID=QAZM4MM589RVJMSQFJXG',\n",
       " 'https://www.amazon.com/Logitech-Advanced-Wireless-Illuminated-Keyboard/dp/B07S92QBCJ/ref=zg_bs_12879431_21/146-4822185-1108748?_encoding=UTF8&psc=1&refRID=QAZM4MM589RVJMSQFJXG',\n",
       " 'https://www.amazon.com/HyperX-Double-Shot-PBT-Keycaps/dp/B07RJ63MPN/ref=zg_bs_12879431_22/146-4822185-1108748?_encoding=UTF8&psc=1&refRID=QAZM4MM589RVJMSQFJXG',\n",
       " 'https://www.amazon.com/Dell-Wired-Keyboard-Black-580-ADMT/dp/B00ZYLMQH0/ref=zg_bs_12879431_23/146-4822185-1108748?_encoding=UTF8&psc=1&refRID=QAZM4MM589RVJMSQFJXG',\n",
       " 'https://www.amazon.com/Bluetooth-Jelly-Comb-Rechargable-Tablet-Dark/dp/B07P2HW12P/ref=zg_bs_12879431_24/146-4822185-1108748?_encoding=UTF8&psc=1&refRID=QAZM4MM589RVJMSQFJXG',\n",
       " 'https://www.amazon.com/Infrared-Learning-Universal-iPazzPort-Bluetooth/dp/B077N9XJ7Q/ref=zg_bs_12879431_25/146-4822185-1108748?_encoding=UTF8&psc=1&refRID=QAZM4MM589RVJMSQFJXG',\n",
       " 'https://www.amazon.com/Logitech-Multi-Device-Wireless-Keyboard-Computer/dp/B01LZAK8MM/ref=zg_bs_12879431_26/146-4822185-1108748?_encoding=UTF8&psc=1&refRID=QAZM4MM589RVJMSQFJXG',\n",
       " 'https://www.amazon.com/AmazonBasics-Wireless-Keyboard-Mouse-Combo/dp/B0787CVBWP/ref=zg_bs_12879431_27/146-4822185-1108748?_encoding=UTF8&psc=1&refRID=QAZM4MM589RVJMSQFJXG',\n",
       " 'https://www.amazon.com/Logitech-Illuminated-Living-Room-Keyboard-Touchpad/dp/B00ZOPVSKW/ref=zg_bs_12879431_28/146-4822185-1108748?_encoding=UTF8&psc=1&refRID=QAZM4MM589RVJMSQFJXG',\n",
       " 'https://www.amazon.com/Perixx-11474-PERIBOARD-317-Illuminated-Dimension/dp/B06XW8QXVG/ref=zg_bs_12879431_29/146-4822185-1108748?_encoding=UTF8&psc=1&refRID=QAZM4MM589RVJMSQFJXG',\n",
       " 'https://www.amazon.com/HP-Wireless-Elite-Keyboard-v2/dp/B005HNHRA6/ref=zg_bs_12879431_30/146-4822185-1108748?_encoding=UTF8&psc=1&refRID=QAZM4MM589RVJMSQFJXG',\n",
       " 'https://www.amazon.com/iClever-Bluetooth-Keyboard-Foldable-Smartphones/dp/B00YWLJNPQ/ref=zg_bs_12879431_31/146-4822185-1108748?_encoding=UTF8&psc=1&refRID=QAZM4MM589RVJMSQFJXG',\n",
       " 'https://www.amazon.com/Logitech-Wireless-Keyboard-Windows-Recharging/dp/B004MF11MU/ref=zg_bs_12879431_32/146-4822185-1108748?_encoding=UTF8&psc=1&refRID=QAZM4MM589RVJMSQFJXG',\n",
       " 'https://www.amazon.com/Logitech-Wireless-Keyboard-Multi-Touch-Touchpad/dp/B005DKZTMG/ref=zg_bs_12879431_33/146-4822185-1108748?_encoding=UTF8&psc=1&refRID=QAZM4MM589RVJMSQFJXG',\n",
       " 'https://www.amazon.com/Logitech-K750-Wireless-Solar-Keyboard/dp/B005L38VRU/ref=zg_bs_12879431_34/146-4822185-1108748?_encoding=UTF8&psc=1&refRID=QAZM4MM589RVJMSQFJXG',\n",
       " 'https://www.amazon.com/Microsoft-Wired-Keyboard-600-Black/dp/B001OAR26K/ref=zg_bs_12879431_35/146-4822185-1108748?_encoding=UTF8&psc=1&refRID=QAZM4MM589RVJMSQFJXG',\n",
       " 'https://www.amazon.com/Arteck-Wireless-Keyboard-Stainless-Rechargeable/dp/B073TSKFRX/ref=zg_bs_12879431_36/146-4822185-1108748?_encoding=UTF8&psc=1&refRID=QAZM4MM589RVJMSQFJXG',\n",
       " 'https://www.amazon.com/Wireless-Keyboard-JOYACCESS-Compact-Keyboard-Black/dp/B07K6MGLDL/ref=zg_bs_12879431_37/146-4822185-1108748?_encoding=UTF8&psc=1&refRID=QAZM4MM589RVJMSQFJXG',\n",
       " 'https://www.amazon.com/Fosmon-Portable-Lightweight-Bluetooth-Controller/dp/B00BX0YKX4/ref=zg_bs_12879431_38/146-4822185-1108748?_encoding=UTF8&psc=1&refRID=QAZM4MM589RVJMSQFJXG',\n",
       " 'https://www.amazon.com/OMOTON-Ultra-Slim-Bluetooth-Compatible-10-2-inch/dp/B07SBZ9SM4/ref=zg_bs_12879431_39/146-4822185-1108748?_encoding=UTF8&psc=1&refRID=QAZM4MM589RVJMSQFJXG',\n",
       " 'https://www.amazon.com/Rii-Ultra-Slim-Compact-Keyboard-Windows/dp/B077P45VND/ref=zg_bs_12879431_40/146-4822185-1108748?_encoding=UTF8&psc=1&refRID=QAZM4MM589RVJMSQFJXG',\n",
       " 'https://www.amazon.com/Logitech-Illuminated-Ultrathin-Laser-etched-Soft-touch/dp/B001F51G16/ref=zg_bs_12879431_41/146-4822185-1108748?_encoding=UTF8&psc=1&refRID=QAZM4MM589RVJMSQFJXG',\n",
       " 'https://www.amazon.com/Razer-BlackWidow-Mechanical-Gaming-Keyboard/dp/B07NZX84HB/ref=zg_bs_12879431_42/146-4822185-1108748?_encoding=UTF8&psc=1&refRID=QAZM4MM589RVJMSQFJXG',\n",
       " 'https://www.amazon.com/Microsoft-Type-Cover-Surface-Pro/dp/B0163H1HT6/ref=zg_bs_12879431_43/146-4822185-1108748?_encoding=UTF8&psc=1&refRID=QAZM4MM589RVJMSQFJXG',\n",
       " 'https://www.amazon.com/Foldable-Bluetooth-Keyboard-Jelly-Comb/dp/B076V9Y2XZ/ref=zg_bs_12879431_44/146-4822185-1108748?_encoding=UTF8&psc=1&refRID=QAZM4MM589RVJMSQFJXG',\n",
       " 'https://www.amazon.com/Ducky-Double-Mechanical-Keyboard-Cherry/dp/B07S1GQRQS/ref=zg_bs_12879431_45/146-4822185-1108748?_encoding=UTF8&psc=1&refRID=QAZM4MM589RVJMSQFJXG',\n",
       " 'https://www.amazon.com/Tecware-Phantom-Mechanical-Keyboard-Outemu/dp/B079HTZQYV/ref=zg_bs_12879431_46/146-4822185-1108748?_encoding=UTF8&psc=1&refRID=QAZM4MM589RVJMSQFJXG',\n",
       " 'https://www.amazon.com/Ducky-Double-Mechanical-Keyboard-Cherry/dp/B07S3KR2P5/ref=zg_bs_12879431_47/146-4822185-1108748?_encoding=UTF8&psc=1&refRID=QAZM4MM589RVJMSQFJXG',\n",
       " 'https://www.amazon.com/iClever-Backlight-Tri-Folding-Bluetooth-Smartphones/dp/B018K5EJCQ/ref=zg_bs_12879431_48/146-4822185-1108748?_encoding=UTF8&psc=1&refRID=QAZM4MM589RVJMSQFJXG',\n",
       " 'https://www.amazon.com/Microsoft-LXM-00001-Ergonomic-Keyboard/dp/B07Y414QXJ/ref=zg_bs_12879431_49/146-4822185-1108748?_encoding=UTF8&psc=1&refRID=QAZM4MM589RVJMSQFJXG',\n",
       " 'https://www.amazon.com/Apple-Wireless-Keyboard-MLA22LL-Bluetooth/dp/B01N59VJED/ref=zg_bs_12879431_50/146-4822185-1108748?_encoding=UTF8&psc=1&refRID=QAZM4MM589RVJMSQFJXG']"
      ]
     },
     "execution_count": 36,
     "metadata": {},
     "output_type": "execute_result"
    }
   ],
   "source": [
    "FindLinks('https://www.amazon.com/Best-Sellers-Computers-Accessories-Computer-Keyboards/zgbs/pc/12879431/ref=zg_bs_pg_1?_encoding=UTF8&pg=1')"
   ]
  },
  {
   "cell_type": "code",
   "execution_count": 17,
   "metadata": {},
   "outputs": [
    {
     "data": {
      "text/plain": [
       "50"
      ]
     },
     "execution_count": 17,
     "metadata": {},
     "output_type": "execute_result"
    }
   ],
   "source": [
    "len(FindLinks('https://www.amazon.com/Best-Sellers-Computers-Accessories-Computer-Keyboards/zgbs/pc/12879431/ref=zg_bs_pg_1?_encoding=UTF8&pg=1'))"
   ]
  },
  {
   "cell_type": "code",
   "execution_count": 62,
   "metadata": {},
   "outputs": [],
   "source": [
    "def GetGoods(response):\n",
    "    soup2 = BeautifulSoup(response.text)\n",
    "    df = pd.DataFrame(data = [{'h1':soup2.find('span', attrs={'class':'a-size-medium'}).text.strip(),\n",
    "                               'Brand':soup2.find('a', attrs={'class':'a-link-normal'}).text, \n",
    "                               'Star':soup2.find('span',attrs={'class':'a-icon-alt'}).text,\n",
    "                               'Ratings':soup2.find('span', attrs={'class':'a-size-base'}).text.strip(),\n",
    "                               'answered questions':soup2.find('span', attrs={'class':'a-size-base'}).text.strip(),\n",
    "                               'Price':soup2.find('span', attrs={'id':'priceblock_ourprice'}).text.strip() }],\n",
    "                               columns = ['Name', 'Brand', 'Star', 'Ratings', 'answered questions', 'Price']) \n",
    "    return df"
   ]
  },
  {
   "cell_type": "code",
   "execution_count": 63,
   "metadata": {
    "scrolled": true
   },
   "outputs": [
    {
     "data": {
      "text/html": [
       "<div>\n",
       "<style scoped>\n",
       "    .dataframe tbody tr th:only-of-type {\n",
       "        vertical-align: middle;\n",
       "    }\n",
       "\n",
       "    .dataframe tbody tr th {\n",
       "        vertical-align: top;\n",
       "    }\n",
       "\n",
       "    .dataframe thead th {\n",
       "        text-align: right;\n",
       "    }\n",
       "</style>\n",
       "<table border=\"1\" class=\"dataframe\">\n",
       "  <thead>\n",
       "    <tr style=\"text-align: right;\">\n",
       "      <th></th>\n",
       "      <th>Name</th>\n",
       "      <th>Brand</th>\n",
       "      <th>Star</th>\n",
       "      <th>Ratings</th>\n",
       "      <th>answered questions</th>\n",
       "      <th>Price</th>\n",
       "    </tr>\n",
       "  </thead>\n",
       "  <tbody>\n",
       "    <tr>\n",
       "      <th>0</th>\n",
       "      <td>NaN</td>\n",
       "      <td>Apple</td>\n",
       "      <td>4.5 out of 5 stars</td>\n",
       "      <td>Apple</td>\n",
       "      <td>Apple</td>\n",
       "      <td>$88.99</td>\n",
       "    </tr>\n",
       "  </tbody>\n",
       "</table>\n",
       "</div>"
      ],
      "text/plain": [
       "   Name  Brand                Star Ratings answered questions   Price\n",
       "0   NaN  Apple  4.5 out of 5 stars   Apple              Apple  $88.99"
      ]
     },
     "execution_count": 63,
     "metadata": {},
     "output_type": "execute_result"
    }
   ],
   "source": [
    "url = 'https://www.amazon.com/Apple-Keyboard-Wireless-Rechargable-English/dp/B016QO64FI/ref=zg_bs_12879431_5?_encoding=UTF8&psc=1&refRID=502W0E9JNS2ABXWQRNFX'\n",
    "headers = {\"user-agent\": \"Mozilla/5.0 (Linux; Android 6.0; Nexus 5 Build/MRA58N) AppleWebKit/537.36 (KHTML, like Gecko) Chrome/79.0.3945.79 Mobile Safari/537.36\"}\n",
    "resp = requests.get(url, headers=headers)\n",
    "GetGoods(resp)"
   ]
  },
  {
   "cell_type": "code",
   "execution_count": 64,
   "metadata": {},
   "outputs": [
    {
     "ename": "AttributeError",
     "evalue": "'NoneType' object has no attribute 'text'",
     "output_type": "error",
     "traceback": [
      "\u001b[1;31m---------------------------------------------------------------------------\u001b[0m",
      "\u001b[1;31mAttributeError\u001b[0m                            Traceback (most recent call last)",
      "\u001b[1;32m<ipython-input-64-e502a669de52>\u001b[0m in \u001b[0;36m<module>\u001b[1;34m\u001b[0m\n\u001b[0;32m      2\u001b[0m \u001b[0mheaders\u001b[0m \u001b[1;33m=\u001b[0m \u001b[1;33m{\u001b[0m\u001b[1;34m\"user-agent\"\u001b[0m\u001b[1;33m:\u001b[0m \u001b[1;34m\"Mozilla/5.0 (Linux; Android 6.0; Nexus 5 Build/MRA58N) AppleWebKit/537.36 (KHTML, like Gecko) Chrome/79.0.3945.79 Mobile Safari/537.36\"\u001b[0m\u001b[1;33m}\u001b[0m\u001b[1;33m\u001b[0m\u001b[1;33m\u001b[0m\u001b[0m\n\u001b[0;32m      3\u001b[0m \u001b[0mresp\u001b[0m \u001b[1;33m=\u001b[0m \u001b[0mrequests\u001b[0m\u001b[1;33m.\u001b[0m\u001b[0mget\u001b[0m\u001b[1;33m(\u001b[0m\u001b[0murl\u001b[0m\u001b[1;33m,\u001b[0m \u001b[0mheaders\u001b[0m\u001b[1;33m=\u001b[0m\u001b[0mheaders\u001b[0m\u001b[1;33m)\u001b[0m\u001b[1;33m\u001b[0m\u001b[1;33m\u001b[0m\u001b[0m\n\u001b[1;32m----> 4\u001b[1;33m \u001b[0mGetGoods\u001b[0m\u001b[1;33m(\u001b[0m\u001b[0mresp\u001b[0m\u001b[1;33m)\u001b[0m\u001b[1;33m\u001b[0m\u001b[1;33m\u001b[0m\u001b[0m\n\u001b[0m",
      "\u001b[1;32m<ipython-input-62-1a78f413e79a>\u001b[0m in \u001b[0;36mGetGoods\u001b[1;34m(response)\u001b[0m\n\u001b[0;32m      6\u001b[0m                                \u001b[1;34m'Ratings'\u001b[0m\u001b[1;33m:\u001b[0m\u001b[0msoup2\u001b[0m\u001b[1;33m.\u001b[0m\u001b[0mfind\u001b[0m\u001b[1;33m(\u001b[0m\u001b[1;34m'span'\u001b[0m\u001b[1;33m,\u001b[0m \u001b[0mattrs\u001b[0m\u001b[1;33m=\u001b[0m\u001b[1;33m{\u001b[0m\u001b[1;34m'class'\u001b[0m\u001b[1;33m:\u001b[0m\u001b[1;34m'a-size-base'\u001b[0m\u001b[1;33m}\u001b[0m\u001b[1;33m)\u001b[0m\u001b[1;33m.\u001b[0m\u001b[0mtext\u001b[0m\u001b[1;33m.\u001b[0m\u001b[0mstrip\u001b[0m\u001b[1;33m(\u001b[0m\u001b[1;33m)\u001b[0m\u001b[1;33m,\u001b[0m\u001b[1;33m\u001b[0m\u001b[1;33m\u001b[0m\u001b[0m\n\u001b[0;32m      7\u001b[0m                                \u001b[1;34m'answered questions'\u001b[0m\u001b[1;33m:\u001b[0m\u001b[0msoup2\u001b[0m\u001b[1;33m.\u001b[0m\u001b[0mfind\u001b[0m\u001b[1;33m(\u001b[0m\u001b[1;34m'span'\u001b[0m\u001b[1;33m,\u001b[0m \u001b[0mattrs\u001b[0m\u001b[1;33m=\u001b[0m\u001b[1;33m{\u001b[0m\u001b[1;34m'class'\u001b[0m\u001b[1;33m:\u001b[0m\u001b[1;34m'a-size-base'\u001b[0m\u001b[1;33m}\u001b[0m\u001b[1;33m)\u001b[0m\u001b[1;33m.\u001b[0m\u001b[0mtext\u001b[0m\u001b[1;33m.\u001b[0m\u001b[0mstrip\u001b[0m\u001b[1;33m(\u001b[0m\u001b[1;33m)\u001b[0m\u001b[1;33m,\u001b[0m\u001b[1;33m\u001b[0m\u001b[1;33m\u001b[0m\u001b[0m\n\u001b[1;32m----> 8\u001b[1;33m                                'Price':soup2.find('span', attrs={'id':'priceblock_ourprice'}).text.strip() }],\n\u001b[0m\u001b[0;32m      9\u001b[0m                                columns = ['Name', 'Brand', 'Star', 'Ratings', 'answered questions', 'Price']) \n\u001b[0;32m     10\u001b[0m     \u001b[1;32mreturn\u001b[0m \u001b[0mdf\u001b[0m\u001b[1;33m\u001b[0m\u001b[1;33m\u001b[0m\u001b[0m\n",
      "\u001b[1;31mAttributeError\u001b[0m: 'NoneType' object has no attribute 'text'"
     ]
    }
   ],
   "source": [
    "url = 'https://www.amazon.com/Microsoft-Natural-Ergonomic-Keyboard-Business/dp/B004SUIM4E/ref=zg_bs_12879431_7?_encoding=UTF8&psc=1&refRID=A33QFR86TCJAH5FD99H2'\n",
    "headers = {\"user-agent\": \"Mozilla/5.0 (Linux; Android 6.0; Nexus 5 Build/MRA58N) AppleWebKit/537.36 (KHTML, like Gecko) Chrome/79.0.3945.79 Mobile Safari/537.36\"}\n",
    "resp = requests.get(url, headers=headers)\n",
    "GetGoods(resp)"
   ]
  },
  {
   "cell_type": "code",
   "execution_count": 49,
   "metadata": {
    "scrolled": true
   },
   "outputs": [
    {
     "data": {
      "text/plain": [
       "['https://tw.mall.yahoo.com/item/p0904196550128',\n",
       " 'https://tw.mall.yahoo.com/item/p0904108728569',\n",
       " 'https://tw.mall.yahoo.com/item/p090415882600',\n",
       " 'https://tw.mall.yahoo.com/item/p0904144506389',\n",
       " 'https://tw.mall.yahoo.com/item/p0904108729320',\n",
       " 'https://tw.mall.yahoo.com/item/p0904157320416',\n",
       " 'https://tw.mall.yahoo.com/item/p049917840109',\n",
       " 'https://tw.mall.yahoo.com/item/p054277396957',\n",
       " 'https://tw.mall.yahoo.com/item/p0844121957574',\n",
       " 'https://tw.mall.yahoo.com/item/p030984579080']"
      ]
     },
     "execution_count": 49,
     "metadata": {},
     "output_type": "execute_result"
    }
   ],
   "source": [
    "urls = 'https://tw.search.mall.yahoo.com/search/mall/product?kw=%E6%98%86%E7%9B%88&p=%E6%98%86%E7%9B%88&cid=0&clv=0'\n",
    "FindLinks(urls)"
   ]
  },
  {
   "cell_type": "code",
   "execution_count": 79,
   "metadata": {},
   "outputs": [
    {
     "data": {
      "text/plain": [
       "[                               TITLE   Price Activity Price\n",
       " 0  GENIUS 昆盈 DX-110 (USB) 熱力紅 有線光學滑鼠  [149元]           135元,\n",
       "                            TITLE   Price Activity Price\n",
       " 0  Genius 昆盈 NX-7000 沉穩黑 藍光 無線滑鼠  [299元]           274元,\n",
       "                                 TITLE   Price Activity Price\n",
       " 0  Genius 昆盈 MAURUS 沙漠黃金蠍 FPS 專業 電競滑鼠  [700元]           650元,\n",
       "                           TITLE   Price Activity Price\n",
       " 0  Genius 昆盈 NX-7000 藍光無線滑鼠 熱情紅  [299元]           274元,\n",
       "                            TITLE   Price Activity Price\n",
       " 0  Genius 昆盈 NX-7015 閃耀銀 無線 藍光滑鼠  [299元]           274元,\n",
       "                                        TITLE   Price Activity Price\n",
       " 0  Genius 昆盈 NX-7000 藍光無線滑鼠-海洋藍 (NX-7000-BL)  [299元]           274元,\n",
       "                                                TITLE Price Activity Price\n",
       " 0  【貓頭鷹3C】Genius 昆盈 GX Gaming DeathTaker 奪命蠍-MMO/...  None          1290元,\n",
       "                                               TITLE Price Activity Price\n",
       " 0  {光華成功NO.1}  昆盈 Genius NS-6000 2.4G 無線光學滑鼠  喔!看呢來  None           450元,\n",
       "                                                TITLE Price Activity Price\n",
       " 0  新竹【超人3C】enius 昆盈 GX Gaming GX-CONTROL 320mmX23...  None           302元,\n",
       "                                                TITLE Price Activity Price\n",
       " 0  全新 Genius昆盈GX Gaming Mordax HS-G600 震天青尾蠍震撼電競耳...  None          1290元]"
      ]
     },
     "execution_count": 79,
     "metadata": {},
     "output_type": "execute_result"
    }
   ],
   "source": [
    "urls = 'https://tw.search.mall.yahoo.com/search/mall/product?kw=%E6%98%86%E7%9B%88&p=%E6%98%86%E7%9B%88&cid=0&clv=0'\n",
    "ndf = []\n",
    "for i in FindLinks(urls):\n",
    "    res = requests.get(i)\n",
    "    g = GetGoods(res)\n",
    "    ndf.append(g)\n",
    "    time.sleep(1)\n",
    "ndf"
   ]
  },
  {
   "cell_type": "code",
   "execution_count": 83,
   "metadata": {},
   "outputs": [
    {
     "data": {
      "text/html": [
       "<div>\n",
       "<style scoped>\n",
       "    .dataframe tbody tr th:only-of-type {\n",
       "        vertical-align: middle;\n",
       "    }\n",
       "\n",
       "    .dataframe tbody tr th {\n",
       "        vertical-align: top;\n",
       "    }\n",
       "\n",
       "    .dataframe thead th {\n",
       "        text-align: right;\n",
       "    }\n",
       "</style>\n",
       "<table border=\"1\" class=\"dataframe\">\n",
       "  <thead>\n",
       "    <tr style=\"text-align: right;\">\n",
       "      <th></th>\n",
       "      <th>TITLE</th>\n",
       "      <th>Price</th>\n",
       "      <th>Activity Price</th>\n",
       "    </tr>\n",
       "  </thead>\n",
       "  <tbody>\n",
       "    <tr>\n",
       "      <th>0</th>\n",
       "      <td>GENIUS 昆盈 DX-110 (USB) 熱力紅 有線光學滑鼠</td>\n",
       "      <td>[149元]</td>\n",
       "      <td>135元</td>\n",
       "    </tr>\n",
       "    <tr>\n",
       "      <th>0</th>\n",
       "      <td>Genius 昆盈 NX-7000 沉穩黑 藍光 無線滑鼠</td>\n",
       "      <td>[299元]</td>\n",
       "      <td>274元</td>\n",
       "    </tr>\n",
       "    <tr>\n",
       "      <th>0</th>\n",
       "      <td>Genius 昆盈 MAURUS 沙漠黃金蠍 FPS 專業 電競滑鼠</td>\n",
       "      <td>[700元]</td>\n",
       "      <td>650元</td>\n",
       "    </tr>\n",
       "    <tr>\n",
       "      <th>0</th>\n",
       "      <td>Genius 昆盈 NX-7000 藍光無線滑鼠 熱情紅</td>\n",
       "      <td>[299元]</td>\n",
       "      <td>274元</td>\n",
       "    </tr>\n",
       "    <tr>\n",
       "      <th>0</th>\n",
       "      <td>Genius 昆盈 NX-7015 閃耀銀 無線 藍光滑鼠</td>\n",
       "      <td>[299元]</td>\n",
       "      <td>274元</td>\n",
       "    </tr>\n",
       "    <tr>\n",
       "      <th>0</th>\n",
       "      <td>Genius 昆盈 NX-7000 藍光無線滑鼠-海洋藍 (NX-7000-BL)</td>\n",
       "      <td>[299元]</td>\n",
       "      <td>274元</td>\n",
       "    </tr>\n",
       "    <tr>\n",
       "      <th>0</th>\n",
       "      <td>【貓頭鷹3C】Genius 昆盈 GX Gaming DeathTaker 奪命蠍-MMO/...</td>\n",
       "      <td>None</td>\n",
       "      <td>1290元</td>\n",
       "    </tr>\n",
       "    <tr>\n",
       "      <th>0</th>\n",
       "      <td>{光華成功NO.1}  昆盈 Genius NS-6000 2.4G 無線光學滑鼠  喔!看呢來</td>\n",
       "      <td>None</td>\n",
       "      <td>450元</td>\n",
       "    </tr>\n",
       "    <tr>\n",
       "      <th>0</th>\n",
       "      <td>新竹【超人3C】enius 昆盈 GX Gaming GX-CONTROL 320mmX23...</td>\n",
       "      <td>None</td>\n",
       "      <td>302元</td>\n",
       "    </tr>\n",
       "    <tr>\n",
       "      <th>0</th>\n",
       "      <td>全新 Genius昆盈GX Gaming Mordax HS-G600 震天青尾蠍震撼電競耳...</td>\n",
       "      <td>None</td>\n",
       "      <td>1290元</td>\n",
       "    </tr>\n",
       "  </tbody>\n",
       "</table>\n",
       "</div>"
      ],
      "text/plain": [
       "                                               TITLE   Price Activity Price\n",
       "0                  GENIUS 昆盈 DX-110 (USB) 熱力紅 有線光學滑鼠  [149元]           135元\n",
       "0                      Genius 昆盈 NX-7000 沉穩黑 藍光 無線滑鼠  [299元]           274元\n",
       "0                 Genius 昆盈 MAURUS 沙漠黃金蠍 FPS 專業 電競滑鼠  [700元]           650元\n",
       "0                       Genius 昆盈 NX-7000 藍光無線滑鼠 熱情紅  [299元]           274元\n",
       "0                      Genius 昆盈 NX-7015 閃耀銀 無線 藍光滑鼠  [299元]           274元\n",
       "0          Genius 昆盈 NX-7000 藍光無線滑鼠-海洋藍 (NX-7000-BL)  [299元]           274元\n",
       "0  【貓頭鷹3C】Genius 昆盈 GX Gaming DeathTaker 奪命蠍-MMO/...    None          1290元\n",
       "0   {光華成功NO.1}  昆盈 Genius NS-6000 2.4G 無線光學滑鼠  喔!看呢來    None           450元\n",
       "0  新竹【超人3C】enius 昆盈 GX Gaming GX-CONTROL 320mmX23...    None           302元\n",
       "0  全新 Genius昆盈GX Gaming Mordax HS-G600 震天青尾蠍震撼電競耳...    None          1290元"
      ]
     },
     "execution_count": 83,
     "metadata": {},
     "output_type": "execute_result"
    }
   ],
   "source": [
    "df_all = pd.concat(ndf)\n",
    "df_all"
   ]
  },
  {
   "cell_type": "code",
   "execution_count": null,
   "metadata": {},
   "outputs": [],
   "source": []
  }
 ],
 "metadata": {
  "kernelspec": {
   "display_name": "Python 3",
   "language": "python",
   "name": "python3"
  },
  "language_info": {
   "codemirror_mode": {
    "name": "ipython",
    "version": 3
   },
   "file_extension": ".py",
   "mimetype": "text/x-python",
   "name": "python",
   "nbconvert_exporter": "python",
   "pygments_lexer": "ipython3",
   "version": "3.7.1"
  }
 },
 "nbformat": 4,
 "nbformat_minor": 2
}
