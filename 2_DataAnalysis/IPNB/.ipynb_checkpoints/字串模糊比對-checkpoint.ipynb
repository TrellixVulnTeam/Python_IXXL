{
 "cells": [
  {
   "cell_type": "code",
   "execution_count": null,
   "metadata": {},
   "outputs": [],
   "source": [
    "字串模糊比對"
   ]
  },
  {
   "cell_type": "markdown",
   "metadata": {},
   "source": [
    "# FuzzyWuzzy\n",
    "在電腦科學中，字串模糊匹配（fuzzy string matching）是一種近似地（而不是精確地）查詢與模式匹配的字串的技術。<br>\n",
    "換句話說，字串模糊匹配是一種搜尋，即使使用者拼錯單詞或只輸入部分單詞進行搜尋，也能夠找到匹配項。因此，它也被稱為字串近似匹配。"
   ]
  },
  {
   "cell_type": "code",
   "execution_count": 62,
   "metadata": {},
   "outputs": [
    {
     "name": "stdout",
     "output_type": "stream",
     "text": [
      "Collecting fuzzywuzzy\n",
      "  Downloading https://files.pythonhosted.org/packages/43/ff/74f23998ad2f93b945c0309f825be92e04e0348e062026998b5eefef4c33/fuzzywuzzy-0.18.0-py2.py3-none-any.whl\n",
      "Installing collected packages: fuzzywuzzy\n",
      "Successfully installed fuzzywuzzy-0.18.0\n"
     ]
    }
   ],
   "source": [
    "!pip install fuzzywuzzy"
   ]
  },
  {
   "cell_type": "markdown",
   "metadata": {},
   "source": [
    "## 使用FuzzyWuzzy合併房型"
   ]
  },
  {
   "cell_type": "code",
   "execution_count": 5,
   "metadata": {},
   "outputs": [
    {
     "data": {
      "text/html": [
       "<div>\n",
       "<style scoped>\n",
       "    .dataframe tbody tr th:only-of-type {\n",
       "        vertical-align: middle;\n",
       "    }\n",
       "\n",
       "    .dataframe tbody tr th {\n",
       "        vertical-align: top;\n",
       "    }\n",
       "\n",
       "    .dataframe thead th {\n",
       "        text-align: right;\n",
       "    }\n",
       "</style>\n",
       "<table border=\"1\" class=\"dataframe\">\n",
       "  <thead>\n",
       "    <tr style=\"text-align: right;\">\n",
       "      <th></th>\n",
       "      <th>Expedia</th>\n",
       "      <th>Booking.com</th>\n",
       "    </tr>\n",
       "  </thead>\n",
       "  <tbody>\n",
       "    <tr>\n",
       "      <th>0</th>\n",
       "      <td>Deluxe Room, 1 King Bed</td>\n",
       "      <td>Deluxe King Room</td>\n",
       "    </tr>\n",
       "    <tr>\n",
       "      <th>1</th>\n",
       "      <td>Standard Room, 1 King Bed, Accessible</td>\n",
       "      <td>Standard King Roll-in Shower Accessible</td>\n",
       "    </tr>\n",
       "    <tr>\n",
       "      <th>2</th>\n",
       "      <td>Grand Corner King Room, 1 King Bed</td>\n",
       "      <td>Grand Corner King Room</td>\n",
       "    </tr>\n",
       "    <tr>\n",
       "      <th>3</th>\n",
       "      <td>Suite, 1 King Bed (Parlor)</td>\n",
       "      <td>King Parlor Suite</td>\n",
       "    </tr>\n",
       "    <tr>\n",
       "      <th>4</th>\n",
       "      <td>High-Floor Premium Room, 1 King Bed</td>\n",
       "      <td>High-Floor Premium King Room</td>\n",
       "    </tr>\n",
       "    <tr>\n",
       "      <th>5</th>\n",
       "      <td>Traditional Double Room, 2 Double Beds</td>\n",
       "      <td>Double Room with Two Double Beds</td>\n",
       "    </tr>\n",
       "    <tr>\n",
       "      <th>6</th>\n",
       "      <td>Room, 1 King Bed, Accessible</td>\n",
       "      <td>King Room - Disability Access</td>\n",
       "    </tr>\n",
       "    <tr>\n",
       "      <th>7</th>\n",
       "      <td>Deluxe Room, 1 King Bed</td>\n",
       "      <td>Deluxe King Room</td>\n",
       "    </tr>\n",
       "    <tr>\n",
       "      <th>8</th>\n",
       "      <td>Deluxe Room</td>\n",
       "      <td>Deluxe Room (Non Refundable)</td>\n",
       "    </tr>\n",
       "    <tr>\n",
       "      <th>9</th>\n",
       "      <td>Room, 2 Double Beds (19th to 25th Floors)</td>\n",
       "      <td>Two Double Beds - Location Room (19th to 25th ...</td>\n",
       "    </tr>\n",
       "  </tbody>\n",
       "</table>\n",
       "</div>"
      ],
      "text/plain": [
       "                                     Expedia  \\\n",
       "0                    Deluxe Room, 1 King Bed   \n",
       "1      Standard Room, 1 King Bed, Accessible   \n",
       "2         Grand Corner King Room, 1 King Bed   \n",
       "3                 Suite, 1 King Bed (Parlor)   \n",
       "4        High-Floor Premium Room, 1 King Bed   \n",
       "5     Traditional Double Room, 2 Double Beds   \n",
       "6               Room, 1 King Bed, Accessible   \n",
       "7                    Deluxe Room, 1 King Bed   \n",
       "8                                Deluxe Room   \n",
       "9  Room, 2 Double Beds (19th to 25th Floors)   \n",
       "\n",
       "                                         Booking.com  \n",
       "0                                   Deluxe King Room  \n",
       "1            Standard King Roll-in Shower Accessible  \n",
       "2                             Grand Corner King Room  \n",
       "3                                  King Parlor Suite  \n",
       "4                       High-Floor Premium King Room  \n",
       "5                   Double Room with Two Double Beds  \n",
       "6                      King Room - Disability Access  \n",
       "7                                   Deluxe King Room  \n",
       "8                       Deluxe Room (Non Refundable)  \n",
       "9  Two Double Beds - Location Room (19th to 25th ...  "
      ]
     },
     "execution_count": 5,
     "metadata": {},
     "output_type": "execute_result"
    }
   ],
   "source": [
    "import pandas as pd\n",
    " \n",
    "df = pd.read_excel('C:/Users/11004076/Documents/Python Scripts/2_DataAnalysis/room_type.xlsx')\n",
    "df.head(10)"
   ]
  },
  {
   "cell_type": "code",
   "execution_count": null,
   "metadata": {},
   "outputs": [],
   "source": [
    "有幾種方法可以比較Fuzzywuzzy中的兩個字串，讓我們一個一個地進行嘗試。"
   ]
  },
  {
   "cell_type": "code",
   "execution_count": null,
   "metadata": {},
   "outputs": [],
   "source": [
    "from fuzzywuzzy import fuzz"
   ]
  },
  {
   "cell_type": "markdown",
   "metadata": {},
   "source": [
    "### 簡單匹配（Simple Ratio），按順序比較整個字串的相似度"
   ]
  },
  {
   "cell_type": "code",
   "execution_count": 70,
   "metadata": {
    "scrolled": true
   },
   "outputs": [
    {
     "data": {
      "text/plain": [
       "62"
      ]
     },
     "execution_count": 70,
     "metadata": {},
     "output_type": "execute_result"
    }
   ],
   "source": [
    "fuzz.ratio('Deluxe Room, 1 King Bed', 'Deluxe King Room')\n",
    "#返回結果時62，它告訴我們“Deluxe Room, 1 King Bed”和“Deluxe King Room”的相似度約62%。"
   ]
  },
  {
   "cell_type": "code",
   "execution_count": 65,
   "metadata": {},
   "outputs": [
    {
     "data": {
      "text/plain": [
       "69"
      ]
     },
     "execution_count": 65,
     "metadata": {},
     "output_type": "execute_result"
    }
   ],
   "source": [
    "fuzz.ratio('Traditional Double Room, 2 Double Beds','Double Room with Two Double Beds')"
   ]
  },
  {
   "cell_type": "code",
   "execution_count": 66,
   "metadata": {},
   "outputs": [
    {
     "data": {
      "text/plain": [
       "74"
      ]
     },
     "execution_count": 66,
     "metadata": {},
     "output_type": "execute_result"
    }
   ],
   "source": [
    "fuzz.ratio('Room, 2 Double Beds (19th to 25th Floors)','Two Double Beds - Location Room (19th to 25th Floors)')"
   ]
  },
  {
   "cell_type": "markdown",
   "metadata": {},
   "source": [
    "### 非完全匹配（Partial Ratio），比較部分字串的相似度\n",
    "我們仍在使用相同的資料對："
   ]
  },
  {
   "cell_type": "code",
   "execution_count": 67,
   "metadata": {},
   "outputs": [
    {
     "data": {
      "text/plain": [
       "69"
      ]
     },
     "execution_count": 67,
     "metadata": {},
     "output_type": "execute_result"
    }
   ],
   "source": [
    "fuzz.partial_ratio('Deluxe Room, 1 King Bed','Deluxe King Room')"
   ]
  },
  {
   "cell_type": "code",
   "execution_count": 68,
   "metadata": {},
   "outputs": [
    {
     "data": {
      "text/plain": [
       "83"
      ]
     },
     "execution_count": 68,
     "metadata": {},
     "output_type": "execute_result"
    }
   ],
   "source": [
    "fuzz.partial_ratio('Traditional Double Room, 2 Double Beds','Double Room with Two Double Beds')"
   ]
  },
  {
   "cell_type": "code",
   "execution_count": 69,
   "metadata": {},
   "outputs": [
    {
     "data": {
      "text/plain": [
       "63"
      ]
     },
     "execution_count": 69,
     "metadata": {},
     "output_type": "execute_result"
    }
   ],
   "source": [
    "fuzz.partial_ratio('Room, 2 Double Beds (19th to 25th Floors)','Two Double Beds - Location Room (19th to 25th Floors)')"
   ]
  },
  {
   "cell_type": "code",
   "execution_count": null,
   "metadata": {},
   "outputs": [],
   "source": [
    "返回依次69、83、63。對於我的資料集來說，比較部分字串並不能帶來更好的整體效果。讓我們嘗試下一個。"
   ]
  },
  {
   "cell_type": "markdown",
   "metadata": {},
   "source": [
    "### 忽略順序匹配（Token Sort Ratio），忽略單詞順序"
   ]
  },
  {
   "cell_type": "code",
   "execution_count": 71,
   "metadata": {},
   "outputs": [
    {
     "data": {
      "text/plain": [
       "84"
      ]
     },
     "execution_count": 71,
     "metadata": {},
     "output_type": "execute_result"
    }
   ],
   "source": [
    "fuzz.token_sort_ratio('Deluxe Room, 1 King Bed','Deluxe King Room')"
   ]
  },
  {
   "cell_type": "code",
   "execution_count": 72,
   "metadata": {},
   "outputs": [
    {
     "data": {
      "text/plain": [
       "78"
      ]
     },
     "execution_count": 72,
     "metadata": {},
     "output_type": "execute_result"
    }
   ],
   "source": [
    "fuzz.token_sort_ratio('Traditional Double Room, 2 Double Beds','Double Room with Two Double Beds')"
   ]
  },
  {
   "cell_type": "code",
   "execution_count": 73,
   "metadata": {},
   "outputs": [
    {
     "data": {
      "text/plain": [
       "83"
      ]
     },
     "execution_count": 73,
     "metadata": {},
     "output_type": "execute_result"
    }
   ],
   "source": [
    "fuzz.token_sort_ratio('Room, 2 Double Beds (19th to 25th Floors)','Two Double Beds - Location Room (19th to 25th Floors)')"
   ]
  },
  {
   "cell_type": "code",
   "execution_count": null,
   "metadata": {},
   "outputs": [],
   "source": [
    "返回依次84、78、83。這是迄今為止最好的。"
   ]
  },
  {
   "cell_type": "markdown",
   "metadata": {},
   "source": [
    "### 去重子集匹配（Token Set Ratio）\n",
    "它與token_sort_ratio類似，但更加靈活。"
   ]
  },
  {
   "cell_type": "code",
   "execution_count": 74,
   "metadata": {},
   "outputs": [
    {
     "data": {
      "text/plain": [
       "100"
      ]
     },
     "execution_count": 74,
     "metadata": {},
     "output_type": "execute_result"
    }
   ],
   "source": [
    "fuzz.token_set_ratio('Deluxe Room, 1 King Bed','Deluxe King Room')"
   ]
  },
  {
   "cell_type": "code",
   "execution_count": 75,
   "metadata": {},
   "outputs": [
    {
     "data": {
      "text/plain": [
       "78"
      ]
     },
     "execution_count": 75,
     "metadata": {},
     "output_type": "execute_result"
    }
   ],
   "source": [
    "fuzz.token_set_ratio('Traditional Double Room, 2 Double Beds','Double Room with Two Double Beds')"
   ]
  },
  {
   "cell_type": "code",
   "execution_count": 76,
   "metadata": {},
   "outputs": [
    {
     "data": {
      "text/plain": [
       "97"
      ]
     },
     "execution_count": 76,
     "metadata": {},
     "output_type": "execute_result"
    }
   ],
   "source": [
    "fuzz.token_set_ratio('Room, 2 Double Beds (19th to 25th Floors)','Two Double Beds - Location Room (19th to 25th Floors)')"
   ]
  },
  {
   "cell_type": "code",
   "execution_count": null,
   "metadata": {},
   "outputs": [],
   "source": [
    "返回依次100、78、97。看來token_set_ratio最適合我的資料。"
   ]
  },
  {
   "cell_type": "markdown",
   "metadata": {},
   "source": [
    "### 應用到整個資料集"
   ]
  },
  {
   "cell_type": "code",
   "execution_count": null,
   "metadata": {},
   "outputs": [],
   "source": [
    "根據這一發現，將token_set_ratio應用到整個資料集。"
   ]
  },
  {
   "cell_type": "code",
   "execution_count": 77,
   "metadata": {},
   "outputs": [
    {
     "data": {
      "text/plain": [
       "0.9029126213592233"
      ]
     },
     "execution_count": 77,
     "metadata": {},
     "output_type": "execute_result"
    }
   ],
   "source": [
    "def get_ratio(row):\n",
    "    name1 = row['Expedia']\n",
    "    name2 = row['Booking.com']\n",
    "    return fuzz.token_set_ratio(name1, name2)\n",
    " \n",
    "rated = df.apply(get_ratio, axis=1)\n",
    "rated.head(10)\n",
    " \n",
    "greater_than_70_percent = df[rated > 70]\n",
    "greater_than_70_percent.count()\n",
    "len(greater_than_70_percent) / len(df)"
   ]
  },
  {
   "cell_type": "markdown",
   "metadata": {},
   "source": [
    "### Process 用來返回模糊匹配的字符串和相似度。"
   ]
  },
  {
   "cell_type": "code",
   "execution_count": null,
   "metadata": {},
   "outputs": [],
   "source": [
    "當設定相似度> 70時，超過90％的房間對超過這個匹配分數。還很不錯！上面只是做了2個文字間的相似度比較，\n",
    "如果存在多個如何處理？可以使用庫中提供的 Process類：用來返回模糊匹配的字串和相似度。"
   ]
  },
  {
   "cell_type": "code",
   "execution_count": 80,
   "metadata": {},
   "outputs": [
    {
     "data": {
      "text/plain": [
       "[('New York Jets', 100), ('New York Giants', 79)]"
      ]
     },
     "execution_count": 80,
     "metadata": {},
     "output_type": "execute_result"
    }
   ],
   "source": [
    "choices = [\"Atlanta Falcons\", \"New York Jets\", \"New York Giants\", \"Dallas Cowboys\"]\n",
    "process.extract(\"new york jets\", choices, limit=2)"
   ]
  },
  {
   "cell_type": "code",
   "execution_count": 81,
   "metadata": {
    "scrolled": true
   },
   "outputs": [
    {
     "data": {
      "text/plain": [
       "('Dallas Cowboys', 90)"
      ]
     },
     "execution_count": 81,
     "metadata": {},
     "output_type": "execute_result"
    }
   ],
   "source": [
    "process.extractOne(\"cowboys\", choices)"
   ]
  },
  {
   "cell_type": "code",
   "execution_count": 92,
   "metadata": {},
   "outputs": [
    {
     "data": {
      "text/plain": [
       "[('DX 110', 100),\n",
       " ('DX-110', 100),\n",
       " ('Mouse Genius USB NetScroll DX-110', 90),\n",
       " ('Mouse Optic DX-110', 90)]"
      ]
     },
     "execution_count": 92,
     "metadata": {},
     "output_type": "execute_result"
    }
   ],
   "source": [
    "which = [\"DX 110\", \"DX-110\", \"Mouse Genius DX-120\", \"Mouse Genius USB NetScroll DX-110\", \"Mouse Optic DX-110\"]\n",
    "process.extract(\"DX-110\", which, limit=4)"
   ]
  },
  {
   "cell_type": "code",
   "execution_count": 93,
   "metadata": {},
   "outputs": [
    {
     "data": {
      "text/plain": [
       "[('HS-930BT-LI', 95), ('HS-940BT-LI', 74), ('HS-935BT-LI', 74)]"
      ]
     },
     "execution_count": 93,
     "metadata": {},
     "output_type": "execute_result"
    }
   ],
   "source": [
    "whichs = [\"HS-930BT-LI\", \"HS-940BT-LI\", \"HS-935BT-LI\"]\n",
    "process.extract(\"HS-930BT\", whichs, limit=4)"
   ]
  },
  {
   "cell_type": "code",
   "execution_count": 94,
   "metadata": {},
   "outputs": [
    {
     "data": {
      "text/plain": [
       "[('SW-G2.1 1250', 100), ('SW-G2.1 1250 II', 95), ('SW-G2.1 1250 IILI', 95)]"
      ]
     },
     "execution_count": 94,
     "metadata": {},
     "output_type": "execute_result"
    }
   ],
   "source": [
    "whichs = [\"SW-G2.1 1250\", \"SW-G2.1 1250 II\", \"SW-G2.1 1250 IILI\"]\n",
    "process.extract(\"SW-G2.1 1250\", whichs, limit=4)"
   ]
  },
  {
   "cell_type": "code",
   "execution_count": null,
   "metadata": {},
   "outputs": [],
   "source": [
    "你可以傳入附加引數到 extractOne 方法來設定使用特定的匹配模式。一個典型的用法是來匹配檔案路徑:"
   ]
  },
  {
   "cell_type": "code",
   "execution_count": null,
   "metadata": {},
   "outputs": [],
   "source": [
    ">>> process.extractOne(\"System of a down - Hypnotize - Heroin\", songs)\n",
    "        ('/music/library/good/System of a Down/2005 - Hypnotize/01 - Attack.mp3', 86)\n",
    "    >>> process.extractOne(\"System of a down - Hypnotize - Heroin\", songs, scorer=fuzz.token_sort_ratio)\n",
    "        (\"/music/library/good/System of a Down/2005 - Hypnotize/10 - She's Like Heroin.mp3\", 61)"
   ]
  },
  {
   "cell_type": "markdown",
   "metadata": {},
   "source": [
    "### FuzzyWuzzy在中文場景下的使用\n",
    "FuzzyWuzzy支援對中文進行比較："
   ]
  },
  {
   "cell_type": "code",
   "execution_count": 1,
   "metadata": {
    "scrolled": true
   },
   "outputs": [
    {
     "name": "stdout",
     "output_type": "stream",
     "text": [
      "73\n",
      "('資料探勘工程師', 90)\n"
     ]
    },
    {
     "name": "stderr",
     "output_type": "stream",
     "text": [
      "C:\\Users\\11004076\\Anaconda3\\lib\\site-packages\\fuzzywuzzy\\fuzz.py:11: UserWarning: Using slow pure-python SequenceMatcher. Install python-Levenshtein to remove this warning\n",
      "  warnings.warn('Using slow pure-python SequenceMatcher. Install python-Levenshtein to remove this warning')\n"
     ]
    }
   ],
   "source": [
    "from fuzzywuzzy import fuzz\n",
    "from fuzzywuzzy import process\n",
    " \n",
    "print(fuzz.ratio(\"資料探勘\", \"資料探勘工程師\"))\n",
    " \n",
    "title_list = [\"資料分析師\", \"資料探勘工程師\", \"大資料開發工程師\", \"機器學習工程師\",\n",
    "              \"演算法工程師\", \"資料庫管理\", \"商業分析師\", \"資料科學家\", \"首席資料官\",\n",
    "              \"資料產品經理\", \"資料運營\", \"大資料架構師\"]\n",
    " \n",
    "print(process.extractOne(\"資料探勘\", title_list))"
   ]
  },
  {
   "cell_type": "code",
   "execution_count": null,
   "metadata": {},
   "outputs": [],
   "source": [
    "仔細檢視程式碼，還是存在的問題：\n",
    "\n",
    "FuzzWuzzy並不會針對中文進行分詞\n",
    "也沒有對中文的一些停用詞進行過濾\n",
    "改進方案，處理前進行中文處理：\n",
    "\n",
    "繁簡轉換\n",
    "中文分詞\n",
    "去除停用詞"
   ]
  },
  {
   "cell_type": "code",
   "execution_count": null,
   "metadata": {},
   "outputs": [],
   "source": []
  },
  {
   "cell_type": "code",
   "execution_count": 13,
   "metadata": {},
   "outputs": [
    {
     "data": {
      "text/plain": [
       "['Ammox X1-400',\n",
       " 'DX-100X',\n",
       " 'DX-110',\n",
       " 'DX-120',\n",
       " 'DX-125',\n",
       " 'DX-130',\n",
       " 'DX-135',\n",
       " 'DX-150X',\n",
       " 'DX-160',\n",
       " 'DX-165',\n",
       " 'DX-170',\n",
       " 'DX-180',\n",
       " 'DX-7000X',\n",
       " 'EasyPen i405X',\n",
       " 'ECam 8000',\n",
       " 'ECO-8015',\n",
       " 'ECO-8100',\n",
       " 'Ergo 7000',\n",
       " 'FaceCam 1000X V2',\n",
       " 'FaceCam 2020',\n",
       " 'GHP-200A',\n",
       " 'GHP-200X',\n",
       " 'GHP-206',\n",
       " 'GHP-240X',\n",
       " 'GHP-400A',\n",
       " 'G-Pad 300S',\n",
       " 'G-Pad 500S',\n",
       " 'G-Pad 800S',\n",
       " 'GP-B200',\n",
       " 'GS-852',\n",
       " 'G-WMP 100',\n",
       " 'G-WMP 200M',\n",
       " 'G-WP 100',\n",
       " 'G-WP 200M',\n",
       " 'GX-Control P100',\n",
       " 'GX-P500',\n",
       " 'GX-Pad 300S RGB',\n",
       " 'GX-Pad 500S RGB',\n",
       " 'GX-Pad 600H RGB',\n",
       " 'GX-Pad 800S RGB',\n",
       " 'GX-Speed P100',\n",
       " 'HS-02B',\n",
       " 'HS-04S',\n",
       " 'HS-04SU',\n",
       " 'HS-05A',\n",
       " 'HS-105',\n",
       " 'HS-200C',\n",
       " 'HS-300A',\n",
       " 'HS-300N',\n",
       " 'HS-400A',\n",
       " 'HS-410F',\n",
       " 'HS-520',\n",
       " 'HS-610',\n",
       " 'HS-920BT-LI',\n",
       " 'HS-930BT-LI',\n",
       " 'HS-935BT-LI',\n",
       " 'HS-940BT-LI',\n",
       " 'HS-970BT-LI',\n",
       " 'HS-G450',\n",
       " 'HS-G500V',\n",
       " 'HS-G550',\n",
       " 'HS-G560',\n",
       " 'HS-G580',\n",
       " 'HS-G600',\n",
       " 'HS-G600V',\n",
       " 'HS-G650',\n",
       " 'HS-G680',\n",
       " 'HS-G700V',\n",
       " 'HS-G710V',\n",
       " 'HS-M04SU',\n",
       " 'HS-M225',\n",
       " 'HS-M228',\n",
       " 'HS-M230',\n",
       " 'HS-M260',\n",
       " 'HS-M270',\n",
       " 'HS-M300',\n",
       " 'HS-M320',\n",
       " 'HS-M360',\n",
       " 'HS-M430',\n",
       " 'HS-M435',\n",
       " 'HS-M450',\n",
       " 'HS-M470',\n",
       " 'HS-M505X',\n",
       " 'Imperator Pro',\n",
       " 'KB 110',\n",
       " 'KB-06XE',\n",
       " 'KB-110X',\n",
       " 'KB-115',\n",
       " 'KB-116',\n",
       " 'KB-118',\n",
       " 'KB-125',\n",
       " 'KB-128',\n",
       " 'KB-150',\n",
       " 'KB-210',\n",
       " 'KB-8000X',\n",
       " 'KB-M200',\n",
       " 'KB-M225',\n",
       " 'KB-M230',\n",
       " 'KM-100',\n",
       " 'KM-110X',\n",
       " 'KM-121',\n",
       " 'KM-122',\n",
       " 'KM-125',\n",
       " 'KM-130',\n",
       " 'KM-160',\n",
       " 'KM-210',\n",
       " 'KMH-200',\n",
       " 'KMS U130',\n",
       " 'Life Shot FHD300',\n",
       " 'LUMINA',\n",
       " 'LuxeMate 100',\n",
       " 'LuxePad 9000',\n",
       " 'LuxePad A110',\n",
       " 'LuxePad A120',\n",
       " 'Media Pointer 100',\n",
       " 'Media Pointer 100 V3',\n",
       " 'MH-7018',\n",
       " 'MH-8015',\n",
       " 'MH-8100',\n",
       " 'MIC-01A',\n",
       " 'MIC-02A',\n",
       " 'MIC-05A',\n",
       " 'Micro Traveler 9000R-LI',\n",
       " 'Micro Traveler 900S V4',\n",
       " 'Micro Traveler V2',\n",
       " 'Mobile Theater MT-20',\n",
       " 'MousePen i608X',\n",
       " 'NetScroll 100 V2',\n",
       " 'NetScroll 100X',\n",
       " 'NetScroll 120',\n",
       " 'NetScroll 120 V2',\n",
       " 'NetScroll 200',\n",
       " 'NS 6000',\n",
       " 'NS-6005',\n",
       " 'NS-6005 BlueEye',\n",
       " 'NumPad i120',\n",
       " 'NumPad i130',\n",
       " 'NX-6510',\n",
       " 'NX-6550',\n",
       " 'NX-7000',\n",
       " 'NX-7005',\n",
       " 'NX-7010',\n",
       " 'NX-7015',\n",
       " 'NX-9000BT V2-LI',\n",
       " 'NX-9000BT-LI',\n",
       " 'NX-ECO',\n",
       " 'QCam 6000',\n",
       " 'QPad 100',\n",
       " 'RC 330A',\n",
       " 'RC 530A',\n",
       " 'Scorpion K10',\n",
       " 'Scorpion K20',\n",
       " 'Scorpion K210',\n",
       " 'Scorpion K215',\n",
       " 'Scorpion K220',\n",
       " 'Scorpion K5',\n",
       " 'SCORPION K6',\n",
       " 'Scorpion K8',\n",
       " 'Scorpion K9',\n",
       " 'Scorpion M6-400',\n",
       " 'Scorpion M6-600',\n",
       " 'Scorpion M8-610',\n",
       " 'Scorpion Spear',\n",
       " 'Scorpion Spear Pro',\n",
       " 'SlimStar 110',\n",
       " 'SlimStar 126',\n",
       " 'SlimStar 130',\n",
       " 'SlimStar 230',\n",
       " 'SlimStar 8000ME',\n",
       " 'SlimStar 8005',\n",
       " 'SlimStar 8006',\n",
       " 'SLIMSTAR 8008',\n",
       " 'SlimStar C115',\n",
       " 'SlimStar C130',\n",
       " 'Smart KB-100',\n",
       " 'Smart KB-101',\n",
       " 'Smart KB-102',\n",
       " 'Smart KM-200',\n",
       " 'Smart KM-8100',\n",
       " 'Smart KM-8200',\n",
       " 'SP-906BT PLUS-LI',\n",
       " 'SP-906BT-LI',\n",
       " 'SP-920BT-LI',\n",
       " 'SP-925BT-LI',\n",
       " 'SP-HF1250B',\n",
       " 'SP-HF1250B II',\n",
       " 'SP-HF160',\n",
       " 'SP-HF180',\n",
       " 'SP-HF1800A',\n",
       " 'SP-HF280',\n",
       " 'SP-HF500A',\n",
       " 'SP-HF800A',\n",
       " 'SP-HF800A II',\n",
       " 'SP-J120',\n",
       " 'SP-L160',\n",
       " 'SP-Q120',\n",
       " 'SP-Q160',\n",
       " 'SP-Q180',\n",
       " 'SP-U115',\n",
       " 'SP-U120',\n",
       " 'SP-U130',\n",
       " 'SW-2.1 1800',\n",
       " 'SW-2.1 355',\n",
       " 'SW-2.1 370',\n",
       " 'SW-2.1 375',\n",
       " 'SW-2.1 385',\n",
       " 'SW-5.1 1020',\n",
       " 'SW-5.1 1020 II',\n",
       " 'SW-A2.1 700',\n",
       " 'SW-G2.1 1250',\n",
       " 'SW-G2.1 1250 II',\n",
       " 'SW-G2.1 2000',\n",
       " 'SW-G2.1 2000 II',\n",
       " 'SW-G2.1 3000',\n",
       " 'SW-G2.1 500',\n",
       " 'SW-G5.1 3500',\n",
       " 'SW-HF2.1 1205',\n",
       " 'SW-HF2.1 1205 II',\n",
       " 'SW-HF2.1 1700',\n",
       " 'SW-HF2.1 1700 II',\n",
       " 'SW-HF5.1 4500',\n",
       " 'SW-HF5.1 4500 II',\n",
       " 'SW-HF5.1 4600',\n",
       " 'SW-HF5.1 4600 II',\n",
       " 'SW-HF5.1 4800',\n",
       " 'SW-HF5.1 4800 II',\n",
       " 'SW-HF5.1 6000',\n",
       " 'SW-HF5.1 6000 II',\n",
       " 'SW-U2.1 200',\n",
       " 'Traveler 7000',\n",
       " 'Traveler 900',\n",
       " 'TRAVELER 9005BT',\n",
       " 'TRAVELER 9020BT',\n",
       " 'USB SoundBar 100',\n",
       " 'WideCam F100',\n",
       " 'X-G200',\n",
       " 'X-G600',\n",
       " 'XScroll',\n",
       " 'XScroll V3',\n",
       " None]"
      ]
     },
     "execution_count": 13,
     "metadata": {},
     "output_type": "execute_result"
    }
   ],
   "source": [
    "import xlwings as xw\n",
    "\n",
    "wb = xw.Book(r\"C:\\Users\\11004076\\Documents\\Python Scripts\\1_Crawler\\IPNB\\Shoppe_Indonisia.xlsx\")\n",
    "\n",
    "sht_cd4 = wb.sheets['Sls CD4 Desc#']\n",
    "\n",
    "cd4 = sht_cd4.range('A1:A240').value\n",
    "cd4"
   ]
  },
  {
   "cell_type": "code",
   "execution_count": 8,
   "metadata": {},
   "outputs": [
    {
     "data": {
      "text/plain": [
       "'Star SellerGenius Mouse Pen I608x Pen Tablet Alat Desain Grafis'"
      ]
     },
     "execution_count": 8,
     "metadata": {},
     "output_type": "execute_result"
    }
   ],
   "source": [
    "sht_genius = wb.sheets['Genius_12']\n",
    "\n",
    "name = sht_genius.range('A2').value\n",
    "\n",
    "name"
   ]
  },
  {
   "cell_type": "code",
   "execution_count": 10,
   "metadata": {},
   "outputs": [
    {
     "data": {
      "text/plain": [
       "[('DX 110', 100),\n",
       " ('DX-110', 100),\n",
       " ('Mouse Genius USB NetScroll DX-110', 90),\n",
       " ('Mouse Optic DX-110', 90)]"
      ]
     },
     "execution_count": 10,
     "metadata": {},
     "output_type": "execute_result"
    }
   ],
   "source": [
    "from fuzzywuzzy import fuzz\n",
    "from fuzzywuzzy import process\n",
    "\n",
    "which = [\"DX 110\", \"DX-110\", \"Mouse Genius DX-120\", \"Mouse Genius USB NetScroll DX-110\", \"Mouse Optic DX-110\"]\n",
    "process.extract(\"DX-110\", which, limit=4)"
   ]
  },
  {
   "cell_type": "code",
   "execution_count": 42,
   "metadata": {},
   "outputs": [
    {
     "data": {
      "text/plain": [
       "[('DX-120', 86),\n",
       " ('NetScroll 120', 86),\n",
       " ('NetScroll 120 V2', 86),\n",
       " ('NetScroll 100X', 77)]"
      ]
     },
     "execution_count": 42,
     "metadata": {},
     "output_type": "execute_result"
    }
   ],
   "source": [
    "from fuzzywuzzy import fuzz\n",
    "from fuzzywuzzy import process\n",
    "\n",
    "process.extract(\"Mouse Genius Net Scroll 120 (Black)-Mouse Genius\", cd4, limit=4)"
   ]
  },
  {
   "cell_type": "code",
   "execution_count": 46,
   "metadata": {},
   "outputs": [
    {
     "data": {
      "text/plain": [
       "[('DX-120', 67),\n",
       " ('NetScroll 120', 57),\n",
       " ('NetScroll 120 V2', 53),\n",
       " ('NetScroll 200', 52)]"
      ]
     },
     "execution_count": 46,
     "metadata": {},
     "output_type": "execute_result"
    }
   ],
   "source": [
    "process.extract(\"Mouse Genius Net Scroll 120 (Black)-Mouse Genius\", cd4, scorer=fuzz.token_set_ratio, limit=4)"
   ]
  },
  {
   "cell_type": "code",
   "execution_count": 47,
   "metadata": {
    "scrolled": true
   },
   "outputs": [
    {
     "data": {
      "text/plain": [
       "[('NetScroll 120', 44),\n",
       " ('NetScroll 120 V2', 42),\n",
       " ('NetScroll 200', 41),\n",
       " ('NetScroll 100X', 40)]"
      ]
     },
     "execution_count": 47,
     "metadata": {},
     "output_type": "execute_result"
    }
   ],
   "source": [
    "process.extract(\"Mouse Genius Net Scroll 120 (Black)-Mouse Genius\", cd4, scorer=fuzz.token_sort_ratio, limit=4)"
   ]
  },
  {
   "cell_type": "code",
   "execution_count": null,
   "metadata": {},
   "outputs": [],
   "source": [
    "### 完整Code"
   ]
  },
  {
   "cell_type": "code",
   "execution_count": 7,
   "metadata": {},
   "outputs": [],
   "source": [
    "from fuzzywuzzy import fuzz\n",
    "from fuzzywuzzy import process\n",
    "import xlwings as xw\n",
    "\n",
    "wb = xw.Book(r\"C:\\Users\\11004076\\Documents\\Python Scripts\\1_Crawler\\IPNB\\Shoppe_Genius.xlsx\")\n",
    "sht_cd4 = wb.sheets['Sls CD4 Desc#']\n",
    "cd4 = sht_cd4.range('A1:A240').value\n",
    "\n",
    "sht_genius = wb.sheets['data']\n",
    "rows = sht_genius.range('B448:B1045').value\n",
    "\n",
    "models = []\n",
    "for row in rows:\n",
    "    #model = process.extract(row, cd4, scorer=fuzz.token_set_ratio, limit=1)  #測試過發現token_set_ratio最符合要的\n",
    "    #model = process.extract(row, cd4, scorer=fuzz.token_sort_ratio, limit=1)\n",
    "    model = process.extract(row, cd4, limit=1)\n",
    "    model = list(model[0])  #要將元祖(tuple)轉換為列表(list)\n",
    "    models.append(model)"
   ]
  },
  {
   "cell_type": "code",
   "execution_count": 57,
   "metadata": {
    "scrolled": true
   },
   "outputs": [
    {
     "data": {
      "text/plain": [
       "[['KB 110', 100],\n",
       " ['DX-110', 100],\n",
       " ['DX-125', 100],\n",
       " ['Media Pointer 100', 100],\n",
       " ['MousePen i608X', 34],\n",
       " ['NX-7015', 100],\n",
       " ['NX-7000', 100],\n",
       " ['SP-U115', 100],\n",
       " ['DX-125', 100],\n",
       " ['SP-906BT PLUS-LI', 32],\n",
       " ['USB SoundBar 100', 42],\n",
       " ['USB SoundBar 100', 100],\n",
       " ['Scorpion Spear Pro', 26],\n",
       " ['SP-U115', 100],\n",
       " ['USB SoundBar 100', 38],\n",
       " ['MousePen i608X', 46],\n",
       " ['USB SoundBar 100', 42],\n",
       " ['GX-P500', 44],\n",
       " ['EasyPen i405X', 100],\n",
       " ['NS-6005 BlueEye', 64],\n",
       " ['EasyPen i405X', 100],\n",
       " ['SP-906BT-LI', 84],\n",
       " ['SP-U115', 100],\n",
       " ['DX-110', 100],\n",
       " ['MousePen i608X', 53],\n",
       " ['SP-U115', 100],\n",
       " ['Smart KB-100', 37],\n",
       " ['DX-110', 100],\n",
       " ['MousePen i608X', 46],\n",
       " ['HS-920BT-LI', 31],\n",
       " ['DX-125', 100],\n",
       " ['LuxePad 9000', 74],\n",
       " ['Micro Traveler V2', 45],\n",
       " ['DX-110', 100],\n",
       " ['DX-110', 100],\n",
       " ['NX-7015', 100],\n",
       " ['DX-125', 100],\n",
       " ['DX-110', 100],\n",
       " ['DX-125', 100],\n",
       " ['GX-Pad 500S RGB', 35],\n",
       " ['DX-110', 100],\n",
       " ['SP-U115', 100],\n",
       " ['NetScroll 100X', 100],\n",
       " ['NX-7015', 100],\n",
       " ['NX-7015', 100],\n",
       " ['SP-U115', 100],\n",
       " ['SP-U115', 100],\n",
       " ['DX-125', 100],\n",
       " ['Mobile Theater MT-20', 46],\n",
       " ['NX-9000BT V2-LI', 20],\n",
       " ['GX-Pad 300S RGB', 33],\n",
       " ['Mobile Theater MT-20', 24],\n",
       " ['Mobile Theater MT-20', 25],\n",
       " ['USB SoundBar 100', 100],\n",
       " ['Micro Traveler 900S V4', 22],\n",
       " ['DX-120', 100],\n",
       " ['DX-110', 100],\n",
       " ['DX-110', 100],\n",
       " ['GX-Pad 600H RGB', 35],\n",
       " ['KM-100', 67],\n",
       " ['DX-110', 100],\n",
       " ['LUMINA', 33],\n",
       " ['NX-7005', 100],\n",
       " ['Smart KB-101', 86],\n",
       " ['Mobile Theater MT-20', 21],\n",
       " ['FaceCam 1000X V2', 48],\n",
       " ['Mobile Theater MT-20', 38],\n",
       " ['GX-Control P100', 29],\n",
       " ['NX-7000', 73],\n",
       " ['NX-7005', 100],\n",
       " ['KB-110X', 100],\n",
       " ['NX-7005', 100],\n",
       " ['KM-100', 50],\n",
       " ['DX-120', 100],\n",
       " ['Scorpion K10', 32],\n",
       " ['DX-120', 100],\n",
       " ['USB SoundBar 100', 100],\n",
       " ['GX-Control P100', 27],\n",
       " ['DX-110', 100],\n",
       " ['Micro Traveler 9000R-LI', 30],\n",
       " ['NX-7005', 100],\n",
       " ['DX-120', 100],\n",
       " ['USB SoundBar 100', 86],\n",
       " ['Micro Traveler 900S V4', 19],\n",
       " ['Smart KB-101', 67],\n",
       " ['NX-7010', 100],\n",
       " ['SP-J120', 44],\n",
       " ['NetScroll 120 V2', 26],\n",
       " ['DX-100X', 73],\n",
       " ['KB-110X', 100],\n",
       " ['DX-110', 67],\n",
       " ['Mobile Theater MT-20', 28],\n",
       " ['Mobile Theater MT-20', 33],\n",
       " ['Micro Traveler 900S V4', 25],\n",
       " ['Media Pointer 100 V3', 27],\n",
       " ['SW-2.1 355', 18],\n",
       " ['Mobile Theater MT-20', 29],\n",
       " ['SP-906BT PLUS-LI', 21],\n",
       " ['Mobile Theater MT-20', 46],\n",
       " ['NX-9000BT V2-LI', 20],\n",
       " ['GX-Pad 300S RGB', 33],\n",
       " ['Mobile Theater MT-20', 24],\n",
       " ['Mobile Theater MT-20', 25],\n",
       " ['USB SoundBar 100', 100],\n",
       " ['Micro Traveler 900S V4', 22],\n",
       " ['DX-120', 100],\n",
       " ['DX-110', 100],\n",
       " ['DX-110', 100],\n",
       " ['GX-Pad 600H RGB', 35],\n",
       " ['KM-100', 67],\n",
       " ['DX-110', 100],\n",
       " ['LUMINA', 33],\n",
       " ['NX-7005', 100],\n",
       " ['Smart KB-101', 86],\n",
       " ['Mobile Theater MT-20', 21],\n",
       " ['FaceCam 1000X V2', 48],\n",
       " ['Mobile Theater MT-20', 38],\n",
       " ['GX-Control P100', 29],\n",
       " ['NX-7000', 73],\n",
       " ['NX-7005', 100],\n",
       " ['KB-110X', 100],\n",
       " ['NX-7005', 100],\n",
       " ['KM-100', 50],\n",
       " ['DX-120', 100],\n",
       " ['Scorpion K10', 32],\n",
       " ['DX-120', 100],\n",
       " ['USB SoundBar 100', 100],\n",
       " ['GX-Control P100', 27],\n",
       " ['DX-110', 100],\n",
       " ['Micro Traveler 9000R-LI', 30],\n",
       " ['NX-7005', 100],\n",
       " ['DX-120', 100],\n",
       " ['USB SoundBar 100', 86],\n",
       " ['Micro Traveler 900S V4', 19],\n",
       " ['Smart KB-101', 67],\n",
       " ['NX-7010', 100],\n",
       " ['SP-J120', 44],\n",
       " ['NetScroll 120 V2', 26],\n",
       " ['DX-100X', 73],\n",
       " ['KB-110X', 100],\n",
       " ['DX-110', 67],\n",
       " ['Mobile Theater MT-20', 28],\n",
       " ['Mobile Theater MT-20', 33],\n",
       " ['Micro Traveler 900S V4', 25],\n",
       " ['Media Pointer 100 V3', 27],\n",
       " ['SW-2.1 355', 18],\n",
       " ['Mobile Theater MT-20', 29],\n",
       " ['SP-906BT PLUS-LI', 21],\n",
       " ['Mobile Theater MT-20', 46],\n",
       " ['NX-9000BT V2-LI', 20],\n",
       " ['GX-Pad 300S RGB', 33],\n",
       " ['Mobile Theater MT-20', 24],\n",
       " ['Mobile Theater MT-20', 25],\n",
       " ['USB SoundBar 100', 100],\n",
       " ['Micro Traveler 900S V4', 22],\n",
       " ['DX-120', 100],\n",
       " ['DX-110', 100],\n",
       " ['DX-110', 100],\n",
       " ['GX-Pad 600H RGB', 35],\n",
       " ['KM-100', 67],\n",
       " ['DX-110', 100],\n",
       " ['LUMINA', 33],\n",
       " ['NX-7005', 100],\n",
       " ['Smart KB-101', 86],\n",
       " ['Mobile Theater MT-20', 21],\n",
       " ['FaceCam 1000X V2', 48],\n",
       " ['Mobile Theater MT-20', 38],\n",
       " ['GX-Control P100', 29],\n",
       " ['NX-7000', 73],\n",
       " ['NX-7005', 100],\n",
       " ['KB-110X', 100],\n",
       " ['NX-7005', 100],\n",
       " ['KM-100', 50],\n",
       " ['DX-120', 100],\n",
       " ['Scorpion K10', 32],\n",
       " ['DX-120', 100],\n",
       " ['USB SoundBar 100', 100],\n",
       " ['GX-Control P100', 27],\n",
       " ['DX-110', 100],\n",
       " ['Micro Traveler 9000R-LI', 30],\n",
       " ['NX-7005', 100],\n",
       " ['DX-120', 100],\n",
       " ['USB SoundBar 100', 86],\n",
       " ['Micro Traveler 900S V4', 19],\n",
       " ['Smart KB-101', 67],\n",
       " ['NX-7010', 100],\n",
       " ['SP-J120', 44],\n",
       " ['NetScroll 120 V2', 26],\n",
       " ['DX-100X', 73],\n",
       " ['KB-110X', 100],\n",
       " ['DX-110', 67],\n",
       " ['Mobile Theater MT-20', 28],\n",
       " ['Mobile Theater MT-20', 33],\n",
       " ['Micro Traveler 900S V4', 25],\n",
       " ['Media Pointer 100 V3', 27],\n",
       " ['SW-2.1 355', 18],\n",
       " ['Mobile Theater MT-20', 29],\n",
       " ['SP-906BT PLUS-LI', 21],\n",
       " ['Mobile Theater MT-20', 46],\n",
       " ['NX-9000BT V2-LI', 20],\n",
       " ['GX-Pad 300S RGB', 33],\n",
       " ['Mobile Theater MT-20', 24],\n",
       " ['Mobile Theater MT-20', 25],\n",
       " ['USB SoundBar 100', 100],\n",
       " ['Micro Traveler 900S V4', 22],\n",
       " ['DX-120', 100],\n",
       " ['DX-110', 100],\n",
       " ['DX-110', 100],\n",
       " ['GX-Pad 600H RGB', 35],\n",
       " ['KM-100', 67],\n",
       " ['DX-110', 100],\n",
       " ['LUMINA', 33],\n",
       " ['NX-7005', 100],\n",
       " ['Smart KB-101', 86],\n",
       " ['Mobile Theater MT-20', 21],\n",
       " ['FaceCam 1000X V2', 48],\n",
       " ['Mobile Theater MT-20', 38],\n",
       " ['GX-Control P100', 29],\n",
       " ['NX-7000', 73],\n",
       " ['NX-7005', 100],\n",
       " ['KB-110X', 100],\n",
       " ['NX-7005', 100],\n",
       " ['KM-100', 50],\n",
       " ['DX-120', 100],\n",
       " ['Scorpion K10', 32],\n",
       " ['DX-120', 100],\n",
       " ['USB SoundBar 100', 100],\n",
       " ['GX-Control P100', 27],\n",
       " ['DX-110', 100],\n",
       " ['Micro Traveler 9000R-LI', 30],\n",
       " ['NX-7005', 100],\n",
       " ['DX-120', 100],\n",
       " ['USB SoundBar 100', 86],\n",
       " ['Micro Traveler 900S V4', 19],\n",
       " ['Smart KB-101', 67],\n",
       " ['NX-7010', 100],\n",
       " ['SP-J120', 44],\n",
       " ['NetScroll 120 V2', 26],\n",
       " ['DX-100X', 73],\n",
       " ['KB-110X', 100],\n",
       " ['DX-110', 67],\n",
       " ['Mobile Theater MT-20', 28],\n",
       " ['Mobile Theater MT-20', 33],\n",
       " ['Micro Traveler 900S V4', 25],\n",
       " ['Media Pointer 100 V3', 27],\n",
       " ['SW-2.1 355', 18],\n",
       " ['Mobile Theater MT-20', 29],\n",
       " ['SP-906BT PLUS-LI', 21]]"
      ]
     },
     "execution_count": 57,
     "metadata": {},
     "output_type": "execute_result"
    }
   ],
   "source": [
    "models"
   ]
  },
  {
   "cell_type": "code",
   "execution_count": 8,
   "metadata": {},
   "outputs": [],
   "source": [
    "sht_genius.range('V448').value  = models"
   ]
  },
  {
   "cell_type": "markdown",
   "metadata": {},
   "source": [
    "# Levenshtein"
   ]
  },
  {
   "cell_type": "code",
   "execution_count": 5,
   "metadata": {
    "scrolled": true
   },
   "outputs": [
    {
     "name": "stdout",
     "output_type": "stream",
     "text": [
      "Collecting python-Levenshtein\n",
      "  Downloading https://files.pythonhosted.org/packages/42/a9/d1785c85ebf9b7dfacd08938dd028209c34a0ea3b1bcdb895208bd40a67d/python-Levenshtein-0.12.0.tar.gz (48kB)\n",
      "Requirement already satisfied: setuptools in c:\\users\\11004076\\anaconda3\\lib\\site-packages (from python-Levenshtein) (40.6.3)\n",
      "Building wheels for collected packages: python-Levenshtein\n",
      "  Running setup.py bdist_wheel for python-Levenshtein: started\n",
      "  Running setup.py bdist_wheel for python-Levenshtein: finished with status 'error'\n",
      "  Complete output from command C:\\Users\\11004076\\Anaconda3\\python.exe -u -c \"import setuptools, tokenize;__file__='C:\\\\Users\\\\11004076\\\\AppData\\\\Local\\\\Temp\\\\pip-install-_blej4rw\\\\python-Levenshtein\\\\setup.py';f=getattr(tokenize, 'open', open)(__file__);code=f.read().replace('\\r\\n', '\\n');f.close();exec(compile(code, __file__, 'exec'))\" bdist_wheel -d C:\\Users\\11004076\\AppData\\Local\\Temp\\pip-wheel-p1wyw1u5 --python-tag cp37:\n",
      "  running bdist_wheel\n",
      "  running build\n",
      "  running build_py\n",
      "  creating build\n",
      "  creating build\\lib.win-amd64-3.7\n",
      "  creating build\\lib.win-amd64-3.7\\Levenshtein\n",
      "  copying Levenshtein\\StringMatcher.py -> build\\lib.win-amd64-3.7\\Levenshtein\n",
      "  copying Levenshtein\\__init__.py -> build\\lib.win-amd64-3.7\\Levenshtein\n",
      "  running egg_info\n",
      "  writing python_Levenshtein.egg-info\\PKG-INFO\n",
      "  writing dependency_links to python_Levenshtein.egg-info\\dependency_links.txt\n",
      "  writing entry points to python_Levenshtein.egg-info\\entry_points.txt\n",
      "  writing namespace_packages to python_Levenshtein.egg-info\\namespace_packages.txt\n",
      "  writing requirements to python_Levenshtein.egg-info\\requires.txt\n",
      "  writing top-level names to python_Levenshtein.egg-info\\top_level.txt\n",
      "  reading manifest file 'python_Levenshtein.egg-info\\SOURCES.txt'\n",
      "  reading manifest template 'MANIFEST.in'\n",
      "  warning: no previously-included files matching '*pyc' found anywhere in distribution\n",
      "  warning: no previously-included files matching '*so' found anywhere in distribution\n",
      "  warning: no previously-included files matching '.project' found anywhere in distribution\n",
      "  warning: no previously-included files matching '.pydevproject' found anywhere in distribution\n",
      "  writing manifest file 'python_Levenshtein.egg-info\\SOURCES.txt'\n",
      "  copying Levenshtein\\_levenshtein.c -> build\\lib.win-amd64-3.7\\Levenshtein\n",
      "  copying Levenshtein\\_levenshtein.h -> build\\lib.win-amd64-3.7\\Levenshtein\n",
      "  running build_ext\n",
      "  building 'Levenshtein._levenshtein' extension\n",
      "  error: Microsoft Visual C++ 14.0 is required. Get it with \"Microsoft Visual C++ Build Tools\": https://visualstudio.microsoft.com/downloads/\n",
      "  \n",
      "  ----------------------------------------\n",
      "  Running setup.py clean for python-Levenshtein\n",
      "Failed to build python-Levenshtein\n",
      "Installing collected packages: python-Levenshtein\n",
      "  Running setup.py install for python-Levenshtein: started\n",
      "    Running setup.py install for python-Levenshtein: finished with status 'error'\n",
      "    Complete output from command C:\\Users\\11004076\\Anaconda3\\python.exe -u -c \"import setuptools, tokenize;__file__='C:\\\\Users\\\\11004076\\\\AppData\\\\Local\\\\Temp\\\\pip-install-_blej4rw\\\\python-Levenshtein\\\\setup.py';f=getattr(tokenize, 'open', open)(__file__);code=f.read().replace('\\r\\n', '\\n');f.close();exec(compile(code, __file__, 'exec'))\" install --record C:\\Users\\11004076\\AppData\\Local\\Temp\\pip-record-jim5r_mx\\install-record.txt --single-version-externally-managed --compile:\n",
      "    running install\n",
      "    running build\n",
      "    running build_py\n",
      "    creating build\n",
      "    creating build\\lib.win-amd64-3.7\n",
      "    creating build\\lib.win-amd64-3.7\\Levenshtein\n",
      "    copying Levenshtein\\StringMatcher.py -> build\\lib.win-amd64-3.7\\Levenshtein\n",
      "    copying Levenshtein\\__init__.py -> build\\lib.win-amd64-3.7\\Levenshtein\n",
      "    running egg_info\n",
      "    writing python_Levenshtein.egg-info\\PKG-INFO\n",
      "    writing dependency_links to python_Levenshtein.egg-info\\dependency_links.txt\n",
      "    writing entry points to python_Levenshtein.egg-info\\entry_points.txt\n",
      "    writing namespace_packages to python_Levenshtein.egg-info\\namespace_packages.txt\n",
      "    writing requirements to python_Levenshtein.egg-info\\requires.txt\n",
      "    writing top-level names to python_Levenshtein.egg-info\\top_level.txt\n",
      "    reading manifest file 'python_Levenshtein.egg-info\\SOURCES.txt'\n",
      "    reading manifest template 'MANIFEST.in'\n",
      "    warning: no previously-included files matching '*pyc' found anywhere in distribution\n",
      "    warning: no previously-included files matching '*so' found anywhere in distribution\n",
      "    warning: no previously-included files matching '.project' found anywhere in distribution\n",
      "    warning: no previously-included files matching '.pydevproject' found anywhere in distribution\n",
      "    writing manifest file 'python_Levenshtein.egg-info\\SOURCES.txt'\n",
      "    copying Levenshtein\\_levenshtein.c -> build\\lib.win-amd64-3.7\\Levenshtein\n",
      "    copying Levenshtein\\_levenshtein.h -> build\\lib.win-amd64-3.7\\Levenshtein\n",
      "    running build_ext\n",
      "    building 'Levenshtein._levenshtein' extension\n",
      "    error: Microsoft Visual C++ 14.0 is required. Get it with \"Microsoft Visual C++ Build Tools\": https://visualstudio.microsoft.com/downloads/\n",
      "    \n",
      "    ----------------------------------------\n"
     ]
    },
    {
     "name": "stderr",
     "output_type": "stream",
     "text": [
      "  Failed building wheel for python-Levenshtein\n",
      "Command \"C:\\Users\\11004076\\Anaconda3\\python.exe -u -c \"import setuptools, tokenize;__file__='C:\\\\Users\\\\11004076\\\\AppData\\\\Local\\\\Temp\\\\pip-install-_blej4rw\\\\python-Levenshtein\\\\setup.py';f=getattr(tokenize, 'open', open)(__file__);code=f.read().replace('\\r\\n', '\\n');f.close();exec(compile(code, __file__, 'exec'))\" install --record C:\\Users\\11004076\\AppData\\Local\\Temp\\pip-record-jim5r_mx\\install-record.txt --single-version-externally-managed --compile\" failed with error code 1 in C:\\Users\\11004076\\AppData\\Local\\Temp\\pip-install-_blej4rw\\python-Levenshtein\\\n"
     ]
    }
   ],
   "source": [
    "!pip install python-Levenshtein"
   ]
  },
  {
   "cell_type": "code",
   "execution_count": 17,
   "metadata": {},
   "outputs": [
    {
     "data": {
      "text/plain": [
       "{'C:\\\\Users\\\\11004076\\\\Anaconda3\\\\python.exe'}"
      ]
     },
     "execution_count": 17,
     "metadata": {},
     "output_type": "execute_result"
    }
   ],
   "source": [
    "import sys\n",
    "{sys.executable}"
   ]
  },
  {
   "cell_type": "code",
   "execution_count": 24,
   "metadata": {
    "scrolled": true
   },
   "outputs": [
    {
     "ename": "SyntaxError",
     "evalue": "invalid syntax (<ipython-input-24-76ce14f100de>, line 1)",
     "output_type": "error",
     "traceback": [
      "\u001b[1;36m  File \u001b[1;32m\"<ipython-input-24-76ce14f100de>\"\u001b[1;36m, line \u001b[1;32m1\u001b[0m\n\u001b[1;33m    ['C:\\\\Users\\\\11004076\\\\Anaconda3\\\\python.exe'] -m pip install python-levenshtein\u001b[0m\n\u001b[1;37m                                                        ^\u001b[0m\n\u001b[1;31mSyntaxError\u001b[0m\u001b[1;31m:\u001b[0m invalid syntax\n"
     ]
    }
   ],
   "source": [
    "['C:\\\\Users\\\\11004076\\\\Anaconda3\\\\python.exe'] -m pip install python-levenshtein"
   ]
  },
  {
   "cell_type": "code",
   "execution_count": null,
   "metadata": {},
   "outputs": [],
   "source": [
    "!conda install -c conda-forge python-levenshtein"
   ]
  },
  {
   "cell_type": "code",
   "execution_count": 8,
   "metadata": {},
   "outputs": [
    {
     "ename": "ModuleNotFoundError",
     "evalue": "No module named 'Levenshtein'",
     "output_type": "error",
     "traceback": [
      "\u001b[1;31m---------------------------------------------------------------------------\u001b[0m",
      "\u001b[1;31mModuleNotFoundError\u001b[0m                       Traceback (most recent call last)",
      "\u001b[1;32m<ipython-input-8-4945bd004c73>\u001b[0m in \u001b[0;36m<module>\u001b[1;34m\u001b[0m\n\u001b[1;32m----> 1\u001b[1;33m \u001b[1;32mimport\u001b[0m \u001b[0mLevenshtein\u001b[0m\u001b[1;33m\u001b[0m\u001b[1;33m\u001b[0m\u001b[0m\n\u001b[0m",
      "\u001b[1;31mModuleNotFoundError\u001b[0m: No module named 'Levenshtein'"
     ]
    }
   ],
   "source": [
    "import Levenshtein"
   ]
  },
  {
   "cell_type": "markdown",
   "metadata": {},
   "source": [
    "# difflib"
   ]
  },
  {
   "cell_type": "code",
   "execution_count": 60,
   "metadata": {
    "scrolled": false
   },
   "outputs": [
    {
     "name": "stdout",
     "output_type": "stream",
     "text": [
      "Collecting difflib\n"
     ]
    },
    {
     "name": "stderr",
     "output_type": "stream",
     "text": [
      "  Could not find a version that satisfies the requirement difflib (from versions: )\n",
      "No matching distribution found for difflib\n"
     ]
    }
   ],
   "source": [
    "!pip install difflib"
   ]
  },
  {
   "cell_type": "code",
   "execution_count": 61,
   "metadata": {
    "scrolled": true
   },
   "outputs": [
    {
     "ename": "ModuleNotFoundError",
     "evalue": "No module named 'difflib_data'",
     "output_type": "error",
     "traceback": [
      "\u001b[1;31m---------------------------------------------------------------------------\u001b[0m",
      "\u001b[1;31mModuleNotFoundError\u001b[0m                       Traceback (most recent call last)",
      "\u001b[1;32m<ipython-input-61-dc408acf446c>\u001b[0m in \u001b[0;36m<module>\u001b[1;34m\u001b[0m\n\u001b[0;32m      1\u001b[0m \u001b[1;32mimport\u001b[0m \u001b[0mdifflib\u001b[0m\u001b[1;33m\u001b[0m\u001b[1;33m\u001b[0m\u001b[0m\n\u001b[1;32m----> 2\u001b[1;33m \u001b[1;32mfrom\u001b[0m \u001b[0mdifflib_data\u001b[0m \u001b[1;32mimport\u001b[0m \u001b[1;33m*\u001b[0m\u001b[1;33m\u001b[0m\u001b[1;33m\u001b[0m\u001b[0m\n\u001b[0m\u001b[0;32m      3\u001b[0m \u001b[1;33m\u001b[0m\u001b[0m\n\u001b[0;32m      4\u001b[0m \u001b[0md\u001b[0m \u001b[1;33m=\u001b[0m \u001b[0mdifflib\u001b[0m\u001b[1;33m.\u001b[0m\u001b[0mDiffer\u001b[0m\u001b[1;33m(\u001b[0m\u001b[1;33m)\u001b[0m\u001b[1;33m\u001b[0m\u001b[1;33m\u001b[0m\u001b[0m\n\u001b[0;32m      5\u001b[0m \u001b[0mdiff\u001b[0m \u001b[1;33m=\u001b[0m \u001b[0md\u001b[0m\u001b[1;33m.\u001b[0m\u001b[0mcompare\u001b[0m\u001b[1;33m(\u001b[0m\u001b[0mtext1_lines\u001b[0m\u001b[1;33m,\u001b[0m \u001b[0mtext2_lines\u001b[0m\u001b[1;33m)\u001b[0m\u001b[1;33m\u001b[0m\u001b[1;33m\u001b[0m\u001b[0m\n",
      "\u001b[1;31mModuleNotFoundError\u001b[0m: No module named 'difflib_data'"
     ]
    }
   ],
   "source": [
    "import difflib\n",
    "from difflib_data import *\n",
    "\n",
    "d = difflib.Differ()\n",
    "diff = d.compare(text1_lines, text2_lines)\n",
    "print('\\n'.join(diff))\n"
   ]
  }
 ],
 "metadata": {
  "kernelspec": {
   "display_name": "Python 3",
   "language": "python",
   "name": "python3"
  },
  "language_info": {
   "codemirror_mode": {
    "name": "ipython",
    "version": 3
   },
   "file_extension": ".py",
   "mimetype": "text/x-python",
   "name": "python",
   "nbconvert_exporter": "python",
   "pygments_lexer": "ipython3",
   "version": "3.7.1"
  }
 },
 "nbformat": 4,
 "nbformat_minor": 2
}
