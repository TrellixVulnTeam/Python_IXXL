{
 "cells": [
  {
   "cell_type": "markdown",
   "metadata": {},
   "source": [
    "# FuzzyWuzzy 字串模糊比對\n",
    "在電腦科學中，字串模糊匹配（fuzzy string matching）是一種近似地（而不是精確地）查詢與模式匹配的字串的技術。<br>\n",
    "換句話說，字串模糊匹配是一種搜尋，即使使用者拼錯單詞或只輸入部分單詞進行搜尋，也能夠找到匹配項。因此，它也被稱為字串近似匹配。"
   ]
  },
  {
   "cell_type": "code",
   "execution_count": 62,
   "metadata": {},
   "outputs": [
    {
     "name": "stdout",
     "output_type": "stream",
     "text": [
      "Collecting fuzzywuzzy\n",
      "  Downloading https://files.pythonhosted.org/packages/43/ff/74f23998ad2f93b945c0309f825be92e04e0348e062026998b5eefef4c33/fuzzywuzzy-0.18.0-py2.py3-none-any.whl\n",
      "Installing collected packages: fuzzywuzzy\n",
      "Successfully installed fuzzywuzzy-0.18.0\n"
     ]
    }
   ],
   "source": [
    "!pip install fuzzywuzzy"
   ]
  },
  {
   "cell_type": "markdown",
   "metadata": {},
   "source": [
    "## 使用FuzzyWuzzy合併房型"
   ]
  },
  {
   "cell_type": "code",
   "execution_count": 5,
   "metadata": {},
   "outputs": [
    {
     "data": {
      "text/html": [
       "<div>\n",
       "<style scoped>\n",
       "    .dataframe tbody tr th:only-of-type {\n",
       "        vertical-align: middle;\n",
       "    }\n",
       "\n",
       "    .dataframe tbody tr th {\n",
       "        vertical-align: top;\n",
       "    }\n",
       "\n",
       "    .dataframe thead th {\n",
       "        text-align: right;\n",
       "    }\n",
       "</style>\n",
       "<table border=\"1\" class=\"dataframe\">\n",
       "  <thead>\n",
       "    <tr style=\"text-align: right;\">\n",
       "      <th></th>\n",
       "      <th>Expedia</th>\n",
       "      <th>Booking.com</th>\n",
       "    </tr>\n",
       "  </thead>\n",
       "  <tbody>\n",
       "    <tr>\n",
       "      <th>0</th>\n",
       "      <td>Deluxe Room, 1 King Bed</td>\n",
       "      <td>Deluxe King Room</td>\n",
       "    </tr>\n",
       "    <tr>\n",
       "      <th>1</th>\n",
       "      <td>Standard Room, 1 King Bed, Accessible</td>\n",
       "      <td>Standard King Roll-in Shower Accessible</td>\n",
       "    </tr>\n",
       "    <tr>\n",
       "      <th>2</th>\n",
       "      <td>Grand Corner King Room, 1 King Bed</td>\n",
       "      <td>Grand Corner King Room</td>\n",
       "    </tr>\n",
       "    <tr>\n",
       "      <th>3</th>\n",
       "      <td>Suite, 1 King Bed (Parlor)</td>\n",
       "      <td>King Parlor Suite</td>\n",
       "    </tr>\n",
       "    <tr>\n",
       "      <th>4</th>\n",
       "      <td>High-Floor Premium Room, 1 King Bed</td>\n",
       "      <td>High-Floor Premium King Room</td>\n",
       "    </tr>\n",
       "    <tr>\n",
       "      <th>5</th>\n",
       "      <td>Traditional Double Room, 2 Double Beds</td>\n",
       "      <td>Double Room with Two Double Beds</td>\n",
       "    </tr>\n",
       "    <tr>\n",
       "      <th>6</th>\n",
       "      <td>Room, 1 King Bed, Accessible</td>\n",
       "      <td>King Room - Disability Access</td>\n",
       "    </tr>\n",
       "    <tr>\n",
       "      <th>7</th>\n",
       "      <td>Deluxe Room, 1 King Bed</td>\n",
       "      <td>Deluxe King Room</td>\n",
       "    </tr>\n",
       "    <tr>\n",
       "      <th>8</th>\n",
       "      <td>Deluxe Room</td>\n",
       "      <td>Deluxe Room (Non Refundable)</td>\n",
       "    </tr>\n",
       "    <tr>\n",
       "      <th>9</th>\n",
       "      <td>Room, 2 Double Beds (19th to 25th Floors)</td>\n",
       "      <td>Two Double Beds - Location Room (19th to 25th ...</td>\n",
       "    </tr>\n",
       "  </tbody>\n",
       "</table>\n",
       "</div>"
      ],
      "text/plain": [
       "                                     Expedia  \\\n",
       "0                    Deluxe Room, 1 King Bed   \n",
       "1      Standard Room, 1 King Bed, Accessible   \n",
       "2         Grand Corner King Room, 1 King Bed   \n",
       "3                 Suite, 1 King Bed (Parlor)   \n",
       "4        High-Floor Premium Room, 1 King Bed   \n",
       "5     Traditional Double Room, 2 Double Beds   \n",
       "6               Room, 1 King Bed, Accessible   \n",
       "7                    Deluxe Room, 1 King Bed   \n",
       "8                                Deluxe Room   \n",
       "9  Room, 2 Double Beds (19th to 25th Floors)   \n",
       "\n",
       "                                         Booking.com  \n",
       "0                                   Deluxe King Room  \n",
       "1            Standard King Roll-in Shower Accessible  \n",
       "2                             Grand Corner King Room  \n",
       "3                                  King Parlor Suite  \n",
       "4                       High-Floor Premium King Room  \n",
       "5                   Double Room with Two Double Beds  \n",
       "6                      King Room - Disability Access  \n",
       "7                                   Deluxe King Room  \n",
       "8                       Deluxe Room (Non Refundable)  \n",
       "9  Two Double Beds - Location Room (19th to 25th ...  "
      ]
     },
     "execution_count": 5,
     "metadata": {},
     "output_type": "execute_result"
    }
   ],
   "source": [
    "import pandas as pd\n",
    " \n",
    "df = pd.read_excel('C:/Users/11004076/Documents/Python Scripts/2_DataAnalysis/room_type.xlsx')\n",
    "df.head(10)"
   ]
  },
  {
   "cell_type": "code",
   "execution_count": null,
   "metadata": {},
   "outputs": [],
   "source": [
    "有幾種方法可以比較Fuzzywuzzy中的兩個字串，讓我們一個一個地進行嘗試。"
   ]
  },
  {
   "cell_type": "code",
   "execution_count": null,
   "metadata": {},
   "outputs": [],
   "source": [
    "from fuzzywuzzy import fuzz"
   ]
  },
  {
   "cell_type": "markdown",
   "metadata": {},
   "source": [
    "### 簡單匹配（Simple Ratio），按順序比較整個字串的相似度"
   ]
  },
  {
   "cell_type": "code",
   "execution_count": 70,
   "metadata": {
    "scrolled": true
   },
   "outputs": [
    {
     "data": {
      "text/plain": [
       "62"
      ]
     },
     "execution_count": 70,
     "metadata": {},
     "output_type": "execute_result"
    }
   ],
   "source": [
    "fuzz.ratio('Deluxe Room, 1 King Bed', 'Deluxe King Room')\n",
    "#返回結果時62，它告訴我們“Deluxe Room, 1 King Bed”和“Deluxe King Room”的相似度約62%。"
   ]
  },
  {
   "cell_type": "code",
   "execution_count": 65,
   "metadata": {},
   "outputs": [
    {
     "data": {
      "text/plain": [
       "69"
      ]
     },
     "execution_count": 65,
     "metadata": {},
     "output_type": "execute_result"
    }
   ],
   "source": [
    "fuzz.ratio('Traditional Double Room, 2 Double Beds','Double Room with Two Double Beds')"
   ]
  },
  {
   "cell_type": "code",
   "execution_count": 66,
   "metadata": {},
   "outputs": [
    {
     "data": {
      "text/plain": [
       "74"
      ]
     },
     "execution_count": 66,
     "metadata": {},
     "output_type": "execute_result"
    }
   ],
   "source": [
    "fuzz.ratio('Room, 2 Double Beds (19th to 25th Floors)','Two Double Beds - Location Room (19th to 25th Floors)')"
   ]
  },
  {
   "cell_type": "markdown",
   "metadata": {},
   "source": [
    "### 非完全匹配（Partial Ratio），比較部分字串的相似度\n",
    "我們仍在使用相同的資料對："
   ]
  },
  {
   "cell_type": "code",
   "execution_count": 67,
   "metadata": {},
   "outputs": [
    {
     "data": {
      "text/plain": [
       "69"
      ]
     },
     "execution_count": 67,
     "metadata": {},
     "output_type": "execute_result"
    }
   ],
   "source": [
    "fuzz.partial_ratio('Deluxe Room, 1 King Bed','Deluxe King Room')"
   ]
  },
  {
   "cell_type": "code",
   "execution_count": 68,
   "metadata": {},
   "outputs": [
    {
     "data": {
      "text/plain": [
       "83"
      ]
     },
     "execution_count": 68,
     "metadata": {},
     "output_type": "execute_result"
    }
   ],
   "source": [
    "fuzz.partial_ratio('Traditional Double Room, 2 Double Beds','Double Room with Two Double Beds')"
   ]
  },
  {
   "cell_type": "code",
   "execution_count": 69,
   "metadata": {},
   "outputs": [
    {
     "data": {
      "text/plain": [
       "63"
      ]
     },
     "execution_count": 69,
     "metadata": {},
     "output_type": "execute_result"
    }
   ],
   "source": [
    "fuzz.partial_ratio('Room, 2 Double Beds (19th to 25th Floors)','Two Double Beds - Location Room (19th to 25th Floors)')"
   ]
  },
  {
   "cell_type": "code",
   "execution_count": null,
   "metadata": {},
   "outputs": [],
   "source": [
    "返回依次69、83、63。對於我的資料集來說，比較部分字串並不能帶來更好的整體效果。讓我們嘗試下一個。"
   ]
  },
  {
   "cell_type": "markdown",
   "metadata": {},
   "source": [
    "### 忽略順序匹配（Token Sort Ratio），忽略單詞順序"
   ]
  },
  {
   "cell_type": "code",
   "execution_count": 71,
   "metadata": {},
   "outputs": [
    {
     "data": {
      "text/plain": [
       "84"
      ]
     },
     "execution_count": 71,
     "metadata": {},
     "output_type": "execute_result"
    }
   ],
   "source": [
    "fuzz.token_sort_ratio('Deluxe Room, 1 King Bed','Deluxe King Room')"
   ]
  },
  {
   "cell_type": "code",
   "execution_count": 72,
   "metadata": {},
   "outputs": [
    {
     "data": {
      "text/plain": [
       "78"
      ]
     },
     "execution_count": 72,
     "metadata": {},
     "output_type": "execute_result"
    }
   ],
   "source": [
    "fuzz.token_sort_ratio('Traditional Double Room, 2 Double Beds','Double Room with Two Double Beds')"
   ]
  },
  {
   "cell_type": "code",
   "execution_count": 73,
   "metadata": {},
   "outputs": [
    {
     "data": {
      "text/plain": [
       "83"
      ]
     },
     "execution_count": 73,
     "metadata": {},
     "output_type": "execute_result"
    }
   ],
   "source": [
    "fuzz.token_sort_ratio('Room, 2 Double Beds (19th to 25th Floors)','Two Double Beds - Location Room (19th to 25th Floors)')"
   ]
  },
  {
   "cell_type": "code",
   "execution_count": null,
   "metadata": {},
   "outputs": [],
   "source": [
    "返回依次84、78、83。這是迄今為止最好的。"
   ]
  },
  {
   "cell_type": "markdown",
   "metadata": {},
   "source": [
    "### 去重子集匹配（Token Set Ratio）\n",
    "它與token_sort_ratio類似，但更加靈活。"
   ]
  },
  {
   "cell_type": "code",
   "execution_count": 74,
   "metadata": {},
   "outputs": [
    {
     "data": {
      "text/plain": [
       "100"
      ]
     },
     "execution_count": 74,
     "metadata": {},
     "output_type": "execute_result"
    }
   ],
   "source": [
    "fuzz.token_set_ratio('Deluxe Room, 1 King Bed','Deluxe King Room')"
   ]
  },
  {
   "cell_type": "code",
   "execution_count": 75,
   "metadata": {},
   "outputs": [
    {
     "data": {
      "text/plain": [
       "78"
      ]
     },
     "execution_count": 75,
     "metadata": {},
     "output_type": "execute_result"
    }
   ],
   "source": [
    "fuzz.token_set_ratio('Traditional Double Room, 2 Double Beds','Double Room with Two Double Beds')"
   ]
  },
  {
   "cell_type": "code",
   "execution_count": 76,
   "metadata": {},
   "outputs": [
    {
     "data": {
      "text/plain": [
       "97"
      ]
     },
     "execution_count": 76,
     "metadata": {},
     "output_type": "execute_result"
    }
   ],
   "source": [
    "fuzz.token_set_ratio('Room, 2 Double Beds (19th to 25th Floors)','Two Double Beds - Location Room (19th to 25th Floors)')"
   ]
  },
  {
   "cell_type": "code",
   "execution_count": null,
   "metadata": {},
   "outputs": [],
   "source": [
    "返回依次100、78、97。看來token_set_ratio最適合我的資料。"
   ]
  },
  {
   "cell_type": "markdown",
   "metadata": {},
   "source": [
    "### 應用到整個資料集"
   ]
  },
  {
   "cell_type": "code",
   "execution_count": null,
   "metadata": {},
   "outputs": [],
   "source": [
    "根據這一發現，將token_set_ratio應用到整個資料集。"
   ]
  },
  {
   "cell_type": "code",
   "execution_count": 77,
   "metadata": {},
   "outputs": [
    {
     "data": {
      "text/plain": [
       "0.9029126213592233"
      ]
     },
     "execution_count": 77,
     "metadata": {},
     "output_type": "execute_result"
    }
   ],
   "source": [
    "def get_ratio(row):\n",
    "    name1 = row['Expedia']\n",
    "    name2 = row['Booking.com']\n",
    "    return fuzz.token_set_ratio(name1, name2)\n",
    " \n",
    "rated = df.apply(get_ratio, axis=1)\n",
    "rated.head(10)\n",
    " \n",
    "greater_than_70_percent = df[rated > 70]\n",
    "greater_than_70_percent.count()\n",
    "len(greater_than_70_percent) / len(df)"
   ]
  },
  {
   "cell_type": "markdown",
   "metadata": {},
   "source": [
    "### Process 用來返回模糊匹配的字符串和相似度。"
   ]
  },
  {
   "cell_type": "code",
   "execution_count": null,
   "metadata": {},
   "outputs": [],
   "source": [
    "當設定相似度> 70時，超過90％的房間對超過這個匹配分數。還很不錯！上面只是做了2個文字間的相似度比較，\n",
    "如果存在多個如何處理？可以使用庫中提供的 Process類：用來返回模糊匹配的字串和相似度。"
   ]
  },
  {
   "cell_type": "code",
   "execution_count": 80,
   "metadata": {},
   "outputs": [
    {
     "data": {
      "text/plain": [
       "[('New York Jets', 100), ('New York Giants', 79)]"
      ]
     },
     "execution_count": 80,
     "metadata": {},
     "output_type": "execute_result"
    }
   ],
   "source": [
    "choices = [\"Atlanta Falcons\", \"New York Jets\", \"New York Giants\", \"Dallas Cowboys\"]\n",
    "process.extract(\"new york jets\", choices, limit=2)"
   ]
  },
  {
   "cell_type": "code",
   "execution_count": 81,
   "metadata": {
    "scrolled": true
   },
   "outputs": [
    {
     "data": {
      "text/plain": [
       "('Dallas Cowboys', 90)"
      ]
     },
     "execution_count": 81,
     "metadata": {},
     "output_type": "execute_result"
    }
   ],
   "source": [
    "process.extractOne(\"cowboys\", choices)"
   ]
  },
  {
   "cell_type": "code",
   "execution_count": 92,
   "metadata": {},
   "outputs": [
    {
     "data": {
      "text/plain": [
       "[('DX 110', 100),\n",
       " ('DX-110', 100),\n",
       " ('Mouse Genius USB NetScroll DX-110', 90),\n",
       " ('Mouse Optic DX-110', 90)]"
      ]
     },
     "execution_count": 92,
     "metadata": {},
     "output_type": "execute_result"
    }
   ],
   "source": [
    "which = [\"DX 110\", \"DX-110\", \"Mouse Genius DX-120\", \"Mouse Genius USB NetScroll DX-110\", \"Mouse Optic DX-110\"]\n",
    "process.extract(\"DX-110\", which, limit=4)"
   ]
  },
  {
   "cell_type": "code",
   "execution_count": 93,
   "metadata": {},
   "outputs": [
    {
     "data": {
      "text/plain": [
       "[('HS-930BT-LI', 95), ('HS-940BT-LI', 74), ('HS-935BT-LI', 74)]"
      ]
     },
     "execution_count": 93,
     "metadata": {},
     "output_type": "execute_result"
    }
   ],
   "source": [
    "whichs = [\"HS-930BT-LI\", \"HS-940BT-LI\", \"HS-935BT-LI\"]\n",
    "process.extract(\"HS-930BT\", whichs, limit=4)"
   ]
  },
  {
   "cell_type": "code",
   "execution_count": 94,
   "metadata": {},
   "outputs": [
    {
     "data": {
      "text/plain": [
       "[('SW-G2.1 1250', 100), ('SW-G2.1 1250 II', 95), ('SW-G2.1 1250 IILI', 95)]"
      ]
     },
     "execution_count": 94,
     "metadata": {},
     "output_type": "execute_result"
    }
   ],
   "source": [
    "whichs = [\"SW-G2.1 1250\", \"SW-G2.1 1250 II\", \"SW-G2.1 1250 IILI\"]\n",
    "process.extract(\"SW-G2.1 1250\", whichs, limit=4)"
   ]
  },
  {
   "cell_type": "code",
   "execution_count": null,
   "metadata": {},
   "outputs": [],
   "source": [
    "你可以傳入附加引數到 extractOne 方法來設定使用特定的匹配模式。一個典型的用法是來匹配檔案路徑:"
   ]
  },
  {
   "cell_type": "code",
   "execution_count": null,
   "metadata": {},
   "outputs": [],
   "source": [
    ">>> process.extractOne(\"System of a down - Hypnotize - Heroin\", songs)\n",
    "        ('/music/library/good/System of a Down/2005 - Hypnotize/01 - Attack.mp3', 86)\n",
    "    >>> process.extractOne(\"System of a down - Hypnotize - Heroin\", songs, scorer=fuzz.token_sort_ratio)\n",
    "        (\"/music/library/good/System of a Down/2005 - Hypnotize/10 - She's Like Heroin.mp3\", 61)"
   ]
  },
  {
   "cell_type": "markdown",
   "metadata": {},
   "source": [
    "### FuzzyWuzzy在中文場景下的使用\n",
    "FuzzyWuzzy支援對中文進行比較："
   ]
  },
  {
   "cell_type": "code",
   "execution_count": 79,
   "metadata": {},
   "outputs": [
    {
     "name": "stdout",
     "output_type": "stream",
     "text": [
      "73\n",
      "('資料探勘工程師', 90)\n"
     ]
    }
   ],
   "source": [
    "from fuzzywuzzy import fuzz\n",
    "from fuzzywuzzy import process\n",
    " \n",
    "print(fuzz.ratio(\"資料探勘\", \"資料探勘工程師\"))\n",
    " \n",
    "title_list = [\"資料分析師\", \"資料探勘工程師\", \"大資料開發工程師\", \"機器學習工程師\",\n",
    "              \"演算法工程師\", \"資料庫管理\", \"商業分析師\", \"資料科學家\", \"首席資料官\",\n",
    "              \"資料產品經理\", \"資料運營\", \"大資料架構師\"]\n",
    " \n",
    "print(process.extractOne(\"資料探勘\", title_list))"
   ]
  },
  {
   "cell_type": "code",
   "execution_count": null,
   "metadata": {},
   "outputs": [],
   "source": [
    "仔細檢視程式碼，還是存在的問題：\n",
    "\n",
    "FuzzWuzzy並不會針對中文進行分詞\n",
    "也沒有對中文的一些停用詞進行過濾\n",
    "改進方案，處理前進行中文處理：\n",
    "\n",
    "繁簡轉換\n",
    "中文分詞\n",
    "去除停用詞"
   ]
  },
  {
   "cell_type": "code",
   "execution_count": null,
   "metadata": {},
   "outputs": [],
   "source": []
  },
  {
   "cell_type": "code",
   "execution_count": 13,
   "metadata": {},
   "outputs": [
    {
     "data": {
      "text/plain": [
       "['Ammox X1-400',\n",
       " 'DX-100X',\n",
       " 'DX-110',\n",
       " 'DX-120',\n",
       " 'DX-125',\n",
       " 'DX-130',\n",
       " 'DX-135',\n",
       " 'DX-150X',\n",
       " 'DX-160',\n",
       " 'DX-165',\n",
       " 'DX-170',\n",
       " 'DX-180',\n",
       " 'DX-7000X',\n",
       " 'EasyPen i405X',\n",
       " 'ECam 8000',\n",
       " 'ECO-8015',\n",
       " 'ECO-8100',\n",
       " 'Ergo 7000',\n",
       " 'FaceCam 1000X V2',\n",
       " 'FaceCam 2020',\n",
       " 'GHP-200A',\n",
       " 'GHP-200X',\n",
       " 'GHP-206',\n",
       " 'GHP-240X',\n",
       " 'GHP-400A',\n",
       " 'G-Pad 300S',\n",
       " 'G-Pad 500S',\n",
       " 'G-Pad 800S',\n",
       " 'GP-B200',\n",
       " 'GS-852',\n",
       " 'G-WMP 100',\n",
       " 'G-WMP 200M',\n",
       " 'G-WP 100',\n",
       " 'G-WP 200M',\n",
       " 'GX-Control P100',\n",
       " 'GX-P500',\n",
       " 'GX-Pad 300S RGB',\n",
       " 'GX-Pad 500S RGB',\n",
       " 'GX-Pad 600H RGB',\n",
       " 'GX-Pad 800S RGB',\n",
       " 'GX-Speed P100',\n",
       " 'HS-02B',\n",
       " 'HS-04S',\n",
       " 'HS-04SU',\n",
       " 'HS-05A',\n",
       " 'HS-105',\n",
       " 'HS-200C',\n",
       " 'HS-300A',\n",
       " 'HS-300N',\n",
       " 'HS-400A',\n",
       " 'HS-410F',\n",
       " 'HS-520',\n",
       " 'HS-610',\n",
       " 'HS-920BT-LI',\n",
       " 'HS-930BT-LI',\n",
       " 'HS-935BT-LI',\n",
       " 'HS-940BT-LI',\n",
       " 'HS-970BT-LI',\n",
       " 'HS-G450',\n",
       " 'HS-G500V',\n",
       " 'HS-G550',\n",
       " 'HS-G560',\n",
       " 'HS-G580',\n",
       " 'HS-G600',\n",
       " 'HS-G600V',\n",
       " 'HS-G650',\n",
       " 'HS-G680',\n",
       " 'HS-G700V',\n",
       " 'HS-G710V',\n",
       " 'HS-M04SU',\n",
       " 'HS-M225',\n",
       " 'HS-M228',\n",
       " 'HS-M230',\n",
       " 'HS-M260',\n",
       " 'HS-M270',\n",
       " 'HS-M300',\n",
       " 'HS-M320',\n",
       " 'HS-M360',\n",
       " 'HS-M430',\n",
       " 'HS-M435',\n",
       " 'HS-M450',\n",
       " 'HS-M470',\n",
       " 'HS-M505X',\n",
       " 'Imperator Pro',\n",
       " 'KB 110',\n",
       " 'KB-06XE',\n",
       " 'KB-110X',\n",
       " 'KB-115',\n",
       " 'KB-116',\n",
       " 'KB-118',\n",
       " 'KB-125',\n",
       " 'KB-128',\n",
       " 'KB-150',\n",
       " 'KB-210',\n",
       " 'KB-8000X',\n",
       " 'KB-M200',\n",
       " 'KB-M225',\n",
       " 'KB-M230',\n",
       " 'KM-100',\n",
       " 'KM-110X',\n",
       " 'KM-121',\n",
       " 'KM-122',\n",
       " 'KM-125',\n",
       " 'KM-130',\n",
       " 'KM-160',\n",
       " 'KM-210',\n",
       " 'KMH-200',\n",
       " 'KMS U130',\n",
       " 'Life Shot FHD300',\n",
       " 'LUMINA',\n",
       " 'LuxeMate 100',\n",
       " 'LuxePad 9000',\n",
       " 'LuxePad A110',\n",
       " 'LuxePad A120',\n",
       " 'Media Pointer 100',\n",
       " 'Media Pointer 100 V3',\n",
       " 'MH-7018',\n",
       " 'MH-8015',\n",
       " 'MH-8100',\n",
       " 'MIC-01A',\n",
       " 'MIC-02A',\n",
       " 'MIC-05A',\n",
       " 'Micro Traveler 9000R-LI',\n",
       " 'Micro Traveler 900S V4',\n",
       " 'Micro Traveler V2',\n",
       " 'Mobile Theater MT-20',\n",
       " 'MousePen i608X',\n",
       " 'NetScroll 100 V2',\n",
       " 'NetScroll 100X',\n",
       " 'NetScroll 120',\n",
       " 'NetScroll 120 V2',\n",
       " 'NetScroll 200',\n",
       " 'NS 6000',\n",
       " 'NS-6005',\n",
       " 'NS-6005 BlueEye',\n",
       " 'NumPad i120',\n",
       " 'NumPad i130',\n",
       " 'NX-6510',\n",
       " 'NX-6550',\n",
       " 'NX-7000',\n",
       " 'NX-7005',\n",
       " 'NX-7010',\n",
       " 'NX-7015',\n",
       " 'NX-9000BT V2-LI',\n",
       " 'NX-9000BT-LI',\n",
       " 'NX-ECO',\n",
       " 'QCam 6000',\n",
       " 'QPad 100',\n",
       " 'RC 330A',\n",
       " 'RC 530A',\n",
       " 'Scorpion K10',\n",
       " 'Scorpion K20',\n",
       " 'Scorpion K210',\n",
       " 'Scorpion K215',\n",
       " 'Scorpion K220',\n",
       " 'Scorpion K5',\n",
       " 'SCORPION K6',\n",
       " 'Scorpion K8',\n",
       " 'Scorpion K9',\n",
       " 'Scorpion M6-400',\n",
       " 'Scorpion M6-600',\n",
       " 'Scorpion M8-610',\n",
       " 'Scorpion Spear',\n",
       " 'Scorpion Spear Pro',\n",
       " 'SlimStar 110',\n",
       " 'SlimStar 126',\n",
       " 'SlimStar 130',\n",
       " 'SlimStar 230',\n",
       " 'SlimStar 8000ME',\n",
       " 'SlimStar 8005',\n",
       " 'SlimStar 8006',\n",
       " 'SLIMSTAR 8008',\n",
       " 'SlimStar C115',\n",
       " 'SlimStar C130',\n",
       " 'Smart KB-100',\n",
       " 'Smart KB-101',\n",
       " 'Smart KB-102',\n",
       " 'Smart KM-200',\n",
       " 'Smart KM-8100',\n",
       " 'Smart KM-8200',\n",
       " 'SP-906BT PLUS-LI',\n",
       " 'SP-906BT-LI',\n",
       " 'SP-920BT-LI',\n",
       " 'SP-925BT-LI',\n",
       " 'SP-HF1250B',\n",
       " 'SP-HF1250B II',\n",
       " 'SP-HF160',\n",
       " 'SP-HF180',\n",
       " 'SP-HF1800A',\n",
       " 'SP-HF280',\n",
       " 'SP-HF500A',\n",
       " 'SP-HF800A',\n",
       " 'SP-HF800A II',\n",
       " 'SP-J120',\n",
       " 'SP-L160',\n",
       " 'SP-Q120',\n",
       " 'SP-Q160',\n",
       " 'SP-Q180',\n",
       " 'SP-U115',\n",
       " 'SP-U120',\n",
       " 'SP-U130',\n",
       " 'SW-2.1 1800',\n",
       " 'SW-2.1 355',\n",
       " 'SW-2.1 370',\n",
       " 'SW-2.1 375',\n",
       " 'SW-2.1 385',\n",
       " 'SW-5.1 1020',\n",
       " 'SW-5.1 1020 II',\n",
       " 'SW-A2.1 700',\n",
       " 'SW-G2.1 1250',\n",
       " 'SW-G2.1 1250 II',\n",
       " 'SW-G2.1 2000',\n",
       " 'SW-G2.1 2000 II',\n",
       " 'SW-G2.1 3000',\n",
       " 'SW-G2.1 500',\n",
       " 'SW-G5.1 3500',\n",
       " 'SW-HF2.1 1205',\n",
       " 'SW-HF2.1 1205 II',\n",
       " 'SW-HF2.1 1700',\n",
       " 'SW-HF2.1 1700 II',\n",
       " 'SW-HF5.1 4500',\n",
       " 'SW-HF5.1 4500 II',\n",
       " 'SW-HF5.1 4600',\n",
       " 'SW-HF5.1 4600 II',\n",
       " 'SW-HF5.1 4800',\n",
       " 'SW-HF5.1 4800 II',\n",
       " 'SW-HF5.1 6000',\n",
       " 'SW-HF5.1 6000 II',\n",
       " 'SW-U2.1 200',\n",
       " 'Traveler 7000',\n",
       " 'Traveler 900',\n",
       " 'TRAVELER 9005BT',\n",
       " 'TRAVELER 9020BT',\n",
       " 'USB SoundBar 100',\n",
       " 'WideCam F100',\n",
       " 'X-G200',\n",
       " 'X-G600',\n",
       " 'XScroll',\n",
       " 'XScroll V3',\n",
       " None]"
      ]
     },
     "execution_count": 13,
     "metadata": {},
     "output_type": "execute_result"
    }
   ],
   "source": [
    "import xlwings as xw\n",
    "\n",
    "wb = xw.Book(r\"C:\\Users\\11004076\\Documents\\Python Scripts\\1_Crawler\\IPNB\\Shoppe_Indonisia.xlsx\")\n",
    "\n",
    "sht_cd4 = wb.sheets['Sls CD4 Desc#']\n",
    "\n",
    "cd4 = sht_cd4.range('A1:A240').value\n",
    "cd4"
   ]
  },
  {
   "cell_type": "code",
   "execution_count": 8,
   "metadata": {},
   "outputs": [
    {
     "data": {
      "text/plain": [
       "'Star SellerGenius Mouse Pen I608x Pen Tablet Alat Desain Grafis'"
      ]
     },
     "execution_count": 8,
     "metadata": {},
     "output_type": "execute_result"
    }
   ],
   "source": [
    "sht_genius = wb.sheets['Genius_12']\n",
    "\n",
    "name = sht_genius.range('A2').value\n",
    "\n",
    "name"
   ]
  },
  {
   "cell_type": "code",
   "execution_count": 10,
   "metadata": {},
   "outputs": [
    {
     "data": {
      "text/plain": [
       "[('DX 110', 100),\n",
       " ('DX-110', 100),\n",
       " ('Mouse Genius USB NetScroll DX-110', 90),\n",
       " ('Mouse Optic DX-110', 90)]"
      ]
     },
     "execution_count": 10,
     "metadata": {},
     "output_type": "execute_result"
    }
   ],
   "source": [
    "from fuzzywuzzy import fuzz\n",
    "from fuzzywuzzy import process\n",
    "\n",
    "which = [\"DX 110\", \"DX-110\", \"Mouse Genius DX-120\", \"Mouse Genius USB NetScroll DX-110\", \"Mouse Optic DX-110\"]\n",
    "process.extract(\"DX-110\", which, limit=4)"
   ]
  },
  {
   "cell_type": "code",
   "execution_count": 33,
   "metadata": {},
   "outputs": [
    {
     "data": {
      "text/plain": [
       "('MousePen i608X', 86)"
      ]
     },
     "execution_count": 33,
     "metadata": {},
     "output_type": "execute_result"
    }
   ],
   "source": [
    "a = process.extract(name, cd4, limit=1)\n",
    "a[0]"
   ]
  },
  {
   "cell_type": "code",
   "execution_count": 34,
   "metadata": {},
   "outputs": [],
   "source": [
    "import xlwings as xw\n",
    "\n",
    "wb = xw.Book(r\"C:\\Users\\11004076\\Documents\\Python Scripts\\1_Crawler\\IPNB\\Shoppe_Indonisia.xlsx\")\n",
    "sht_cd4 = wb.sheets['Sls CD4 Desc#']\n",
    "cd4 = sht_cd4.range('A1:A240').value\n",
    "\n",
    "sht_genius = wb.sheets['Genius_12']\n",
    "rows = sht_genius.range('A2:A578').value\n",
    "\n",
    "models = []\n",
    "for row in rows:\n",
    "    model = process.extract(row, cd4, limit=1)\n",
    "    model = list(model[0])  #要將元祖(tuple)轉換為列表(list)\n",
    "    models.append(model)"
   ]
  },
  {
   "cell_type": "code",
   "execution_count": 35,
   "metadata": {},
   "outputs": [
    {
     "data": {
      "text/plain": [
       "[['MousePen i608X', 86],\n",
       " ['EasyPen i405X', 90],\n",
       " ['EasyPen i405X', 86],\n",
       " ['MousePen i608X', 86],\n",
       " ['EasyPen i405X', 86],\n",
       " ['HS-610', 60],\n",
       " ['EasyPen i405X', 90],\n",
       " ['MousePen i608X', 90],\n",
       " ['EasyPen i405X', 86],\n",
       " ['EasyPen i405X', 90],\n",
       " ['EasyPen i405X', 86],\n",
       " ['MousePen i608X', 90],\n",
       " ['GP-B200', 86],\n",
       " ['EasyPen i405X', 90],\n",
       " ['MousePen i608X', 86],\n",
       " ['EasyPen i405X', 86],\n",
       " ['EasyPen i405X', 90],\n",
       " ['EasyPen i405X', 86],\n",
       " ['MousePen i608X', 90],\n",
       " ['MousePen i608X', 86],\n",
       " ['MousePen i608X', 90],\n",
       " ['EasyPen i405X', 86],\n",
       " ['G-Pad 300S', 86],\n",
       " ['EasyPen i405X', 86],\n",
       " ['LUMINA', 45],\n",
       " ['GP-B200', 86],\n",
       " ['EasyPen i405X', 86],\n",
       " ['MousePen i608X', 86],\n",
       " ['DX-120', 86],\n",
       " ['NetScroll 120', 90],\n",
       " ['USB SoundBar 100', 86],\n",
       " ['DX-125', 90],\n",
       " ['NX-7005', 90],\n",
       " ['NX-ECO', 62],\n",
       " ['DX-125', 75],\n",
       " ['DX-125', 82],\n",
       " ['MousePen i608X', 77],\n",
       " ['DX-125', 90],\n",
       " ['MousePen i608X', 90],\n",
       " ['USB SoundBar 100', 86],\n",
       " ['DX-7000X', 86],\n",
       " ['Scorpion K220', 90],\n",
       " ['G-WMP 100', 86],\n",
       " ['Scorpion K5', 90],\n",
       " ['Smart KB-101', 90],\n",
       " ['MousePen i608X', 53],\n",
       " ['Ergo 7000', 86],\n",
       " ['HS-02B', 45],\n",
       " ['HS-02B', 45],\n",
       " ['KB-8000X', 86],\n",
       " ['HS-02B', 45],\n",
       " ['KB 110', 86],\n",
       " ['USB SoundBar 100', 86],\n",
       " ['USB SoundBar 100', 86],\n",
       " ['KB 110', 86],\n",
       " ['USB SoundBar 100', 86],\n",
       " ['USB SoundBar 100', 86],\n",
       " ['KB-06XE', 86],\n",
       " ['USB SoundBar 100', 86],\n",
       " ['Smart KB-100', 90],\n",
       " ['USB SoundBar 100', 86],\n",
       " ['KB-06XE', 86],\n",
       " ['USB SoundBar 100', 86],\n",
       " ['USB SoundBar 100', 86],\n",
       " ['ECam 8000', 86],\n",
       " ['USB SoundBar 100', 86],\n",
       " ['NetScroll 120', 86],\n",
       " ['USB SoundBar 100', 86],\n",
       " ['MousePen i608X', 51],\n",
       " ['USB SoundBar 100', 44],\n",
       " ['ECam 8000', 86],\n",
       " ['LuxeMate 100', 86],\n",
       " ['G-WMP 100', 86],\n",
       " ['KB 110', 90],\n",
       " ['SlimStar 110', 86],\n",
       " ['KB-06XE', 86],\n",
       " ['USB SoundBar 100', 86],\n",
       " ['KB 110', 90],\n",
       " ['SlimStar 110', 86],\n",
       " ['KB 110', 90],\n",
       " ['USB SoundBar 100', 86],\n",
       " ['KB-06XE', 86],\n",
       " ['USB SoundBar 100', 86],\n",
       " ['LUMINA', 45],\n",
       " ['Smart KB-100', 86],\n",
       " ['Smart KB-101', 90],\n",
       " ['Scorpion K5', 90],\n",
       " ['NX-9000BT V2-LI', 86],\n",
       " ['SlimStar 130', 90],\n",
       " ['USB SoundBar 100', 86],\n",
       " ['KB-125', 90],\n",
       " ['Smart KB-100', 86],\n",
       " ['KB-06XE', 86],\n",
       " ['KB-110X', 77],\n",
       " ['USB SoundBar 100', 86],\n",
       " ['SlimStar 110', 86],\n",
       " ['G-WMP 100', 86],\n",
       " ['USB SoundBar 100', 86],\n",
       " ['LuxeMate 100', 86],\n",
       " ['KM-100', 71],\n",
       " ['USB SoundBar 100', 86],\n",
       " ['G-WMP 100', 86],\n",
       " ['NX-7010', 90],\n",
       " ['KB-110X', 90],\n",
       " ['KB 110', 90],\n",
       " ['DX-110', 86],\n",
       " ['KB 110', 90],\n",
       " ['Smart KB-100', 86],\n",
       " ['DX-125', 86],\n",
       " ['USB SoundBar 100', 86],\n",
       " ['HS-200C', 60],\n",
       " ['KB 110', 90],\n",
       " ['SlimStar 8006', 90],\n",
       " ['USB SoundBar 100', 86],\n",
       " ['USB SoundBar 100', 86],\n",
       " ['KB 110', 90],\n",
       " ['Smart KB-100', 86],\n",
       " ['G-WMP 100', 86],\n",
       " ['KB-128', 90],\n",
       " ['USB SoundBar 100', 86],\n",
       " ['USB SoundBar 100', 86],\n",
       " ['KB-110X', 83],\n",
       " ['KB 110', 90],\n",
       " ['KB 110', 90],\n",
       " ['KB 110', 86],\n",
       " ['KB-128', 90],\n",
       " ['G-WMP 100', 86],\n",
       " ['SlimStar 130', 90],\n",
       " ['G-WMP 100', 86],\n",
       " ['HS-05A', 45],\n",
       " ['KB 110', 86],\n",
       " ['KB-06XE', 86],\n",
       " ['USB SoundBar 100', 86],\n",
       " ['Scorpion K220', 90],\n",
       " ['KB 110', 90],\n",
       " ['KM-100', 71],\n",
       " ['SlimStar 8006', 90],\n",
       " ['KB-06XE', 86],\n",
       " ['KB-125', 90],\n",
       " ['KB 110', 90],\n",
       " ['HS-02B', 45],\n",
       " ['KB-110X', 77],\n",
       " ['G-WMP 100', 86],\n",
       " ['USB SoundBar 100', 86],\n",
       " ['SlimStar 8006', 90],\n",
       " ['HS-02B', 45],\n",
       " ['KB 110', 90],\n",
       " ['KB 110', 90],\n",
       " ['NumPad i120', 86],\n",
       " ['USB SoundBar 100', 86],\n",
       " ['USB SoundBar 100', 86],\n",
       " ['KB 110', 86],\n",
       " ['SlimStar 110', 86],\n",
       " ['KB-128', 90],\n",
       " ['USB SoundBar 100', 86],\n",
       " ['SlimStar 8006', 90],\n",
       " ['SlimStar 8006', 90],\n",
       " ['G-WMP 100', 86],\n",
       " ['Smart KB-100', 86],\n",
       " ['GS-852', 45],\n",
       " ['USB SoundBar 100', 86],\n",
       " ['KB 110', 90],\n",
       " ['KB-125', 90],\n",
       " ['DX-100X', 86],\n",
       " ['KB 110', 90],\n",
       " ['Scorpion K10', 86],\n",
       " ['G-WMP 100', 86],\n",
       " ['Imperator Pro', 90],\n",
       " ['G-WMP 100', 86],\n",
       " ['USB SoundBar 100', 86],\n",
       " ['Scorpion K220', 90],\n",
       " ['SlimStar 110', 86],\n",
       " ['G-Pad 300S', 86],\n",
       " ['SLIMSTAR 8008', 90],\n",
       " ['G-WMP 100', 86],\n",
       " ['KB-128', 90],\n",
       " ['NX-ECO', 62],\n",
       " ['KB 110', 43],\n",
       " ['KB 110', 43],\n",
       " ['USB SoundBar 100', 86],\n",
       " ['SlimStar 8006', 90],\n",
       " ['G-WMP 100', 86],\n",
       " ['KB 110', 90],\n",
       " ['KB 110', 43],\n",
       " ['KB 110', 86],\n",
       " ['Scorpion K5', 90],\n",
       " ['MIC-01A', 49],\n",
       " ['G-WMP 100', 86],\n",
       " ['USB SoundBar 100', 86],\n",
       " ['KB 110', 82],\n",
       " ['Ammox X1-400', 86],\n",
       " ['DX-125', 82],\n",
       " ['USB SoundBar 100', 86],\n",
       " ['KB 110', 86],\n",
       " ['KB-06XE', 86],\n",
       " ['Smart KB-100', 86],\n",
       " ['SlimStar C130', 86],\n",
       " ['USB SoundBar 100', 86],\n",
       " ['Smart KB-101', 90],\n",
       " ['Scorpion K5', 50],\n",
       " ['USB SoundBar 100', 86],\n",
       " ['NumPad i120', 86],\n",
       " ['DX-110', 90],\n",
       " ['NetScroll 120', 90],\n",
       " ['Scorpion M6-600', 90],\n",
       " ['Scorpion M6-600', 90],\n",
       " ['Scorpion M6-600', 90],\n",
       " ['Ammox X1-400', 90],\n",
       " ['DX-110', 90],\n",
       " ['DX-125', 90],\n",
       " ['NetScroll 120', 90],\n",
       " ['NetScroll 120', 86],\n",
       " ['NetScroll 120', 86],\n",
       " ['NetScroll 120', 86],\n",
       " ['DX-7000X', 86],\n",
       " ['DX-7000X', 86],\n",
       " ['NetScroll 120', 86],\n",
       " ['NetScroll 120', 90],\n",
       " ['NX-7010', 90],\n",
       " ['NX-7010', 90],\n",
       " ['DX-110', 90],\n",
       " ['NX-9000BT V2-LI', 86],\n",
       " ['NX-9000BT V2-LI', 86],\n",
       " ['NX-9000BT V2-LI', 86],\n",
       " ['NX-9000BT V2-LI', 86],\n",
       " ['NX-9000BT V2-LI', 86],\n",
       " ['NX-9000BT V2-LI', 86],\n",
       " ['NX-9000BT V2-LI', 86],\n",
       " ['NX-9000BT V2-LI', 86],\n",
       " ['MousePen i608X', 58],\n",
       " ['NetScroll 120', 90],\n",
       " ['Micro Traveler 9000R-LI', 86],\n",
       " ['DX-125', 90],\n",
       " ['DX-125', 90],\n",
       " ['NetScroll 100 V2', 86],\n",
       " ['NX-9000BT V2-LI', 86],\n",
       " ['NetScroll 120', 90],\n",
       " ['NetScroll 120', 90],\n",
       " ['DX-125', 90],\n",
       " ['NetScroll 120', 90],\n",
       " ['NetScroll 120', 90],\n",
       " ['DX-7000X', 86],\n",
       " ['NetScroll 120', 90],\n",
       " ['NetScroll 120', 86],\n",
       " ['NX-9000BT V2-LI', 86],\n",
       " ['NetScroll 120', 90],\n",
       " ['NX-7015', 90],\n",
       " ['NetScroll 120', 90],\n",
       " ['NetScroll 120', 86],\n",
       " ['NetScroll 120', 86],\n",
       " ['NetScroll 120', 86],\n",
       " ['NetScroll 120', 86],\n",
       " ['NetScroll 120', 90],\n",
       " ['NetScroll 120', 90],\n",
       " ['NetScroll 120', 90],\n",
       " ['NetScroll 120', 86],\n",
       " ['NetScroll 120', 86],\n",
       " ['DX-125', 90],\n",
       " ['NX-9000BT V2-LI', 86],\n",
       " ['NX-9000BT V2-LI', 86],\n",
       " ['DX-100X', 86],\n",
       " ['DX-100X', 86],\n",
       " ['DX-110', 90],\n",
       " ['SP-906BT PLUS-LI', 86],\n",
       " ['DX-125', 90],\n",
       " ['NX-7000', 90],\n",
       " ['DX-110', 90],\n",
       " ['NX-7005', 86],\n",
       " ['NX-7015', 90],\n",
       " ['DX-125', 90],\n",
       " ['MousePen i608X', 46],\n",
       " ['MousePen i608X', 53],\n",
       " ['NetScroll 120', 90],\n",
       " ['DX-110', 90],\n",
       " ['DX-120', 86],\n",
       " ['NetScroll 120', 90],\n",
       " ['DX-7000X', 86],\n",
       " ['DX-125', 90],\n",
       " ['DX-100X', 86],\n",
       " ['NetScroll 120', 86],\n",
       " ['NetScroll 120', 86],\n",
       " ['NetScroll 120', 90],\n",
       " ['NetScroll 120', 86],\n",
       " ['DX-120', 90],\n",
       " ['DX-125', 90],\n",
       " ['NS-6005 BlueEye', 86],\n",
       " ['NetScroll 120', 86],\n",
       " ['DX-125', 90],\n",
       " ['NX-7000', 83],\n",
       " ['NX-7000', 90],\n",
       " ['NX-7000', 90],\n",
       " ['DX-7000X', 86],\n",
       " ['NX-7000', 83],\n",
       " ['Ergo 7000', 86],\n",
       " ['DX-125', 90],\n",
       " ['NetScroll 120', 86],\n",
       " ['NX-7000', 90],\n",
       " ['NetScroll 120', 90],\n",
       " ['NetScroll 120', 86],\n",
       " ['NX-7000', 90],\n",
       " ['NX-6510', 86],\n",
       " ['NetScroll 120', 86],\n",
       " ['NX-7000', 90],\n",
       " ['NetScroll 120', 90],\n",
       " ['NX-7015', 90],\n",
       " ['NetScroll 120', 86],\n",
       " ['NetScroll 120', 90],\n",
       " ['NetScroll 120', 86],\n",
       " ['NX-9000BT V2-LI', 86],\n",
       " ['NetScroll 120', 90],\n",
       " ['NetScroll 120', 86],\n",
       " ['DX-120', 90],\n",
       " ['DX-120', 90],\n",
       " ['NS-6005 BlueEye', 57],\n",
       " ['DX-7000X', 86],\n",
       " ['DX-125', 90],\n",
       " ['NX-7000', 77],\n",
       " ['NetScroll 120', 90],\n",
       " ['MousePen i608X', 53],\n",
       " ['NX-7000', 90],\n",
       " ['NX-7000', 90],\n",
       " ['DX-120', 90],\n",
       " ['MousePen i608X', 49],\n",
       " ['MousePen i608X', 90],\n",
       " ['DX-120', 90],\n",
       " ['DX-120', 90],\n",
       " ['NetScroll 100 V2', 86],\n",
       " ['DX-120', 90],\n",
       " ['NetScroll 120', 90],\n",
       " ['NX-7015', 90],\n",
       " ['SP-J120', 64],\n",
       " ['DX-125', 90],\n",
       " ['NumPad i120', 86],\n",
       " ['DX-100X', 86],\n",
       " ['DX-125', 90],\n",
       " ['NX-9000BT V2-LI', 86],\n",
       " ['DX-125', 90],\n",
       " ['NetScroll 120', 90],\n",
       " ['NetScroll 120', 90],\n",
       " ['NX-7010', 77],\n",
       " ['NX-7000', 90],\n",
       " ['NetScroll 120', 86],\n",
       " ['NX-7000', 90],\n",
       " ['DX-110', 90],\n",
       " ['DX-125', 90],\n",
       " ['MousePen i608X', 62],\n",
       " ['Ammox X1-400', 90],\n",
       " ['NetScroll 120', 90],\n",
       " ['MousePen i608X', 49],\n",
       " ['NX-7015', 90],\n",
       " ['NX-9000BT V2-LI', 86],\n",
       " ['USB SoundBar 100', 86],\n",
       " ['NX-7000', 90],\n",
       " ['USB SoundBar 100', 86],\n",
       " ['DX-110', 90],\n",
       " ['MousePen i608X', 49],\n",
       " ['Ergo 7000', 86],\n",
       " ['NetScroll 120', 90],\n",
       " ['NX-7015', 90],\n",
       " ['NX-7010', 90],\n",
       " ['NX-7000', 83],\n",
       " ['NX-7000', 90],\n",
       " ['NX-7000', 90],\n",
       " ['DX-110', 90],\n",
       " ['NX-7000', 90],\n",
       " ['DX-110', 90],\n",
       " ['NX-7015', 77],\n",
       " ['DX-125', 50],\n",
       " ['USB SoundBar 100', 86],\n",
       " ['NX-7015', 83],\n",
       " ['NX-7015', 83],\n",
       " ['NX-7015', 83],\n",
       " ['DX-110', 82],\n",
       " ['NX-7015', 90],\n",
       " ['NX-7015', 90],\n",
       " ['NX-7015', 86],\n",
       " ['NX-7010', 90],\n",
       " ['NX-7015', 90],\n",
       " ['NX-7000', 90],\n",
       " ['DX-110', 90],\n",
       " ['DX-110', 86],\n",
       " ['DX-120', 90],\n",
       " ['DX-100X', 86],\n",
       " ['DX-125', 90],\n",
       " ['Micro Traveler 9000R-LI', 86],\n",
       " ['NetScroll 120', 90],\n",
       " ['NX-7005', 90],\n",
       " ['DX-120', 90],\n",
       " ['Ammox X1-400', 90],\n",
       " ['NX-7010', 90],\n",
       " ['X-G200', 86],\n",
       " ['DX-125', 90],\n",
       " ['NX-7015', 90],\n",
       " ['NX-7015', 86],\n",
       " ['NX-9000BT V2-LI', 86],\n",
       " ['NetScroll 120', 90],\n",
       " ['DX-125', 90],\n",
       " ['NetScroll 120', 90],\n",
       " ['NX-7000', 90],\n",
       " ['DX-125', 90],\n",
       " ['NetScroll 120', 90],\n",
       " ['NX-7000', 90],\n",
       " ['DX-125', 90],\n",
       " ['NetScroll 120', 90],\n",
       " ['DX-125', 90],\n",
       " ['X-G200', 86],\n",
       " ['G-Pad 300S', 86],\n",
       " ['NetScroll 120', 90],\n",
       " ['NX-7005', 90],\n",
       " ['NX-7015', 83],\n",
       " ['NX-7000', 83],\n",
       " ['DX-130', 90],\n",
       " ['DX-110', 90],\n",
       " ['NX-7005', 90],\n",
       " ['NX-7005', 90],\n",
       " ['NX-7000', 90],\n",
       " ['DX-100X', 86],\n",
       " ['DX-100X', 86],\n",
       " ['DX-110', 90],\n",
       " ['NX-7000', 90],\n",
       " ['DX-125', 82],\n",
       " ['Ammox X1-400', 90],\n",
       " ['NX-9000BT V2-LI', 86],\n",
       " ['DX-125', 90],\n",
       " ['DX-100X', 86],\n",
       " ['DX-120', 90],\n",
       " ['DX-100X', 86],\n",
       " ['DX-125', 90],\n",
       " ['Micro Traveler V2', 86],\n",
       " ['Ergo 7000', 86],\n",
       " ['DX-110', 86],\n",
       " ['DX-125', 90],\n",
       " ['NX-7015', 83],\n",
       " ['NX-7010', 90],\n",
       " ['NX-7005', 90],\n",
       " ['MousePen i608X', 49],\n",
       " ['NX-7000', 83],\n",
       " ['NX-7005', 77],\n",
       " ['DX-125', 90],\n",
       " ['Traveler 900', 90],\n",
       " ['Scorpion M6-600', 86],\n",
       " ['Micro Traveler 9000R-LI', 86],\n",
       " ['Micro Traveler 9000R-LI', 86],\n",
       " ['NX-7000', 90],\n",
       " ['DX-125', 90],\n",
       " ['USB SoundBar 100', 86],\n",
       " ['SlimStar 110', 86],\n",
       " ['NX-7000', 90],\n",
       " ['DX-125', 90],\n",
       " ['NX-7010', 90],\n",
       " ['NX-7015', 90],\n",
       " ['NX-7005', 90],\n",
       " ['Micro Traveler 9000R-LI', 86],\n",
       " ['NetScroll 120', 90],\n",
       " ['Ergo 7000', 86],\n",
       " ['MousePen i608X', 51],\n",
       " ['NX-9000BT V2-LI', 86],\n",
       " ['NX-7010', 90],\n",
       " ['DX-125', 90],\n",
       " ['NX-7010', 90],\n",
       " ['DX-120', 86],\n",
       " ['DX-110', 86],\n",
       " ['USB SoundBar 100', 86],\n",
       " ['NetScroll 120', 90],\n",
       " ['DX-125', 90],\n",
       " ['USB SoundBar 100', 86],\n",
       " ['MousePen i608X', 48],\n",
       " ['NX-7005', 90],\n",
       " ['NX-7000', 90],\n",
       " ['NX-7000', 90],\n",
       " ['NetScroll 120', 90],\n",
       " ['NX-7015', 90],\n",
       " ['DX-110', 90],\n",
       " ['DX-120', 90],\n",
       " ['DX-125', 82],\n",
       " ['DX-110', 90],\n",
       " ['DX-110', 90],\n",
       " ['DX-130', 75],\n",
       " ['NX-7000', 90],\n",
       " ['NX-7015', 90],\n",
       " ['NX-7005', 90],\n",
       " ['NX-7015', 90],\n",
       " ['NetScroll 120', 90],\n",
       " ['DX-110', 90],\n",
       " ['DX-110', 90],\n",
       " ['NX-7010', 90],\n",
       " ['NX-7000', 90],\n",
       " ['NX-7015', 77],\n",
       " ['NX-7005', 77],\n",
       " ['MousePen i608X', 53],\n",
       " ['DX-125', 90],\n",
       " ['Ergo 7000', 86],\n",
       " ['SW-2.1 1800', 86],\n",
       " ['DX-110', 82],\n",
       " ['DX-100X', 86],\n",
       " ['NX-7010', 83],\n",
       " ['X-G200', 86],\n",
       " ['NX-7015', 90],\n",
       " ['NX-7000', 90],\n",
       " ['NX-9000BT V2-LI', 86],\n",
       " ['NX-9000BT V2-LI', 86],\n",
       " ['Ergo 7000', 86],\n",
       " ['DX-100X', 86],\n",
       " ['NetScroll 120', 90],\n",
       " ['DX-110', 90],\n",
       " ['MousePen i608X', 51],\n",
       " ['NX-9000BT V2-LI', 86],\n",
       " ['XScroll', 90],\n",
       " ['Micro Traveler 9000R-LI', 86],\n",
       " ['NX-7000', 77],\n",
       " ['DX-125', 90],\n",
       " ['NX-7000', 77],\n",
       " ['DX-110', 90],\n",
       " ['NX-7015', 90],\n",
       " ['NX-7010', 90],\n",
       " ['NX-9000BT V2-LI', 86],\n",
       " ['MousePen i608X', 51],\n",
       " ['NX-7005', 90],\n",
       " ['DX-110', 90],\n",
       " ['Scorpion M6-600', 90],\n",
       " ['DX-100X', 86],\n",
       " ['X-G200', 86],\n",
       " ['USB SoundBar 100', 86],\n",
       " ['DX-110', 90],\n",
       " ['NX-7000', 90],\n",
       " ['NX-7015', 90],\n",
       " ['NX-7000', 90],\n",
       " ['HS-105', 60],\n",
       " ['MousePen i608X', 49],\n",
       " ['HS-04S', 43],\n",
       " ['DX-7000X', 86],\n",
       " ['NX-7000', 83],\n",
       " ['NX-7015', 83],\n",
       " ['DX-120', 90],\n",
       " ['Micro Traveler 9000R-LI', 86],\n",
       " ['XScroll', 77],\n",
       " ['NetScroll 120', 90],\n",
       " ['NX-7005', 90],\n",
       " ['DX-120', 86],\n",
       " ['Imperator Pro', 46],\n",
       " ['NX-7000', 90],\n",
       " ['DX-125', 90],\n",
       " ['DX-110', 90],\n",
       " ['X-G200', 90],\n",
       " ['MousePen i608X', 48],\n",
       " ['Ammox X1-400', 90],\n",
       " ['NX-7000', 90],\n",
       " ['DX-120', 90],\n",
       " ['USB SoundBar 100', 86],\n",
       " ['HS-02B', 45],\n",
       " ['Scorpion M6-400', 86],\n",
       " ['DX-125', 90],\n",
       " ['DX-125', 90],\n",
       " ['NX-7015', 90],\n",
       " ['DX-100X', 86],\n",
       " ['Micro Traveler 9000R-LI', 86],\n",
       " ['NX-7010', 90],\n",
       " ['DX-110', 75],\n",
       " ['NX-9000BT V2-LI', 86],\n",
       " ['USB SoundBar 100', 86],\n",
       " ['DX-125', 82],\n",
       " ['NX-7005', 90],\n",
       " ['NX-7015', 90],\n",
       " ['NX-7010', 90],\n",
       " ['DX-110', 90],\n",
       " ['NetScroll 120', 86],\n",
       " ['NX-7015', 90],\n",
       " ['NX-7015', 90],\n",
       " ['NX-7015', 90],\n",
       " ['DX-125', 90],\n",
       " ['USB SoundBar 100', 86],\n",
       " ['USB SoundBar 100', 86],\n",
       " ['DX-110', 90],\n",
       " ['Micro Traveler V2', 90],\n",
       " ['NX-7010', 90],\n",
       " ['DX-125', 90],\n",
       " ['DX-110', 90]]"
      ]
     },
     "execution_count": 35,
     "metadata": {},
     "output_type": "execute_result"
    }
   ],
   "source": [
    "models"
   ]
  },
  {
   "cell_type": "code",
   "execution_count": 37,
   "metadata": {},
   "outputs": [],
   "source": [
    "sht_genius.range('P2').value  = models"
   ]
  },
  {
   "cell_type": "code",
   "execution_count": 30,
   "metadata": {},
   "outputs": [
    {
     "data": {
      "text/plain": [
       "('EasyPen i405X', 86)"
      ]
     },
     "execution_count": 30,
     "metadata": {},
     "output_type": "execute_result"
    }
   ],
   "source": [
    "a = ('EasyPen i405X', 86)\n",
    "a"
   ]
  },
  {
   "cell_type": "code",
   "execution_count": 31,
   "metadata": {},
   "outputs": [
    {
     "data": {
      "text/plain": [
       "['EasyPen i405X', 86]"
      ]
     },
     "execution_count": 31,
     "metadata": {},
     "output_type": "execute_result"
    }
   ],
   "source": [
    "list(a)"
   ]
  },
  {
   "cell_type": "code",
   "execution_count": 3,
   "metadata": {
    "scrolled": true
   },
   "outputs": [
    {
     "data": {
      "text/html": [
       "<div>\n",
       "<style scoped>\n",
       "    .dataframe tbody tr th:only-of-type {\n",
       "        vertical-align: middle;\n",
       "    }\n",
       "\n",
       "    .dataframe tbody tr th {\n",
       "        vertical-align: top;\n",
       "    }\n",
       "\n",
       "    .dataframe thead th {\n",
       "        text-align: right;\n",
       "    }\n",
       "</style>\n",
       "<table border=\"1\" class=\"dataframe\">\n",
       "  <thead>\n",
       "    <tr style=\"text-align: right;\">\n",
       "      <th></th>\n",
       "      <th>name</th>\n",
       "      <th>price</th>\n",
       "      <th>Original_price</th>\n",
       "      <th>price(USD)</th>\n",
       "      <th>star</th>\n",
       "      <th>reviews</th>\n",
       "      <th>sold</th>\n",
       "      <th>stock</th>\n",
       "      <th>seller</th>\n",
       "      <th>seller_link</th>\n",
       "      <th>seller_from</th>\n",
       "      <th>category</th>\n",
       "      <th>brand</th>\n",
       "      <th>description</th>\n",
       "      <th>link</th>\n",
       "      <th>7.09421e-05</th>\n",
       "    </tr>\n",
       "  </thead>\n",
       "  <tbody>\n",
       "    <tr>\n",
       "      <th>0</th>\n",
       "      <td>Star SellerGenius Mouse Pen I608x Pen Tablet A...</td>\n",
       "      <td>790.0</td>\n",
       "      <td>NaN</td>\n",
       "      <td>56.044259</td>\n",
       "      <td>NaN</td>\n",
       "      <td>NaN</td>\n",
       "      <td>1</td>\n",
       "      <td>99</td>\n",
       "      <td>scriptechnologi</td>\n",
       "      <td>https://id.xiapibuy.com/scriptechnologi</td>\n",
       "      <td>KOTA JAKARTA UTARA - TANJUNG PRIOK, DKI JAKART...</td>\n",
       "      <td>Pen Tablet</td>\n",
       "      <td>Genius</td>\n",
       "      <td>Genius Mouse Pen i608x Pen Tablet Alat Desain ...</td>\n",
       "      <td>https://id.xiapibuy.com//Genius-Mouse-Pen-I608...</td>\n",
       "      <td>NaN</td>\n",
       "    </tr>\n",
       "    <tr>\n",
       "      <th>1</th>\n",
       "      <td>Star SellerGenius Easypen I405x 4 X 5.5 Inch S...</td>\n",
       "      <td>590.0</td>\n",
       "      <td>NaN</td>\n",
       "      <td>41.855839</td>\n",
       "      <td>4.7</td>\n",
       "      <td>3.0</td>\n",
       "      <td>9</td>\n",
       "      <td>91</td>\n",
       "      <td>scriptechnologi</td>\n",
       "      <td>https://id.xiapibuy.com/scriptechnologi</td>\n",
       "      <td>KOTA JAKARTA UTARA - TANJUNG PRIOK, DKI JAKART...</td>\n",
       "      <td>Pen Tablet</td>\n",
       "      <td>Genius</td>\n",
       "      <td>NEW TYPE : I405 :&lt;br /&gt;4\" x 5.5\" graphic table...</td>\n",
       "      <td>https://id.xiapibuy.com//Genius-Easypen-I405x-...</td>\n",
       "      <td>NaN</td>\n",
       "    </tr>\n",
       "    <tr>\n",
       "      <th>2</th>\n",
       "      <td>xvf-643 Genius Stylus Pen for Genius i405x dan...</td>\n",
       "      <td>521.0</td>\n",
       "      <td>NaN</td>\n",
       "      <td>36.960834</td>\n",
       "      <td>NaN</td>\n",
       "      <td>NaN</td>\n",
       "      <td>0</td>\n",
       "      <td>55</td>\n",
       "      <td>ishhalstore</td>\n",
       "      <td>https://id.xiapibuy.com/ishhalstore</td>\n",
       "      <td>KOTA JAKARTA PUSAT - KEMAYORAN, DKI JAKARTA, ID</td>\n",
       "      <td>Pen Tablet</td>\n",
       "      <td>Genius</td>\n",
       "      <td>ALL ITEM REAL PICTURE 100 % DIJAMIN !!!!\\n\\nPe...</td>\n",
       "      <td>https://id.xiapibuy.com//xvf-643-Genius-Stylus...</td>\n",
       "      <td>NaN</td>\n",
       "    </tr>\n",
       "    <tr>\n",
       "      <th>3</th>\n",
       "      <td>Genius MousePen i608 Pen Tablet Alat Desain Gr...</td>\n",
       "      <td>890.0</td>\n",
       "      <td>NaN</td>\n",
       "      <td>63.138469</td>\n",
       "      <td>NaN</td>\n",
       "      <td>NaN</td>\n",
       "      <td>0</td>\n",
       "      <td>50</td>\n",
       "      <td>grahabarukomputer</td>\n",
       "      <td>https://id.xiapibuy.com/grahabarukomputer</td>\n",
       "      <td>KOTA JAKARTA PUSAT - SAWAH BESAR, DKI JAKARTA, ID</td>\n",
       "      <td>Pen Tablet</td>\n",
       "      <td>Genius</td>\n",
       "      <td>Genius Mouse Pen i608x \\nPen Tablet Alat Desai...</td>\n",
       "      <td>https://id.xiapibuy.com//Genius-MousePen-i608-...</td>\n",
       "      <td>NaN</td>\n",
       "    </tr>\n",
       "    <tr>\n",
       "      <th>4</th>\n",
       "      <td>Genius EasyPen i405 Pen Tablet Alat Desain Grafis</td>\n",
       "      <td>690.0</td>\n",
       "      <td>NaN</td>\n",
       "      <td>48.950049</td>\n",
       "      <td>NaN</td>\n",
       "      <td>NaN</td>\n",
       "      <td>0</td>\n",
       "      <td>50</td>\n",
       "      <td>grahabarukomputer</td>\n",
       "      <td>https://id.xiapibuy.com/grahabarukomputer</td>\n",
       "      <td>KOTA JAKARTA PUSAT - SAWAH BESAR, DKI JAKARTA, ID</td>\n",
       "      <td>Pen Tablet</td>\n",
       "      <td>Genius</td>\n",
       "      <td>Genius EasyPen i405 Pen Tablet Desain Tablet\\n...</td>\n",
       "      <td>https://id.xiapibuy.com//Genius-EasyPen-i405-P...</td>\n",
       "      <td>NaN</td>\n",
       "    </tr>\n",
       "    <tr>\n",
       "      <th>...</th>\n",
       "      <td>...</td>\n",
       "      <td>...</td>\n",
       "      <td>...</td>\n",
       "      <td>...</td>\n",
       "      <td>...</td>\n",
       "      <td>...</td>\n",
       "      <td>...</td>\n",
       "      <td>...</td>\n",
       "      <td>...</td>\n",
       "      <td>...</td>\n",
       "      <td>...</td>\n",
       "      <td>...</td>\n",
       "      <td>...</td>\n",
       "      <td>...</td>\n",
       "      <td>...</td>\n",
       "      <td>...</td>\n",
       "    </tr>\n",
       "    <tr>\n",
       "      <th>572</th>\n",
       "      <td>Mouse Usb Genius Dx-110</td>\n",
       "      <td>NaN</td>\n",
       "      <td>NaN</td>\n",
       "      <td>0.000000</td>\n",
       "      <td>NaN</td>\n",
       "      <td>NaN</td>\n",
       "      <td>0</td>\n",
       "      <td>0</td>\n",
       "      <td>alvateha</td>\n",
       "      <td>https://id.xiapibuy.com/alvateha</td>\n",
       "      <td>KAB. KUDUS - BAE, JAWA TENGAH, ID</td>\n",
       "      <td>Mouse &amp; Keyboards</td>\n",
       "      <td>Genius</td>\n",
       "      <td>specifications :\\n- interface support: USB\\n- ...</td>\n",
       "      <td>https://id.xiapibuy.com//Mouse-Usb-Genius-Dx-1...</td>\n",
       "      <td>NaN</td>\n",
       "    </tr>\n",
       "    <tr>\n",
       "      <th>573</th>\n",
       "      <td>Mouse Genius Micro Traveler V2</td>\n",
       "      <td>NaN</td>\n",
       "      <td>NaN</td>\n",
       "      <td>0.000000</td>\n",
       "      <td>NaN</td>\n",
       "      <td>NaN</td>\n",
       "      <td>0</td>\n",
       "      <td>0</td>\n",
       "      <td>alnectkomputer</td>\n",
       "      <td>https://id.xiapibuy.com/alnectkomputer</td>\n",
       "      <td>KAB. SLEMAN - DEPOK, DI YOGYAKARTA, ID</td>\n",
       "      <td>Mouse &amp; Keyboards</td>\n",
       "      <td>Genius</td>\n",
       "      <td>Deskripsi Mouse Genius Micro Traveler V2\\nUkur...</td>\n",
       "      <td>https://id.xiapibuy.com//Mouse-Genius-Micro-Tr...</td>\n",
       "      <td>NaN</td>\n",
       "    </tr>\n",
       "    <tr>\n",
       "      <th>574</th>\n",
       "      <td>Star SellerMOUSE WIRELESS GENIUS NX-7010</td>\n",
       "      <td>NaN</td>\n",
       "      <td>NaN</td>\n",
       "      <td>0.000000</td>\n",
       "      <td>5.0</td>\n",
       "      <td>1.0</td>\n",
       "      <td>1</td>\n",
       "      <td>0</td>\n",
       "      <td>aipelcomputersurabaya</td>\n",
       "      <td>https://id.xiapibuy.com/aipelcomputersurabaya</td>\n",
       "      <td>KOTA SURABAYA - SUKOLILO, JAWA TIMUR, ID</td>\n",
       "      <td>Mouse &amp; Keyboards</td>\n",
       "      <td>Genius</td>\n",
       "      <td>\\n* KETENTUAN GARANSI\\n- Jasa servis: 1 minggu...</td>\n",
       "      <td>https://id.xiapibuy.com//MOUSE-WIRELESS-GENIUS...</td>\n",
       "      <td>NaN</td>\n",
       "    </tr>\n",
       "    <tr>\n",
       "      <th>575</th>\n",
       "      <td>Star SellerMOUSE USB GENIUS DX-125</td>\n",
       "      <td>NaN</td>\n",
       "      <td>NaN</td>\n",
       "      <td>0.000000</td>\n",
       "      <td>NaN</td>\n",
       "      <td>NaN</td>\n",
       "      <td>0</td>\n",
       "      <td>0</td>\n",
       "      <td>aipelcomputersurabaya</td>\n",
       "      <td>https://id.xiapibuy.com/aipelcomputersurabaya</td>\n",
       "      <td>KOTA SURABAYA - SUKOLILO, JAWA TIMUR, ID</td>\n",
       "      <td>Mouse &amp; Keyboards</td>\n",
       "      <td>Genius</td>\n",
       "      <td>* KETENTUAN GARANSI\\n- Jasa servis: 1 minggu s...</td>\n",
       "      <td>https://id.xiapibuy.com//MOUSE-USB-GENIUS-DX-1...</td>\n",
       "      <td>NaN</td>\n",
       "    </tr>\n",
       "    <tr>\n",
       "      <th>576</th>\n",
       "      <td>Star SellerMOUSE USB GENIUS DX-110</td>\n",
       "      <td>NaN</td>\n",
       "      <td>NaN</td>\n",
       "      <td>0.000000</td>\n",
       "      <td>NaN</td>\n",
       "      <td>NaN</td>\n",
       "      <td>0</td>\n",
       "      <td>0</td>\n",
       "      <td>aipelcomputersurabaya</td>\n",
       "      <td>https://id.xiapibuy.com/aipelcomputersurabaya</td>\n",
       "      <td>KOTA SURABAYA - SUKOLILO, JAWA TIMUR, ID</td>\n",
       "      <td>Mouse &amp; Keyboards</td>\n",
       "      <td>Genius</td>\n",
       "      <td>\\n* KETENTUAN GARANSI\\n- Jasa servis: 1 minggu...</td>\n",
       "      <td>https://id.xiapibuy.com//MOUSE-USB-GENIUS-DX-1...</td>\n",
       "      <td>NaN</td>\n",
       "    </tr>\n",
       "  </tbody>\n",
       "</table>\n",
       "<p>577 rows × 16 columns</p>\n",
       "</div>"
      ],
      "text/plain": [
       "                                                  name  price  Original_price  \\\n",
       "0    Star SellerGenius Mouse Pen I608x Pen Tablet A...  790.0             NaN   \n",
       "1    Star SellerGenius Easypen I405x 4 X 5.5 Inch S...  590.0             NaN   \n",
       "2    xvf-643 Genius Stylus Pen for Genius i405x dan...  521.0             NaN   \n",
       "3    Genius MousePen i608 Pen Tablet Alat Desain Gr...  890.0             NaN   \n",
       "4    Genius EasyPen i405 Pen Tablet Alat Desain Grafis  690.0             NaN   \n",
       "..                                                 ...    ...             ...   \n",
       "572                            Mouse Usb Genius Dx-110    NaN             NaN   \n",
       "573                     Mouse Genius Micro Traveler V2    NaN             NaN   \n",
       "574           Star SellerMOUSE WIRELESS GENIUS NX-7010    NaN             NaN   \n",
       "575                 Star SellerMOUSE USB GENIUS DX-125    NaN             NaN   \n",
       "576                 Star SellerMOUSE USB GENIUS DX-110    NaN             NaN   \n",
       "\n",
       "     price(USD)  star  reviews  sold  stock                 seller  \\\n",
       "0     56.044259   NaN      NaN     1     99        scriptechnologi   \n",
       "1     41.855839   4.7      3.0     9     91        scriptechnologi   \n",
       "2     36.960834   NaN      NaN     0     55            ishhalstore   \n",
       "3     63.138469   NaN      NaN     0     50      grahabarukomputer   \n",
       "4     48.950049   NaN      NaN     0     50      grahabarukomputer   \n",
       "..          ...   ...      ...   ...    ...                    ...   \n",
       "572    0.000000   NaN      NaN     0      0               alvateha   \n",
       "573    0.000000   NaN      NaN     0      0         alnectkomputer   \n",
       "574    0.000000   5.0      1.0     1      0  aipelcomputersurabaya   \n",
       "575    0.000000   NaN      NaN     0      0  aipelcomputersurabaya   \n",
       "576    0.000000   NaN      NaN     0      0  aipelcomputersurabaya   \n",
       "\n",
       "                                       seller_link  \\\n",
       "0          https://id.xiapibuy.com/scriptechnologi   \n",
       "1          https://id.xiapibuy.com/scriptechnologi   \n",
       "2              https://id.xiapibuy.com/ishhalstore   \n",
       "3        https://id.xiapibuy.com/grahabarukomputer   \n",
       "4        https://id.xiapibuy.com/grahabarukomputer   \n",
       "..                                             ...   \n",
       "572               https://id.xiapibuy.com/alvateha   \n",
       "573         https://id.xiapibuy.com/alnectkomputer   \n",
       "574  https://id.xiapibuy.com/aipelcomputersurabaya   \n",
       "575  https://id.xiapibuy.com/aipelcomputersurabaya   \n",
       "576  https://id.xiapibuy.com/aipelcomputersurabaya   \n",
       "\n",
       "                                           seller_from           category  \\\n",
       "0    KOTA JAKARTA UTARA - TANJUNG PRIOK, DKI JAKART...         Pen Tablet   \n",
       "1    KOTA JAKARTA UTARA - TANJUNG PRIOK, DKI JAKART...         Pen Tablet   \n",
       "2      KOTA JAKARTA PUSAT - KEMAYORAN, DKI JAKARTA, ID         Pen Tablet   \n",
       "3    KOTA JAKARTA PUSAT - SAWAH BESAR, DKI JAKARTA, ID         Pen Tablet   \n",
       "4    KOTA JAKARTA PUSAT - SAWAH BESAR, DKI JAKARTA, ID         Pen Tablet   \n",
       "..                                                 ...                ...   \n",
       "572                  KAB. KUDUS - BAE, JAWA TENGAH, ID  Mouse & Keyboards   \n",
       "573             KAB. SLEMAN - DEPOK, DI YOGYAKARTA, ID  Mouse & Keyboards   \n",
       "574           KOTA SURABAYA - SUKOLILO, JAWA TIMUR, ID  Mouse & Keyboards   \n",
       "575           KOTA SURABAYA - SUKOLILO, JAWA TIMUR, ID  Mouse & Keyboards   \n",
       "576           KOTA SURABAYA - SUKOLILO, JAWA TIMUR, ID  Mouse & Keyboards   \n",
       "\n",
       "      brand                                        description  \\\n",
       "0    Genius  Genius Mouse Pen i608x Pen Tablet Alat Desain ...   \n",
       "1    Genius  NEW TYPE : I405 :<br />4\" x 5.5\" graphic table...   \n",
       "2    Genius  ALL ITEM REAL PICTURE 100 % DIJAMIN !!!!\\n\\nPe...   \n",
       "3    Genius  Genius Mouse Pen i608x \\nPen Tablet Alat Desai...   \n",
       "4    Genius  Genius EasyPen i405 Pen Tablet Desain Tablet\\n...   \n",
       "..      ...                                                ...   \n",
       "572  Genius  specifications :\\n- interface support: USB\\n- ...   \n",
       "573  Genius  Deskripsi Mouse Genius Micro Traveler V2\\nUkur...   \n",
       "574  Genius  \\n* KETENTUAN GARANSI\\n- Jasa servis: 1 minggu...   \n",
       "575  Genius  * KETENTUAN GARANSI\\n- Jasa servis: 1 minggu s...   \n",
       "576  Genius  \\n* KETENTUAN GARANSI\\n- Jasa servis: 1 minggu...   \n",
       "\n",
       "                                                  link  7.09421e-05  \n",
       "0    https://id.xiapibuy.com//Genius-Mouse-Pen-I608...          NaN  \n",
       "1    https://id.xiapibuy.com//Genius-Easypen-I405x-...          NaN  \n",
       "2    https://id.xiapibuy.com//xvf-643-Genius-Stylus...          NaN  \n",
       "3    https://id.xiapibuy.com//Genius-MousePen-i608-...          NaN  \n",
       "4    https://id.xiapibuy.com//Genius-EasyPen-i405-P...          NaN  \n",
       "..                                                 ...          ...  \n",
       "572  https://id.xiapibuy.com//Mouse-Usb-Genius-Dx-1...          NaN  \n",
       "573  https://id.xiapibuy.com//Mouse-Genius-Micro-Tr...          NaN  \n",
       "574  https://id.xiapibuy.com//MOUSE-WIRELESS-GENIUS...          NaN  \n",
       "575  https://id.xiapibuy.com//MOUSE-USB-GENIUS-DX-1...          NaN  \n",
       "576  https://id.xiapibuy.com//MOUSE-USB-GENIUS-DX-1...          NaN  \n",
       "\n",
       "[577 rows x 16 columns]"
      ]
     },
     "execution_count": 3,
     "metadata": {},
     "output_type": "execute_result"
    }
   ],
   "source": [
    "import pandas as pd\n",
    "import xlwings as xw\n",
    " \n",
    "df = pd.read_excel(r\"C:\\Users\\11004076\\Documents\\Python Scripts\\1_Crawler\\IPNB\\Shoppe_Indonisia.xlsx\")\n",
    "df"
   ]
  },
  {
   "cell_type": "code",
   "execution_count": null,
   "metadata": {},
   "outputs": [],
   "source": []
  },
  {
   "cell_type": "code",
   "execution_count": null,
   "metadata": {},
   "outputs": [],
   "source": []
  },
  {
   "cell_type": "code",
   "execution_count": null,
   "metadata": {},
   "outputs": [],
   "source": []
  },
  {
   "cell_type": "code",
   "execution_count": null,
   "metadata": {},
   "outputs": [],
   "source": []
  },
  {
   "cell_type": "code",
   "execution_count": 60,
   "metadata": {
    "scrolled": false
   },
   "outputs": [
    {
     "name": "stdout",
     "output_type": "stream",
     "text": [
      "Collecting difflib\n"
     ]
    },
    {
     "name": "stderr",
     "output_type": "stream",
     "text": [
      "  Could not find a version that satisfies the requirement difflib (from versions: )\n",
      "No matching distribution found for difflib\n"
     ]
    }
   ],
   "source": [
    "!pip install difflib"
   ]
  },
  {
   "cell_type": "code",
   "execution_count": 61,
   "metadata": {},
   "outputs": [
    {
     "ename": "ModuleNotFoundError",
     "evalue": "No module named 'difflib_data'",
     "output_type": "error",
     "traceback": [
      "\u001b[1;31m---------------------------------------------------------------------------\u001b[0m",
      "\u001b[1;31mModuleNotFoundError\u001b[0m                       Traceback (most recent call last)",
      "\u001b[1;32m<ipython-input-61-dc408acf446c>\u001b[0m in \u001b[0;36m<module>\u001b[1;34m\u001b[0m\n\u001b[0;32m      1\u001b[0m \u001b[1;32mimport\u001b[0m \u001b[0mdifflib\u001b[0m\u001b[1;33m\u001b[0m\u001b[1;33m\u001b[0m\u001b[0m\n\u001b[1;32m----> 2\u001b[1;33m \u001b[1;32mfrom\u001b[0m \u001b[0mdifflib_data\u001b[0m \u001b[1;32mimport\u001b[0m \u001b[1;33m*\u001b[0m\u001b[1;33m\u001b[0m\u001b[1;33m\u001b[0m\u001b[0m\n\u001b[0m\u001b[0;32m      3\u001b[0m \u001b[1;33m\u001b[0m\u001b[0m\n\u001b[0;32m      4\u001b[0m \u001b[0md\u001b[0m \u001b[1;33m=\u001b[0m \u001b[0mdifflib\u001b[0m\u001b[1;33m.\u001b[0m\u001b[0mDiffer\u001b[0m\u001b[1;33m(\u001b[0m\u001b[1;33m)\u001b[0m\u001b[1;33m\u001b[0m\u001b[1;33m\u001b[0m\u001b[0m\n\u001b[0;32m      5\u001b[0m \u001b[0mdiff\u001b[0m \u001b[1;33m=\u001b[0m \u001b[0md\u001b[0m\u001b[1;33m.\u001b[0m\u001b[0mcompare\u001b[0m\u001b[1;33m(\u001b[0m\u001b[0mtext1_lines\u001b[0m\u001b[1;33m,\u001b[0m \u001b[0mtext2_lines\u001b[0m\u001b[1;33m)\u001b[0m\u001b[1;33m\u001b[0m\u001b[1;33m\u001b[0m\u001b[0m\n",
      "\u001b[1;31mModuleNotFoundError\u001b[0m: No module named 'difflib_data'"
     ]
    }
   ],
   "source": [
    "import difflib\n",
    "from difflib_data import *\n",
    "\n",
    "d = difflib.Differ()\n",
    "diff = d.compare(text1_lines, text2_lines)\n",
    "print('\\n'.join(diff))\n"
   ]
  }
 ],
 "metadata": {
  "kernelspec": {
   "display_name": "Python 3",
   "language": "python",
   "name": "python3"
  },
  "language_info": {
   "codemirror_mode": {
    "name": "ipython",
    "version": 3
   },
   "file_extension": ".py",
   "mimetype": "text/x-python",
   "name": "python",
   "nbconvert_exporter": "python",
   "pygments_lexer": "ipython3",
   "version": "3.7.1"
  }
 },
 "nbformat": 4,
 "nbformat_minor": 2
}
