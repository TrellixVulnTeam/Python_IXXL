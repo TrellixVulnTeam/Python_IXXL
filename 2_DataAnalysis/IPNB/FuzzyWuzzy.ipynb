{
 "cells": [
  {
   "cell_type": "markdown",
   "metadata": {},
   "source": [
    "# FuzzyWuzzy 字串模糊比對\n",
    "在電腦科學中，字串模糊匹配（fuzzy string matching）是一種近似地（而不是精確地）查詢與模式匹配的字串的技術。<br>\n",
    "換句話說，字串模糊匹配是一種搜尋，即使使用者拼錯單詞或只輸入部分單詞進行搜尋，也能夠找到匹配項。因此，它也被稱為字串近似匹配。"
   ]
  },
  {
   "cell_type": "code",
   "execution_count": 62,
   "metadata": {},
   "outputs": [
    {
     "name": "stdout",
     "output_type": "stream",
     "text": [
      "Collecting fuzzywuzzy\n",
      "  Downloading https://files.pythonhosted.org/packages/43/ff/74f23998ad2f93b945c0309f825be92e04e0348e062026998b5eefef4c33/fuzzywuzzy-0.18.0-py2.py3-none-any.whl\n",
      "Installing collected packages: fuzzywuzzy\n",
      "Successfully installed fuzzywuzzy-0.18.0\n"
     ]
    }
   ],
   "source": [
    "!pip install fuzzywuzzy"
   ]
  },
  {
   "cell_type": "markdown",
   "metadata": {},
   "source": [
    "## 使用FuzzyWuzzy合併房型"
   ]
  },
  {
   "cell_type": "code",
   "execution_count": 5,
   "metadata": {},
   "outputs": [
    {
     "data": {
      "text/html": [
       "<div>\n",
       "<style scoped>\n",
       "    .dataframe tbody tr th:only-of-type {\n",
       "        vertical-align: middle;\n",
       "    }\n",
       "\n",
       "    .dataframe tbody tr th {\n",
       "        vertical-align: top;\n",
       "    }\n",
       "\n",
       "    .dataframe thead th {\n",
       "        text-align: right;\n",
       "    }\n",
       "</style>\n",
       "<table border=\"1\" class=\"dataframe\">\n",
       "  <thead>\n",
       "    <tr style=\"text-align: right;\">\n",
       "      <th></th>\n",
       "      <th>Expedia</th>\n",
       "      <th>Booking.com</th>\n",
       "    </tr>\n",
       "  </thead>\n",
       "  <tbody>\n",
       "    <tr>\n",
       "      <th>0</th>\n",
       "      <td>Deluxe Room, 1 King Bed</td>\n",
       "      <td>Deluxe King Room</td>\n",
       "    </tr>\n",
       "    <tr>\n",
       "      <th>1</th>\n",
       "      <td>Standard Room, 1 King Bed, Accessible</td>\n",
       "      <td>Standard King Roll-in Shower Accessible</td>\n",
       "    </tr>\n",
       "    <tr>\n",
       "      <th>2</th>\n",
       "      <td>Grand Corner King Room, 1 King Bed</td>\n",
       "      <td>Grand Corner King Room</td>\n",
       "    </tr>\n",
       "    <tr>\n",
       "      <th>3</th>\n",
       "      <td>Suite, 1 King Bed (Parlor)</td>\n",
       "      <td>King Parlor Suite</td>\n",
       "    </tr>\n",
       "    <tr>\n",
       "      <th>4</th>\n",
       "      <td>High-Floor Premium Room, 1 King Bed</td>\n",
       "      <td>High-Floor Premium King Room</td>\n",
       "    </tr>\n",
       "    <tr>\n",
       "      <th>5</th>\n",
       "      <td>Traditional Double Room, 2 Double Beds</td>\n",
       "      <td>Double Room with Two Double Beds</td>\n",
       "    </tr>\n",
       "    <tr>\n",
       "      <th>6</th>\n",
       "      <td>Room, 1 King Bed, Accessible</td>\n",
       "      <td>King Room - Disability Access</td>\n",
       "    </tr>\n",
       "    <tr>\n",
       "      <th>7</th>\n",
       "      <td>Deluxe Room, 1 King Bed</td>\n",
       "      <td>Deluxe King Room</td>\n",
       "    </tr>\n",
       "    <tr>\n",
       "      <th>8</th>\n",
       "      <td>Deluxe Room</td>\n",
       "      <td>Deluxe Room (Non Refundable)</td>\n",
       "    </tr>\n",
       "    <tr>\n",
       "      <th>9</th>\n",
       "      <td>Room, 2 Double Beds (19th to 25th Floors)</td>\n",
       "      <td>Two Double Beds - Location Room (19th to 25th ...</td>\n",
       "    </tr>\n",
       "  </tbody>\n",
       "</table>\n",
       "</div>"
      ],
      "text/plain": [
       "                                     Expedia  \\\n",
       "0                    Deluxe Room, 1 King Bed   \n",
       "1      Standard Room, 1 King Bed, Accessible   \n",
       "2         Grand Corner King Room, 1 King Bed   \n",
       "3                 Suite, 1 King Bed (Parlor)   \n",
       "4        High-Floor Premium Room, 1 King Bed   \n",
       "5     Traditional Double Room, 2 Double Beds   \n",
       "6               Room, 1 King Bed, Accessible   \n",
       "7                    Deluxe Room, 1 King Bed   \n",
       "8                                Deluxe Room   \n",
       "9  Room, 2 Double Beds (19th to 25th Floors)   \n",
       "\n",
       "                                         Booking.com  \n",
       "0                                   Deluxe King Room  \n",
       "1            Standard King Roll-in Shower Accessible  \n",
       "2                             Grand Corner King Room  \n",
       "3                                  King Parlor Suite  \n",
       "4                       High-Floor Premium King Room  \n",
       "5                   Double Room with Two Double Beds  \n",
       "6                      King Room - Disability Access  \n",
       "7                                   Deluxe King Room  \n",
       "8                       Deluxe Room (Non Refundable)  \n",
       "9  Two Double Beds - Location Room (19th to 25th ...  "
      ]
     },
     "execution_count": 5,
     "metadata": {},
     "output_type": "execute_result"
    }
   ],
   "source": [
    "import pandas as pd\n",
    " \n",
    "df = pd.read_excel('C:/Users/11004076/Documents/Python Scripts/2_DataAnalysis/room_type.xlsx')\n",
    "df.head(10)"
   ]
  },
  {
   "cell_type": "code",
   "execution_count": null,
   "metadata": {},
   "outputs": [],
   "source": [
    "有幾種方法可以比較Fuzzywuzzy中的兩個字串，讓我們一個一個地進行嘗試。"
   ]
  },
  {
   "cell_type": "code",
   "execution_count": null,
   "metadata": {},
   "outputs": [],
   "source": [
    "from fuzzywuzzy import fuzz"
   ]
  },
  {
   "cell_type": "markdown",
   "metadata": {},
   "source": [
    "### ratio ，按順序比較整個字串的相似度"
   ]
  },
  {
   "cell_type": "code",
   "execution_count": 70,
   "metadata": {
    "scrolled": true
   },
   "outputs": [
    {
     "data": {
      "text/plain": [
       "62"
      ]
     },
     "execution_count": 70,
     "metadata": {},
     "output_type": "execute_result"
    }
   ],
   "source": [
    "fuzz.ratio('Deluxe Room, 1 King Bed', 'Deluxe King Room')\n",
    "#返回結果時62，它告訴我們“Deluxe Room, 1 King Bed”和“Deluxe King Room”的相似度約62%。"
   ]
  },
  {
   "cell_type": "code",
   "execution_count": 65,
   "metadata": {},
   "outputs": [
    {
     "data": {
      "text/plain": [
       "69"
      ]
     },
     "execution_count": 65,
     "metadata": {},
     "output_type": "execute_result"
    }
   ],
   "source": [
    "fuzz.ratio('Traditional Double Room, 2 Double Beds','Double Room with Two Double Beds')"
   ]
  },
  {
   "cell_type": "code",
   "execution_count": 66,
   "metadata": {},
   "outputs": [
    {
     "data": {
      "text/plain": [
       "74"
      ]
     },
     "execution_count": 66,
     "metadata": {},
     "output_type": "execute_result"
    }
   ],
   "source": [
    "fuzz.ratio('Room, 2 Double Beds (19th to 25th Floors)','Two Double Beds - Location Room (19th to 25th Floors)')"
   ]
  },
  {
   "cell_type": "markdown",
   "metadata": {},
   "source": [
    "### partial_ratio，比較部分字串的相似度\n",
    "我們仍在使用相同的資料對："
   ]
  },
  {
   "cell_type": "code",
   "execution_count": 67,
   "metadata": {},
   "outputs": [
    {
     "data": {
      "text/plain": [
       "69"
      ]
     },
     "execution_count": 67,
     "metadata": {},
     "output_type": "execute_result"
    }
   ],
   "source": [
    "fuzz.partial_ratio('Deluxe Room, 1 King Bed','Deluxe King Room')"
   ]
  },
  {
   "cell_type": "code",
   "execution_count": 68,
   "metadata": {},
   "outputs": [
    {
     "data": {
      "text/plain": [
       "83"
      ]
     },
     "execution_count": 68,
     "metadata": {},
     "output_type": "execute_result"
    }
   ],
   "source": [
    "fuzz.partial_ratio('Traditional Double Room, 2 Double Beds','Double Room with Two Double Beds')"
   ]
  },
  {
   "cell_type": "code",
   "execution_count": 69,
   "metadata": {},
   "outputs": [
    {
     "data": {
      "text/plain": [
       "63"
      ]
     },
     "execution_count": 69,
     "metadata": {},
     "output_type": "execute_result"
    }
   ],
   "source": [
    "fuzz.partial_ratio('Room, 2 Double Beds (19th to 25th Floors)','Two Double Beds - Location Room (19th to 25th Floors)')"
   ]
  },
  {
   "cell_type": "code",
   "execution_count": null,
   "metadata": {},
   "outputs": [],
   "source": [
    "返回依次69、83、63。對於我的資料集來說，比較部分字串並不能帶來更好的整體效果。讓我們嘗試下一個。"
   ]
  },
  {
   "cell_type": "markdown",
   "metadata": {},
   "source": [
    "### token_sort_ratio，忽略單詞順序"
   ]
  },
  {
   "cell_type": "code",
   "execution_count": 71,
   "metadata": {},
   "outputs": [
    {
     "data": {
      "text/plain": [
       "84"
      ]
     },
     "execution_count": 71,
     "metadata": {},
     "output_type": "execute_result"
    }
   ],
   "source": [
    "fuzz.token_sort_ratio('Deluxe Room, 1 King Bed','Deluxe King Room')"
   ]
  },
  {
   "cell_type": "code",
   "execution_count": 72,
   "metadata": {},
   "outputs": [
    {
     "data": {
      "text/plain": [
       "78"
      ]
     },
     "execution_count": 72,
     "metadata": {},
     "output_type": "execute_result"
    }
   ],
   "source": [
    "fuzz.token_sort_ratio('Traditional Double Room, 2 Double Beds','Double Room with Two Double Beds')"
   ]
  },
  {
   "cell_type": "code",
   "execution_count": 73,
   "metadata": {},
   "outputs": [
    {
     "data": {
      "text/plain": [
       "83"
      ]
     },
     "execution_count": 73,
     "metadata": {},
     "output_type": "execute_result"
    }
   ],
   "source": [
    "fuzz.token_sort_ratio('Room, 2 Double Beds (19th to 25th Floors)','Two Double Beds - Location Room (19th to 25th Floors)')"
   ]
  },
  {
   "cell_type": "code",
   "execution_count": null,
   "metadata": {},
   "outputs": [],
   "source": [
    "返回依次84、78、83。這是迄今為止最好的。"
   ]
  },
  {
   "cell_type": "markdown",
   "metadata": {},
   "source": [
    "### token_set_ratio，去重子集匹配\n",
    "它與token_sort_ratio類似，但更加靈活。"
   ]
  },
  {
   "cell_type": "code",
   "execution_count": 74,
   "metadata": {},
   "outputs": [
    {
     "data": {
      "text/plain": [
       "100"
      ]
     },
     "execution_count": 74,
     "metadata": {},
     "output_type": "execute_result"
    }
   ],
   "source": [
    "fuzz.token_set_ratio('Deluxe Room, 1 King Bed','Deluxe King Room')"
   ]
  },
  {
   "cell_type": "code",
   "execution_count": 75,
   "metadata": {},
   "outputs": [
    {
     "data": {
      "text/plain": [
       "78"
      ]
     },
     "execution_count": 75,
     "metadata": {},
     "output_type": "execute_result"
    }
   ],
   "source": [
    "fuzz.token_set_ratio('Traditional Double Room, 2 Double Beds','Double Room with Two Double Beds')"
   ]
  },
  {
   "cell_type": "code",
   "execution_count": 76,
   "metadata": {},
   "outputs": [
    {
     "data": {
      "text/plain": [
       "97"
      ]
     },
     "execution_count": 76,
     "metadata": {},
     "output_type": "execute_result"
    }
   ],
   "source": [
    "fuzz.token_set_ratio('Room, 2 Double Beds (19th to 25th Floors)','Two Double Beds - Location Room (19th to 25th Floors)')"
   ]
  },
  {
   "cell_type": "code",
   "execution_count": null,
   "metadata": {},
   "outputs": [],
   "source": [
    "返回依次100、78、97。看來token_set_ratio最適合我的資料。"
   ]
  },
  {
   "cell_type": "markdown",
   "metadata": {},
   "source": [
    "### 應用到整個資料集"
   ]
  },
  {
   "cell_type": "code",
   "execution_count": null,
   "metadata": {},
   "outputs": [],
   "source": [
    "根據這一發現，將token_set_ratio應用到整個資料集。"
   ]
  },
  {
   "cell_type": "code",
   "execution_count": 77,
   "metadata": {},
   "outputs": [
    {
     "data": {
      "text/plain": [
       "0.9029126213592233"
      ]
     },
     "execution_count": 77,
     "metadata": {},
     "output_type": "execute_result"
    }
   ],
   "source": [
    "def get_ratio(row):\n",
    "    name1 = row['Expedia']\n",
    "    name2 = row['Booking.com']\n",
    "    return fuzz.token_set_ratio(name1, name2)\n",
    " \n",
    "rated = df.apply(get_ratio, axis=1)\n",
    "rated.head(10)\n",
    " \n",
    "greater_than_70_percent = df[rated > 70]\n",
    "greater_than_70_percent.count()\n",
    "len(greater_than_70_percent) / len(df)"
   ]
  },
  {
   "cell_type": "markdown",
   "metadata": {},
   "source": [
    "### 多個處理：使用Process"
   ]
  },
  {
   "cell_type": "code",
   "execution_count": null,
   "metadata": {},
   "outputs": [],
   "source": [
    "當設定相似度> 70時，超過90％的房間對超過這個匹配分數。還很不錯！上面只是做了2個文字間的相似度比較，\n",
    "如果存在多個如何處理？可以使用庫中提供的 Process類：用來返回模糊匹配的字串和相似度。"
   ]
  },
  {
   "cell_type": "code",
   "execution_count": 80,
   "metadata": {},
   "outputs": [
    {
     "data": {
      "text/plain": [
       "[('New York Jets', 100), ('New York Giants', 79)]"
      ]
     },
     "execution_count": 80,
     "metadata": {},
     "output_type": "execute_result"
    }
   ],
   "source": [
    "choices = [\"Atlanta Falcons\", \"New York Jets\", \"New York Giants\", \"Dallas Cowboys\"]\n",
    "process.extract(\"new york jets\", choices, limit=2)"
   ]
  },
  {
   "cell_type": "code",
   "execution_count": 81,
   "metadata": {
    "scrolled": true
   },
   "outputs": [
    {
     "data": {
      "text/plain": [
       "('Dallas Cowboys', 90)"
      ]
     },
     "execution_count": 81,
     "metadata": {},
     "output_type": "execute_result"
    }
   ],
   "source": [
    "process.extractOne(\"cowboys\", choices)"
   ]
  },
  {
   "cell_type": "code",
   "execution_count": 92,
   "metadata": {},
   "outputs": [
    {
     "data": {
      "text/plain": [
       "[('DX 110', 100),\n",
       " ('DX-110', 100),\n",
       " ('Mouse Genius USB NetScroll DX-110', 90),\n",
       " ('Mouse Optic DX-110', 90)]"
      ]
     },
     "execution_count": 92,
     "metadata": {},
     "output_type": "execute_result"
    }
   ],
   "source": [
    "which = [\"DX 110\", \"DX-110\", \"Mouse Genius DX-120\", \"Mouse Genius USB NetScroll DX-110\", \"Mouse Optic DX-110\"]\n",
    "process.extract(\"DX-110\", which, limit=4)"
   ]
  },
  {
   "cell_type": "code",
   "execution_count": 93,
   "metadata": {},
   "outputs": [
    {
     "data": {
      "text/plain": [
       "[('HS-930BT-LI', 95), ('HS-940BT-LI', 74), ('HS-935BT-LI', 74)]"
      ]
     },
     "execution_count": 93,
     "metadata": {},
     "output_type": "execute_result"
    }
   ],
   "source": [
    "whichs = [\"HS-930BT-LI\", \"HS-940BT-LI\", \"HS-935BT-LI\"]\n",
    "process.extract(\"HS-930BT\", whichs, limit=4)"
   ]
  },
  {
   "cell_type": "code",
   "execution_count": 94,
   "metadata": {},
   "outputs": [
    {
     "data": {
      "text/plain": [
       "[('SW-G2.1 1250', 100), ('SW-G2.1 1250 II', 95), ('SW-G2.1 1250 IILI', 95)]"
      ]
     },
     "execution_count": 94,
     "metadata": {},
     "output_type": "execute_result"
    }
   ],
   "source": [
    "whichs = [\"SW-G2.1 1250\", \"SW-G2.1 1250 II\", \"SW-G2.1 1250 IILI\"]\n",
    "process.extract(\"SW-G2.1 1250\", whichs, limit=4)"
   ]
  },
  {
   "cell_type": "code",
   "execution_count": null,
   "metadata": {},
   "outputs": [],
   "source": [
    "你可以傳入附加引數到 extractOne 方法來設定使用特定的匹配模式。一個典型的用法是來匹配檔案路徑:"
   ]
  },
  {
   "cell_type": "code",
   "execution_count": null,
   "metadata": {},
   "outputs": [],
   "source": [
    ">>> process.extractOne(\"System of a down - Hypnotize - Heroin\", songs)\n",
    "        ('/music/library/good/System of a Down/2005 - Hypnotize/01 - Attack.mp3', 86)\n",
    "    >>> process.extractOne(\"System of a down - Hypnotize - Heroin\", songs, scorer=fuzz.token_sort_ratio)\n",
    "        (\"/music/library/good/System of a Down/2005 - Hypnotize/10 - She's Like Heroin.mp3\", 61)"
   ]
  },
  {
   "cell_type": "markdown",
   "metadata": {},
   "source": [
    "### FuzzyWuzzy在中文場景下的使用\n",
    "FuzzyWuzzy支援對中文進行比較："
   ]
  },
  {
   "cell_type": "code",
   "execution_count": 79,
   "metadata": {},
   "outputs": [
    {
     "name": "stdout",
     "output_type": "stream",
     "text": [
      "73\n",
      "('資料探勘工程師', 90)\n"
     ]
    }
   ],
   "source": [
    "from fuzzywuzzy import fuzz\n",
    "from fuzzywuzzy import process\n",
    " \n",
    "print(fuzz.ratio(\"資料探勘\", \"資料探勘工程師\"))\n",
    " \n",
    "title_list = [\"資料分析師\", \"資料探勘工程師\", \"大資料開發工程師\", \"機器學習工程師\",\n",
    "              \"演算法工程師\", \"資料庫管理\", \"商業分析師\", \"資料科學家\", \"首席資料官\",\n",
    "              \"資料產品經理\", \"資料運營\", \"大資料架構師\"]\n",
    " \n",
    "print(process.extractOne(\"資料探勘\", title_list))"
   ]
  },
  {
   "cell_type": "code",
   "execution_count": null,
   "metadata": {},
   "outputs": [],
   "source": [
    "仔細檢視程式碼，還是存在的問題：\n",
    "\n",
    "FuzzWuzzy並不會針對中文進行分詞\n",
    "也沒有對中文的一些停用詞進行過濾\n",
    "改進方案，處理前進行中文處理：\n",
    "\n",
    "繁簡轉換\n",
    "中文分詞\n",
    "去除停用詞"
   ]
  },
  {
   "cell_type": "code",
   "execution_count": null,
   "metadata": {},
   "outputs": [],
   "source": []
  },
  {
   "cell_type": "code",
   "execution_count": null,
   "metadata": {},
   "outputs": [],
   "source": []
  },
  {
   "cell_type": "code",
   "execution_count": null,
   "metadata": {},
   "outputs": [],
   "source": []
  },
  {
   "cell_type": "code",
   "execution_count": null,
   "metadata": {},
   "outputs": [],
   "source": []
  },
  {
   "cell_type": "code",
   "execution_count": null,
   "metadata": {},
   "outputs": [],
   "source": []
  },
  {
   "cell_type": "code",
   "execution_count": null,
   "metadata": {},
   "outputs": [],
   "source": []
  },
  {
   "cell_type": "code",
   "execution_count": null,
   "metadata": {},
   "outputs": [],
   "source": []
  },
  {
   "cell_type": "code",
   "execution_count": 60,
   "metadata": {
    "scrolled": false
   },
   "outputs": [
    {
     "name": "stdout",
     "output_type": "stream",
     "text": [
      "Collecting difflib\n"
     ]
    },
    {
     "name": "stderr",
     "output_type": "stream",
     "text": [
      "  Could not find a version that satisfies the requirement difflib (from versions: )\n",
      "No matching distribution found for difflib\n"
     ]
    }
   ],
   "source": [
    "!pip install difflib"
   ]
  },
  {
   "cell_type": "code",
   "execution_count": 61,
   "metadata": {},
   "outputs": [
    {
     "ename": "ModuleNotFoundError",
     "evalue": "No module named 'difflib_data'",
     "output_type": "error",
     "traceback": [
      "\u001b[1;31m---------------------------------------------------------------------------\u001b[0m",
      "\u001b[1;31mModuleNotFoundError\u001b[0m                       Traceback (most recent call last)",
      "\u001b[1;32m<ipython-input-61-dc408acf446c>\u001b[0m in \u001b[0;36m<module>\u001b[1;34m\u001b[0m\n\u001b[0;32m      1\u001b[0m \u001b[1;32mimport\u001b[0m \u001b[0mdifflib\u001b[0m\u001b[1;33m\u001b[0m\u001b[1;33m\u001b[0m\u001b[0m\n\u001b[1;32m----> 2\u001b[1;33m \u001b[1;32mfrom\u001b[0m \u001b[0mdifflib_data\u001b[0m \u001b[1;32mimport\u001b[0m \u001b[1;33m*\u001b[0m\u001b[1;33m\u001b[0m\u001b[1;33m\u001b[0m\u001b[0m\n\u001b[0m\u001b[0;32m      3\u001b[0m \u001b[1;33m\u001b[0m\u001b[0m\n\u001b[0;32m      4\u001b[0m \u001b[0md\u001b[0m \u001b[1;33m=\u001b[0m \u001b[0mdifflib\u001b[0m\u001b[1;33m.\u001b[0m\u001b[0mDiffer\u001b[0m\u001b[1;33m(\u001b[0m\u001b[1;33m)\u001b[0m\u001b[1;33m\u001b[0m\u001b[1;33m\u001b[0m\u001b[0m\n\u001b[0;32m      5\u001b[0m \u001b[0mdiff\u001b[0m \u001b[1;33m=\u001b[0m \u001b[0md\u001b[0m\u001b[1;33m.\u001b[0m\u001b[0mcompare\u001b[0m\u001b[1;33m(\u001b[0m\u001b[0mtext1_lines\u001b[0m\u001b[1;33m,\u001b[0m \u001b[0mtext2_lines\u001b[0m\u001b[1;33m)\u001b[0m\u001b[1;33m\u001b[0m\u001b[1;33m\u001b[0m\u001b[0m\n",
      "\u001b[1;31mModuleNotFoundError\u001b[0m: No module named 'difflib_data'"
     ]
    }
   ],
   "source": [
    "import difflib\n",
    "from difflib_data import *\n",
    "\n",
    "d = difflib.Differ()\n",
    "diff = d.compare(text1_lines, text2_lines)\n",
    "print('\\n'.join(diff))\n"
   ]
  }
 ],
 "metadata": {
  "kernelspec": {
   "display_name": "Python 3",
   "language": "python",
   "name": "python3"
  },
  "language_info": {
   "codemirror_mode": {
    "name": "ipython",
    "version": 3
   },
   "file_extension": ".py",
   "mimetype": "text/x-python",
   "name": "python",
   "nbconvert_exporter": "python",
   "pygments_lexer": "ipython3",
   "version": "3.7.1"
  }
 },
 "nbformat": 4,
 "nbformat_minor": 2
}
