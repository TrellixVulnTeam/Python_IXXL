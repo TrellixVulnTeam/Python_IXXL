{
 "cells": [
  {
   "cell_type": "markdown",
   "metadata": {},
   "source": [
    "# R语言数据处理120题\n",
    "## 公众号：早起Python\n",
    "### 题：刘早起\n",
    "### 解：陈熹\n",
    "本套习题源于[pandas进阶修炼120题系列](https://mp.weixin.qq.com/s/WvgOlFGK0FToobl9ws2oSQ)\n",
    "\n",
    "但由于R语言和Pandas有部分差别较大，在不修改原题的基础上制作完成\n",
    "\n",
    "所有代码均已在本地测试通过，但是由于不同包的版本不同可能会导致代码报错\n",
    "\n",
    "请自行按照提示修改或者百度解决"
   ]
  },
  {
   "cell_type": "markdown",
   "metadata": {},
   "source": [
    "### 依赖以下包，请提前安装\n",
    "- tibble\n",
    "- Hmisc\n",
    "- readr\n",
    "- rJava\n",
    "- xlsxjars\n",
    "- dplyr\n",
    "- stringr\n",
    "- openxlsx\n",
    "- pryr\n",
    "- ggplot2\n",
    "- patchwork\n",
    "- mice\n",
    "- glue\n",
    "- tidyr\n",
    "- RcppRoll\n",
    "- plyr"
   ]
  },
  {
   "cell_type": "markdown",
   "metadata": {},
   "source": [
    "## 第一期｜基础20题"
   ]
  },
  {
   "cell_type": "markdown",
   "metadata": {
    "deletable": true,
    "editable": true
   },
   "source": [
    "### 1.数据创建"
   ]
  },
  {
   "cell_type": "code",
   "execution_count": 7,
   "metadata": {
    "collapsed": false,
    "deletable": true,
    "editable": true
   },
   "outputs": [],
   "source": [
    "### 方法1\n",
    "df <- data.frame(\n",
    "  \"grammer\" = c(\"Python\",\"C\",\"Java\",\"GO\",NA,\"SQL\",\"PHP\",\"Python\"),\n",
    "  \"score\" = c(1,2,NA,4,5,6,7,10)\n",
    ")"
   ]
  },
  {
   "cell_type": "code",
   "execution_count": 3,
   "metadata": {
    "collapsed": false,
    "deletable": true,
    "editable": true
   },
   "outputs": [
    {
     "data": {
      "text/html": [
       "<table>\n",
       "<thead><tr><th scope=col>grammer</th><th scope=col>score</th></tr></thead>\n",
       "<tbody>\n",
       "\t<tr><td>Python</td><td> 1    </td></tr>\n",
       "\t<tr><td>C     </td><td> 2    </td></tr>\n",
       "\t<tr><td>Java  </td><td>NA    </td></tr>\n",
       "\t<tr><td>GO    </td><td> 4    </td></tr>\n",
       "\t<tr><td>NA    </td><td> 5    </td></tr>\n",
       "\t<tr><td>SQL   </td><td> 6    </td></tr>\n",
       "\t<tr><td>PHP   </td><td> 7    </td></tr>\n",
       "\t<tr><td>Python</td><td>10    </td></tr>\n",
       "</tbody>\n",
       "</table>\n"
      ],
      "text/latex": [
       "\\begin{tabular}{r|ll}\n",
       " grammer & score\\\\\n",
       "\\hline\n",
       "\t Python &  1    \\\\\n",
       "\t C      &  2    \\\\\n",
       "\t Java   & NA    \\\\\n",
       "\t GO     &  4    \\\\\n",
       "\t NA     &  5    \\\\\n",
       "\t SQL    &  6    \\\\\n",
       "\t PHP    &  7    \\\\\n",
       "\t Python & 10    \\\\\n",
       "\\end{tabular}\n"
      ],
      "text/markdown": [
       "\n",
       "grammer | score | \n",
       "|---|---|---|---|---|---|---|---|\n",
       "| Python |  1     | \n",
       "| C      |  2     | \n",
       "| Java   | NA     | \n",
       "| GO     |  4     | \n",
       "| NA     |  5     | \n",
       "| SQL    |  6     | \n",
       "| PHP    |  7     | \n",
       "| Python | 10     | \n",
       "\n",
       "\n"
      ],
      "text/plain": [
       "  grammer score\n",
       "1 Python   1   \n",
       "2 C        2   \n",
       "3 Java    NA   \n",
       "4 GO       4   \n",
       "5 NA       5   \n",
       "6 SQL      6   \n",
       "7 PHP      7   \n",
       "8 Python  10   "
      ]
     },
     "metadata": {},
     "output_type": "display_data"
    }
   ],
   "source": [
    "df"
   ]
  },
  {
   "cell_type": "code",
   "execution_count": 6,
   "metadata": {
    "collapsed": false,
    "deletable": true,
    "editable": true
   },
   "outputs": [],
   "source": [
    "### 方法2\n",
    "library(tibble)\n",
    "df <- tibble(\n",
    "  \"grammer\" = c(\"Python\",\"C\",\"Java\",\"GO\",NA,\"SQL\",\"PHP\",\"Python\"),\n",
    "  \"score\" = c(1,2,NA,4,5,6,7,10)\n",
    ")"
   ]
  },
  {
   "cell_type": "markdown",
   "metadata": {
    "deletable": true,
    "editable": true
   },
   "source": [
    "### 2.数据提取\n",
    "提取含有字符串\"Python\"的行"
   ]
  },
  {
   "cell_type": "code",
   "execution_count": 7,
   "metadata": {
    "collapsed": false,
    "deletable": true,
    "editable": true
   },
   "outputs": [
    {
     "data": {
      "text/html": [
       "<table>\n",
       "<thead><tr><th scope=col>grammer</th><th scope=col>score</th></tr></thead>\n",
       "<tbody>\n",
       "\t<tr><td>Python</td><td> 1    </td></tr>\n",
       "\t<tr><td>Python</td><td>10    </td></tr>\n",
       "</tbody>\n",
       "</table>\n"
      ],
      "text/latex": [
       "\\begin{tabular}{r|ll}\n",
       " grammer & score\\\\\n",
       "\\hline\n",
       "\t Python &  1    \\\\\n",
       "\t Python & 10    \\\\\n",
       "\\end{tabular}\n"
      ],
      "text/markdown": [
       "\n",
       "grammer | score | \n",
       "|---|---|\n",
       "| Python |  1     | \n",
       "| Python | 10     | \n",
       "\n",
       "\n"
      ],
      "text/plain": [
       "  grammer score\n",
       "1 Python   1   \n",
       "2 Python  10   "
      ]
     },
     "metadata": {},
     "output_type": "display_data"
    }
   ],
   "source": [
    "df[which(df$grammer == 'Python'),]"
   ]
  },
  {
   "cell_type": "markdown",
   "metadata": {
    "deletable": true,
    "editable": true
   },
   "source": [
    "### 3.数据提取\n",
    "输出df的所有列名"
   ]
  },
  {
   "cell_type": "code",
   "execution_count": 9,
   "metadata": {
    "collapsed": false,
    "deletable": true,
    "editable": true
   },
   "outputs": [
    {
     "data": {
      "text/html": [
       "<ol class=list-inline>\n",
       "\t<li>'grammer'</li>\n",
       "\t<li>'score'</li>\n",
       "</ol>\n"
      ],
      "text/latex": [
       "\\begin{enumerate*}\n",
       "\\item 'grammer'\n",
       "\\item 'score'\n",
       "\\end{enumerate*}\n"
      ],
      "text/markdown": [
       "1. 'grammer'\n",
       "2. 'score'\n",
       "\n",
       "\n"
      ],
      "text/plain": [
       "[1] \"grammer\" \"score\"  "
      ]
     },
     "metadata": {},
     "output_type": "display_data"
    }
   ],
   "source": [
    "names(df)"
   ]
  },
  {
   "cell_type": "markdown",
   "metadata": {
    "deletable": true,
    "editable": true
   },
   "source": [
    "### 4.数据修改\n",
    "修改第二列列名为'popularity'"
   ]
  },
  {
   "cell_type": "code",
   "execution_count": 8,
   "metadata": {
    "collapsed": false,
    "deletable": true,
    "editable": true
   },
   "outputs": [],
   "source": [
    "options(warn=-1)\n",
    "library(dplyr)\n",
    "library(tidyverse)\n",
    "df <- df %>% rename(popularity = score)"
   ]
  },
  {
   "cell_type": "code",
   "execution_count": 9,
   "metadata": {
    "collapsed": false,
    "deletable": true,
    "editable": true
   },
   "outputs": [
    {
     "data": {
      "text/html": [
       "<table>\n",
       "<thead><tr><th scope=col>grammer</th><th scope=col>popularity</th></tr></thead>\n",
       "<tbody>\n",
       "\t<tr><td>Python</td><td> 1    </td></tr>\n",
       "\t<tr><td>C     </td><td> 2    </td></tr>\n",
       "\t<tr><td>Java  </td><td>NA    </td></tr>\n",
       "\t<tr><td>GO    </td><td> 4    </td></tr>\n",
       "\t<tr><td>NA    </td><td> 5    </td></tr>\n",
       "\t<tr><td>SQL   </td><td> 6    </td></tr>\n",
       "\t<tr><td>PHP   </td><td> 7    </td></tr>\n",
       "\t<tr><td>Python</td><td>10    </td></tr>\n",
       "</tbody>\n",
       "</table>\n"
      ],
      "text/latex": [
       "\\begin{tabular}{r|ll}\n",
       " grammer & popularity\\\\\n",
       "\\hline\n",
       "\t Python &  1    \\\\\n",
       "\t C      &  2    \\\\\n",
       "\t Java   & NA    \\\\\n",
       "\t GO     &  4    \\\\\n",
       "\t NA     &  5    \\\\\n",
       "\t SQL    &  6    \\\\\n",
       "\t PHP    &  7    \\\\\n",
       "\t Python & 10    \\\\\n",
       "\\end{tabular}\n"
      ],
      "text/markdown": [
       "\n",
       "grammer | popularity | \n",
       "|---|---|---|---|---|---|---|---|\n",
       "| Python |  1     | \n",
       "| C      |  2     | \n",
       "| Java   | NA     | \n",
       "| GO     |  4     | \n",
       "| NA     |  5     | \n",
       "| SQL    |  6     | \n",
       "| PHP    |  7     | \n",
       "| Python | 10     | \n",
       "\n",
       "\n"
      ],
      "text/plain": [
       "  grammer popularity\n",
       "1 Python   1        \n",
       "2 C        2        \n",
       "3 Java    NA        \n",
       "4 GO       4        \n",
       "5 NA       5        \n",
       "6 SQL      6        \n",
       "7 PHP      7        \n",
       "8 Python  10        "
      ]
     },
     "metadata": {},
     "output_type": "display_data"
    }
   ],
   "source": [
    "df"
   ]
  },
  {
   "cell_type": "markdown",
   "metadata": {
    "deletable": true,
    "editable": true
   },
   "source": [
    "### 5.数据统计\n",
    "统计grammer列中每种编程语言出现的次数·"
   ]
  },
  {
   "cell_type": "code",
   "execution_count": 23,
   "metadata": {
    "collapsed": false,
    "deletable": true,
    "editable": true
   },
   "outputs": [
    {
     "data": {
      "text/plain": [
       "\n",
       "     C     GO   Java    PHP Python    SQL \n",
       "     1      1      1      1      2      1 "
      ]
     },
     "metadata": {},
     "output_type": "display_data"
    }
   ],
   "source": [
    "table(df$grammer)"
   ]
  },
  {
   "cell_type": "markdown",
   "metadata": {
    "deletable": true,
    "editable": true
   },
   "source": [
    "### 6.缺失值处理\n",
    "将空值用上下值的平均值填充"
   ]
  },
  {
   "cell_type": "code",
   "execution_count": 26,
   "metadata": {
    "collapsed": false,
    "deletable": true,
    "editable": true
   },
   "outputs": [
    {
     "ename": "ERROR",
     "evalue": "Error: package ‘survival’ 2.39.4 was found, but >= 2.40.1 is required by ‘Hmisc’\n",
     "output_type": "error",
     "traceback": [
      "Error: package ‘survival’ 2.39.4 was found, but >= 2.40.1 is required by ‘Hmisc’\nTraceback:\n",
      "1. library(Hmisc)",
      "2. .getRequiredPackages2(pkgInfo, quietly = quietly)",
      "3. stop(gettextf(msg, sQuote(pkg), current, dep$op, target, sQuote(pkgname)), \n .     call. = FALSE, domain = NA)"
     ]
    }
   ],
   "source": [
    "#将survival升级即可\n",
    "library(Hmisc)\n",
    "index <- which(is.na(df$popularity))\n",
    "df$popularity <- impute(df$popularity,\n",
    "                       (unlist(df[index-1, 2] +\n",
    "                               df[index+1, 2]))/2)"
   ]
  },
  {
   "cell_type": "markdown",
   "metadata": {
    "deletable": true,
    "editable": true
   },
   "source": [
    "### 7.数据提取\n",
    "提取popularity列中值大于3的行"
   ]
  },
  {
   "cell_type": "code",
   "execution_count": 29,
   "metadata": {
    "collapsed": false,
    "deletable": true,
    "editable": true,
    "scrolled": true
   },
   "outputs": [
    {
     "data": {
      "text/html": [
       "<table>\n",
       "<thead><tr><th scope=col>grammer</th><th scope=col>popularity</th></tr></thead>\n",
       "<tbody>\n",
       "\t<tr><td>GO    </td><td> 4    </td></tr>\n",
       "\t<tr><td>NA    </td><td> 5    </td></tr>\n",
       "\t<tr><td>SQL   </td><td> 6    </td></tr>\n",
       "\t<tr><td>PHP   </td><td> 7    </td></tr>\n",
       "\t<tr><td>Python</td><td>10    </td></tr>\n",
       "</tbody>\n",
       "</table>\n"
      ],
      "text/latex": [
       "\\begin{tabular}{r|ll}\n",
       " grammer & popularity\\\\\n",
       "\\hline\n",
       "\t GO     &  4    \\\\\n",
       "\t NA     &  5    \\\\\n",
       "\t SQL    &  6    \\\\\n",
       "\t PHP    &  7    \\\\\n",
       "\t Python & 10    \\\\\n",
       "\\end{tabular}\n"
      ],
      "text/markdown": [
       "\n",
       "grammer | popularity | \n",
       "|---|---|---|---|---|\n",
       "| GO     |  4     | \n",
       "| NA     |  5     | \n",
       "| SQL    |  6     | \n",
       "| PHP    |  7     | \n",
       "| Python | 10     | \n",
       "\n",
       "\n"
      ],
      "text/plain": [
       "  grammer popularity\n",
       "1 GO       4        \n",
       "2 NA       5        \n",
       "3 SQL      6        \n",
       "4 PHP      7        \n",
       "5 Python  10        "
      ]
     },
     "metadata": {},
     "output_type": "display_data"
    }
   ],
   "source": [
    "df %>%\n",
    "  filter(popularity > 3)"
   ]
  },
  {
   "cell_type": "markdown",
   "metadata": {
    "deletable": true,
    "editable": true
   },
   "source": [
    "### 8.数据去重\n",
    "按照grammer列进行去重"
   ]
  },
  {
   "cell_type": "code",
   "execution_count": 10,
   "metadata": {
    "collapsed": false,
    "deletable": true,
    "editable": true
   },
   "outputs": [
    {
     "data": {
      "text/html": [
       "<table>\n",
       "<thead><tr><th scope=col>grammer</th><th scope=col>popularity</th></tr></thead>\n",
       "<tbody>\n",
       "\t<tr><td>Python</td><td> 1    </td></tr>\n",
       "\t<tr><td>C     </td><td> 2    </td></tr>\n",
       "\t<tr><td>Java  </td><td>NA    </td></tr>\n",
       "\t<tr><td>GO    </td><td> 4    </td></tr>\n",
       "\t<tr><td>NA    </td><td> 5    </td></tr>\n",
       "\t<tr><td>SQL   </td><td> 6    </td></tr>\n",
       "\t<tr><td>PHP   </td><td> 7    </td></tr>\n",
       "</tbody>\n",
       "</table>\n"
      ],
      "text/latex": [
       "\\begin{tabular}{r|ll}\n",
       " grammer & popularity\\\\\n",
       "\\hline\n",
       "\t Python &  1    \\\\\n",
       "\t C      &  2    \\\\\n",
       "\t Java   & NA    \\\\\n",
       "\t GO     &  4    \\\\\n",
       "\t NA     &  5    \\\\\n",
       "\t SQL    &  6    \\\\\n",
       "\t PHP    &  7    \\\\\n",
       "\\end{tabular}\n"
      ],
      "text/markdown": [
       "\n",
       "grammer | popularity | \n",
       "|---|---|---|---|---|---|---|\n",
       "| Python |  1     | \n",
       "| C      |  2     | \n",
       "| Java   | NA     | \n",
       "| GO     |  4     | \n",
       "| NA     |  5     | \n",
       "| SQL    |  6     | \n",
       "| PHP    |  7     | \n",
       "\n",
       "\n"
      ],
      "text/plain": [
       "  grammer popularity\n",
       "1 Python   1        \n",
       "2 C        2        \n",
       "3 Java    NA        \n",
       "4 GO       4        \n",
       "5 NA       5        \n",
       "6 SQL      6        \n",
       "7 PHP      7        "
      ]
     },
     "metadata": {},
     "output_type": "display_data"
    }
   ],
   "source": [
    "df[!duplicated(df$grammer),]"
   ]
  },
  {
   "cell_type": "markdown",
   "metadata": {
    "deletable": true,
    "editable": true
   },
   "source": [
    "### 9.数据计算\n",
    "计算popularity列平均值"
   ]
  },
  {
   "cell_type": "code",
   "execution_count": 31,
   "metadata": {
    "collapsed": false,
    "deletable": true,
    "editable": true
   },
   "outputs": [
    {
     "data": {
      "text/plain": [
       "[1] NA"
      ]
     },
     "metadata": {},
     "output_type": "display_data"
    }
   ],
   "source": [
    "#> 第一种\n",
    "mean(df$popularity)"
   ]
  },
  {
   "cell_type": "code",
   "execution_count": 32,
   "metadata": {
    "collapsed": false,
    "deletable": true,
    "editable": true
   },
   "outputs": [
    {
     "data": {
      "text/html": [
       "<table>\n",
       "<thead><tr><th scope=col>mean</th></tr></thead>\n",
       "<tbody>\n",
       "\t<tr><td>NA</td></tr>\n",
       "</tbody>\n",
       "</table>\n"
      ],
      "text/latex": [
       "\\begin{tabular}{r|l}\n",
       " mean\\\\\n",
       "\\hline\n",
       "\t NA\\\\\n",
       "\\end{tabular}\n"
      ],
      "text/markdown": [
       "\n",
       "mean | \n",
       "|---|\n",
       "| NA | \n",
       "\n",
       "\n"
      ],
      "text/plain": [
       "  mean\n",
       "1 NA  "
      ]
     },
     "metadata": {},
     "output_type": "display_data"
    }
   ],
   "source": [
    "#> 第二种\n",
    "df %>%\n",
    "  summarise(mean = mean(popularity))"
   ]
  },
  {
   "cell_type": "markdown",
   "metadata": {
    "deletable": true,
    "editable": true
   },
   "source": [
    "### 10.格式转换\n",
    "将grammer列转换为list"
   ]
  },
  {
   "cell_type": "code",
   "execution_count": 33,
   "metadata": {
    "collapsed": false,
    "deletable": true,
    "editable": true
   },
   "outputs": [
    {
     "data": {
      "text/html": [
       "<ol class=list-inline>\n",
       "\t<li>Python</li>\n",
       "\t<li>C</li>\n",
       "\t<li>Java</li>\n",
       "\t<li>GO</li>\n",
       "\t<li>NA</li>\n",
       "\t<li>SQL</li>\n",
       "\t<li>PHP</li>\n",
       "\t<li>Python</li>\n",
       "</ol>\n"
      ],
      "text/latex": [
       "\\begin{enumerate*}\n",
       "\\item Python\n",
       "\\item C\n",
       "\\item Java\n",
       "\\item GO\n",
       "\\item NA\n",
       "\\item SQL\n",
       "\\item PHP\n",
       "\\item Python\n",
       "\\end{enumerate*}\n"
      ],
      "text/markdown": [
       "1. Python\n",
       "2. C\n",
       "3. Java\n",
       "4. GO\n",
       "5. NA\n",
       "6. SQL\n",
       "7. PHP\n",
       "8. Python\n",
       "\n",
       "\n"
      ],
      "text/plain": [
       "[1] Python C      Java   GO     <NA>   SQL    PHP    Python\n",
       "Levels: C GO Java PHP Python SQL"
      ]
     },
     "metadata": {},
     "output_type": "display_data"
    }
   ],
   "source": [
    "unlist(df$grammer)"
   ]
  },
  {
   "cell_type": "markdown",
   "metadata": {
    "deletable": true,
    "editable": true
   },
   "source": [
    "### 11.数据保存\n",
    "将DataFrame保存为EXCEL"
   ]
  },
  {
   "cell_type": "code",
   "execution_count": 34,
   "metadata": {
    "collapsed": true,
    "deletable": true,
    "editable": true
   },
   "outputs": [],
   "source": [
    "#R对EXCEL文件不太友好\n",
    "#第一种方法：利用readr包转为csv再用EXCEL打开\n",
    "#文件本质依然是csv\n",
    "library(readr)\n",
    "write_excel_csv(df,'filename.csv')"
   ]
  },
  {
   "cell_type": "markdown",
   "metadata": {
    "deletable": true,
    "editable": true
   },
   "source": [
    "### 12.数据查看\n",
    "查看数据行列数"
   ]
  },
  {
   "cell_type": "code",
   "execution_count": 4,
   "metadata": {
    "collapsed": false,
    "deletable": true,
    "editable": true
   },
   "outputs": [
    {
     "data": {
      "text/html": [
       "<ol class=list-inline>\n",
       "\t<li>8</li>\n",
       "\t<li>2</li>\n",
       "</ol>\n"
      ],
      "text/latex": [
       "\\begin{enumerate*}\n",
       "\\item 8\n",
       "\\item 2\n",
       "\\end{enumerate*}\n"
      ],
      "text/markdown": [
       "1. 8\n",
       "2. 2\n",
       "\n",
       "\n"
      ],
      "text/plain": [
       "[1] 8 2"
      ]
     },
     "metadata": {},
     "output_type": "display_data"
    }
   ],
   "source": [
    "dim(df)"
   ]
  },
  {
   "cell_type": "markdown",
   "metadata": {
    "deletable": true,
    "editable": true
   },
   "source": [
    "### 13.提取数据\n",
    "提取popularity列值大于3小于7的行"
   ]
  },
  {
   "cell_type": "code",
   "execution_count": 14,
   "metadata": {
    "collapsed": false,
    "deletable": true,
    "editable": true
   },
   "outputs": [
    {
     "data": {
      "text/html": [
       "<table>\n",
       "<thead><tr><th scope=col>grammer</th><th scope=col>popularity</th></tr></thead>\n",
       "<tbody>\n",
       "\t<tr><td>GO </td><td>4  </td></tr>\n",
       "\t<tr><td>NA </td><td>5  </td></tr>\n",
       "\t<tr><td>SQL</td><td>6  </td></tr>\n",
       "</tbody>\n",
       "</table>\n"
      ],
      "text/latex": [
       "\\begin{tabular}{r|ll}\n",
       " grammer & popularity\\\\\n",
       "\\hline\n",
       "\t GO  & 4  \\\\\n",
       "\t NA  & 5  \\\\\n",
       "\t SQL & 6  \\\\\n",
       "\\end{tabular}\n"
      ],
      "text/markdown": [
       "\n",
       "grammer | popularity | \n",
       "|---|---|---|\n",
       "| GO  | 4   | \n",
       "| NA  | 5   | \n",
       "| SQL | 6   | \n",
       "\n",
       "\n"
      ],
      "text/plain": [
       "  grammer popularity\n",
       "1 GO      4         \n",
       "2 NA      5         \n",
       "3 SQL     6         "
      ]
     },
     "metadata": {},
     "output_type": "display_data"
    }
   ],
   "source": [
    "library(dplyr)\n",
    "df %>%\n",
    "  filter(popularity > 3 & popularity <7)"
   ]
  },
  {
   "cell_type": "markdown",
   "metadata": {
    "deletable": true,
    "editable": true
   },
   "source": [
    "### 14.数据处理\n",
    "交换两列数据"
   ]
  },
  {
   "cell_type": "code",
   "execution_count": 15,
   "metadata": {
    "collapsed": true,
    "deletable": true,
    "editable": true
   },
   "outputs": [],
   "source": [
    "df <- df %>%\n",
    "    select(popularity,everything())"
   ]
  },
  {
   "cell_type": "markdown",
   "metadata": {
    "deletable": true,
    "editable": true
   },
   "source": [
    "### 15.数据提取\n",
    "提取popularity列最大值所在行"
   ]
  },
  {
   "cell_type": "code",
   "execution_count": 20,
   "metadata": {
    "collapsed": false,
    "deletable": true,
    "editable": true
   },
   "outputs": [
    {
     "data": {
      "text/html": [
       "<table>\n",
       "<thead><tr><th scope=col>popularity</th><th scope=col>grammer</th></tr></thead>\n",
       "<tbody>\n",
       "</tbody>\n",
       "</table>\n"
      ],
      "text/latex": [
       "\\begin{tabular}{r|ll}\n",
       " popularity & grammer\\\\\n",
       "\\hline\n",
       "\\end{tabular}\n"
      ],
      "text/markdown": [
       "\n",
       "popularity | grammer | \n",
       "||\n",
       "\n",
       "\n"
      ],
      "text/plain": [
       "     popularity grammer"
      ]
     },
     "metadata": {},
     "output_type": "display_data"
    }
   ],
   "source": [
    "df %>%\n",
    "  filter(popularity == max(popularity))"
   ]
  },
  {
   "cell_type": "markdown",
   "metadata": {
    "deletable": true,
    "editable": true
   },
   "source": [
    "### 16.数据查看\n",
    "查看最后5行数据"
   ]
  },
  {
   "cell_type": "code",
   "execution_count": 21,
   "metadata": {
    "collapsed": false,
    "deletable": true,
    "editable": true
   },
   "outputs": [
    {
     "data": {
      "text/html": [
       "<table>\n",
       "<thead><tr><th></th><th scope=col>popularity</th><th scope=col>grammer</th></tr></thead>\n",
       "<tbody>\n",
       "\t<tr><th scope=row>4</th><td> 4    </td><td>GO    </td></tr>\n",
       "\t<tr><th scope=row>5</th><td> 5    </td><td>NA    </td></tr>\n",
       "\t<tr><th scope=row>6</th><td> 6    </td><td>SQL   </td></tr>\n",
       "\t<tr><th scope=row>7</th><td> 7    </td><td>PHP   </td></tr>\n",
       "\t<tr><th scope=row>8</th><td>10    </td><td>Python</td></tr>\n",
       "</tbody>\n",
       "</table>\n"
      ],
      "text/latex": [
       "\\begin{tabular}{r|ll}\n",
       "  & popularity & grammer\\\\\n",
       "\\hline\n",
       "\t4 &  4     & GO    \\\\\n",
       "\t5 &  5     & NA    \\\\\n",
       "\t6 &  6     & SQL   \\\\\n",
       "\t7 &  7     & PHP   \\\\\n",
       "\t8 & 10     & Python\\\\\n",
       "\\end{tabular}\n"
      ],
      "text/markdown": [
       "\n",
       "| <!--/--> | popularity | grammer | \n",
       "|---|---|---|---|---|\n",
       "| 4 |  4     | GO     | \n",
       "| 5 |  5     | NA     | \n",
       "| 6 |  6     | SQL    | \n",
       "| 7 |  7     | PHP    | \n",
       "| 8 | 10     | Python | \n",
       "\n",
       "\n"
      ],
      "text/plain": [
       "  popularity grammer\n",
       "4  4         GO     \n",
       "5  5         NA     \n",
       "6  6         SQL    \n",
       "7  7         PHP    \n",
       "8 10         Python "
      ]
     },
     "metadata": {},
     "output_type": "display_data"
    }
   ],
   "source": [
    "tail(df,5)"
   ]
  },
  {
   "cell_type": "markdown",
   "metadata": {
    "deletable": true,
    "editable": true
   },
   "source": [
    "### 17.数据修改\n",
    "删除最后一数据"
   ]
  },
  {
   "cell_type": "code",
   "execution_count": 22,
   "metadata": {
    "collapsed": false,
    "deletable": true,
    "editable": true
   },
   "outputs": [
    {
     "data": {
      "text/html": [
       "<table>\n",
       "<thead><tr><th scope=col>popularity</th><th scope=col>grammer</th></tr></thead>\n",
       "<tbody>\n",
       "\t<tr><td> 1    </td><td>Python</td></tr>\n",
       "\t<tr><td> 2    </td><td>C     </td></tr>\n",
       "\t<tr><td>NA    </td><td>Java  </td></tr>\n",
       "\t<tr><td> 4    </td><td>GO    </td></tr>\n",
       "\t<tr><td> 5    </td><td>NA    </td></tr>\n",
       "\t<tr><td> 6    </td><td>SQL   </td></tr>\n",
       "\t<tr><td> 7    </td><td>PHP   </td></tr>\n",
       "</tbody>\n",
       "</table>\n"
      ],
      "text/latex": [
       "\\begin{tabular}{r|ll}\n",
       " popularity & grammer\\\\\n",
       "\\hline\n",
       "\t  1     & Python\\\\\n",
       "\t  2     & C     \\\\\n",
       "\t NA     & Java  \\\\\n",
       "\t  4     & GO    \\\\\n",
       "\t  5     & NA    \\\\\n",
       "\t  6     & SQL   \\\\\n",
       "\t  7     & PHP   \\\\\n",
       "\\end{tabular}\n"
      ],
      "text/markdown": [
       "\n",
       "popularity | grammer | \n",
       "|---|---|---|---|---|---|---|\n",
       "|  1     | Python | \n",
       "|  2     | C      | \n",
       "| NA     | Java   | \n",
       "|  4     | GO     | \n",
       "|  5     | NA     | \n",
       "|  6     | SQL    | \n",
       "|  7     | PHP    | \n",
       "\n",
       "\n"
      ],
      "text/plain": [
       "  popularity grammer\n",
       "1  1         Python \n",
       "2  2         C      \n",
       "3 NA         Java   \n",
       "4  4         GO     \n",
       "5  5         NA     \n",
       "6  6         SQL    \n",
       "7  7         PHP    "
      ]
     },
     "metadata": {},
     "output_type": "display_data"
    }
   ],
   "source": [
    "df[-dim(df)[1],]"
   ]
  },
  {
   "cell_type": "markdown",
   "metadata": {
    "deletable": true,
    "editable": true
   },
   "source": [
    "### 18.数据修改\n",
    "添加一行数据['Perl',6.6]"
   ]
  },
  {
   "cell_type": "code",
   "execution_count": 27,
   "metadata": {
    "collapsed": true,
    "deletable": true,
    "editable": true
   },
   "outputs": [],
   "source": [
    "row <- data.frame(\n",
    "  \"grammer\" = c(\"Perl\"),\n",
    "  \"popularity\" = c(6.6)\n",
    ") # 需要和列的位置对应\n",
    "df <- rbind(df,row)"
   ]
  },
  {
   "cell_type": "markdown",
   "metadata": {
    "deletable": true,
    "editable": true
   },
   "source": [
    "### 19.数据排序\n",
    "对数据按照\"popularity\"列值的大小进行排序"
   ]
  },
  {
   "cell_type": "code",
   "execution_count": 29,
   "metadata": {
    "collapsed": true,
    "deletable": true,
    "editable": true
   },
   "outputs": [],
   "source": [
    "df <- df %>%\n",
    "  arrange(popularity)"
   ]
  },
  {
   "cell_type": "markdown",
   "metadata": {
    "deletable": true,
    "editable": true
   },
   "source": [
    "### 20.数据统计\n",
    "统计grammer列每个字符串的长度"
   ]
  },
  {
   "cell_type": "code",
   "execution_count": 31,
   "metadata": {
    "collapsed": false,
    "deletable": true,
    "editable": true
   },
   "outputs": [
    {
     "name": "stderr",
     "output_type": "stream",
     "text": [
      "Loading required package: lattice\n"
     ]
    },
    {
     "ename": "ERROR",
     "evalue": "Error: package ‘survival’ 2.39.4 was found, but >= 2.40.1 is required by ‘Hmisc’\n",
     "output_type": "error",
     "traceback": [
      "Error: package ‘survival’ 2.39.4 was found, but >= 2.40.1 is required by ‘Hmisc’\nTraceback:\n",
      "1. library(Hmisc)",
      "2. .getRequiredPackages2(pkgInfo, quietly = quietly)",
      "3. stop(gettextf(msg, sQuote(pkg), current, dep$op, target, sQuote(pkgname)), \n .     call. = FALSE, domain = NA)"
     ]
    }
   ],
   "source": [
    "# 由于在线平台的survival包无法升级，请下载至本地并升级即可正常执行，代码已经通过测试！\n",
    "library(Hmisc)\n",
    "library(stringr)\n",
    "df$grammer <- impute(df$grammer,'R')\n",
    "str_length(df$grammer)\n",
    "\n",
    "df$len_str <- str_length(df$grammer)"
   ]
  },
  {
   "cell_type": "markdown",
   "metadata": {
    "collapsed": true,
    "deletable": true,
    "editable": true
   },
   "source": [
    "### 第二期｜基本数据处理：21-50"
   ]
  },
  {
   "cell_type": "markdown",
   "metadata": {},
   "source": [
    "### 21.数据读取\n",
    "读取本地Excel数据"
   ]
  },
  {
   "cell_type": "code",
   "execution_count": 25,
   "metadata": {
    "collapsed": false,
    "deletable": true,
    "editable": true
   },
   "outputs": [
    {
     "name": "stderr",
     "output_type": "stream",
     "text": [
      "Parsed with column specification:\n",
      "cols(\n",
      "  `﻿createTime` = col_character(),\n",
      "  education = col_character(),\n",
      "  salary = col_character()\n",
      ")\n"
     ]
    }
   ],
   "source": [
    "library(readr)\n",
    "df <- read_csv('pandas120.csv')"
   ]
  },
  {
   "cell_type": "markdown",
   "metadata": {
    "collapsed": true,
    "deletable": true,
    "editable": true
   },
   "source": [
    "### 22.数据查看\n",
    "查看df数据前5行"
   ]
  },
  {
   "cell_type": "code",
   "execution_count": 11,
   "metadata": {
    "collapsed": false,
    "deletable": true,
    "editable": true
   },
   "outputs": [
    {
     "data": {
      "text/html": [
       "<table>\n",
       "<thead><tr><th scope=col>﻿createTime</th><th scope=col>education</th><th scope=col>salary</th></tr></thead>\n",
       "<tbody>\n",
       "\t<tr><td>2020/3/16 11:30</td><td>本科           </td><td>20k-35k        </td></tr>\n",
       "\t<tr><td>2020/3/16 10:58</td><td>本科           </td><td>20k-40k        </td></tr>\n",
       "\t<tr><td>2020/3/16 10:46</td><td>不限           </td><td>20k-35k        </td></tr>\n",
       "\t<tr><td>2020/3/16 10:45</td><td>本科           </td><td>13k-20k        </td></tr>\n",
       "\t<tr><td>2020/3/16 10:20</td><td>本科           </td><td>10k-20k        </td></tr>\n",
       "</tbody>\n",
       "</table>\n"
      ],
      "text/latex": [
       "\\begin{tabular}{r|lll}\n",
       " ﻿createTime & education & salary\\\\\n",
       "\\hline\n",
       "\t 2020/3/16 11:30 & 本科            & 20k-35k        \\\\\n",
       "\t 2020/3/16 10:58 & 本科            & 20k-40k        \\\\\n",
       "\t 2020/3/16 10:46 & 不限            & 20k-35k        \\\\\n",
       "\t 2020/3/16 10:45 & 本科            & 13k-20k        \\\\\n",
       "\t 2020/3/16 10:20 & 本科            & 10k-20k        \\\\\n",
       "\\end{tabular}\n"
      ],
      "text/markdown": [
       "\n",
       "﻿createTime | education | salary | \n",
       "|---|---|---|---|---|\n",
       "| 2020/3/16 11:30 | 本科            | 20k-35k         | \n",
       "| 2020/3/16 10:58 | 本科            | 20k-40k         | \n",
       "| 2020/3/16 10:46 | 不限            | 20k-35k         | \n",
       "| 2020/3/16 10:45 | 本科            | 13k-20k         | \n",
       "| 2020/3/16 10:20 | 本科            | 10k-20k         | \n",
       "\n",
       "\n"
      ],
      "text/plain": [
       "  ﻿createTime      education salary \n",
       "1 2020/3/16 11:30 本科      20k-35k\n",
       "2 2020/3/16 10:58 本科      20k-40k\n",
       "3 2020/3/16 10:46 不限      20k-35k\n",
       "4 2020/3/16 10:45 本科      13k-20k\n",
       "5 2020/3/16 10:20 本科      10k-20k"
      ]
     },
     "metadata": {},
     "output_type": "display_data"
    }
   ],
   "source": [
    "# 默认是6行，可指定行数\n",
    "head(df,5)"
   ]
  },
  {
   "cell_type": "markdown",
   "metadata": {
    "collapsed": true,
    "deletable": true,
    "editable": true
   },
   "source": [
    "### 23.将salary列数据转换为最大值与最小值的平均值"
   ]
  },
  {
   "cell_type": "code",
   "execution_count": 26,
   "metadata": {
    "collapsed": false,
    "deletable": true,
    "editable": true
   },
   "outputs": [
    {
     "data": {
      "text/html": [
       "<table>\n",
       "<thead><tr><th scope=col>﻿createTime</th><th scope=col>education</th><th scope=col>salary</th></tr></thead>\n",
       "<tbody>\n",
       "\t<tr><td>2020/3/16 11:30</td><td>本科           </td><td>27500          </td></tr>\n",
       "\t<tr><td>2020/3/16 10:58</td><td>本科           </td><td>30000          </td></tr>\n",
       "\t<tr><td>2020/3/16 10:46</td><td>不限           </td><td>27500          </td></tr>\n",
       "\t<tr><td>2020/3/16 10:45</td><td>本科           </td><td>16500          </td></tr>\n",
       "\t<tr><td>2020/3/16 10:20</td><td>本科           </td><td>15000          </td></tr>\n",
       "\t<tr><td>2020/3/16 10:33</td><td>本科           </td><td>14000          </td></tr>\n",
       "\t<tr><td>2020/3/16 10:11</td><td>硕士           </td><td>23000          </td></tr>\n",
       "\t<tr><td>2020/3/16 09:49</td><td>本科           </td><td>12500          </td></tr>\n",
       "\t<tr><td>2020/3/16 09:25</td><td>不限           </td><td> 7000          </td></tr>\n",
       "\t<tr><td>2020/3/16 09:35</td><td>本科           </td><td>16000          </td></tr>\n",
       "\t<tr><td>2020/3/16 10:34</td><td>本科           </td><td>20000          </td></tr>\n",
       "\t<tr><td>2020/3/16 09:30</td><td>本科           </td><td>10000          </td></tr>\n",
       "\t<tr><td>2020/3/16 11:30</td><td>本科           </td><td>30000          </td></tr>\n",
       "\t<tr><td>2020/3/16 10:54</td><td>本科           </td><td>25000          </td></tr>\n",
       "\t<tr><td>2020/3/15 12:14</td><td>本科           </td><td>30000          </td></tr>\n",
       "\t<tr><td>2020/3/16 10:52</td><td>硕士           </td><td>12500          </td></tr>\n",
       "\t<tr><td>2020/3/16 10:36</td><td>本科           </td><td>37500          </td></tr>\n",
       "\t<tr><td>2020/3/16 11:01</td><td>本科           </td><td>12500          </td></tr>\n",
       "\t<tr><td>2020/3/16 11:01</td><td>本科           </td><td>35000          </td></tr>\n",
       "\t<tr><td>2020/3/16 11:03</td><td>本科           </td><td>20000          </td></tr>\n",
       "\t<tr><td>2020/3/16 11:00</td><td>本科           </td><td>11500          </td></tr>\n",
       "\t<tr><td>2020/3/16 11:04</td><td>本科           </td><td>30000          </td></tr>\n",
       "\t<tr><td>2020/3/16 11:30</td><td>本科           </td><td>20000          </td></tr>\n",
       "\t<tr><td>2020/3/16 11:02</td><td>本科           </td><td>22500          </td></tr>\n",
       "\t<tr><td>2020/3/16 11:01</td><td>本科           </td><td>17500          </td></tr>\n",
       "\t<tr><td>2020/3/16 11:19</td><td>本科           </td><td>15000          </td></tr>\n",
       "\t<tr><td>2020/3/16 11:04</td><td>本科           </td><td>30000          </td></tr>\n",
       "\t<tr><td>2020/3/16 11:04</td><td>本科           </td><td>30000          </td></tr>\n",
       "\t<tr><td>2020/3/16 11:30</td><td>本科           </td><td>20000          </td></tr>\n",
       "\t<tr><td>2020/3/16 10:27</td><td>本科           </td><td>17500          </td></tr>\n",
       "\t<tr><td>...</td><td>...</td><td>...</td></tr>\n",
       "\t<tr><td>2020/3/16 11:01</td><td>本科           </td><td>21500          </td></tr>\n",
       "\t<tr><td>2020/3/16 10:21</td><td>大专           </td><td>15000          </td></tr>\n",
       "\t<tr><td>2020/3/16 10:59</td><td>本科           </td><td>16000          </td></tr>\n",
       "\t<tr><td>2020/3/16 11:13</td><td>本科           </td><td>12500          </td></tr>\n",
       "\t<tr><td>2020/3/16 10:26</td><td>大专           </td><td> 5000          </td></tr>\n",
       "\t<tr><td>2020/3/16 11:12</td><td>本科           </td><td> 4000          </td></tr>\n",
       "\t<tr><td>2020/3/16 10:52</td><td>本科           </td><td>16000          </td></tr>\n",
       "\t<tr><td>2020/3/16 11:13</td><td>本科           </td><td>26500          </td></tr>\n",
       "\t<tr><td>2020/3/16 10:48</td><td>本科           </td><td> 3500          </td></tr>\n",
       "\t<tr><td>2020/3/16 10:43</td><td>本科           </td><td>14000          </td></tr>\n",
       "\t<tr><td>2020/3/16 11:32</td><td>本科           </td><td> 8500          </td></tr>\n",
       "\t<tr><td>2020/3/16 11:30</td><td>本科           </td><td>20000          </td></tr>\n",
       "\t<tr><td>2020/3/16 11:19</td><td>本科           </td><td>30000          </td></tr>\n",
       "\t<tr><td>2020/3/16 11:19</td><td>本科           </td><td>30000          </td></tr>\n",
       "\t<tr><td>2020/3/16 09:28</td><td>本科           </td><td>18500          </td></tr>\n",
       "\t<tr><td>2020/3/16 10:09</td><td>本科           </td><td>11500          </td></tr>\n",
       "\t<tr><td>2020/3/16 11:33</td><td>本科           </td><td> 5000          </td></tr>\n",
       "\t<tr><td>2020/3/16 11:21</td><td>本科           </td><td>16000          </td></tr>\n",
       "\t<tr><td>2020/3/16 11:20</td><td>本科           </td><td> 4500          </td></tr>\n",
       "\t<tr><td>2020/3/16 10:00</td><td>本科           </td><td>20000          </td></tr>\n",
       "\t<tr><td>2020/3/16 11:13</td><td>本科           </td><td>12500          </td></tr>\n",
       "\t<tr><td>2020/3/16 11:12</td><td>本科           </td><td> 4000          </td></tr>\n",
       "\t<tr><td>2020/3/16 09:44</td><td>硕士           </td><td>12500          </td></tr>\n",
       "\t<tr><td>2020/3/16 10:57</td><td>本科           </td><td>22500          </td></tr>\n",
       "\t<tr><td>2020/3/16 09:46</td><td>本科           </td><td>20000          </td></tr>\n",
       "\t<tr><td>2020/3/16 11:36</td><td>本科           </td><td>14000          </td></tr>\n",
       "\t<tr><td>2020/3/16 09:54</td><td>硕士           </td><td>37500          </td></tr>\n",
       "\t<tr><td>2020/3/16 10:48</td><td>本科           </td><td>30000          </td></tr>\n",
       "\t<tr><td>2020/3/16 10:46</td><td>本科           </td><td>19000          </td></tr>\n",
       "\t<tr><td>2020/3/16 11:19</td><td>本科           </td><td>30000          </td></tr>\n",
       "</tbody>\n",
       "</table>\n"
      ],
      "text/latex": [
       "\\begin{tabular}{r|lll}\n",
       " ﻿createTime & education & salary\\\\\n",
       "\\hline\n",
       "\t 2020/3/16 11:30 & 本科            & 27500          \\\\\n",
       "\t 2020/3/16 10:58 & 本科            & 30000          \\\\\n",
       "\t 2020/3/16 10:46 & 不限            & 27500          \\\\\n",
       "\t 2020/3/16 10:45 & 本科            & 16500          \\\\\n",
       "\t 2020/3/16 10:20 & 本科            & 15000          \\\\\n",
       "\t 2020/3/16 10:33 & 本科            & 14000          \\\\\n",
       "\t 2020/3/16 10:11 & 硕士            & 23000          \\\\\n",
       "\t 2020/3/16 09:49 & 本科            & 12500          \\\\\n",
       "\t 2020/3/16 09:25 & 不限            &  7000          \\\\\n",
       "\t 2020/3/16 09:35 & 本科            & 16000          \\\\\n",
       "\t 2020/3/16 10:34 & 本科            & 20000          \\\\\n",
       "\t 2020/3/16 09:30 & 本科            & 10000          \\\\\n",
       "\t 2020/3/16 11:30 & 本科            & 30000          \\\\\n",
       "\t 2020/3/16 10:54 & 本科            & 25000          \\\\\n",
       "\t 2020/3/15 12:14 & 本科            & 30000          \\\\\n",
       "\t 2020/3/16 10:52 & 硕士            & 12500          \\\\\n",
       "\t 2020/3/16 10:36 & 本科            & 37500          \\\\\n",
       "\t 2020/3/16 11:01 & 本科            & 12500          \\\\\n",
       "\t 2020/3/16 11:01 & 本科            & 35000          \\\\\n",
       "\t 2020/3/16 11:03 & 本科            & 20000          \\\\\n",
       "\t 2020/3/16 11:00 & 本科            & 11500          \\\\\n",
       "\t 2020/3/16 11:04 & 本科            & 30000          \\\\\n",
       "\t 2020/3/16 11:30 & 本科            & 20000          \\\\\n",
       "\t 2020/3/16 11:02 & 本科            & 22500          \\\\\n",
       "\t 2020/3/16 11:01 & 本科            & 17500          \\\\\n",
       "\t 2020/3/16 11:19 & 本科            & 15000          \\\\\n",
       "\t 2020/3/16 11:04 & 本科            & 30000          \\\\\n",
       "\t 2020/3/16 11:04 & 本科            & 30000          \\\\\n",
       "\t 2020/3/16 11:30 & 本科            & 20000          \\\\\n",
       "\t 2020/3/16 10:27 & 本科            & 17500          \\\\\n",
       "\t ... & ... & ...\\\\\n",
       "\t 2020/3/16 11:01 & 本科            & 21500          \\\\\n",
       "\t 2020/3/16 10:21 & 大专            & 15000          \\\\\n",
       "\t 2020/3/16 10:59 & 本科            & 16000          \\\\\n",
       "\t 2020/3/16 11:13 & 本科            & 12500          \\\\\n",
       "\t 2020/3/16 10:26 & 大专            &  5000          \\\\\n",
       "\t 2020/3/16 11:12 & 本科            &  4000          \\\\\n",
       "\t 2020/3/16 10:52 & 本科            & 16000          \\\\\n",
       "\t 2020/3/16 11:13 & 本科            & 26500          \\\\\n",
       "\t 2020/3/16 10:48 & 本科            &  3500          \\\\\n",
       "\t 2020/3/16 10:43 & 本科            & 14000          \\\\\n",
       "\t 2020/3/16 11:32 & 本科            &  8500          \\\\\n",
       "\t 2020/3/16 11:30 & 本科            & 20000          \\\\\n",
       "\t 2020/3/16 11:19 & 本科            & 30000          \\\\\n",
       "\t 2020/3/16 11:19 & 本科            & 30000          \\\\\n",
       "\t 2020/3/16 09:28 & 本科            & 18500          \\\\\n",
       "\t 2020/3/16 10:09 & 本科            & 11500          \\\\\n",
       "\t 2020/3/16 11:33 & 本科            &  5000          \\\\\n",
       "\t 2020/3/16 11:21 & 本科            & 16000          \\\\\n",
       "\t 2020/3/16 11:20 & 本科            &  4500          \\\\\n",
       "\t 2020/3/16 10:00 & 本科            & 20000          \\\\\n",
       "\t 2020/3/16 11:13 & 本科            & 12500          \\\\\n",
       "\t 2020/3/16 11:12 & 本科            &  4000          \\\\\n",
       "\t 2020/3/16 09:44 & 硕士            & 12500          \\\\\n",
       "\t 2020/3/16 10:57 & 本科            & 22500          \\\\\n",
       "\t 2020/3/16 09:46 & 本科            & 20000          \\\\\n",
       "\t 2020/3/16 11:36 & 本科            & 14000          \\\\\n",
       "\t 2020/3/16 09:54 & 硕士            & 37500          \\\\\n",
       "\t 2020/3/16 10:48 & 本科            & 30000          \\\\\n",
       "\t 2020/3/16 10:46 & 本科            & 19000          \\\\\n",
       "\t 2020/3/16 11:19 & 本科            & 30000          \\\\\n",
       "\\end{tabular}\n"
      ],
      "text/markdown": [
       "\n",
       "﻿createTime | education | salary | \n",
       "|---|---|---|---|---|---|---|---|---|---|---|---|---|---|---|---|---|---|---|---|---|---|---|---|---|---|---|---|---|---|---|---|---|---|---|---|---|---|---|---|---|---|---|---|---|---|---|---|---|---|---|---|---|---|---|---|---|---|---|---|---|\n",
       "| 2020/3/16 11:30 | 本科            | 27500           | \n",
       "| 2020/3/16 10:58 | 本科            | 30000           | \n",
       "| 2020/3/16 10:46 | 不限            | 27500           | \n",
       "| 2020/3/16 10:45 | 本科            | 16500           | \n",
       "| 2020/3/16 10:20 | 本科            | 15000           | \n",
       "| 2020/3/16 10:33 | 本科            | 14000           | \n",
       "| 2020/3/16 10:11 | 硕士            | 23000           | \n",
       "| 2020/3/16 09:49 | 本科            | 12500           | \n",
       "| 2020/3/16 09:25 | 不限            |  7000           | \n",
       "| 2020/3/16 09:35 | 本科            | 16000           | \n",
       "| 2020/3/16 10:34 | 本科            | 20000           | \n",
       "| 2020/3/16 09:30 | 本科            | 10000           | \n",
       "| 2020/3/16 11:30 | 本科            | 30000           | \n",
       "| 2020/3/16 10:54 | 本科            | 25000           | \n",
       "| 2020/3/15 12:14 | 本科            | 30000           | \n",
       "| 2020/3/16 10:52 | 硕士            | 12500           | \n",
       "| 2020/3/16 10:36 | 本科            | 37500           | \n",
       "| 2020/3/16 11:01 | 本科            | 12500           | \n",
       "| 2020/3/16 11:01 | 本科            | 35000           | \n",
       "| 2020/3/16 11:03 | 本科            | 20000           | \n",
       "| 2020/3/16 11:00 | 本科            | 11500           | \n",
       "| 2020/3/16 11:04 | 本科            | 30000           | \n",
       "| 2020/3/16 11:30 | 本科            | 20000           | \n",
       "| 2020/3/16 11:02 | 本科            | 22500           | \n",
       "| 2020/3/16 11:01 | 本科            | 17500           | \n",
       "| 2020/3/16 11:19 | 本科            | 15000           | \n",
       "| 2020/3/16 11:04 | 本科            | 30000           | \n",
       "| 2020/3/16 11:04 | 本科            | 30000           | \n",
       "| 2020/3/16 11:30 | 本科            | 20000           | \n",
       "| 2020/3/16 10:27 | 本科            | 17500           | \n",
       "| ... | ... | ... | \n",
       "| 2020/3/16 11:01 | 本科            | 21500           | \n",
       "| 2020/3/16 10:21 | 大专            | 15000           | \n",
       "| 2020/3/16 10:59 | 本科            | 16000           | \n",
       "| 2020/3/16 11:13 | 本科            | 12500           | \n",
       "| 2020/3/16 10:26 | 大专            |  5000           | \n",
       "| 2020/3/16 11:12 | 本科            |  4000           | \n",
       "| 2020/3/16 10:52 | 本科            | 16000           | \n",
       "| 2020/3/16 11:13 | 本科            | 26500           | \n",
       "| 2020/3/16 10:48 | 本科            |  3500           | \n",
       "| 2020/3/16 10:43 | 本科            | 14000           | \n",
       "| 2020/3/16 11:32 | 本科            |  8500           | \n",
       "| 2020/3/16 11:30 | 本科            | 20000           | \n",
       "| 2020/3/16 11:19 | 本科            | 30000           | \n",
       "| 2020/3/16 11:19 | 本科            | 30000           | \n",
       "| 2020/3/16 09:28 | 本科            | 18500           | \n",
       "| 2020/3/16 10:09 | 本科            | 11500           | \n",
       "| 2020/3/16 11:33 | 本科            |  5000           | \n",
       "| 2020/3/16 11:21 | 本科            | 16000           | \n",
       "| 2020/3/16 11:20 | 本科            |  4500           | \n",
       "| 2020/3/16 10:00 | 本科            | 20000           | \n",
       "| 2020/3/16 11:13 | 本科            | 12500           | \n",
       "| 2020/3/16 11:12 | 本科            |  4000           | \n",
       "| 2020/3/16 09:44 | 硕士            | 12500           | \n",
       "| 2020/3/16 10:57 | 本科            | 22500           | \n",
       "| 2020/3/16 09:46 | 本科            | 20000           | \n",
       "| 2020/3/16 11:36 | 本科            | 14000           | \n",
       "| 2020/3/16 09:54 | 硕士            | 37500           | \n",
       "| 2020/3/16 10:48 | 本科            | 30000           | \n",
       "| 2020/3/16 10:46 | 本科            | 19000           | \n",
       "| 2020/3/16 11:19 | 本科            | 30000           | \n",
       "\n",
       "\n"
      ],
      "text/plain": [
       "    ﻿createTime      education salary\n",
       "1   2020/3/16 11:30 本科      27500 \n",
       "2   2020/3/16 10:58 本科      30000 \n",
       "3   2020/3/16 10:46 不限      27500 \n",
       "4   2020/3/16 10:45 本科      16500 \n",
       "5   2020/3/16 10:20 本科      15000 \n",
       "6   2020/3/16 10:33 本科      14000 \n",
       "7   2020/3/16 10:11 硕士      23000 \n",
       "8   2020/3/16 09:49 本科      12500 \n",
       "9   2020/3/16 09:25 不限       7000 \n",
       "10  2020/3/16 09:35 本科      16000 \n",
       "11  2020/3/16 10:34 本科      20000 \n",
       "12  2020/3/16 09:30 本科      10000 \n",
       "13  2020/3/16 11:30 本科      30000 \n",
       "14  2020/3/16 10:54 本科      25000 \n",
       "15  2020/3/15 12:14 本科      30000 \n",
       "16  2020/3/16 10:52 硕士      12500 \n",
       "17  2020/3/16 10:36 本科      37500 \n",
       "18  2020/3/16 11:01 本科      12500 \n",
       "19  2020/3/16 11:01 本科      35000 \n",
       "20  2020/3/16 11:03 本科      20000 \n",
       "21  2020/3/16 11:00 本科      11500 \n",
       "22  2020/3/16 11:04 本科      30000 \n",
       "23  2020/3/16 11:30 本科      20000 \n",
       "24  2020/3/16 11:02 本科      22500 \n",
       "25  2020/3/16 11:01 本科      17500 \n",
       "26  2020/3/16 11:19 本科      15000 \n",
       "27  2020/3/16 11:04 本科      30000 \n",
       "28  2020/3/16 11:04 本科      30000 \n",
       "29  2020/3/16 11:30 本科      20000 \n",
       "30  2020/3/16 10:27 本科      17500 \n",
       "... ...             ...       ...   \n",
       "106 2020/3/16 11:01 本科      21500 \n",
       "107 2020/3/16 10:21 大专      15000 \n",
       "108 2020/3/16 10:59 本科      16000 \n",
       "109 2020/3/16 11:13 本科      12500 \n",
       "110 2020/3/16 10:26 大专       5000 \n",
       "111 2020/3/16 11:12 本科       4000 \n",
       "112 2020/3/16 10:52 本科      16000 \n",
       "113 2020/3/16 11:13 本科      26500 \n",
       "114 2020/3/16 10:48 本科       3500 \n",
       "115 2020/3/16 10:43 本科      14000 \n",
       "116 2020/3/16 11:32 本科       8500 \n",
       "117 2020/3/16 11:30 本科      20000 \n",
       "118 2020/3/16 11:19 本科      30000 \n",
       "119 2020/3/16 11:19 本科      30000 \n",
       "120 2020/3/16 09:28 本科      18500 \n",
       "121 2020/3/16 10:09 本科      11500 \n",
       "122 2020/3/16 11:33 本科       5000 \n",
       "123 2020/3/16 11:21 本科      16000 \n",
       "124 2020/3/16 11:20 本科       4500 \n",
       "125 2020/3/16 10:00 本科      20000 \n",
       "126 2020/3/16 11:13 本科      12500 \n",
       "127 2020/3/16 11:12 本科       4000 \n",
       "128 2020/3/16 09:44 硕士      12500 \n",
       "129 2020/3/16 10:57 本科      22500 \n",
       "130 2020/3/16 09:46 本科      20000 \n",
       "131 2020/3/16 11:36 本科      14000 \n",
       "132 2020/3/16 09:54 硕士      37500 \n",
       "133 2020/3/16 10:48 本科      30000 \n",
       "134 2020/3/16 10:46 本科      19000 \n",
       "135 2020/3/16 11:19 本科      30000 "
      ]
     },
     "metadata": {},
     "output_type": "display_data"
    }
   ],
   "source": [
    "library(stringr)\n",
    "df$salary <- df$salary %>%\n",
    "  str_replace_all('k','') %>%\n",
    "  str_split('-',simplify = T) %>%\n",
    "  apply(2,as.numeric) %>%\n",
    "  rowMeans() * 1000\n",
    "df"
   ]
  },
  {
   "cell_type": "markdown",
   "metadata": {
    "collapsed": true,
    "deletable": true,
    "editable": true
   },
   "source": [
    "### 24.将数据根据学历进行分组并计算平均薪资"
   ]
  },
  {
   "cell_type": "code",
   "execution_count": 14,
   "metadata": {
    "collapsed": false,
    "deletable": true,
    "editable": true
   },
   "outputs": [
    {
     "name": "stderr",
     "output_type": "stream",
     "text": [
      "\n",
      "Attaching package: ‘dplyr’\n",
      "\n",
      "The following objects are masked from ‘package:stats’:\n",
      "\n",
      "    filter, lag\n",
      "\n",
      "The following objects are masked from ‘package:base’:\n",
      "\n",
      "    intersect, setdiff, setequal, union\n",
      "\n"
     ]
    },
    {
     "data": {
      "text/html": [
       "<table>\n",
       "<thead><tr><th scope=col>education</th><th scope=col>mean</th></tr></thead>\n",
       "<tbody>\n",
       "\t<tr><td>不限    </td><td>19600.00</td></tr>\n",
       "\t<tr><td>大专    </td><td>10000.00</td></tr>\n",
       "\t<tr><td>本科    </td><td>19361.34</td></tr>\n",
       "\t<tr><td>硕士    </td><td>20642.86</td></tr>\n",
       "</tbody>\n",
       "</table>\n"
      ],
      "text/latex": [
       "\\begin{tabular}{r|ll}\n",
       " education & mean\\\\\n",
       "\\hline\n",
       "\t 不限     & 19600.00\\\\\n",
       "\t 大专     & 10000.00\\\\\n",
       "\t 本科     & 19361.34\\\\\n",
       "\t 硕士     & 20642.86\\\\\n",
       "\\end{tabular}\n"
      ],
      "text/markdown": [
       "\n",
       "education | mean | \n",
       "|---|---|---|---|\n",
       "| 不限     | 19600.00 | \n",
       "| 大专     | 10000.00 | \n",
       "| 本科     | 19361.34 | \n",
       "| 硕士     | 20642.86 | \n",
       "\n",
       "\n"
      ],
      "text/plain": [
       "  education mean    \n",
       "1 不限      19600.00\n",
       "2 大专      10000.00\n",
       "3 本科      19361.34\n",
       "4 硕士      20642.86"
      ]
     },
     "metadata": {},
     "output_type": "display_data"
    }
   ],
   "source": [
    "library(dplyr)\n",
    "library(tibble)\n",
    "df %>%\n",
    "  group_by(education) %>%\n",
    "  summarise(mean = mean(salary))"
   ]
  },
  {
   "cell_type": "markdown",
   "metadata": {},
   "source": [
    "### 25.将createTime列时间转换为月-日"
   ]
  },
  {
   "cell_type": "code",
   "execution_count": null,
   "metadata": {
    "collapsed": true
   },
   "outputs": [],
   "source": [
    "#转化后该列属性是 字符串，R中对时间格式要求严格\n",
    "df$createTime <- as.Date(df$createTime) %>%\n",
    "  str_replace('2020-','')"
   ]
  },
  {
   "cell_type": "markdown",
   "metadata": {},
   "source": [
    "### 26.查看索引、数据类型和内存信息"
   ]
  },
  {
   "cell_type": "code",
   "execution_count": 21,
   "metadata": {
    "collapsed": false
   },
   "outputs": [
    {
     "name": "stdout",
     "output_type": "stream",
     "text": [
      "Classes ‘tbl_df’, ‘tbl’ and 'data.frame':\t135 obs. of  3 variables:\n",
      " $ ﻿createTime: chr  \"2020/3/16 11:30\" \"2020/3/16 10:58\" \"2020/3/16 10:46\" \"2020/3/16 10:45\" ...\n",
      " $ education : chr  \"本科\" \"本科\" \"不限\" \"本科\" ...\n",
      " $ salary    : num  27500 30000 27500 16500 15000 14000 23000 12500 7000 16000 ...\n",
      " - attr(*, \"spec\")=List of 2\n",
      "  ..$ cols   :List of 3\n",
      "  .. ..$ ﻿createTime: list()\n",
      "  .. .. ..- attr(*, \"class\")= chr  \"collector_character\" \"collector\"\n",
      "  .. ..$ education : list()\n",
      "  .. .. ..- attr(*, \"class\")= chr  \"collector_character\" \"collector\"\n",
      "  .. ..$ salary    : list()\n",
      "  .. .. ..- attr(*, \"class\")= chr  \"collector_character\" \"collector\"\n",
      "  ..$ default: list()\n",
      "  .. ..- attr(*, \"class\")= chr  \"collector_guess\" \"collector\"\n",
      "  ..- attr(*, \"class\")= chr \"col_spec\"\n"
     ]
    },
    {
     "data": {
      "text/plain": [
       "9.24 kB"
      ]
     },
     "metadata": {},
     "output_type": "display_data"
    }
   ],
   "source": [
    "str(df)\n",
    "\n",
    "# 内存查看需要用到其他的库\n",
    "library(pryr)\n",
    "object_size(df)\n",
    "# 6.66 kB"
   ]
  },
  {
   "cell_type": "markdown",
   "metadata": {},
   "source": [
    "### 27查看数值型列的汇总统计"
   ]
  },
  {
   "cell_type": "code",
   "execution_count": 22,
   "metadata": {
    "collapsed": false
   },
   "outputs": [
    {
     "data": {
      "text/plain": [
       "  ﻿createTime         education             salary     \n",
       " Length:135         Length:135         Min.   : 3500  \n",
       " Class :character   Class :character   1st Qu.:14000  \n",
       " Mode  :character   Mode  :character   Median :17500  \n",
       "                                       Mean   :19159  \n",
       "                                       3rd Qu.:25000  \n",
       "                                       Max.   :45000  "
      ]
     },
     "metadata": {},
     "output_type": "display_data"
    }
   ],
   "source": [
    "summary(df)"
   ]
  },
  {
   "cell_type": "markdown",
   "metadata": {},
   "source": [
    "### 28.新增一列根据salary将数据分为三组"
   ]
  },
  {
   "cell_type": "code",
   "execution_count": 28,
   "metadata": {
    "collapsed": false
   },
   "outputs": [],
   "source": [
    "#用ifelse也可以\n",
    "#底层原理有差别但实现结果一样\n",
    "df <- df %>%\n",
    "  mutate(categories = case_when(\n",
    "    df$salary >= 0 & df$salary < 5000 ~ '低',\n",
    "    df$salary >= 5000 & df$salary < 20000 ~ '低',\n",
    "    TRUE ~ '高'\n",
    "  ))"
   ]
  },
  {
   "cell_type": "markdown",
   "metadata": {},
   "source": [
    "### 29.按照salary列对数据降序排列"
   ]
  },
  {
   "cell_type": "code",
   "execution_count": 30,
   "metadata": {
    "collapsed": false
   },
   "outputs": [
    {
     "data": {
      "text/html": [
       "<table>\n",
       "<thead><tr><th scope=col>﻿createTime</th><th scope=col>education</th><th scope=col>salary</th><th scope=col>categories</th></tr></thead>\n",
       "<tbody>\n",
       "\t<tr><td>2020/3/16 11:30</td><td>本科           </td><td>45000          </td><td>高             </td></tr>\n",
       "\t<tr><td>2020/3/16 11:04</td><td>本科           </td><td>40000          </td><td>高             </td></tr>\n",
       "\t<tr><td>2020/3/16 10:36</td><td>本科           </td><td>37500          </td><td>高             </td></tr>\n",
       "\t<tr><td>2020/3/16 11:01</td><td>本科           </td><td>37500          </td><td>高             </td></tr>\n",
       "\t<tr><td>2020/3/16 09:54</td><td>硕士           </td><td>37500          </td><td>高             </td></tr>\n",
       "\t<tr><td>2020/3/16 11:01</td><td>本科           </td><td>35000          </td><td>高             </td></tr>\n",
       "\t<tr><td>2020/3/16 10:41</td><td>本科           </td><td>35000          </td><td>高             </td></tr>\n",
       "\t<tr><td>2020/3/16 10:41</td><td>本科           </td><td>35000          </td><td>高             </td></tr>\n",
       "\t<tr><td>2020/3/16 11:30</td><td>本科           </td><td>32500          </td><td>高             </td></tr>\n",
       "\t<tr><td>2020/3/16 10:58</td><td>本科           </td><td>30000          </td><td>高             </td></tr>\n",
       "\t<tr><td>2020/3/16 11:30</td><td>本科           </td><td>30000          </td><td>高             </td></tr>\n",
       "\t<tr><td>2020/3/15 12:14</td><td>本科           </td><td>30000          </td><td>高             </td></tr>\n",
       "\t<tr><td>2020/3/16 11:04</td><td>本科           </td><td>30000          </td><td>高             </td></tr>\n",
       "\t<tr><td>2020/3/16 11:04</td><td>本科           </td><td>30000          </td><td>高             </td></tr>\n",
       "\t<tr><td>2020/3/16 11:04</td><td>本科           </td><td>30000          </td><td>高             </td></tr>\n",
       "\t<tr><td>2020/3/16 11:04</td><td>本科           </td><td>30000          </td><td>高             </td></tr>\n",
       "\t<tr><td>2020/3/16 11:01</td><td>不限           </td><td>30000          </td><td>高             </td></tr>\n",
       "\t<tr><td>2020/3/16 11:35</td><td>本科           </td><td>30000          </td><td>高             </td></tr>\n",
       "\t<tr><td>2020/3/16 11:30</td><td>本科           </td><td>30000          </td><td>高             </td></tr>\n",
       "\t<tr><td>2020/3/16 11:16</td><td>本科           </td><td>30000          </td><td>高             </td></tr>\n",
       "\t<tr><td>2020/3/16 11:01</td><td>不限           </td><td>30000          </td><td>高             </td></tr>\n",
       "\t<tr><td>2020/3/16 10:43</td><td>本科           </td><td>30000          </td><td>高             </td></tr>\n",
       "\t<tr><td>2020/3/16 10:44</td><td>本科           </td><td>30000          </td><td>高             </td></tr>\n",
       "\t<tr><td>2020/3/16 10:27</td><td>本科           </td><td>30000          </td><td>高             </td></tr>\n",
       "\t<tr><td>2020/3/16 11:19</td><td>本科           </td><td>30000          </td><td>高             </td></tr>\n",
       "\t<tr><td>2020/3/16 11:19</td><td>本科           </td><td>30000          </td><td>高             </td></tr>\n",
       "\t<tr><td>2020/3/16 10:48</td><td>本科           </td><td>30000          </td><td>高             </td></tr>\n",
       "\t<tr><td>2020/3/16 11:19</td><td>本科           </td><td>30000          </td><td>高             </td></tr>\n",
       "\t<tr><td>2020/3/16 11:30</td><td>本科           </td><td>27500          </td><td>高             </td></tr>\n",
       "\t<tr><td>2020/3/16 10:46</td><td>不限           </td><td>27500          </td><td>高             </td></tr>\n",
       "\t<tr><td>...</td><td>...</td><td>...</td><td>...</td></tr>\n",
       "\t<tr><td>2020/3/16 10:52</td><td>硕士           </td><td>12500          </td><td>低             </td></tr>\n",
       "\t<tr><td>2020/3/16 11:01</td><td>本科           </td><td>12500          </td><td>低             </td></tr>\n",
       "\t<tr><td>2020/3/16 11:18</td><td>本科           </td><td>12500          </td><td>低             </td></tr>\n",
       "\t<tr><td>2020/3/16 11:35</td><td>本科           </td><td>12500          </td><td>低             </td></tr>\n",
       "\t<tr><td>2020/3/16 11:13</td><td>本科           </td><td>12500          </td><td>低             </td></tr>\n",
       "\t<tr><td>2020/3/16 11:13</td><td>本科           </td><td>12500          </td><td>低             </td></tr>\n",
       "\t<tr><td>2020/3/16 09:44</td><td>硕士           </td><td>12500          </td><td>低             </td></tr>\n",
       "\t<tr><td>2020/3/16 10:59</td><td>本科           </td><td>12000          </td><td>低             </td></tr>\n",
       "\t<tr><td>2020/3/16 10:59</td><td>本科           </td><td>12000          </td><td>低             </td></tr>\n",
       "\t<tr><td>2020/3/16 10:18</td><td>本科           </td><td>12000          </td><td>低             </td></tr>\n",
       "\t<tr><td>2020/3/16 11:00</td><td>本科           </td><td>11500          </td><td>低             </td></tr>\n",
       "\t<tr><td>2020/3/16 11:35</td><td>本科           </td><td>11500          </td><td>低             </td></tr>\n",
       "\t<tr><td>2020/3/16 10:09</td><td>本科           </td><td>11500          </td><td>低             </td></tr>\n",
       "\t<tr><td>2020/3/16 10:45</td><td>本科           </td><td>11000          </td><td>低             </td></tr>\n",
       "\t<tr><td>2020/3/16 09:30</td><td>本科           </td><td>10000          </td><td>低             </td></tr>\n",
       "\t<tr><td>2020/3/16 10:51</td><td>本科           </td><td> 9500          </td><td>低             </td></tr>\n",
       "\t<tr><td>2020/3/16 10:51</td><td>本科           </td><td> 9500          </td><td>低             </td></tr>\n",
       "\t<tr><td>2020/3/16 11:32</td><td>本科           </td><td> 8500          </td><td>低             </td></tr>\n",
       "\t<tr><td>2020/3/16 09:25</td><td>不限           </td><td> 7000          </td><td>低             </td></tr>\n",
       "\t<tr><td>2020/3/16 11:20</td><td>本科           </td><td> 6500          </td><td>低             </td></tr>\n",
       "\t<tr><td>2020/3/16 11:20</td><td>本科           </td><td> 6500          </td><td>低             </td></tr>\n",
       "\t<tr><td>2020/3/16 10:50</td><td>本科           </td><td> 5000          </td><td>低             </td></tr>\n",
       "\t<tr><td>2020/3/16 10:26</td><td>大专           </td><td> 5000          </td><td>低             </td></tr>\n",
       "\t<tr><td>2020/3/16 10:26</td><td>大专           </td><td> 5000          </td><td>低             </td></tr>\n",
       "\t<tr><td>2020/3/16 11:33</td><td>本科           </td><td> 5000          </td><td>低             </td></tr>\n",
       "\t<tr><td>2020/3/16 11:20</td><td>本科           </td><td> 4500          </td><td>低             </td></tr>\n",
       "\t<tr><td>2020/3/16 11:12</td><td>本科           </td><td> 4000          </td><td>低             </td></tr>\n",
       "\t<tr><td>2020/3/16 11:12</td><td>本科           </td><td> 4000          </td><td>低             </td></tr>\n",
       "\t<tr><td>2020/3/16 10:44</td><td>不限           </td><td> 3500          </td><td>低             </td></tr>\n",
       "\t<tr><td>2020/3/16 10:48</td><td>本科           </td><td> 3500          </td><td>低             </td></tr>\n",
       "</tbody>\n",
       "</table>\n"
      ],
      "text/latex": [
       "\\begin{tabular}{r|llll}\n",
       " ﻿createTime & education & salary & categories\\\\\n",
       "\\hline\n",
       "\t 2020/3/16 11:30 & 本科            & 45000           & 高             \\\\\n",
       "\t 2020/3/16 11:04 & 本科            & 40000           & 高             \\\\\n",
       "\t 2020/3/16 10:36 & 本科            & 37500           & 高             \\\\\n",
       "\t 2020/3/16 11:01 & 本科            & 37500           & 高             \\\\\n",
       "\t 2020/3/16 09:54 & 硕士            & 37500           & 高             \\\\\n",
       "\t 2020/3/16 11:01 & 本科            & 35000           & 高             \\\\\n",
       "\t 2020/3/16 10:41 & 本科            & 35000           & 高             \\\\\n",
       "\t 2020/3/16 10:41 & 本科            & 35000           & 高             \\\\\n",
       "\t 2020/3/16 11:30 & 本科            & 32500           & 高             \\\\\n",
       "\t 2020/3/16 10:58 & 本科            & 30000           & 高             \\\\\n",
       "\t 2020/3/16 11:30 & 本科            & 30000           & 高             \\\\\n",
       "\t 2020/3/15 12:14 & 本科            & 30000           & 高             \\\\\n",
       "\t 2020/3/16 11:04 & 本科            & 30000           & 高             \\\\\n",
       "\t 2020/3/16 11:04 & 本科            & 30000           & 高             \\\\\n",
       "\t 2020/3/16 11:04 & 本科            & 30000           & 高             \\\\\n",
       "\t 2020/3/16 11:04 & 本科            & 30000           & 高             \\\\\n",
       "\t 2020/3/16 11:01 & 不限            & 30000           & 高             \\\\\n",
       "\t 2020/3/16 11:35 & 本科            & 30000           & 高             \\\\\n",
       "\t 2020/3/16 11:30 & 本科            & 30000           & 高             \\\\\n",
       "\t 2020/3/16 11:16 & 本科            & 30000           & 高             \\\\\n",
       "\t 2020/3/16 11:01 & 不限            & 30000           & 高             \\\\\n",
       "\t 2020/3/16 10:43 & 本科            & 30000           & 高             \\\\\n",
       "\t 2020/3/16 10:44 & 本科            & 30000           & 高             \\\\\n",
       "\t 2020/3/16 10:27 & 本科            & 30000           & 高             \\\\\n",
       "\t 2020/3/16 11:19 & 本科            & 30000           & 高             \\\\\n",
       "\t 2020/3/16 11:19 & 本科            & 30000           & 高             \\\\\n",
       "\t 2020/3/16 10:48 & 本科            & 30000           & 高             \\\\\n",
       "\t 2020/3/16 11:19 & 本科            & 30000           & 高             \\\\\n",
       "\t 2020/3/16 11:30 & 本科            & 27500           & 高             \\\\\n",
       "\t 2020/3/16 10:46 & 不限            & 27500           & 高             \\\\\n",
       "\t ... & ... & ... & ...\\\\\n",
       "\t 2020/3/16 10:52 & 硕士            & 12500           & 低             \\\\\n",
       "\t 2020/3/16 11:01 & 本科            & 12500           & 低             \\\\\n",
       "\t 2020/3/16 11:18 & 本科            & 12500           & 低             \\\\\n",
       "\t 2020/3/16 11:35 & 本科            & 12500           & 低             \\\\\n",
       "\t 2020/3/16 11:13 & 本科            & 12500           & 低             \\\\\n",
       "\t 2020/3/16 11:13 & 本科            & 12500           & 低             \\\\\n",
       "\t 2020/3/16 09:44 & 硕士            & 12500           & 低             \\\\\n",
       "\t 2020/3/16 10:59 & 本科            & 12000           & 低             \\\\\n",
       "\t 2020/3/16 10:59 & 本科            & 12000           & 低             \\\\\n",
       "\t 2020/3/16 10:18 & 本科            & 12000           & 低             \\\\\n",
       "\t 2020/3/16 11:00 & 本科            & 11500           & 低             \\\\\n",
       "\t 2020/3/16 11:35 & 本科            & 11500           & 低             \\\\\n",
       "\t 2020/3/16 10:09 & 本科            & 11500           & 低             \\\\\n",
       "\t 2020/3/16 10:45 & 本科            & 11000           & 低             \\\\\n",
       "\t 2020/3/16 09:30 & 本科            & 10000           & 低             \\\\\n",
       "\t 2020/3/16 10:51 & 本科            &  9500           & 低             \\\\\n",
       "\t 2020/3/16 10:51 & 本科            &  9500           & 低             \\\\\n",
       "\t 2020/3/16 11:32 & 本科            &  8500           & 低             \\\\\n",
       "\t 2020/3/16 09:25 & 不限            &  7000           & 低             \\\\\n",
       "\t 2020/3/16 11:20 & 本科            &  6500           & 低             \\\\\n",
       "\t 2020/3/16 11:20 & 本科            &  6500           & 低             \\\\\n",
       "\t 2020/3/16 10:50 & 本科            &  5000           & 低             \\\\\n",
       "\t 2020/3/16 10:26 & 大专            &  5000           & 低             \\\\\n",
       "\t 2020/3/16 10:26 & 大专            &  5000           & 低             \\\\\n",
       "\t 2020/3/16 11:33 & 本科            &  5000           & 低             \\\\\n",
       "\t 2020/3/16 11:20 & 本科            &  4500           & 低             \\\\\n",
       "\t 2020/3/16 11:12 & 本科            &  4000           & 低             \\\\\n",
       "\t 2020/3/16 11:12 & 本科            &  4000           & 低             \\\\\n",
       "\t 2020/3/16 10:44 & 不限            &  3500           & 低             \\\\\n",
       "\t 2020/3/16 10:48 & 本科            &  3500           & 低             \\\\\n",
       "\\end{tabular}\n"
      ],
      "text/markdown": [
       "\n",
       "﻿createTime | education | salary | categories | \n",
       "|---|---|---|---|---|---|---|---|---|---|---|---|---|---|---|---|---|---|---|---|---|---|---|---|---|---|---|---|---|---|---|---|---|---|---|---|---|---|---|---|---|---|---|---|---|---|---|---|---|---|---|---|---|---|---|---|---|---|---|---|---|\n",
       "| 2020/3/16 11:30 | 本科            | 45000           | 高              | \n",
       "| 2020/3/16 11:04 | 本科            | 40000           | 高              | \n",
       "| 2020/3/16 10:36 | 本科            | 37500           | 高              | \n",
       "| 2020/3/16 11:01 | 本科            | 37500           | 高              | \n",
       "| 2020/3/16 09:54 | 硕士            | 37500           | 高              | \n",
       "| 2020/3/16 11:01 | 本科            | 35000           | 高              | \n",
       "| 2020/3/16 10:41 | 本科            | 35000           | 高              | \n",
       "| 2020/3/16 10:41 | 本科            | 35000           | 高              | \n",
       "| 2020/3/16 11:30 | 本科            | 32500           | 高              | \n",
       "| 2020/3/16 10:58 | 本科            | 30000           | 高              | \n",
       "| 2020/3/16 11:30 | 本科            | 30000           | 高              | \n",
       "| 2020/3/15 12:14 | 本科            | 30000           | 高              | \n",
       "| 2020/3/16 11:04 | 本科            | 30000           | 高              | \n",
       "| 2020/3/16 11:04 | 本科            | 30000           | 高              | \n",
       "| 2020/3/16 11:04 | 本科            | 30000           | 高              | \n",
       "| 2020/3/16 11:04 | 本科            | 30000           | 高              | \n",
       "| 2020/3/16 11:01 | 不限            | 30000           | 高              | \n",
       "| 2020/3/16 11:35 | 本科            | 30000           | 高              | \n",
       "| 2020/3/16 11:30 | 本科            | 30000           | 高              | \n",
       "| 2020/3/16 11:16 | 本科            | 30000           | 高              | \n",
       "| 2020/3/16 11:01 | 不限            | 30000           | 高              | \n",
       "| 2020/3/16 10:43 | 本科            | 30000           | 高              | \n",
       "| 2020/3/16 10:44 | 本科            | 30000           | 高              | \n",
       "| 2020/3/16 10:27 | 本科            | 30000           | 高              | \n",
       "| 2020/3/16 11:19 | 本科            | 30000           | 高              | \n",
       "| 2020/3/16 11:19 | 本科            | 30000           | 高              | \n",
       "| 2020/3/16 10:48 | 本科            | 30000           | 高              | \n",
       "| 2020/3/16 11:19 | 本科            | 30000           | 高              | \n",
       "| 2020/3/16 11:30 | 本科            | 27500           | 高              | \n",
       "| 2020/3/16 10:46 | 不限            | 27500           | 高              | \n",
       "| ... | ... | ... | ... | \n",
       "| 2020/3/16 10:52 | 硕士            | 12500           | 低              | \n",
       "| 2020/3/16 11:01 | 本科            | 12500           | 低              | \n",
       "| 2020/3/16 11:18 | 本科            | 12500           | 低              | \n",
       "| 2020/3/16 11:35 | 本科            | 12500           | 低              | \n",
       "| 2020/3/16 11:13 | 本科            | 12500           | 低              | \n",
       "| 2020/3/16 11:13 | 本科            | 12500           | 低              | \n",
       "| 2020/3/16 09:44 | 硕士            | 12500           | 低              | \n",
       "| 2020/3/16 10:59 | 本科            | 12000           | 低              | \n",
       "| 2020/3/16 10:59 | 本科            | 12000           | 低              | \n",
       "| 2020/3/16 10:18 | 本科            | 12000           | 低              | \n",
       "| 2020/3/16 11:00 | 本科            | 11500           | 低              | \n",
       "| 2020/3/16 11:35 | 本科            | 11500           | 低              | \n",
       "| 2020/3/16 10:09 | 本科            | 11500           | 低              | \n",
       "| 2020/3/16 10:45 | 本科            | 11000           | 低              | \n",
       "| 2020/3/16 09:30 | 本科            | 10000           | 低              | \n",
       "| 2020/3/16 10:51 | 本科            |  9500           | 低              | \n",
       "| 2020/3/16 10:51 | 本科            |  9500           | 低              | \n",
       "| 2020/3/16 11:32 | 本科            |  8500           | 低              | \n",
       "| 2020/3/16 09:25 | 不限            |  7000           | 低              | \n",
       "| 2020/3/16 11:20 | 本科            |  6500           | 低              | \n",
       "| 2020/3/16 11:20 | 本科            |  6500           | 低              | \n",
       "| 2020/3/16 10:50 | 本科            |  5000           | 低              | \n",
       "| 2020/3/16 10:26 | 大专            |  5000           | 低              | \n",
       "| 2020/3/16 10:26 | 大专            |  5000           | 低              | \n",
       "| 2020/3/16 11:33 | 本科            |  5000           | 低              | \n",
       "| 2020/3/16 11:20 | 本科            |  4500           | 低              | \n",
       "| 2020/3/16 11:12 | 本科            |  4000           | 低              | \n",
       "| 2020/3/16 11:12 | 本科            |  4000           | 低              | \n",
       "| 2020/3/16 10:44 | 不限            |  3500           | 低              | \n",
       "| 2020/3/16 10:48 | 本科            |  3500           | 低              | \n",
       "\n",
       "\n"
      ],
      "text/plain": [
       "    ﻿createTime      education salary categories\n",
       "1   2020/3/16 11:30 本科      45000  高        \n",
       "2   2020/3/16 11:04 本科      40000  高        \n",
       "3   2020/3/16 10:36 本科      37500  高        \n",
       "4   2020/3/16 11:01 本科      37500  高        \n",
       "5   2020/3/16 09:54 硕士      37500  高        \n",
       "6   2020/3/16 11:01 本科      35000  高        \n",
       "7   2020/3/16 10:41 本科      35000  高        \n",
       "8   2020/3/16 10:41 本科      35000  高        \n",
       "9   2020/3/16 11:30 本科      32500  高        \n",
       "10  2020/3/16 10:58 本科      30000  高        \n",
       "11  2020/3/16 11:30 本科      30000  高        \n",
       "12  2020/3/15 12:14 本科      30000  高        \n",
       "13  2020/3/16 11:04 本科      30000  高        \n",
       "14  2020/3/16 11:04 本科      30000  高        \n",
       "15  2020/3/16 11:04 本科      30000  高        \n",
       "16  2020/3/16 11:04 本科      30000  高        \n",
       "17  2020/3/16 11:01 不限      30000  高        \n",
       "18  2020/3/16 11:35 本科      30000  高        \n",
       "19  2020/3/16 11:30 本科      30000  高        \n",
       "20  2020/3/16 11:16 本科      30000  高        \n",
       "21  2020/3/16 11:01 不限      30000  高        \n",
       "22  2020/3/16 10:43 本科      30000  高        \n",
       "23  2020/3/16 10:44 本科      30000  高        \n",
       "24  2020/3/16 10:27 本科      30000  高        \n",
       "25  2020/3/16 11:19 本科      30000  高        \n",
       "26  2020/3/16 11:19 本科      30000  高        \n",
       "27  2020/3/16 10:48 本科      30000  高        \n",
       "28  2020/3/16 11:19 本科      30000  高        \n",
       "29  2020/3/16 11:30 本科      27500  高        \n",
       "30  2020/3/16 10:46 不限      27500  高        \n",
       "... ...             ...       ...    ...       \n",
       "106 2020/3/16 10:52 硕士      12500  低        \n",
       "107 2020/3/16 11:01 本科      12500  低        \n",
       "108 2020/3/16 11:18 本科      12500  低        \n",
       "109 2020/3/16 11:35 本科      12500  低        \n",
       "110 2020/3/16 11:13 本科      12500  低        \n",
       "111 2020/3/16 11:13 本科      12500  低        \n",
       "112 2020/3/16 09:44 硕士      12500  低        \n",
       "113 2020/3/16 10:59 本科      12000  低        \n",
       "114 2020/3/16 10:59 本科      12000  低        \n",
       "115 2020/3/16 10:18 本科      12000  低        \n",
       "116 2020/3/16 11:00 本科      11500  低        \n",
       "117 2020/3/16 11:35 本科      11500  低        \n",
       "118 2020/3/16 10:09 本科      11500  低        \n",
       "119 2020/3/16 10:45 本科      11000  低        \n",
       "120 2020/3/16 09:30 本科      10000  低        \n",
       "121 2020/3/16 10:51 本科       9500  低        \n",
       "122 2020/3/16 10:51 本科       9500  低        \n",
       "123 2020/3/16 11:32 本科       8500  低        \n",
       "124 2020/3/16 09:25 不限       7000  低        \n",
       "125 2020/3/16 11:20 本科       6500  低        \n",
       "126 2020/3/16 11:20 本科       6500  低        \n",
       "127 2020/3/16 10:50 本科       5000  低        \n",
       "128 2020/3/16 10:26 大专       5000  低        \n",
       "129 2020/3/16 10:26 大专       5000  低        \n",
       "130 2020/3/16 11:33 本科       5000  低        \n",
       "131 2020/3/16 11:20 本科       4500  低        \n",
       "132 2020/3/16 11:12 本科       4000  低        \n",
       "133 2020/3/16 11:12 本科       4000  低        \n",
       "134 2020/3/16 10:44 不限       3500  低        \n",
       "135 2020/3/16 10:48 本科       3500  低        "
      ]
     },
     "metadata": {},
     "output_type": "display_data"
    }
   ],
   "source": [
    "df %>%\n",
    "  arrange(desc(salary))"
   ]
  },
  {
   "cell_type": "markdown",
   "metadata": {},
   "source": [
    "### 30.取出第33行数据"
   ]
  },
  {
   "cell_type": "code",
   "execution_count": 31,
   "metadata": {
    "collapsed": false
   },
   "outputs": [
    {
     "data": {
      "text/html": [
       "<table>\n",
       "<thead><tr><th scope=col>﻿createTime</th><th scope=col>education</th><th scope=col>salary</th><th scope=col>categories</th></tr></thead>\n",
       "<tbody>\n",
       "\t<tr><td>2020/3/16 10:07</td><td>硕士           </td><td>22500          </td><td>高             </td></tr>\n",
       "</tbody>\n",
       "</table>\n"
      ],
      "text/latex": [
       "\\begin{tabular}{r|llll}\n",
       " ﻿createTime & education & salary & categories\\\\\n",
       "\\hline\n",
       "\t 2020/3/16 10:07 & 硕士            & 22500           & 高             \\\\\n",
       "\\end{tabular}\n"
      ],
      "text/markdown": [
       "\n",
       "﻿createTime | education | salary | categories | \n",
       "|---|\n",
       "| 2020/3/16 10:07 | 硕士            | 22500           | 高              | \n",
       "\n",
       "\n"
      ],
      "text/plain": [
       "  ﻿createTime      education salary categories\n",
       "1 2020/3/16 10:07 硕士      22500  高        "
      ]
     },
     "metadata": {},
     "output_type": "display_data"
    }
   ],
   "source": [
    "df[33,]"
   ]
  },
  {
   "cell_type": "markdown",
   "metadata": {},
   "source": [
    "### 31.计算salary列的中位数"
   ]
  },
  {
   "cell_type": "code",
   "execution_count": 32,
   "metadata": {
    "collapsed": false
   },
   "outputs": [
    {
     "data": {
      "text/html": [
       "17500"
      ],
      "text/latex": [
       "17500"
      ],
      "text/markdown": [
       "17500"
      ],
      "text/plain": [
       "[1] 17500"
      ]
     },
     "metadata": {},
     "output_type": "display_data"
    }
   ],
   "source": [
    "median(df$salary)"
   ]
  },
  {
   "cell_type": "markdown",
   "metadata": {},
   "source": [
    "### 32.绘制薪资水平频率分布直方图"
   ]
  },
  {
   "cell_type": "code",
   "execution_count": 36,
   "metadata": {
    "collapsed": false,
    "scrolled": true
   },
   "outputs": [
    {
     "data": {},
     "metadata": {},
     "output_type": "display_data"
    },
    {
     "data": {
      "image/png": "[encoded data removed]",
      "text/plain": [
       "plot without title"
      ]
     },
     "metadata": {},
     "output_type": "display_data"
    }
   ],
   "source": [
    "library(ggplot2)\n",
    "\n",
    "df %>%\n",
    "  ggplot(aes(salary)) +\n",
    "  geom_histogram(bins = 10) # 这个跟python的bins一致\n"
   ]
  },
  {
   "cell_type": "markdown",
   "metadata": {},
   "source": [
    "### 32绘制薪资水平密度曲线"
   ]
  },
  {
   "cell_type": "code",
   "execution_count": 35,
   "metadata": {
    "collapsed": false,
    "scrolled": true
   },
   "outputs": [
    {
     "data": {},
     "metadata": {},
     "output_type": "display_data"
    },
    {
     "data": {
      "image/png": "[encoded data removed]",
      "text/plain": [
       "plot without title"
      ]
     },
     "metadata": {},
     "output_type": "display_data"
    }
   ],
   "source": [
    "df %>%\n",
    "  ggplot(aes(salary)) +\n",
    "  geom_density() +\n",
    "  xlim(c(0,70000))"
   ]
  },
  {
   "cell_type": "markdown",
   "metadata": {},
   "source": [
    "### 34删除最后一列categories"
   ]
  },
  {
   "cell_type": "code",
   "execution_count": 38,
   "metadata": {
    "collapsed": true
   },
   "outputs": [],
   "source": [
    "df <- df[,-4]"
   ]
  },
  {
   "cell_type": "markdown",
   "metadata": {},
   "source": [
    "### 35将df的第一列与第二列合并为新的一列"
   ]
  },
  {
   "cell_type": "code",
   "execution_count": 40,
   "metadata": {
    "collapsed": false
   },
   "outputs": [
    {
     "name": "stderr",
     "output_type": "stream",
     "text": [
      "Warning message:\n",
      "“Unknown column 'createTime'”"
     ]
    }
   ],
   "source": [
    "df <- df %>%\n",
    "  mutate(test = paste0(df$education,df$createTime))\n"
   ]
  },
  {
   "cell_type": "markdown",
   "metadata": {},
   "source": [
    "### 36将education列与salary列合并为新的一列\n",
    "备注：salary为int类型，操作与35题有所不同"
   ]
  },
  {
   "cell_type": "code",
   "execution_count": 42,
   "metadata": {
    "collapsed": true
   },
   "outputs": [],
   "source": [
    "df <- df %>%\n",
    "  mutate(test1 =\n",
    "           paste0(df$salary,df$education))"
   ]
  },
  {
   "cell_type": "markdown",
   "metadata": {},
   "source": [
    "### 37.计算salary最大值与最小值之差"
   ]
  },
  {
   "cell_type": "code",
   "execution_count": 44,
   "metadata": {
    "collapsed": false
   },
   "outputs": [
    {
     "data": {
      "text/html": [
       "<strong>delta:</strong> 41500"
      ],
      "text/latex": [
       "\\textbf{delta:} 41500"
      ],
      "text/markdown": [
       "**delta:** 41500"
      ],
      "text/plain": [
       "delta \n",
       "41500 "
      ]
     },
     "metadata": {},
     "output_type": "display_data"
    }
   ],
   "source": [
    "df %>%\n",
    "  summarise(delta = max(salary) - min(salary)) %>%\n",
    "  unlist()"
   ]
  },
  {
   "cell_type": "markdown",
   "metadata": {
    "collapsed": true,
    "deletable": true,
    "editable": true
   },
   "source": [
    "### 38.将第一行与最后一行拼接"
   ]
  },
  {
   "cell_type": "code",
   "execution_count": 45,
   "metadata": {
    "collapsed": false
   },
   "outputs": [
    {
     "data": {
      "text/html": [
       "<table>\n",
       "<thead><tr><th scope=col>﻿createTime</th><th scope=col>education</th><th scope=col>salary</th><th scope=col>test</th><th scope=col>test1</th></tr></thead>\n",
       "<tbody>\n",
       "\t<tr><td>2020/3/16 11:30</td><td>本科           </td><td>27500          </td><td>本科           </td><td>27500本科      </td></tr>\n",
       "\t<tr><td>2020/3/16 11:19</td><td>本科           </td><td>30000          </td><td>本科           </td><td>30000本科      </td></tr>\n",
       "</tbody>\n",
       "</table>\n"
      ],
      "text/latex": [
       "\\begin{tabular}{r|lllll}\n",
       " ﻿createTime & education & salary & test & test1\\\\\n",
       "\\hline\n",
       "\t 2020/3/16 11:30 & 本科            & 27500           & 本科            & 27500本科      \\\\\n",
       "\t 2020/3/16 11:19 & 本科            & 30000           & 本科            & 30000本科      \\\\\n",
       "\\end{tabular}\n"
      ],
      "text/markdown": [
       "\n",
       "﻿createTime | education | salary | test | test1 | \n",
       "|---|---|\n",
       "| 2020/3/16 11:30 | 本科            | 27500           | 本科            | 27500本科       | \n",
       "| 2020/3/16 11:19 | 本科            | 30000           | 本科            | 30000本科       | \n",
       "\n",
       "\n"
      ],
      "text/plain": [
       "  ﻿createTime      education salary test test1    \n",
       "1 2020/3/16 11:30 本科      27500  本科 27500本科\n",
       "2 2020/3/16 11:19 本科      30000  本科 30000本科"
      ]
     },
     "metadata": {},
     "output_type": "display_data"
    }
   ],
   "source": [
    "rbind(df[1,],df[dim(df)[1],])"
   ]
  },
  {
   "cell_type": "markdown",
   "metadata": {},
   "source": [
    "### 39.将第8行数据添加至末尾"
   ]
  },
  {
   "cell_type": "code",
   "execution_count": 46,
   "metadata": {
    "collapsed": false
   },
   "outputs": [
    {
     "data": {
      "text/html": [
       "<table>\n",
       "<thead><tr><th scope=col>﻿createTime</th><th scope=col>education</th><th scope=col>salary</th><th scope=col>test</th><th scope=col>test1</th></tr></thead>\n",
       "<tbody>\n",
       "\t<tr><td>2020/3/16 11:30</td><td>本科           </td><td>27500          </td><td>本科           </td><td>27500本科      </td></tr>\n",
       "\t<tr><td>2020/3/16 10:58</td><td>本科           </td><td>30000          </td><td>本科           </td><td>30000本科      </td></tr>\n",
       "\t<tr><td>2020/3/16 10:46</td><td>不限           </td><td>27500          </td><td>不限           </td><td>27500不限      </td></tr>\n",
       "\t<tr><td>2020/3/16 10:45</td><td>本科           </td><td>16500          </td><td>本科           </td><td>16500本科      </td></tr>\n",
       "\t<tr><td>2020/3/16 10:20</td><td>本科           </td><td>15000          </td><td>本科           </td><td>15000本科      </td></tr>\n",
       "\t<tr><td>2020/3/16 10:33</td><td>本科           </td><td>14000          </td><td>本科           </td><td>14000本科      </td></tr>\n",
       "\t<tr><td>2020/3/16 10:11</td><td>硕士           </td><td>23000          </td><td>硕士           </td><td>23000硕士      </td></tr>\n",
       "\t<tr><td>2020/3/16 09:49</td><td>本科           </td><td>12500          </td><td>本科           </td><td>12500本科      </td></tr>\n",
       "\t<tr><td>2020/3/16 09:25</td><td>不限           </td><td> 7000          </td><td>不限           </td><td>7000不限       </td></tr>\n",
       "\t<tr><td>2020/3/16 09:35</td><td>本科           </td><td>16000          </td><td>本科           </td><td>16000本科      </td></tr>\n",
       "\t<tr><td>2020/3/16 10:34</td><td>本科           </td><td>20000          </td><td>本科           </td><td>20000本科      </td></tr>\n",
       "\t<tr><td>2020/3/16 09:30</td><td>本科           </td><td>10000          </td><td>本科           </td><td>10000本科      </td></tr>\n",
       "\t<tr><td>2020/3/16 11:30</td><td>本科           </td><td>30000          </td><td>本科           </td><td>30000本科      </td></tr>\n",
       "\t<tr><td>2020/3/16 10:54</td><td>本科           </td><td>25000          </td><td>本科           </td><td>25000本科      </td></tr>\n",
       "\t<tr><td>2020/3/15 12:14</td><td>本科           </td><td>30000          </td><td>本科           </td><td>30000本科      </td></tr>\n",
       "\t<tr><td>2020/3/16 10:52</td><td>硕士           </td><td>12500          </td><td>硕士           </td><td>12500硕士      </td></tr>\n",
       "\t<tr><td>2020/3/16 10:36</td><td>本科           </td><td>37500          </td><td>本科           </td><td>37500本科      </td></tr>\n",
       "\t<tr><td>2020/3/16 11:01</td><td>本科           </td><td>12500          </td><td>本科           </td><td>12500本科      </td></tr>\n",
       "\t<tr><td>2020/3/16 11:01</td><td>本科           </td><td>35000          </td><td>本科           </td><td>35000本科      </td></tr>\n",
       "\t<tr><td>2020/3/16 11:03</td><td>本科           </td><td>20000          </td><td>本科           </td><td>20000本科      </td></tr>\n",
       "\t<tr><td>2020/3/16 11:00</td><td>本科           </td><td>11500          </td><td>本科           </td><td>11500本科      </td></tr>\n",
       "\t<tr><td>2020/3/16 11:04</td><td>本科           </td><td>30000          </td><td>本科           </td><td>30000本科      </td></tr>\n",
       "\t<tr><td>2020/3/16 11:30</td><td>本科           </td><td>20000          </td><td>本科           </td><td>20000本科      </td></tr>\n",
       "\t<tr><td>2020/3/16 11:02</td><td>本科           </td><td>22500          </td><td>本科           </td><td>22500本科      </td></tr>\n",
       "\t<tr><td>2020/3/16 11:01</td><td>本科           </td><td>17500          </td><td>本科           </td><td>17500本科      </td></tr>\n",
       "\t<tr><td>2020/3/16 11:19</td><td>本科           </td><td>15000          </td><td>本科           </td><td>15000本科      </td></tr>\n",
       "\t<tr><td>2020/3/16 11:04</td><td>本科           </td><td>30000          </td><td>本科           </td><td>30000本科      </td></tr>\n",
       "\t<tr><td>2020/3/16 11:04</td><td>本科           </td><td>30000          </td><td>本科           </td><td>30000本科      </td></tr>\n",
       "\t<tr><td>2020/3/16 11:30</td><td>本科           </td><td>20000          </td><td>本科           </td><td>20000本科      </td></tr>\n",
       "\t<tr><td>2020/3/16 10:27</td><td>本科           </td><td>17500          </td><td>本科           </td><td>17500本科      </td></tr>\n",
       "\t<tr><td>...</td><td>...</td><td>...</td><td>...</td><td>...</td></tr>\n",
       "\t<tr><td>2020/3/16 10:21</td><td>大专           </td><td>15000          </td><td>大专           </td><td>15000大专      </td></tr>\n",
       "\t<tr><td>2020/3/16 10:59</td><td>本科           </td><td>16000          </td><td>本科           </td><td>16000本科      </td></tr>\n",
       "\t<tr><td>2020/3/16 11:13</td><td>本科           </td><td>12500          </td><td>本科           </td><td>12500本科      </td></tr>\n",
       "\t<tr><td>2020/3/16 10:26</td><td>大专           </td><td> 5000          </td><td>大专           </td><td>5000大专       </td></tr>\n",
       "\t<tr><td>2020/3/16 11:12</td><td>本科           </td><td> 4000          </td><td>本科           </td><td>4000本科       </td></tr>\n",
       "\t<tr><td>2020/3/16 10:52</td><td>本科           </td><td>16000          </td><td>本科           </td><td>16000本科      </td></tr>\n",
       "\t<tr><td>2020/3/16 11:13</td><td>本科           </td><td>26500          </td><td>本科           </td><td>26500本科      </td></tr>\n",
       "\t<tr><td>2020/3/16 10:48</td><td>本科           </td><td> 3500          </td><td>本科           </td><td>3500本科       </td></tr>\n",
       "\t<tr><td>2020/3/16 10:43</td><td>本科           </td><td>14000          </td><td>本科           </td><td>14000本科      </td></tr>\n",
       "\t<tr><td>2020/3/16 11:32</td><td>本科           </td><td> 8500          </td><td>本科           </td><td>8500本科       </td></tr>\n",
       "\t<tr><td>2020/3/16 11:30</td><td>本科           </td><td>20000          </td><td>本科           </td><td>20000本科      </td></tr>\n",
       "\t<tr><td>2020/3/16 11:19</td><td>本科           </td><td>30000          </td><td>本科           </td><td>30000本科      </td></tr>\n",
       "\t<tr><td>2020/3/16 11:19</td><td>本科           </td><td>30000          </td><td>本科           </td><td>30000本科      </td></tr>\n",
       "\t<tr><td>2020/3/16 09:28</td><td>本科           </td><td>18500          </td><td>本科           </td><td>18500本科      </td></tr>\n",
       "\t<tr><td>2020/3/16 10:09</td><td>本科           </td><td>11500          </td><td>本科           </td><td>11500本科      </td></tr>\n",
       "\t<tr><td>2020/3/16 11:33</td><td>本科           </td><td> 5000          </td><td>本科           </td><td>5000本科       </td></tr>\n",
       "\t<tr><td>2020/3/16 11:21</td><td>本科           </td><td>16000          </td><td>本科           </td><td>16000本科      </td></tr>\n",
       "\t<tr><td>2020/3/16 11:20</td><td>本科           </td><td> 4500          </td><td>本科           </td><td>4500本科       </td></tr>\n",
       "\t<tr><td>2020/3/16 10:00</td><td>本科           </td><td>20000          </td><td>本科           </td><td>20000本科      </td></tr>\n",
       "\t<tr><td>2020/3/16 11:13</td><td>本科           </td><td>12500          </td><td>本科           </td><td>12500本科      </td></tr>\n",
       "\t<tr><td>2020/3/16 11:12</td><td>本科           </td><td> 4000          </td><td>本科           </td><td>4000本科       </td></tr>\n",
       "\t<tr><td>2020/3/16 09:44</td><td>硕士           </td><td>12500          </td><td>硕士           </td><td>12500硕士      </td></tr>\n",
       "\t<tr><td>2020/3/16 10:57</td><td>本科           </td><td>22500          </td><td>本科           </td><td>22500本科      </td></tr>\n",
       "\t<tr><td>2020/3/16 09:46</td><td>本科           </td><td>20000          </td><td>本科           </td><td>20000本科      </td></tr>\n",
       "\t<tr><td>2020/3/16 11:36</td><td>本科           </td><td>14000          </td><td>本科           </td><td>14000本科      </td></tr>\n",
       "\t<tr><td>2020/3/16 09:54</td><td>硕士           </td><td>37500          </td><td>硕士           </td><td>37500硕士      </td></tr>\n",
       "\t<tr><td>2020/3/16 10:48</td><td>本科           </td><td>30000          </td><td>本科           </td><td>30000本科      </td></tr>\n",
       "\t<tr><td>2020/3/16 10:46</td><td>本科           </td><td>19000          </td><td>本科           </td><td>19000本科      </td></tr>\n",
       "\t<tr><td>2020/3/16 11:19</td><td>本科           </td><td>30000          </td><td>本科           </td><td>30000本科      </td></tr>\n",
       "\t<tr><td>2020/3/16 09:49</td><td>本科           </td><td>12500          </td><td>本科           </td><td>12500本科      </td></tr>\n",
       "</tbody>\n",
       "</table>\n"
      ],
      "text/latex": [
       "\\begin{tabular}{r|lllll}\n",
       " ﻿createTime & education & salary & test & test1\\\\\n",
       "\\hline\n",
       "\t 2020/3/16 11:30 & 本科            & 27500           & 本科            & 27500本科      \\\\\n",
       "\t 2020/3/16 10:58 & 本科            & 30000           & 本科            & 30000本科      \\\\\n",
       "\t 2020/3/16 10:46 & 不限            & 27500           & 不限            & 27500不限      \\\\\n",
       "\t 2020/3/16 10:45 & 本科            & 16500           & 本科            & 16500本科      \\\\\n",
       "\t 2020/3/16 10:20 & 本科            & 15000           & 本科            & 15000本科      \\\\\n",
       "\t 2020/3/16 10:33 & 本科            & 14000           & 本科            & 14000本科      \\\\\n",
       "\t 2020/3/16 10:11 & 硕士            & 23000           & 硕士            & 23000硕士      \\\\\n",
       "\t 2020/3/16 09:49 & 本科            & 12500           & 本科            & 12500本科      \\\\\n",
       "\t 2020/3/16 09:25 & 不限            &  7000           & 不限            & 7000不限       \\\\\n",
       "\t 2020/3/16 09:35 & 本科            & 16000           & 本科            & 16000本科      \\\\\n",
       "\t 2020/3/16 10:34 & 本科            & 20000           & 本科            & 20000本科      \\\\\n",
       "\t 2020/3/16 09:30 & 本科            & 10000           & 本科            & 10000本科      \\\\\n",
       "\t 2020/3/16 11:30 & 本科            & 30000           & 本科            & 30000本科      \\\\\n",
       "\t 2020/3/16 10:54 & 本科            & 25000           & 本科            & 25000本科      \\\\\n",
       "\t 2020/3/15 12:14 & 本科            & 30000           & 本科            & 30000本科      \\\\\n",
       "\t 2020/3/16 10:52 & 硕士            & 12500           & 硕士            & 12500硕士      \\\\\n",
       "\t 2020/3/16 10:36 & 本科            & 37500           & 本科            & 37500本科      \\\\\n",
       "\t 2020/3/16 11:01 & 本科            & 12500           & 本科            & 12500本科      \\\\\n",
       "\t 2020/3/16 11:01 & 本科            & 35000           & 本科            & 35000本科      \\\\\n",
       "\t 2020/3/16 11:03 & 本科            & 20000           & 本科            & 20000本科      \\\\\n",
       "\t 2020/3/16 11:00 & 本科            & 11500           & 本科            & 11500本科      \\\\\n",
       "\t 2020/3/16 11:04 & 本科            & 30000           & 本科            & 30000本科      \\\\\n",
       "\t 2020/3/16 11:30 & 本科            & 20000           & 本科            & 20000本科      \\\\\n",
       "\t 2020/3/16 11:02 & 本科            & 22500           & 本科            & 22500本科      \\\\\n",
       "\t 2020/3/16 11:01 & 本科            & 17500           & 本科            & 17500本科      \\\\\n",
       "\t 2020/3/16 11:19 & 本科            & 15000           & 本科            & 15000本科      \\\\\n",
       "\t 2020/3/16 11:04 & 本科            & 30000           & 本科            & 30000本科      \\\\\n",
       "\t 2020/3/16 11:04 & 本科            & 30000           & 本科            & 30000本科      \\\\\n",
       "\t 2020/3/16 11:30 & 本科            & 20000           & 本科            & 20000本科      \\\\\n",
       "\t 2020/3/16 10:27 & 本科            & 17500           & 本科            & 17500本科      \\\\\n",
       "\t ... & ... & ... & ... & ...\\\\\n",
       "\t 2020/3/16 10:21 & 大专            & 15000           & 大专            & 15000大专      \\\\\n",
       "\t 2020/3/16 10:59 & 本科            & 16000           & 本科            & 16000本科      \\\\\n",
       "\t 2020/3/16 11:13 & 本科            & 12500           & 本科            & 12500本科      \\\\\n",
       "\t 2020/3/16 10:26 & 大专            &  5000           & 大专            & 5000大专       \\\\\n",
       "\t 2020/3/16 11:12 & 本科            &  4000           & 本科            & 4000本科       \\\\\n",
       "\t 2020/3/16 10:52 & 本科            & 16000           & 本科            & 16000本科      \\\\\n",
       "\t 2020/3/16 11:13 & 本科            & 26500           & 本科            & 26500本科      \\\\\n",
       "\t 2020/3/16 10:48 & 本科            &  3500           & 本科            & 3500本科       \\\\\n",
       "\t 2020/3/16 10:43 & 本科            & 14000           & 本科            & 14000本科      \\\\\n",
       "\t 2020/3/16 11:32 & 本科            &  8500           & 本科            & 8500本科       \\\\\n",
       "\t 2020/3/16 11:30 & 本科            & 20000           & 本科            & 20000本科      \\\\\n",
       "\t 2020/3/16 11:19 & 本科            & 30000           & 本科            & 30000本科      \\\\\n",
       "\t 2020/3/16 11:19 & 本科            & 30000           & 本科            & 30000本科      \\\\\n",
       "\t 2020/3/16 09:28 & 本科            & 18500           & 本科            & 18500本科      \\\\\n",
       "\t 2020/3/16 10:09 & 本科            & 11500           & 本科            & 11500本科      \\\\\n",
       "\t 2020/3/16 11:33 & 本科            &  5000           & 本科            & 5000本科       \\\\\n",
       "\t 2020/3/16 11:21 & 本科            & 16000           & 本科            & 16000本科      \\\\\n",
       "\t 2020/3/16 11:20 & 本科            &  4500           & 本科            & 4500本科       \\\\\n",
       "\t 2020/3/16 10:00 & 本科            & 20000           & 本科            & 20000本科      \\\\\n",
       "\t 2020/3/16 11:13 & 本科            & 12500           & 本科            & 12500本科      \\\\\n",
       "\t 2020/3/16 11:12 & 本科            &  4000           & 本科            & 4000本科       \\\\\n",
       "\t 2020/3/16 09:44 & 硕士            & 12500           & 硕士            & 12500硕士      \\\\\n",
       "\t 2020/3/16 10:57 & 本科            & 22500           & 本科            & 22500本科      \\\\\n",
       "\t 2020/3/16 09:46 & 本科            & 20000           & 本科            & 20000本科      \\\\\n",
       "\t 2020/3/16 11:36 & 本科            & 14000           & 本科            & 14000本科      \\\\\n",
       "\t 2020/3/16 09:54 & 硕士            & 37500           & 硕士            & 37500硕士      \\\\\n",
       "\t 2020/3/16 10:48 & 本科            & 30000           & 本科            & 30000本科      \\\\\n",
       "\t 2020/3/16 10:46 & 本科            & 19000           & 本科            & 19000本科      \\\\\n",
       "\t 2020/3/16 11:19 & 本科            & 30000           & 本科            & 30000本科      \\\\\n",
       "\t 2020/3/16 09:49 & 本科            & 12500           & 本科            & 12500本科      \\\\\n",
       "\\end{tabular}\n"
      ],
      "text/markdown": [
       "\n",
       "﻿createTime | education | salary | test | test1 | \n",
       "|---|---|---|---|---|---|---|---|---|---|---|---|---|---|---|---|---|---|---|---|---|---|---|---|---|---|---|---|---|---|---|---|---|---|---|---|---|---|---|---|---|---|---|---|---|---|---|---|---|---|---|---|---|---|---|---|---|---|---|---|---|\n",
       "| 2020/3/16 11:30 | 本科            | 27500           | 本科            | 27500本科       | \n",
       "| 2020/3/16 10:58 | 本科            | 30000           | 本科            | 30000本科       | \n",
       "| 2020/3/16 10:46 | 不限            | 27500           | 不限            | 27500不限       | \n",
       "| 2020/3/16 10:45 | 本科            | 16500           | 本科            | 16500本科       | \n",
       "| 2020/3/16 10:20 | 本科            | 15000           | 本科            | 15000本科       | \n",
       "| 2020/3/16 10:33 | 本科            | 14000           | 本科            | 14000本科       | \n",
       "| 2020/3/16 10:11 | 硕士            | 23000           | 硕士            | 23000硕士       | \n",
       "| 2020/3/16 09:49 | 本科            | 12500           | 本科            | 12500本科       | \n",
       "| 2020/3/16 09:25 | 不限            |  7000           | 不限            | 7000不限        | \n",
       "| 2020/3/16 09:35 | 本科            | 16000           | 本科            | 16000本科       | \n",
       "| 2020/3/16 10:34 | 本科            | 20000           | 本科            | 20000本科       | \n",
       "| 2020/3/16 09:30 | 本科            | 10000           | 本科            | 10000本科       | \n",
       "| 2020/3/16 11:30 | 本科            | 30000           | 本科            | 30000本科       | \n",
       "| 2020/3/16 10:54 | 本科            | 25000           | 本科            | 25000本科       | \n",
       "| 2020/3/15 12:14 | 本科            | 30000           | 本科            | 30000本科       | \n",
       "| 2020/3/16 10:52 | 硕士            | 12500           | 硕士            | 12500硕士       | \n",
       "| 2020/3/16 10:36 | 本科            | 37500           | 本科            | 37500本科       | \n",
       "| 2020/3/16 11:01 | 本科            | 12500           | 本科            | 12500本科       | \n",
       "| 2020/3/16 11:01 | 本科            | 35000           | 本科            | 35000本科       | \n",
       "| 2020/3/16 11:03 | 本科            | 20000           | 本科            | 20000本科       | \n",
       "| 2020/3/16 11:00 | 本科            | 11500           | 本科            | 11500本科       | \n",
       "| 2020/3/16 11:04 | 本科            | 30000           | 本科            | 30000本科       | \n",
       "| 2020/3/16 11:30 | 本科            | 20000           | 本科            | 20000本科       | \n",
       "| 2020/3/16 11:02 | 本科            | 22500           | 本科            | 22500本科       | \n",
       "| 2020/3/16 11:01 | 本科            | 17500           | 本科            | 17500本科       | \n",
       "| 2020/3/16 11:19 | 本科            | 15000           | 本科            | 15000本科       | \n",
       "| 2020/3/16 11:04 | 本科            | 30000           | 本科            | 30000本科       | \n",
       "| 2020/3/16 11:04 | 本科            | 30000           | 本科            | 30000本科       | \n",
       "| 2020/3/16 11:30 | 本科            | 20000           | 本科            | 20000本科       | \n",
       "| 2020/3/16 10:27 | 本科            | 17500           | 本科            | 17500本科       | \n",
       "| ... | ... | ... | ... | ... | \n",
       "| 2020/3/16 10:21 | 大专            | 15000           | 大专            | 15000大专       | \n",
       "| 2020/3/16 10:59 | 本科            | 16000           | 本科            | 16000本科       | \n",
       "| 2020/3/16 11:13 | 本科            | 12500           | 本科            | 12500本科       | \n",
       "| 2020/3/16 10:26 | 大专            |  5000           | 大专            | 5000大专        | \n",
       "| 2020/3/16 11:12 | 本科            |  4000           | 本科            | 4000本科        | \n",
       "| 2020/3/16 10:52 | 本科            | 16000           | 本科            | 16000本科       | \n",
       "| 2020/3/16 11:13 | 本科            | 26500           | 本科            | 26500本科       | \n",
       "| 2020/3/16 10:48 | 本科            |  3500           | 本科            | 3500本科        | \n",
       "| 2020/3/16 10:43 | 本科            | 14000           | 本科            | 14000本科       | \n",
       "| 2020/3/16 11:32 | 本科            |  8500           | 本科            | 8500本科        | \n",
       "| 2020/3/16 11:30 | 本科            | 20000           | 本科            | 20000本科       | \n",
       "| 2020/3/16 11:19 | 本科            | 30000           | 本科            | 30000本科       | \n",
       "| 2020/3/16 11:19 | 本科            | 30000           | 本科            | 30000本科       | \n",
       "| 2020/3/16 09:28 | 本科            | 18500           | 本科            | 18500本科       | \n",
       "| 2020/3/16 10:09 | 本科            | 11500           | 本科            | 11500本科       | \n",
       "| 2020/3/16 11:33 | 本科            |  5000           | 本科            | 5000本科        | \n",
       "| 2020/3/16 11:21 | 本科            | 16000           | 本科            | 16000本科       | \n",
       "| 2020/3/16 11:20 | 本科            |  4500           | 本科            | 4500本科        | \n",
       "| 2020/3/16 10:00 | 本科            | 20000           | 本科            | 20000本科       | \n",
       "| 2020/3/16 11:13 | 本科            | 12500           | 本科            | 12500本科       | \n",
       "| 2020/3/16 11:12 | 本科            |  4000           | 本科            | 4000本科        | \n",
       "| 2020/3/16 09:44 | 硕士            | 12500           | 硕士            | 12500硕士       | \n",
       "| 2020/3/16 10:57 | 本科            | 22500           | 本科            | 22500本科       | \n",
       "| 2020/3/16 09:46 | 本科            | 20000           | 本科            | 20000本科       | \n",
       "| 2020/3/16 11:36 | 本科            | 14000           | 本科            | 14000本科       | \n",
       "| 2020/3/16 09:54 | 硕士            | 37500           | 硕士            | 37500硕士       | \n",
       "| 2020/3/16 10:48 | 本科            | 30000           | 本科            | 30000本科       | \n",
       "| 2020/3/16 10:46 | 本科            | 19000           | 本科            | 19000本科       | \n",
       "| 2020/3/16 11:19 | 本科            | 30000           | 本科            | 30000本科       | \n",
       "| 2020/3/16 09:49 | 本科            | 12500           | 本科            | 12500本科       | \n",
       "\n",
       "\n"
      ],
      "text/plain": [
       "    ﻿createTime      education salary test test1    \n",
       "1   2020/3/16 11:30 本科      27500  本科 27500本科\n",
       "2   2020/3/16 10:58 本科      30000  本科 30000本科\n",
       "3   2020/3/16 10:46 不限      27500  不限 27500不限\n",
       "4   2020/3/16 10:45 本科      16500  本科 16500本科\n",
       "5   2020/3/16 10:20 本科      15000  本科 15000本科\n",
       "6   2020/3/16 10:33 本科      14000  本科 14000本科\n",
       "7   2020/3/16 10:11 硕士      23000  硕士 23000硕士\n",
       "8   2020/3/16 09:49 本科      12500  本科 12500本科\n",
       "9   2020/3/16 09:25 不限       7000  不限 7000不限 \n",
       "10  2020/3/16 09:35 本科      16000  本科 16000本科\n",
       "11  2020/3/16 10:34 本科      20000  本科 20000本科\n",
       "12  2020/3/16 09:30 本科      10000  本科 10000本科\n",
       "13  2020/3/16 11:30 本科      30000  本科 30000本科\n",
       "14  2020/3/16 10:54 本科      25000  本科 25000本科\n",
       "15  2020/3/15 12:14 本科      30000  本科 30000本科\n",
       "16  2020/3/16 10:52 硕士      12500  硕士 12500硕士\n",
       "17  2020/3/16 10:36 本科      37500  本科 37500本科\n",
       "18  2020/3/16 11:01 本科      12500  本科 12500本科\n",
       "19  2020/3/16 11:01 本科      35000  本科 35000本科\n",
       "20  2020/3/16 11:03 本科      20000  本科 20000本科\n",
       "21  2020/3/16 11:00 本科      11500  本科 11500本科\n",
       "22  2020/3/16 11:04 本科      30000  本科 30000本科\n",
       "23  2020/3/16 11:30 本科      20000  本科 20000本科\n",
       "24  2020/3/16 11:02 本科      22500  本科 22500本科\n",
       "25  2020/3/16 11:01 本科      17500  本科 17500本科\n",
       "26  2020/3/16 11:19 本科      15000  本科 15000本科\n",
       "27  2020/3/16 11:04 本科      30000  本科 30000本科\n",
       "28  2020/3/16 11:04 本科      30000  本科 30000本科\n",
       "29  2020/3/16 11:30 本科      20000  本科 20000本科\n",
       "30  2020/3/16 10:27 本科      17500  本科 17500本科\n",
       "... ...             ...       ...    ...  ...      \n",
       "107 2020/3/16 10:21 大专      15000  大专 15000大专\n",
       "108 2020/3/16 10:59 本科      16000  本科 16000本科\n",
       "109 2020/3/16 11:13 本科      12500  本科 12500本科\n",
       "110 2020/3/16 10:26 大专       5000  大专 5000大专 \n",
       "111 2020/3/16 11:12 本科       4000  本科 4000本科 \n",
       "112 2020/3/16 10:52 本科      16000  本科 16000本科\n",
       "113 2020/3/16 11:13 本科      26500  本科 26500本科\n",
       "114 2020/3/16 10:48 本科       3500  本科 3500本科 \n",
       "115 2020/3/16 10:43 本科      14000  本科 14000本科\n",
       "116 2020/3/16 11:32 本科       8500  本科 8500本科 \n",
       "117 2020/3/16 11:30 本科      20000  本科 20000本科\n",
       "118 2020/3/16 11:19 本科      30000  本科 30000本科\n",
       "119 2020/3/16 11:19 本科      30000  本科 30000本科\n",
       "120 2020/3/16 09:28 本科      18500  本科 18500本科\n",
       "121 2020/3/16 10:09 本科      11500  本科 11500本科\n",
       "122 2020/3/16 11:33 本科       5000  本科 5000本科 \n",
       "123 2020/3/16 11:21 本科      16000  本科 16000本科\n",
       "124 2020/3/16 11:20 本科       4500  本科 4500本科 \n",
       "125 2020/3/16 10:00 本科      20000  本科 20000本科\n",
       "126 2020/3/16 11:13 本科      12500  本科 12500本科\n",
       "127 2020/3/16 11:12 本科       4000  本科 4000本科 \n",
       "128 2020/3/16 09:44 硕士      12500  硕士 12500硕士\n",
       "129 2020/3/16 10:57 本科      22500  本科 22500本科\n",
       "130 2020/3/16 09:46 本科      20000  本科 20000本科\n",
       "131 2020/3/16 11:36 本科      14000  本科 14000本科\n",
       "132 2020/3/16 09:54 硕士      37500  硕士 37500硕士\n",
       "133 2020/3/16 10:48 本科      30000  本科 30000本科\n",
       "134 2020/3/16 10:46 本科      19000  本科 19000本科\n",
       "135 2020/3/16 11:19 本科      30000  本科 30000本科\n",
       "136 2020/3/16 09:49 本科      12500  本科 12500本科"
      ]
     },
     "metadata": {},
     "output_type": "display_data"
    }
   ],
   "source": [
    "rbind(df,df[8,])"
   ]
  },
  {
   "cell_type": "markdown",
   "metadata": {},
   "source": [
    "### 40.查看每列的数据类型"
   ]
  },
  {
   "cell_type": "code",
   "execution_count": 47,
   "metadata": {
    "collapsed": false
   },
   "outputs": [
    {
     "name": "stdout",
     "output_type": "stream",
     "text": [
      "Classes ‘tbl_df’, ‘tbl’ and 'data.frame':\t135 obs. of  5 variables:\n",
      " $ ﻿createTime: chr  \"2020/3/16 11:30\" \"2020/3/16 10:58\" \"2020/3/16 10:46\" \"2020/3/16 10:45\" ...\n",
      " $ education : chr  \"本科\" \"本科\" \"不限\" \"本科\" ...\n",
      " $ salary    : num  27500 30000 27500 16500 15000 14000 23000 12500 7000 16000 ...\n",
      " $ test      : chr  \"本科\" \"本科\" \"不限\" \"本科\" ...\n",
      " $ test1     : chr  \"27500本科\" \"30000本科\" \"27500不限\" \"16500本科\" ...\n"
     ]
    }
   ],
   "source": [
    "str(df)"
   ]
  },
  {
   "cell_type": "markdown",
   "metadata": {},
   "source": [
    "### 41.将createTime列设置为索引"
   ]
  },
  {
   "cell_type": "code",
   "execution_count": null,
   "metadata": {
    "collapsed": true
   },
   "outputs": [],
   "source": [
    "df %>%\n",
    "  tibble::column_to_rownames('createTime')"
   ]
  },
  {
   "cell_type": "markdown",
   "metadata": {
    "collapsed": true,
    "deletable": true,
    "editable": true
   },
   "source": [
    "### 42.生成一个和df长度相同的随机数dataframe"
   ]
  },
  {
   "cell_type": "code",
   "execution_count": 51,
   "metadata": {
    "collapsed": true
   },
   "outputs": [],
   "source": [
    "df1 <- sapply(135,function(n) {\n",
    "  replicate(n,sample(1:10,1))\n",
    "})\n",
    "# 列名暂时不一样，下一题重命名"
   ]
  },
  {
   "cell_type": "markdown",
   "metadata": {},
   "source": [
    "### 43.将上一题生成的dataframe与df合并"
   ]
  },
  {
   "cell_type": "code",
   "execution_count": 52,
   "metadata": {
    "collapsed": true
   },
   "outputs": [],
   "source": [
    "df <- cbind(df,df1) %>%\n",
    "  rename(`0` = df1)\n",
    "# 非常规命名需要用``包裹变量名"
   ]
  },
  {
   "cell_type": "markdown",
   "metadata": {},
   "source": [
    "### 44.生成新的一列new为salary列减去之前生成随机数列"
   ]
  },
  {
   "cell_type": "code",
   "execution_count": 53,
   "metadata": {
    "collapsed": true
   },
   "outputs": [],
   "source": [
    "df <- df %>%\n",
    "  mutate(new = salary - `0`)"
   ]
  },
  {
   "cell_type": "markdown",
   "metadata": {},
   "source": [
    "### 45.检查数据中是否含有任何缺失值"
   ]
  },
  {
   "cell_type": "code",
   "execution_count": 54,
   "metadata": {
    "collapsed": false
   },
   "outputs": [
    {
     "name": "stderr",
     "output_type": "stream",
     "text": [
      "\n",
      "Attaching package: ‘mice’\n",
      "\n",
      "The following object is masked from ‘package:RCurl’:\n",
      "\n",
      "    complete\n",
      "\n",
      "Warning message in data.matrix(x):\n",
      "“NAs introduced by coercion”Warning message in data.matrix(x):\n",
      "“NAs introduced by coercion”Warning message in data.matrix(x):\n",
      "“NAs introduced by coercion”Warning message in data.matrix(x):\n",
      "“NAs introduced by coercion”"
     ]
    },
    {
     "data": {
      "text/html": [
       "<table>\n",
       "<thead><tr><th scope=col>salary</th><th scope=col>0</th><th scope=col>new</th><th scope=col>﻿createTime</th><th scope=col>education</th><th scope=col>test</th><th scope=col>test1</th><th scope=col></th></tr></thead>\n",
       "<tbody>\n",
       "\t<tr><td>1  </td><td>1  </td><td>1  </td><td>  0</td><td>  0</td><td>  0</td><td>  0</td><td>  4</td></tr>\n",
       "\t<tr><td>0  </td><td>0  </td><td>0  </td><td>135</td><td>135</td><td>135</td><td>135</td><td>540</td></tr>\n",
       "</tbody>\n",
       "</table>\n"
      ],
      "text/latex": [
       "\\begin{tabular}{llllllll}\n",
       " salary & 0 & new & ﻿createTime & education & test & test1 & \\\\\n",
       "\\hline\n",
       "\t 1   & 1   & 1   &   0 &   0 &   0 &   0 &   4\\\\\n",
       "\t 0   & 0   & 0   & 135 & 135 & 135 & 135 & 540\\\\\n",
       "\\end{tabular}\n"
      ],
      "text/markdown": [
       "\n",
       "salary | 0 | new | ﻿createTime | education | test | test1 |  | \n",
       "|---|---|\n",
       "| 1   | 1   | 1   |   0 |   0 |   0 |   0 |   4 | \n",
       "| 0   | 0   | 0   | 135 | 135 | 135 | 135 | 540 | \n",
       "\n",
       "\n"
      ],
      "text/plain": [
       "     salary 0 new ﻿createTime education test test1    \n",
       "[1,] 1      1 1     0          0         0    0     4\n",
       "[2,] 0      0 0   135        135       135  135   540"
      ]
     },
     "metadata": {},
     "output_type": "display_data"
    }
   ],
   "source": [
    "# 这个包的结果呈现非常有趣\n",
    "library(mice)\n",
    "md.pattern(df)"
   ]
  },
  {
   "cell_type": "markdown",
   "metadata": {},
   "source": [
    "### 46.将salary列类型转换为浮点数"
   ]
  },
  {
   "cell_type": "code",
   "execution_count": 56,
   "metadata": {
    "collapsed": false
   },
   "outputs": [
    {
     "data": {
      "text/html": [
       "<ol class=list-inline>\n",
       "\t<li>27500</li>\n",
       "\t<li>30000</li>\n",
       "\t<li>27500</li>\n",
       "\t<li>16500</li>\n",
       "\t<li>15000</li>\n",
       "\t<li>14000</li>\n",
       "\t<li>23000</li>\n",
       "\t<li>12500</li>\n",
       "\t<li>7000</li>\n",
       "\t<li>16000</li>\n",
       "\t<li>20000</li>\n",
       "\t<li>10000</li>\n",
       "\t<li>30000</li>\n",
       "\t<li>25000</li>\n",
       "\t<li>30000</li>\n",
       "\t<li>12500</li>\n",
       "\t<li>37500</li>\n",
       "\t<li>12500</li>\n",
       "\t<li>35000</li>\n",
       "\t<li>20000</li>\n",
       "\t<li>11500</li>\n",
       "\t<li>30000</li>\n",
       "\t<li>20000</li>\n",
       "\t<li>22500</li>\n",
       "\t<li>17500</li>\n",
       "\t<li>15000</li>\n",
       "\t<li>30000</li>\n",
       "\t<li>30000</li>\n",
       "\t<li>20000</li>\n",
       "\t<li>17500</li>\n",
       "\t<li>22500</li>\n",
       "\t<li>22500</li>\n",
       "\t<li>22500</li>\n",
       "\t<li>30000</li>\n",
       "\t<li>24000</li>\n",
       "\t<li>16000</li>\n",
       "\t<li>22500</li>\n",
       "\t<li>40000</li>\n",
       "\t<li>30000</li>\n",
       "\t<li>30000</li>\n",
       "\t<li>20000</li>\n",
       "\t<li>30000</li>\n",
       "\t<li>12500</li>\n",
       "\t<li>30000</li>\n",
       "\t<li>12000</li>\n",
       "\t<li>30000</li>\n",
       "\t<li>11500</li>\n",
       "\t<li>17500</li>\n",
       "\t<li>16000</li>\n",
       "\t<li>12500</li>\n",
       "\t<li>13500</li>\n",
       "\t<li>15000</li>\n",
       "\t<li>16500</li>\n",
       "\t<li>45000</li>\n",
       "\t<li>15000</li>\n",
       "\t<li>25000</li>\n",
       "\t<li>22500</li>\n",
       "\t<li>20000</li>\n",
       "\t<li>9500</li>\n",
       "\t<li>22500</li>\n",
       "\t<li>9500</li>\n",
       "\t<li>17500</li>\n",
       "\t<li>35000</li>\n",
       "\t<li>25000</li>\n",
       "\t<li>12000</li>\n",
       "\t<li>18000</li>\n",
       "\t<li>27500</li>\n",
       "\t<li>14000</li>\n",
       "\t<li>17500</li>\n",
       "\t<li>15000</li>\n",
       "\t<li>12000</li>\n",
       "\t<li>6500</li>\n",
       "\t<li>14000</li>\n",
       "\t<li>14000</li>\n",
       "\t<li>20000</li>\n",
       "\t<li>25000</li>\n",
       "\t<li>14000</li>\n",
       "\t<li>6500</li>\n",
       "\t<li>15000</li>\n",
       "\t<li>32500</li>\n",
       "\t<li>17500</li>\n",
       "\t<li>16000</li>\n",
       "\t<li>5000</li>\n",
       "\t<li>30000</li>\n",
       "\t<li>14000</li>\n",
       "\t<li>15000</li>\n",
       "\t<li>20000</li>\n",
       "\t<li>15000</li>\n",
       "\t<li>15000</li>\n",
       "\t<li>11000</li>\n",
       "\t<li>15000</li>\n",
       "\t<li>14000</li>\n",
       "\t<li>35000</li>\n",
       "\t<li>30000</li>\n",
       "\t<li>15000</li>\n",
       "\t<li>21500</li>\n",
       "\t<li>3500</li>\n",
       "\t<li>30000</li>\n",
       "\t<li>14000</li>\n",
       "\t<li>14000</li>\n",
       "\t<li>20000</li>\n",
       "\t<li>37500</li>\n",
       "\t<li>15000</li>\n",
       "\t<li>16000</li>\n",
       "\t<li>5000</li>\n",
       "\t<li>21500</li>\n",
       "\t<li>15000</li>\n",
       "\t<li>16000</li>\n",
       "\t<li>12500</li>\n",
       "\t<li>5000</li>\n",
       "\t<li>4000</li>\n",
       "\t<li>16000</li>\n",
       "\t<li>26500</li>\n",
       "\t<li>3500</li>\n",
       "\t<li>14000</li>\n",
       "\t<li>8500</li>\n",
       "\t<li>20000</li>\n",
       "\t<li>30000</li>\n",
       "\t<li>30000</li>\n",
       "\t<li>18500</li>\n",
       "\t<li>11500</li>\n",
       "\t<li>5000</li>\n",
       "\t<li>16000</li>\n",
       "\t<li>4500</li>\n",
       "\t<li>20000</li>\n",
       "\t<li>12500</li>\n",
       "\t<li>4000</li>\n",
       "\t<li>12500</li>\n",
       "\t<li>22500</li>\n",
       "\t<li>20000</li>\n",
       "\t<li>14000</li>\n",
       "\t<li>37500</li>\n",
       "\t<li>30000</li>\n",
       "\t<li>19000</li>\n",
       "\t<li>30000</li>\n",
       "</ol>\n"
      ],
      "text/latex": [
       "\\begin{enumerate*}\n",
       "\\item 27500\n",
       "\\item 30000\n",
       "\\item 27500\n",
       "\\item 16500\n",
       "\\item 15000\n",
       "\\item 14000\n",
       "\\item 23000\n",
       "\\item 12500\n",
       "\\item 7000\n",
       "\\item 16000\n",
       "\\item 20000\n",
       "\\item 10000\n",
       "\\item 30000\n",
       "\\item 25000\n",
       "\\item 30000\n",
       "\\item 12500\n",
       "\\item 37500\n",
       "\\item 12500\n",
       "\\item 35000\n",
       "\\item 20000\n",
       "\\item 11500\n",
       "\\item 30000\n",
       "\\item 20000\n",
       "\\item 22500\n",
       "\\item 17500\n",
       "\\item 15000\n",
       "\\item 30000\n",
       "\\item 30000\n",
       "\\item 20000\n",
       "\\item 17500\n",
       "\\item 22500\n",
       "\\item 22500\n",
       "\\item 22500\n",
       "\\item 30000\n",
       "\\item 24000\n",
       "\\item 16000\n",
       "\\item 22500\n",
       "\\item 40000\n",
       "\\item 30000\n",
       "\\item 30000\n",
       "\\item 20000\n",
       "\\item 30000\n",
       "\\item 12500\n",
       "\\item 30000\n",
       "\\item 12000\n",
       "\\item 30000\n",
       "\\item 11500\n",
       "\\item 17500\n",
       "\\item 16000\n",
       "\\item 12500\n",
       "\\item 13500\n",
       "\\item 15000\n",
       "\\item 16500\n",
       "\\item 45000\n",
       "\\item 15000\n",
       "\\item 25000\n",
       "\\item 22500\n",
       "\\item 20000\n",
       "\\item 9500\n",
       "\\item 22500\n",
       "\\item 9500\n",
       "\\item 17500\n",
       "\\item 35000\n",
       "\\item 25000\n",
       "\\item 12000\n",
       "\\item 18000\n",
       "\\item 27500\n",
       "\\item 14000\n",
       "\\item 17500\n",
       "\\item 15000\n",
       "\\item 12000\n",
       "\\item 6500\n",
       "\\item 14000\n",
       "\\item 14000\n",
       "\\item 20000\n",
       "\\item 25000\n",
       "\\item 14000\n",
       "\\item 6500\n",
       "\\item 15000\n",
       "\\item 32500\n",
       "\\item 17500\n",
       "\\item 16000\n",
       "\\item 5000\n",
       "\\item 30000\n",
       "\\item 14000\n",
       "\\item 15000\n",
       "\\item 20000\n",
       "\\item 15000\n",
       "\\item 15000\n",
       "\\item 11000\n",
       "\\item 15000\n",
       "\\item 14000\n",
       "\\item 35000\n",
       "\\item 30000\n",
       "\\item 15000\n",
       "\\item 21500\n",
       "\\item 3500\n",
       "\\item 30000\n",
       "\\item 14000\n",
       "\\item 14000\n",
       "\\item 20000\n",
       "\\item 37500\n",
       "\\item 15000\n",
       "\\item 16000\n",
       "\\item 5000\n",
       "\\item 21500\n",
       "\\item 15000\n",
       "\\item 16000\n",
       "\\item 12500\n",
       "\\item 5000\n",
       "\\item 4000\n",
       "\\item 16000\n",
       "\\item 26500\n",
       "\\item 3500\n",
       "\\item 14000\n",
       "\\item 8500\n",
       "\\item 20000\n",
       "\\item 30000\n",
       "\\item 30000\n",
       "\\item 18500\n",
       "\\item 11500\n",
       "\\item 5000\n",
       "\\item 16000\n",
       "\\item 4500\n",
       "\\item 20000\n",
       "\\item 12500\n",
       "\\item 4000\n",
       "\\item 12500\n",
       "\\item 22500\n",
       "\\item 20000\n",
       "\\item 14000\n",
       "\\item 37500\n",
       "\\item 30000\n",
       "\\item 19000\n",
       "\\item 30000\n",
       "\\end{enumerate*}\n"
      ],
      "text/markdown": [
       "1. 27500\n",
       "2. 30000\n",
       "3. 27500\n",
       "4. 16500\n",
       "5. 15000\n",
       "6. 14000\n",
       "7. 23000\n",
       "8. 12500\n",
       "9. 7000\n",
       "10. 16000\n",
       "11. 20000\n",
       "12. 10000\n",
       "13. 30000\n",
       "14. 25000\n",
       "15. 30000\n",
       "16. 12500\n",
       "17. 37500\n",
       "18. 12500\n",
       "19. 35000\n",
       "20. 20000\n",
       "21. 11500\n",
       "22. 30000\n",
       "23. 20000\n",
       "24. 22500\n",
       "25. 17500\n",
       "26. 15000\n",
       "27. 30000\n",
       "28. 30000\n",
       "29. 20000\n",
       "30. 17500\n",
       "31. 22500\n",
       "32. 22500\n",
       "33. 22500\n",
       "34. 30000\n",
       "35. 24000\n",
       "36. 16000\n",
       "37. 22500\n",
       "38. 40000\n",
       "39. 30000\n",
       "40. 30000\n",
       "41. 20000\n",
       "42. 30000\n",
       "43. 12500\n",
       "44. 30000\n",
       "45. 12000\n",
       "46. 30000\n",
       "47. 11500\n",
       "48. 17500\n",
       "49. 16000\n",
       "50. 12500\n",
       "51. 13500\n",
       "52. 15000\n",
       "53. 16500\n",
       "54. 45000\n",
       "55. 15000\n",
       "56. 25000\n",
       "57. 22500\n",
       "58. 20000\n",
       "59. 9500\n",
       "60. 22500\n",
       "61. 9500\n",
       "62. 17500\n",
       "63. 35000\n",
       "64. 25000\n",
       "65. 12000\n",
       "66. 18000\n",
       "67. 27500\n",
       "68. 14000\n",
       "69. 17500\n",
       "70. 15000\n",
       "71. 12000\n",
       "72. 6500\n",
       "73. 14000\n",
       "74. 14000\n",
       "75. 20000\n",
       "76. 25000\n",
       "77. 14000\n",
       "78. 6500\n",
       "79. 15000\n",
       "80. 32500\n",
       "81. 17500\n",
       "82. 16000\n",
       "83. 5000\n",
       "84. 30000\n",
       "85. 14000\n",
       "86. 15000\n",
       "87. 20000\n",
       "88. 15000\n",
       "89. 15000\n",
       "90. 11000\n",
       "91. 15000\n",
       "92. 14000\n",
       "93. 35000\n",
       "94. 30000\n",
       "95. 15000\n",
       "96. 21500\n",
       "97. 3500\n",
       "98. 30000\n",
       "99. 14000\n",
       "100. 14000\n",
       "101. 20000\n",
       "102. 37500\n",
       "103. 15000\n",
       "104. 16000\n",
       "105. 5000\n",
       "106. 21500\n",
       "107. 15000\n",
       "108. 16000\n",
       "109. 12500\n",
       "110. 5000\n",
       "111. 4000\n",
       "112. 16000\n",
       "113. 26500\n",
       "114. 3500\n",
       "115. 14000\n",
       "116. 8500\n",
       "117. 20000\n",
       "118. 30000\n",
       "119. 30000\n",
       "120. 18500\n",
       "121. 11500\n",
       "122. 5000\n",
       "123. 16000\n",
       "124. 4500\n",
       "125. 20000\n",
       "126. 12500\n",
       "127. 4000\n",
       "128. 12500\n",
       "129. 22500\n",
       "130. 20000\n",
       "131. 14000\n",
       "132. 37500\n",
       "133. 30000\n",
       "134. 19000\n",
       "135. 30000\n",
       "\n",
       "\n"
      ],
      "text/plain": [
       "  [1] 27500 30000 27500 16500 15000 14000 23000 12500  7000 16000 20000 10000\n",
       " [13] 30000 25000 30000 12500 37500 12500 35000 20000 11500 30000 20000 22500\n",
       " [25] 17500 15000 30000 30000 20000 17500 22500 22500 22500 30000 24000 16000\n",
       " [37] 22500 40000 30000 30000 20000 30000 12500 30000 12000 30000 11500 17500\n",
       " [49] 16000 12500 13500 15000 16500 45000 15000 25000 22500 20000  9500 22500\n",
       " [61]  9500 17500 35000 25000 12000 18000 27500 14000 17500 15000 12000  6500\n",
       " [73] 14000 14000 20000 25000 14000  6500 15000 32500 17500 16000  5000 30000\n",
       " [85] 14000 15000 20000 15000 15000 11000 15000 14000 35000 30000 15000 21500\n",
       " [97]  3500 30000 14000 14000 20000 37500 15000 16000  5000 21500 15000 16000\n",
       "[109] 12500  5000  4000 16000 26500  3500 14000  8500 20000 30000 30000 18500\n",
       "[121] 11500  5000 16000  4500 20000 12500  4000 12500 22500 20000 14000 37500\n",
       "[133] 30000 19000 30000"
      ]
     },
     "metadata": {},
     "output_type": "display_data"
    }
   ],
   "source": [
    "as.double(df$salary)"
   ]
  },
  {
   "cell_type": "markdown",
   "metadata": {},
   "source": [
    "### 47.计算salary大于10000的次数"
   ]
  },
  {
   "cell_type": "code",
   "execution_count": 57,
   "metadata": {
    "collapsed": false
   },
   "outputs": [
    {
     "data": {
      "text/html": [
       "119"
      ],
      "text/latex": [
       "119"
      ],
      "text/markdown": [
       "119"
      ],
      "text/plain": [
       "[1] 119"
      ]
     },
     "metadata": {},
     "output_type": "display_data"
    }
   ],
   "source": [
    "df %>%\n",
    "  filter(salary > 10000) %>%\n",
    "  dim(.) %>%\n",
    "  .[1]"
   ]
  },
  {
   "cell_type": "markdown",
   "metadata": {},
   "source": [
    "### 48.查看每种学历出现的次数"
   ]
  },
  {
   "cell_type": "code",
   "execution_count": 58,
   "metadata": {
    "collapsed": false
   },
   "outputs": [
    {
     "data": {
      "text/plain": [
       "\n",
       "不限 大专 本科 硕士 \n",
       "   5    4  119    7 "
      ]
     },
     "metadata": {},
     "output_type": "display_data"
    }
   ],
   "source": [
    "table(df$education)"
   ]
  },
  {
   "cell_type": "markdown",
   "metadata": {},
   "source": [
    "### 49.查看education列共有几种学历"
   ]
  },
  {
   "cell_type": "code",
   "execution_count": 59,
   "metadata": {
    "collapsed": false,
    "deletable": true,
    "editable": true
   },
   "outputs": [
    {
     "data": {
      "text/html": [
       "4"
      ],
      "text/latex": [
       "4"
      ],
      "text/markdown": [
       "4"
      ],
      "text/plain": [
       "[1] 4"
      ]
     },
     "metadata": {},
     "output_type": "display_data"
    }
   ],
   "source": [
    "length(unique(df$education))\n",
    "# [1] 4"
   ]
  },
  {
   "cell_type": "markdown",
   "metadata": {},
   "source": [
    "### 50.提取salary与new列的和大于60000的最后3行"
   ]
  },
  {
   "cell_type": "code",
   "execution_count": 60,
   "metadata": {
    "collapsed": false
   },
   "outputs": [
    {
     "data": {
      "text/html": [
       "<table>\n",
       "<thead><tr><th></th><th scope=col>﻿createTime</th><th scope=col>education</th><th scope=col>salary</th><th scope=col>test</th><th scope=col>test1</th><th scope=col>0</th><th scope=col>new</th></tr></thead>\n",
       "<tbody>\n",
       "\t<tr><th scope=row>93</th><td>2020/3/16 10:41</td><td>本科           </td><td>35000          </td><td>本科           </td><td>35000本科      </td><td>6              </td><td>34994          </td></tr>\n",
       "\t<tr><th scope=row>102</th><td>2020/3/16 11:01</td><td>本科           </td><td>37500          </td><td>本科           </td><td>37500本科      </td><td>3              </td><td>37497          </td></tr>\n",
       "\t<tr><th scope=row>132</th><td>2020/3/16 09:54</td><td>硕士           </td><td>37500          </td><td>硕士           </td><td>37500硕士      </td><td>5              </td><td>37495          </td></tr>\n",
       "</tbody>\n",
       "</table>\n"
      ],
      "text/latex": [
       "\\begin{tabular}{r|lllllll}\n",
       "  & ﻿createTime & education & salary & test & test1 & 0 & new\\\\\n",
       "\\hline\n",
       "\t93 & 2020/3/16 10:41 & 本科            & 35000           & 本科            & 35000本科       & 6               & 34994          \\\\\n",
       "\t102 & 2020/3/16 11:01 & 本科            & 37500           & 本科            & 37500本科       & 3               & 37497          \\\\\n",
       "\t132 & 2020/3/16 09:54 & 硕士            & 37500           & 硕士            & 37500硕士       & 5               & 37495          \\\\\n",
       "\\end{tabular}\n"
      ],
      "text/markdown": [
       "\n",
       "| <!--/--> | ﻿createTime | education | salary | test | test1 | 0 | new | \n",
       "|---|---|---|\n",
       "| 93 | 2020/3/16 10:41 | 本科            | 35000           | 本科            | 35000本科       | 6               | 34994           | \n",
       "| 102 | 2020/3/16 11:01 | 本科            | 37500           | 本科            | 37500本科       | 3               | 37497           | \n",
       "| 132 | 2020/3/16 09:54 | 硕士            | 37500           | 硕士            | 37500硕士       | 5               | 37495           | \n",
       "\n",
       "\n"
      ],
      "text/plain": [
       "    ﻿createTime      education salary test test1     0 new  \n",
       "93  2020/3/16 10:41 本科      35000  本科 35000本科 6 34994\n",
       "102 2020/3/16 11:01 本科      37500  本科 37500本科 3 37497\n",
       "132 2020/3/16 09:54 硕士      37500  硕士 37500硕士 5 37495"
      ]
     },
     "metadata": {},
     "output_type": "display_data"
    }
   ],
   "source": [
    "df[df$salary + df$new > 60000,] %>%\n",
    "  .[nrow(.)-3+1:nrow(.),] %>%\n",
    "  na.omit(.)"
   ]
  },
  {
   "cell_type": "markdown",
   "metadata": {
    "deletable": true,
    "editable": true
   },
   "source": [
    "### 第三期｜金融数据处理：51-80"
   ]
  },
  {
   "cell_type": "markdown",
   "metadata": {
    "collapsed": true,
    "deletable": true,
    "editable": true
   },
   "source": [
    "### 51.读取本地Excel数据"
   ]
  },
  {
   "cell_type": "code",
   "execution_count": 61,
   "metadata": {
    "collapsed": false,
    "deletable": true,
    "editable": true
   },
   "outputs": [
    {
     "name": "stderr",
     "output_type": "stream",
     "text": [
      "Parsed with column specification:\n",
      "cols(\n",
      "  `﻿代码` = col_character(),\n",
      "  简称 = col_character(),\n",
      "  日期 = col_date(format = \"\"),\n",
      "  `前收盘价(元)` = col_double(),\n",
      "  `开盘价(元)` = col_double(),\n",
      "  `最高价(元)` = col_double(),\n",
      "  `最低价(元)` = col_double(),\n",
      "  `收盘价(元)` = col_double(),\n",
      "  `成交量(股)` = col_character(),\n",
      "  `成交金额(元)` = col_character(),\n",
      "  `涨跌(元)` = col_double(),\n",
      "  `涨跌幅(%)` = col_double(),\n",
      "  `均价(元)` = col_character(),\n",
      "  `换手率(%)` = col_character(),\n",
      "  `A股流通市值(元)` = col_double(),\n",
      "  `总市值(元)` = col_double(),\n",
      "  `A股流通股本(股)` = col_double(),\n",
      "  市盈率 = col_double()\n",
      ")\n"
     ]
    }
   ],
   "source": [
    "library(readr)\n",
    "df <- read_csv('600000.SH.csv')"
   ]
  },
  {
   "cell_type": "markdown",
   "metadata": {
    "collapsed": true,
    "deletable": true,
    "editable": true
   },
   "source": [
    "### 52.查看数据前三行"
   ]
  },
  {
   "cell_type": "code",
   "execution_count": 63,
   "metadata": {
    "collapsed": false
   },
   "outputs": [
    {
     "data": {
      "text/html": [
       "<table>\n",
       "<thead><tr><th scope=col>﻿代码</th><th scope=col>简称</th><th scope=col>日期</th><th scope=col>前收盘价(元)</th><th scope=col>开盘价(元)</th><th scope=col>最高价(元)</th><th scope=col>最低价(元)</th><th scope=col>收盘价(元)</th><th scope=col>成交量(股)</th><th scope=col>成交金额(元)</th><th scope=col>涨跌(元)</th><th scope=col>涨跌幅(%)</th><th scope=col>均价(元)</th><th scope=col>换手率(%)</th><th scope=col>A股流通市值(元)</th><th scope=col>总市值(元)</th><th scope=col>A股流通股本(股)</th><th scope=col>市盈率</th></tr></thead>\n",
       "<tbody>\n",
       "\t<tr><td>600000.SH  </td><td>浦发银行   </td><td>2016-01-04 </td><td>16.1356    </td><td>16.1444    </td><td>16.1444    </td><td>15.4997    </td><td>15.7205    </td><td>42240610   </td><td>754425783  </td><td>-0.4151    </td><td>-2.5725    </td><td>17.8602    </td><td>0.2264     </td><td>3.32032e+11</td><td>3.32032e+11</td><td>18653471415</td><td>6.5614     </td></tr>\n",
       "\t<tr><td>600000.SH  </td><td>浦发银行   </td><td>2016-01-05 </td><td>15.7205    </td><td>15.4644    </td><td>15.9501    </td><td>15.3672    </td><td>15.8618    </td><td>58054793   </td><td>1034181474 </td><td> 0.1413    </td><td> 0.8989    </td><td>17.8139    </td><td>0.3112     </td><td>3.35016e+11</td><td>3.35016e+11</td><td>18653471415</td><td>6.6204     </td></tr>\n",
       "\t<tr><td>600000.SH  </td><td>浦发银行   </td><td>2016-01-06 </td><td>15.8618    </td><td>15.8088    </td><td>16.0208    </td><td>15.6234    </td><td>15.9855    </td><td>46772653   </td><td>838667398  </td><td> 0.1236    </td><td> 0.7795    </td><td>17.9307    </td><td>0.2507     </td><td>3.37628e+11</td><td>3.37628e+11</td><td>18653471415</td><td>6.6720     </td></tr>\n",
       "</tbody>\n",
       "</table>\n"
      ],
      "text/latex": [
       "\\begin{tabular}{r|llllllllllllllllll}\n",
       " ﻿代码 & 简称 & 日期 & 前收盘价(元) & 开盘价(元) & 最高价(元) & 最低价(元) & 收盘价(元) & 成交量(股) & 成交金额(元) & 涨跌(元) & 涨跌幅(\\%) & 均价(元) & 换手率(\\%) & A股流通市值(元) & 总市值(元) & A股流通股本(股) & 市盈率\\\\\n",
       "\\hline\n",
       "\t 600000.SH   & 浦发银行    & 2016-01-04  & 16.1356     & 16.1444     & 16.1444     & 15.4997     & 15.7205     & 42240610    & 754425783   & -0.4151     & -2.5725     & 17.8602     & 0.2264      & 3.32032e+11 & 3.32032e+11 & 18653471415 & 6.5614     \\\\\n",
       "\t 600000.SH   & 浦发银行    & 2016-01-05  & 15.7205     & 15.4644     & 15.9501     & 15.3672     & 15.8618     & 58054793    & 1034181474  &  0.1413     &  0.8989     & 17.8139     & 0.3112      & 3.35016e+11 & 3.35016e+11 & 18653471415 & 6.6204     \\\\\n",
       "\t 600000.SH   & 浦发银行    & 2016-01-06  & 15.8618     & 15.8088     & 16.0208     & 15.6234     & 15.9855     & 46772653    & 838667398   &  0.1236     &  0.7795     & 17.9307     & 0.2507      & 3.37628e+11 & 3.37628e+11 & 18653471415 & 6.6720     \\\\\n",
       "\\end{tabular}\n"
      ],
      "text/markdown": [
       "\n",
       "﻿代码 | 简称 | 日期 | 前收盘价(元) | 开盘价(元) | 最高价(元) | 最低价(元) | 收盘价(元) | 成交量(股) | 成交金额(元) | 涨跌(元) | 涨跌幅(%) | 均价(元) | 换手率(%) | A股流通市值(元) | 总市值(元) | A股流通股本(股) | 市盈率 | \n",
       "|---|---|---|\n",
       "| 600000.SH   | 浦发银行    | 2016-01-04  | 16.1356     | 16.1444     | 16.1444     | 15.4997     | 15.7205     | 42240610    | 754425783   | -0.4151     | -2.5725     | 17.8602     | 0.2264      | 3.32032e+11 | 3.32032e+11 | 18653471415 | 6.5614      | \n",
       "| 600000.SH   | 浦发银行    | 2016-01-05  | 15.7205     | 15.4644     | 15.9501     | 15.3672     | 15.8618     | 58054793    | 1034181474  |  0.1413     |  0.8989     | 17.8139     | 0.3112      | 3.35016e+11 | 3.35016e+11 | 18653471415 | 6.6204      | \n",
       "| 600000.SH   | 浦发银行    | 2016-01-06  | 15.8618     | 15.8088     | 16.0208     | 15.6234     | 15.9855     | 46772653    | 838667398   |  0.1236     |  0.7795     | 17.9307     | 0.2507      | 3.37628e+11 | 3.37628e+11 | 18653471415 | 6.6720      | \n",
       "\n",
       "\n"
      ],
      "text/plain": [
       "  ﻿代码      简称     日期       前收盘价(元) 开盘价(元) 最高价(元) 最低价(元)\n",
       "1 600000.SH 浦发银行 2016-01-04 16.1356      16.1444    16.1444    15.4997   \n",
       "2 600000.SH 浦发银行 2016-01-05 15.7205      15.4644    15.9501    15.3672   \n",
       "3 600000.SH 浦发银行 2016-01-06 15.8618      15.8088    16.0208    15.6234   \n",
       "  收盘价(元) 成交量(股) 成交金额(元) 涨跌(元) 涨跌幅(%) 均价(元) 换手率(%)\n",
       "1 15.7205    42240610   754425783    -0.4151  -2.5725   17.8602  0.2264   \n",
       "2 15.8618    58054793   1034181474    0.1413   0.8989   17.8139  0.3112   \n",
       "3 15.9855    46772653   838667398     0.1236   0.7795   17.9307  0.2507   \n",
       "  A股流通市值(元) 总市值(元)  A股流通股本(股) 市盈率\n",
       "1 3.32032e+11     3.32032e+11 18653471415     6.5614\n",
       "2 3.35016e+11     3.35016e+11 18653471415     6.6204\n",
       "3 3.37628e+11     3.37628e+11 18653471415     6.6720"
      ]
     },
     "metadata": {},
     "output_type": "display_data"
    }
   ],
   "source": [
    "head(df,3)"
   ]
  },
  {
   "cell_type": "markdown",
   "metadata": {},
   "source": [
    "### 53.查看每列数据缺失值情况"
   ]
  },
  {
   "cell_type": "code",
   "execution_count": 64,
   "metadata": {
    "collapsed": false
   },
   "outputs": [
    {
     "data": {
      "text/html": [
       "<dl class=dl-horizontal>\n",
       "\t<dt>﻿代码</dt>\n",
       "\t\t<dd>1</dd>\n",
       "\t<dt>简称</dt>\n",
       "\t\t<dd>2</dd>\n",
       "\t<dt>日期</dt>\n",
       "\t\t<dd>2</dd>\n",
       "\t<dt>前收盘价(元)</dt>\n",
       "\t\t<dd>2</dd>\n",
       "\t<dt>开盘价(元)</dt>\n",
       "\t\t<dd>2</dd>\n",
       "\t<dt>最高价(元)</dt>\n",
       "\t\t<dd>2</dd>\n",
       "\t<dt>最低价(元)</dt>\n",
       "\t\t<dd>2</dd>\n",
       "\t<dt>收盘价(元)</dt>\n",
       "\t\t<dd>2</dd>\n",
       "\t<dt>成交量(股)</dt>\n",
       "\t\t<dd>2</dd>\n",
       "\t<dt>成交金额(元)</dt>\n",
       "\t\t<dd>2</dd>\n",
       "\t<dt>涨跌(元)</dt>\n",
       "\t\t<dd>2</dd>\n",
       "\t<dt>涨跌幅(%)</dt>\n",
       "\t\t<dd>2</dd>\n",
       "\t<dt>均价(元)</dt>\n",
       "\t\t<dd>2</dd>\n",
       "\t<dt>换手率(%)</dt>\n",
       "\t\t<dd>2</dd>\n",
       "\t<dt>A股流通市值(元)</dt>\n",
       "\t\t<dd>2</dd>\n",
       "\t<dt>总市值(元)</dt>\n",
       "\t\t<dd>2</dd>\n",
       "\t<dt>A股流通股本(股)</dt>\n",
       "\t\t<dd>2</dd>\n",
       "\t<dt>市盈率</dt>\n",
       "\t\t<dd>2</dd>\n",
       "</dl>\n"
      ],
      "text/latex": [
       "\\begin{description*}\n",
       "\\item[﻿代码] 1\n",
       "\\item[简称] 2\n",
       "\\item[日期] 2\n",
       "\\item[前收盘价(元)] 2\n",
       "\\item[开盘价(元)] 2\n",
       "\\item[最高价(元)] 2\n",
       "\\item[最低价(元)] 2\n",
       "\\item[收盘价(元)] 2\n",
       "\\item[成交量(股)] 2\n",
       "\\item[成交金额(元)] 2\n",
       "\\item[涨跌(元)] 2\n",
       "\\item[涨跌幅(\\textbackslash{}\\%)] 2\n",
       "\\item[均价(元)] 2\n",
       "\\item[换手率(\\textbackslash{}\\%)] 2\n",
       "\\item[A股流通市值(元)] 2\n",
       "\\item[总市值(元)] 2\n",
       "\\item[A股流通股本(股)] 2\n",
       "\\item[市盈率] 2\n",
       "\\end{description*}\n"
      ],
      "text/markdown": [
       "﻿代码\n",
       ":   1简称\n",
       ":   2日期\n",
       ":   2前收盘价(元)\n",
       ":   2开盘价(元)\n",
       ":   2最高价(元)\n",
       ":   2最低价(元)\n",
       ":   2收盘价(元)\n",
       ":   2成交量(股)\n",
       ":   2成交金额(元)\n",
       ":   2涨跌(元)\n",
       ":   2涨跌幅(%)\n",
       ":   2均价(元)\n",
       ":   2换手率(%)\n",
       ":   2A股流通市值(元)\n",
       ":   2总市值(元)\n",
       ":   2A股流通股本(股)\n",
       ":   2市盈率\n",
       ":   2\n",
       "\n"
      ],
      "text/plain": [
       "           ﻿代码            简称            日期    前收盘价(元)      开盘价(元) \n",
       "              1               2               2               2               2 \n",
       "     最高价(元)      最低价(元)      收盘价(元)      成交量(股)    成交金额(元) \n",
       "              2               2               2               2               2 \n",
       "       涨跌(元)       涨跌幅(%)        均价(元)       换手率(%) A股流通市值(元) \n",
       "              2               2               2               2               2 \n",
       "     总市值(元) A股流通股本(股)          市盈率 \n",
       "              2               2               2 "
      ]
     },
     "metadata": {},
     "output_type": "display_data"
    }
   ],
   "source": [
    "colSums(is.na(df))"
   ]
  },
  {
   "cell_type": "markdown",
   "metadata": {},
   "source": [
    "### 54.提取日期列含有空值的行"
   ]
  },
  {
   "cell_type": "code",
   "execution_count": 65,
   "metadata": {
    "collapsed": false
   },
   "outputs": [
    {
     "data": {
      "text/html": [
       "<table>\n",
       "<thead><tr><th scope=col>﻿代码</th><th scope=col>简称</th><th scope=col>日期</th><th scope=col>前收盘价(元)</th><th scope=col>开盘价(元)</th><th scope=col>最高价(元)</th><th scope=col>最低价(元)</th><th scope=col>收盘价(元)</th><th scope=col>成交量(股)</th><th scope=col>成交金额(元)</th><th scope=col>涨跌(元)</th><th scope=col>涨跌幅(%)</th><th scope=col>均价(元)</th><th scope=col>换手率(%)</th><th scope=col>A股流通市值(元)</th><th scope=col>总市值(元)</th><th scope=col>A股流通股本(股)</th><th scope=col>市盈率</th></tr></thead>\n",
       "<tbody>\n",
       "\t<tr><td>NA                </td><td>NA                </td><td>NA                </td><td>NA                </td><td>NA                </td><td>NA                </td><td>NA                </td><td>NA                </td><td>NA                </td><td>NA                </td><td>NA                </td><td>NA                </td><td>NA                </td><td>NA                </td><td>NA                </td><td>NA                </td><td>NA                </td><td>NA                </td></tr>\n",
       "\t<tr><td>数据来源：Wind资讯</td><td>NA                </td><td>NA                </td><td>NA                </td><td>NA                </td><td>NA                </td><td>NA                </td><td>NA                </td><td>NA                </td><td>NA                </td><td>NA                </td><td>NA                </td><td>NA                </td><td>NA                </td><td>NA                </td><td>NA                </td><td>NA                </td><td>NA                </td></tr>\n",
       "</tbody>\n",
       "</table>\n"
      ],
      "text/latex": [
       "\\begin{tabular}{r|llllllllllllllllll}\n",
       " ﻿代码 & 简称 & 日期 & 前收盘价(元) & 开盘价(元) & 最高价(元) & 最低价(元) & 收盘价(元) & 成交量(股) & 成交金额(元) & 涨跌(元) & 涨跌幅(\\%) & 均价(元) & 换手率(\\%) & A股流通市值(元) & 总市值(元) & A股流通股本(股) & 市盈率\\\\\n",
       "\\hline\n",
       "\t NA                 & NA                 & NA                 & NA                 & NA                 & NA                 & NA                 & NA                 & NA                 & NA                 & NA                 & NA                 & NA                 & NA                 & NA                 & NA                 & NA                 & NA                \\\\\n",
       "\t 数据来源：Wind资讯 & NA                 & NA                 & NA                 & NA                 & NA                 & NA                 & NA                 & NA                 & NA                 & NA                 & NA                 & NA                 & NA                 & NA                 & NA                 & NA                 & NA                \\\\\n",
       "\\end{tabular}\n"
      ],
      "text/markdown": [
       "\n",
       "﻿代码 | 简称 | 日期 | 前收盘价(元) | 开盘价(元) | 最高价(元) | 最低价(元) | 收盘价(元) | 成交量(股) | 成交金额(元) | 涨跌(元) | 涨跌幅(%) | 均价(元) | 换手率(%) | A股流通市值(元) | 总市值(元) | A股流通股本(股) | 市盈率 | \n",
       "|---|---|\n",
       "| NA                 | NA                 | NA                 | NA                 | NA                 | NA                 | NA                 | NA                 | NA                 | NA                 | NA                 | NA                 | NA                 | NA                 | NA                 | NA                 | NA                 | NA                 | \n",
       "| 数据来源：Wind资讯 | NA                 | NA                 | NA                 | NA                 | NA                 | NA                 | NA                 | NA                 | NA                 | NA                 | NA                 | NA                 | NA                 | NA                 | NA                 | NA                 | NA                 | \n",
       "\n",
       "\n"
      ],
      "text/plain": [
       "  ﻿代码               简称 日期 前收盘价(元) 开盘价(元) 最高价(元) 最低价(元)\n",
       "1 NA                 NA   <NA> NA           NA         NA         NA        \n",
       "2 数据来源：Wind资讯 NA   <NA> NA           NA         NA         NA        \n",
       "  收盘价(元) 成交量(股) 成交金额(元) 涨跌(元) 涨跌幅(%) 均价(元) 换手率(%)\n",
       "1 NA         NA         NA           NA       NA        NA       NA       \n",
       "2 NA         NA         NA           NA       NA        NA       NA       \n",
       "  A股流通市值(元) 总市值(元) A股流通股本(股) 市盈率\n",
       "1 NA              NA         NA              NA    \n",
       "2 NA              NA         NA              NA    "
      ]
     },
     "metadata": {},
     "output_type": "display_data"
    }
   ],
   "source": [
    "df[is.na(df$日期),]"
   ]
  },
  {
   "cell_type": "markdown",
   "metadata": {},
   "source": [
    "### 55.输出每列缺失值具体行数"
   ]
  },
  {
   "cell_type": "code",
   "execution_count": null,
   "metadata": {
    "collapsed": true
   },
   "outputs": [],
   "source": [
    "library(glue)\n",
    "\n",
    "for (i in names(df)){\n",
    "  if(sum(is.na(df[,'日期'])) != 0){\n",
    "    res1 <- which(is.na(df[,i]))\n",
    "    res2 <- paste(res1,collapse = ',')\n",
    "    print(glue('列名：\"{i}\", 第[{res2}]行有缺失值'))\n",
    "  }\n",
    "}"
   ]
  },
  {
   "cell_type": "markdown",
   "metadata": {
    "collapsed": true,
    "deletable": true,
    "editable": true
   },
   "source": [
    "### 56.删除所有存在缺失值的行"
   ]
  },
  {
   "cell_type": "code",
   "execution_count": 67,
   "metadata": {
    "collapsed": true,
    "deletable": true,
    "editable": true
   },
   "outputs": [],
   "source": [
    "df <- na.omit(df)"
   ]
  },
  {
   "cell_type": "markdown",
   "metadata": {},
   "source": [
    "### 57.绘制收盘价的折线图"
   ]
  },
  {
   "cell_type": "code",
   "execution_count": 68,
   "metadata": {
    "collapsed": false,
    "scrolled": true
   },
   "outputs": [
    {
     "data": {},
     "metadata": {},
     "output_type": "display_data"
    },
    {
     "data": {
      "image/png": "[encoded data removed]",
      "text/plain": [
       "plot without title"
      ]
     },
     "metadata": {},
     "output_type": "display_data"
    }
   ],
   "source": [
    "library(ggplot2)\n",
    "\n",
    "df %>%\n",
    "  ggplot(aes(日期,`收盘价(元)`)) +\n",
    "  geom_line()"
   ]
  },
  {
   "cell_type": "markdown",
   "metadata": {},
   "source": [
    "### 58.同时绘制开盘价与收盘价"
   ]
  },
  {
   "cell_type": "code",
   "execution_count": 70,
   "metadata": {
    "collapsed": false
   },
   "outputs": [
    {
     "data": {},
     "metadata": {},
     "output_type": "display_data"
    },
    {
     "data": {
      "image/png": "[encoded data removed]",
      "text/plain": [
       "plot without title"
      ]
     },
     "metadata": {},
     "output_type": "display_data"
    }
   ],
   "source": [
    "df %>%\n",
    "  ggplot() +\n",
    "  geom_line(aes(日期,`收盘价(元)`), size=1.2, color='steelblue') +\n",
    "  geom_line(aes(日期,`开盘价(元)`), size=1.2, color='orange') +\n",
    "  ylab(c('价格(元)'))\n",
    "# 这种画出来没有图例，当然可以手动添加，但为了映射方便可以用另一种方法"
   ]
  },
  {
   "cell_type": "code",
   "execution_count": null,
   "metadata": {
    "collapsed": true
   },
   "outputs": [],
   "source": [
    "### 方法二\n",
    "library(tidyr)\n",
    "\n",
    "df %>%\n",
    "  select(日期,`开盘价(元)`,`收盘价(元)`) %>%\n",
    "  pivot_longer(c(`开盘价(元)`,`收盘价(元)`),\n",
    "               names_to='type',values_to='price') %>%\n",
    "  ggplot(aes(日期,price,color=type)) +\n",
    "  geom_line(size=1.2) +\n",
    "  scale_color_manual(values=c('steelblue','orange')) +\n",
    "  theme_bw() +\n",
    "  theme(\n",
    "    panel.grid.major = element_blank(),\n",
    "    panel.grid.minor = element_blank(),\n",
    "    legend.title = element_blank(),\n",
    "    legend.position = c(0.86, 0.9)\n",
    "  )"
   ]
  },
  {
   "cell_type": "markdown",
   "metadata": {},
   "source": [
    "### 59.绘制涨跌幅的直方图"
   ]
  },
  {
   "cell_type": "code",
   "execution_count": 71,
   "metadata": {
    "collapsed": false
   },
   "outputs": [
    {
     "name": "stderr",
     "output_type": "stream",
     "text": [
      "`stat_bin()` using `bins = 30`. Pick better value with `binwidth`.\n"
     ]
    },
    {
     "data": {},
     "metadata": {},
     "output_type": "display_data"
    },
    {
     "data": {
      "image/png": "[encoded data removed]",
      "text/plain": [
       "plot without title"
      ]
     },
     "metadata": {},
     "output_type": "display_data"
    }
   ],
   "source": [
    "df %>%\n",
    "  ggplot(aes(`涨跌幅(%)`)) +\n",
    "  geom_histogram()\n",
    "# 可以指定bins"
   ]
  },
  {
   "cell_type": "markdown",
   "metadata": {},
   "source": [
    "### 60.让直方图更细致"
   ]
  },
  {
   "cell_type": "code",
   "execution_count": 72,
   "metadata": {
    "collapsed": false
   },
   "outputs": [
    {
     "data": {},
     "metadata": {},
     "output_type": "display_data"
    },
    {
     "data": {
      "image/png": "[encoded data removed]",
      "text/plain": [
       "plot without title"
      ]
     },
     "metadata": {},
     "output_type": "display_data"
    }
   ],
   "source": [
    "df %>%\n",
    "  ggplot(aes(`涨跌幅(%)`)) +\n",
    "  geom_histogram(bins=30)"
   ]
  },
  {
   "cell_type": "markdown",
   "metadata": {},
   "source": [
    "### 61.以data的列名创建一个dataframe"
   ]
  },
  {
   "cell_type": "code",
   "execution_count": 73,
   "metadata": {
    "collapsed": true
   },
   "outputs": [],
   "source": [
    "temp <- as_tibble(names(df))"
   ]
  },
  {
   "cell_type": "markdown",
   "metadata": {},
   "source": [
    "### 62.打印所有换手率不是数字的行"
   ]
  },
  {
   "cell_type": "code",
   "execution_count": 74,
   "metadata": {
    "collapsed": false
   },
   "outputs": [
    {
     "name": "stderr",
     "output_type": "stream",
     "text": [
      "Warning message in lapply(x, `[`, i):\n",
      "“NAs introduced by coercion”"
     ]
    },
    {
     "data": {
      "text/html": [
       "<table>\n",
       "<thead><tr><th scope=col>﻿代码</th><th scope=col>简称</th><th scope=col>日期</th><th scope=col>前收盘价(元)</th><th scope=col>开盘价(元)</th><th scope=col>最高价(元)</th><th scope=col>最低价(元)</th><th scope=col>收盘价(元)</th><th scope=col>成交量(股)</th><th scope=col>成交金额(元)</th><th scope=col>涨跌(元)</th><th scope=col>涨跌幅(%)</th><th scope=col>均价(元)</th><th scope=col>换手率(%)</th><th scope=col>A股流通市值(元)</th><th scope=col>总市值(元)</th><th scope=col>A股流通股本(股)</th><th scope=col>市盈率</th></tr></thead>\n",
       "<tbody>\n",
       "\t<tr><td>600000.SH  </td><td>浦发银行   </td><td>2016-02-16 </td><td>16.2946    </td><td>16.2946    </td><td>16.2946    </td><td>16.2946    </td><td>16.2946    </td><td>--         </td><td>--         </td><td>0          </td><td>0          </td><td>--         </td><td>--         </td><td>3.44157e+11</td><td>3.44157e+11</td><td>18653471415</td><td>6.801      </td></tr>\n",
       "\t<tr><td>600000.SH  </td><td>浦发银行   </td><td>2016-02-17 </td><td>16.2946    </td><td>16.2946    </td><td>16.2946    </td><td>16.2946    </td><td>16.2946    </td><td>--         </td><td>--         </td><td>0          </td><td>0          </td><td>--         </td><td>--         </td><td>3.44157e+11</td><td>3.44157e+11</td><td>18653471415</td><td>6.801      </td></tr>\n",
       "\t<tr><td>600000.SH  </td><td>浦发银行   </td><td>2016-02-18 </td><td>16.2946    </td><td>16.2946    </td><td>16.2946    </td><td>16.2946    </td><td>16.2946    </td><td>--         </td><td>--         </td><td>0          </td><td>0          </td><td>--         </td><td>--         </td><td>3.44157e+11</td><td>3.44157e+11</td><td>18653471415</td><td>6.801      </td></tr>\n",
       "\t<tr><td>600000.SH  </td><td>浦发银行   </td><td>2016-02-19 </td><td>16.2946    </td><td>16.2946    </td><td>16.2946    </td><td>16.2946    </td><td>16.2946    </td><td>--         </td><td>--         </td><td>0          </td><td>0          </td><td>--         </td><td>--         </td><td>3.44157e+11</td><td>3.44157e+11</td><td>18653471415</td><td>6.801      </td></tr>\n",
       "\t<tr><td>600000.SH  </td><td>浦发银行   </td><td>2016-02-22 </td><td>16.2946    </td><td>16.2946    </td><td>16.2946    </td><td>16.2946    </td><td>16.2946    </td><td>--         </td><td>--         </td><td>0          </td><td>0          </td><td>--         </td><td>--         </td><td>3.44157e+11</td><td>3.44157e+11</td><td>18653471415</td><td>6.801      </td></tr>\n",
       "\t<tr><td>600000.SH  </td><td>浦发银行   </td><td>2016-02-23 </td><td>16.2946    </td><td>16.2946    </td><td>16.2946    </td><td>16.2946    </td><td>16.2946    </td><td>--         </td><td>--         </td><td>0          </td><td>0          </td><td>--         </td><td>--         </td><td>3.44157e+11</td><td>3.44157e+11</td><td>18653471415</td><td>6.801      </td></tr>\n",
       "\t<tr><td>600000.SH  </td><td>浦发银行   </td><td>2016-02-24 </td><td>16.2946    </td><td>16.2946    </td><td>16.2946    </td><td>16.2946    </td><td>16.2946    </td><td>--         </td><td>--         </td><td>0          </td><td>0          </td><td>--         </td><td>--         </td><td>3.44157e+11</td><td>3.44157e+11</td><td>18653471415</td><td>6.801      </td></tr>\n",
       "\t<tr><td>600000.SH  </td><td>浦发银行   </td><td>2016-02-25 </td><td>16.2946    </td><td>16.2946    </td><td>16.2946    </td><td>16.2946    </td><td>16.2946    </td><td>--         </td><td>--         </td><td>0          </td><td>0          </td><td>--         </td><td>--         </td><td>3.44157e+11</td><td>3.44157e+11</td><td>18653471415</td><td>6.801      </td></tr>\n",
       "\t<tr><td>600000.SH  </td><td>浦发银行   </td><td>2016-02-26 </td><td>16.2946    </td><td>16.2946    </td><td>16.2946    </td><td>16.2946    </td><td>16.2946    </td><td>--         </td><td>--         </td><td>0          </td><td>0          </td><td>--         </td><td>--         </td><td>3.44157e+11</td><td>3.44157e+11</td><td>18653471415</td><td>6.801      </td></tr>\n",
       "\t<tr><td>600000.SH  </td><td>浦发银行   </td><td>2016-02-29 </td><td>16.2946    </td><td>16.2946    </td><td>16.2946    </td><td>16.2946    </td><td>16.2946    </td><td>--         </td><td>--         </td><td>0          </td><td>0          </td><td>--         </td><td>--         </td><td>3.44157e+11</td><td>3.44157e+11</td><td>18653471415</td><td>6.801      </td></tr>\n",
       "\t<tr><td>600000.SH  </td><td>浦发银行   </td><td>2016-03-01 </td><td>16.2946    </td><td>16.2946    </td><td>16.2946    </td><td>16.2946    </td><td>16.2946    </td><td>--         </td><td>--         </td><td>0          </td><td>0          </td><td>--         </td><td>--         </td><td>3.44157e+11</td><td>3.44157e+11</td><td>18653471415</td><td>6.801      </td></tr>\n",
       "\t<tr><td>600000.SH  </td><td>浦发银行   </td><td>2016-03-02 </td><td>16.2946    </td><td>16.2946    </td><td>16.2946    </td><td>16.2946    </td><td>16.2946    </td><td>--         </td><td>--         </td><td>0          </td><td>0          </td><td>--         </td><td>--         </td><td>3.44157e+11</td><td>3.44157e+11</td><td>18653471415</td><td>6.801      </td></tr>\n",
       "\t<tr><td>600000.SH  </td><td>浦发银行   </td><td>2016-03-03 </td><td>16.2946    </td><td>16.2946    </td><td>16.2946    </td><td>16.2946    </td><td>16.2946    </td><td>--         </td><td>--         </td><td>0          </td><td>0          </td><td>--         </td><td>--         </td><td>3.44157e+11</td><td>3.44157e+11</td><td>18653471415</td><td>6.801      </td></tr>\n",
       "\t<tr><td>600000.SH  </td><td>浦发银行   </td><td>2016-03-04 </td><td>16.2946    </td><td>16.2946    </td><td>16.2946    </td><td>16.2946    </td><td>16.2946    </td><td>--         </td><td>--         </td><td>0          </td><td>0          </td><td>--         </td><td>--         </td><td>3.44157e+11</td><td>3.44157e+11</td><td>18653471415</td><td>6.801      </td></tr>\n",
       "\t<tr><td>600000.SH  </td><td>浦发银行   </td><td>2016-03-07 </td><td>16.2946    </td><td>16.2946    </td><td>16.2946    </td><td>16.2946    </td><td>16.2946    </td><td>--         </td><td>--         </td><td>0          </td><td>0          </td><td>--         </td><td>--         </td><td>3.44157e+11</td><td>3.44157e+11</td><td>18653471415</td><td>6.801      </td></tr>\n",
       "\t<tr><td>600000.SH  </td><td>浦发银行   </td><td>2016-03-08 </td><td>16.2946    </td><td>16.2946    </td><td>16.2946    </td><td>16.2946    </td><td>16.2946    </td><td>--         </td><td>--         </td><td>0          </td><td>0          </td><td>--         </td><td>--         </td><td>3.44157e+11</td><td>3.44157e+11</td><td>18653471415</td><td>6.801      </td></tr>\n",
       "\t<tr><td>600000.SH  </td><td>浦发银行   </td><td>2016-03-09 </td><td>16.2946    </td><td>16.2946    </td><td>16.2946    </td><td>16.2946    </td><td>16.2946    </td><td>--         </td><td>--         </td><td>0          </td><td>0          </td><td>--         </td><td>--         </td><td>3.44157e+11</td><td>3.44157e+11</td><td>18653471415</td><td>6.801      </td></tr>\n",
       "\t<tr><td>600000.SH  </td><td>浦发银行   </td><td>2016-03-10 </td><td>16.2946    </td><td>16.2946    </td><td>16.2946    </td><td>16.2946    </td><td>16.2946    </td><td>--         </td><td>--         </td><td>0          </td><td>0          </td><td>--         </td><td>--         </td><td>3.44157e+11</td><td>3.44157e+11</td><td>18653471415</td><td>6.801      </td></tr>\n",
       "</tbody>\n",
       "</table>\n"
      ],
      "text/latex": [
       "\\begin{tabular}{r|llllllllllllllllll}\n",
       " ﻿代码 & 简称 & 日期 & 前收盘价(元) & 开盘价(元) & 最高价(元) & 最低价(元) & 收盘价(元) & 成交量(股) & 成交金额(元) & 涨跌(元) & 涨跌幅(\\%) & 均价(元) & 换手率(\\%) & A股流通市值(元) & 总市值(元) & A股流通股本(股) & 市盈率\\\\\n",
       "\\hline\n",
       "\t 600000.SH   & 浦发银行    & 2016-02-16  & 16.2946     & 16.2946     & 16.2946     & 16.2946     & 16.2946     & --          & --          & 0           & 0           & --          & --          & 3.44157e+11 & 3.44157e+11 & 18653471415 & 6.801      \\\\\n",
       "\t 600000.SH   & 浦发银行    & 2016-02-17  & 16.2946     & 16.2946     & 16.2946     & 16.2946     & 16.2946     & --          & --          & 0           & 0           & --          & --          & 3.44157e+11 & 3.44157e+11 & 18653471415 & 6.801      \\\\\n",
       "\t 600000.SH   & 浦发银行    & 2016-02-18  & 16.2946     & 16.2946     & 16.2946     & 16.2946     & 16.2946     & --          & --          & 0           & 0           & --          & --          & 3.44157e+11 & 3.44157e+11 & 18653471415 & 6.801      \\\\\n",
       "\t 600000.SH   & 浦发银行    & 2016-02-19  & 16.2946     & 16.2946     & 16.2946     & 16.2946     & 16.2946     & --          & --          & 0           & 0           & --          & --          & 3.44157e+11 & 3.44157e+11 & 18653471415 & 6.801      \\\\\n",
       "\t 600000.SH   & 浦发银行    & 2016-02-22  & 16.2946     & 16.2946     & 16.2946     & 16.2946     & 16.2946     & --          & --          & 0           & 0           & --          & --          & 3.44157e+11 & 3.44157e+11 & 18653471415 & 6.801      \\\\\n",
       "\t 600000.SH   & 浦发银行    & 2016-02-23  & 16.2946     & 16.2946     & 16.2946     & 16.2946     & 16.2946     & --          & --          & 0           & 0           & --          & --          & 3.44157e+11 & 3.44157e+11 & 18653471415 & 6.801      \\\\\n",
       "\t 600000.SH   & 浦发银行    & 2016-02-24  & 16.2946     & 16.2946     & 16.2946     & 16.2946     & 16.2946     & --          & --          & 0           & 0           & --          & --          & 3.44157e+11 & 3.44157e+11 & 18653471415 & 6.801      \\\\\n",
       "\t 600000.SH   & 浦发银行    & 2016-02-25  & 16.2946     & 16.2946     & 16.2946     & 16.2946     & 16.2946     & --          & --          & 0           & 0           & --          & --          & 3.44157e+11 & 3.44157e+11 & 18653471415 & 6.801      \\\\\n",
       "\t 600000.SH   & 浦发银行    & 2016-02-26  & 16.2946     & 16.2946     & 16.2946     & 16.2946     & 16.2946     & --          & --          & 0           & 0           & --          & --          & 3.44157e+11 & 3.44157e+11 & 18653471415 & 6.801      \\\\\n",
       "\t 600000.SH   & 浦发银行    & 2016-02-29  & 16.2946     & 16.2946     & 16.2946     & 16.2946     & 16.2946     & --          & --          & 0           & 0           & --          & --          & 3.44157e+11 & 3.44157e+11 & 18653471415 & 6.801      \\\\\n",
       "\t 600000.SH   & 浦发银行    & 2016-03-01  & 16.2946     & 16.2946     & 16.2946     & 16.2946     & 16.2946     & --          & --          & 0           & 0           & --          & --          & 3.44157e+11 & 3.44157e+11 & 18653471415 & 6.801      \\\\\n",
       "\t 600000.SH   & 浦发银行    & 2016-03-02  & 16.2946     & 16.2946     & 16.2946     & 16.2946     & 16.2946     & --          & --          & 0           & 0           & --          & --          & 3.44157e+11 & 3.44157e+11 & 18653471415 & 6.801      \\\\\n",
       "\t 600000.SH   & 浦发银行    & 2016-03-03  & 16.2946     & 16.2946     & 16.2946     & 16.2946     & 16.2946     & --          & --          & 0           & 0           & --          & --          & 3.44157e+11 & 3.44157e+11 & 18653471415 & 6.801      \\\\\n",
       "\t 600000.SH   & 浦发银行    & 2016-03-04  & 16.2946     & 16.2946     & 16.2946     & 16.2946     & 16.2946     & --          & --          & 0           & 0           & --          & --          & 3.44157e+11 & 3.44157e+11 & 18653471415 & 6.801      \\\\\n",
       "\t 600000.SH   & 浦发银行    & 2016-03-07  & 16.2946     & 16.2946     & 16.2946     & 16.2946     & 16.2946     & --          & --          & 0           & 0           & --          & --          & 3.44157e+11 & 3.44157e+11 & 18653471415 & 6.801      \\\\\n",
       "\t 600000.SH   & 浦发银行    & 2016-03-08  & 16.2946     & 16.2946     & 16.2946     & 16.2946     & 16.2946     & --          & --          & 0           & 0           & --          & --          & 3.44157e+11 & 3.44157e+11 & 18653471415 & 6.801      \\\\\n",
       "\t 600000.SH   & 浦发银行    & 2016-03-09  & 16.2946     & 16.2946     & 16.2946     & 16.2946     & 16.2946     & --          & --          & 0           & 0           & --          & --          & 3.44157e+11 & 3.44157e+11 & 18653471415 & 6.801      \\\\\n",
       "\t 600000.SH   & 浦发银行    & 2016-03-10  & 16.2946     & 16.2946     & 16.2946     & 16.2946     & 16.2946     & --          & --          & 0           & 0           & --          & --          & 3.44157e+11 & 3.44157e+11 & 18653471415 & 6.801      \\\\\n",
       "\\end{tabular}\n"
      ],
      "text/markdown": [
       "\n",
       "﻿代码 | 简称 | 日期 | 前收盘价(元) | 开盘价(元) | 最高价(元) | 最低价(元) | 收盘价(元) | 成交量(股) | 成交金额(元) | 涨跌(元) | 涨跌幅(%) | 均价(元) | 换手率(%) | A股流通市值(元) | 总市值(元) | A股流通股本(股) | 市盈率 | \n",
       "|---|---|---|---|---|---|---|---|---|---|---|---|---|---|---|---|---|---|\n",
       "| 600000.SH   | 浦发银行    | 2016-02-16  | 16.2946     | 16.2946     | 16.2946     | 16.2946     | 16.2946     | --          | --          | 0           | 0           | --          | --          | 3.44157e+11 | 3.44157e+11 | 18653471415 | 6.801       | \n",
       "| 600000.SH   | 浦发银行    | 2016-02-17  | 16.2946     | 16.2946     | 16.2946     | 16.2946     | 16.2946     | --          | --          | 0           | 0           | --          | --          | 3.44157e+11 | 3.44157e+11 | 18653471415 | 6.801       | \n",
       "| 600000.SH   | 浦发银行    | 2016-02-18  | 16.2946     | 16.2946     | 16.2946     | 16.2946     | 16.2946     | --          | --          | 0           | 0           | --          | --          | 3.44157e+11 | 3.44157e+11 | 18653471415 | 6.801       | \n",
       "| 600000.SH   | 浦发银行    | 2016-02-19  | 16.2946     | 16.2946     | 16.2946     | 16.2946     | 16.2946     | --          | --          | 0           | 0           | --          | --          | 3.44157e+11 | 3.44157e+11 | 18653471415 | 6.801       | \n",
       "| 600000.SH   | 浦发银行    | 2016-02-22  | 16.2946     | 16.2946     | 16.2946     | 16.2946     | 16.2946     | --          | --          | 0           | 0           | --          | --          | 3.44157e+11 | 3.44157e+11 | 18653471415 | 6.801       | \n",
       "| 600000.SH   | 浦发银行    | 2016-02-23  | 16.2946     | 16.2946     | 16.2946     | 16.2946     | 16.2946     | --          | --          | 0           | 0           | --          | --          | 3.44157e+11 | 3.44157e+11 | 18653471415 | 6.801       | \n",
       "| 600000.SH   | 浦发银行    | 2016-02-24  | 16.2946     | 16.2946     | 16.2946     | 16.2946     | 16.2946     | --          | --          | 0           | 0           | --          | --          | 3.44157e+11 | 3.44157e+11 | 18653471415 | 6.801       | \n",
       "| 600000.SH   | 浦发银行    | 2016-02-25  | 16.2946     | 16.2946     | 16.2946     | 16.2946     | 16.2946     | --          | --          | 0           | 0           | --          | --          | 3.44157e+11 | 3.44157e+11 | 18653471415 | 6.801       | \n",
       "| 600000.SH   | 浦发银行    | 2016-02-26  | 16.2946     | 16.2946     | 16.2946     | 16.2946     | 16.2946     | --          | --          | 0           | 0           | --          | --          | 3.44157e+11 | 3.44157e+11 | 18653471415 | 6.801       | \n",
       "| 600000.SH   | 浦发银行    | 2016-02-29  | 16.2946     | 16.2946     | 16.2946     | 16.2946     | 16.2946     | --          | --          | 0           | 0           | --          | --          | 3.44157e+11 | 3.44157e+11 | 18653471415 | 6.801       | \n",
       "| 600000.SH   | 浦发银行    | 2016-03-01  | 16.2946     | 16.2946     | 16.2946     | 16.2946     | 16.2946     | --          | --          | 0           | 0           | --          | --          | 3.44157e+11 | 3.44157e+11 | 18653471415 | 6.801       | \n",
       "| 600000.SH   | 浦发银行    | 2016-03-02  | 16.2946     | 16.2946     | 16.2946     | 16.2946     | 16.2946     | --          | --          | 0           | 0           | --          | --          | 3.44157e+11 | 3.44157e+11 | 18653471415 | 6.801       | \n",
       "| 600000.SH   | 浦发银行    | 2016-03-03  | 16.2946     | 16.2946     | 16.2946     | 16.2946     | 16.2946     | --          | --          | 0           | 0           | --          | --          | 3.44157e+11 | 3.44157e+11 | 18653471415 | 6.801       | \n",
       "| 600000.SH   | 浦发银行    | 2016-03-04  | 16.2946     | 16.2946     | 16.2946     | 16.2946     | 16.2946     | --          | --          | 0           | 0           | --          | --          | 3.44157e+11 | 3.44157e+11 | 18653471415 | 6.801       | \n",
       "| 600000.SH   | 浦发银行    | 2016-03-07  | 16.2946     | 16.2946     | 16.2946     | 16.2946     | 16.2946     | --          | --          | 0           | 0           | --          | --          | 3.44157e+11 | 3.44157e+11 | 18653471415 | 6.801       | \n",
       "| 600000.SH   | 浦发银行    | 2016-03-08  | 16.2946     | 16.2946     | 16.2946     | 16.2946     | 16.2946     | --          | --          | 0           | 0           | --          | --          | 3.44157e+11 | 3.44157e+11 | 18653471415 | 6.801       | \n",
       "| 600000.SH   | 浦发银行    | 2016-03-09  | 16.2946     | 16.2946     | 16.2946     | 16.2946     | 16.2946     | --          | --          | 0           | 0           | --          | --          | 3.44157e+11 | 3.44157e+11 | 18653471415 | 6.801       | \n",
       "| 600000.SH   | 浦发银行    | 2016-03-10  | 16.2946     | 16.2946     | 16.2946     | 16.2946     | 16.2946     | --          | --          | 0           | 0           | --          | --          | 3.44157e+11 | 3.44157e+11 | 18653471415 | 6.801       | \n",
       "\n",
       "\n"
      ],
      "text/plain": [
       "   ﻿代码      简称     日期       前收盘价(元) 开盘价(元) 最高价(元) 最低价(元)\n",
       "1  600000.SH 浦发银行 2016-02-16 16.2946      16.2946    16.2946    16.2946   \n",
       "2  600000.SH 浦发银行 2016-02-17 16.2946      16.2946    16.2946    16.2946   \n",
       "3  600000.SH 浦发银行 2016-02-18 16.2946      16.2946    16.2946    16.2946   \n",
       "4  600000.SH 浦发银行 2016-02-19 16.2946      16.2946    16.2946    16.2946   \n",
       "5  600000.SH 浦发银行 2016-02-22 16.2946      16.2946    16.2946    16.2946   \n",
       "6  600000.SH 浦发银行 2016-02-23 16.2946      16.2946    16.2946    16.2946   \n",
       "7  600000.SH 浦发银行 2016-02-24 16.2946      16.2946    16.2946    16.2946   \n",
       "8  600000.SH 浦发银行 2016-02-25 16.2946      16.2946    16.2946    16.2946   \n",
       "9  600000.SH 浦发银行 2016-02-26 16.2946      16.2946    16.2946    16.2946   \n",
       "10 600000.SH 浦发银行 2016-02-29 16.2946      16.2946    16.2946    16.2946   \n",
       "11 600000.SH 浦发银行 2016-03-01 16.2946      16.2946    16.2946    16.2946   \n",
       "12 600000.SH 浦发银行 2016-03-02 16.2946      16.2946    16.2946    16.2946   \n",
       "13 600000.SH 浦发银行 2016-03-03 16.2946      16.2946    16.2946    16.2946   \n",
       "14 600000.SH 浦发银行 2016-03-04 16.2946      16.2946    16.2946    16.2946   \n",
       "15 600000.SH 浦发银行 2016-03-07 16.2946      16.2946    16.2946    16.2946   \n",
       "16 600000.SH 浦发银行 2016-03-08 16.2946      16.2946    16.2946    16.2946   \n",
       "17 600000.SH 浦发银行 2016-03-09 16.2946      16.2946    16.2946    16.2946   \n",
       "18 600000.SH 浦发银行 2016-03-10 16.2946      16.2946    16.2946    16.2946   \n",
       "   收盘价(元) 成交量(股) 成交金额(元) 涨跌(元) 涨跌幅(%) 均价(元) 换手率(%)\n",
       "1  16.2946    --         --           0        0         --       --       \n",
       "2  16.2946    --         --           0        0         --       --       \n",
       "3  16.2946    --         --           0        0         --       --       \n",
       "4  16.2946    --         --           0        0         --       --       \n",
       "5  16.2946    --         --           0        0         --       --       \n",
       "6  16.2946    --         --           0        0         --       --       \n",
       "7  16.2946    --         --           0        0         --       --       \n",
       "8  16.2946    --         --           0        0         --       --       \n",
       "9  16.2946    --         --           0        0         --       --       \n",
       "10 16.2946    --         --           0        0         --       --       \n",
       "11 16.2946    --         --           0        0         --       --       \n",
       "12 16.2946    --         --           0        0         --       --       \n",
       "13 16.2946    --         --           0        0         --       --       \n",
       "14 16.2946    --         --           0        0         --       --       \n",
       "15 16.2946    --         --           0        0         --       --       \n",
       "16 16.2946    --         --           0        0         --       --       \n",
       "17 16.2946    --         --           0        0         --       --       \n",
       "18 16.2946    --         --           0        0         --       --       \n",
       "   A股流通市值(元) 总市值(元)  A股流通股本(股) 市盈率\n",
       "1  3.44157e+11     3.44157e+11 18653471415     6.801 \n",
       "2  3.44157e+11     3.44157e+11 18653471415     6.801 \n",
       "3  3.44157e+11     3.44157e+11 18653471415     6.801 \n",
       "4  3.44157e+11     3.44157e+11 18653471415     6.801 \n",
       "5  3.44157e+11     3.44157e+11 18653471415     6.801 \n",
       "6  3.44157e+11     3.44157e+11 18653471415     6.801 \n",
       "7  3.44157e+11     3.44157e+11 18653471415     6.801 \n",
       "8  3.44157e+11     3.44157e+11 18653471415     6.801 \n",
       "9  3.44157e+11     3.44157e+11 18653471415     6.801 \n",
       "10 3.44157e+11     3.44157e+11 18653471415     6.801 \n",
       "11 3.44157e+11     3.44157e+11 18653471415     6.801 \n",
       "12 3.44157e+11     3.44157e+11 18653471415     6.801 \n",
       "13 3.44157e+11     3.44157e+11 18653471415     6.801 \n",
       "14 3.44157e+11     3.44157e+11 18653471415     6.801 \n",
       "15 3.44157e+11     3.44157e+11 18653471415     6.801 \n",
       "16 3.44157e+11     3.44157e+11 18653471415     6.801 \n",
       "17 3.44157e+11     3.44157e+11 18653471415     6.801 \n",
       "18 3.44157e+11     3.44157e+11 18653471415     6.801 "
      ]
     },
     "metadata": {},
     "output_type": "display_data"
    }
   ],
   "source": [
    "#换手率这一列属性为chr，需要先强转数值型\n",
    "#如果转换失败会变成NA，判断即可\n",
    "df[is.na(as.numeric(df$`换手率(%)`)),]"
   ]
  },
  {
   "cell_type": "markdown",
   "metadata": {},
   "source": [
    "### 63.打印所有换手率为--的行"
   ]
  },
  {
   "cell_type": "code",
   "execution_count": 75,
   "metadata": {
    "collapsed": false
   },
   "outputs": [
    {
     "data": {
      "text/html": [
       "<table>\n",
       "<thead><tr><th scope=col>﻿代码</th><th scope=col>简称</th><th scope=col>日期</th><th scope=col>前收盘价(元)</th><th scope=col>开盘价(元)</th><th scope=col>最高价(元)</th><th scope=col>最低价(元)</th><th scope=col>收盘价(元)</th><th scope=col>成交量(股)</th><th scope=col>成交金额(元)</th><th scope=col>涨跌(元)</th><th scope=col>涨跌幅(%)</th><th scope=col>均价(元)</th><th scope=col>换手率(%)</th><th scope=col>A股流通市值(元)</th><th scope=col>总市值(元)</th><th scope=col>A股流通股本(股)</th><th scope=col>市盈率</th></tr></thead>\n",
       "<tbody>\n",
       "\t<tr><td>600000.SH  </td><td>浦发银行   </td><td>2016-02-16 </td><td>16.2946    </td><td>16.2946    </td><td>16.2946    </td><td>16.2946    </td><td>16.2946    </td><td>--         </td><td>--         </td><td>0          </td><td>0          </td><td>--         </td><td>--         </td><td>3.44157e+11</td><td>3.44157e+11</td><td>18653471415</td><td>6.801      </td></tr>\n",
       "\t<tr><td>600000.SH  </td><td>浦发银行   </td><td>2016-02-17 </td><td>16.2946    </td><td>16.2946    </td><td>16.2946    </td><td>16.2946    </td><td>16.2946    </td><td>--         </td><td>--         </td><td>0          </td><td>0          </td><td>--         </td><td>--         </td><td>3.44157e+11</td><td>3.44157e+11</td><td>18653471415</td><td>6.801      </td></tr>\n",
       "\t<tr><td>600000.SH  </td><td>浦发银行   </td><td>2016-02-18 </td><td>16.2946    </td><td>16.2946    </td><td>16.2946    </td><td>16.2946    </td><td>16.2946    </td><td>--         </td><td>--         </td><td>0          </td><td>0          </td><td>--         </td><td>--         </td><td>3.44157e+11</td><td>3.44157e+11</td><td>18653471415</td><td>6.801      </td></tr>\n",
       "\t<tr><td>600000.SH  </td><td>浦发银行   </td><td>2016-02-19 </td><td>16.2946    </td><td>16.2946    </td><td>16.2946    </td><td>16.2946    </td><td>16.2946    </td><td>--         </td><td>--         </td><td>0          </td><td>0          </td><td>--         </td><td>--         </td><td>3.44157e+11</td><td>3.44157e+11</td><td>18653471415</td><td>6.801      </td></tr>\n",
       "\t<tr><td>600000.SH  </td><td>浦发银行   </td><td>2016-02-22 </td><td>16.2946    </td><td>16.2946    </td><td>16.2946    </td><td>16.2946    </td><td>16.2946    </td><td>--         </td><td>--         </td><td>0          </td><td>0          </td><td>--         </td><td>--         </td><td>3.44157e+11</td><td>3.44157e+11</td><td>18653471415</td><td>6.801      </td></tr>\n",
       "\t<tr><td>600000.SH  </td><td>浦发银行   </td><td>2016-02-23 </td><td>16.2946    </td><td>16.2946    </td><td>16.2946    </td><td>16.2946    </td><td>16.2946    </td><td>--         </td><td>--         </td><td>0          </td><td>0          </td><td>--         </td><td>--         </td><td>3.44157e+11</td><td>3.44157e+11</td><td>18653471415</td><td>6.801      </td></tr>\n",
       "\t<tr><td>600000.SH  </td><td>浦发银行   </td><td>2016-02-24 </td><td>16.2946    </td><td>16.2946    </td><td>16.2946    </td><td>16.2946    </td><td>16.2946    </td><td>--         </td><td>--         </td><td>0          </td><td>0          </td><td>--         </td><td>--         </td><td>3.44157e+11</td><td>3.44157e+11</td><td>18653471415</td><td>6.801      </td></tr>\n",
       "\t<tr><td>600000.SH  </td><td>浦发银行   </td><td>2016-02-25 </td><td>16.2946    </td><td>16.2946    </td><td>16.2946    </td><td>16.2946    </td><td>16.2946    </td><td>--         </td><td>--         </td><td>0          </td><td>0          </td><td>--         </td><td>--         </td><td>3.44157e+11</td><td>3.44157e+11</td><td>18653471415</td><td>6.801      </td></tr>\n",
       "\t<tr><td>600000.SH  </td><td>浦发银行   </td><td>2016-02-26 </td><td>16.2946    </td><td>16.2946    </td><td>16.2946    </td><td>16.2946    </td><td>16.2946    </td><td>--         </td><td>--         </td><td>0          </td><td>0          </td><td>--         </td><td>--         </td><td>3.44157e+11</td><td>3.44157e+11</td><td>18653471415</td><td>6.801      </td></tr>\n",
       "\t<tr><td>600000.SH  </td><td>浦发银行   </td><td>2016-02-29 </td><td>16.2946    </td><td>16.2946    </td><td>16.2946    </td><td>16.2946    </td><td>16.2946    </td><td>--         </td><td>--         </td><td>0          </td><td>0          </td><td>--         </td><td>--         </td><td>3.44157e+11</td><td>3.44157e+11</td><td>18653471415</td><td>6.801      </td></tr>\n",
       "\t<tr><td>600000.SH  </td><td>浦发银行   </td><td>2016-03-01 </td><td>16.2946    </td><td>16.2946    </td><td>16.2946    </td><td>16.2946    </td><td>16.2946    </td><td>--         </td><td>--         </td><td>0          </td><td>0          </td><td>--         </td><td>--         </td><td>3.44157e+11</td><td>3.44157e+11</td><td>18653471415</td><td>6.801      </td></tr>\n",
       "\t<tr><td>600000.SH  </td><td>浦发银行   </td><td>2016-03-02 </td><td>16.2946    </td><td>16.2946    </td><td>16.2946    </td><td>16.2946    </td><td>16.2946    </td><td>--         </td><td>--         </td><td>0          </td><td>0          </td><td>--         </td><td>--         </td><td>3.44157e+11</td><td>3.44157e+11</td><td>18653471415</td><td>6.801      </td></tr>\n",
       "\t<tr><td>600000.SH  </td><td>浦发银行   </td><td>2016-03-03 </td><td>16.2946    </td><td>16.2946    </td><td>16.2946    </td><td>16.2946    </td><td>16.2946    </td><td>--         </td><td>--         </td><td>0          </td><td>0          </td><td>--         </td><td>--         </td><td>3.44157e+11</td><td>3.44157e+11</td><td>18653471415</td><td>6.801      </td></tr>\n",
       "\t<tr><td>600000.SH  </td><td>浦发银行   </td><td>2016-03-04 </td><td>16.2946    </td><td>16.2946    </td><td>16.2946    </td><td>16.2946    </td><td>16.2946    </td><td>--         </td><td>--         </td><td>0          </td><td>0          </td><td>--         </td><td>--         </td><td>3.44157e+11</td><td>3.44157e+11</td><td>18653471415</td><td>6.801      </td></tr>\n",
       "\t<tr><td>600000.SH  </td><td>浦发银行   </td><td>2016-03-07 </td><td>16.2946    </td><td>16.2946    </td><td>16.2946    </td><td>16.2946    </td><td>16.2946    </td><td>--         </td><td>--         </td><td>0          </td><td>0          </td><td>--         </td><td>--         </td><td>3.44157e+11</td><td>3.44157e+11</td><td>18653471415</td><td>6.801      </td></tr>\n",
       "\t<tr><td>600000.SH  </td><td>浦发银行   </td><td>2016-03-08 </td><td>16.2946    </td><td>16.2946    </td><td>16.2946    </td><td>16.2946    </td><td>16.2946    </td><td>--         </td><td>--         </td><td>0          </td><td>0          </td><td>--         </td><td>--         </td><td>3.44157e+11</td><td>3.44157e+11</td><td>18653471415</td><td>6.801      </td></tr>\n",
       "\t<tr><td>600000.SH  </td><td>浦发银行   </td><td>2016-03-09 </td><td>16.2946    </td><td>16.2946    </td><td>16.2946    </td><td>16.2946    </td><td>16.2946    </td><td>--         </td><td>--         </td><td>0          </td><td>0          </td><td>--         </td><td>--         </td><td>3.44157e+11</td><td>3.44157e+11</td><td>18653471415</td><td>6.801      </td></tr>\n",
       "\t<tr><td>600000.SH  </td><td>浦发银行   </td><td>2016-03-10 </td><td>16.2946    </td><td>16.2946    </td><td>16.2946    </td><td>16.2946    </td><td>16.2946    </td><td>--         </td><td>--         </td><td>0          </td><td>0          </td><td>--         </td><td>--         </td><td>3.44157e+11</td><td>3.44157e+11</td><td>18653471415</td><td>6.801      </td></tr>\n",
       "</tbody>\n",
       "</table>\n"
      ],
      "text/latex": [
       "\\begin{tabular}{r|llllllllllllllllll}\n",
       " ﻿代码 & 简称 & 日期 & 前收盘价(元) & 开盘价(元) & 最高价(元) & 最低价(元) & 收盘价(元) & 成交量(股) & 成交金额(元) & 涨跌(元) & 涨跌幅(\\%) & 均价(元) & 换手率(\\%) & A股流通市值(元) & 总市值(元) & A股流通股本(股) & 市盈率\\\\\n",
       "\\hline\n",
       "\t 600000.SH   & 浦发银行    & 2016-02-16  & 16.2946     & 16.2946     & 16.2946     & 16.2946     & 16.2946     & --          & --          & 0           & 0           & --          & --          & 3.44157e+11 & 3.44157e+11 & 18653471415 & 6.801      \\\\\n",
       "\t 600000.SH   & 浦发银行    & 2016-02-17  & 16.2946     & 16.2946     & 16.2946     & 16.2946     & 16.2946     & --          & --          & 0           & 0           & --          & --          & 3.44157e+11 & 3.44157e+11 & 18653471415 & 6.801      \\\\\n",
       "\t 600000.SH   & 浦发银行    & 2016-02-18  & 16.2946     & 16.2946     & 16.2946     & 16.2946     & 16.2946     & --          & --          & 0           & 0           & --          & --          & 3.44157e+11 & 3.44157e+11 & 18653471415 & 6.801      \\\\\n",
       "\t 600000.SH   & 浦发银行    & 2016-02-19  & 16.2946     & 16.2946     & 16.2946     & 16.2946     & 16.2946     & --          & --          & 0           & 0           & --          & --          & 3.44157e+11 & 3.44157e+11 & 18653471415 & 6.801      \\\\\n",
       "\t 600000.SH   & 浦发银行    & 2016-02-22  & 16.2946     & 16.2946     & 16.2946     & 16.2946     & 16.2946     & --          & --          & 0           & 0           & --          & --          & 3.44157e+11 & 3.44157e+11 & 18653471415 & 6.801      \\\\\n",
       "\t 600000.SH   & 浦发银行    & 2016-02-23  & 16.2946     & 16.2946     & 16.2946     & 16.2946     & 16.2946     & --          & --          & 0           & 0           & --          & --          & 3.44157e+11 & 3.44157e+11 & 18653471415 & 6.801      \\\\\n",
       "\t 600000.SH   & 浦发银行    & 2016-02-24  & 16.2946     & 16.2946     & 16.2946     & 16.2946     & 16.2946     & --          & --          & 0           & 0           & --          & --          & 3.44157e+11 & 3.44157e+11 & 18653471415 & 6.801      \\\\\n",
       "\t 600000.SH   & 浦发银行    & 2016-02-25  & 16.2946     & 16.2946     & 16.2946     & 16.2946     & 16.2946     & --          & --          & 0           & 0           & --          & --          & 3.44157e+11 & 3.44157e+11 & 18653471415 & 6.801      \\\\\n",
       "\t 600000.SH   & 浦发银行    & 2016-02-26  & 16.2946     & 16.2946     & 16.2946     & 16.2946     & 16.2946     & --          & --          & 0           & 0           & --          & --          & 3.44157e+11 & 3.44157e+11 & 18653471415 & 6.801      \\\\\n",
       "\t 600000.SH   & 浦发银行    & 2016-02-29  & 16.2946     & 16.2946     & 16.2946     & 16.2946     & 16.2946     & --          & --          & 0           & 0           & --          & --          & 3.44157e+11 & 3.44157e+11 & 18653471415 & 6.801      \\\\\n",
       "\t 600000.SH   & 浦发银行    & 2016-03-01  & 16.2946     & 16.2946     & 16.2946     & 16.2946     & 16.2946     & --          & --          & 0           & 0           & --          & --          & 3.44157e+11 & 3.44157e+11 & 18653471415 & 6.801      \\\\\n",
       "\t 600000.SH   & 浦发银行    & 2016-03-02  & 16.2946     & 16.2946     & 16.2946     & 16.2946     & 16.2946     & --          & --          & 0           & 0           & --          & --          & 3.44157e+11 & 3.44157e+11 & 18653471415 & 6.801      \\\\\n",
       "\t 600000.SH   & 浦发银行    & 2016-03-03  & 16.2946     & 16.2946     & 16.2946     & 16.2946     & 16.2946     & --          & --          & 0           & 0           & --          & --          & 3.44157e+11 & 3.44157e+11 & 18653471415 & 6.801      \\\\\n",
       "\t 600000.SH   & 浦发银行    & 2016-03-04  & 16.2946     & 16.2946     & 16.2946     & 16.2946     & 16.2946     & --          & --          & 0           & 0           & --          & --          & 3.44157e+11 & 3.44157e+11 & 18653471415 & 6.801      \\\\\n",
       "\t 600000.SH   & 浦发银行    & 2016-03-07  & 16.2946     & 16.2946     & 16.2946     & 16.2946     & 16.2946     & --          & --          & 0           & 0           & --          & --          & 3.44157e+11 & 3.44157e+11 & 18653471415 & 6.801      \\\\\n",
       "\t 600000.SH   & 浦发银行    & 2016-03-08  & 16.2946     & 16.2946     & 16.2946     & 16.2946     & 16.2946     & --          & --          & 0           & 0           & --          & --          & 3.44157e+11 & 3.44157e+11 & 18653471415 & 6.801      \\\\\n",
       "\t 600000.SH   & 浦发银行    & 2016-03-09  & 16.2946     & 16.2946     & 16.2946     & 16.2946     & 16.2946     & --          & --          & 0           & 0           & --          & --          & 3.44157e+11 & 3.44157e+11 & 18653471415 & 6.801      \\\\\n",
       "\t 600000.SH   & 浦发银行    & 2016-03-10  & 16.2946     & 16.2946     & 16.2946     & 16.2946     & 16.2946     & --          & --          & 0           & 0           & --          & --          & 3.44157e+11 & 3.44157e+11 & 18653471415 & 6.801      \\\\\n",
       "\\end{tabular}\n"
      ],
      "text/markdown": [
       "\n",
       "﻿代码 | 简称 | 日期 | 前收盘价(元) | 开盘价(元) | 最高价(元) | 最低价(元) | 收盘价(元) | 成交量(股) | 成交金额(元) | 涨跌(元) | 涨跌幅(%) | 均价(元) | 换手率(%) | A股流通市值(元) | 总市值(元) | A股流通股本(股) | 市盈率 | \n",
       "|---|---|---|---|---|---|---|---|---|---|---|---|---|---|---|---|---|---|\n",
       "| 600000.SH   | 浦发银行    | 2016-02-16  | 16.2946     | 16.2946     | 16.2946     | 16.2946     | 16.2946     | --          | --          | 0           | 0           | --          | --          | 3.44157e+11 | 3.44157e+11 | 18653471415 | 6.801       | \n",
       "| 600000.SH   | 浦发银行    | 2016-02-17  | 16.2946     | 16.2946     | 16.2946     | 16.2946     | 16.2946     | --          | --          | 0           | 0           | --          | --          | 3.44157e+11 | 3.44157e+11 | 18653471415 | 6.801       | \n",
       "| 600000.SH   | 浦发银行    | 2016-02-18  | 16.2946     | 16.2946     | 16.2946     | 16.2946     | 16.2946     | --          | --          | 0           | 0           | --          | --          | 3.44157e+11 | 3.44157e+11 | 18653471415 | 6.801       | \n",
       "| 600000.SH   | 浦发银行    | 2016-02-19  | 16.2946     | 16.2946     | 16.2946     | 16.2946     | 16.2946     | --          | --          | 0           | 0           | --          | --          | 3.44157e+11 | 3.44157e+11 | 18653471415 | 6.801       | \n",
       "| 600000.SH   | 浦发银行    | 2016-02-22  | 16.2946     | 16.2946     | 16.2946     | 16.2946     | 16.2946     | --          | --          | 0           | 0           | --          | --          | 3.44157e+11 | 3.44157e+11 | 18653471415 | 6.801       | \n",
       "| 600000.SH   | 浦发银行    | 2016-02-23  | 16.2946     | 16.2946     | 16.2946     | 16.2946     | 16.2946     | --          | --          | 0           | 0           | --          | --          | 3.44157e+11 | 3.44157e+11 | 18653471415 | 6.801       | \n",
       "| 600000.SH   | 浦发银行    | 2016-02-24  | 16.2946     | 16.2946     | 16.2946     | 16.2946     | 16.2946     | --          | --          | 0           | 0           | --          | --          | 3.44157e+11 | 3.44157e+11 | 18653471415 | 6.801       | \n",
       "| 600000.SH   | 浦发银行    | 2016-02-25  | 16.2946     | 16.2946     | 16.2946     | 16.2946     | 16.2946     | --          | --          | 0           | 0           | --          | --          | 3.44157e+11 | 3.44157e+11 | 18653471415 | 6.801       | \n",
       "| 600000.SH   | 浦发银行    | 2016-02-26  | 16.2946     | 16.2946     | 16.2946     | 16.2946     | 16.2946     | --          | --          | 0           | 0           | --          | --          | 3.44157e+11 | 3.44157e+11 | 18653471415 | 6.801       | \n",
       "| 600000.SH   | 浦发银行    | 2016-02-29  | 16.2946     | 16.2946     | 16.2946     | 16.2946     | 16.2946     | --          | --          | 0           | 0           | --          | --          | 3.44157e+11 | 3.44157e+11 | 18653471415 | 6.801       | \n",
       "| 600000.SH   | 浦发银行    | 2016-03-01  | 16.2946     | 16.2946     | 16.2946     | 16.2946     | 16.2946     | --          | --          | 0           | 0           | --          | --          | 3.44157e+11 | 3.44157e+11 | 18653471415 | 6.801       | \n",
       "| 600000.SH   | 浦发银行    | 2016-03-02  | 16.2946     | 16.2946     | 16.2946     | 16.2946     | 16.2946     | --          | --          | 0           | 0           | --          | --          | 3.44157e+11 | 3.44157e+11 | 18653471415 | 6.801       | \n",
       "| 600000.SH   | 浦发银行    | 2016-03-03  | 16.2946     | 16.2946     | 16.2946     | 16.2946     | 16.2946     | --          | --          | 0           | 0           | --          | --          | 3.44157e+11 | 3.44157e+11 | 18653471415 | 6.801       | \n",
       "| 600000.SH   | 浦发银行    | 2016-03-04  | 16.2946     | 16.2946     | 16.2946     | 16.2946     | 16.2946     | --          | --          | 0           | 0           | --          | --          | 3.44157e+11 | 3.44157e+11 | 18653471415 | 6.801       | \n",
       "| 600000.SH   | 浦发银行    | 2016-03-07  | 16.2946     | 16.2946     | 16.2946     | 16.2946     | 16.2946     | --          | --          | 0           | 0           | --          | --          | 3.44157e+11 | 3.44157e+11 | 18653471415 | 6.801       | \n",
       "| 600000.SH   | 浦发银行    | 2016-03-08  | 16.2946     | 16.2946     | 16.2946     | 16.2946     | 16.2946     | --          | --          | 0           | 0           | --          | --          | 3.44157e+11 | 3.44157e+11 | 18653471415 | 6.801       | \n",
       "| 600000.SH   | 浦发银行    | 2016-03-09  | 16.2946     | 16.2946     | 16.2946     | 16.2946     | 16.2946     | --          | --          | 0           | 0           | --          | --          | 3.44157e+11 | 3.44157e+11 | 18653471415 | 6.801       | \n",
       "| 600000.SH   | 浦发银行    | 2016-03-10  | 16.2946     | 16.2946     | 16.2946     | 16.2946     | 16.2946     | --          | --          | 0           | 0           | --          | --          | 3.44157e+11 | 3.44157e+11 | 18653471415 | 6.801       | \n",
       "\n",
       "\n"
      ],
      "text/plain": [
       "   ﻿代码      简称     日期       前收盘价(元) 开盘价(元) 最高价(元) 最低价(元)\n",
       "1  600000.SH 浦发银行 2016-02-16 16.2946      16.2946    16.2946    16.2946   \n",
       "2  600000.SH 浦发银行 2016-02-17 16.2946      16.2946    16.2946    16.2946   \n",
       "3  600000.SH 浦发银行 2016-02-18 16.2946      16.2946    16.2946    16.2946   \n",
       "4  600000.SH 浦发银行 2016-02-19 16.2946      16.2946    16.2946    16.2946   \n",
       "5  600000.SH 浦发银行 2016-02-22 16.2946      16.2946    16.2946    16.2946   \n",
       "6  600000.SH 浦发银行 2016-02-23 16.2946      16.2946    16.2946    16.2946   \n",
       "7  600000.SH 浦发银行 2016-02-24 16.2946      16.2946    16.2946    16.2946   \n",
       "8  600000.SH 浦发银行 2016-02-25 16.2946      16.2946    16.2946    16.2946   \n",
       "9  600000.SH 浦发银行 2016-02-26 16.2946      16.2946    16.2946    16.2946   \n",
       "10 600000.SH 浦发银行 2016-02-29 16.2946      16.2946    16.2946    16.2946   \n",
       "11 600000.SH 浦发银行 2016-03-01 16.2946      16.2946    16.2946    16.2946   \n",
       "12 600000.SH 浦发银行 2016-03-02 16.2946      16.2946    16.2946    16.2946   \n",
       "13 600000.SH 浦发银行 2016-03-03 16.2946      16.2946    16.2946    16.2946   \n",
       "14 600000.SH 浦发银行 2016-03-04 16.2946      16.2946    16.2946    16.2946   \n",
       "15 600000.SH 浦发银行 2016-03-07 16.2946      16.2946    16.2946    16.2946   \n",
       "16 600000.SH 浦发银行 2016-03-08 16.2946      16.2946    16.2946    16.2946   \n",
       "17 600000.SH 浦发银行 2016-03-09 16.2946      16.2946    16.2946    16.2946   \n",
       "18 600000.SH 浦发银行 2016-03-10 16.2946      16.2946    16.2946    16.2946   \n",
       "   收盘价(元) 成交量(股) 成交金额(元) 涨跌(元) 涨跌幅(%) 均价(元) 换手率(%)\n",
       "1  16.2946    --         --           0        0         --       --       \n",
       "2  16.2946    --         --           0        0         --       --       \n",
       "3  16.2946    --         --           0        0         --       --       \n",
       "4  16.2946    --         --           0        0         --       --       \n",
       "5  16.2946    --         --           0        0         --       --       \n",
       "6  16.2946    --         --           0        0         --       --       \n",
       "7  16.2946    --         --           0        0         --       --       \n",
       "8  16.2946    --         --           0        0         --       --       \n",
       "9  16.2946    --         --           0        0         --       --       \n",
       "10 16.2946    --         --           0        0         --       --       \n",
       "11 16.2946    --         --           0        0         --       --       \n",
       "12 16.2946    --         --           0        0         --       --       \n",
       "13 16.2946    --         --           0        0         --       --       \n",
       "14 16.2946    --         --           0        0         --       --       \n",
       "15 16.2946    --         --           0        0         --       --       \n",
       "16 16.2946    --         --           0        0         --       --       \n",
       "17 16.2946    --         --           0        0         --       --       \n",
       "18 16.2946    --         --           0        0         --       --       \n",
       "   A股流通市值(元) 总市值(元)  A股流通股本(股) 市盈率\n",
       "1  3.44157e+11     3.44157e+11 18653471415     6.801 \n",
       "2  3.44157e+11     3.44157e+11 18653471415     6.801 \n",
       "3  3.44157e+11     3.44157e+11 18653471415     6.801 \n",
       "4  3.44157e+11     3.44157e+11 18653471415     6.801 \n",
       "5  3.44157e+11     3.44157e+11 18653471415     6.801 \n",
       "6  3.44157e+11     3.44157e+11 18653471415     6.801 \n",
       "7  3.44157e+11     3.44157e+11 18653471415     6.801 \n",
       "8  3.44157e+11     3.44157e+11 18653471415     6.801 \n",
       "9  3.44157e+11     3.44157e+11 18653471415     6.801 \n",
       "10 3.44157e+11     3.44157e+11 18653471415     6.801 \n",
       "11 3.44157e+11     3.44157e+11 18653471415     6.801 \n",
       "12 3.44157e+11     3.44157e+11 18653471415     6.801 \n",
       "13 3.44157e+11     3.44157e+11 18653471415     6.801 \n",
       "14 3.44157e+11     3.44157e+11 18653471415     6.801 \n",
       "15 3.44157e+11     3.44157e+11 18653471415     6.801 \n",
       "16 3.44157e+11     3.44157e+11 18653471415     6.801 \n",
       "17 3.44157e+11     3.44157e+11 18653471415     6.801 \n",
       "18 3.44157e+11     3.44157e+11 18653471415     6.801 "
      ]
     },
     "metadata": {},
     "output_type": "display_data"
    }
   ],
   "source": [
    "df %>%\n",
    "  filter(`换手率(%)` == '--')"
   ]
  },
  {
   "cell_type": "markdown",
   "metadata": {},
   "source": [
    "### 64.重置data的行号"
   ]
  },
  {
   "cell_type": "code",
   "execution_count": 76,
   "metadata": {
    "collapsed": true
   },
   "outputs": [],
   "source": [
    "rownames(df) <- NULL\n",
    "\n",
    "# 如果是tibble则索引始终是按顺序"
   ]
  },
  {
   "cell_type": "markdown",
   "metadata": {},
   "source": [
    "### 65.删除所有换手率为非数字的行"
   ]
  },
  {
   "cell_type": "code",
   "execution_count": 77,
   "metadata": {
    "collapsed": false
   },
   "outputs": [
    {
     "name": "stderr",
     "output_type": "stream",
     "text": [
      "Warning message in lapply(x, `[`, i):\n",
      "“NAs introduced by coercion”"
     ]
    },
    {
     "data": {
      "text/html": [
       "<table>\n",
       "<thead><tr><th scope=col>﻿代码</th><th scope=col>简称</th><th scope=col>日期</th><th scope=col>前收盘价(元)</th><th scope=col>开盘价(元)</th><th scope=col>最高价(元)</th><th scope=col>最低价(元)</th><th scope=col>收盘价(元)</th><th scope=col>成交量(股)</th><th scope=col>成交金额(元)</th><th scope=col>涨跌(元)</th><th scope=col>涨跌幅(%)</th><th scope=col>均价(元)</th><th scope=col>换手率(%)</th><th scope=col>A股流通市值(元)</th><th scope=col>总市值(元)</th><th scope=col>A股流通股本(股)</th><th scope=col>市盈率</th></tr></thead>\n",
       "<tbody>\n",
       "\t<tr><td>600000.SH  </td><td>浦发银行   </td><td>2016-01-04 </td><td>16.1356    </td><td>16.1444    </td><td>16.1444    </td><td>15.4997    </td><td>15.7205    </td><td>42240610   </td><td>754425783  </td><td>-0.4151    </td><td>-2.5725    </td><td>17.8602    </td><td>0.2264     </td><td>3.32032e+11</td><td>3.32032e+11</td><td>18653471415</td><td>6.5614     </td></tr>\n",
       "\t<tr><td>600000.SH  </td><td>浦发银行   </td><td>2016-01-05 </td><td>15.7205    </td><td>15.4644    </td><td>15.9501    </td><td>15.3672    </td><td>15.8618    </td><td>58054793   </td><td>1034181474 </td><td> 0.1413    </td><td> 0.8989    </td><td>17.8139    </td><td>0.3112     </td><td>3.35016e+11</td><td>3.35016e+11</td><td>18653471415</td><td>6.6204     </td></tr>\n",
       "\t<tr><td>600000.SH  </td><td>浦发银行   </td><td>2016-01-06 </td><td>15.8618    </td><td>15.8088    </td><td>16.0208    </td><td>15.6234    </td><td>15.9855    </td><td>46772653   </td><td>838667398  </td><td> 0.1236    </td><td> 0.7795    </td><td>17.9307    </td><td>0.2507     </td><td>3.37628e+11</td><td>3.37628e+11</td><td>18653471415</td><td>6.6720     </td></tr>\n",
       "\t<tr><td>600000.SH  </td><td>浦发银行   </td><td>2016-01-07 </td><td>15.9855    </td><td>15.7205    </td><td>15.8088    </td><td>15.3672    </td><td>15.4644    </td><td>11350479   </td><td>199502702  </td><td>-0.5211    </td><td>-3.2597    </td><td>17.5766    </td><td>0.0608     </td><td>3.26622e+11</td><td>3.26622e+11</td><td>18653471415</td><td>6.4545     </td></tr>\n",
       "\t<tr><td>600000.SH  </td><td>浦发银行   </td><td>2016-01-08 </td><td>15.4644    </td><td>15.6675    </td><td>15.7912    </td><td>14.9345    </td><td>15.4467    </td><td>71918296   </td><td>1262105060 </td><td>-0.0177    </td><td>-0.1142    </td><td>17.5492    </td><td>0.3855     </td><td>3.26249e+11</td><td>3.26249e+11</td><td>18653471415</td><td>6.4471     </td></tr>\n",
       "\t<tr><td>600000.SH  </td><td>浦发银行   </td><td>2016-01-11 </td><td>15.4467    </td><td>15.1994    </td><td>15.4114    </td><td>14.9786    </td><td>15.0581    </td><td>90177135   </td><td>1550155933 </td><td>-0.3886    </td><td>-2.5157    </td><td>17.1901    </td><td>0.4834     </td><td>3.18042e+11</td><td>3.18042e+11</td><td>18653471415</td><td>6.2849     </td></tr>\n",
       "\t<tr><td>600000.SH  </td><td>浦发银行   </td><td>2016-01-12 </td><td>15.0581    </td><td>15.1641    </td><td>15.4732    </td><td>15.0846    </td><td>15.4114    </td><td>55374454   </td><td>964061502  </td><td> 0.3533    </td><td> 2.3460    </td><td>17.4099    </td><td>0.2969     </td><td>3.25503e+11</td><td>3.25503e+11</td><td>18653471415</td><td>6.4324     </td></tr>\n",
       "\t<tr><td>600000.SH  </td><td>浦发银行   </td><td>2016-01-13 </td><td>15.4114    </td><td>15.5174    </td><td>15.8088    </td><td>15.3231    </td><td>15.3584    </td><td>47869312   </td><td>843717365  </td><td>-0.0530    </td><td>-0.3438    </td><td>17.6254    </td><td>0.2566     </td><td>3.24384e+11</td><td>3.24384e+11</td><td>18653471415</td><td>6.4102     </td></tr>\n",
       "\t<tr><td>600000.SH  </td><td>浦发银行   </td><td>2016-01-14 </td><td>15.3584    </td><td>15.0140    </td><td>15.8883    </td><td>14.9168    </td><td>15.8265    </td><td>54838833   </td><td>966117848  </td><td> 0.4681    </td><td> 3.0477    </td><td>17.6174    </td><td>0.294      </td><td>3.34270e+11</td><td>3.34270e+11</td><td>18653471415</td><td>6.6056     </td></tr>\n",
       "\t<tr><td>600000.SH  </td><td>浦发银行   </td><td>2016-01-15 </td><td>15.8265    </td><td>15.7205    </td><td>16.0296    </td><td>15.4732    </td><td>15.5262    </td><td>46723139   </td><td>836146426  </td><td>-0.3003    </td><td>-1.8973    </td><td>17.8958    </td><td>0.2505     </td><td>3.27928e+11</td><td>3.27928e+11</td><td>18653471415</td><td>6.4803     </td></tr>\n",
       "\t<tr><td>600000.SH  </td><td>浦发银行   </td><td>2016-01-18 </td><td>15.5262    </td><td>15.3937    </td><td>15.8883    </td><td>15.2966    </td><td>15.6145    </td><td>32729006   </td><td>583291559  </td><td> 0.0883    </td><td> 0.5688    </td><td>17.8219    </td><td>0.1755     </td><td>3.29793e+11</td><td>3.29793e+11</td><td>18653471415</td><td>6.5171     </td></tr>\n",
       "\t<tr><td>600000.SH  </td><td>浦发银行   </td><td>2016-01-19 </td><td>15.6145    </td><td>15.7029    </td><td>15.7912    </td><td>15.4556    </td><td>15.6940    </td><td>29807159   </td><td>527753175  </td><td> 0.0795    </td><td> 0.5090    </td><td>17.7056    </td><td>0.1598     </td><td>3.31472e+11</td><td>3.31472e+11</td><td>18653471415</td><td>6.5503     </td></tr>\n",
       "\t<tr><td>600000.SH  </td><td>浦发银行   </td><td>2016-01-20 </td><td>15.6940    </td><td>15.5527    </td><td>15.6322    </td><td>15.0846    </td><td>15.2348    </td><td>35968636   </td><td>623546924  </td><td>-0.4593    </td><td>-2.9263    </td><td>17.3359    </td><td>0.1928     </td><td>3.21772e+11</td><td>3.21772e+11</td><td>18653471415</td><td>6.3586     </td></tr>\n",
       "\t<tr><td>600000.SH  </td><td>浦发银行   </td><td>2016-01-21 </td><td>15.2348    </td><td>15.2083    </td><td>15.4202    </td><td>14.5724    </td><td>14.6430    </td><td>34197115   </td><td>582845476  </td><td>-0.5917    </td><td>-3.8841    </td><td>17.0437    </td><td>0.1833     </td><td>3.09275e+11</td><td>3.09275e+11</td><td>18653471415</td><td>6.1117     </td></tr>\n",
       "\t<tr><td>600000.SH  </td><td>浦发银行   </td><td>2016-01-22 </td><td>14.6430    </td><td>14.8727    </td><td>15.1111    </td><td>14.5636    </td><td>15.0316    </td><td>42007318   </td><td>708179241  </td><td> 0.3886    </td><td> 2.6538    </td><td>16.8585    </td><td>0.2252     </td><td>3.17482e+11</td><td>3.17482e+11</td><td>18653471415</td><td>6.2739     </td></tr>\n",
       "\t<tr><td>600000.SH  </td><td>浦发银行   </td><td>2016-01-25 </td><td>15.0316    </td><td>15.0140    </td><td>15.1641    </td><td>14.7667    </td><td>15.0405    </td><td>23558971   </td><td>400445071  </td><td> 0.0088    </td><td> 0.0588    </td><td>16.9976    </td><td>0.1263     </td><td>3.17669e+11</td><td>3.17669e+11</td><td>18653471415</td><td>6.2775     </td></tr>\n",
       "\t<tr><td>600000.SH  </td><td>浦发银行   </td><td>2016-01-26 </td><td>15.0405    </td><td>14.9786    </td><td>15.1376    </td><td>14.4841    </td><td>14.7137    </td><td>38279766   </td><td>643611762  </td><td>-0.3268    </td><td>-2.1726    </td><td>16.8134    </td><td>0.2052     </td><td>3.10767e+11</td><td>3.10767e+11</td><td>18653471415</td><td>6.1412     </td></tr>\n",
       "\t<tr><td>600000.SH  </td><td>浦发银行   </td><td>2016-01-27 </td><td>14.7137    </td><td>14.7932    </td><td>14.9963    </td><td>14.5812    </td><td>14.7314    </td><td>44291307   </td><td>742640743  </td><td> 0.0177    </td><td> 0.1200    </td><td>16.7672    </td><td>0.2374     </td><td>3.11140e+11</td><td>3.11140e+11</td><td>18653471415</td><td>6.1485     </td></tr>\n",
       "\t<tr><td>600000.SH  </td><td>浦发银行   </td><td>2016-01-28 </td><td>14.7314    </td><td>14.8020    </td><td>14.8550    </td><td>14.0248    </td><td>14.6430    </td><td>38902180   </td><td>643984171  </td><td>-0.0883    </td><td>-0.5995    </td><td>16.5539    </td><td>0.2086     </td><td>3.09275e+11</td><td>3.09275e+11</td><td>18653471415</td><td>6.1117     </td></tr>\n",
       "\t<tr><td>600000.SH  </td><td>浦发银行   </td><td>2016-01-29 </td><td>14.6430    </td><td>14.5901    </td><td>15.0581    </td><td>14.4929    </td><td>14.9257    </td><td>47429000   </td><td>799493381  </td><td> 0.2826    </td><td> 1.9300    </td><td>16.8566    </td><td>0.2543     </td><td>3.15244e+11</td><td>3.15244e+11</td><td>18653471415</td><td>6.2296     </td></tr>\n",
       "\t<tr><td>600000.SH  </td><td>浦发银行   </td><td>2016-02-01 </td><td>14.9257    </td><td>15.0051    </td><td>15.0140    </td><td>14.4929    </td><td>14.5724    </td><td>29139596   </td><td>485275132  </td><td>-0.3533    </td><td>-2.3669    </td><td>16.6535    </td><td>0.1562     </td><td>3.07782e+11</td><td>3.07782e+11</td><td>18653471415</td><td>6.0822     </td></tr>\n",
       "\t<tr><td>600000.SH  </td><td>浦发银行   </td><td>2016-02-02 </td><td>14.5724    </td><td>14.5724    </td><td>14.9610    </td><td>14.5371    </td><td>14.8020    </td><td>25380981   </td><td>425396889  </td><td> 0.2296    </td><td> 1.5758    </td><td>16.7605    </td><td>0.1361     </td><td>3.12632e+11</td><td>3.12632e+11</td><td>18653471415</td><td>6.1780     </td></tr>\n",
       "\t<tr><td>600000.SH  </td><td>浦发银行   </td><td>2016-02-03 </td><td>14.8020    </td><td>14.6607    </td><td>14.7137    </td><td>14.5282    </td><td>14.6695    </td><td>27779183   </td><td>459255616  </td><td>-0.1325    </td><td>-0.8950    </td><td>16.5324    </td><td>0.1489     </td><td>3.09834e+11</td><td>3.09834e+11</td><td>18653471415</td><td>6.1227     </td></tr>\n",
       "\t<tr><td>600000.SH  </td><td>浦发银行   </td><td>2016-02-04 </td><td>14.6695    </td><td>14.8727    </td><td>15.2966    </td><td>14.6872    </td><td>15.2789    </td><td>47162860   </td><td>799283799  </td><td> 0.6094    </td><td> 4.1541    </td><td>16.9473    </td><td>0.2528     </td><td>3.22705e+11</td><td>3.22705e+11</td><td>18653471415</td><td>6.3771     </td></tr>\n",
       "\t<tr><td>600000.SH  </td><td>浦发银行   </td><td>2016-02-05 </td><td>15.2789    </td><td>15.2259    </td><td>16.2416    </td><td>15.1465    </td><td>16.2328    </td><td>78413454   </td><td>1401156041 </td><td> 0.9538    </td><td> 6.2428    </td><td>17.8688    </td><td>0.4204     </td><td>3.42851e+11</td><td>3.42851e+11</td><td>18653471415</td><td>6.7752     </td></tr>\n",
       "\t<tr><td>600000.SH  </td><td>浦发银行   </td><td>2016-02-15 </td><td>16.2328    </td><td>15.8795    </td><td>16.3211    </td><td>15.7205    </td><td>16.2946    </td><td>67296317   </td><td>1221398339 </td><td> 0.0618    </td><td> 0.3808    </td><td>18.1496    </td><td>0.3608     </td><td>3.44157e+11</td><td>3.44157e+11</td><td>18653471415</td><td>6.8010     </td></tr>\n",
       "\t<tr><td>600000.SH  </td><td>浦发银行   </td><td>2016-03-11 </td><td>16.2946    </td><td>15.4644    </td><td>15.4821    </td><td>14.6695    </td><td>14.9875    </td><td>98240322   </td><td>1657158636 </td><td>-1.3071    </td><td>-8.0217    </td><td>16.8684    </td><td>0.5267     </td><td>3.16549e+11</td><td>3.16549e+11</td><td>18653471415</td><td>6.2554     </td></tr>\n",
       "\t<tr><td>600000.SH  </td><td>浦发银行   </td><td>2016-03-14 </td><td>14.9875    </td><td>14.9080    </td><td>15.4291    </td><td>14.8550    </td><td>14.8903    </td><td>56922239   </td><td>973317374  </td><td>-0.0971    </td><td>-0.6482    </td><td>17.0991    </td><td>0.3052     </td><td>3.14498e+11</td><td>3.14498e+11</td><td>18653471415</td><td>6.2149     </td></tr>\n",
       "\t<tr><td>600000.SH  </td><td>浦发银行   </td><td>2016-03-15 </td><td>14.8903    </td><td>14.9698    </td><td>15.1818    </td><td>14.8462    </td><td>15.0316    </td><td>37540932   </td><td>638223050  </td><td> 0.1413    </td><td> 0.9490    </td><td>17.0007    </td><td>0.2013     </td><td>3.17482e+11</td><td>3.17482e+11</td><td>18653471415</td><td>6.2739     </td></tr>\n",
       "\t<tr><td>600000.SH  </td><td>浦发银行   </td><td>2016-03-16 </td><td>15.0316    </td><td>14.9433    </td><td>15.9590    </td><td>14.9345    </td><td>15.9236    </td><td>108404378  </td><td>1924212601 </td><td> 0.8920    </td><td> 5.9342    </td><td>17.7503    </td><td>0.5811     </td><td>3.36322e+11</td><td>3.36322e+11</td><td>18653471415</td><td>6.6462     </td></tr>\n",
       "\t<tr><td>...</td><td>...</td><td>...</td><td>...</td><td>...</td><td>...</td><td>...</td><td>...</td><td>...</td><td>...</td><td>...</td><td>...</td><td>...</td><td>...</td><td>...</td><td>...</td><td>...</td><td>...</td></tr>\n",
       "\t<tr><td>600000.SH  </td><td>浦发银行   </td><td>2017-03-24 </td><td>15.88      </td><td>15.85      </td><td>16.00      </td><td>15.83      </td><td>15.96      </td><td>19902006   </td><td>316984958  </td><td> 0.08      </td><td> 0.5038    </td><td>15.9273    </td><td>0.0921     </td><td>3.45028e+11</td><td>3.45028e+11</td><td>21618279922</td><td>6.4978     </td></tr>\n",
       "\t<tr><td>600000.SH  </td><td>浦发银行   </td><td>2017-03-27 </td><td>15.96      </td><td>15.97      </td><td>16.13      </td><td>15.90      </td><td>16.04      </td><td>18997369   </td><td>304990151  </td><td> 0.08      </td><td> 0.5013    </td><td>16.0543    </td><td>0.0879     </td><td>3.46757e+11</td><td>3.46757e+11</td><td>21618279922</td><td>6.5304     </td></tr>\n",
       "\t<tr><td>600000.SH  </td><td>浦发银行   </td><td>2017-03-28 </td><td>16.04      </td><td>16.11      </td><td>16.13      </td><td>15.97      </td><td>16.01      </td><td>13212969   </td><td>211750766  </td><td>-0.03      </td><td>-0.1870    </td><td>16.026     </td><td>0.0611     </td><td>3.46109e+11</td><td>3.46109e+11</td><td>21618279922</td><td>6.5182     </td></tr>\n",
       "\t<tr><td>600000.SH  </td><td>浦发银行   </td><td>2017-03-29 </td><td>16.01      </td><td>16.01      </td><td>16.11      </td><td>15.80      </td><td>15.87      </td><td>23446792   </td><td>372794465  </td><td>-0.14      </td><td>-0.8745    </td><td>15.8996    </td><td>0.1085     </td><td>3.43082e+11</td><td>3.43082e+11</td><td>21618279922</td><td>6.4612     </td></tr>\n",
       "\t<tr><td>600000.SH  </td><td>浦发银行   </td><td>2017-03-30 </td><td>15.87      </td><td>15.88      </td><td>15.90      </td><td>15.72      </td><td>15.81      </td><td>23645144   </td><td>373665115  </td><td>-0.06      </td><td>-0.3781    </td><td>15.803     </td><td>0.1094     </td><td>3.41785e+11</td><td>3.41785e+11</td><td>21618279922</td><td>6.4368     </td></tr>\n",
       "\t<tr><td>600000.SH  </td><td>浦发银行   </td><td>2017-03-31 </td><td>15.81      </td><td>15.78      </td><td>16.05      </td><td>15.77      </td><td>16.01      </td><td>24187120   </td><td>385793421  </td><td> 0.20      </td><td> 1.2650    </td><td>15.9504    </td><td>0.1119     </td><td>3.46109e+11</td><td>3.46109e+11</td><td>21618279922</td><td>6.5182     </td></tr>\n",
       "\t<tr><td>600000.SH  </td><td>浦发银行   </td><td>2017-04-05 </td><td>16.01      </td><td>16.05      </td><td>16.20      </td><td>15.89      </td><td>16.16      </td><td>31036271   </td><td>499121565  </td><td> 0.15      </td><td> 0.9369    </td><td>16.0819    </td><td>0.1436     </td><td>3.49351e+11</td><td>3.49351e+11</td><td>21618279922</td><td>6.5792     </td></tr>\n",
       "\t<tr><td>600000.SH  </td><td>浦发银行   </td><td>2017-04-06 </td><td>16.16      </td><td>16.09      </td><td>16.18      </td><td>16.03      </td><td>16.10      </td><td>22335442   </td><td>359361840  </td><td>-0.06      </td><td>-0.3713    </td><td>16.0893    </td><td>0.1033     </td><td>3.48054e+11</td><td>3.48054e+11</td><td>21618279922</td><td>6.5548     </td></tr>\n",
       "\t<tr><td>600000.SH  </td><td>浦发银行   </td><td>2017-04-07 </td><td>16.10      </td><td>16.06      </td><td>16.16      </td><td>16.02      </td><td>16.10      </td><td>20126948   </td><td>323821647  </td><td> 0.00      </td><td> 0.0000    </td><td>16.089     </td><td>0.0931     </td><td>3.48054e+11</td><td>3.48054e+11</td><td>21618279922</td><td>6.5548     </td></tr>\n",
       "\t<tr><td>600000.SH  </td><td>浦发银行   </td><td>2017-04-10 </td><td>16.10      </td><td>16.12      </td><td>16.12      </td><td>15.94      </td><td>15.97      </td><td>16154024   </td><td>258662668  </td><td>-0.13      </td><td>-0.8075    </td><td>16.0123    </td><td>0.0747     </td><td>3.45244e+11</td><td>3.45244e+11</td><td>21618279922</td><td>6.5019     </td></tr>\n",
       "\t<tr><td>600000.SH  </td><td>浦发银行   </td><td>2017-04-11 </td><td>15.97      </td><td>15.97      </td><td>15.99      </td><td>15.81      </td><td>15.89      </td><td>18611375   </td><td>295381671  </td><td>-0.08      </td><td>-0.5009    </td><td>15.871     </td><td>0.0861     </td><td>3.43514e+11</td><td>3.43514e+11</td><td>21618279922</td><td>6.4693     </td></tr>\n",
       "\t<tr><td>600000.SH  </td><td>浦发银行   </td><td>2017-04-12 </td><td>15.89      </td><td>15.88      </td><td>15.96      </td><td>15.75      </td><td>15.89      </td><td>22210541   </td><td>352357729  </td><td> 0.00      </td><td> 0.0000    </td><td>15.8644    </td><td>0.1027     </td><td>3.43514e+11</td><td>3.43514e+11</td><td>21618279922</td><td>6.4693     </td></tr>\n",
       "\t<tr><td>600000.SH  </td><td>浦发银行   </td><td>2017-04-13 </td><td>15.89      </td><td>15.88      </td><td>15.89      </td><td>15.73      </td><td>15.75      </td><td>23426650   </td><td>369388222  </td><td>-0.14      </td><td>-0.8811    </td><td>15.7679    </td><td>0.1084     </td><td>3.40488e+11</td><td>3.40488e+11</td><td>21618279922</td><td>6.4123     </td></tr>\n",
       "\t<tr><td>600000.SH  </td><td>浦发银行   </td><td>2017-04-14 </td><td>15.75      </td><td>15.76      </td><td>15.78      </td><td>15.42      </td><td>15.51      </td><td>40156553   </td><td>625510632  </td><td>-0.24      </td><td>-1.5238    </td><td>15.5768    </td><td>0.1858     </td><td>3.35300e+11</td><td>3.35300e+11</td><td>21618279922</td><td>6.3146     </td></tr>\n",
       "\t<tr><td>600000.SH  </td><td>浦发银行   </td><td>2017-04-17 </td><td>15.51      </td><td>15.53      </td><td>15.60      </td><td>15.30      </td><td>15.56      </td><td>36739448   </td><td>566536789  </td><td> 0.05      </td><td> 0.3224    </td><td>15.4204    </td><td>0.1699     </td><td>3.36380e+11</td><td>3.36380e+11</td><td>21618279922</td><td>6.3350     </td></tr>\n",
       "\t<tr><td>600000.SH  </td><td>浦发银行   </td><td>2017-04-18 </td><td>15.56      </td><td>15.50      </td><td>15.52      </td><td>15.30      </td><td>15.30      </td><td>22889980   </td><td>351624622  </td><td>-0.26      </td><td>-1.6710    </td><td>15.3615    </td><td>0.1059     </td><td>3.30760e+11</td><td>3.30760e+11</td><td>21618279922</td><td>6.2291     </td></tr>\n",
       "\t<tr><td>600000.SH  </td><td>浦发银行   </td><td>2017-04-19 </td><td>15.30      </td><td>15.25      </td><td>15.27      </td><td>15.11      </td><td>15.11      </td><td>24455407   </td><td>371021507  </td><td>-0.19      </td><td>-1.2418    </td><td>15.1713    </td><td>0.1131     </td><td>3.26652e+11</td><td>3.26652e+11</td><td>21618279922</td><td>6.1518     </td></tr>\n",
       "\t<tr><td>600000.SH  </td><td>浦发银行   </td><td>2017-04-20 </td><td>15.11      </td><td>15.12      </td><td>15.14      </td><td>14.90      </td><td>14.91      </td><td>41061406   </td><td>614436383  </td><td>-0.20      </td><td>-1.3236    </td><td>14.9638    </td><td>0.1899     </td><td>3.22329e+11</td><td>3.22329e+11</td><td>21618279922</td><td>6.0703     </td></tr>\n",
       "\t<tr><td>600000.SH  </td><td>浦发银行   </td><td>2017-04-21 </td><td>14.91      </td><td>14.92      </td><td>15.07      </td><td>14.85      </td><td>15.05      </td><td>22688358   </td><td>340453104  </td><td> 0.14      </td><td> 0.9390    </td><td>15.0056    </td><td>0.1049     </td><td>3.25355e+11</td><td>3.25355e+11</td><td>21618279922</td><td>6.1273     </td></tr>\n",
       "\t<tr><td>600000.SH  </td><td>浦发银行   </td><td>2017-04-24 </td><td>15.05      </td><td>15.05      </td><td>15.11      </td><td>14.91      </td><td>15.00      </td><td>17627803   </td><td>264649933  </td><td>-0.05      </td><td>-0.3322    </td><td>15.0132    </td><td>0.0815     </td><td>3.24274e+11</td><td>3.24274e+11</td><td>21618279922</td><td>6.1070     </td></tr>\n",
       "\t<tr><td>600000.SH  </td><td>浦发银行   </td><td>2017-04-25 </td><td>15.00      </td><td>15.02      </td><td>15.10      </td><td>14.99      </td><td>15.05      </td><td>12975919   </td><td>195296862  </td><td> 0.05      </td><td> 0.3333    </td><td>15.0507    </td><td>0.06       </td><td>3.25355e+11</td><td>3.25355e+11</td><td>21618279922</td><td>6.1273     </td></tr>\n",
       "\t<tr><td>600000.SH  </td><td>浦发银行   </td><td>2017-04-26 </td><td>15.05      </td><td>15.06      </td><td>15.11      </td><td>15.00      </td><td>15.05      </td><td>14939871   </td><td>225022668  </td><td> 0.00      </td><td> 0.0000    </td><td>15.0619    </td><td>0.0691     </td><td>3.25355e+11</td><td>3.25355e+11</td><td>21618279922</td><td>6.1273     </td></tr>\n",
       "\t<tr><td>600000.SH  </td><td>浦发银行   </td><td>2017-04-27 </td><td>15.05      </td><td>15.05      </td><td>15.25      </td><td>15.03      </td><td>15.21      </td><td>22887645   </td><td>345791526  </td><td> 0.16      </td><td> 1.0631    </td><td>15.1082    </td><td>0.1059     </td><td>3.28814e+11</td><td>3.28814e+11</td><td>21618279922</td><td>6.1925     </td></tr>\n",
       "\t<tr><td>600000.SH  </td><td>浦发银行   </td><td>2017-04-28 </td><td>15.21      </td><td>15.15      </td><td>15.22      </td><td>15.08      </td><td>15.21      </td><td>15718509   </td><td>238419161  </td><td> 0.00      </td><td> 0.0000    </td><td>15.1681    </td><td>0.0727     </td><td>3.28814e+11</td><td>3.28814e+11</td><td>21618279922</td><td>6.1925     </td></tr>\n",
       "\t<tr><td>600000.SH  </td><td>浦发银行   </td><td>2017-05-02 </td><td>15.21      </td><td>15.21      </td><td>15.22      </td><td>15.13      </td><td>15.16      </td><td>12607509   </td><td>191225527  </td><td>-0.05      </td><td>-0.3287    </td><td>15.1676    </td><td>0.0583     </td><td>3.27733e+11</td><td>3.27733e+11</td><td>21618279922</td><td>6.1721     </td></tr>\n",
       "\t<tr><td>600000.SH  </td><td>浦发银行   </td><td>2017-05-03 </td><td>15.16      </td><td>15.16      </td><td>15.16      </td><td>15.05      </td><td>15.08      </td><td>14247943   </td><td>215130847  </td><td>-0.08      </td><td>-0.5277    </td><td>15.0991    </td><td>0.0659     </td><td>3.26004e+11</td><td>3.26004e+11</td><td>21618279922</td><td>6.1395     </td></tr>\n",
       "\t<tr><td>600000.SH  </td><td>浦发银行   </td><td>2017-05-04 </td><td>15.08      </td><td>15.07      </td><td>15.07      </td><td>14.90      </td><td>14.98      </td><td>19477788   </td><td>291839737  </td><td>-0.10      </td><td>-0.6631    </td><td>14.9832    </td><td>0.0901     </td><td>3.23842e+11</td><td>3.23842e+11</td><td>21618279922</td><td>6.0988     </td></tr>\n",
       "\t<tr><td>600000.SH  </td><td>浦发银行   </td><td>2017-05-05 </td><td>14.98      </td><td>14.95      </td><td>14.98      </td><td>14.52      </td><td>14.92      </td><td>40194577   </td><td>592160198  </td><td>-0.06      </td><td>-0.4005    </td><td>14.7323    </td><td>0.1859     </td><td>3.22545e+11</td><td>3.22545e+11</td><td>21618279922</td><td>6.0744     </td></tr>\n",
       "\t<tr><td>600000.SH  </td><td>浦发银行   </td><td>2017-05-08 </td><td>14.92      </td><td>14.78      </td><td>14.90      </td><td>14.51      </td><td>14.86      </td><td>43568576   </td><td>638781010  </td><td>-0.06      </td><td>-0.4021    </td><td>14.6615    </td><td>0.2015     </td><td>3.21248e+11</td><td>3.21248e+11</td><td>21618279922</td><td>6.0500     </td></tr>\n",
       "\t<tr><td>600000.SH  </td><td>浦发银行   </td><td>2017-05-09 </td><td>14.86      </td><td>14.69      </td><td>14.84      </td><td>14.66      </td><td>14.76      </td><td>19225492   </td><td>283864640  </td><td>-0.10      </td><td>-0.6729    </td><td>14.765     </td><td>0.0889     </td><td>3.19086e+11</td><td>3.19086e+11</td><td>21618279922</td><td>6.0093     </td></tr>\n",
       "</tbody>\n",
       "</table>\n"
      ],
      "text/latex": [
       "\\begin{tabular}{r|llllllllllllllllll}\n",
       " ﻿代码 & 简称 & 日期 & 前收盘价(元) & 开盘价(元) & 最高价(元) & 最低价(元) & 收盘价(元) & 成交量(股) & 成交金额(元) & 涨跌(元) & 涨跌幅(\\%) & 均价(元) & 换手率(\\%) & A股流通市值(元) & 总市值(元) & A股流通股本(股) & 市盈率\\\\\n",
       "\\hline\n",
       "\t 600000.SH   & 浦发银行    & 2016-01-04  & 16.1356     & 16.1444     & 16.1444     & 15.4997     & 15.7205     & 42240610    & 754425783   & -0.4151     & -2.5725     & 17.8602     & 0.2264      & 3.32032e+11 & 3.32032e+11 & 18653471415 & 6.5614     \\\\\n",
       "\t 600000.SH   & 浦发银行    & 2016-01-05  & 15.7205     & 15.4644     & 15.9501     & 15.3672     & 15.8618     & 58054793    & 1034181474  &  0.1413     &  0.8989     & 17.8139     & 0.3112      & 3.35016e+11 & 3.35016e+11 & 18653471415 & 6.6204     \\\\\n",
       "\t 600000.SH   & 浦发银行    & 2016-01-06  & 15.8618     & 15.8088     & 16.0208     & 15.6234     & 15.9855     & 46772653    & 838667398   &  0.1236     &  0.7795     & 17.9307     & 0.2507      & 3.37628e+11 & 3.37628e+11 & 18653471415 & 6.6720     \\\\\n",
       "\t 600000.SH   & 浦发银行    & 2016-01-07  & 15.9855     & 15.7205     & 15.8088     & 15.3672     & 15.4644     & 11350479    & 199502702   & -0.5211     & -3.2597     & 17.5766     & 0.0608      & 3.26622e+11 & 3.26622e+11 & 18653471415 & 6.4545     \\\\\n",
       "\t 600000.SH   & 浦发银行    & 2016-01-08  & 15.4644     & 15.6675     & 15.7912     & 14.9345     & 15.4467     & 71918296    & 1262105060  & -0.0177     & -0.1142     & 17.5492     & 0.3855      & 3.26249e+11 & 3.26249e+11 & 18653471415 & 6.4471     \\\\\n",
       "\t 600000.SH   & 浦发银行    & 2016-01-11  & 15.4467     & 15.1994     & 15.4114     & 14.9786     & 15.0581     & 90177135    & 1550155933  & -0.3886     & -2.5157     & 17.1901     & 0.4834      & 3.18042e+11 & 3.18042e+11 & 18653471415 & 6.2849     \\\\\n",
       "\t 600000.SH   & 浦发银行    & 2016-01-12  & 15.0581     & 15.1641     & 15.4732     & 15.0846     & 15.4114     & 55374454    & 964061502   &  0.3533     &  2.3460     & 17.4099     & 0.2969      & 3.25503e+11 & 3.25503e+11 & 18653471415 & 6.4324     \\\\\n",
       "\t 600000.SH   & 浦发银行    & 2016-01-13  & 15.4114     & 15.5174     & 15.8088     & 15.3231     & 15.3584     & 47869312    & 843717365   & -0.0530     & -0.3438     & 17.6254     & 0.2566      & 3.24384e+11 & 3.24384e+11 & 18653471415 & 6.4102     \\\\\n",
       "\t 600000.SH   & 浦发银行    & 2016-01-14  & 15.3584     & 15.0140     & 15.8883     & 14.9168     & 15.8265     & 54838833    & 966117848   &  0.4681     &  3.0477     & 17.6174     & 0.294       & 3.34270e+11 & 3.34270e+11 & 18653471415 & 6.6056     \\\\\n",
       "\t 600000.SH   & 浦发银行    & 2016-01-15  & 15.8265     & 15.7205     & 16.0296     & 15.4732     & 15.5262     & 46723139    & 836146426   & -0.3003     & -1.8973     & 17.8958     & 0.2505      & 3.27928e+11 & 3.27928e+11 & 18653471415 & 6.4803     \\\\\n",
       "\t 600000.SH   & 浦发银行    & 2016-01-18  & 15.5262     & 15.3937     & 15.8883     & 15.2966     & 15.6145     & 32729006    & 583291559   &  0.0883     &  0.5688     & 17.8219     & 0.1755      & 3.29793e+11 & 3.29793e+11 & 18653471415 & 6.5171     \\\\\n",
       "\t 600000.SH   & 浦发银行    & 2016-01-19  & 15.6145     & 15.7029     & 15.7912     & 15.4556     & 15.6940     & 29807159    & 527753175   &  0.0795     &  0.5090     & 17.7056     & 0.1598      & 3.31472e+11 & 3.31472e+11 & 18653471415 & 6.5503     \\\\\n",
       "\t 600000.SH   & 浦发银行    & 2016-01-20  & 15.6940     & 15.5527     & 15.6322     & 15.0846     & 15.2348     & 35968636    & 623546924   & -0.4593     & -2.9263     & 17.3359     & 0.1928      & 3.21772e+11 & 3.21772e+11 & 18653471415 & 6.3586     \\\\\n",
       "\t 600000.SH   & 浦发银行    & 2016-01-21  & 15.2348     & 15.2083     & 15.4202     & 14.5724     & 14.6430     & 34197115    & 582845476   & -0.5917     & -3.8841     & 17.0437     & 0.1833      & 3.09275e+11 & 3.09275e+11 & 18653471415 & 6.1117     \\\\\n",
       "\t 600000.SH   & 浦发银行    & 2016-01-22  & 14.6430     & 14.8727     & 15.1111     & 14.5636     & 15.0316     & 42007318    & 708179241   &  0.3886     &  2.6538     & 16.8585     & 0.2252      & 3.17482e+11 & 3.17482e+11 & 18653471415 & 6.2739     \\\\\n",
       "\t 600000.SH   & 浦发银行    & 2016-01-25  & 15.0316     & 15.0140     & 15.1641     & 14.7667     & 15.0405     & 23558971    & 400445071   &  0.0088     &  0.0588     & 16.9976     & 0.1263      & 3.17669e+11 & 3.17669e+11 & 18653471415 & 6.2775     \\\\\n",
       "\t 600000.SH   & 浦发银行    & 2016-01-26  & 15.0405     & 14.9786     & 15.1376     & 14.4841     & 14.7137     & 38279766    & 643611762   & -0.3268     & -2.1726     & 16.8134     & 0.2052      & 3.10767e+11 & 3.10767e+11 & 18653471415 & 6.1412     \\\\\n",
       "\t 600000.SH   & 浦发银行    & 2016-01-27  & 14.7137     & 14.7932     & 14.9963     & 14.5812     & 14.7314     & 44291307    & 742640743   &  0.0177     &  0.1200     & 16.7672     & 0.2374      & 3.11140e+11 & 3.11140e+11 & 18653471415 & 6.1485     \\\\\n",
       "\t 600000.SH   & 浦发银行    & 2016-01-28  & 14.7314     & 14.8020     & 14.8550     & 14.0248     & 14.6430     & 38902180    & 643984171   & -0.0883     & -0.5995     & 16.5539     & 0.2086      & 3.09275e+11 & 3.09275e+11 & 18653471415 & 6.1117     \\\\\n",
       "\t 600000.SH   & 浦发银行    & 2016-01-29  & 14.6430     & 14.5901     & 15.0581     & 14.4929     & 14.9257     & 47429000    & 799493381   &  0.2826     &  1.9300     & 16.8566     & 0.2543      & 3.15244e+11 & 3.15244e+11 & 18653471415 & 6.2296     \\\\\n",
       "\t 600000.SH   & 浦发银行    & 2016-02-01  & 14.9257     & 15.0051     & 15.0140     & 14.4929     & 14.5724     & 29139596    & 485275132   & -0.3533     & -2.3669     & 16.6535     & 0.1562      & 3.07782e+11 & 3.07782e+11 & 18653471415 & 6.0822     \\\\\n",
       "\t 600000.SH   & 浦发银行    & 2016-02-02  & 14.5724     & 14.5724     & 14.9610     & 14.5371     & 14.8020     & 25380981    & 425396889   &  0.2296     &  1.5758     & 16.7605     & 0.1361      & 3.12632e+11 & 3.12632e+11 & 18653471415 & 6.1780     \\\\\n",
       "\t 600000.SH   & 浦发银行    & 2016-02-03  & 14.8020     & 14.6607     & 14.7137     & 14.5282     & 14.6695     & 27779183    & 459255616   & -0.1325     & -0.8950     & 16.5324     & 0.1489      & 3.09834e+11 & 3.09834e+11 & 18653471415 & 6.1227     \\\\\n",
       "\t 600000.SH   & 浦发银行    & 2016-02-04  & 14.6695     & 14.8727     & 15.2966     & 14.6872     & 15.2789     & 47162860    & 799283799   &  0.6094     &  4.1541     & 16.9473     & 0.2528      & 3.22705e+11 & 3.22705e+11 & 18653471415 & 6.3771     \\\\\n",
       "\t 600000.SH   & 浦发银行    & 2016-02-05  & 15.2789     & 15.2259     & 16.2416     & 15.1465     & 16.2328     & 78413454    & 1401156041  &  0.9538     &  6.2428     & 17.8688     & 0.4204      & 3.42851e+11 & 3.42851e+11 & 18653471415 & 6.7752     \\\\\n",
       "\t 600000.SH   & 浦发银行    & 2016-02-15  & 16.2328     & 15.8795     & 16.3211     & 15.7205     & 16.2946     & 67296317    & 1221398339  &  0.0618     &  0.3808     & 18.1496     & 0.3608      & 3.44157e+11 & 3.44157e+11 & 18653471415 & 6.8010     \\\\\n",
       "\t 600000.SH   & 浦发银行    & 2016-03-11  & 16.2946     & 15.4644     & 15.4821     & 14.6695     & 14.9875     & 98240322    & 1657158636  & -1.3071     & -8.0217     & 16.8684     & 0.5267      & 3.16549e+11 & 3.16549e+11 & 18653471415 & 6.2554     \\\\\n",
       "\t 600000.SH   & 浦发银行    & 2016-03-14  & 14.9875     & 14.9080     & 15.4291     & 14.8550     & 14.8903     & 56922239    & 973317374   & -0.0971     & -0.6482     & 17.0991     & 0.3052      & 3.14498e+11 & 3.14498e+11 & 18653471415 & 6.2149     \\\\\n",
       "\t 600000.SH   & 浦发银行    & 2016-03-15  & 14.8903     & 14.9698     & 15.1818     & 14.8462     & 15.0316     & 37540932    & 638223050   &  0.1413     &  0.9490     & 17.0007     & 0.2013      & 3.17482e+11 & 3.17482e+11 & 18653471415 & 6.2739     \\\\\n",
       "\t 600000.SH   & 浦发银行    & 2016-03-16  & 15.0316     & 14.9433     & 15.9590     & 14.9345     & 15.9236     & 108404378   & 1924212601  &  0.8920     &  5.9342     & 17.7503     & 0.5811      & 3.36322e+11 & 3.36322e+11 & 18653471415 & 6.6462     \\\\\n",
       "\t ... & ... & ... & ... & ... & ... & ... & ... & ... & ... & ... & ... & ... & ... & ... & ... & ... & ...\\\\\n",
       "\t 600000.SH   & 浦发银行    & 2017-03-24  & 15.88       & 15.85       & 16.00       & 15.83       & 15.96       & 19902006    & 316984958   &  0.08       &  0.5038     & 15.9273     & 0.0921      & 3.45028e+11 & 3.45028e+11 & 21618279922 & 6.4978     \\\\\n",
       "\t 600000.SH   & 浦发银行    & 2017-03-27  & 15.96       & 15.97       & 16.13       & 15.90       & 16.04       & 18997369    & 304990151   &  0.08       &  0.5013     & 16.0543     & 0.0879      & 3.46757e+11 & 3.46757e+11 & 21618279922 & 6.5304     \\\\\n",
       "\t 600000.SH   & 浦发银行    & 2017-03-28  & 16.04       & 16.11       & 16.13       & 15.97       & 16.01       & 13212969    & 211750766   & -0.03       & -0.1870     & 16.026      & 0.0611      & 3.46109e+11 & 3.46109e+11 & 21618279922 & 6.5182     \\\\\n",
       "\t 600000.SH   & 浦发银行    & 2017-03-29  & 16.01       & 16.01       & 16.11       & 15.80       & 15.87       & 23446792    & 372794465   & -0.14       & -0.8745     & 15.8996     & 0.1085      & 3.43082e+11 & 3.43082e+11 & 21618279922 & 6.4612     \\\\\n",
       "\t 600000.SH   & 浦发银行    & 2017-03-30  & 15.87       & 15.88       & 15.90       & 15.72       & 15.81       & 23645144    & 373665115   & -0.06       & -0.3781     & 15.803      & 0.1094      & 3.41785e+11 & 3.41785e+11 & 21618279922 & 6.4368     \\\\\n",
       "\t 600000.SH   & 浦发银行    & 2017-03-31  & 15.81       & 15.78       & 16.05       & 15.77       & 16.01       & 24187120    & 385793421   &  0.20       &  1.2650     & 15.9504     & 0.1119      & 3.46109e+11 & 3.46109e+11 & 21618279922 & 6.5182     \\\\\n",
       "\t 600000.SH   & 浦发银行    & 2017-04-05  & 16.01       & 16.05       & 16.20       & 15.89       & 16.16       & 31036271    & 499121565   &  0.15       &  0.9369     & 16.0819     & 0.1436      & 3.49351e+11 & 3.49351e+11 & 21618279922 & 6.5792     \\\\\n",
       "\t 600000.SH   & 浦发银行    & 2017-04-06  & 16.16       & 16.09       & 16.18       & 16.03       & 16.10       & 22335442    & 359361840   & -0.06       & -0.3713     & 16.0893     & 0.1033      & 3.48054e+11 & 3.48054e+11 & 21618279922 & 6.5548     \\\\\n",
       "\t 600000.SH   & 浦发银行    & 2017-04-07  & 16.10       & 16.06       & 16.16       & 16.02       & 16.10       & 20126948    & 323821647   &  0.00       &  0.0000     & 16.089      & 0.0931      & 3.48054e+11 & 3.48054e+11 & 21618279922 & 6.5548     \\\\\n",
       "\t 600000.SH   & 浦发银行    & 2017-04-10  & 16.10       & 16.12       & 16.12       & 15.94       & 15.97       & 16154024    & 258662668   & -0.13       & -0.8075     & 16.0123     & 0.0747      & 3.45244e+11 & 3.45244e+11 & 21618279922 & 6.5019     \\\\\n",
       "\t 600000.SH   & 浦发银行    & 2017-04-11  & 15.97       & 15.97       & 15.99       & 15.81       & 15.89       & 18611375    & 295381671   & -0.08       & -0.5009     & 15.871      & 0.0861      & 3.43514e+11 & 3.43514e+11 & 21618279922 & 6.4693     \\\\\n",
       "\t 600000.SH   & 浦发银行    & 2017-04-12  & 15.89       & 15.88       & 15.96       & 15.75       & 15.89       & 22210541    & 352357729   &  0.00       &  0.0000     & 15.8644     & 0.1027      & 3.43514e+11 & 3.43514e+11 & 21618279922 & 6.4693     \\\\\n",
       "\t 600000.SH   & 浦发银行    & 2017-04-13  & 15.89       & 15.88       & 15.89       & 15.73       & 15.75       & 23426650    & 369388222   & -0.14       & -0.8811     & 15.7679     & 0.1084      & 3.40488e+11 & 3.40488e+11 & 21618279922 & 6.4123     \\\\\n",
       "\t 600000.SH   & 浦发银行    & 2017-04-14  & 15.75       & 15.76       & 15.78       & 15.42       & 15.51       & 40156553    & 625510632   & -0.24       & -1.5238     & 15.5768     & 0.1858      & 3.35300e+11 & 3.35300e+11 & 21618279922 & 6.3146     \\\\\n",
       "\t 600000.SH   & 浦发银行    & 2017-04-17  & 15.51       & 15.53       & 15.60       & 15.30       & 15.56       & 36739448    & 566536789   &  0.05       &  0.3224     & 15.4204     & 0.1699      & 3.36380e+11 & 3.36380e+11 & 21618279922 & 6.3350     \\\\\n",
       "\t 600000.SH   & 浦发银行    & 2017-04-18  & 15.56       & 15.50       & 15.52       & 15.30       & 15.30       & 22889980    & 351624622   & -0.26       & -1.6710     & 15.3615     & 0.1059      & 3.30760e+11 & 3.30760e+11 & 21618279922 & 6.2291     \\\\\n",
       "\t 600000.SH   & 浦发银行    & 2017-04-19  & 15.30       & 15.25       & 15.27       & 15.11       & 15.11       & 24455407    & 371021507   & -0.19       & -1.2418     & 15.1713     & 0.1131      & 3.26652e+11 & 3.26652e+11 & 21618279922 & 6.1518     \\\\\n",
       "\t 600000.SH   & 浦发银行    & 2017-04-20  & 15.11       & 15.12       & 15.14       & 14.90       & 14.91       & 41061406    & 614436383   & -0.20       & -1.3236     & 14.9638     & 0.1899      & 3.22329e+11 & 3.22329e+11 & 21618279922 & 6.0703     \\\\\n",
       "\t 600000.SH   & 浦发银行    & 2017-04-21  & 14.91       & 14.92       & 15.07       & 14.85       & 15.05       & 22688358    & 340453104   &  0.14       &  0.9390     & 15.0056     & 0.1049      & 3.25355e+11 & 3.25355e+11 & 21618279922 & 6.1273     \\\\\n",
       "\t 600000.SH   & 浦发银行    & 2017-04-24  & 15.05       & 15.05       & 15.11       & 14.91       & 15.00       & 17627803    & 264649933   & -0.05       & -0.3322     & 15.0132     & 0.0815      & 3.24274e+11 & 3.24274e+11 & 21618279922 & 6.1070     \\\\\n",
       "\t 600000.SH   & 浦发银行    & 2017-04-25  & 15.00       & 15.02       & 15.10       & 14.99       & 15.05       & 12975919    & 195296862   &  0.05       &  0.3333     & 15.0507     & 0.06        & 3.25355e+11 & 3.25355e+11 & 21618279922 & 6.1273     \\\\\n",
       "\t 600000.SH   & 浦发银行    & 2017-04-26  & 15.05       & 15.06       & 15.11       & 15.00       & 15.05       & 14939871    & 225022668   &  0.00       &  0.0000     & 15.0619     & 0.0691      & 3.25355e+11 & 3.25355e+11 & 21618279922 & 6.1273     \\\\\n",
       "\t 600000.SH   & 浦发银行    & 2017-04-27  & 15.05       & 15.05       & 15.25       & 15.03       & 15.21       & 22887645    & 345791526   &  0.16       &  1.0631     & 15.1082     & 0.1059      & 3.28814e+11 & 3.28814e+11 & 21618279922 & 6.1925     \\\\\n",
       "\t 600000.SH   & 浦发银行    & 2017-04-28  & 15.21       & 15.15       & 15.22       & 15.08       & 15.21       & 15718509    & 238419161   &  0.00       &  0.0000     & 15.1681     & 0.0727      & 3.28814e+11 & 3.28814e+11 & 21618279922 & 6.1925     \\\\\n",
       "\t 600000.SH   & 浦发银行    & 2017-05-02  & 15.21       & 15.21       & 15.22       & 15.13       & 15.16       & 12607509    & 191225527   & -0.05       & -0.3287     & 15.1676     & 0.0583      & 3.27733e+11 & 3.27733e+11 & 21618279922 & 6.1721     \\\\\n",
       "\t 600000.SH   & 浦发银行    & 2017-05-03  & 15.16       & 15.16       & 15.16       & 15.05       & 15.08       & 14247943    & 215130847   & -0.08       & -0.5277     & 15.0991     & 0.0659      & 3.26004e+11 & 3.26004e+11 & 21618279922 & 6.1395     \\\\\n",
       "\t 600000.SH   & 浦发银行    & 2017-05-04  & 15.08       & 15.07       & 15.07       & 14.90       & 14.98       & 19477788    & 291839737   & -0.10       & -0.6631     & 14.9832     & 0.0901      & 3.23842e+11 & 3.23842e+11 & 21618279922 & 6.0988     \\\\\n",
       "\t 600000.SH   & 浦发银行    & 2017-05-05  & 14.98       & 14.95       & 14.98       & 14.52       & 14.92       & 40194577    & 592160198   & -0.06       & -0.4005     & 14.7323     & 0.1859      & 3.22545e+11 & 3.22545e+11 & 21618279922 & 6.0744     \\\\\n",
       "\t 600000.SH   & 浦发银行    & 2017-05-08  & 14.92       & 14.78       & 14.90       & 14.51       & 14.86       & 43568576    & 638781010   & -0.06       & -0.4021     & 14.6615     & 0.2015      & 3.21248e+11 & 3.21248e+11 & 21618279922 & 6.0500     \\\\\n",
       "\t 600000.SH   & 浦发银行    & 2017-05-09  & 14.86       & 14.69       & 14.84       & 14.66       & 14.76       & 19225492    & 283864640   & -0.10       & -0.6729     & 14.765      & 0.0889      & 3.19086e+11 & 3.19086e+11 & 21618279922 & 6.0093     \\\\\n",
       "\\end{tabular}\n"
      ],
      "text/markdown": [
       "\n",
       "﻿代码 | 简称 | 日期 | 前收盘价(元) | 开盘价(元) | 最高价(元) | 最低价(元) | 收盘价(元) | 成交量(股) | 成交金额(元) | 涨跌(元) | 涨跌幅(%) | 均价(元) | 换手率(%) | A股流通市值(元) | 总市值(元) | A股流通股本(股) | 市盈率 | \n",
       "|---|---|---|---|---|---|---|---|---|---|---|---|---|---|---|---|---|---|---|---|---|---|---|---|---|---|---|---|---|---|---|---|---|---|---|---|---|---|---|---|---|---|---|---|---|---|---|---|---|---|---|---|---|---|---|---|---|---|---|---|---|\n",
       "| 600000.SH   | 浦发银行    | 2016-01-04  | 16.1356     | 16.1444     | 16.1444     | 15.4997     | 15.7205     | 42240610    | 754425783   | -0.4151     | -2.5725     | 17.8602     | 0.2264      | 3.32032e+11 | 3.32032e+11 | 18653471415 | 6.5614      | \n",
       "| 600000.SH   | 浦发银行    | 2016-01-05  | 15.7205     | 15.4644     | 15.9501     | 15.3672     | 15.8618     | 58054793    | 1034181474  |  0.1413     |  0.8989     | 17.8139     | 0.3112      | 3.35016e+11 | 3.35016e+11 | 18653471415 | 6.6204      | \n",
       "| 600000.SH   | 浦发银行    | 2016-01-06  | 15.8618     | 15.8088     | 16.0208     | 15.6234     | 15.9855     | 46772653    | 838667398   |  0.1236     |  0.7795     | 17.9307     | 0.2507      | 3.37628e+11 | 3.37628e+11 | 18653471415 | 6.6720      | \n",
       "| 600000.SH   | 浦发银行    | 2016-01-07  | 15.9855     | 15.7205     | 15.8088     | 15.3672     | 15.4644     | 11350479    | 199502702   | -0.5211     | -3.2597     | 17.5766     | 0.0608      | 3.26622e+11 | 3.26622e+11 | 18653471415 | 6.4545      | \n",
       "| 600000.SH   | 浦发银行    | 2016-01-08  | 15.4644     | 15.6675     | 15.7912     | 14.9345     | 15.4467     | 71918296    | 1262105060  | -0.0177     | -0.1142     | 17.5492     | 0.3855      | 3.26249e+11 | 3.26249e+11 | 18653471415 | 6.4471      | \n",
       "| 600000.SH   | 浦发银行    | 2016-01-11  | 15.4467     | 15.1994     | 15.4114     | 14.9786     | 15.0581     | 90177135    | 1550155933  | -0.3886     | -2.5157     | 17.1901     | 0.4834      | 3.18042e+11 | 3.18042e+11 | 18653471415 | 6.2849      | \n",
       "| 600000.SH   | 浦发银行    | 2016-01-12  | 15.0581     | 15.1641     | 15.4732     | 15.0846     | 15.4114     | 55374454    | 964061502   |  0.3533     |  2.3460     | 17.4099     | 0.2969      | 3.25503e+11 | 3.25503e+11 | 18653471415 | 6.4324      | \n",
       "| 600000.SH   | 浦发银行    | 2016-01-13  | 15.4114     | 15.5174     | 15.8088     | 15.3231     | 15.3584     | 47869312    | 843717365   | -0.0530     | -0.3438     | 17.6254     | 0.2566      | 3.24384e+11 | 3.24384e+11 | 18653471415 | 6.4102      | \n",
       "| 600000.SH   | 浦发银行    | 2016-01-14  | 15.3584     | 15.0140     | 15.8883     | 14.9168     | 15.8265     | 54838833    | 966117848   |  0.4681     |  3.0477     | 17.6174     | 0.294       | 3.34270e+11 | 3.34270e+11 | 18653471415 | 6.6056      | \n",
       "| 600000.SH   | 浦发银行    | 2016-01-15  | 15.8265     | 15.7205     | 16.0296     | 15.4732     | 15.5262     | 46723139    | 836146426   | -0.3003     | -1.8973     | 17.8958     | 0.2505      | 3.27928e+11 | 3.27928e+11 | 18653471415 | 6.4803      | \n",
       "| 600000.SH   | 浦发银行    | 2016-01-18  | 15.5262     | 15.3937     | 15.8883     | 15.2966     | 15.6145     | 32729006    | 583291559   |  0.0883     |  0.5688     | 17.8219     | 0.1755      | 3.29793e+11 | 3.29793e+11 | 18653471415 | 6.5171      | \n",
       "| 600000.SH   | 浦发银行    | 2016-01-19  | 15.6145     | 15.7029     | 15.7912     | 15.4556     | 15.6940     | 29807159    | 527753175   |  0.0795     |  0.5090     | 17.7056     | 0.1598      | 3.31472e+11 | 3.31472e+11 | 18653471415 | 6.5503      | \n",
       "| 600000.SH   | 浦发银行    | 2016-01-20  | 15.6940     | 15.5527     | 15.6322     | 15.0846     | 15.2348     | 35968636    | 623546924   | -0.4593     | -2.9263     | 17.3359     | 0.1928      | 3.21772e+11 | 3.21772e+11 | 18653471415 | 6.3586      | \n",
       "| 600000.SH   | 浦发银行    | 2016-01-21  | 15.2348     | 15.2083     | 15.4202     | 14.5724     | 14.6430     | 34197115    | 582845476   | -0.5917     | -3.8841     | 17.0437     | 0.1833      | 3.09275e+11 | 3.09275e+11 | 18653471415 | 6.1117      | \n",
       "| 600000.SH   | 浦发银行    | 2016-01-22  | 14.6430     | 14.8727     | 15.1111     | 14.5636     | 15.0316     | 42007318    | 708179241   |  0.3886     |  2.6538     | 16.8585     | 0.2252      | 3.17482e+11 | 3.17482e+11 | 18653471415 | 6.2739      | \n",
       "| 600000.SH   | 浦发银行    | 2016-01-25  | 15.0316     | 15.0140     | 15.1641     | 14.7667     | 15.0405     | 23558971    | 400445071   |  0.0088     |  0.0588     | 16.9976     | 0.1263      | 3.17669e+11 | 3.17669e+11 | 18653471415 | 6.2775      | \n",
       "| 600000.SH   | 浦发银行    | 2016-01-26  | 15.0405     | 14.9786     | 15.1376     | 14.4841     | 14.7137     | 38279766    | 643611762   | -0.3268     | -2.1726     | 16.8134     | 0.2052      | 3.10767e+11 | 3.10767e+11 | 18653471415 | 6.1412      | \n",
       "| 600000.SH   | 浦发银行    | 2016-01-27  | 14.7137     | 14.7932     | 14.9963     | 14.5812     | 14.7314     | 44291307    | 742640743   |  0.0177     |  0.1200     | 16.7672     | 0.2374      | 3.11140e+11 | 3.11140e+11 | 18653471415 | 6.1485      | \n",
       "| 600000.SH   | 浦发银行    | 2016-01-28  | 14.7314     | 14.8020     | 14.8550     | 14.0248     | 14.6430     | 38902180    | 643984171   | -0.0883     | -0.5995     | 16.5539     | 0.2086      | 3.09275e+11 | 3.09275e+11 | 18653471415 | 6.1117      | \n",
       "| 600000.SH   | 浦发银行    | 2016-01-29  | 14.6430     | 14.5901     | 15.0581     | 14.4929     | 14.9257     | 47429000    | 799493381   |  0.2826     |  1.9300     | 16.8566     | 0.2543      | 3.15244e+11 | 3.15244e+11 | 18653471415 | 6.2296      | \n",
       "| 600000.SH   | 浦发银行    | 2016-02-01  | 14.9257     | 15.0051     | 15.0140     | 14.4929     | 14.5724     | 29139596    | 485275132   | -0.3533     | -2.3669     | 16.6535     | 0.1562      | 3.07782e+11 | 3.07782e+11 | 18653471415 | 6.0822      | \n",
       "| 600000.SH   | 浦发银行    | 2016-02-02  | 14.5724     | 14.5724     | 14.9610     | 14.5371     | 14.8020     | 25380981    | 425396889   |  0.2296     |  1.5758     | 16.7605     | 0.1361      | 3.12632e+11 | 3.12632e+11 | 18653471415 | 6.1780      | \n",
       "| 600000.SH   | 浦发银行    | 2016-02-03  | 14.8020     | 14.6607     | 14.7137     | 14.5282     | 14.6695     | 27779183    | 459255616   | -0.1325     | -0.8950     | 16.5324     | 0.1489      | 3.09834e+11 | 3.09834e+11 | 18653471415 | 6.1227      | \n",
       "| 600000.SH   | 浦发银行    | 2016-02-04  | 14.6695     | 14.8727     | 15.2966     | 14.6872     | 15.2789     | 47162860    | 799283799   |  0.6094     |  4.1541     | 16.9473     | 0.2528      | 3.22705e+11 | 3.22705e+11 | 18653471415 | 6.3771      | \n",
       "| 600000.SH   | 浦发银行    | 2016-02-05  | 15.2789     | 15.2259     | 16.2416     | 15.1465     | 16.2328     | 78413454    | 1401156041  |  0.9538     |  6.2428     | 17.8688     | 0.4204      | 3.42851e+11 | 3.42851e+11 | 18653471415 | 6.7752      | \n",
       "| 600000.SH   | 浦发银行    | 2016-02-15  | 16.2328     | 15.8795     | 16.3211     | 15.7205     | 16.2946     | 67296317    | 1221398339  |  0.0618     |  0.3808     | 18.1496     | 0.3608      | 3.44157e+11 | 3.44157e+11 | 18653471415 | 6.8010      | \n",
       "| 600000.SH   | 浦发银行    | 2016-03-11  | 16.2946     | 15.4644     | 15.4821     | 14.6695     | 14.9875     | 98240322    | 1657158636  | -1.3071     | -8.0217     | 16.8684     | 0.5267      | 3.16549e+11 | 3.16549e+11 | 18653471415 | 6.2554      | \n",
       "| 600000.SH   | 浦发银行    | 2016-03-14  | 14.9875     | 14.9080     | 15.4291     | 14.8550     | 14.8903     | 56922239    | 973317374   | -0.0971     | -0.6482     | 17.0991     | 0.3052      | 3.14498e+11 | 3.14498e+11 | 18653471415 | 6.2149      | \n",
       "| 600000.SH   | 浦发银行    | 2016-03-15  | 14.8903     | 14.9698     | 15.1818     | 14.8462     | 15.0316     | 37540932    | 638223050   |  0.1413     |  0.9490     | 17.0007     | 0.2013      | 3.17482e+11 | 3.17482e+11 | 18653471415 | 6.2739      | \n",
       "| 600000.SH   | 浦发银行    | 2016-03-16  | 15.0316     | 14.9433     | 15.9590     | 14.9345     | 15.9236     | 108404378   | 1924212601  |  0.8920     |  5.9342     | 17.7503     | 0.5811      | 3.36322e+11 | 3.36322e+11 | 18653471415 | 6.6462      | \n",
       "| ... | ... | ... | ... | ... | ... | ... | ... | ... | ... | ... | ... | ... | ... | ... | ... | ... | ... | \n",
       "| 600000.SH   | 浦发银行    | 2017-03-24  | 15.88       | 15.85       | 16.00       | 15.83       | 15.96       | 19902006    | 316984958   |  0.08       |  0.5038     | 15.9273     | 0.0921      | 3.45028e+11 | 3.45028e+11 | 21618279922 | 6.4978      | \n",
       "| 600000.SH   | 浦发银行    | 2017-03-27  | 15.96       | 15.97       | 16.13       | 15.90       | 16.04       | 18997369    | 304990151   |  0.08       |  0.5013     | 16.0543     | 0.0879      | 3.46757e+11 | 3.46757e+11 | 21618279922 | 6.5304      | \n",
       "| 600000.SH   | 浦发银行    | 2017-03-28  | 16.04       | 16.11       | 16.13       | 15.97       | 16.01       | 13212969    | 211750766   | -0.03       | -0.1870     | 16.026      | 0.0611      | 3.46109e+11 | 3.46109e+11 | 21618279922 | 6.5182      | \n",
       "| 600000.SH   | 浦发银行    | 2017-03-29  | 16.01       | 16.01       | 16.11       | 15.80       | 15.87       | 23446792    | 372794465   | -0.14       | -0.8745     | 15.8996     | 0.1085      | 3.43082e+11 | 3.43082e+11 | 21618279922 | 6.4612      | \n",
       "| 600000.SH   | 浦发银行    | 2017-03-30  | 15.87       | 15.88       | 15.90       | 15.72       | 15.81       | 23645144    | 373665115   | -0.06       | -0.3781     | 15.803      | 0.1094      | 3.41785e+11 | 3.41785e+11 | 21618279922 | 6.4368      | \n",
       "| 600000.SH   | 浦发银行    | 2017-03-31  | 15.81       | 15.78       | 16.05       | 15.77       | 16.01       | 24187120    | 385793421   |  0.20       |  1.2650     | 15.9504     | 0.1119      | 3.46109e+11 | 3.46109e+11 | 21618279922 | 6.5182      | \n",
       "| 600000.SH   | 浦发银行    | 2017-04-05  | 16.01       | 16.05       | 16.20       | 15.89       | 16.16       | 31036271    | 499121565   |  0.15       |  0.9369     | 16.0819     | 0.1436      | 3.49351e+11 | 3.49351e+11 | 21618279922 | 6.5792      | \n",
       "| 600000.SH   | 浦发银行    | 2017-04-06  | 16.16       | 16.09       | 16.18       | 16.03       | 16.10       | 22335442    | 359361840   | -0.06       | -0.3713     | 16.0893     | 0.1033      | 3.48054e+11 | 3.48054e+11 | 21618279922 | 6.5548      | \n",
       "| 600000.SH   | 浦发银行    | 2017-04-07  | 16.10       | 16.06       | 16.16       | 16.02       | 16.10       | 20126948    | 323821647   |  0.00       |  0.0000     | 16.089      | 0.0931      | 3.48054e+11 | 3.48054e+11 | 21618279922 | 6.5548      | \n",
       "| 600000.SH   | 浦发银行    | 2017-04-10  | 16.10       | 16.12       | 16.12       | 15.94       | 15.97       | 16154024    | 258662668   | -0.13       | -0.8075     | 16.0123     | 0.0747      | 3.45244e+11 | 3.45244e+11 | 21618279922 | 6.5019      | \n",
       "| 600000.SH   | 浦发银行    | 2017-04-11  | 15.97       | 15.97       | 15.99       | 15.81       | 15.89       | 18611375    | 295381671   | -0.08       | -0.5009     | 15.871      | 0.0861      | 3.43514e+11 | 3.43514e+11 | 21618279922 | 6.4693      | \n",
       "| 600000.SH   | 浦发银行    | 2017-04-12  | 15.89       | 15.88       | 15.96       | 15.75       | 15.89       | 22210541    | 352357729   |  0.00       |  0.0000     | 15.8644     | 0.1027      | 3.43514e+11 | 3.43514e+11 | 21618279922 | 6.4693      | \n",
       "| 600000.SH   | 浦发银行    | 2017-04-13  | 15.89       | 15.88       | 15.89       | 15.73       | 15.75       | 23426650    | 369388222   | -0.14       | -0.8811     | 15.7679     | 0.1084      | 3.40488e+11 | 3.40488e+11 | 21618279922 | 6.4123      | \n",
       "| 600000.SH   | 浦发银行    | 2017-04-14  | 15.75       | 15.76       | 15.78       | 15.42       | 15.51       | 40156553    | 625510632   | -0.24       | -1.5238     | 15.5768     | 0.1858      | 3.35300e+11 | 3.35300e+11 | 21618279922 | 6.3146      | \n",
       "| 600000.SH   | 浦发银行    | 2017-04-17  | 15.51       | 15.53       | 15.60       | 15.30       | 15.56       | 36739448    | 566536789   |  0.05       |  0.3224     | 15.4204     | 0.1699      | 3.36380e+11 | 3.36380e+11 | 21618279922 | 6.3350      | \n",
       "| 600000.SH   | 浦发银行    | 2017-04-18  | 15.56       | 15.50       | 15.52       | 15.30       | 15.30       | 22889980    | 351624622   | -0.26       | -1.6710     | 15.3615     | 0.1059      | 3.30760e+11 | 3.30760e+11 | 21618279922 | 6.2291      | \n",
       "| 600000.SH   | 浦发银行    | 2017-04-19  | 15.30       | 15.25       | 15.27       | 15.11       | 15.11       | 24455407    | 371021507   | -0.19       | -1.2418     | 15.1713     | 0.1131      | 3.26652e+11 | 3.26652e+11 | 21618279922 | 6.1518      | \n",
       "| 600000.SH   | 浦发银行    | 2017-04-20  | 15.11       | 15.12       | 15.14       | 14.90       | 14.91       | 41061406    | 614436383   | -0.20       | -1.3236     | 14.9638     | 0.1899      | 3.22329e+11 | 3.22329e+11 | 21618279922 | 6.0703      | \n",
       "| 600000.SH   | 浦发银行    | 2017-04-21  | 14.91       | 14.92       | 15.07       | 14.85       | 15.05       | 22688358    | 340453104   |  0.14       |  0.9390     | 15.0056     | 0.1049      | 3.25355e+11 | 3.25355e+11 | 21618279922 | 6.1273      | \n",
       "| 600000.SH   | 浦发银行    | 2017-04-24  | 15.05       | 15.05       | 15.11       | 14.91       | 15.00       | 17627803    | 264649933   | -0.05       | -0.3322     | 15.0132     | 0.0815      | 3.24274e+11 | 3.24274e+11 | 21618279922 | 6.1070      | \n",
       "| 600000.SH   | 浦发银行    | 2017-04-25  | 15.00       | 15.02       | 15.10       | 14.99       | 15.05       | 12975919    | 195296862   |  0.05       |  0.3333     | 15.0507     | 0.06        | 3.25355e+11 | 3.25355e+11 | 21618279922 | 6.1273      | \n",
       "| 600000.SH   | 浦发银行    | 2017-04-26  | 15.05       | 15.06       | 15.11       | 15.00       | 15.05       | 14939871    | 225022668   |  0.00       |  0.0000     | 15.0619     | 0.0691      | 3.25355e+11 | 3.25355e+11 | 21618279922 | 6.1273      | \n",
       "| 600000.SH   | 浦发银行    | 2017-04-27  | 15.05       | 15.05       | 15.25       | 15.03       | 15.21       | 22887645    | 345791526   |  0.16       |  1.0631     | 15.1082     | 0.1059      | 3.28814e+11 | 3.28814e+11 | 21618279922 | 6.1925      | \n",
       "| 600000.SH   | 浦发银行    | 2017-04-28  | 15.21       | 15.15       | 15.22       | 15.08       | 15.21       | 15718509    | 238419161   |  0.00       |  0.0000     | 15.1681     | 0.0727      | 3.28814e+11 | 3.28814e+11 | 21618279922 | 6.1925      | \n",
       "| 600000.SH   | 浦发银行    | 2017-05-02  | 15.21       | 15.21       | 15.22       | 15.13       | 15.16       | 12607509    | 191225527   | -0.05       | -0.3287     | 15.1676     | 0.0583      | 3.27733e+11 | 3.27733e+11 | 21618279922 | 6.1721      | \n",
       "| 600000.SH   | 浦发银行    | 2017-05-03  | 15.16       | 15.16       | 15.16       | 15.05       | 15.08       | 14247943    | 215130847   | -0.08       | -0.5277     | 15.0991     | 0.0659      | 3.26004e+11 | 3.26004e+11 | 21618279922 | 6.1395      | \n",
       "| 600000.SH   | 浦发银行    | 2017-05-04  | 15.08       | 15.07       | 15.07       | 14.90       | 14.98       | 19477788    | 291839737   | -0.10       | -0.6631     | 14.9832     | 0.0901      | 3.23842e+11 | 3.23842e+11 | 21618279922 | 6.0988      | \n",
       "| 600000.SH   | 浦发银行    | 2017-05-05  | 14.98       | 14.95       | 14.98       | 14.52       | 14.92       | 40194577    | 592160198   | -0.06       | -0.4005     | 14.7323     | 0.1859      | 3.22545e+11 | 3.22545e+11 | 21618279922 | 6.0744      | \n",
       "| 600000.SH   | 浦发银行    | 2017-05-08  | 14.92       | 14.78       | 14.90       | 14.51       | 14.86       | 43568576    | 638781010   | -0.06       | -0.4021     | 14.6615     | 0.2015      | 3.21248e+11 | 3.21248e+11 | 21618279922 | 6.0500      | \n",
       "| 600000.SH   | 浦发银行    | 2017-05-09  | 14.86       | 14.69       | 14.84       | 14.66       | 14.76       | 19225492    | 283864640   | -0.10       | -0.6729     | 14.765      | 0.0889      | 3.19086e+11 | 3.19086e+11 | 21618279922 | 6.0093      | \n",
       "\n",
       "\n"
      ],
      "text/plain": [
       "    ﻿代码      简称     日期       前收盘价(元) 开盘价(元) 最高价(元) 最低价(元)\n",
       "1   600000.SH 浦发银行 2016-01-04 16.1356      16.1444    16.1444    15.4997   \n",
       "2   600000.SH 浦发银行 2016-01-05 15.7205      15.4644    15.9501    15.3672   \n",
       "3   600000.SH 浦发银行 2016-01-06 15.8618      15.8088    16.0208    15.6234   \n",
       "4   600000.SH 浦发银行 2016-01-07 15.9855      15.7205    15.8088    15.3672   \n",
       "5   600000.SH 浦发银行 2016-01-08 15.4644      15.6675    15.7912    14.9345   \n",
       "6   600000.SH 浦发银行 2016-01-11 15.4467      15.1994    15.4114    14.9786   \n",
       "7   600000.SH 浦发银行 2016-01-12 15.0581      15.1641    15.4732    15.0846   \n",
       "8   600000.SH 浦发银行 2016-01-13 15.4114      15.5174    15.8088    15.3231   \n",
       "9   600000.SH 浦发银行 2016-01-14 15.3584      15.0140    15.8883    14.9168   \n",
       "10  600000.SH 浦发银行 2016-01-15 15.8265      15.7205    16.0296    15.4732   \n",
       "11  600000.SH 浦发银行 2016-01-18 15.5262      15.3937    15.8883    15.2966   \n",
       "12  600000.SH 浦发银行 2016-01-19 15.6145      15.7029    15.7912    15.4556   \n",
       "13  600000.SH 浦发银行 2016-01-20 15.6940      15.5527    15.6322    15.0846   \n",
       "14  600000.SH 浦发银行 2016-01-21 15.2348      15.2083    15.4202    14.5724   \n",
       "15  600000.SH 浦发银行 2016-01-22 14.6430      14.8727    15.1111    14.5636   \n",
       "16  600000.SH 浦发银行 2016-01-25 15.0316      15.0140    15.1641    14.7667   \n",
       "17  600000.SH 浦发银行 2016-01-26 15.0405      14.9786    15.1376    14.4841   \n",
       "18  600000.SH 浦发银行 2016-01-27 14.7137      14.7932    14.9963    14.5812   \n",
       "19  600000.SH 浦发银行 2016-01-28 14.7314      14.8020    14.8550    14.0248   \n",
       "20  600000.SH 浦发银行 2016-01-29 14.6430      14.5901    15.0581    14.4929   \n",
       "21  600000.SH 浦发银行 2016-02-01 14.9257      15.0051    15.0140    14.4929   \n",
       "22  600000.SH 浦发银行 2016-02-02 14.5724      14.5724    14.9610    14.5371   \n",
       "23  600000.SH 浦发银行 2016-02-03 14.8020      14.6607    14.7137    14.5282   \n",
       "24  600000.SH 浦发银行 2016-02-04 14.6695      14.8727    15.2966    14.6872   \n",
       "25  600000.SH 浦发银行 2016-02-05 15.2789      15.2259    16.2416    15.1465   \n",
       "26  600000.SH 浦发银行 2016-02-15 16.2328      15.8795    16.3211    15.7205   \n",
       "27  600000.SH 浦发银行 2016-03-11 16.2946      15.4644    15.4821    14.6695   \n",
       "28  600000.SH 浦发银行 2016-03-14 14.9875      14.9080    15.4291    14.8550   \n",
       "29  600000.SH 浦发银行 2016-03-15 14.8903      14.9698    15.1818    14.8462   \n",
       "30  600000.SH 浦发银行 2016-03-16 15.0316      14.9433    15.9590    14.9345   \n",
       "... ...       ...      ...        ...          ...        ...        ...       \n",
       "280 600000.SH 浦发银行 2017-03-24 15.88        15.85      16.00      15.83     \n",
       "281 600000.SH 浦发银行 2017-03-27 15.96        15.97      16.13      15.90     \n",
       "282 600000.SH 浦发银行 2017-03-28 16.04        16.11      16.13      15.97     \n",
       "283 600000.SH 浦发银行 2017-03-29 16.01        16.01      16.11      15.80     \n",
       "284 600000.SH 浦发银行 2017-03-30 15.87        15.88      15.90      15.72     \n",
       "285 600000.SH 浦发银行 2017-03-31 15.81        15.78      16.05      15.77     \n",
       "286 600000.SH 浦发银行 2017-04-05 16.01        16.05      16.20      15.89     \n",
       "287 600000.SH 浦发银行 2017-04-06 16.16        16.09      16.18      16.03     \n",
       "288 600000.SH 浦发银行 2017-04-07 16.10        16.06      16.16      16.02     \n",
       "289 600000.SH 浦发银行 2017-04-10 16.10        16.12      16.12      15.94     \n",
       "290 600000.SH 浦发银行 2017-04-11 15.97        15.97      15.99      15.81     \n",
       "291 600000.SH 浦发银行 2017-04-12 15.89        15.88      15.96      15.75     \n",
       "292 600000.SH 浦发银行 2017-04-13 15.89        15.88      15.89      15.73     \n",
       "293 600000.SH 浦发银行 2017-04-14 15.75        15.76      15.78      15.42     \n",
       "294 600000.SH 浦发银行 2017-04-17 15.51        15.53      15.60      15.30     \n",
       "295 600000.SH 浦发银行 2017-04-18 15.56        15.50      15.52      15.30     \n",
       "296 600000.SH 浦发银行 2017-04-19 15.30        15.25      15.27      15.11     \n",
       "297 600000.SH 浦发银行 2017-04-20 15.11        15.12      15.14      14.90     \n",
       "298 600000.SH 浦发银行 2017-04-21 14.91        14.92      15.07      14.85     \n",
       "299 600000.SH 浦发银行 2017-04-24 15.05        15.05      15.11      14.91     \n",
       "300 600000.SH 浦发银行 2017-04-25 15.00        15.02      15.10      14.99     \n",
       "301 600000.SH 浦发银行 2017-04-26 15.05        15.06      15.11      15.00     \n",
       "302 600000.SH 浦发银行 2017-04-27 15.05        15.05      15.25      15.03     \n",
       "303 600000.SH 浦发银行 2017-04-28 15.21        15.15      15.22      15.08     \n",
       "304 600000.SH 浦发银行 2017-05-02 15.21        15.21      15.22      15.13     \n",
       "305 600000.SH 浦发银行 2017-05-03 15.16        15.16      15.16      15.05     \n",
       "306 600000.SH 浦发银行 2017-05-04 15.08        15.07      15.07      14.90     \n",
       "307 600000.SH 浦发银行 2017-05-05 14.98        14.95      14.98      14.52     \n",
       "308 600000.SH 浦发银行 2017-05-08 14.92        14.78      14.90      14.51     \n",
       "309 600000.SH 浦发银行 2017-05-09 14.86        14.69      14.84      14.66     \n",
       "    收盘价(元) 成交量(股) 成交金额(元) 涨跌(元) 涨跌幅(%) 均价(元) 换手率(%)\n",
       "1   15.7205    42240610   754425783    -0.4151  -2.5725   17.8602  0.2264   \n",
       "2   15.8618    58054793   1034181474    0.1413   0.8989   17.8139  0.3112   \n",
       "3   15.9855    46772653   838667398     0.1236   0.7795   17.9307  0.2507   \n",
       "4   15.4644    11350479   199502702    -0.5211  -3.2597   17.5766  0.0608   \n",
       "5   15.4467    71918296   1262105060   -0.0177  -0.1142   17.5492  0.3855   \n",
       "6   15.0581    90177135   1550155933   -0.3886  -2.5157   17.1901  0.4834   \n",
       "7   15.4114    55374454   964061502     0.3533   2.3460   17.4099  0.2969   \n",
       "8   15.3584    47869312   843717365    -0.0530  -0.3438   17.6254  0.2566   \n",
       "9   15.8265    54838833   966117848     0.4681   3.0477   17.6174  0.294    \n",
       "10  15.5262    46723139   836146426    -0.3003  -1.8973   17.8958  0.2505   \n",
       "11  15.6145    32729006   583291559     0.0883   0.5688   17.8219  0.1755   \n",
       "12  15.6940    29807159   527753175     0.0795   0.5090   17.7056  0.1598   \n",
       "13  15.2348    35968636   623546924    -0.4593  -2.9263   17.3359  0.1928   \n",
       "14  14.6430    34197115   582845476    -0.5917  -3.8841   17.0437  0.1833   \n",
       "15  15.0316    42007318   708179241     0.3886   2.6538   16.8585  0.2252   \n",
       "16  15.0405    23558971   400445071     0.0088   0.0588   16.9976  0.1263   \n",
       "17  14.7137    38279766   643611762    -0.3268  -2.1726   16.8134  0.2052   \n",
       "18  14.7314    44291307   742640743     0.0177   0.1200   16.7672  0.2374   \n",
       "19  14.6430    38902180   643984171    -0.0883  -0.5995   16.5539  0.2086   \n",
       "20  14.9257    47429000   799493381     0.2826   1.9300   16.8566  0.2543   \n",
       "21  14.5724    29139596   485275132    -0.3533  -2.3669   16.6535  0.1562   \n",
       "22  14.8020    25380981   425396889     0.2296   1.5758   16.7605  0.1361   \n",
       "23  14.6695    27779183   459255616    -0.1325  -0.8950   16.5324  0.1489   \n",
       "24  15.2789    47162860   799283799     0.6094   4.1541   16.9473  0.2528   \n",
       "25  16.2328    78413454   1401156041    0.9538   6.2428   17.8688  0.4204   \n",
       "26  16.2946    67296317   1221398339    0.0618   0.3808   18.1496  0.3608   \n",
       "27  14.9875    98240322   1657158636   -1.3071  -8.0217   16.8684  0.5267   \n",
       "28  14.8903    56922239   973317374    -0.0971  -0.6482   17.0991  0.3052   \n",
       "29  15.0316    37540932   638223050     0.1413   0.9490   17.0007  0.2013   \n",
       "30  15.9236    108404378  1924212601    0.8920   5.9342   17.7503  0.5811   \n",
       "... ...        ...        ...          ...      ...       ...      ...      \n",
       "280 15.96      19902006   316984958     0.08     0.5038   15.9273  0.0921   \n",
       "281 16.04      18997369   304990151     0.08     0.5013   16.0543  0.0879   \n",
       "282 16.01      13212969   211750766    -0.03    -0.1870   16.026   0.0611   \n",
       "283 15.87      23446792   372794465    -0.14    -0.8745   15.8996  0.1085   \n",
       "284 15.81      23645144   373665115    -0.06    -0.3781   15.803   0.1094   \n",
       "285 16.01      24187120   385793421     0.20     1.2650   15.9504  0.1119   \n",
       "286 16.16      31036271   499121565     0.15     0.9369   16.0819  0.1436   \n",
       "287 16.10      22335442   359361840    -0.06    -0.3713   16.0893  0.1033   \n",
       "288 16.10      20126948   323821647     0.00     0.0000   16.089   0.0931   \n",
       "289 15.97      16154024   258662668    -0.13    -0.8075   16.0123  0.0747   \n",
       "290 15.89      18611375   295381671    -0.08    -0.5009   15.871   0.0861   \n",
       "291 15.89      22210541   352357729     0.00     0.0000   15.8644  0.1027   \n",
       "292 15.75      23426650   369388222    -0.14    -0.8811   15.7679  0.1084   \n",
       "293 15.51      40156553   625510632    -0.24    -1.5238   15.5768  0.1858   \n",
       "294 15.56      36739448   566536789     0.05     0.3224   15.4204  0.1699   \n",
       "295 15.30      22889980   351624622    -0.26    -1.6710   15.3615  0.1059   \n",
       "296 15.11      24455407   371021507    -0.19    -1.2418   15.1713  0.1131   \n",
       "297 14.91      41061406   614436383    -0.20    -1.3236   14.9638  0.1899   \n",
       "298 15.05      22688358   340453104     0.14     0.9390   15.0056  0.1049   \n",
       "299 15.00      17627803   264649933    -0.05    -0.3322   15.0132  0.0815   \n",
       "300 15.05      12975919   195296862     0.05     0.3333   15.0507  0.06     \n",
       "301 15.05      14939871   225022668     0.00     0.0000   15.0619  0.0691   \n",
       "302 15.21      22887645   345791526     0.16     1.0631   15.1082  0.1059   \n",
       "303 15.21      15718509   238419161     0.00     0.0000   15.1681  0.0727   \n",
       "304 15.16      12607509   191225527    -0.05    -0.3287   15.1676  0.0583   \n",
       "305 15.08      14247943   215130847    -0.08    -0.5277   15.0991  0.0659   \n",
       "306 14.98      19477788   291839737    -0.10    -0.6631   14.9832  0.0901   \n",
       "307 14.92      40194577   592160198    -0.06    -0.4005   14.7323  0.1859   \n",
       "308 14.86      43568576   638781010    -0.06    -0.4021   14.6615  0.2015   \n",
       "309 14.76      19225492   283864640    -0.10    -0.6729   14.765   0.0889   \n",
       "    A股流通市值(元) 总市值(元)  A股流通股本(股) 市盈率\n",
       "1   3.32032e+11     3.32032e+11 18653471415     6.5614\n",
       "2   3.35016e+11     3.35016e+11 18653471415     6.6204\n",
       "3   3.37628e+11     3.37628e+11 18653471415     6.6720\n",
       "4   3.26622e+11     3.26622e+11 18653471415     6.4545\n",
       "5   3.26249e+11     3.26249e+11 18653471415     6.4471\n",
       "6   3.18042e+11     3.18042e+11 18653471415     6.2849\n",
       "7   3.25503e+11     3.25503e+11 18653471415     6.4324\n",
       "8   3.24384e+11     3.24384e+11 18653471415     6.4102\n",
       "9   3.34270e+11     3.34270e+11 18653471415     6.6056\n",
       "10  3.27928e+11     3.27928e+11 18653471415     6.4803\n",
       "11  3.29793e+11     3.29793e+11 18653471415     6.5171\n",
       "12  3.31472e+11     3.31472e+11 18653471415     6.5503\n",
       "13  3.21772e+11     3.21772e+11 18653471415     6.3586\n",
       "14  3.09275e+11     3.09275e+11 18653471415     6.1117\n",
       "15  3.17482e+11     3.17482e+11 18653471415     6.2739\n",
       "16  3.17669e+11     3.17669e+11 18653471415     6.2775\n",
       "17  3.10767e+11     3.10767e+11 18653471415     6.1412\n",
       "18  3.11140e+11     3.11140e+11 18653471415     6.1485\n",
       "19  3.09275e+11     3.09275e+11 18653471415     6.1117\n",
       "20  3.15244e+11     3.15244e+11 18653471415     6.2296\n",
       "21  3.07782e+11     3.07782e+11 18653471415     6.0822\n",
       "22  3.12632e+11     3.12632e+11 18653471415     6.1780\n",
       "23  3.09834e+11     3.09834e+11 18653471415     6.1227\n",
       "24  3.22705e+11     3.22705e+11 18653471415     6.3771\n",
       "25  3.42851e+11     3.42851e+11 18653471415     6.7752\n",
       "26  3.44157e+11     3.44157e+11 18653471415     6.8010\n",
       "27  3.16549e+11     3.16549e+11 18653471415     6.2554\n",
       "28  3.14498e+11     3.14498e+11 18653471415     6.2149\n",
       "29  3.17482e+11     3.17482e+11 18653471415     6.2739\n",
       "30  3.36322e+11     3.36322e+11 18653471415     6.6462\n",
       "... ...             ...         ...             ...   \n",
       "280 3.45028e+11     3.45028e+11 21618279922     6.4978\n",
       "281 3.46757e+11     3.46757e+11 21618279922     6.5304\n",
       "282 3.46109e+11     3.46109e+11 21618279922     6.5182\n",
       "283 3.43082e+11     3.43082e+11 21618279922     6.4612\n",
       "284 3.41785e+11     3.41785e+11 21618279922     6.4368\n",
       "285 3.46109e+11     3.46109e+11 21618279922     6.5182\n",
       "286 3.49351e+11     3.49351e+11 21618279922     6.5792\n",
       "287 3.48054e+11     3.48054e+11 21618279922     6.5548\n",
       "288 3.48054e+11     3.48054e+11 21618279922     6.5548\n",
       "289 3.45244e+11     3.45244e+11 21618279922     6.5019\n",
       "290 3.43514e+11     3.43514e+11 21618279922     6.4693\n",
       "291 3.43514e+11     3.43514e+11 21618279922     6.4693\n",
       "292 3.40488e+11     3.40488e+11 21618279922     6.4123\n",
       "293 3.35300e+11     3.35300e+11 21618279922     6.3146\n",
       "294 3.36380e+11     3.36380e+11 21618279922     6.3350\n",
       "295 3.30760e+11     3.30760e+11 21618279922     6.2291\n",
       "296 3.26652e+11     3.26652e+11 21618279922     6.1518\n",
       "297 3.22329e+11     3.22329e+11 21618279922     6.0703\n",
       "298 3.25355e+11     3.25355e+11 21618279922     6.1273\n",
       "299 3.24274e+11     3.24274e+11 21618279922     6.1070\n",
       "300 3.25355e+11     3.25355e+11 21618279922     6.1273\n",
       "301 3.25355e+11     3.25355e+11 21618279922     6.1273\n",
       "302 3.28814e+11     3.28814e+11 21618279922     6.1925\n",
       "303 3.28814e+11     3.28814e+11 21618279922     6.1925\n",
       "304 3.27733e+11     3.27733e+11 21618279922     6.1721\n",
       "305 3.26004e+11     3.26004e+11 21618279922     6.1395\n",
       "306 3.23842e+11     3.23842e+11 21618279922     6.0988\n",
       "307 3.22545e+11     3.22545e+11 21618279922     6.0744\n",
       "308 3.21248e+11     3.21248e+11 21618279922     6.0500\n",
       "309 3.19086e+11     3.19086e+11 21618279922     6.0093"
      ]
     },
     "metadata": {},
     "output_type": "display_data"
    }
   ],
   "source": [
    "df[!is.na(as.numeric(df$`换手率(%)`)),]\n",
    "# 或者根据前几题的经验，非数字就是'--'\n",
    "df <- df %>%\n",
    "  filter(`换手率(%)` != '--')\n"
   ]
  },
  {
   "cell_type": "markdown",
   "metadata": {},
   "source": [
    "### 66.绘制换手率的密度曲线"
   ]
  },
  {
   "cell_type": "code",
   "execution_count": 78,
   "metadata": {
    "collapsed": false
   },
   "outputs": [
    {
     "data": {},
     "metadata": {},
     "output_type": "display_data"
    },
    {
     "data": {
      "image/png": "[encoded data removed]",
      "text/plain": [
       "plot without title"
      ]
     },
     "metadata": {},
     "output_type": "display_data"
    }
   ],
   "source": [
    "df$`换手率(%)` <- as.double(df$`换手率(%)`)\n",
    "ggplot(df) +\n",
    "  geom_density(aes(`换手率(%)`))"
   ]
  },
  {
   "cell_type": "markdown",
   "metadata": {},
   "source": [
    "### 67.计算前一天与后一天收盘价的差值"
   ]
  },
  {
   "cell_type": "code",
   "execution_count": null,
   "metadata": {
    "collapsed": true
   },
   "outputs": [],
   "source": [
    "df %>%\n",
    "  summarise(delta = `收盘价(元)` - lag(`收盘价(元)`))"
   ]
  },
  {
   "cell_type": "markdown",
   "metadata": {},
   "source": [
    "### 68.计算前一天与后一天收盘价变化率"
   ]
  },
  {
   "cell_type": "code",
   "execution_count": null,
   "metadata": {
    "collapsed": true
   },
   "outputs": [],
   "source": [
    "df %>%\n",
    "  summarise(pct_change = (`收盘价(元)` - lag(`收盘价(元)`))/lag(`收盘价(元)`))"
   ]
  },
  {
   "cell_type": "markdown",
   "metadata": {},
   "source": [
    "### 69.设置日期为索引"
   ]
  },
  {
   "cell_type": "code",
   "execution_count": 81,
   "metadata": {
    "collapsed": false
   },
   "outputs": [
    {
     "name": "stderr",
     "output_type": "stream",
     "text": [
      "Warning message:\n",
      "“Setting row names on a tibble is deprecated.”"
     ]
    },
    {
     "data": {
      "text/html": [
       "<table>\n",
       "<thead><tr><th></th><th scope=col>﻿代码</th><th scope=col>简称</th><th scope=col>前收盘价(元)</th><th scope=col>开盘价(元)</th><th scope=col>最高价(元)</th><th scope=col>最低价(元)</th><th scope=col>收盘价(元)</th><th scope=col>成交量(股)</th><th scope=col>成交金额(元)</th><th scope=col>涨跌(元)</th><th scope=col>涨跌幅(%)</th><th scope=col>均价(元)</th><th scope=col>换手率(%)</th><th scope=col>A股流通市值(元)</th><th scope=col>总市值(元)</th><th scope=col>A股流通股本(股)</th><th scope=col>市盈率</th></tr></thead>\n",
       "<tbody>\n",
       "\t<tr><th scope=row>2016-01-04</th><td>600000.SH  </td><td>浦发银行   </td><td>16.1356    </td><td>16.1444    </td><td>16.1444    </td><td>15.4997    </td><td>15.7205    </td><td>42240610   </td><td>754425783  </td><td>-0.4151    </td><td>-2.5725    </td><td>17.8602    </td><td>0.2264     </td><td>3.32032e+11</td><td>3.32032e+11</td><td>18653471415</td><td>6.5614     </td></tr>\n",
       "\t<tr><th scope=row>2016-01-05</th><td>600000.SH  </td><td>浦发银行   </td><td>15.7205    </td><td>15.4644    </td><td>15.9501    </td><td>15.3672    </td><td>15.8618    </td><td>58054793   </td><td>1034181474 </td><td> 0.1413    </td><td> 0.8989    </td><td>17.8139    </td><td>0.3112     </td><td>3.35016e+11</td><td>3.35016e+11</td><td>18653471415</td><td>6.6204     </td></tr>\n",
       "\t<tr><th scope=row>2016-01-06</th><td>600000.SH  </td><td>浦发银行   </td><td>15.8618    </td><td>15.8088    </td><td>16.0208    </td><td>15.6234    </td><td>15.9855    </td><td>46772653   </td><td>838667398  </td><td> 0.1236    </td><td> 0.7795    </td><td>17.9307    </td><td>0.2507     </td><td>3.37628e+11</td><td>3.37628e+11</td><td>18653471415</td><td>6.6720     </td></tr>\n",
       "\t<tr><th scope=row>2016-01-07</th><td>600000.SH  </td><td>浦发银行   </td><td>15.9855    </td><td>15.7205    </td><td>15.8088    </td><td>15.3672    </td><td>15.4644    </td><td>11350479   </td><td>199502702  </td><td>-0.5211    </td><td>-3.2597    </td><td>17.5766    </td><td>0.0608     </td><td>3.26622e+11</td><td>3.26622e+11</td><td>18653471415</td><td>6.4545     </td></tr>\n",
       "\t<tr><th scope=row>2016-01-08</th><td>600000.SH  </td><td>浦发银行   </td><td>15.4644    </td><td>15.6675    </td><td>15.7912    </td><td>14.9345    </td><td>15.4467    </td><td>71918296   </td><td>1262105060 </td><td>-0.0177    </td><td>-0.1142    </td><td>17.5492    </td><td>0.3855     </td><td>3.26249e+11</td><td>3.26249e+11</td><td>18653471415</td><td>6.4471     </td></tr>\n",
       "\t<tr><th scope=row>2016-01-11</th><td>600000.SH  </td><td>浦发银行   </td><td>15.4467    </td><td>15.1994    </td><td>15.4114    </td><td>14.9786    </td><td>15.0581    </td><td>90177135   </td><td>1550155933 </td><td>-0.3886    </td><td>-2.5157    </td><td>17.1901    </td><td>0.4834     </td><td>3.18042e+11</td><td>3.18042e+11</td><td>18653471415</td><td>6.2849     </td></tr>\n",
       "\t<tr><th scope=row>2016-01-12</th><td>600000.SH  </td><td>浦发银行   </td><td>15.0581    </td><td>15.1641    </td><td>15.4732    </td><td>15.0846    </td><td>15.4114    </td><td>55374454   </td><td>964061502  </td><td> 0.3533    </td><td> 2.3460    </td><td>17.4099    </td><td>0.2969     </td><td>3.25503e+11</td><td>3.25503e+11</td><td>18653471415</td><td>6.4324     </td></tr>\n",
       "\t<tr><th scope=row>2016-01-13</th><td>600000.SH  </td><td>浦发银行   </td><td>15.4114    </td><td>15.5174    </td><td>15.8088    </td><td>15.3231    </td><td>15.3584    </td><td>47869312   </td><td>843717365  </td><td>-0.0530    </td><td>-0.3438    </td><td>17.6254    </td><td>0.2566     </td><td>3.24384e+11</td><td>3.24384e+11</td><td>18653471415</td><td>6.4102     </td></tr>\n",
       "\t<tr><th scope=row>2016-01-14</th><td>600000.SH  </td><td>浦发银行   </td><td>15.3584    </td><td>15.0140    </td><td>15.8883    </td><td>14.9168    </td><td>15.8265    </td><td>54838833   </td><td>966117848  </td><td> 0.4681    </td><td> 3.0477    </td><td>17.6174    </td><td>0.2940     </td><td>3.34270e+11</td><td>3.34270e+11</td><td>18653471415</td><td>6.6056     </td></tr>\n",
       "\t<tr><th scope=row>2016-01-15</th><td>600000.SH  </td><td>浦发银行   </td><td>15.8265    </td><td>15.7205    </td><td>16.0296    </td><td>15.4732    </td><td>15.5262    </td><td>46723139   </td><td>836146426  </td><td>-0.3003    </td><td>-1.8973    </td><td>17.8958    </td><td>0.2505     </td><td>3.27928e+11</td><td>3.27928e+11</td><td>18653471415</td><td>6.4803     </td></tr>\n",
       "\t<tr><th scope=row>2016-01-18</th><td>600000.SH  </td><td>浦发银行   </td><td>15.5262    </td><td>15.3937    </td><td>15.8883    </td><td>15.2966    </td><td>15.6145    </td><td>32729006   </td><td>583291559  </td><td> 0.0883    </td><td> 0.5688    </td><td>17.8219    </td><td>0.1755     </td><td>3.29793e+11</td><td>3.29793e+11</td><td>18653471415</td><td>6.5171     </td></tr>\n",
       "\t<tr><th scope=row>2016-01-19</th><td>600000.SH  </td><td>浦发银行   </td><td>15.6145    </td><td>15.7029    </td><td>15.7912    </td><td>15.4556    </td><td>15.6940    </td><td>29807159   </td><td>527753175  </td><td> 0.0795    </td><td> 0.5090    </td><td>17.7056    </td><td>0.1598     </td><td>3.31472e+11</td><td>3.31472e+11</td><td>18653471415</td><td>6.5503     </td></tr>\n",
       "\t<tr><th scope=row>2016-01-20</th><td>600000.SH  </td><td>浦发银行   </td><td>15.6940    </td><td>15.5527    </td><td>15.6322    </td><td>15.0846    </td><td>15.2348    </td><td>35968636   </td><td>623546924  </td><td>-0.4593    </td><td>-2.9263    </td><td>17.3359    </td><td>0.1928     </td><td>3.21772e+11</td><td>3.21772e+11</td><td>18653471415</td><td>6.3586     </td></tr>\n",
       "\t<tr><th scope=row>2016-01-21</th><td>600000.SH  </td><td>浦发银行   </td><td>15.2348    </td><td>15.2083    </td><td>15.4202    </td><td>14.5724    </td><td>14.6430    </td><td>34197115   </td><td>582845476  </td><td>-0.5917    </td><td>-3.8841    </td><td>17.0437    </td><td>0.1833     </td><td>3.09275e+11</td><td>3.09275e+11</td><td>18653471415</td><td>6.1117     </td></tr>\n",
       "\t<tr><th scope=row>2016-01-22</th><td>600000.SH  </td><td>浦发银行   </td><td>14.6430    </td><td>14.8727    </td><td>15.1111    </td><td>14.5636    </td><td>15.0316    </td><td>42007318   </td><td>708179241  </td><td> 0.3886    </td><td> 2.6538    </td><td>16.8585    </td><td>0.2252     </td><td>3.17482e+11</td><td>3.17482e+11</td><td>18653471415</td><td>6.2739     </td></tr>\n",
       "\t<tr><th scope=row>2016-01-25</th><td>600000.SH  </td><td>浦发银行   </td><td>15.0316    </td><td>15.0140    </td><td>15.1641    </td><td>14.7667    </td><td>15.0405    </td><td>23558971   </td><td>400445071  </td><td> 0.0088    </td><td> 0.0588    </td><td>16.9976    </td><td>0.1263     </td><td>3.17669e+11</td><td>3.17669e+11</td><td>18653471415</td><td>6.2775     </td></tr>\n",
       "\t<tr><th scope=row>2016-01-26</th><td>600000.SH  </td><td>浦发银行   </td><td>15.0405    </td><td>14.9786    </td><td>15.1376    </td><td>14.4841    </td><td>14.7137    </td><td>38279766   </td><td>643611762  </td><td>-0.3268    </td><td>-2.1726    </td><td>16.8134    </td><td>0.2052     </td><td>3.10767e+11</td><td>3.10767e+11</td><td>18653471415</td><td>6.1412     </td></tr>\n",
       "\t<tr><th scope=row>2016-01-27</th><td>600000.SH  </td><td>浦发银行   </td><td>14.7137    </td><td>14.7932    </td><td>14.9963    </td><td>14.5812    </td><td>14.7314    </td><td>44291307   </td><td>742640743  </td><td> 0.0177    </td><td> 0.1200    </td><td>16.7672    </td><td>0.2374     </td><td>3.11140e+11</td><td>3.11140e+11</td><td>18653471415</td><td>6.1485     </td></tr>\n",
       "\t<tr><th scope=row>2016-01-28</th><td>600000.SH  </td><td>浦发银行   </td><td>14.7314    </td><td>14.8020    </td><td>14.8550    </td><td>14.0248    </td><td>14.6430    </td><td>38902180   </td><td>643984171  </td><td>-0.0883    </td><td>-0.5995    </td><td>16.5539    </td><td>0.2086     </td><td>3.09275e+11</td><td>3.09275e+11</td><td>18653471415</td><td>6.1117     </td></tr>\n",
       "\t<tr><th scope=row>2016-01-29</th><td>600000.SH  </td><td>浦发银行   </td><td>14.6430    </td><td>14.5901    </td><td>15.0581    </td><td>14.4929    </td><td>14.9257    </td><td>47429000   </td><td>799493381  </td><td> 0.2826    </td><td> 1.9300    </td><td>16.8566    </td><td>0.2543     </td><td>3.15244e+11</td><td>3.15244e+11</td><td>18653471415</td><td>6.2296     </td></tr>\n",
       "\t<tr><th scope=row>2016-02-01</th><td>600000.SH  </td><td>浦发银行   </td><td>14.9257    </td><td>15.0051    </td><td>15.0140    </td><td>14.4929    </td><td>14.5724    </td><td>29139596   </td><td>485275132  </td><td>-0.3533    </td><td>-2.3669    </td><td>16.6535    </td><td>0.1562     </td><td>3.07782e+11</td><td>3.07782e+11</td><td>18653471415</td><td>6.0822     </td></tr>\n",
       "\t<tr><th scope=row>2016-02-02</th><td>600000.SH  </td><td>浦发银行   </td><td>14.5724    </td><td>14.5724    </td><td>14.9610    </td><td>14.5371    </td><td>14.8020    </td><td>25380981   </td><td>425396889  </td><td> 0.2296    </td><td> 1.5758    </td><td>16.7605    </td><td>0.1361     </td><td>3.12632e+11</td><td>3.12632e+11</td><td>18653471415</td><td>6.1780     </td></tr>\n",
       "\t<tr><th scope=row>2016-02-03</th><td>600000.SH  </td><td>浦发银行   </td><td>14.8020    </td><td>14.6607    </td><td>14.7137    </td><td>14.5282    </td><td>14.6695    </td><td>27779183   </td><td>459255616  </td><td>-0.1325    </td><td>-0.8950    </td><td>16.5324    </td><td>0.1489     </td><td>3.09834e+11</td><td>3.09834e+11</td><td>18653471415</td><td>6.1227     </td></tr>\n",
       "\t<tr><th scope=row>2016-02-04</th><td>600000.SH  </td><td>浦发银行   </td><td>14.6695    </td><td>14.8727    </td><td>15.2966    </td><td>14.6872    </td><td>15.2789    </td><td>47162860   </td><td>799283799  </td><td> 0.6094    </td><td> 4.1541    </td><td>16.9473    </td><td>0.2528     </td><td>3.22705e+11</td><td>3.22705e+11</td><td>18653471415</td><td>6.3771     </td></tr>\n",
       "\t<tr><th scope=row>2016-02-05</th><td>600000.SH  </td><td>浦发银行   </td><td>15.2789    </td><td>15.2259    </td><td>16.2416    </td><td>15.1465    </td><td>16.2328    </td><td>78413454   </td><td>1401156041 </td><td> 0.9538    </td><td> 6.2428    </td><td>17.8688    </td><td>0.4204     </td><td>3.42851e+11</td><td>3.42851e+11</td><td>18653471415</td><td>6.7752     </td></tr>\n",
       "\t<tr><th scope=row>2016-02-15</th><td>600000.SH  </td><td>浦发银行   </td><td>16.2328    </td><td>15.8795    </td><td>16.3211    </td><td>15.7205    </td><td>16.2946    </td><td>67296317   </td><td>1221398339 </td><td> 0.0618    </td><td> 0.3808    </td><td>18.1496    </td><td>0.3608     </td><td>3.44157e+11</td><td>3.44157e+11</td><td>18653471415</td><td>6.8010     </td></tr>\n",
       "\t<tr><th scope=row>2016-03-11</th><td>600000.SH  </td><td>浦发银行   </td><td>16.2946    </td><td>15.4644    </td><td>15.4821    </td><td>14.6695    </td><td>14.9875    </td><td>98240322   </td><td>1657158636 </td><td>-1.3071    </td><td>-8.0217    </td><td>16.8684    </td><td>0.5267     </td><td>3.16549e+11</td><td>3.16549e+11</td><td>18653471415</td><td>6.2554     </td></tr>\n",
       "\t<tr><th scope=row>2016-03-14</th><td>600000.SH  </td><td>浦发银行   </td><td>14.9875    </td><td>14.9080    </td><td>15.4291    </td><td>14.8550    </td><td>14.8903    </td><td>56922239   </td><td>973317374  </td><td>-0.0971    </td><td>-0.6482    </td><td>17.0991    </td><td>0.3052     </td><td>3.14498e+11</td><td>3.14498e+11</td><td>18653471415</td><td>6.2149     </td></tr>\n",
       "\t<tr><th scope=row>2016-03-15</th><td>600000.SH  </td><td>浦发银行   </td><td>14.8903    </td><td>14.9698    </td><td>15.1818    </td><td>14.8462    </td><td>15.0316    </td><td>37540932   </td><td>638223050  </td><td> 0.1413    </td><td> 0.9490    </td><td>17.0007    </td><td>0.2013     </td><td>3.17482e+11</td><td>3.17482e+11</td><td>18653471415</td><td>6.2739     </td></tr>\n",
       "\t<tr><th scope=row>2016-03-16</th><td>600000.SH  </td><td>浦发银行   </td><td>15.0316    </td><td>14.9433    </td><td>15.9590    </td><td>14.9345    </td><td>15.9236    </td><td>108404378  </td><td>1924212601 </td><td> 0.8920    </td><td> 5.9342    </td><td>17.7503    </td><td>0.5811     </td><td>3.36322e+11</td><td>3.36322e+11</td><td>18653471415</td><td>6.6462     </td></tr>\n",
       "\t<tr><th scope=row>...</th><td>...</td><td>...</td><td>...</td><td>...</td><td>...</td><td>...</td><td>...</td><td>...</td><td>...</td><td>...</td><td>...</td><td>...</td><td>...</td><td>...</td><td>...</td><td>...</td><td>...</td></tr>\n",
       "\t<tr><th scope=row>2017-03-24</th><td>600000.SH  </td><td>浦发银行   </td><td>15.88      </td><td>15.85      </td><td>16.00      </td><td>15.83      </td><td>15.96      </td><td>19902006   </td><td>316984958  </td><td> 0.08      </td><td> 0.5038    </td><td>15.9273    </td><td>0.0921     </td><td>3.45028e+11</td><td>3.45028e+11</td><td>21618279922</td><td>6.4978     </td></tr>\n",
       "\t<tr><th scope=row>2017-03-27</th><td>600000.SH  </td><td>浦发银行   </td><td>15.96      </td><td>15.97      </td><td>16.13      </td><td>15.90      </td><td>16.04      </td><td>18997369   </td><td>304990151  </td><td> 0.08      </td><td> 0.5013    </td><td>16.0543    </td><td>0.0879     </td><td>3.46757e+11</td><td>3.46757e+11</td><td>21618279922</td><td>6.5304     </td></tr>\n",
       "\t<tr><th scope=row>2017-03-28</th><td>600000.SH  </td><td>浦发银行   </td><td>16.04      </td><td>16.11      </td><td>16.13      </td><td>15.97      </td><td>16.01      </td><td>13212969   </td><td>211750766  </td><td>-0.03      </td><td>-0.1870    </td><td>16.026     </td><td>0.0611     </td><td>3.46109e+11</td><td>3.46109e+11</td><td>21618279922</td><td>6.5182     </td></tr>\n",
       "\t<tr><th scope=row>2017-03-29</th><td>600000.SH  </td><td>浦发银行   </td><td>16.01      </td><td>16.01      </td><td>16.11      </td><td>15.80      </td><td>15.87      </td><td>23446792   </td><td>372794465  </td><td>-0.14      </td><td>-0.8745    </td><td>15.8996    </td><td>0.1085     </td><td>3.43082e+11</td><td>3.43082e+11</td><td>21618279922</td><td>6.4612     </td></tr>\n",
       "\t<tr><th scope=row>2017-03-30</th><td>600000.SH  </td><td>浦发银行   </td><td>15.87      </td><td>15.88      </td><td>15.90      </td><td>15.72      </td><td>15.81      </td><td>23645144   </td><td>373665115  </td><td>-0.06      </td><td>-0.3781    </td><td>15.803     </td><td>0.1094     </td><td>3.41785e+11</td><td>3.41785e+11</td><td>21618279922</td><td>6.4368     </td></tr>\n",
       "\t<tr><th scope=row>2017-03-31</th><td>600000.SH  </td><td>浦发银行   </td><td>15.81      </td><td>15.78      </td><td>16.05      </td><td>15.77      </td><td>16.01      </td><td>24187120   </td><td>385793421  </td><td> 0.20      </td><td> 1.2650    </td><td>15.9504    </td><td>0.1119     </td><td>3.46109e+11</td><td>3.46109e+11</td><td>21618279922</td><td>6.5182     </td></tr>\n",
       "\t<tr><th scope=row>2017-04-05</th><td>600000.SH  </td><td>浦发银行   </td><td>16.01      </td><td>16.05      </td><td>16.20      </td><td>15.89      </td><td>16.16      </td><td>31036271   </td><td>499121565  </td><td> 0.15      </td><td> 0.9369    </td><td>16.0819    </td><td>0.1436     </td><td>3.49351e+11</td><td>3.49351e+11</td><td>21618279922</td><td>6.5792     </td></tr>\n",
       "\t<tr><th scope=row>2017-04-06</th><td>600000.SH  </td><td>浦发银行   </td><td>16.16      </td><td>16.09      </td><td>16.18      </td><td>16.03      </td><td>16.10      </td><td>22335442   </td><td>359361840  </td><td>-0.06      </td><td>-0.3713    </td><td>16.0893    </td><td>0.1033     </td><td>3.48054e+11</td><td>3.48054e+11</td><td>21618279922</td><td>6.5548     </td></tr>\n",
       "\t<tr><th scope=row>2017-04-07</th><td>600000.SH  </td><td>浦发银行   </td><td>16.10      </td><td>16.06      </td><td>16.16      </td><td>16.02      </td><td>16.10      </td><td>20126948   </td><td>323821647  </td><td> 0.00      </td><td> 0.0000    </td><td>16.089     </td><td>0.0931     </td><td>3.48054e+11</td><td>3.48054e+11</td><td>21618279922</td><td>6.5548     </td></tr>\n",
       "\t<tr><th scope=row>2017-04-10</th><td>600000.SH  </td><td>浦发银行   </td><td>16.10      </td><td>16.12      </td><td>16.12      </td><td>15.94      </td><td>15.97      </td><td>16154024   </td><td>258662668  </td><td>-0.13      </td><td>-0.8075    </td><td>16.0123    </td><td>0.0747     </td><td>3.45244e+11</td><td>3.45244e+11</td><td>21618279922</td><td>6.5019     </td></tr>\n",
       "\t<tr><th scope=row>2017-04-11</th><td>600000.SH  </td><td>浦发银行   </td><td>15.97      </td><td>15.97      </td><td>15.99      </td><td>15.81      </td><td>15.89      </td><td>18611375   </td><td>295381671  </td><td>-0.08      </td><td>-0.5009    </td><td>15.871     </td><td>0.0861     </td><td>3.43514e+11</td><td>3.43514e+11</td><td>21618279922</td><td>6.4693     </td></tr>\n",
       "\t<tr><th scope=row>2017-04-12</th><td>600000.SH  </td><td>浦发银行   </td><td>15.89      </td><td>15.88      </td><td>15.96      </td><td>15.75      </td><td>15.89      </td><td>22210541   </td><td>352357729  </td><td> 0.00      </td><td> 0.0000    </td><td>15.8644    </td><td>0.1027     </td><td>3.43514e+11</td><td>3.43514e+11</td><td>21618279922</td><td>6.4693     </td></tr>\n",
       "\t<tr><th scope=row>2017-04-13</th><td>600000.SH  </td><td>浦发银行   </td><td>15.89      </td><td>15.88      </td><td>15.89      </td><td>15.73      </td><td>15.75      </td><td>23426650   </td><td>369388222  </td><td>-0.14      </td><td>-0.8811    </td><td>15.7679    </td><td>0.1084     </td><td>3.40488e+11</td><td>3.40488e+11</td><td>21618279922</td><td>6.4123     </td></tr>\n",
       "\t<tr><th scope=row>2017-04-14</th><td>600000.SH  </td><td>浦发银行   </td><td>15.75      </td><td>15.76      </td><td>15.78      </td><td>15.42      </td><td>15.51      </td><td>40156553   </td><td>625510632  </td><td>-0.24      </td><td>-1.5238    </td><td>15.5768    </td><td>0.1858     </td><td>3.35300e+11</td><td>3.35300e+11</td><td>21618279922</td><td>6.3146     </td></tr>\n",
       "\t<tr><th scope=row>2017-04-17</th><td>600000.SH  </td><td>浦发银行   </td><td>15.51      </td><td>15.53      </td><td>15.60      </td><td>15.30      </td><td>15.56      </td><td>36739448   </td><td>566536789  </td><td> 0.05      </td><td> 0.3224    </td><td>15.4204    </td><td>0.1699     </td><td>3.36380e+11</td><td>3.36380e+11</td><td>21618279922</td><td>6.3350     </td></tr>\n",
       "\t<tr><th scope=row>2017-04-18</th><td>600000.SH  </td><td>浦发银行   </td><td>15.56      </td><td>15.50      </td><td>15.52      </td><td>15.30      </td><td>15.30      </td><td>22889980   </td><td>351624622  </td><td>-0.26      </td><td>-1.6710    </td><td>15.3615    </td><td>0.1059     </td><td>3.30760e+11</td><td>3.30760e+11</td><td>21618279922</td><td>6.2291     </td></tr>\n",
       "\t<tr><th scope=row>2017-04-19</th><td>600000.SH  </td><td>浦发银行   </td><td>15.30      </td><td>15.25      </td><td>15.27      </td><td>15.11      </td><td>15.11      </td><td>24455407   </td><td>371021507  </td><td>-0.19      </td><td>-1.2418    </td><td>15.1713    </td><td>0.1131     </td><td>3.26652e+11</td><td>3.26652e+11</td><td>21618279922</td><td>6.1518     </td></tr>\n",
       "\t<tr><th scope=row>2017-04-20</th><td>600000.SH  </td><td>浦发银行   </td><td>15.11      </td><td>15.12      </td><td>15.14      </td><td>14.90      </td><td>14.91      </td><td>41061406   </td><td>614436383  </td><td>-0.20      </td><td>-1.3236    </td><td>14.9638    </td><td>0.1899     </td><td>3.22329e+11</td><td>3.22329e+11</td><td>21618279922</td><td>6.0703     </td></tr>\n",
       "\t<tr><th scope=row>2017-04-21</th><td>600000.SH  </td><td>浦发银行   </td><td>14.91      </td><td>14.92      </td><td>15.07      </td><td>14.85      </td><td>15.05      </td><td>22688358   </td><td>340453104  </td><td> 0.14      </td><td> 0.9390    </td><td>15.0056    </td><td>0.1049     </td><td>3.25355e+11</td><td>3.25355e+11</td><td>21618279922</td><td>6.1273     </td></tr>\n",
       "\t<tr><th scope=row>2017-04-24</th><td>600000.SH  </td><td>浦发银行   </td><td>15.05      </td><td>15.05      </td><td>15.11      </td><td>14.91      </td><td>15.00      </td><td>17627803   </td><td>264649933  </td><td>-0.05      </td><td>-0.3322    </td><td>15.0132    </td><td>0.0815     </td><td>3.24274e+11</td><td>3.24274e+11</td><td>21618279922</td><td>6.1070     </td></tr>\n",
       "\t<tr><th scope=row>2017-04-25</th><td>600000.SH  </td><td>浦发银行   </td><td>15.00      </td><td>15.02      </td><td>15.10      </td><td>14.99      </td><td>15.05      </td><td>12975919   </td><td>195296862  </td><td> 0.05      </td><td> 0.3333    </td><td>15.0507    </td><td>0.0600     </td><td>3.25355e+11</td><td>3.25355e+11</td><td>21618279922</td><td>6.1273     </td></tr>\n",
       "\t<tr><th scope=row>2017-04-26</th><td>600000.SH  </td><td>浦发银行   </td><td>15.05      </td><td>15.06      </td><td>15.11      </td><td>15.00      </td><td>15.05      </td><td>14939871   </td><td>225022668  </td><td> 0.00      </td><td> 0.0000    </td><td>15.0619    </td><td>0.0691     </td><td>3.25355e+11</td><td>3.25355e+11</td><td>21618279922</td><td>6.1273     </td></tr>\n",
       "\t<tr><th scope=row>2017-04-27</th><td>600000.SH  </td><td>浦发银行   </td><td>15.05      </td><td>15.05      </td><td>15.25      </td><td>15.03      </td><td>15.21      </td><td>22887645   </td><td>345791526  </td><td> 0.16      </td><td> 1.0631    </td><td>15.1082    </td><td>0.1059     </td><td>3.28814e+11</td><td>3.28814e+11</td><td>21618279922</td><td>6.1925     </td></tr>\n",
       "\t<tr><th scope=row>2017-04-28</th><td>600000.SH  </td><td>浦发银行   </td><td>15.21      </td><td>15.15      </td><td>15.22      </td><td>15.08      </td><td>15.21      </td><td>15718509   </td><td>238419161  </td><td> 0.00      </td><td> 0.0000    </td><td>15.1681    </td><td>0.0727     </td><td>3.28814e+11</td><td>3.28814e+11</td><td>21618279922</td><td>6.1925     </td></tr>\n",
       "\t<tr><th scope=row>2017-05-02</th><td>600000.SH  </td><td>浦发银行   </td><td>15.21      </td><td>15.21      </td><td>15.22      </td><td>15.13      </td><td>15.16      </td><td>12607509   </td><td>191225527  </td><td>-0.05      </td><td>-0.3287    </td><td>15.1676    </td><td>0.0583     </td><td>3.27733e+11</td><td>3.27733e+11</td><td>21618279922</td><td>6.1721     </td></tr>\n",
       "\t<tr><th scope=row>2017-05-03</th><td>600000.SH  </td><td>浦发银行   </td><td>15.16      </td><td>15.16      </td><td>15.16      </td><td>15.05      </td><td>15.08      </td><td>14247943   </td><td>215130847  </td><td>-0.08      </td><td>-0.5277    </td><td>15.0991    </td><td>0.0659     </td><td>3.26004e+11</td><td>3.26004e+11</td><td>21618279922</td><td>6.1395     </td></tr>\n",
       "\t<tr><th scope=row>2017-05-04</th><td>600000.SH  </td><td>浦发银行   </td><td>15.08      </td><td>15.07      </td><td>15.07      </td><td>14.90      </td><td>14.98      </td><td>19477788   </td><td>291839737  </td><td>-0.10      </td><td>-0.6631    </td><td>14.9832    </td><td>0.0901     </td><td>3.23842e+11</td><td>3.23842e+11</td><td>21618279922</td><td>6.0988     </td></tr>\n",
       "\t<tr><th scope=row>2017-05-05</th><td>600000.SH  </td><td>浦发银行   </td><td>14.98      </td><td>14.95      </td><td>14.98      </td><td>14.52      </td><td>14.92      </td><td>40194577   </td><td>592160198  </td><td>-0.06      </td><td>-0.4005    </td><td>14.7323    </td><td>0.1859     </td><td>3.22545e+11</td><td>3.22545e+11</td><td>21618279922</td><td>6.0744     </td></tr>\n",
       "\t<tr><th scope=row>2017-05-08</th><td>600000.SH  </td><td>浦发银行   </td><td>14.92      </td><td>14.78      </td><td>14.90      </td><td>14.51      </td><td>14.86      </td><td>43568576   </td><td>638781010  </td><td>-0.06      </td><td>-0.4021    </td><td>14.6615    </td><td>0.2015     </td><td>3.21248e+11</td><td>3.21248e+11</td><td>21618279922</td><td>6.0500     </td></tr>\n",
       "\t<tr><th scope=row>2017-05-09</th><td>600000.SH  </td><td>浦发银行   </td><td>14.86      </td><td>14.69      </td><td>14.84      </td><td>14.66      </td><td>14.76      </td><td>19225492   </td><td>283864640  </td><td>-0.10      </td><td>-0.6729    </td><td>14.765     </td><td>0.0889     </td><td>3.19086e+11</td><td>3.19086e+11</td><td>21618279922</td><td>6.0093     </td></tr>\n",
       "</tbody>\n",
       "</table>\n"
      ],
      "text/latex": [
       "\\begin{tabular}{r|lllllllllllllllll}\n",
       "  & ﻿代码 & 简称 & 前收盘价(元) & 开盘价(元) & 最高价(元) & 最低价(元) & 收盘价(元) & 成交量(股) & 成交金额(元) & 涨跌(元) & 涨跌幅(\\%) & 均价(元) & 换手率(\\%) & A股流通市值(元) & 总市值(元) & A股流通股本(股) & 市盈率\\\\\n",
       "\\hline\n",
       "\t2016-01-04 & 600000.SH   & 浦发银行    & 16.1356     & 16.1444     & 16.1444     & 15.4997     & 15.7205     & 42240610    & 754425783   & -0.4151     & -2.5725     & 17.8602     & 0.2264      & 3.32032e+11 & 3.32032e+11 & 18653471415 & 6.5614     \\\\\n",
       "\t2016-01-05 & 600000.SH   & 浦发银行    & 15.7205     & 15.4644     & 15.9501     & 15.3672     & 15.8618     & 58054793    & 1034181474  &  0.1413     &  0.8989     & 17.8139     & 0.3112      & 3.35016e+11 & 3.35016e+11 & 18653471415 & 6.6204     \\\\\n",
       "\t2016-01-06 & 600000.SH   & 浦发银行    & 15.8618     & 15.8088     & 16.0208     & 15.6234     & 15.9855     & 46772653    & 838667398   &  0.1236     &  0.7795     & 17.9307     & 0.2507      & 3.37628e+11 & 3.37628e+11 & 18653471415 & 6.6720     \\\\\n",
       "\t2016-01-07 & 600000.SH   & 浦发银行    & 15.9855     & 15.7205     & 15.8088     & 15.3672     & 15.4644     & 11350479    & 199502702   & -0.5211     & -3.2597     & 17.5766     & 0.0608      & 3.26622e+11 & 3.26622e+11 & 18653471415 & 6.4545     \\\\\n",
       "\t2016-01-08 & 600000.SH   & 浦发银行    & 15.4644     & 15.6675     & 15.7912     & 14.9345     & 15.4467     & 71918296    & 1262105060  & -0.0177     & -0.1142     & 17.5492     & 0.3855      & 3.26249e+11 & 3.26249e+11 & 18653471415 & 6.4471     \\\\\n",
       "\t2016-01-11 & 600000.SH   & 浦发银行    & 15.4467     & 15.1994     & 15.4114     & 14.9786     & 15.0581     & 90177135    & 1550155933  & -0.3886     & -2.5157     & 17.1901     & 0.4834      & 3.18042e+11 & 3.18042e+11 & 18653471415 & 6.2849     \\\\\n",
       "\t2016-01-12 & 600000.SH   & 浦发银行    & 15.0581     & 15.1641     & 15.4732     & 15.0846     & 15.4114     & 55374454    & 964061502   &  0.3533     &  2.3460     & 17.4099     & 0.2969      & 3.25503e+11 & 3.25503e+11 & 18653471415 & 6.4324     \\\\\n",
       "\t2016-01-13 & 600000.SH   & 浦发银行    & 15.4114     & 15.5174     & 15.8088     & 15.3231     & 15.3584     & 47869312    & 843717365   & -0.0530     & -0.3438     & 17.6254     & 0.2566      & 3.24384e+11 & 3.24384e+11 & 18653471415 & 6.4102     \\\\\n",
       "\t2016-01-14 & 600000.SH   & 浦发银行    & 15.3584     & 15.0140     & 15.8883     & 14.9168     & 15.8265     & 54838833    & 966117848   &  0.4681     &  3.0477     & 17.6174     & 0.2940      & 3.34270e+11 & 3.34270e+11 & 18653471415 & 6.6056     \\\\\n",
       "\t2016-01-15 & 600000.SH   & 浦发银行    & 15.8265     & 15.7205     & 16.0296     & 15.4732     & 15.5262     & 46723139    & 836146426   & -0.3003     & -1.8973     & 17.8958     & 0.2505      & 3.27928e+11 & 3.27928e+11 & 18653471415 & 6.4803     \\\\\n",
       "\t2016-01-18 & 600000.SH   & 浦发银行    & 15.5262     & 15.3937     & 15.8883     & 15.2966     & 15.6145     & 32729006    & 583291559   &  0.0883     &  0.5688     & 17.8219     & 0.1755      & 3.29793e+11 & 3.29793e+11 & 18653471415 & 6.5171     \\\\\n",
       "\t2016-01-19 & 600000.SH   & 浦发银行    & 15.6145     & 15.7029     & 15.7912     & 15.4556     & 15.6940     & 29807159    & 527753175   &  0.0795     &  0.5090     & 17.7056     & 0.1598      & 3.31472e+11 & 3.31472e+11 & 18653471415 & 6.5503     \\\\\n",
       "\t2016-01-20 & 600000.SH   & 浦发银行    & 15.6940     & 15.5527     & 15.6322     & 15.0846     & 15.2348     & 35968636    & 623546924   & -0.4593     & -2.9263     & 17.3359     & 0.1928      & 3.21772e+11 & 3.21772e+11 & 18653471415 & 6.3586     \\\\\n",
       "\t2016-01-21 & 600000.SH   & 浦发银行    & 15.2348     & 15.2083     & 15.4202     & 14.5724     & 14.6430     & 34197115    & 582845476   & -0.5917     & -3.8841     & 17.0437     & 0.1833      & 3.09275e+11 & 3.09275e+11 & 18653471415 & 6.1117     \\\\\n",
       "\t2016-01-22 & 600000.SH   & 浦发银行    & 14.6430     & 14.8727     & 15.1111     & 14.5636     & 15.0316     & 42007318    & 708179241   &  0.3886     &  2.6538     & 16.8585     & 0.2252      & 3.17482e+11 & 3.17482e+11 & 18653471415 & 6.2739     \\\\\n",
       "\t2016-01-25 & 600000.SH   & 浦发银行    & 15.0316     & 15.0140     & 15.1641     & 14.7667     & 15.0405     & 23558971    & 400445071   &  0.0088     &  0.0588     & 16.9976     & 0.1263      & 3.17669e+11 & 3.17669e+11 & 18653471415 & 6.2775     \\\\\n",
       "\t2016-01-26 & 600000.SH   & 浦发银行    & 15.0405     & 14.9786     & 15.1376     & 14.4841     & 14.7137     & 38279766    & 643611762   & -0.3268     & -2.1726     & 16.8134     & 0.2052      & 3.10767e+11 & 3.10767e+11 & 18653471415 & 6.1412     \\\\\n",
       "\t2016-01-27 & 600000.SH   & 浦发银行    & 14.7137     & 14.7932     & 14.9963     & 14.5812     & 14.7314     & 44291307    & 742640743   &  0.0177     &  0.1200     & 16.7672     & 0.2374      & 3.11140e+11 & 3.11140e+11 & 18653471415 & 6.1485     \\\\\n",
       "\t2016-01-28 & 600000.SH   & 浦发银行    & 14.7314     & 14.8020     & 14.8550     & 14.0248     & 14.6430     & 38902180    & 643984171   & -0.0883     & -0.5995     & 16.5539     & 0.2086      & 3.09275e+11 & 3.09275e+11 & 18653471415 & 6.1117     \\\\\n",
       "\t2016-01-29 & 600000.SH   & 浦发银行    & 14.6430     & 14.5901     & 15.0581     & 14.4929     & 14.9257     & 47429000    & 799493381   &  0.2826     &  1.9300     & 16.8566     & 0.2543      & 3.15244e+11 & 3.15244e+11 & 18653471415 & 6.2296     \\\\\n",
       "\t2016-02-01 & 600000.SH   & 浦发银行    & 14.9257     & 15.0051     & 15.0140     & 14.4929     & 14.5724     & 29139596    & 485275132   & -0.3533     & -2.3669     & 16.6535     & 0.1562      & 3.07782e+11 & 3.07782e+11 & 18653471415 & 6.0822     \\\\\n",
       "\t2016-02-02 & 600000.SH   & 浦发银行    & 14.5724     & 14.5724     & 14.9610     & 14.5371     & 14.8020     & 25380981    & 425396889   &  0.2296     &  1.5758     & 16.7605     & 0.1361      & 3.12632e+11 & 3.12632e+11 & 18653471415 & 6.1780     \\\\\n",
       "\t2016-02-03 & 600000.SH   & 浦发银行    & 14.8020     & 14.6607     & 14.7137     & 14.5282     & 14.6695     & 27779183    & 459255616   & -0.1325     & -0.8950     & 16.5324     & 0.1489      & 3.09834e+11 & 3.09834e+11 & 18653471415 & 6.1227     \\\\\n",
       "\t2016-02-04 & 600000.SH   & 浦发银行    & 14.6695     & 14.8727     & 15.2966     & 14.6872     & 15.2789     & 47162860    & 799283799   &  0.6094     &  4.1541     & 16.9473     & 0.2528      & 3.22705e+11 & 3.22705e+11 & 18653471415 & 6.3771     \\\\\n",
       "\t2016-02-05 & 600000.SH   & 浦发银行    & 15.2789     & 15.2259     & 16.2416     & 15.1465     & 16.2328     & 78413454    & 1401156041  &  0.9538     &  6.2428     & 17.8688     & 0.4204      & 3.42851e+11 & 3.42851e+11 & 18653471415 & 6.7752     \\\\\n",
       "\t2016-02-15 & 600000.SH   & 浦发银行    & 16.2328     & 15.8795     & 16.3211     & 15.7205     & 16.2946     & 67296317    & 1221398339  &  0.0618     &  0.3808     & 18.1496     & 0.3608      & 3.44157e+11 & 3.44157e+11 & 18653471415 & 6.8010     \\\\\n",
       "\t2016-03-11 & 600000.SH   & 浦发银行    & 16.2946     & 15.4644     & 15.4821     & 14.6695     & 14.9875     & 98240322    & 1657158636  & -1.3071     & -8.0217     & 16.8684     & 0.5267      & 3.16549e+11 & 3.16549e+11 & 18653471415 & 6.2554     \\\\\n",
       "\t2016-03-14 & 600000.SH   & 浦发银行    & 14.9875     & 14.9080     & 15.4291     & 14.8550     & 14.8903     & 56922239    & 973317374   & -0.0971     & -0.6482     & 17.0991     & 0.3052      & 3.14498e+11 & 3.14498e+11 & 18653471415 & 6.2149     \\\\\n",
       "\t2016-03-15 & 600000.SH   & 浦发银行    & 14.8903     & 14.9698     & 15.1818     & 14.8462     & 15.0316     & 37540932    & 638223050   &  0.1413     &  0.9490     & 17.0007     & 0.2013      & 3.17482e+11 & 3.17482e+11 & 18653471415 & 6.2739     \\\\\n",
       "\t2016-03-16 & 600000.SH   & 浦发银行    & 15.0316     & 14.9433     & 15.9590     & 14.9345     & 15.9236     & 108404378   & 1924212601  &  0.8920     &  5.9342     & 17.7503     & 0.5811      & 3.36322e+11 & 3.36322e+11 & 18653471415 & 6.6462     \\\\\n",
       "\t... & ... & ... & ... & ... & ... & ... & ... & ... & ... & ... & ... & ... & ... & ... & ... & ... & ...\\\\\n",
       "\t2017-03-24 & 600000.SH   & 浦发银行    & 15.88       & 15.85       & 16.00       & 15.83       & 15.96       & 19902006    & 316984958   &  0.08       &  0.5038     & 15.9273     & 0.0921      & 3.45028e+11 & 3.45028e+11 & 21618279922 & 6.4978     \\\\\n",
       "\t2017-03-27 & 600000.SH   & 浦发银行    & 15.96       & 15.97       & 16.13       & 15.90       & 16.04       & 18997369    & 304990151   &  0.08       &  0.5013     & 16.0543     & 0.0879      & 3.46757e+11 & 3.46757e+11 & 21618279922 & 6.5304     \\\\\n",
       "\t2017-03-28 & 600000.SH   & 浦发银行    & 16.04       & 16.11       & 16.13       & 15.97       & 16.01       & 13212969    & 211750766   & -0.03       & -0.1870     & 16.026      & 0.0611      & 3.46109e+11 & 3.46109e+11 & 21618279922 & 6.5182     \\\\\n",
       "\t2017-03-29 & 600000.SH   & 浦发银行    & 16.01       & 16.01       & 16.11       & 15.80       & 15.87       & 23446792    & 372794465   & -0.14       & -0.8745     & 15.8996     & 0.1085      & 3.43082e+11 & 3.43082e+11 & 21618279922 & 6.4612     \\\\\n",
       "\t2017-03-30 & 600000.SH   & 浦发银行    & 15.87       & 15.88       & 15.90       & 15.72       & 15.81       & 23645144    & 373665115   & -0.06       & -0.3781     & 15.803      & 0.1094      & 3.41785e+11 & 3.41785e+11 & 21618279922 & 6.4368     \\\\\n",
       "\t2017-03-31 & 600000.SH   & 浦发银行    & 15.81       & 15.78       & 16.05       & 15.77       & 16.01       & 24187120    & 385793421   &  0.20       &  1.2650     & 15.9504     & 0.1119      & 3.46109e+11 & 3.46109e+11 & 21618279922 & 6.5182     \\\\\n",
       "\t2017-04-05 & 600000.SH   & 浦发银行    & 16.01       & 16.05       & 16.20       & 15.89       & 16.16       & 31036271    & 499121565   &  0.15       &  0.9369     & 16.0819     & 0.1436      & 3.49351e+11 & 3.49351e+11 & 21618279922 & 6.5792     \\\\\n",
       "\t2017-04-06 & 600000.SH   & 浦发银行    & 16.16       & 16.09       & 16.18       & 16.03       & 16.10       & 22335442    & 359361840   & -0.06       & -0.3713     & 16.0893     & 0.1033      & 3.48054e+11 & 3.48054e+11 & 21618279922 & 6.5548     \\\\\n",
       "\t2017-04-07 & 600000.SH   & 浦发银行    & 16.10       & 16.06       & 16.16       & 16.02       & 16.10       & 20126948    & 323821647   &  0.00       &  0.0000     & 16.089      & 0.0931      & 3.48054e+11 & 3.48054e+11 & 21618279922 & 6.5548     \\\\\n",
       "\t2017-04-10 & 600000.SH   & 浦发银行    & 16.10       & 16.12       & 16.12       & 15.94       & 15.97       & 16154024    & 258662668   & -0.13       & -0.8075     & 16.0123     & 0.0747      & 3.45244e+11 & 3.45244e+11 & 21618279922 & 6.5019     \\\\\n",
       "\t2017-04-11 & 600000.SH   & 浦发银行    & 15.97       & 15.97       & 15.99       & 15.81       & 15.89       & 18611375    & 295381671   & -0.08       & -0.5009     & 15.871      & 0.0861      & 3.43514e+11 & 3.43514e+11 & 21618279922 & 6.4693     \\\\\n",
       "\t2017-04-12 & 600000.SH   & 浦发银行    & 15.89       & 15.88       & 15.96       & 15.75       & 15.89       & 22210541    & 352357729   &  0.00       &  0.0000     & 15.8644     & 0.1027      & 3.43514e+11 & 3.43514e+11 & 21618279922 & 6.4693     \\\\\n",
       "\t2017-04-13 & 600000.SH   & 浦发银行    & 15.89       & 15.88       & 15.89       & 15.73       & 15.75       & 23426650    & 369388222   & -0.14       & -0.8811     & 15.7679     & 0.1084      & 3.40488e+11 & 3.40488e+11 & 21618279922 & 6.4123     \\\\\n",
       "\t2017-04-14 & 600000.SH   & 浦发银行    & 15.75       & 15.76       & 15.78       & 15.42       & 15.51       & 40156553    & 625510632   & -0.24       & -1.5238     & 15.5768     & 0.1858      & 3.35300e+11 & 3.35300e+11 & 21618279922 & 6.3146     \\\\\n",
       "\t2017-04-17 & 600000.SH   & 浦发银行    & 15.51       & 15.53       & 15.60       & 15.30       & 15.56       & 36739448    & 566536789   &  0.05       &  0.3224     & 15.4204     & 0.1699      & 3.36380e+11 & 3.36380e+11 & 21618279922 & 6.3350     \\\\\n",
       "\t2017-04-18 & 600000.SH   & 浦发银行    & 15.56       & 15.50       & 15.52       & 15.30       & 15.30       & 22889980    & 351624622   & -0.26       & -1.6710     & 15.3615     & 0.1059      & 3.30760e+11 & 3.30760e+11 & 21618279922 & 6.2291     \\\\\n",
       "\t2017-04-19 & 600000.SH   & 浦发银行    & 15.30       & 15.25       & 15.27       & 15.11       & 15.11       & 24455407    & 371021507   & -0.19       & -1.2418     & 15.1713     & 0.1131      & 3.26652e+11 & 3.26652e+11 & 21618279922 & 6.1518     \\\\\n",
       "\t2017-04-20 & 600000.SH   & 浦发银行    & 15.11       & 15.12       & 15.14       & 14.90       & 14.91       & 41061406    & 614436383   & -0.20       & -1.3236     & 14.9638     & 0.1899      & 3.22329e+11 & 3.22329e+11 & 21618279922 & 6.0703     \\\\\n",
       "\t2017-04-21 & 600000.SH   & 浦发银行    & 14.91       & 14.92       & 15.07       & 14.85       & 15.05       & 22688358    & 340453104   &  0.14       &  0.9390     & 15.0056     & 0.1049      & 3.25355e+11 & 3.25355e+11 & 21618279922 & 6.1273     \\\\\n",
       "\t2017-04-24 & 600000.SH   & 浦发银行    & 15.05       & 15.05       & 15.11       & 14.91       & 15.00       & 17627803    & 264649933   & -0.05       & -0.3322     & 15.0132     & 0.0815      & 3.24274e+11 & 3.24274e+11 & 21618279922 & 6.1070     \\\\\n",
       "\t2017-04-25 & 600000.SH   & 浦发银行    & 15.00       & 15.02       & 15.10       & 14.99       & 15.05       & 12975919    & 195296862   &  0.05       &  0.3333     & 15.0507     & 0.0600      & 3.25355e+11 & 3.25355e+11 & 21618279922 & 6.1273     \\\\\n",
       "\t2017-04-26 & 600000.SH   & 浦发银行    & 15.05       & 15.06       & 15.11       & 15.00       & 15.05       & 14939871    & 225022668   &  0.00       &  0.0000     & 15.0619     & 0.0691      & 3.25355e+11 & 3.25355e+11 & 21618279922 & 6.1273     \\\\\n",
       "\t2017-04-27 & 600000.SH   & 浦发银行    & 15.05       & 15.05       & 15.25       & 15.03       & 15.21       & 22887645    & 345791526   &  0.16       &  1.0631     & 15.1082     & 0.1059      & 3.28814e+11 & 3.28814e+11 & 21618279922 & 6.1925     \\\\\n",
       "\t2017-04-28 & 600000.SH   & 浦发银行    & 15.21       & 15.15       & 15.22       & 15.08       & 15.21       & 15718509    & 238419161   &  0.00       &  0.0000     & 15.1681     & 0.0727      & 3.28814e+11 & 3.28814e+11 & 21618279922 & 6.1925     \\\\\n",
       "\t2017-05-02 & 600000.SH   & 浦发银行    & 15.21       & 15.21       & 15.22       & 15.13       & 15.16       & 12607509    & 191225527   & -0.05       & -0.3287     & 15.1676     & 0.0583      & 3.27733e+11 & 3.27733e+11 & 21618279922 & 6.1721     \\\\\n",
       "\t2017-05-03 & 600000.SH   & 浦发银行    & 15.16       & 15.16       & 15.16       & 15.05       & 15.08       & 14247943    & 215130847   & -0.08       & -0.5277     & 15.0991     & 0.0659      & 3.26004e+11 & 3.26004e+11 & 21618279922 & 6.1395     \\\\\n",
       "\t2017-05-04 & 600000.SH   & 浦发银行    & 15.08       & 15.07       & 15.07       & 14.90       & 14.98       & 19477788    & 291839737   & -0.10       & -0.6631     & 14.9832     & 0.0901      & 3.23842e+11 & 3.23842e+11 & 21618279922 & 6.0988     \\\\\n",
       "\t2017-05-05 & 600000.SH   & 浦发银行    & 14.98       & 14.95       & 14.98       & 14.52       & 14.92       & 40194577    & 592160198   & -0.06       & -0.4005     & 14.7323     & 0.1859      & 3.22545e+11 & 3.22545e+11 & 21618279922 & 6.0744     \\\\\n",
       "\t2017-05-08 & 600000.SH   & 浦发银行    & 14.92       & 14.78       & 14.90       & 14.51       & 14.86       & 43568576    & 638781010   & -0.06       & -0.4021     & 14.6615     & 0.2015      & 3.21248e+11 & 3.21248e+11 & 21618279922 & 6.0500     \\\\\n",
       "\t2017-05-09 & 600000.SH   & 浦发银行    & 14.86       & 14.69       & 14.84       & 14.66       & 14.76       & 19225492    & 283864640   & -0.10       & -0.6729     & 14.765      & 0.0889      & 3.19086e+11 & 3.19086e+11 & 21618279922 & 6.0093     \\\\\n",
       "\\end{tabular}\n"
      ],
      "text/markdown": [
       "\n",
       "| <!--/--> | ﻿代码 | 简称 | 前收盘价(元) | 开盘价(元) | 最高价(元) | 最低价(元) | 收盘价(元) | 成交量(股) | 成交金额(元) | 涨跌(元) | 涨跌幅(%) | 均价(元) | 换手率(%) | A股流通市值(元) | 总市值(元) | A股流通股本(股) | 市盈率 | \n",
       "|---|---|---|---|---|---|---|---|---|---|---|---|---|---|---|---|---|---|---|---|---|---|---|---|---|---|---|---|---|---|---|---|---|---|---|---|---|---|---|---|---|---|---|---|---|---|---|---|---|---|---|---|---|---|---|---|---|---|---|---|---|\n",
       "| 2016-01-04 | 600000.SH   | 浦发银行    | 16.1356     | 16.1444     | 16.1444     | 15.4997     | 15.7205     | 42240610    | 754425783   | -0.4151     | -2.5725     | 17.8602     | 0.2264      | 3.32032e+11 | 3.32032e+11 | 18653471415 | 6.5614      | \n",
       "| 2016-01-05 | 600000.SH   | 浦发银行    | 15.7205     | 15.4644     | 15.9501     | 15.3672     | 15.8618     | 58054793    | 1034181474  |  0.1413     |  0.8989     | 17.8139     | 0.3112      | 3.35016e+11 | 3.35016e+11 | 18653471415 | 6.6204      | \n",
       "| 2016-01-06 | 600000.SH   | 浦发银行    | 15.8618     | 15.8088     | 16.0208     | 15.6234     | 15.9855     | 46772653    | 838667398   |  0.1236     |  0.7795     | 17.9307     | 0.2507      | 3.37628e+11 | 3.37628e+11 | 18653471415 | 6.6720      | \n",
       "| 2016-01-07 | 600000.SH   | 浦发银行    | 15.9855     | 15.7205     | 15.8088     | 15.3672     | 15.4644     | 11350479    | 199502702   | -0.5211     | -3.2597     | 17.5766     | 0.0608      | 3.26622e+11 | 3.26622e+11 | 18653471415 | 6.4545      | \n",
       "| 2016-01-08 | 600000.SH   | 浦发银行    | 15.4644     | 15.6675     | 15.7912     | 14.9345     | 15.4467     | 71918296    | 1262105060  | -0.0177     | -0.1142     | 17.5492     | 0.3855      | 3.26249e+11 | 3.26249e+11 | 18653471415 | 6.4471      | \n",
       "| 2016-01-11 | 600000.SH   | 浦发银行    | 15.4467     | 15.1994     | 15.4114     | 14.9786     | 15.0581     | 90177135    | 1550155933  | -0.3886     | -2.5157     | 17.1901     | 0.4834      | 3.18042e+11 | 3.18042e+11 | 18653471415 | 6.2849      | \n",
       "| 2016-01-12 | 600000.SH   | 浦发银行    | 15.0581     | 15.1641     | 15.4732     | 15.0846     | 15.4114     | 55374454    | 964061502   |  0.3533     |  2.3460     | 17.4099     | 0.2969      | 3.25503e+11 | 3.25503e+11 | 18653471415 | 6.4324      | \n",
       "| 2016-01-13 | 600000.SH   | 浦发银行    | 15.4114     | 15.5174     | 15.8088     | 15.3231     | 15.3584     | 47869312    | 843717365   | -0.0530     | -0.3438     | 17.6254     | 0.2566      | 3.24384e+11 | 3.24384e+11 | 18653471415 | 6.4102      | \n",
       "| 2016-01-14 | 600000.SH   | 浦发银行    | 15.3584     | 15.0140     | 15.8883     | 14.9168     | 15.8265     | 54838833    | 966117848   |  0.4681     |  3.0477     | 17.6174     | 0.2940      | 3.34270e+11 | 3.34270e+11 | 18653471415 | 6.6056      | \n",
       "| 2016-01-15 | 600000.SH   | 浦发银行    | 15.8265     | 15.7205     | 16.0296     | 15.4732     | 15.5262     | 46723139    | 836146426   | -0.3003     | -1.8973     | 17.8958     | 0.2505      | 3.27928e+11 | 3.27928e+11 | 18653471415 | 6.4803      | \n",
       "| 2016-01-18 | 600000.SH   | 浦发银行    | 15.5262     | 15.3937     | 15.8883     | 15.2966     | 15.6145     | 32729006    | 583291559   |  0.0883     |  0.5688     | 17.8219     | 0.1755      | 3.29793e+11 | 3.29793e+11 | 18653471415 | 6.5171      | \n",
       "| 2016-01-19 | 600000.SH   | 浦发银行    | 15.6145     | 15.7029     | 15.7912     | 15.4556     | 15.6940     | 29807159    | 527753175   |  0.0795     |  0.5090     | 17.7056     | 0.1598      | 3.31472e+11 | 3.31472e+11 | 18653471415 | 6.5503      | \n",
       "| 2016-01-20 | 600000.SH   | 浦发银行    | 15.6940     | 15.5527     | 15.6322     | 15.0846     | 15.2348     | 35968636    | 623546924   | -0.4593     | -2.9263     | 17.3359     | 0.1928      | 3.21772e+11 | 3.21772e+11 | 18653471415 | 6.3586      | \n",
       "| 2016-01-21 | 600000.SH   | 浦发银行    | 15.2348     | 15.2083     | 15.4202     | 14.5724     | 14.6430     | 34197115    | 582845476   | -0.5917     | -3.8841     | 17.0437     | 0.1833      | 3.09275e+11 | 3.09275e+11 | 18653471415 | 6.1117      | \n",
       "| 2016-01-22 | 600000.SH   | 浦发银行    | 14.6430     | 14.8727     | 15.1111     | 14.5636     | 15.0316     | 42007318    | 708179241   |  0.3886     |  2.6538     | 16.8585     | 0.2252      | 3.17482e+11 | 3.17482e+11 | 18653471415 | 6.2739      | \n",
       "| 2016-01-25 | 600000.SH   | 浦发银行    | 15.0316     | 15.0140     | 15.1641     | 14.7667     | 15.0405     | 23558971    | 400445071   |  0.0088     |  0.0588     | 16.9976     | 0.1263      | 3.17669e+11 | 3.17669e+11 | 18653471415 | 6.2775      | \n",
       "| 2016-01-26 | 600000.SH   | 浦发银行    | 15.0405     | 14.9786     | 15.1376     | 14.4841     | 14.7137     | 38279766    | 643611762   | -0.3268     | -2.1726     | 16.8134     | 0.2052      | 3.10767e+11 | 3.10767e+11 | 18653471415 | 6.1412      | \n",
       "| 2016-01-27 | 600000.SH   | 浦发银行    | 14.7137     | 14.7932     | 14.9963     | 14.5812     | 14.7314     | 44291307    | 742640743   |  0.0177     |  0.1200     | 16.7672     | 0.2374      | 3.11140e+11 | 3.11140e+11 | 18653471415 | 6.1485      | \n",
       "| 2016-01-28 | 600000.SH   | 浦发银行    | 14.7314     | 14.8020     | 14.8550     | 14.0248     | 14.6430     | 38902180    | 643984171   | -0.0883     | -0.5995     | 16.5539     | 0.2086      | 3.09275e+11 | 3.09275e+11 | 18653471415 | 6.1117      | \n",
       "| 2016-01-29 | 600000.SH   | 浦发银行    | 14.6430     | 14.5901     | 15.0581     | 14.4929     | 14.9257     | 47429000    | 799493381   |  0.2826     |  1.9300     | 16.8566     | 0.2543      | 3.15244e+11 | 3.15244e+11 | 18653471415 | 6.2296      | \n",
       "| 2016-02-01 | 600000.SH   | 浦发银行    | 14.9257     | 15.0051     | 15.0140     | 14.4929     | 14.5724     | 29139596    | 485275132   | -0.3533     | -2.3669     | 16.6535     | 0.1562      | 3.07782e+11 | 3.07782e+11 | 18653471415 | 6.0822      | \n",
       "| 2016-02-02 | 600000.SH   | 浦发银行    | 14.5724     | 14.5724     | 14.9610     | 14.5371     | 14.8020     | 25380981    | 425396889   |  0.2296     |  1.5758     | 16.7605     | 0.1361      | 3.12632e+11 | 3.12632e+11 | 18653471415 | 6.1780      | \n",
       "| 2016-02-03 | 600000.SH   | 浦发银行    | 14.8020     | 14.6607     | 14.7137     | 14.5282     | 14.6695     | 27779183    | 459255616   | -0.1325     | -0.8950     | 16.5324     | 0.1489      | 3.09834e+11 | 3.09834e+11 | 18653471415 | 6.1227      | \n",
       "| 2016-02-04 | 600000.SH   | 浦发银行    | 14.6695     | 14.8727     | 15.2966     | 14.6872     | 15.2789     | 47162860    | 799283799   |  0.6094     |  4.1541     | 16.9473     | 0.2528      | 3.22705e+11 | 3.22705e+11 | 18653471415 | 6.3771      | \n",
       "| 2016-02-05 | 600000.SH   | 浦发银行    | 15.2789     | 15.2259     | 16.2416     | 15.1465     | 16.2328     | 78413454    | 1401156041  |  0.9538     |  6.2428     | 17.8688     | 0.4204      | 3.42851e+11 | 3.42851e+11 | 18653471415 | 6.7752      | \n",
       "| 2016-02-15 | 600000.SH   | 浦发银行    | 16.2328     | 15.8795     | 16.3211     | 15.7205     | 16.2946     | 67296317    | 1221398339  |  0.0618     |  0.3808     | 18.1496     | 0.3608      | 3.44157e+11 | 3.44157e+11 | 18653471415 | 6.8010      | \n",
       "| 2016-03-11 | 600000.SH   | 浦发银行    | 16.2946     | 15.4644     | 15.4821     | 14.6695     | 14.9875     | 98240322    | 1657158636  | -1.3071     | -8.0217     | 16.8684     | 0.5267      | 3.16549e+11 | 3.16549e+11 | 18653471415 | 6.2554      | \n",
       "| 2016-03-14 | 600000.SH   | 浦发银行    | 14.9875     | 14.9080     | 15.4291     | 14.8550     | 14.8903     | 56922239    | 973317374   | -0.0971     | -0.6482     | 17.0991     | 0.3052      | 3.14498e+11 | 3.14498e+11 | 18653471415 | 6.2149      | \n",
       "| 2016-03-15 | 600000.SH   | 浦发银行    | 14.8903     | 14.9698     | 15.1818     | 14.8462     | 15.0316     | 37540932    | 638223050   |  0.1413     |  0.9490     | 17.0007     | 0.2013      | 3.17482e+11 | 3.17482e+11 | 18653471415 | 6.2739      | \n",
       "| 2016-03-16 | 600000.SH   | 浦发银行    | 15.0316     | 14.9433     | 15.9590     | 14.9345     | 15.9236     | 108404378   | 1924212601  |  0.8920     |  5.9342     | 17.7503     | 0.5811      | 3.36322e+11 | 3.36322e+11 | 18653471415 | 6.6462      | \n",
       "| ... | ... | ... | ... | ... | ... | ... | ... | ... | ... | ... | ... | ... | ... | ... | ... | ... | ... | \n",
       "| 2017-03-24 | 600000.SH   | 浦发银行    | 15.88       | 15.85       | 16.00       | 15.83       | 15.96       | 19902006    | 316984958   |  0.08       |  0.5038     | 15.9273     | 0.0921      | 3.45028e+11 | 3.45028e+11 | 21618279922 | 6.4978      | \n",
       "| 2017-03-27 | 600000.SH   | 浦发银行    | 15.96       | 15.97       | 16.13       | 15.90       | 16.04       | 18997369    | 304990151   |  0.08       |  0.5013     | 16.0543     | 0.0879      | 3.46757e+11 | 3.46757e+11 | 21618279922 | 6.5304      | \n",
       "| 2017-03-28 | 600000.SH   | 浦发银行    | 16.04       | 16.11       | 16.13       | 15.97       | 16.01       | 13212969    | 211750766   | -0.03       | -0.1870     | 16.026      | 0.0611      | 3.46109e+11 | 3.46109e+11 | 21618279922 | 6.5182      | \n",
       "| 2017-03-29 | 600000.SH   | 浦发银行    | 16.01       | 16.01       | 16.11       | 15.80       | 15.87       | 23446792    | 372794465   | -0.14       | -0.8745     | 15.8996     | 0.1085      | 3.43082e+11 | 3.43082e+11 | 21618279922 | 6.4612      | \n",
       "| 2017-03-30 | 600000.SH   | 浦发银行    | 15.87       | 15.88       | 15.90       | 15.72       | 15.81       | 23645144    | 373665115   | -0.06       | -0.3781     | 15.803      | 0.1094      | 3.41785e+11 | 3.41785e+11 | 21618279922 | 6.4368      | \n",
       "| 2017-03-31 | 600000.SH   | 浦发银行    | 15.81       | 15.78       | 16.05       | 15.77       | 16.01       | 24187120    | 385793421   |  0.20       |  1.2650     | 15.9504     | 0.1119      | 3.46109e+11 | 3.46109e+11 | 21618279922 | 6.5182      | \n",
       "| 2017-04-05 | 600000.SH   | 浦发银行    | 16.01       | 16.05       | 16.20       | 15.89       | 16.16       | 31036271    | 499121565   |  0.15       |  0.9369     | 16.0819     | 0.1436      | 3.49351e+11 | 3.49351e+11 | 21618279922 | 6.5792      | \n",
       "| 2017-04-06 | 600000.SH   | 浦发银行    | 16.16       | 16.09       | 16.18       | 16.03       | 16.10       | 22335442    | 359361840   | -0.06       | -0.3713     | 16.0893     | 0.1033      | 3.48054e+11 | 3.48054e+11 | 21618279922 | 6.5548      | \n",
       "| 2017-04-07 | 600000.SH   | 浦发银行    | 16.10       | 16.06       | 16.16       | 16.02       | 16.10       | 20126948    | 323821647   |  0.00       |  0.0000     | 16.089      | 0.0931      | 3.48054e+11 | 3.48054e+11 | 21618279922 | 6.5548      | \n",
       "| 2017-04-10 | 600000.SH   | 浦发银行    | 16.10       | 16.12       | 16.12       | 15.94       | 15.97       | 16154024    | 258662668   | -0.13       | -0.8075     | 16.0123     | 0.0747      | 3.45244e+11 | 3.45244e+11 | 21618279922 | 6.5019      | \n",
       "| 2017-04-11 | 600000.SH   | 浦发银行    | 15.97       | 15.97       | 15.99       | 15.81       | 15.89       | 18611375    | 295381671   | -0.08       | -0.5009     | 15.871      | 0.0861      | 3.43514e+11 | 3.43514e+11 | 21618279922 | 6.4693      | \n",
       "| 2017-04-12 | 600000.SH   | 浦发银行    | 15.89       | 15.88       | 15.96       | 15.75       | 15.89       | 22210541    | 352357729   |  0.00       |  0.0000     | 15.8644     | 0.1027      | 3.43514e+11 | 3.43514e+11 | 21618279922 | 6.4693      | \n",
       "| 2017-04-13 | 600000.SH   | 浦发银行    | 15.89       | 15.88       | 15.89       | 15.73       | 15.75       | 23426650    | 369388222   | -0.14       | -0.8811     | 15.7679     | 0.1084      | 3.40488e+11 | 3.40488e+11 | 21618279922 | 6.4123      | \n",
       "| 2017-04-14 | 600000.SH   | 浦发银行    | 15.75       | 15.76       | 15.78       | 15.42       | 15.51       | 40156553    | 625510632   | -0.24       | -1.5238     | 15.5768     | 0.1858      | 3.35300e+11 | 3.35300e+11 | 21618279922 | 6.3146      | \n",
       "| 2017-04-17 | 600000.SH   | 浦发银行    | 15.51       | 15.53       | 15.60       | 15.30       | 15.56       | 36739448    | 566536789   |  0.05       |  0.3224     | 15.4204     | 0.1699      | 3.36380e+11 | 3.36380e+11 | 21618279922 | 6.3350      | \n",
       "| 2017-04-18 | 600000.SH   | 浦发银行    | 15.56       | 15.50       | 15.52       | 15.30       | 15.30       | 22889980    | 351624622   | -0.26       | -1.6710     | 15.3615     | 0.1059      | 3.30760e+11 | 3.30760e+11 | 21618279922 | 6.2291      | \n",
       "| 2017-04-19 | 600000.SH   | 浦发银行    | 15.30       | 15.25       | 15.27       | 15.11       | 15.11       | 24455407    | 371021507   | -0.19       | -1.2418     | 15.1713     | 0.1131      | 3.26652e+11 | 3.26652e+11 | 21618279922 | 6.1518      | \n",
       "| 2017-04-20 | 600000.SH   | 浦发银行    | 15.11       | 15.12       | 15.14       | 14.90       | 14.91       | 41061406    | 614436383   | -0.20       | -1.3236     | 14.9638     | 0.1899      | 3.22329e+11 | 3.22329e+11 | 21618279922 | 6.0703      | \n",
       "| 2017-04-21 | 600000.SH   | 浦发银行    | 14.91       | 14.92       | 15.07       | 14.85       | 15.05       | 22688358    | 340453104   |  0.14       |  0.9390     | 15.0056     | 0.1049      | 3.25355e+11 | 3.25355e+11 | 21618279922 | 6.1273      | \n",
       "| 2017-04-24 | 600000.SH   | 浦发银行    | 15.05       | 15.05       | 15.11       | 14.91       | 15.00       | 17627803    | 264649933   | -0.05       | -0.3322     | 15.0132     | 0.0815      | 3.24274e+11 | 3.24274e+11 | 21618279922 | 6.1070      | \n",
       "| 2017-04-25 | 600000.SH   | 浦发银行    | 15.00       | 15.02       | 15.10       | 14.99       | 15.05       | 12975919    | 195296862   |  0.05       |  0.3333     | 15.0507     | 0.0600      | 3.25355e+11 | 3.25355e+11 | 21618279922 | 6.1273      | \n",
       "| 2017-04-26 | 600000.SH   | 浦发银行    | 15.05       | 15.06       | 15.11       | 15.00       | 15.05       | 14939871    | 225022668   |  0.00       |  0.0000     | 15.0619     | 0.0691      | 3.25355e+11 | 3.25355e+11 | 21618279922 | 6.1273      | \n",
       "| 2017-04-27 | 600000.SH   | 浦发银行    | 15.05       | 15.05       | 15.25       | 15.03       | 15.21       | 22887645    | 345791526   |  0.16       |  1.0631     | 15.1082     | 0.1059      | 3.28814e+11 | 3.28814e+11 | 21618279922 | 6.1925      | \n",
       "| 2017-04-28 | 600000.SH   | 浦发银行    | 15.21       | 15.15       | 15.22       | 15.08       | 15.21       | 15718509    | 238419161   |  0.00       |  0.0000     | 15.1681     | 0.0727      | 3.28814e+11 | 3.28814e+11 | 21618279922 | 6.1925      | \n",
       "| 2017-05-02 | 600000.SH   | 浦发银行    | 15.21       | 15.21       | 15.22       | 15.13       | 15.16       | 12607509    | 191225527   | -0.05       | -0.3287     | 15.1676     | 0.0583      | 3.27733e+11 | 3.27733e+11 | 21618279922 | 6.1721      | \n",
       "| 2017-05-03 | 600000.SH   | 浦发银行    | 15.16       | 15.16       | 15.16       | 15.05       | 15.08       | 14247943    | 215130847   | -0.08       | -0.5277     | 15.0991     | 0.0659      | 3.26004e+11 | 3.26004e+11 | 21618279922 | 6.1395      | \n",
       "| 2017-05-04 | 600000.SH   | 浦发银行    | 15.08       | 15.07       | 15.07       | 14.90       | 14.98       | 19477788    | 291839737   | -0.10       | -0.6631     | 14.9832     | 0.0901      | 3.23842e+11 | 3.23842e+11 | 21618279922 | 6.0988      | \n",
       "| 2017-05-05 | 600000.SH   | 浦发银行    | 14.98       | 14.95       | 14.98       | 14.52       | 14.92       | 40194577    | 592160198   | -0.06       | -0.4005     | 14.7323     | 0.1859      | 3.22545e+11 | 3.22545e+11 | 21618279922 | 6.0744      | \n",
       "| 2017-05-08 | 600000.SH   | 浦发银行    | 14.92       | 14.78       | 14.90       | 14.51       | 14.86       | 43568576    | 638781010   | -0.06       | -0.4021     | 14.6615     | 0.2015      | 3.21248e+11 | 3.21248e+11 | 21618279922 | 6.0500      | \n",
       "| 2017-05-09 | 600000.SH   | 浦发银行    | 14.86       | 14.69       | 14.84       | 14.66       | 14.76       | 19225492    | 283864640   | -0.10       | -0.6729     | 14.765      | 0.0889      | 3.19086e+11 | 3.19086e+11 | 21618279922 | 6.0093      | \n",
       "\n",
       "\n"
      ],
      "text/plain": [
       "           ﻿代码      简称     前收盘价(元) 开盘价(元) 最高价(元) 最低价(元)\n",
       "2016-01-04 600000.SH 浦发银行 16.1356      16.1444    16.1444    15.4997   \n",
       "2016-01-05 600000.SH 浦发银行 15.7205      15.4644    15.9501    15.3672   \n",
       "2016-01-06 600000.SH 浦发银行 15.8618      15.8088    16.0208    15.6234   \n",
       "2016-01-07 600000.SH 浦发银行 15.9855      15.7205    15.8088    15.3672   \n",
       "2016-01-08 600000.SH 浦发银行 15.4644      15.6675    15.7912    14.9345   \n",
       "2016-01-11 600000.SH 浦发银行 15.4467      15.1994    15.4114    14.9786   \n",
       "2016-01-12 600000.SH 浦发银行 15.0581      15.1641    15.4732    15.0846   \n",
       "2016-01-13 600000.SH 浦发银行 15.4114      15.5174    15.8088    15.3231   \n",
       "2016-01-14 600000.SH 浦发银行 15.3584      15.0140    15.8883    14.9168   \n",
       "2016-01-15 600000.SH 浦发银行 15.8265      15.7205    16.0296    15.4732   \n",
       "2016-01-18 600000.SH 浦发银行 15.5262      15.3937    15.8883    15.2966   \n",
       "2016-01-19 600000.SH 浦发银行 15.6145      15.7029    15.7912    15.4556   \n",
       "2016-01-20 600000.SH 浦发银行 15.6940      15.5527    15.6322    15.0846   \n",
       "2016-01-21 600000.SH 浦发银行 15.2348      15.2083    15.4202    14.5724   \n",
       "2016-01-22 600000.SH 浦发银行 14.6430      14.8727    15.1111    14.5636   \n",
       "2016-01-25 600000.SH 浦发银行 15.0316      15.0140    15.1641    14.7667   \n",
       "2016-01-26 600000.SH 浦发银行 15.0405      14.9786    15.1376    14.4841   \n",
       "2016-01-27 600000.SH 浦发银行 14.7137      14.7932    14.9963    14.5812   \n",
       "2016-01-28 600000.SH 浦发银行 14.7314      14.8020    14.8550    14.0248   \n",
       "2016-01-29 600000.SH 浦发银行 14.6430      14.5901    15.0581    14.4929   \n",
       "2016-02-01 600000.SH 浦发银行 14.9257      15.0051    15.0140    14.4929   \n",
       "2016-02-02 600000.SH 浦发银行 14.5724      14.5724    14.9610    14.5371   \n",
       "2016-02-03 600000.SH 浦发银行 14.8020      14.6607    14.7137    14.5282   \n",
       "2016-02-04 600000.SH 浦发银行 14.6695      14.8727    15.2966    14.6872   \n",
       "2016-02-05 600000.SH 浦发银行 15.2789      15.2259    16.2416    15.1465   \n",
       "2016-02-15 600000.SH 浦发银行 16.2328      15.8795    16.3211    15.7205   \n",
       "2016-03-11 600000.SH 浦发银行 16.2946      15.4644    15.4821    14.6695   \n",
       "2016-03-14 600000.SH 浦发银行 14.9875      14.9080    15.4291    14.8550   \n",
       "2016-03-15 600000.SH 浦发银行 14.8903      14.9698    15.1818    14.8462   \n",
       "2016-03-16 600000.SH 浦发银行 15.0316      14.9433    15.9590    14.9345   \n",
       "...        ...       ...      ...          ...        ...        ...       \n",
       "2017-03-24 600000.SH 浦发银行 15.88        15.85      16.00      15.83     \n",
       "2017-03-27 600000.SH 浦发银行 15.96        15.97      16.13      15.90     \n",
       "2017-03-28 600000.SH 浦发银行 16.04        16.11      16.13      15.97     \n",
       "2017-03-29 600000.SH 浦发银行 16.01        16.01      16.11      15.80     \n",
       "2017-03-30 600000.SH 浦发银行 15.87        15.88      15.90      15.72     \n",
       "2017-03-31 600000.SH 浦发银行 15.81        15.78      16.05      15.77     \n",
       "2017-04-05 600000.SH 浦发银行 16.01        16.05      16.20      15.89     \n",
       "2017-04-06 600000.SH 浦发银行 16.16        16.09      16.18      16.03     \n",
       "2017-04-07 600000.SH 浦发银行 16.10        16.06      16.16      16.02     \n",
       "2017-04-10 600000.SH 浦发银行 16.10        16.12      16.12      15.94     \n",
       "2017-04-11 600000.SH 浦发银行 15.97        15.97      15.99      15.81     \n",
       "2017-04-12 600000.SH 浦发银行 15.89        15.88      15.96      15.75     \n",
       "2017-04-13 600000.SH 浦发银行 15.89        15.88      15.89      15.73     \n",
       "2017-04-14 600000.SH 浦发银行 15.75        15.76      15.78      15.42     \n",
       "2017-04-17 600000.SH 浦发银行 15.51        15.53      15.60      15.30     \n",
       "2017-04-18 600000.SH 浦发银行 15.56        15.50      15.52      15.30     \n",
       "2017-04-19 600000.SH 浦发银行 15.30        15.25      15.27      15.11     \n",
       "2017-04-20 600000.SH 浦发银行 15.11        15.12      15.14      14.90     \n",
       "2017-04-21 600000.SH 浦发银行 14.91        14.92      15.07      14.85     \n",
       "2017-04-24 600000.SH 浦发银行 15.05        15.05      15.11      14.91     \n",
       "2017-04-25 600000.SH 浦发银行 15.00        15.02      15.10      14.99     \n",
       "2017-04-26 600000.SH 浦发银行 15.05        15.06      15.11      15.00     \n",
       "2017-04-27 600000.SH 浦发银行 15.05        15.05      15.25      15.03     \n",
       "2017-04-28 600000.SH 浦发银行 15.21        15.15      15.22      15.08     \n",
       "2017-05-02 600000.SH 浦发银行 15.21        15.21      15.22      15.13     \n",
       "2017-05-03 600000.SH 浦发银行 15.16        15.16      15.16      15.05     \n",
       "2017-05-04 600000.SH 浦发银行 15.08        15.07      15.07      14.90     \n",
       "2017-05-05 600000.SH 浦发银行 14.98        14.95      14.98      14.52     \n",
       "2017-05-08 600000.SH 浦发银行 14.92        14.78      14.90      14.51     \n",
       "2017-05-09 600000.SH 浦发银行 14.86        14.69      14.84      14.66     \n",
       "           收盘价(元) 成交量(股) 成交金额(元) 涨跌(元) 涨跌幅(%) 均价(元)\n",
       "2016-01-04 15.7205    42240610   754425783    -0.4151  -2.5725   17.8602 \n",
       "2016-01-05 15.8618    58054793   1034181474    0.1413   0.8989   17.8139 \n",
       "2016-01-06 15.9855    46772653   838667398     0.1236   0.7795   17.9307 \n",
       "2016-01-07 15.4644    11350479   199502702    -0.5211  -3.2597   17.5766 \n",
       "2016-01-08 15.4467    71918296   1262105060   -0.0177  -0.1142   17.5492 \n",
       "2016-01-11 15.0581    90177135   1550155933   -0.3886  -2.5157   17.1901 \n",
       "2016-01-12 15.4114    55374454   964061502     0.3533   2.3460   17.4099 \n",
       "2016-01-13 15.3584    47869312   843717365    -0.0530  -0.3438   17.6254 \n",
       "2016-01-14 15.8265    54838833   966117848     0.4681   3.0477   17.6174 \n",
       "2016-01-15 15.5262    46723139   836146426    -0.3003  -1.8973   17.8958 \n",
       "2016-01-18 15.6145    32729006   583291559     0.0883   0.5688   17.8219 \n",
       "2016-01-19 15.6940    29807159   527753175     0.0795   0.5090   17.7056 \n",
       "2016-01-20 15.2348    35968636   623546924    -0.4593  -2.9263   17.3359 \n",
       "2016-01-21 14.6430    34197115   582845476    -0.5917  -3.8841   17.0437 \n",
       "2016-01-22 15.0316    42007318   708179241     0.3886   2.6538   16.8585 \n",
       "2016-01-25 15.0405    23558971   400445071     0.0088   0.0588   16.9976 \n",
       "2016-01-26 14.7137    38279766   643611762    -0.3268  -2.1726   16.8134 \n",
       "2016-01-27 14.7314    44291307   742640743     0.0177   0.1200   16.7672 \n",
       "2016-01-28 14.6430    38902180   643984171    -0.0883  -0.5995   16.5539 \n",
       "2016-01-29 14.9257    47429000   799493381     0.2826   1.9300   16.8566 \n",
       "2016-02-01 14.5724    29139596   485275132    -0.3533  -2.3669   16.6535 \n",
       "2016-02-02 14.8020    25380981   425396889     0.2296   1.5758   16.7605 \n",
       "2016-02-03 14.6695    27779183   459255616    -0.1325  -0.8950   16.5324 \n",
       "2016-02-04 15.2789    47162860   799283799     0.6094   4.1541   16.9473 \n",
       "2016-02-05 16.2328    78413454   1401156041    0.9538   6.2428   17.8688 \n",
       "2016-02-15 16.2946    67296317   1221398339    0.0618   0.3808   18.1496 \n",
       "2016-03-11 14.9875    98240322   1657158636   -1.3071  -8.0217   16.8684 \n",
       "2016-03-14 14.8903    56922239   973317374    -0.0971  -0.6482   17.0991 \n",
       "2016-03-15 15.0316    37540932   638223050     0.1413   0.9490   17.0007 \n",
       "2016-03-16 15.9236    108404378  1924212601    0.8920   5.9342   17.7503 \n",
       "...        ...        ...        ...          ...      ...       ...     \n",
       "2017-03-24 15.96      19902006   316984958     0.08     0.5038   15.9273 \n",
       "2017-03-27 16.04      18997369   304990151     0.08     0.5013   16.0543 \n",
       "2017-03-28 16.01      13212969   211750766    -0.03    -0.1870   16.026  \n",
       "2017-03-29 15.87      23446792   372794465    -0.14    -0.8745   15.8996 \n",
       "2017-03-30 15.81      23645144   373665115    -0.06    -0.3781   15.803  \n",
       "2017-03-31 16.01      24187120   385793421     0.20     1.2650   15.9504 \n",
       "2017-04-05 16.16      31036271   499121565     0.15     0.9369   16.0819 \n",
       "2017-04-06 16.10      22335442   359361840    -0.06    -0.3713   16.0893 \n",
       "2017-04-07 16.10      20126948   323821647     0.00     0.0000   16.089  \n",
       "2017-04-10 15.97      16154024   258662668    -0.13    -0.8075   16.0123 \n",
       "2017-04-11 15.89      18611375   295381671    -0.08    -0.5009   15.871  \n",
       "2017-04-12 15.89      22210541   352357729     0.00     0.0000   15.8644 \n",
       "2017-04-13 15.75      23426650   369388222    -0.14    -0.8811   15.7679 \n",
       "2017-04-14 15.51      40156553   625510632    -0.24    -1.5238   15.5768 \n",
       "2017-04-17 15.56      36739448   566536789     0.05     0.3224   15.4204 \n",
       "2017-04-18 15.30      22889980   351624622    -0.26    -1.6710   15.3615 \n",
       "2017-04-19 15.11      24455407   371021507    -0.19    -1.2418   15.1713 \n",
       "2017-04-20 14.91      41061406   614436383    -0.20    -1.3236   14.9638 \n",
       "2017-04-21 15.05      22688358   340453104     0.14     0.9390   15.0056 \n",
       "2017-04-24 15.00      17627803   264649933    -0.05    -0.3322   15.0132 \n",
       "2017-04-25 15.05      12975919   195296862     0.05     0.3333   15.0507 \n",
       "2017-04-26 15.05      14939871   225022668     0.00     0.0000   15.0619 \n",
       "2017-04-27 15.21      22887645   345791526     0.16     1.0631   15.1082 \n",
       "2017-04-28 15.21      15718509   238419161     0.00     0.0000   15.1681 \n",
       "2017-05-02 15.16      12607509   191225527    -0.05    -0.3287   15.1676 \n",
       "2017-05-03 15.08      14247943   215130847    -0.08    -0.5277   15.0991 \n",
       "2017-05-04 14.98      19477788   291839737    -0.10    -0.6631   14.9832 \n",
       "2017-05-05 14.92      40194577   592160198    -0.06    -0.4005   14.7323 \n",
       "2017-05-08 14.86      43568576   638781010    -0.06    -0.4021   14.6615 \n",
       "2017-05-09 14.76      19225492   283864640    -0.10    -0.6729   14.765  \n",
       "           换手率(%) A股流通市值(元) 总市值(元)  A股流通股本(股) 市盈率\n",
       "2016-01-04 0.2264    3.32032e+11     3.32032e+11 18653471415     6.5614\n",
       "2016-01-05 0.3112    3.35016e+11     3.35016e+11 18653471415     6.6204\n",
       "2016-01-06 0.2507    3.37628e+11     3.37628e+11 18653471415     6.6720\n",
       "2016-01-07 0.0608    3.26622e+11     3.26622e+11 18653471415     6.4545\n",
       "2016-01-08 0.3855    3.26249e+11     3.26249e+11 18653471415     6.4471\n",
       "2016-01-11 0.4834    3.18042e+11     3.18042e+11 18653471415     6.2849\n",
       "2016-01-12 0.2969    3.25503e+11     3.25503e+11 18653471415     6.4324\n",
       "2016-01-13 0.2566    3.24384e+11     3.24384e+11 18653471415     6.4102\n",
       "2016-01-14 0.2940    3.34270e+11     3.34270e+11 18653471415     6.6056\n",
       "2016-01-15 0.2505    3.27928e+11     3.27928e+11 18653471415     6.4803\n",
       "2016-01-18 0.1755    3.29793e+11     3.29793e+11 18653471415     6.5171\n",
       "2016-01-19 0.1598    3.31472e+11     3.31472e+11 18653471415     6.5503\n",
       "2016-01-20 0.1928    3.21772e+11     3.21772e+11 18653471415     6.3586\n",
       "2016-01-21 0.1833    3.09275e+11     3.09275e+11 18653471415     6.1117\n",
       "2016-01-22 0.2252    3.17482e+11     3.17482e+11 18653471415     6.2739\n",
       "2016-01-25 0.1263    3.17669e+11     3.17669e+11 18653471415     6.2775\n",
       "2016-01-26 0.2052    3.10767e+11     3.10767e+11 18653471415     6.1412\n",
       "2016-01-27 0.2374    3.11140e+11     3.11140e+11 18653471415     6.1485\n",
       "2016-01-28 0.2086    3.09275e+11     3.09275e+11 18653471415     6.1117\n",
       "2016-01-29 0.2543    3.15244e+11     3.15244e+11 18653471415     6.2296\n",
       "2016-02-01 0.1562    3.07782e+11     3.07782e+11 18653471415     6.0822\n",
       "2016-02-02 0.1361    3.12632e+11     3.12632e+11 18653471415     6.1780\n",
       "2016-02-03 0.1489    3.09834e+11     3.09834e+11 18653471415     6.1227\n",
       "2016-02-04 0.2528    3.22705e+11     3.22705e+11 18653471415     6.3771\n",
       "2016-02-05 0.4204    3.42851e+11     3.42851e+11 18653471415     6.7752\n",
       "2016-02-15 0.3608    3.44157e+11     3.44157e+11 18653471415     6.8010\n",
       "2016-03-11 0.5267    3.16549e+11     3.16549e+11 18653471415     6.2554\n",
       "2016-03-14 0.3052    3.14498e+11     3.14498e+11 18653471415     6.2149\n",
       "2016-03-15 0.2013    3.17482e+11     3.17482e+11 18653471415     6.2739\n",
       "2016-03-16 0.5811    3.36322e+11     3.36322e+11 18653471415     6.6462\n",
       "...        ...       ...             ...         ...             ...   \n",
       "2017-03-24 0.0921    3.45028e+11     3.45028e+11 21618279922     6.4978\n",
       "2017-03-27 0.0879    3.46757e+11     3.46757e+11 21618279922     6.5304\n",
       "2017-03-28 0.0611    3.46109e+11     3.46109e+11 21618279922     6.5182\n",
       "2017-03-29 0.1085    3.43082e+11     3.43082e+11 21618279922     6.4612\n",
       "2017-03-30 0.1094    3.41785e+11     3.41785e+11 21618279922     6.4368\n",
       "2017-03-31 0.1119    3.46109e+11     3.46109e+11 21618279922     6.5182\n",
       "2017-04-05 0.1436    3.49351e+11     3.49351e+11 21618279922     6.5792\n",
       "2017-04-06 0.1033    3.48054e+11     3.48054e+11 21618279922     6.5548\n",
       "2017-04-07 0.0931    3.48054e+11     3.48054e+11 21618279922     6.5548\n",
       "2017-04-10 0.0747    3.45244e+11     3.45244e+11 21618279922     6.5019\n",
       "2017-04-11 0.0861    3.43514e+11     3.43514e+11 21618279922     6.4693\n",
       "2017-04-12 0.1027    3.43514e+11     3.43514e+11 21618279922     6.4693\n",
       "2017-04-13 0.1084    3.40488e+11     3.40488e+11 21618279922     6.4123\n",
       "2017-04-14 0.1858    3.35300e+11     3.35300e+11 21618279922     6.3146\n",
       "2017-04-17 0.1699    3.36380e+11     3.36380e+11 21618279922     6.3350\n",
       "2017-04-18 0.1059    3.30760e+11     3.30760e+11 21618279922     6.2291\n",
       "2017-04-19 0.1131    3.26652e+11     3.26652e+11 21618279922     6.1518\n",
       "2017-04-20 0.1899    3.22329e+11     3.22329e+11 21618279922     6.0703\n",
       "2017-04-21 0.1049    3.25355e+11     3.25355e+11 21618279922     6.1273\n",
       "2017-04-24 0.0815    3.24274e+11     3.24274e+11 21618279922     6.1070\n",
       "2017-04-25 0.0600    3.25355e+11     3.25355e+11 21618279922     6.1273\n",
       "2017-04-26 0.0691    3.25355e+11     3.25355e+11 21618279922     6.1273\n",
       "2017-04-27 0.1059    3.28814e+11     3.28814e+11 21618279922     6.1925\n",
       "2017-04-28 0.0727    3.28814e+11     3.28814e+11 21618279922     6.1925\n",
       "2017-05-02 0.0583    3.27733e+11     3.27733e+11 21618279922     6.1721\n",
       "2017-05-03 0.0659    3.26004e+11     3.26004e+11 21618279922     6.1395\n",
       "2017-05-04 0.0901    3.23842e+11     3.23842e+11 21618279922     6.0988\n",
       "2017-05-05 0.1859    3.22545e+11     3.22545e+11 21618279922     6.0744\n",
       "2017-05-08 0.2015    3.21248e+11     3.21248e+11 21618279922     6.0500\n",
       "2017-05-09 0.0889    3.19086e+11     3.19086e+11 21618279922     6.0093"
      ]
     },
     "metadata": {},
     "output_type": "display_data"
    }
   ],
   "source": [
    "df %>%\n",
    "  column_to_rownames(var='日期')"
   ]
  },
  {
   "cell_type": "markdown",
   "metadata": {},
   "source": [
    "### 70.以5个数据作为一个数据滑动窗口，在这个5个数据上取均值(收盘价)"
   ]
  },
  {
   "cell_type": "code",
   "execution_count": null,
   "metadata": {
    "collapsed": true
   },
   "outputs": [],
   "source": [
    "library(RcppRoll)\n",
    "df %>%\n",
    "  transmute(avg_5 = roll_mean(`收盘价(元)`,n = 5,align=\"right\",fill = NA))"
   ]
  },
  {
   "cell_type": "markdown",
   "metadata": {},
   "source": [
    "### 71.以5个数据作为一个数据滑动窗口，计算这五个数据总和(收盘价)"
   ]
  },
  {
   "cell_type": "code",
   "execution_count": null,
   "metadata": {
    "collapsed": true
   },
   "outputs": [],
   "source": [
    "df %>%\n",
    "  transmute(sum_5 = roll_sum(`收盘价(元)`,n = 5,align=\"right\",fill = NA))"
   ]
  },
  {
   "cell_type": "markdown",
   "metadata": {},
   "source": [
    "### 72.将收盘价5日均线、20日均线与原始数据绘制在同一个图上"
   ]
  },
  {
   "cell_type": "code",
   "execution_count": null,
   "metadata": {
    "collapsed": false
   },
   "outputs": [],
   "source": [
    "df %>%\n",
    "  mutate(avg_5 = roll_mean(`收盘价(元)`,n = 5,align=\"right\",fill = NA),\n",
    "         avg_20 = roll_mean(`收盘价(元)`,n = 20,align=\"right\",fill = NA)) %>%\n",
    "  ggplot() +\n",
    "  geom_line(aes(日期,`收盘价(元)`),color = 'steelblue',size = 1.2) +\n",
    "  geom_line(aes(日期,avg_5),color = 'orange',size = 1.2) +\n",
    "  geom_line(aes(日期,avg_20),color = 'green',size = 1.2)"
   ]
  },
  {
   "cell_type": "markdown",
   "metadata": {},
   "source": [
    "### 73.按周为采样规则，取一周收盘价最大值"
   ]
  },
  {
   "cell_type": "code",
   "execution_count": 84,
   "metadata": {
    "collapsed": false
   },
   "outputs": [
    {
     "name": "stderr",
     "output_type": "stream",
     "text": [
      "------------------------------------------------------------------------------\n",
      "You have loaded plyr after dplyr - this is likely to cause problems.\n",
      "If you need functions from both plyr and dplyr, please load plyr first, then dplyr:\n",
      "library(plyr); library(dplyr)\n",
      "------------------------------------------------------------------------------\n",
      "\n",
      "Attaching package: ‘plyr’\n",
      "\n",
      "The following objects are masked from ‘package:dplyr’:\n",
      "\n",
      "    arrange, count, desc, failwith, id, mutate, rename, summarise,\n",
      "    summarize\n",
      "\n"
     ]
    },
    {
     "data": {
      "text/html": [
       "<table>\n",
       "<thead><tr><th></th><th scope=col>res_max</th></tr></thead>\n",
       "<tbody>\n",
       "\t<tr><th scope=row>2016-01-04</th><td>15.9855</td></tr>\n",
       "\t<tr><th scope=row>2016-01-11</th><td>15.8265</td></tr>\n",
       "\t<tr><th scope=row>2016-01-18</th><td>15.6940</td></tr>\n",
       "\t<tr><th scope=row>2016-01-25</th><td>15.0405</td></tr>\n",
       "\t<tr><th scope=row>2016-02-01</th><td>16.2328</td></tr>\n",
       "\t<tr><th scope=row>2016-02-15</th><td>16.2946</td></tr>\n",
       "\t<tr><th scope=row>2016-03-07</th><td>14.9875</td></tr>\n",
       "\t<tr><th scope=row>2016-03-14</th><td>15.9236</td></tr>\n",
       "\t<tr><th scope=row>2016-03-21</th><td>16.0296</td></tr>\n",
       "\t<tr><th scope=row>2016-03-28</th><td>16.0561</td></tr>\n",
       "\t<tr><th scope=row>2016-04-04</th><td>16.0473</td></tr>\n",
       "\t<tr><th scope=row>2016-04-11</th><td>15.8000</td></tr>\n",
       "\t<tr><th scope=row>2016-04-18</th><td>16.1091</td></tr>\n",
       "\t<tr><th scope=row>2016-04-25</th><td>15.8265</td></tr>\n",
       "\t<tr><th scope=row>2016-05-02</th><td>16.0031</td></tr>\n",
       "\t<tr><th scope=row>2016-05-09</th><td>15.4644</td></tr>\n",
       "\t<tr><th scope=row>2016-05-16</th><td>15.5086</td></tr>\n",
       "\t<tr><th scope=row>2016-05-23</th><td>15.6675</td></tr>\n",
       "\t<tr><th scope=row>2016-05-30</th><td>16.1533</td></tr>\n",
       "\t<tr><th scope=row>2016-06-06</th><td>15.9148</td></tr>\n",
       "\t<tr><th scope=row>2016-06-13</th><td>15.7205</td></tr>\n",
       "\t<tr><th scope=row>2016-06-20</th><td>15.8000</td></tr>\n",
       "\t<tr><th scope=row>2016-06-27</th><td>15.9200</td></tr>\n",
       "\t<tr><th scope=row>2016-07-04</th><td>15.9300</td></tr>\n",
       "\t<tr><th scope=row>2016-07-11</th><td>15.7900</td></tr>\n",
       "\t<tr><th scope=row>2016-07-18</th><td>15.8300</td></tr>\n",
       "\t<tr><th scope=row>2016-07-25</th><td>15.8700</td></tr>\n",
       "\t<tr><th scope=row>2016-08-01</th><td>15.8000</td></tr>\n",
       "\t<tr><th scope=row>2016-08-08</th><td>16.3600</td></tr>\n",
       "\t<tr><th scope=row>2016-08-15</th><td>16.9400</td></tr>\n",
       "\t<tr><th scope=row>...</th><td>...</td></tr>\n",
       "\t<tr><th scope=row>2016-10-17</th><td>16.34</td></tr>\n",
       "\t<tr><th scope=row>2016-10-24</th><td>16.47</td></tr>\n",
       "\t<tr><th scope=row>2016-10-31</th><td>16.40</td></tr>\n",
       "\t<tr><th scope=row>2016-11-07</th><td>16.59</td></tr>\n",
       "\t<tr><th scope=row>2016-11-14</th><td>16.60</td></tr>\n",
       "\t<tr><th scope=row>2016-11-21</th><td>17.09</td></tr>\n",
       "\t<tr><th scope=row>2016-11-28</th><td>17.26</td></tr>\n",
       "\t<tr><th scope=row>2016-12-05</th><td>17.34</td></tr>\n",
       "\t<tr><th scope=row>2016-12-12</th><td>17.49</td></tr>\n",
       "\t<tr><th scope=row>2016-12-19</th><td>16.52</td></tr>\n",
       "\t<tr><th scope=row>2016-12-26</th><td>16.25</td></tr>\n",
       "\t<tr><th scope=row>2017-01-02</th><td>16.33</td></tr>\n",
       "\t<tr><th scope=row>2017-01-09</th><td>16.27</td></tr>\n",
       "\t<tr><th scope=row>2017-01-16</th><td>16.60</td></tr>\n",
       "\t<tr><th scope=row>2017-01-23</th><td>16.74</td></tr>\n",
       "\t<tr><th scope=row>2017-01-30</th><td>16.63</td></tr>\n",
       "\t<tr><th scope=row>2017-02-06</th><td>16.78</td></tr>\n",
       "\t<tr><th scope=row>2017-02-13</th><td>16.85</td></tr>\n",
       "\t<tr><th scope=row>2017-02-20</th><td>16.91</td></tr>\n",
       "\t<tr><th scope=row>2017-02-27</th><td>16.59</td></tr>\n",
       "\t<tr><th scope=row>2017-03-06</th><td>16.43</td></tr>\n",
       "\t<tr><th scope=row>2017-03-13</th><td>16.34</td></tr>\n",
       "\t<tr><th scope=row>2017-03-20</th><td>16.14</td></tr>\n",
       "\t<tr><th scope=row>2017-03-27</th><td>16.04</td></tr>\n",
       "\t<tr><th scope=row>2017-04-03</th><td>16.16</td></tr>\n",
       "\t<tr><th scope=row>2017-04-10</th><td>15.97</td></tr>\n",
       "\t<tr><th scope=row>2017-04-17</th><td>15.56</td></tr>\n",
       "\t<tr><th scope=row>2017-04-24</th><td>15.21</td></tr>\n",
       "\t<tr><th scope=row>2017-05-01</th><td>15.16</td></tr>\n",
       "\t<tr><th scope=row>2017-05-08</th><td>14.86</td></tr>\n",
       "</tbody>\n",
       "</table>\n"
      ],
      "text/latex": [
       "\\begin{tabular}{r|l}\n",
       "  & res\\_max\\\\\n",
       "\\hline\n",
       "\t2016-01-04 & 15.9855\\\\\n",
       "\t2016-01-11 & 15.8265\\\\\n",
       "\t2016-01-18 & 15.6940\\\\\n",
       "\t2016-01-25 & 15.0405\\\\\n",
       "\t2016-02-01 & 16.2328\\\\\n",
       "\t2016-02-15 & 16.2946\\\\\n",
       "\t2016-03-07 & 14.9875\\\\\n",
       "\t2016-03-14 & 15.9236\\\\\n",
       "\t2016-03-21 & 16.0296\\\\\n",
       "\t2016-03-28 & 16.0561\\\\\n",
       "\t2016-04-04 & 16.0473\\\\\n",
       "\t2016-04-11 & 15.8000\\\\\n",
       "\t2016-04-18 & 16.1091\\\\\n",
       "\t2016-04-25 & 15.8265\\\\\n",
       "\t2016-05-02 & 16.0031\\\\\n",
       "\t2016-05-09 & 15.4644\\\\\n",
       "\t2016-05-16 & 15.5086\\\\\n",
       "\t2016-05-23 & 15.6675\\\\\n",
       "\t2016-05-30 & 16.1533\\\\\n",
       "\t2016-06-06 & 15.9148\\\\\n",
       "\t2016-06-13 & 15.7205\\\\\n",
       "\t2016-06-20 & 15.8000\\\\\n",
       "\t2016-06-27 & 15.9200\\\\\n",
       "\t2016-07-04 & 15.9300\\\\\n",
       "\t2016-07-11 & 15.7900\\\\\n",
       "\t2016-07-18 & 15.8300\\\\\n",
       "\t2016-07-25 & 15.8700\\\\\n",
       "\t2016-08-01 & 15.8000\\\\\n",
       "\t2016-08-08 & 16.3600\\\\\n",
       "\t2016-08-15 & 16.9400\\\\\n",
       "\t... & ...\\\\\n",
       "\t2016-10-17 & 16.34\\\\\n",
       "\t2016-10-24 & 16.47\\\\\n",
       "\t2016-10-31 & 16.40\\\\\n",
       "\t2016-11-07 & 16.59\\\\\n",
       "\t2016-11-14 & 16.60\\\\\n",
       "\t2016-11-21 & 17.09\\\\\n",
       "\t2016-11-28 & 17.26\\\\\n",
       "\t2016-12-05 & 17.34\\\\\n",
       "\t2016-12-12 & 17.49\\\\\n",
       "\t2016-12-19 & 16.52\\\\\n",
       "\t2016-12-26 & 16.25\\\\\n",
       "\t2017-01-02 & 16.33\\\\\n",
       "\t2017-01-09 & 16.27\\\\\n",
       "\t2017-01-16 & 16.60\\\\\n",
       "\t2017-01-23 & 16.74\\\\\n",
       "\t2017-01-30 & 16.63\\\\\n",
       "\t2017-02-06 & 16.78\\\\\n",
       "\t2017-02-13 & 16.85\\\\\n",
       "\t2017-02-20 & 16.91\\\\\n",
       "\t2017-02-27 & 16.59\\\\\n",
       "\t2017-03-06 & 16.43\\\\\n",
       "\t2017-03-13 & 16.34\\\\\n",
       "\t2017-03-20 & 16.14\\\\\n",
       "\t2017-03-27 & 16.04\\\\\n",
       "\t2017-04-03 & 16.16\\\\\n",
       "\t2017-04-10 & 15.97\\\\\n",
       "\t2017-04-17 & 15.56\\\\\n",
       "\t2017-04-24 & 15.21\\\\\n",
       "\t2017-05-01 & 15.16\\\\\n",
       "\t2017-05-08 & 14.86\\\\\n",
       "\\end{tabular}\n"
      ],
      "text/markdown": [
       "\n",
       "| <!--/--> | res_max | \n",
       "|---|---|---|---|---|---|---|---|---|---|---|---|---|---|---|---|---|---|---|---|---|---|---|---|---|---|---|---|---|---|---|---|---|---|---|---|---|---|---|---|---|---|---|---|---|---|---|---|---|---|---|---|---|---|---|---|---|---|---|---|---|\n",
       "| 2016-01-04 | 15.9855 | \n",
       "| 2016-01-11 | 15.8265 | \n",
       "| 2016-01-18 | 15.6940 | \n",
       "| 2016-01-25 | 15.0405 | \n",
       "| 2016-02-01 | 16.2328 | \n",
       "| 2016-02-15 | 16.2946 | \n",
       "| 2016-03-07 | 14.9875 | \n",
       "| 2016-03-14 | 15.9236 | \n",
       "| 2016-03-21 | 16.0296 | \n",
       "| 2016-03-28 | 16.0561 | \n",
       "| 2016-04-04 | 16.0473 | \n",
       "| 2016-04-11 | 15.8000 | \n",
       "| 2016-04-18 | 16.1091 | \n",
       "| 2016-04-25 | 15.8265 | \n",
       "| 2016-05-02 | 16.0031 | \n",
       "| 2016-05-09 | 15.4644 | \n",
       "| 2016-05-16 | 15.5086 | \n",
       "| 2016-05-23 | 15.6675 | \n",
       "| 2016-05-30 | 16.1533 | \n",
       "| 2016-06-06 | 15.9148 | \n",
       "| 2016-06-13 | 15.7205 | \n",
       "| 2016-06-20 | 15.8000 | \n",
       "| 2016-06-27 | 15.9200 | \n",
       "| 2016-07-04 | 15.9300 | \n",
       "| 2016-07-11 | 15.7900 | \n",
       "| 2016-07-18 | 15.8300 | \n",
       "| 2016-07-25 | 15.8700 | \n",
       "| 2016-08-01 | 15.8000 | \n",
       "| 2016-08-08 | 16.3600 | \n",
       "| 2016-08-15 | 16.9400 | \n",
       "| ... | ... | \n",
       "| 2016-10-17 | 16.34 | \n",
       "| 2016-10-24 | 16.47 | \n",
       "| 2016-10-31 | 16.40 | \n",
       "| 2016-11-07 | 16.59 | \n",
       "| 2016-11-14 | 16.60 | \n",
       "| 2016-11-21 | 17.09 | \n",
       "| 2016-11-28 | 17.26 | \n",
       "| 2016-12-05 | 17.34 | \n",
       "| 2016-12-12 | 17.49 | \n",
       "| 2016-12-19 | 16.52 | \n",
       "| 2016-12-26 | 16.25 | \n",
       "| 2017-01-02 | 16.33 | \n",
       "| 2017-01-09 | 16.27 | \n",
       "| 2017-01-16 | 16.60 | \n",
       "| 2017-01-23 | 16.74 | \n",
       "| 2017-01-30 | 16.63 | \n",
       "| 2017-02-06 | 16.78 | \n",
       "| 2017-02-13 | 16.85 | \n",
       "| 2017-02-20 | 16.91 | \n",
       "| 2017-02-27 | 16.59 | \n",
       "| 2017-03-06 | 16.43 | \n",
       "| 2017-03-13 | 16.34 | \n",
       "| 2017-03-20 | 16.14 | \n",
       "| 2017-03-27 | 16.04 | \n",
       "| 2017-04-03 | 16.16 | \n",
       "| 2017-04-10 | 15.97 | \n",
       "| 2017-04-17 | 15.56 | \n",
       "| 2017-04-24 | 15.21 | \n",
       "| 2017-05-01 | 15.16 | \n",
       "| 2017-05-08 | 14.86 | \n",
       "\n",
       "\n"
      ],
      "text/plain": [
       "           res_max\n",
       "2016-01-04 15.9855\n",
       "2016-01-11 15.8265\n",
       "2016-01-18 15.6940\n",
       "2016-01-25 15.0405\n",
       "2016-02-01 16.2328\n",
       "2016-02-15 16.2946\n",
       "2016-03-07 14.9875\n",
       "2016-03-14 15.9236\n",
       "2016-03-21 16.0296\n",
       "2016-03-28 16.0561\n",
       "2016-04-04 16.0473\n",
       "2016-04-11 15.8000\n",
       "2016-04-18 16.1091\n",
       "2016-04-25 15.8265\n",
       "2016-05-02 16.0031\n",
       "2016-05-09 15.4644\n",
       "2016-05-16 15.5086\n",
       "2016-05-23 15.6675\n",
       "2016-05-30 16.1533\n",
       "2016-06-06 15.9148\n",
       "2016-06-13 15.7205\n",
       "2016-06-20 15.8000\n",
       "2016-06-27 15.9200\n",
       "2016-07-04 15.9300\n",
       "2016-07-11 15.7900\n",
       "2016-07-18 15.8300\n",
       "2016-07-25 15.8700\n",
       "2016-08-01 15.8000\n",
       "2016-08-08 16.3600\n",
       "2016-08-15 16.9400\n",
       "...        ...    \n",
       "2016-10-17 16.34  \n",
       "2016-10-24 16.47  \n",
       "2016-10-31 16.40  \n",
       "2016-11-07 16.59  \n",
       "2016-11-14 16.60  \n",
       "2016-11-21 17.09  \n",
       "2016-11-28 17.26  \n",
       "2016-12-05 17.34  \n",
       "2016-12-12 17.49  \n",
       "2016-12-19 16.52  \n",
       "2016-12-26 16.25  \n",
       "2017-01-02 16.33  \n",
       "2017-01-09 16.27  \n",
       "2017-01-16 16.60  \n",
       "2017-01-23 16.74  \n",
       "2017-01-30 16.63  \n",
       "2017-02-06 16.78  \n",
       "2017-02-13 16.85  \n",
       "2017-02-20 16.91  \n",
       "2017-02-27 16.59  \n",
       "2017-03-06 16.43  \n",
       "2017-03-13 16.34  \n",
       "2017-03-20 16.14  \n",
       "2017-03-27 16.04  \n",
       "2017-04-03 16.16  \n",
       "2017-04-10 15.97  \n",
       "2017-04-17 15.56  \n",
       "2017-04-24 15.21  \n",
       "2017-05-01 15.16  \n",
       "2017-05-08 14.86  "
      ]
     },
     "metadata": {},
     "output_type": "display_data"
    }
   ],
   "source": [
    "library(plyr)\n",
    "\n",
    "res <- dlply(df,.(cut(日期,\"1 week\")),\"[\")\n",
    "res_max <- sapply(res,function(n)max(n$`收盘价(元)`),simplify=TRUE)\n",
    "as.data.frame(res_max)"
   ]
  },
  {
   "cell_type": "markdown",
   "metadata": {},
   "source": [
    "### 74.绘制重采样数据与原始数据"
   ]
  },
  {
   "cell_type": "code",
   "execution_count": null,
   "metadata": {
    "collapsed": false
   },
   "outputs": [],
   "source": [
    "res %>%\n",
    "  rownames_to_column('date')\n",
    "res$date <- as.Date(res$date)\n",
    "\n",
    "ggplot(df) +\n",
    "  geom_line(aes(日期,`收盘价(元)`),color = 'steelblue',size = 1.2) +\n",
    "  geom_line(data = res, aes(date,res_max),\n",
    "            color = 'orange',size = 1.2)"
   ]
  },
  {
   "cell_type": "markdown",
   "metadata": {},
   "source": [
    "### 75.将数据往后移动5天"
   ]
  },
  {
   "cell_type": "code",
   "execution_count": 86,
   "metadata": {
    "collapsed": false
   },
   "outputs": [
    {
     "data": {
      "text/html": [
       "<table>\n",
       "<thead><tr><th scope=col>﻿代码</th><th scope=col>简称</th><th scope=col>日期</th><th scope=col>前收盘价(元)</th><th scope=col>开盘价(元)</th><th scope=col>最高价(元)</th><th scope=col>最低价(元)</th><th scope=col>收盘价(元)</th><th scope=col>成交量(股)</th><th scope=col>成交金额(元)</th><th scope=col>涨跌(元)</th><th scope=col>涨跌幅(%)</th><th scope=col>均价(元)</th><th scope=col>换手率(%)</th><th scope=col>A股流通市值(元)</th><th scope=col>总市值(元)</th><th scope=col>A股流通股本(股)</th><th scope=col>市盈率</th></tr></thead>\n",
       "<tbody>\n",
       "\t<tr><td>NA        </td><td>NA        </td><td>NA        </td><td>NA        </td><td>NA        </td><td>600000.SH </td><td>浦发银行  </td><td>2016-01-04</td><td>16.1356   </td><td>16.1444   </td><td>16.1444   </td><td>15.4997   </td><td>15.7205   </td><td>42240610  </td><td>754425783 </td><td>-0.4151   </td><td>-2.5725   </td><td>17.8602   </td></tr>\n",
       "\t<tr><td>NA        </td><td>NA        </td><td>NA        </td><td>NA        </td><td>NA        </td><td>600000.SH </td><td>浦发银行  </td><td>2016-01-05</td><td>15.7205   </td><td>15.4644   </td><td>15.9501   </td><td>15.3672   </td><td>15.8618   </td><td>58054793  </td><td>1034181474</td><td> 0.1413   </td><td> 0.8989   </td><td>17.8139   </td></tr>\n",
       "\t<tr><td>NA        </td><td>NA        </td><td>NA        </td><td>NA        </td><td>NA        </td><td>600000.SH </td><td>浦发银行  </td><td>2016-01-06</td><td>15.8618   </td><td>15.8088   </td><td>16.0208   </td><td>15.6234   </td><td>15.9855   </td><td>46772653  </td><td>838667398 </td><td> 0.1236   </td><td> 0.7795   </td><td>17.9307   </td></tr>\n",
       "\t<tr><td>NA        </td><td>NA        </td><td>NA        </td><td>NA        </td><td>NA        </td><td>600000.SH </td><td>浦发银行  </td><td>2016-01-07</td><td>15.9855   </td><td>15.7205   </td><td>15.8088   </td><td>15.3672   </td><td>15.4644   </td><td>11350479  </td><td>199502702 </td><td>-0.5211   </td><td>-3.2597   </td><td>17.5766   </td></tr>\n",
       "\t<tr><td>NA        </td><td>NA        </td><td>NA        </td><td>NA        </td><td>NA        </td><td>600000.SH </td><td>浦发银行  </td><td>2016-01-08</td><td>15.4644   </td><td>15.6675   </td><td>15.7912   </td><td>14.9345   </td><td>15.4467   </td><td>71918296  </td><td>1262105060</td><td>-0.0177   </td><td>-0.1142   </td><td>17.5492   </td></tr>\n",
       "\t<tr><td>NA        </td><td>NA        </td><td>NA        </td><td>NA        </td><td>NA        </td><td>600000.SH </td><td>浦发银行  </td><td>2016-01-11</td><td>15.4467   </td><td>15.1994   </td><td>15.4114   </td><td>14.9786   </td><td>15.0581   </td><td>90177135  </td><td>1550155933</td><td>-0.3886   </td><td>-2.5157   </td><td>17.1901   </td></tr>\n",
       "\t<tr><td>NA        </td><td>NA        </td><td>NA        </td><td>NA        </td><td>NA        </td><td>600000.SH </td><td>浦发银行  </td><td>2016-01-12</td><td>15.0581   </td><td>15.1641   </td><td>15.4732   </td><td>15.0846   </td><td>15.4114   </td><td>55374454  </td><td>964061502 </td><td> 0.3533   </td><td> 2.3460   </td><td>17.4099   </td></tr>\n",
       "\t<tr><td>NA        </td><td>NA        </td><td>NA        </td><td>NA        </td><td>NA        </td><td>600000.SH </td><td>浦发银行  </td><td>2016-01-13</td><td>15.4114   </td><td>15.5174   </td><td>15.8088   </td><td>15.3231   </td><td>15.3584   </td><td>47869312  </td><td>843717365 </td><td>-0.0530   </td><td>-0.3438   </td><td>17.6254   </td></tr>\n",
       "\t<tr><td>NA        </td><td>NA        </td><td>NA        </td><td>NA        </td><td>NA        </td><td>600000.SH </td><td>浦发银行  </td><td>2016-01-14</td><td>15.3584   </td><td>15.0140   </td><td>15.8883   </td><td>14.9168   </td><td>15.8265   </td><td>54838833  </td><td>966117848 </td><td> 0.4681   </td><td> 3.0477   </td><td>17.6174   </td></tr>\n",
       "\t<tr><td>NA        </td><td>NA        </td><td>NA        </td><td>NA        </td><td>NA        </td><td>600000.SH </td><td>浦发银行  </td><td>2016-01-15</td><td>15.8265   </td><td>15.7205   </td><td>16.0296   </td><td>15.4732   </td><td>15.5262   </td><td>46723139  </td><td>836146426 </td><td>-0.3003   </td><td>-1.8973   </td><td>17.8958   </td></tr>\n",
       "\t<tr><td>NA        </td><td>NA        </td><td>NA        </td><td>NA        </td><td>NA        </td><td>600000.SH </td><td>浦发银行  </td><td>2016-01-18</td><td>15.5262   </td><td>15.3937   </td><td>15.8883   </td><td>15.2966   </td><td>15.6145   </td><td>32729006  </td><td>583291559 </td><td> 0.0883   </td><td> 0.5688   </td><td>17.8219   </td></tr>\n",
       "\t<tr><td>NA        </td><td>NA        </td><td>NA        </td><td>NA        </td><td>NA        </td><td>600000.SH </td><td>浦发银行  </td><td>2016-01-19</td><td>15.6145   </td><td>15.7029   </td><td>15.7912   </td><td>15.4556   </td><td>15.6940   </td><td>29807159  </td><td>527753175 </td><td> 0.0795   </td><td> 0.5090   </td><td>17.7056   </td></tr>\n",
       "\t<tr><td>NA        </td><td>NA        </td><td>NA        </td><td>NA        </td><td>NA        </td><td>600000.SH </td><td>浦发银行  </td><td>2016-01-20</td><td>15.6940   </td><td>15.5527   </td><td>15.6322   </td><td>15.0846   </td><td>15.2348   </td><td>35968636  </td><td>623546924 </td><td>-0.4593   </td><td>-2.9263   </td><td>17.3359   </td></tr>\n",
       "\t<tr><td>NA        </td><td>NA        </td><td>NA        </td><td>NA        </td><td>NA        </td><td>600000.SH </td><td>浦发银行  </td><td>2016-01-21</td><td>15.2348   </td><td>15.2083   </td><td>15.4202   </td><td>14.5724   </td><td>14.6430   </td><td>34197115  </td><td>582845476 </td><td>-0.5917   </td><td>-3.8841   </td><td>17.0437   </td></tr>\n",
       "\t<tr><td>NA        </td><td>NA        </td><td>NA        </td><td>NA        </td><td>NA        </td><td>600000.SH </td><td>浦发银行  </td><td>2016-01-22</td><td>14.6430   </td><td>14.8727   </td><td>15.1111   </td><td>14.5636   </td><td>15.0316   </td><td>42007318  </td><td>708179241 </td><td> 0.3886   </td><td> 2.6538   </td><td>16.8585   </td></tr>\n",
       "\t<tr><td>NA        </td><td>NA        </td><td>NA        </td><td>NA        </td><td>NA        </td><td>600000.SH </td><td>浦发银行  </td><td>2016-01-25</td><td>15.0316   </td><td>15.0140   </td><td>15.1641   </td><td>14.7667   </td><td>15.0405   </td><td>23558971  </td><td>400445071 </td><td> 0.0088   </td><td> 0.0588   </td><td>16.9976   </td></tr>\n",
       "\t<tr><td>NA        </td><td>NA        </td><td>NA        </td><td>NA        </td><td>NA        </td><td>600000.SH </td><td>浦发银行  </td><td>2016-01-26</td><td>15.0405   </td><td>14.9786   </td><td>15.1376   </td><td>14.4841   </td><td>14.7137   </td><td>38279766  </td><td>643611762 </td><td>-0.3268   </td><td>-2.1726   </td><td>16.8134   </td></tr>\n",
       "\t<tr><td>NA        </td><td>NA        </td><td>NA        </td><td>NA        </td><td>NA        </td><td>600000.SH </td><td>浦发银行  </td><td>2016-01-27</td><td>14.7137   </td><td>14.7932   </td><td>14.9963   </td><td>14.5812   </td><td>14.7314   </td><td>44291307  </td><td>742640743 </td><td> 0.0177   </td><td> 0.1200   </td><td>16.7672   </td></tr>\n",
       "\t<tr><td>NA        </td><td>NA        </td><td>NA        </td><td>NA        </td><td>NA        </td><td>600000.SH </td><td>浦发银行  </td><td>2016-01-28</td><td>14.7314   </td><td>14.8020   </td><td>14.8550   </td><td>14.0248   </td><td>14.6430   </td><td>38902180  </td><td>643984171 </td><td>-0.0883   </td><td>-0.5995   </td><td>16.5539   </td></tr>\n",
       "\t<tr><td>NA        </td><td>NA        </td><td>NA        </td><td>NA        </td><td>NA        </td><td>600000.SH </td><td>浦发银行  </td><td>2016-01-29</td><td>14.6430   </td><td>14.5901   </td><td>15.0581   </td><td>14.4929   </td><td>14.9257   </td><td>47429000  </td><td>799493381 </td><td> 0.2826   </td><td> 1.9300   </td><td>16.8566   </td></tr>\n",
       "\t<tr><td>NA        </td><td>NA        </td><td>NA        </td><td>NA        </td><td>NA        </td><td>600000.SH </td><td>浦发银行  </td><td>2016-02-01</td><td>14.9257   </td><td>15.0051   </td><td>15.0140   </td><td>14.4929   </td><td>14.5724   </td><td>29139596  </td><td>485275132 </td><td>-0.3533   </td><td>-2.3669   </td><td>16.6535   </td></tr>\n",
       "\t<tr><td>NA        </td><td>NA        </td><td>NA        </td><td>NA        </td><td>NA        </td><td>600000.SH </td><td>浦发银行  </td><td>2016-02-02</td><td>14.5724   </td><td>14.5724   </td><td>14.9610   </td><td>14.5371   </td><td>14.8020   </td><td>25380981  </td><td>425396889 </td><td> 0.2296   </td><td> 1.5758   </td><td>16.7605   </td></tr>\n",
       "\t<tr><td>NA        </td><td>NA        </td><td>NA        </td><td>NA        </td><td>NA        </td><td>600000.SH </td><td>浦发银行  </td><td>2016-02-03</td><td>14.8020   </td><td>14.6607   </td><td>14.7137   </td><td>14.5282   </td><td>14.6695   </td><td>27779183  </td><td>459255616 </td><td>-0.1325   </td><td>-0.8950   </td><td>16.5324   </td></tr>\n",
       "\t<tr><td>NA        </td><td>NA        </td><td>NA        </td><td>NA        </td><td>NA        </td><td>600000.SH </td><td>浦发银行  </td><td>2016-02-04</td><td>14.6695   </td><td>14.8727   </td><td>15.2966   </td><td>14.6872   </td><td>15.2789   </td><td>47162860  </td><td>799283799 </td><td> 0.6094   </td><td> 4.1541   </td><td>16.9473   </td></tr>\n",
       "\t<tr><td>NA        </td><td>NA        </td><td>NA        </td><td>NA        </td><td>NA        </td><td>600000.SH </td><td>浦发银行  </td><td>2016-02-05</td><td>15.2789   </td><td>15.2259   </td><td>16.2416   </td><td>15.1465   </td><td>16.2328   </td><td>78413454  </td><td>1401156041</td><td> 0.9538   </td><td> 6.2428   </td><td>17.8688   </td></tr>\n",
       "\t<tr><td>NA        </td><td>NA        </td><td>NA        </td><td>NA        </td><td>NA        </td><td>600000.SH </td><td>浦发银行  </td><td>2016-02-15</td><td>16.2328   </td><td>15.8795   </td><td>16.3211   </td><td>15.7205   </td><td>16.2946   </td><td>67296317  </td><td>1221398339</td><td> 0.0618   </td><td> 0.3808   </td><td>18.1496   </td></tr>\n",
       "\t<tr><td>NA        </td><td>NA        </td><td>NA        </td><td>NA        </td><td>NA        </td><td>600000.SH </td><td>浦发银行  </td><td>2016-03-11</td><td>16.2946   </td><td>15.4644   </td><td>15.4821   </td><td>14.6695   </td><td>14.9875   </td><td>98240322  </td><td>1657158636</td><td>-1.3071   </td><td>-8.0217   </td><td>16.8684   </td></tr>\n",
       "\t<tr><td>NA        </td><td>NA        </td><td>NA        </td><td>NA        </td><td>NA        </td><td>600000.SH </td><td>浦发银行  </td><td>2016-03-14</td><td>14.9875   </td><td>14.9080   </td><td>15.4291   </td><td>14.8550   </td><td>14.8903   </td><td>56922239  </td><td>973317374 </td><td>-0.0971   </td><td>-0.6482   </td><td>17.0991   </td></tr>\n",
       "\t<tr><td>NA        </td><td>NA        </td><td>NA        </td><td>NA        </td><td>NA        </td><td>600000.SH </td><td>浦发银行  </td><td>2016-03-15</td><td>14.8903   </td><td>14.9698   </td><td>15.1818   </td><td>14.8462   </td><td>15.0316   </td><td>37540932  </td><td>638223050 </td><td> 0.1413   </td><td> 0.9490   </td><td>17.0007   </td></tr>\n",
       "\t<tr><td>NA        </td><td>NA        </td><td>NA        </td><td>NA        </td><td>NA        </td><td>600000.SH </td><td>浦发银行  </td><td>2016-03-16</td><td>15.0316   </td><td>14.9433   </td><td>15.9590   </td><td>14.9345   </td><td>15.9236   </td><td>108404378 </td><td>1924212601</td><td> 0.8920   </td><td> 5.9342   </td><td>17.7503   </td></tr>\n",
       "\t<tr><td>...</td><td>...</td><td>...</td><td>...</td><td>...</td><td>...</td><td>...</td><td>...</td><td>...</td><td>...</td><td>...</td><td>...</td><td>...</td><td>...</td><td>...</td><td>...</td><td>...</td><td>...</td></tr>\n",
       "\t<tr><td>NA        </td><td>NA        </td><td>NA        </td><td>NA        </td><td>NA        </td><td>600000.SH </td><td>浦发银行  </td><td>2017-03-24</td><td>15.88     </td><td>15.85     </td><td>16.00     </td><td>15.83     </td><td>15.96     </td><td>19902006  </td><td>316984958 </td><td> 0.08     </td><td> 0.5038   </td><td>15.9273   </td></tr>\n",
       "\t<tr><td>NA        </td><td>NA        </td><td>NA        </td><td>NA        </td><td>NA        </td><td>600000.SH </td><td>浦发银行  </td><td>2017-03-27</td><td>15.96     </td><td>15.97     </td><td>16.13     </td><td>15.90     </td><td>16.04     </td><td>18997369  </td><td>304990151 </td><td> 0.08     </td><td> 0.5013   </td><td>16.0543   </td></tr>\n",
       "\t<tr><td>NA        </td><td>NA        </td><td>NA        </td><td>NA        </td><td>NA        </td><td>600000.SH </td><td>浦发银行  </td><td>2017-03-28</td><td>16.04     </td><td>16.11     </td><td>16.13     </td><td>15.97     </td><td>16.01     </td><td>13212969  </td><td>211750766 </td><td>-0.03     </td><td>-0.1870   </td><td>16.026    </td></tr>\n",
       "\t<tr><td>NA        </td><td>NA        </td><td>NA        </td><td>NA        </td><td>NA        </td><td>600000.SH </td><td>浦发银行  </td><td>2017-03-29</td><td>16.01     </td><td>16.01     </td><td>16.11     </td><td>15.80     </td><td>15.87     </td><td>23446792  </td><td>372794465 </td><td>-0.14     </td><td>-0.8745   </td><td>15.8996   </td></tr>\n",
       "\t<tr><td>NA        </td><td>NA        </td><td>NA        </td><td>NA        </td><td>NA        </td><td>600000.SH </td><td>浦发银行  </td><td>2017-03-30</td><td>15.87     </td><td>15.88     </td><td>15.90     </td><td>15.72     </td><td>15.81     </td><td>23645144  </td><td>373665115 </td><td>-0.06     </td><td>-0.3781   </td><td>15.803    </td></tr>\n",
       "\t<tr><td>NA        </td><td>NA        </td><td>NA        </td><td>NA        </td><td>NA        </td><td>600000.SH </td><td>浦发银行  </td><td>2017-03-31</td><td>15.81     </td><td>15.78     </td><td>16.05     </td><td>15.77     </td><td>16.01     </td><td>24187120  </td><td>385793421 </td><td> 0.20     </td><td> 1.2650   </td><td>15.9504   </td></tr>\n",
       "\t<tr><td>NA        </td><td>NA        </td><td>NA        </td><td>NA        </td><td>NA        </td><td>600000.SH </td><td>浦发银行  </td><td>2017-04-05</td><td>16.01     </td><td>16.05     </td><td>16.20     </td><td>15.89     </td><td>16.16     </td><td>31036271  </td><td>499121565 </td><td> 0.15     </td><td> 0.9369   </td><td>16.0819   </td></tr>\n",
       "\t<tr><td>NA        </td><td>NA        </td><td>NA        </td><td>NA        </td><td>NA        </td><td>600000.SH </td><td>浦发银行  </td><td>2017-04-06</td><td>16.16     </td><td>16.09     </td><td>16.18     </td><td>16.03     </td><td>16.10     </td><td>22335442  </td><td>359361840 </td><td>-0.06     </td><td>-0.3713   </td><td>16.0893   </td></tr>\n",
       "\t<tr><td>NA        </td><td>NA        </td><td>NA        </td><td>NA        </td><td>NA        </td><td>600000.SH </td><td>浦发银行  </td><td>2017-04-07</td><td>16.10     </td><td>16.06     </td><td>16.16     </td><td>16.02     </td><td>16.10     </td><td>20126948  </td><td>323821647 </td><td> 0.00     </td><td> 0.0000   </td><td>16.089    </td></tr>\n",
       "\t<tr><td>NA        </td><td>NA        </td><td>NA        </td><td>NA        </td><td>NA        </td><td>600000.SH </td><td>浦发银行  </td><td>2017-04-10</td><td>16.10     </td><td>16.12     </td><td>16.12     </td><td>15.94     </td><td>15.97     </td><td>16154024  </td><td>258662668 </td><td>-0.13     </td><td>-0.8075   </td><td>16.0123   </td></tr>\n",
       "\t<tr><td>NA        </td><td>NA        </td><td>NA        </td><td>NA        </td><td>NA        </td><td>600000.SH </td><td>浦发银行  </td><td>2017-04-11</td><td>15.97     </td><td>15.97     </td><td>15.99     </td><td>15.81     </td><td>15.89     </td><td>18611375  </td><td>295381671 </td><td>-0.08     </td><td>-0.5009   </td><td>15.871    </td></tr>\n",
       "\t<tr><td>NA        </td><td>NA        </td><td>NA        </td><td>NA        </td><td>NA        </td><td>600000.SH </td><td>浦发银行  </td><td>2017-04-12</td><td>15.89     </td><td>15.88     </td><td>15.96     </td><td>15.75     </td><td>15.89     </td><td>22210541  </td><td>352357729 </td><td> 0.00     </td><td> 0.0000   </td><td>15.8644   </td></tr>\n",
       "\t<tr><td>NA        </td><td>NA        </td><td>NA        </td><td>NA        </td><td>NA        </td><td>600000.SH </td><td>浦发银行  </td><td>2017-04-13</td><td>15.89     </td><td>15.88     </td><td>15.89     </td><td>15.73     </td><td>15.75     </td><td>23426650  </td><td>369388222 </td><td>-0.14     </td><td>-0.8811   </td><td>15.7679   </td></tr>\n",
       "\t<tr><td>NA        </td><td>NA        </td><td>NA        </td><td>NA        </td><td>NA        </td><td>600000.SH </td><td>浦发银行  </td><td>2017-04-14</td><td>15.75     </td><td>15.76     </td><td>15.78     </td><td>15.42     </td><td>15.51     </td><td>40156553  </td><td>625510632 </td><td>-0.24     </td><td>-1.5238   </td><td>15.5768   </td></tr>\n",
       "\t<tr><td>NA        </td><td>NA        </td><td>NA        </td><td>NA        </td><td>NA        </td><td>600000.SH </td><td>浦发银行  </td><td>2017-04-17</td><td>15.51     </td><td>15.53     </td><td>15.60     </td><td>15.30     </td><td>15.56     </td><td>36739448  </td><td>566536789 </td><td> 0.05     </td><td> 0.3224   </td><td>15.4204   </td></tr>\n",
       "\t<tr><td>NA        </td><td>NA        </td><td>NA        </td><td>NA        </td><td>NA        </td><td>600000.SH </td><td>浦发银行  </td><td>2017-04-18</td><td>15.56     </td><td>15.50     </td><td>15.52     </td><td>15.30     </td><td>15.30     </td><td>22889980  </td><td>351624622 </td><td>-0.26     </td><td>-1.6710   </td><td>15.3615   </td></tr>\n",
       "\t<tr><td>NA        </td><td>NA        </td><td>NA        </td><td>NA        </td><td>NA        </td><td>600000.SH </td><td>浦发银行  </td><td>2017-04-19</td><td>15.30     </td><td>15.25     </td><td>15.27     </td><td>15.11     </td><td>15.11     </td><td>24455407  </td><td>371021507 </td><td>-0.19     </td><td>-1.2418   </td><td>15.1713   </td></tr>\n",
       "\t<tr><td>NA        </td><td>NA        </td><td>NA        </td><td>NA        </td><td>NA        </td><td>600000.SH </td><td>浦发银行  </td><td>2017-04-20</td><td>15.11     </td><td>15.12     </td><td>15.14     </td><td>14.90     </td><td>14.91     </td><td>41061406  </td><td>614436383 </td><td>-0.20     </td><td>-1.3236   </td><td>14.9638   </td></tr>\n",
       "\t<tr><td>NA        </td><td>NA        </td><td>NA        </td><td>NA        </td><td>NA        </td><td>600000.SH </td><td>浦发银行  </td><td>2017-04-21</td><td>14.91     </td><td>14.92     </td><td>15.07     </td><td>14.85     </td><td>15.05     </td><td>22688358  </td><td>340453104 </td><td> 0.14     </td><td> 0.9390   </td><td>15.0056   </td></tr>\n",
       "\t<tr><td>NA        </td><td>NA        </td><td>NA        </td><td>NA        </td><td>NA        </td><td>600000.SH </td><td>浦发银行  </td><td>2017-04-24</td><td>15.05     </td><td>15.05     </td><td>15.11     </td><td>14.91     </td><td>15.00     </td><td>17627803  </td><td>264649933 </td><td>-0.05     </td><td>-0.3322   </td><td>15.0132   </td></tr>\n",
       "\t<tr><td>NA        </td><td>NA        </td><td>NA        </td><td>NA        </td><td>NA        </td><td>600000.SH </td><td>浦发银行  </td><td>2017-04-25</td><td>15.00     </td><td>15.02     </td><td>15.10     </td><td>14.99     </td><td>15.05     </td><td>12975919  </td><td>195296862 </td><td> 0.05     </td><td> 0.3333   </td><td>15.0507   </td></tr>\n",
       "\t<tr><td>NA        </td><td>NA        </td><td>NA        </td><td>NA        </td><td>NA        </td><td>600000.SH </td><td>浦发银行  </td><td>2017-04-26</td><td>15.05     </td><td>15.06     </td><td>15.11     </td><td>15.00     </td><td>15.05     </td><td>14939871  </td><td>225022668 </td><td> 0.00     </td><td> 0.0000   </td><td>15.0619   </td></tr>\n",
       "\t<tr><td>NA        </td><td>NA        </td><td>NA        </td><td>NA        </td><td>NA        </td><td>600000.SH </td><td>浦发银行  </td><td>2017-04-27</td><td>15.05     </td><td>15.05     </td><td>15.25     </td><td>15.03     </td><td>15.21     </td><td>22887645  </td><td>345791526 </td><td> 0.16     </td><td> 1.0631   </td><td>15.1082   </td></tr>\n",
       "\t<tr><td>NA        </td><td>NA        </td><td>NA        </td><td>NA        </td><td>NA        </td><td>600000.SH </td><td>浦发银行  </td><td>2017-04-28</td><td>15.21     </td><td>15.15     </td><td>15.22     </td><td>15.08     </td><td>15.21     </td><td>15718509  </td><td>238419161 </td><td> 0.00     </td><td> 0.0000   </td><td>15.1681   </td></tr>\n",
       "\t<tr><td>NA        </td><td>NA        </td><td>NA        </td><td>NA        </td><td>NA        </td><td>600000.SH </td><td>浦发银行  </td><td>2017-05-02</td><td>15.21     </td><td>15.21     </td><td>15.22     </td><td>15.13     </td><td>15.16     </td><td>12607509  </td><td>191225527 </td><td>-0.05     </td><td>-0.3287   </td><td>15.1676   </td></tr>\n",
       "\t<tr><td>NA        </td><td>NA        </td><td>NA        </td><td>NA        </td><td>NA        </td><td>600000.SH </td><td>浦发银行  </td><td>2017-05-03</td><td>15.16     </td><td>15.16     </td><td>15.16     </td><td>15.05     </td><td>15.08     </td><td>14247943  </td><td>215130847 </td><td>-0.08     </td><td>-0.5277   </td><td>15.0991   </td></tr>\n",
       "\t<tr><td>NA        </td><td>NA        </td><td>NA        </td><td>NA        </td><td>NA        </td><td>600000.SH </td><td>浦发银行  </td><td>2017-05-04</td><td>15.08     </td><td>15.07     </td><td>15.07     </td><td>14.90     </td><td>14.98     </td><td>19477788  </td><td>291839737 </td><td>-0.10     </td><td>-0.6631   </td><td>14.9832   </td></tr>\n",
       "\t<tr><td>NA        </td><td>NA        </td><td>NA        </td><td>NA        </td><td>NA        </td><td>600000.SH </td><td>浦发银行  </td><td>2017-05-05</td><td>14.98     </td><td>14.95     </td><td>14.98     </td><td>14.52     </td><td>14.92     </td><td>40194577  </td><td>592160198 </td><td>-0.06     </td><td>-0.4005   </td><td>14.7323   </td></tr>\n",
       "\t<tr><td>NA        </td><td>NA        </td><td>NA        </td><td>NA        </td><td>NA        </td><td>600000.SH </td><td>浦发银行  </td><td>2017-05-08</td><td>14.92     </td><td>14.78     </td><td>14.90     </td><td>14.51     </td><td>14.86     </td><td>43568576  </td><td>638781010 </td><td>-0.06     </td><td>-0.4021   </td><td>14.6615   </td></tr>\n",
       "\t<tr><td>NA        </td><td>NA        </td><td>NA        </td><td>NA        </td><td>NA        </td><td>600000.SH </td><td>浦发银行  </td><td>2017-05-09</td><td>14.86     </td><td>14.69     </td><td>14.84     </td><td>14.66     </td><td>14.76     </td><td>19225492  </td><td>283864640 </td><td>-0.10     </td><td>-0.6729   </td><td>14.765    </td></tr>\n",
       "</tbody>\n",
       "</table>\n"
      ],
      "text/latex": [
       "\\begin{tabular}{r|llllllllllllllllll}\n",
       " ﻿代码 & 简称 & 日期 & 前收盘价(元) & 开盘价(元) & 最高价(元) & 最低价(元) & 收盘价(元) & 成交量(股) & 成交金额(元) & 涨跌(元) & 涨跌幅(\\%) & 均价(元) & 换手率(\\%) & A股流通市值(元) & 总市值(元) & A股流通股本(股) & 市盈率\\\\\n",
       "\\hline\n",
       "\t NA         & NA         & NA         & NA         & NA         & 600000.SH  & 浦发银行   & 2016-01-04 & 16.1356    & 16.1444    & 16.1444    & 15.4997    & 15.7205    & 42240610   & 754425783  & -0.4151    & -2.5725    & 17.8602   \\\\\n",
       "\t NA         & NA         & NA         & NA         & NA         & 600000.SH  & 浦发银行   & 2016-01-05 & 15.7205    & 15.4644    & 15.9501    & 15.3672    & 15.8618    & 58054793   & 1034181474 &  0.1413    &  0.8989    & 17.8139   \\\\\n",
       "\t NA         & NA         & NA         & NA         & NA         & 600000.SH  & 浦发银行   & 2016-01-06 & 15.8618    & 15.8088    & 16.0208    & 15.6234    & 15.9855    & 46772653   & 838667398  &  0.1236    &  0.7795    & 17.9307   \\\\\n",
       "\t NA         & NA         & NA         & NA         & NA         & 600000.SH  & 浦发银行   & 2016-01-07 & 15.9855    & 15.7205    & 15.8088    & 15.3672    & 15.4644    & 11350479   & 199502702  & -0.5211    & -3.2597    & 17.5766   \\\\\n",
       "\t NA         & NA         & NA         & NA         & NA         & 600000.SH  & 浦发银行   & 2016-01-08 & 15.4644    & 15.6675    & 15.7912    & 14.9345    & 15.4467    & 71918296   & 1262105060 & -0.0177    & -0.1142    & 17.5492   \\\\\n",
       "\t NA         & NA         & NA         & NA         & NA         & 600000.SH  & 浦发银行   & 2016-01-11 & 15.4467    & 15.1994    & 15.4114    & 14.9786    & 15.0581    & 90177135   & 1550155933 & -0.3886    & -2.5157    & 17.1901   \\\\\n",
       "\t NA         & NA         & NA         & NA         & NA         & 600000.SH  & 浦发银行   & 2016-01-12 & 15.0581    & 15.1641    & 15.4732    & 15.0846    & 15.4114    & 55374454   & 964061502  &  0.3533    &  2.3460    & 17.4099   \\\\\n",
       "\t NA         & NA         & NA         & NA         & NA         & 600000.SH  & 浦发银行   & 2016-01-13 & 15.4114    & 15.5174    & 15.8088    & 15.3231    & 15.3584    & 47869312   & 843717365  & -0.0530    & -0.3438    & 17.6254   \\\\\n",
       "\t NA         & NA         & NA         & NA         & NA         & 600000.SH  & 浦发银行   & 2016-01-14 & 15.3584    & 15.0140    & 15.8883    & 14.9168    & 15.8265    & 54838833   & 966117848  &  0.4681    &  3.0477    & 17.6174   \\\\\n",
       "\t NA         & NA         & NA         & NA         & NA         & 600000.SH  & 浦发银行   & 2016-01-15 & 15.8265    & 15.7205    & 16.0296    & 15.4732    & 15.5262    & 46723139   & 836146426  & -0.3003    & -1.8973    & 17.8958   \\\\\n",
       "\t NA         & NA         & NA         & NA         & NA         & 600000.SH  & 浦发银行   & 2016-01-18 & 15.5262    & 15.3937    & 15.8883    & 15.2966    & 15.6145    & 32729006   & 583291559  &  0.0883    &  0.5688    & 17.8219   \\\\\n",
       "\t NA         & NA         & NA         & NA         & NA         & 600000.SH  & 浦发银行   & 2016-01-19 & 15.6145    & 15.7029    & 15.7912    & 15.4556    & 15.6940    & 29807159   & 527753175  &  0.0795    &  0.5090    & 17.7056   \\\\\n",
       "\t NA         & NA         & NA         & NA         & NA         & 600000.SH  & 浦发银行   & 2016-01-20 & 15.6940    & 15.5527    & 15.6322    & 15.0846    & 15.2348    & 35968636   & 623546924  & -0.4593    & -2.9263    & 17.3359   \\\\\n",
       "\t NA         & NA         & NA         & NA         & NA         & 600000.SH  & 浦发银行   & 2016-01-21 & 15.2348    & 15.2083    & 15.4202    & 14.5724    & 14.6430    & 34197115   & 582845476  & -0.5917    & -3.8841    & 17.0437   \\\\\n",
       "\t NA         & NA         & NA         & NA         & NA         & 600000.SH  & 浦发银行   & 2016-01-22 & 14.6430    & 14.8727    & 15.1111    & 14.5636    & 15.0316    & 42007318   & 708179241  &  0.3886    &  2.6538    & 16.8585   \\\\\n",
       "\t NA         & NA         & NA         & NA         & NA         & 600000.SH  & 浦发银行   & 2016-01-25 & 15.0316    & 15.0140    & 15.1641    & 14.7667    & 15.0405    & 23558971   & 400445071  &  0.0088    &  0.0588    & 16.9976   \\\\\n",
       "\t NA         & NA         & NA         & NA         & NA         & 600000.SH  & 浦发银行   & 2016-01-26 & 15.0405    & 14.9786    & 15.1376    & 14.4841    & 14.7137    & 38279766   & 643611762  & -0.3268    & -2.1726    & 16.8134   \\\\\n",
       "\t NA         & NA         & NA         & NA         & NA         & 600000.SH  & 浦发银行   & 2016-01-27 & 14.7137    & 14.7932    & 14.9963    & 14.5812    & 14.7314    & 44291307   & 742640743  &  0.0177    &  0.1200    & 16.7672   \\\\\n",
       "\t NA         & NA         & NA         & NA         & NA         & 600000.SH  & 浦发银行   & 2016-01-28 & 14.7314    & 14.8020    & 14.8550    & 14.0248    & 14.6430    & 38902180   & 643984171  & -0.0883    & -0.5995    & 16.5539   \\\\\n",
       "\t NA         & NA         & NA         & NA         & NA         & 600000.SH  & 浦发银行   & 2016-01-29 & 14.6430    & 14.5901    & 15.0581    & 14.4929    & 14.9257    & 47429000   & 799493381  &  0.2826    &  1.9300    & 16.8566   \\\\\n",
       "\t NA         & NA         & NA         & NA         & NA         & 600000.SH  & 浦发银行   & 2016-02-01 & 14.9257    & 15.0051    & 15.0140    & 14.4929    & 14.5724    & 29139596   & 485275132  & -0.3533    & -2.3669    & 16.6535   \\\\\n",
       "\t NA         & NA         & NA         & NA         & NA         & 600000.SH  & 浦发银行   & 2016-02-02 & 14.5724    & 14.5724    & 14.9610    & 14.5371    & 14.8020    & 25380981   & 425396889  &  0.2296    &  1.5758    & 16.7605   \\\\\n",
       "\t NA         & NA         & NA         & NA         & NA         & 600000.SH  & 浦发银行   & 2016-02-03 & 14.8020    & 14.6607    & 14.7137    & 14.5282    & 14.6695    & 27779183   & 459255616  & -0.1325    & -0.8950    & 16.5324   \\\\\n",
       "\t NA         & NA         & NA         & NA         & NA         & 600000.SH  & 浦发银行   & 2016-02-04 & 14.6695    & 14.8727    & 15.2966    & 14.6872    & 15.2789    & 47162860   & 799283799  &  0.6094    &  4.1541    & 16.9473   \\\\\n",
       "\t NA         & NA         & NA         & NA         & NA         & 600000.SH  & 浦发银行   & 2016-02-05 & 15.2789    & 15.2259    & 16.2416    & 15.1465    & 16.2328    & 78413454   & 1401156041 &  0.9538    &  6.2428    & 17.8688   \\\\\n",
       "\t NA         & NA         & NA         & NA         & NA         & 600000.SH  & 浦发银行   & 2016-02-15 & 16.2328    & 15.8795    & 16.3211    & 15.7205    & 16.2946    & 67296317   & 1221398339 &  0.0618    &  0.3808    & 18.1496   \\\\\n",
       "\t NA         & NA         & NA         & NA         & NA         & 600000.SH  & 浦发银行   & 2016-03-11 & 16.2946    & 15.4644    & 15.4821    & 14.6695    & 14.9875    & 98240322   & 1657158636 & -1.3071    & -8.0217    & 16.8684   \\\\\n",
       "\t NA         & NA         & NA         & NA         & NA         & 600000.SH  & 浦发银行   & 2016-03-14 & 14.9875    & 14.9080    & 15.4291    & 14.8550    & 14.8903    & 56922239   & 973317374  & -0.0971    & -0.6482    & 17.0991   \\\\\n",
       "\t NA         & NA         & NA         & NA         & NA         & 600000.SH  & 浦发银行   & 2016-03-15 & 14.8903    & 14.9698    & 15.1818    & 14.8462    & 15.0316    & 37540932   & 638223050  &  0.1413    &  0.9490    & 17.0007   \\\\\n",
       "\t NA         & NA         & NA         & NA         & NA         & 600000.SH  & 浦发银行   & 2016-03-16 & 15.0316    & 14.9433    & 15.9590    & 14.9345    & 15.9236    & 108404378  & 1924212601 &  0.8920    &  5.9342    & 17.7503   \\\\\n",
       "\t ... & ... & ... & ... & ... & ... & ... & ... & ... & ... & ... & ... & ... & ... & ... & ... & ... & ...\\\\\n",
       "\t NA         & NA         & NA         & NA         & NA         & 600000.SH  & 浦发银行   & 2017-03-24 & 15.88      & 15.85      & 16.00      & 15.83      & 15.96      & 19902006   & 316984958  &  0.08      &  0.5038    & 15.9273   \\\\\n",
       "\t NA         & NA         & NA         & NA         & NA         & 600000.SH  & 浦发银行   & 2017-03-27 & 15.96      & 15.97      & 16.13      & 15.90      & 16.04      & 18997369   & 304990151  &  0.08      &  0.5013    & 16.0543   \\\\\n",
       "\t NA         & NA         & NA         & NA         & NA         & 600000.SH  & 浦发银行   & 2017-03-28 & 16.04      & 16.11      & 16.13      & 15.97      & 16.01      & 13212969   & 211750766  & -0.03      & -0.1870    & 16.026    \\\\\n",
       "\t NA         & NA         & NA         & NA         & NA         & 600000.SH  & 浦发银行   & 2017-03-29 & 16.01      & 16.01      & 16.11      & 15.80      & 15.87      & 23446792   & 372794465  & -0.14      & -0.8745    & 15.8996   \\\\\n",
       "\t NA         & NA         & NA         & NA         & NA         & 600000.SH  & 浦发银行   & 2017-03-30 & 15.87      & 15.88      & 15.90      & 15.72      & 15.81      & 23645144   & 373665115  & -0.06      & -0.3781    & 15.803    \\\\\n",
       "\t NA         & NA         & NA         & NA         & NA         & 600000.SH  & 浦发银行   & 2017-03-31 & 15.81      & 15.78      & 16.05      & 15.77      & 16.01      & 24187120   & 385793421  &  0.20      &  1.2650    & 15.9504   \\\\\n",
       "\t NA         & NA         & NA         & NA         & NA         & 600000.SH  & 浦发银行   & 2017-04-05 & 16.01      & 16.05      & 16.20      & 15.89      & 16.16      & 31036271   & 499121565  &  0.15      &  0.9369    & 16.0819   \\\\\n",
       "\t NA         & NA         & NA         & NA         & NA         & 600000.SH  & 浦发银行   & 2017-04-06 & 16.16      & 16.09      & 16.18      & 16.03      & 16.10      & 22335442   & 359361840  & -0.06      & -0.3713    & 16.0893   \\\\\n",
       "\t NA         & NA         & NA         & NA         & NA         & 600000.SH  & 浦发银行   & 2017-04-07 & 16.10      & 16.06      & 16.16      & 16.02      & 16.10      & 20126948   & 323821647  &  0.00      &  0.0000    & 16.089    \\\\\n",
       "\t NA         & NA         & NA         & NA         & NA         & 600000.SH  & 浦发银行   & 2017-04-10 & 16.10      & 16.12      & 16.12      & 15.94      & 15.97      & 16154024   & 258662668  & -0.13      & -0.8075    & 16.0123   \\\\\n",
       "\t NA         & NA         & NA         & NA         & NA         & 600000.SH  & 浦发银行   & 2017-04-11 & 15.97      & 15.97      & 15.99      & 15.81      & 15.89      & 18611375   & 295381671  & -0.08      & -0.5009    & 15.871    \\\\\n",
       "\t NA         & NA         & NA         & NA         & NA         & 600000.SH  & 浦发银行   & 2017-04-12 & 15.89      & 15.88      & 15.96      & 15.75      & 15.89      & 22210541   & 352357729  &  0.00      &  0.0000    & 15.8644   \\\\\n",
       "\t NA         & NA         & NA         & NA         & NA         & 600000.SH  & 浦发银行   & 2017-04-13 & 15.89      & 15.88      & 15.89      & 15.73      & 15.75      & 23426650   & 369388222  & -0.14      & -0.8811    & 15.7679   \\\\\n",
       "\t NA         & NA         & NA         & NA         & NA         & 600000.SH  & 浦发银行   & 2017-04-14 & 15.75      & 15.76      & 15.78      & 15.42      & 15.51      & 40156553   & 625510632  & -0.24      & -1.5238    & 15.5768   \\\\\n",
       "\t NA         & NA         & NA         & NA         & NA         & 600000.SH  & 浦发银行   & 2017-04-17 & 15.51      & 15.53      & 15.60      & 15.30      & 15.56      & 36739448   & 566536789  &  0.05      &  0.3224    & 15.4204   \\\\\n",
       "\t NA         & NA         & NA         & NA         & NA         & 600000.SH  & 浦发银行   & 2017-04-18 & 15.56      & 15.50      & 15.52      & 15.30      & 15.30      & 22889980   & 351624622  & -0.26      & -1.6710    & 15.3615   \\\\\n",
       "\t NA         & NA         & NA         & NA         & NA         & 600000.SH  & 浦发银行   & 2017-04-19 & 15.30      & 15.25      & 15.27      & 15.11      & 15.11      & 24455407   & 371021507  & -0.19      & -1.2418    & 15.1713   \\\\\n",
       "\t NA         & NA         & NA         & NA         & NA         & 600000.SH  & 浦发银行   & 2017-04-20 & 15.11      & 15.12      & 15.14      & 14.90      & 14.91      & 41061406   & 614436383  & -0.20      & -1.3236    & 14.9638   \\\\\n",
       "\t NA         & NA         & NA         & NA         & NA         & 600000.SH  & 浦发银行   & 2017-04-21 & 14.91      & 14.92      & 15.07      & 14.85      & 15.05      & 22688358   & 340453104  &  0.14      &  0.9390    & 15.0056   \\\\\n",
       "\t NA         & NA         & NA         & NA         & NA         & 600000.SH  & 浦发银行   & 2017-04-24 & 15.05      & 15.05      & 15.11      & 14.91      & 15.00      & 17627803   & 264649933  & -0.05      & -0.3322    & 15.0132   \\\\\n",
       "\t NA         & NA         & NA         & NA         & NA         & 600000.SH  & 浦发银行   & 2017-04-25 & 15.00      & 15.02      & 15.10      & 14.99      & 15.05      & 12975919   & 195296862  &  0.05      &  0.3333    & 15.0507   \\\\\n",
       "\t NA         & NA         & NA         & NA         & NA         & 600000.SH  & 浦发银行   & 2017-04-26 & 15.05      & 15.06      & 15.11      & 15.00      & 15.05      & 14939871   & 225022668  &  0.00      &  0.0000    & 15.0619   \\\\\n",
       "\t NA         & NA         & NA         & NA         & NA         & 600000.SH  & 浦发银行   & 2017-04-27 & 15.05      & 15.05      & 15.25      & 15.03      & 15.21      & 22887645   & 345791526  &  0.16      &  1.0631    & 15.1082   \\\\\n",
       "\t NA         & NA         & NA         & NA         & NA         & 600000.SH  & 浦发银行   & 2017-04-28 & 15.21      & 15.15      & 15.22      & 15.08      & 15.21      & 15718509   & 238419161  &  0.00      &  0.0000    & 15.1681   \\\\\n",
       "\t NA         & NA         & NA         & NA         & NA         & 600000.SH  & 浦发银行   & 2017-05-02 & 15.21      & 15.21      & 15.22      & 15.13      & 15.16      & 12607509   & 191225527  & -0.05      & -0.3287    & 15.1676   \\\\\n",
       "\t NA         & NA         & NA         & NA         & NA         & 600000.SH  & 浦发银行   & 2017-05-03 & 15.16      & 15.16      & 15.16      & 15.05      & 15.08      & 14247943   & 215130847  & -0.08      & -0.5277    & 15.0991   \\\\\n",
       "\t NA         & NA         & NA         & NA         & NA         & 600000.SH  & 浦发银行   & 2017-05-04 & 15.08      & 15.07      & 15.07      & 14.90      & 14.98      & 19477788   & 291839737  & -0.10      & -0.6631    & 14.9832   \\\\\n",
       "\t NA         & NA         & NA         & NA         & NA         & 600000.SH  & 浦发银行   & 2017-05-05 & 14.98      & 14.95      & 14.98      & 14.52      & 14.92      & 40194577   & 592160198  & -0.06      & -0.4005    & 14.7323   \\\\\n",
       "\t NA         & NA         & NA         & NA         & NA         & 600000.SH  & 浦发银行   & 2017-05-08 & 14.92      & 14.78      & 14.90      & 14.51      & 14.86      & 43568576   & 638781010  & -0.06      & -0.4021    & 14.6615   \\\\\n",
       "\t NA         & NA         & NA         & NA         & NA         & 600000.SH  & 浦发银行   & 2017-05-09 & 14.86      & 14.69      & 14.84      & 14.66      & 14.76      & 19225492   & 283864640  & -0.10      & -0.6729    & 14.765    \\\\\n",
       "\\end{tabular}\n"
      ],
      "text/markdown": [
       "\n",
       "﻿代码 | 简称 | 日期 | 前收盘价(元) | 开盘价(元) | 最高价(元) | 最低价(元) | 收盘价(元) | 成交量(股) | 成交金额(元) | 涨跌(元) | 涨跌幅(%) | 均价(元) | 换手率(%) | A股流通市值(元) | 总市值(元) | A股流通股本(股) | 市盈率 | \n",
       "|---|---|---|---|---|---|---|---|---|---|---|---|---|---|---|---|---|---|---|---|---|---|---|---|---|---|---|---|---|---|---|---|---|---|---|---|---|---|---|---|---|---|---|---|---|---|---|---|---|---|---|---|---|---|---|---|---|---|---|---|---|\n",
       "| NA         | NA         | NA         | NA         | NA         | 600000.SH  | 浦发银行   | 2016-01-04 | 16.1356    | 16.1444    | 16.1444    | 15.4997    | 15.7205    | 42240610   | 754425783  | -0.4151    | -2.5725    | 17.8602    | \n",
       "| NA         | NA         | NA         | NA         | NA         | 600000.SH  | 浦发银行   | 2016-01-05 | 15.7205    | 15.4644    | 15.9501    | 15.3672    | 15.8618    | 58054793   | 1034181474 |  0.1413    |  0.8989    | 17.8139    | \n",
       "| NA         | NA         | NA         | NA         | NA         | 600000.SH  | 浦发银行   | 2016-01-06 | 15.8618    | 15.8088    | 16.0208    | 15.6234    | 15.9855    | 46772653   | 838667398  |  0.1236    |  0.7795    | 17.9307    | \n",
       "| NA         | NA         | NA         | NA         | NA         | 600000.SH  | 浦发银行   | 2016-01-07 | 15.9855    | 15.7205    | 15.8088    | 15.3672    | 15.4644    | 11350479   | 199502702  | -0.5211    | -3.2597    | 17.5766    | \n",
       "| NA         | NA         | NA         | NA         | NA         | 600000.SH  | 浦发银行   | 2016-01-08 | 15.4644    | 15.6675    | 15.7912    | 14.9345    | 15.4467    | 71918296   | 1262105060 | -0.0177    | -0.1142    | 17.5492    | \n",
       "| NA         | NA         | NA         | NA         | NA         | 600000.SH  | 浦发银行   | 2016-01-11 | 15.4467    | 15.1994    | 15.4114    | 14.9786    | 15.0581    | 90177135   | 1550155933 | -0.3886    | -2.5157    | 17.1901    | \n",
       "| NA         | NA         | NA         | NA         | NA         | 600000.SH  | 浦发银行   | 2016-01-12 | 15.0581    | 15.1641    | 15.4732    | 15.0846    | 15.4114    | 55374454   | 964061502  |  0.3533    |  2.3460    | 17.4099    | \n",
       "| NA         | NA         | NA         | NA         | NA         | 600000.SH  | 浦发银行   | 2016-01-13 | 15.4114    | 15.5174    | 15.8088    | 15.3231    | 15.3584    | 47869312   | 843717365  | -0.0530    | -0.3438    | 17.6254    | \n",
       "| NA         | NA         | NA         | NA         | NA         | 600000.SH  | 浦发银行   | 2016-01-14 | 15.3584    | 15.0140    | 15.8883    | 14.9168    | 15.8265    | 54838833   | 966117848  |  0.4681    |  3.0477    | 17.6174    | \n",
       "| NA         | NA         | NA         | NA         | NA         | 600000.SH  | 浦发银行   | 2016-01-15 | 15.8265    | 15.7205    | 16.0296    | 15.4732    | 15.5262    | 46723139   | 836146426  | -0.3003    | -1.8973    | 17.8958    | \n",
       "| NA         | NA         | NA         | NA         | NA         | 600000.SH  | 浦发银行   | 2016-01-18 | 15.5262    | 15.3937    | 15.8883    | 15.2966    | 15.6145    | 32729006   | 583291559  |  0.0883    |  0.5688    | 17.8219    | \n",
       "| NA         | NA         | NA         | NA         | NA         | 600000.SH  | 浦发银行   | 2016-01-19 | 15.6145    | 15.7029    | 15.7912    | 15.4556    | 15.6940    | 29807159   | 527753175  |  0.0795    |  0.5090    | 17.7056    | \n",
       "| NA         | NA         | NA         | NA         | NA         | 600000.SH  | 浦发银行   | 2016-01-20 | 15.6940    | 15.5527    | 15.6322    | 15.0846    | 15.2348    | 35968636   | 623546924  | -0.4593    | -2.9263    | 17.3359    | \n",
       "| NA         | NA         | NA         | NA         | NA         | 600000.SH  | 浦发银行   | 2016-01-21 | 15.2348    | 15.2083    | 15.4202    | 14.5724    | 14.6430    | 34197115   | 582845476  | -0.5917    | -3.8841    | 17.0437    | \n",
       "| NA         | NA         | NA         | NA         | NA         | 600000.SH  | 浦发银行   | 2016-01-22 | 14.6430    | 14.8727    | 15.1111    | 14.5636    | 15.0316    | 42007318   | 708179241  |  0.3886    |  2.6538    | 16.8585    | \n",
       "| NA         | NA         | NA         | NA         | NA         | 600000.SH  | 浦发银行   | 2016-01-25 | 15.0316    | 15.0140    | 15.1641    | 14.7667    | 15.0405    | 23558971   | 400445071  |  0.0088    |  0.0588    | 16.9976    | \n",
       "| NA         | NA         | NA         | NA         | NA         | 600000.SH  | 浦发银行   | 2016-01-26 | 15.0405    | 14.9786    | 15.1376    | 14.4841    | 14.7137    | 38279766   | 643611762  | -0.3268    | -2.1726    | 16.8134    | \n",
       "| NA         | NA         | NA         | NA         | NA         | 600000.SH  | 浦发银行   | 2016-01-27 | 14.7137    | 14.7932    | 14.9963    | 14.5812    | 14.7314    | 44291307   | 742640743  |  0.0177    |  0.1200    | 16.7672    | \n",
       "| NA         | NA         | NA         | NA         | NA         | 600000.SH  | 浦发银行   | 2016-01-28 | 14.7314    | 14.8020    | 14.8550    | 14.0248    | 14.6430    | 38902180   | 643984171  | -0.0883    | -0.5995    | 16.5539    | \n",
       "| NA         | NA         | NA         | NA         | NA         | 600000.SH  | 浦发银行   | 2016-01-29 | 14.6430    | 14.5901    | 15.0581    | 14.4929    | 14.9257    | 47429000   | 799493381  |  0.2826    |  1.9300    | 16.8566    | \n",
       "| NA         | NA         | NA         | NA         | NA         | 600000.SH  | 浦发银行   | 2016-02-01 | 14.9257    | 15.0051    | 15.0140    | 14.4929    | 14.5724    | 29139596   | 485275132  | -0.3533    | -2.3669    | 16.6535    | \n",
       "| NA         | NA         | NA         | NA         | NA         | 600000.SH  | 浦发银行   | 2016-02-02 | 14.5724    | 14.5724    | 14.9610    | 14.5371    | 14.8020    | 25380981   | 425396889  |  0.2296    |  1.5758    | 16.7605    | \n",
       "| NA         | NA         | NA         | NA         | NA         | 600000.SH  | 浦发银行   | 2016-02-03 | 14.8020    | 14.6607    | 14.7137    | 14.5282    | 14.6695    | 27779183   | 459255616  | -0.1325    | -0.8950    | 16.5324    | \n",
       "| NA         | NA         | NA         | NA         | NA         | 600000.SH  | 浦发银行   | 2016-02-04 | 14.6695    | 14.8727    | 15.2966    | 14.6872    | 15.2789    | 47162860   | 799283799  |  0.6094    |  4.1541    | 16.9473    | \n",
       "| NA         | NA         | NA         | NA         | NA         | 600000.SH  | 浦发银行   | 2016-02-05 | 15.2789    | 15.2259    | 16.2416    | 15.1465    | 16.2328    | 78413454   | 1401156041 |  0.9538    |  6.2428    | 17.8688    | \n",
       "| NA         | NA         | NA         | NA         | NA         | 600000.SH  | 浦发银行   | 2016-02-15 | 16.2328    | 15.8795    | 16.3211    | 15.7205    | 16.2946    | 67296317   | 1221398339 |  0.0618    |  0.3808    | 18.1496    | \n",
       "| NA         | NA         | NA         | NA         | NA         | 600000.SH  | 浦发银行   | 2016-03-11 | 16.2946    | 15.4644    | 15.4821    | 14.6695    | 14.9875    | 98240322   | 1657158636 | -1.3071    | -8.0217    | 16.8684    | \n",
       "| NA         | NA         | NA         | NA         | NA         | 600000.SH  | 浦发银行   | 2016-03-14 | 14.9875    | 14.9080    | 15.4291    | 14.8550    | 14.8903    | 56922239   | 973317374  | -0.0971    | -0.6482    | 17.0991    | \n",
       "| NA         | NA         | NA         | NA         | NA         | 600000.SH  | 浦发银行   | 2016-03-15 | 14.8903    | 14.9698    | 15.1818    | 14.8462    | 15.0316    | 37540932   | 638223050  |  0.1413    |  0.9490    | 17.0007    | \n",
       "| NA         | NA         | NA         | NA         | NA         | 600000.SH  | 浦发银行   | 2016-03-16 | 15.0316    | 14.9433    | 15.9590    | 14.9345    | 15.9236    | 108404378  | 1924212601 |  0.8920    |  5.9342    | 17.7503    | \n",
       "| ... | ... | ... | ... | ... | ... | ... | ... | ... | ... | ... | ... | ... | ... | ... | ... | ... | ... | \n",
       "| NA         | NA         | NA         | NA         | NA         | 600000.SH  | 浦发银行   | 2017-03-24 | 15.88      | 15.85      | 16.00      | 15.83      | 15.96      | 19902006   | 316984958  |  0.08      |  0.5038    | 15.9273    | \n",
       "| NA         | NA         | NA         | NA         | NA         | 600000.SH  | 浦发银行   | 2017-03-27 | 15.96      | 15.97      | 16.13      | 15.90      | 16.04      | 18997369   | 304990151  |  0.08      |  0.5013    | 16.0543    | \n",
       "| NA         | NA         | NA         | NA         | NA         | 600000.SH  | 浦发银行   | 2017-03-28 | 16.04      | 16.11      | 16.13      | 15.97      | 16.01      | 13212969   | 211750766  | -0.03      | -0.1870    | 16.026     | \n",
       "| NA         | NA         | NA         | NA         | NA         | 600000.SH  | 浦发银行   | 2017-03-29 | 16.01      | 16.01      | 16.11      | 15.80      | 15.87      | 23446792   | 372794465  | -0.14      | -0.8745    | 15.8996    | \n",
       "| NA         | NA         | NA         | NA         | NA         | 600000.SH  | 浦发银行   | 2017-03-30 | 15.87      | 15.88      | 15.90      | 15.72      | 15.81      | 23645144   | 373665115  | -0.06      | -0.3781    | 15.803     | \n",
       "| NA         | NA         | NA         | NA         | NA         | 600000.SH  | 浦发银行   | 2017-03-31 | 15.81      | 15.78      | 16.05      | 15.77      | 16.01      | 24187120   | 385793421  |  0.20      |  1.2650    | 15.9504    | \n",
       "| NA         | NA         | NA         | NA         | NA         | 600000.SH  | 浦发银行   | 2017-04-05 | 16.01      | 16.05      | 16.20      | 15.89      | 16.16      | 31036271   | 499121565  |  0.15      |  0.9369    | 16.0819    | \n",
       "| NA         | NA         | NA         | NA         | NA         | 600000.SH  | 浦发银行   | 2017-04-06 | 16.16      | 16.09      | 16.18      | 16.03      | 16.10      | 22335442   | 359361840  | -0.06      | -0.3713    | 16.0893    | \n",
       "| NA         | NA         | NA         | NA         | NA         | 600000.SH  | 浦发银行   | 2017-04-07 | 16.10      | 16.06      | 16.16      | 16.02      | 16.10      | 20126948   | 323821647  |  0.00      |  0.0000    | 16.089     | \n",
       "| NA         | NA         | NA         | NA         | NA         | 600000.SH  | 浦发银行   | 2017-04-10 | 16.10      | 16.12      | 16.12      | 15.94      | 15.97      | 16154024   | 258662668  | -0.13      | -0.8075    | 16.0123    | \n",
       "| NA         | NA         | NA         | NA         | NA         | 600000.SH  | 浦发银行   | 2017-04-11 | 15.97      | 15.97      | 15.99      | 15.81      | 15.89      | 18611375   | 295381671  | -0.08      | -0.5009    | 15.871     | \n",
       "| NA         | NA         | NA         | NA         | NA         | 600000.SH  | 浦发银行   | 2017-04-12 | 15.89      | 15.88      | 15.96      | 15.75      | 15.89      | 22210541   | 352357729  |  0.00      |  0.0000    | 15.8644    | \n",
       "| NA         | NA         | NA         | NA         | NA         | 600000.SH  | 浦发银行   | 2017-04-13 | 15.89      | 15.88      | 15.89      | 15.73      | 15.75      | 23426650   | 369388222  | -0.14      | -0.8811    | 15.7679    | \n",
       "| NA         | NA         | NA         | NA         | NA         | 600000.SH  | 浦发银行   | 2017-04-14 | 15.75      | 15.76      | 15.78      | 15.42      | 15.51      | 40156553   | 625510632  | -0.24      | -1.5238    | 15.5768    | \n",
       "| NA         | NA         | NA         | NA         | NA         | 600000.SH  | 浦发银行   | 2017-04-17 | 15.51      | 15.53      | 15.60      | 15.30      | 15.56      | 36739448   | 566536789  |  0.05      |  0.3224    | 15.4204    | \n",
       "| NA         | NA         | NA         | NA         | NA         | 600000.SH  | 浦发银行   | 2017-04-18 | 15.56      | 15.50      | 15.52      | 15.30      | 15.30      | 22889980   | 351624622  | -0.26      | -1.6710    | 15.3615    | \n",
       "| NA         | NA         | NA         | NA         | NA         | 600000.SH  | 浦发银行   | 2017-04-19 | 15.30      | 15.25      | 15.27      | 15.11      | 15.11      | 24455407   | 371021507  | -0.19      | -1.2418    | 15.1713    | \n",
       "| NA         | NA         | NA         | NA         | NA         | 600000.SH  | 浦发银行   | 2017-04-20 | 15.11      | 15.12      | 15.14      | 14.90      | 14.91      | 41061406   | 614436383  | -0.20      | -1.3236    | 14.9638    | \n",
       "| NA         | NA         | NA         | NA         | NA         | 600000.SH  | 浦发银行   | 2017-04-21 | 14.91      | 14.92      | 15.07      | 14.85      | 15.05      | 22688358   | 340453104  |  0.14      |  0.9390    | 15.0056    | \n",
       "| NA         | NA         | NA         | NA         | NA         | 600000.SH  | 浦发银行   | 2017-04-24 | 15.05      | 15.05      | 15.11      | 14.91      | 15.00      | 17627803   | 264649933  | -0.05      | -0.3322    | 15.0132    | \n",
       "| NA         | NA         | NA         | NA         | NA         | 600000.SH  | 浦发银行   | 2017-04-25 | 15.00      | 15.02      | 15.10      | 14.99      | 15.05      | 12975919   | 195296862  |  0.05      |  0.3333    | 15.0507    | \n",
       "| NA         | NA         | NA         | NA         | NA         | 600000.SH  | 浦发银行   | 2017-04-26 | 15.05      | 15.06      | 15.11      | 15.00      | 15.05      | 14939871   | 225022668  |  0.00      |  0.0000    | 15.0619    | \n",
       "| NA         | NA         | NA         | NA         | NA         | 600000.SH  | 浦发银行   | 2017-04-27 | 15.05      | 15.05      | 15.25      | 15.03      | 15.21      | 22887645   | 345791526  |  0.16      |  1.0631    | 15.1082    | \n",
       "| NA         | NA         | NA         | NA         | NA         | 600000.SH  | 浦发银行   | 2017-04-28 | 15.21      | 15.15      | 15.22      | 15.08      | 15.21      | 15718509   | 238419161  |  0.00      |  0.0000    | 15.1681    | \n",
       "| NA         | NA         | NA         | NA         | NA         | 600000.SH  | 浦发银行   | 2017-05-02 | 15.21      | 15.21      | 15.22      | 15.13      | 15.16      | 12607509   | 191225527  | -0.05      | -0.3287    | 15.1676    | \n",
       "| NA         | NA         | NA         | NA         | NA         | 600000.SH  | 浦发银行   | 2017-05-03 | 15.16      | 15.16      | 15.16      | 15.05      | 15.08      | 14247943   | 215130847  | -0.08      | -0.5277    | 15.0991    | \n",
       "| NA         | NA         | NA         | NA         | NA         | 600000.SH  | 浦发银行   | 2017-05-04 | 15.08      | 15.07      | 15.07      | 14.90      | 14.98      | 19477788   | 291839737  | -0.10      | -0.6631    | 14.9832    | \n",
       "| NA         | NA         | NA         | NA         | NA         | 600000.SH  | 浦发银行   | 2017-05-05 | 14.98      | 14.95      | 14.98      | 14.52      | 14.92      | 40194577   | 592160198  | -0.06      | -0.4005    | 14.7323    | \n",
       "| NA         | NA         | NA         | NA         | NA         | 600000.SH  | 浦发银行   | 2017-05-08 | 14.92      | 14.78      | 14.90      | 14.51      | 14.86      | 43568576   | 638781010  | -0.06      | -0.4021    | 14.6615    | \n",
       "| NA         | NA         | NA         | NA         | NA         | 600000.SH  | 浦发银行   | 2017-05-09 | 14.86      | 14.69      | 14.84      | 14.66      | 14.76      | 19225492   | 283864640  | -0.10      | -0.6729    | 14.765     | \n",
       "\n",
       "\n"
      ],
      "text/plain": [
       "    ﻿代码 简称 日期 前收盘价(元) 开盘价(元) 最高价(元) 最低价(元) 收盘价(元)\n",
       "1   NA   NA   NA   NA           NA         600000.SH  浦发银行   2016-01-04\n",
       "2   NA   NA   NA   NA           NA         600000.SH  浦发银行   2016-01-05\n",
       "3   NA   NA   NA   NA           NA         600000.SH  浦发银行   2016-01-06\n",
       "4   NA   NA   NA   NA           NA         600000.SH  浦发银行   2016-01-07\n",
       "5   NA   NA   NA   NA           NA         600000.SH  浦发银行   2016-01-08\n",
       "6   NA   NA   NA   NA           NA         600000.SH  浦发银行   2016-01-11\n",
       "7   NA   NA   NA   NA           NA         600000.SH  浦发银行   2016-01-12\n",
       "8   NA   NA   NA   NA           NA         600000.SH  浦发银行   2016-01-13\n",
       "9   NA   NA   NA   NA           NA         600000.SH  浦发银行   2016-01-14\n",
       "10  NA   NA   NA   NA           NA         600000.SH  浦发银行   2016-01-15\n",
       "11  NA   NA   NA   NA           NA         600000.SH  浦发银行   2016-01-18\n",
       "12  NA   NA   NA   NA           NA         600000.SH  浦发银行   2016-01-19\n",
       "13  NA   NA   NA   NA           NA         600000.SH  浦发银行   2016-01-20\n",
       "14  NA   NA   NA   NA           NA         600000.SH  浦发银行   2016-01-21\n",
       "15  NA   NA   NA   NA           NA         600000.SH  浦发银行   2016-01-22\n",
       "16  NA   NA   NA   NA           NA         600000.SH  浦发银行   2016-01-25\n",
       "17  NA   NA   NA   NA           NA         600000.SH  浦发银行   2016-01-26\n",
       "18  NA   NA   NA   NA           NA         600000.SH  浦发银行   2016-01-27\n",
       "19  NA   NA   NA   NA           NA         600000.SH  浦发银行   2016-01-28\n",
       "20  NA   NA   NA   NA           NA         600000.SH  浦发银行   2016-01-29\n",
       "21  NA   NA   NA   NA           NA         600000.SH  浦发银行   2016-02-01\n",
       "22  NA   NA   NA   NA           NA         600000.SH  浦发银行   2016-02-02\n",
       "23  NA   NA   NA   NA           NA         600000.SH  浦发银行   2016-02-03\n",
       "24  NA   NA   NA   NA           NA         600000.SH  浦发银行   2016-02-04\n",
       "25  NA   NA   NA   NA           NA         600000.SH  浦发银行   2016-02-05\n",
       "26  NA   NA   NA   NA           NA         600000.SH  浦发银行   2016-02-15\n",
       "27  NA   NA   NA   NA           NA         600000.SH  浦发银行   2016-03-11\n",
       "28  NA   NA   NA   NA           NA         600000.SH  浦发银行   2016-03-14\n",
       "29  NA   NA   NA   NA           NA         600000.SH  浦发银行   2016-03-15\n",
       "30  NA   NA   NA   NA           NA         600000.SH  浦发银行   2016-03-16\n",
       "... ...  ...  ...  ...          ...        ...        ...        ...       \n",
       "280 NA   NA   NA   NA           NA         600000.SH  浦发银行   2017-03-24\n",
       "281 NA   NA   NA   NA           NA         600000.SH  浦发银行   2017-03-27\n",
       "282 NA   NA   NA   NA           NA         600000.SH  浦发银行   2017-03-28\n",
       "283 NA   NA   NA   NA           NA         600000.SH  浦发银行   2017-03-29\n",
       "284 NA   NA   NA   NA           NA         600000.SH  浦发银行   2017-03-30\n",
       "285 NA   NA   NA   NA           NA         600000.SH  浦发银行   2017-03-31\n",
       "286 NA   NA   NA   NA           NA         600000.SH  浦发银行   2017-04-05\n",
       "287 NA   NA   NA   NA           NA         600000.SH  浦发银行   2017-04-06\n",
       "288 NA   NA   NA   NA           NA         600000.SH  浦发银行   2017-04-07\n",
       "289 NA   NA   NA   NA           NA         600000.SH  浦发银行   2017-04-10\n",
       "290 NA   NA   NA   NA           NA         600000.SH  浦发银行   2017-04-11\n",
       "291 NA   NA   NA   NA           NA         600000.SH  浦发银行   2017-04-12\n",
       "292 NA   NA   NA   NA           NA         600000.SH  浦发银行   2017-04-13\n",
       "293 NA   NA   NA   NA           NA         600000.SH  浦发银行   2017-04-14\n",
       "294 NA   NA   NA   NA           NA         600000.SH  浦发银行   2017-04-17\n",
       "295 NA   NA   NA   NA           NA         600000.SH  浦发银行   2017-04-18\n",
       "296 NA   NA   NA   NA           NA         600000.SH  浦发银行   2017-04-19\n",
       "297 NA   NA   NA   NA           NA         600000.SH  浦发银行   2017-04-20\n",
       "298 NA   NA   NA   NA           NA         600000.SH  浦发银行   2017-04-21\n",
       "299 NA   NA   NA   NA           NA         600000.SH  浦发银行   2017-04-24\n",
       "300 NA   NA   NA   NA           NA         600000.SH  浦发银行   2017-04-25\n",
       "301 NA   NA   NA   NA           NA         600000.SH  浦发银行   2017-04-26\n",
       "302 NA   NA   NA   NA           NA         600000.SH  浦发银行   2017-04-27\n",
       "303 NA   NA   NA   NA           NA         600000.SH  浦发银行   2017-04-28\n",
       "304 NA   NA   NA   NA           NA         600000.SH  浦发银行   2017-05-02\n",
       "305 NA   NA   NA   NA           NA         600000.SH  浦发银行   2017-05-03\n",
       "306 NA   NA   NA   NA           NA         600000.SH  浦发银行   2017-05-04\n",
       "307 NA   NA   NA   NA           NA         600000.SH  浦发银行   2017-05-05\n",
       "308 NA   NA   NA   NA           NA         600000.SH  浦发银行   2017-05-08\n",
       "309 NA   NA   NA   NA           NA         600000.SH  浦发银行   2017-05-09\n",
       "    成交量(股) 成交金额(元) 涨跌(元) 涨跌幅(%) 均价(元) 换手率(%)\n",
       "1   16.1356    16.1444      16.1444  15.4997   15.7205  42240610 \n",
       "2   15.7205    15.4644      15.9501  15.3672   15.8618  58054793 \n",
       "3   15.8618    15.8088      16.0208  15.6234   15.9855  46772653 \n",
       "4   15.9855    15.7205      15.8088  15.3672   15.4644  11350479 \n",
       "5   15.4644    15.6675      15.7912  14.9345   15.4467  71918296 \n",
       "6   15.4467    15.1994      15.4114  14.9786   15.0581  90177135 \n",
       "7   15.0581    15.1641      15.4732  15.0846   15.4114  55374454 \n",
       "8   15.4114    15.5174      15.8088  15.3231   15.3584  47869312 \n",
       "9   15.3584    15.0140      15.8883  14.9168   15.8265  54838833 \n",
       "10  15.8265    15.7205      16.0296  15.4732   15.5262  46723139 \n",
       "11  15.5262    15.3937      15.8883  15.2966   15.6145  32729006 \n",
       "12  15.6145    15.7029      15.7912  15.4556   15.6940  29807159 \n",
       "13  15.6940    15.5527      15.6322  15.0846   15.2348  35968636 \n",
       "14  15.2348    15.2083      15.4202  14.5724   14.6430  34197115 \n",
       "15  14.6430    14.8727      15.1111  14.5636   15.0316  42007318 \n",
       "16  15.0316    15.0140      15.1641  14.7667   15.0405  23558971 \n",
       "17  15.0405    14.9786      15.1376  14.4841   14.7137  38279766 \n",
       "18  14.7137    14.7932      14.9963  14.5812   14.7314  44291307 \n",
       "19  14.7314    14.8020      14.8550  14.0248   14.6430  38902180 \n",
       "20  14.6430    14.5901      15.0581  14.4929   14.9257  47429000 \n",
       "21  14.9257    15.0051      15.0140  14.4929   14.5724  29139596 \n",
       "22  14.5724    14.5724      14.9610  14.5371   14.8020  25380981 \n",
       "23  14.8020    14.6607      14.7137  14.5282   14.6695  27779183 \n",
       "24  14.6695    14.8727      15.2966  14.6872   15.2789  47162860 \n",
       "25  15.2789    15.2259      16.2416  15.1465   16.2328  78413454 \n",
       "26  16.2328    15.8795      16.3211  15.7205   16.2946  67296317 \n",
       "27  16.2946    15.4644      15.4821  14.6695   14.9875  98240322 \n",
       "28  14.9875    14.9080      15.4291  14.8550   14.8903  56922239 \n",
       "29  14.8903    14.9698      15.1818  14.8462   15.0316  37540932 \n",
       "30  15.0316    14.9433      15.9590  14.9345   15.9236  108404378\n",
       "... ...        ...          ...      ...       ...      ...      \n",
       "280 15.88      15.85        16.00    15.83     15.96    19902006 \n",
       "281 15.96      15.97        16.13    15.90     16.04    18997369 \n",
       "282 16.04      16.11        16.13    15.97     16.01    13212969 \n",
       "283 16.01      16.01        16.11    15.80     15.87    23446792 \n",
       "284 15.87      15.88        15.90    15.72     15.81    23645144 \n",
       "285 15.81      15.78        16.05    15.77     16.01    24187120 \n",
       "286 16.01      16.05        16.20    15.89     16.16    31036271 \n",
       "287 16.16      16.09        16.18    16.03     16.10    22335442 \n",
       "288 16.10      16.06        16.16    16.02     16.10    20126948 \n",
       "289 16.10      16.12        16.12    15.94     15.97    16154024 \n",
       "290 15.97      15.97        15.99    15.81     15.89    18611375 \n",
       "291 15.89      15.88        15.96    15.75     15.89    22210541 \n",
       "292 15.89      15.88        15.89    15.73     15.75    23426650 \n",
       "293 15.75      15.76        15.78    15.42     15.51    40156553 \n",
       "294 15.51      15.53        15.60    15.30     15.56    36739448 \n",
       "295 15.56      15.50        15.52    15.30     15.30    22889980 \n",
       "296 15.30      15.25        15.27    15.11     15.11    24455407 \n",
       "297 15.11      15.12        15.14    14.90     14.91    41061406 \n",
       "298 14.91      14.92        15.07    14.85     15.05    22688358 \n",
       "299 15.05      15.05        15.11    14.91     15.00    17627803 \n",
       "300 15.00      15.02        15.10    14.99     15.05    12975919 \n",
       "301 15.05      15.06        15.11    15.00     15.05    14939871 \n",
       "302 15.05      15.05        15.25    15.03     15.21    22887645 \n",
       "303 15.21      15.15        15.22    15.08     15.21    15718509 \n",
       "304 15.21      15.21        15.22    15.13     15.16    12607509 \n",
       "305 15.16      15.16        15.16    15.05     15.08    14247943 \n",
       "306 15.08      15.07        15.07    14.90     14.98    19477788 \n",
       "307 14.98      14.95        14.98    14.52     14.92    40194577 \n",
       "308 14.92      14.78        14.90    14.51     14.86    43568576 \n",
       "309 14.86      14.69        14.84    14.66     14.76    19225492 \n",
       "    A股流通市值(元) 总市值(元) A股流通股本(股) 市盈率 \n",
       "1   754425783       -0.4151    -2.5725         17.8602\n",
       "2   1034181474       0.1413     0.8989         17.8139\n",
       "3   838667398        0.1236     0.7795         17.9307\n",
       "4   199502702       -0.5211    -3.2597         17.5766\n",
       "5   1262105060      -0.0177    -0.1142         17.5492\n",
       "6   1550155933      -0.3886    -2.5157         17.1901\n",
       "7   964061502        0.3533     2.3460         17.4099\n",
       "8   843717365       -0.0530    -0.3438         17.6254\n",
       "9   966117848        0.4681     3.0477         17.6174\n",
       "10  836146426       -0.3003    -1.8973         17.8958\n",
       "11  583291559        0.0883     0.5688         17.8219\n",
       "12  527753175        0.0795     0.5090         17.7056\n",
       "13  623546924       -0.4593    -2.9263         17.3359\n",
       "14  582845476       -0.5917    -3.8841         17.0437\n",
       "15  708179241        0.3886     2.6538         16.8585\n",
       "16  400445071        0.0088     0.0588         16.9976\n",
       "17  643611762       -0.3268    -2.1726         16.8134\n",
       "18  742640743        0.0177     0.1200         16.7672\n",
       "19  643984171       -0.0883    -0.5995         16.5539\n",
       "20  799493381        0.2826     1.9300         16.8566\n",
       "21  485275132       -0.3533    -2.3669         16.6535\n",
       "22  425396889        0.2296     1.5758         16.7605\n",
       "23  459255616       -0.1325    -0.8950         16.5324\n",
       "24  799283799        0.6094     4.1541         16.9473\n",
       "25  1401156041       0.9538     6.2428         17.8688\n",
       "26  1221398339       0.0618     0.3808         18.1496\n",
       "27  1657158636      -1.3071    -8.0217         16.8684\n",
       "28  973317374       -0.0971    -0.6482         17.0991\n",
       "29  638223050        0.1413     0.9490         17.0007\n",
       "30  1924212601       0.8920     5.9342         17.7503\n",
       "... ...             ...        ...             ...    \n",
       "280 316984958        0.08       0.5038         15.9273\n",
       "281 304990151        0.08       0.5013         16.0543\n",
       "282 211750766       -0.03      -0.1870         16.026 \n",
       "283 372794465       -0.14      -0.8745         15.8996\n",
       "284 373665115       -0.06      -0.3781         15.803 \n",
       "285 385793421        0.20       1.2650         15.9504\n",
       "286 499121565        0.15       0.9369         16.0819\n",
       "287 359361840       -0.06      -0.3713         16.0893\n",
       "288 323821647        0.00       0.0000         16.089 \n",
       "289 258662668       -0.13      -0.8075         16.0123\n",
       "290 295381671       -0.08      -0.5009         15.871 \n",
       "291 352357729        0.00       0.0000         15.8644\n",
       "292 369388222       -0.14      -0.8811         15.7679\n",
       "293 625510632       -0.24      -1.5238         15.5768\n",
       "294 566536789        0.05       0.3224         15.4204\n",
       "295 351624622       -0.26      -1.6710         15.3615\n",
       "296 371021507       -0.19      -1.2418         15.1713\n",
       "297 614436383       -0.20      -1.3236         14.9638\n",
       "298 340453104        0.14       0.9390         15.0056\n",
       "299 264649933       -0.05      -0.3322         15.0132\n",
       "300 195296862        0.05       0.3333         15.0507\n",
       "301 225022668        0.00       0.0000         15.0619\n",
       "302 345791526        0.16       1.0631         15.1082\n",
       "303 238419161        0.00       0.0000         15.1681\n",
       "304 191225527       -0.05      -0.3287         15.1676\n",
       "305 215130847       -0.08      -0.5277         15.0991\n",
       "306 291839737       -0.10      -0.6631         14.9832\n",
       "307 592160198       -0.06      -0.4005         14.7323\n",
       "308 638781010       -0.06      -0.4021         14.6615\n",
       "309 283864640       -0.10      -0.6729         14.765 "
      ]
     },
     "metadata": {},
     "output_type": "display_data"
    }
   ],
   "source": [
    "lag(df,5)"
   ]
  },
  {
   "cell_type": "markdown",
   "metadata": {},
   "source": [
    "### 76.将数据向前移动5天"
   ]
  },
  {
   "cell_type": "code",
   "execution_count": 87,
   "metadata": {
    "collapsed": false
   },
   "outputs": [
    {
     "data": {
      "text/html": [
       "<table>\n",
       "<thead><tr><th scope=col>﻿代码</th><th scope=col>简称</th><th scope=col>日期</th><th scope=col>前收盘价(元)</th><th scope=col>开盘价(元)</th><th scope=col>最高价(元)</th><th scope=col>最低价(元)</th><th scope=col>收盘价(元)</th><th scope=col>成交量(股)</th><th scope=col>成交金额(元)</th><th scope=col>涨跌(元)</th><th scope=col>涨跌幅(%)</th><th scope=col>均价(元)</th><th scope=col>换手率(%)</th><th scope=col>A股流通市值(元)</th><th scope=col>总市值(元)</th><th scope=col>A股流通股本(股)</th><th scope=col>市盈率</th></tr></thead>\n",
       "<tbody>\n",
       "\t<tr><td>16.1444    </td><td>15.4997    </td><td>15.7205    </td><td>42240610   </td><td>754425783  </td><td>-0.4151    </td><td>-2.5725    </td><td>17.8602    </td><td>0.2264     </td><td>3.32032e+11</td><td>3.32032e+11</td><td>18653471415</td><td>6.5614     </td><td>NA         </td><td>NA         </td><td>NA         </td><td>NA         </td><td>NA         </td></tr>\n",
       "\t<tr><td>15.9501    </td><td>15.3672    </td><td>15.8618    </td><td>58054793   </td><td>1034181474 </td><td> 0.1413    </td><td> 0.8989    </td><td>17.8139    </td><td>0.3112     </td><td>3.35016e+11</td><td>3.35016e+11</td><td>18653471415</td><td>6.6204     </td><td>NA         </td><td>NA         </td><td>NA         </td><td>NA         </td><td>NA         </td></tr>\n",
       "\t<tr><td>16.0208    </td><td>15.6234    </td><td>15.9855    </td><td>46772653   </td><td>838667398  </td><td> 0.1236    </td><td> 0.7795    </td><td>17.9307    </td><td>0.2507     </td><td>3.37628e+11</td><td>3.37628e+11</td><td>18653471415</td><td>6.6720     </td><td>NA         </td><td>NA         </td><td>NA         </td><td>NA         </td><td>NA         </td></tr>\n",
       "\t<tr><td>15.8088    </td><td>15.3672    </td><td>15.4644    </td><td>11350479   </td><td>199502702  </td><td>-0.5211    </td><td>-3.2597    </td><td>17.5766    </td><td>0.0608     </td><td>3.26622e+11</td><td>3.26622e+11</td><td>18653471415</td><td>6.4545     </td><td>NA         </td><td>NA         </td><td>NA         </td><td>NA         </td><td>NA         </td></tr>\n",
       "\t<tr><td>15.7912    </td><td>14.9345    </td><td>15.4467    </td><td>71918296   </td><td>1262105060 </td><td>-0.0177    </td><td>-0.1142    </td><td>17.5492    </td><td>0.3855     </td><td>3.26249e+11</td><td>3.26249e+11</td><td>18653471415</td><td>6.4471     </td><td>NA         </td><td>NA         </td><td>NA         </td><td>NA         </td><td>NA         </td></tr>\n",
       "\t<tr><td>15.4114    </td><td>14.9786    </td><td>15.0581    </td><td>90177135   </td><td>1550155933 </td><td>-0.3886    </td><td>-2.5157    </td><td>17.1901    </td><td>0.4834     </td><td>3.18042e+11</td><td>3.18042e+11</td><td>18653471415</td><td>6.2849     </td><td>NA         </td><td>NA         </td><td>NA         </td><td>NA         </td><td>NA         </td></tr>\n",
       "\t<tr><td>15.4732    </td><td>15.0846    </td><td>15.4114    </td><td>55374454   </td><td>964061502  </td><td> 0.3533    </td><td> 2.3460    </td><td>17.4099    </td><td>0.2969     </td><td>3.25503e+11</td><td>3.25503e+11</td><td>18653471415</td><td>6.4324     </td><td>NA         </td><td>NA         </td><td>NA         </td><td>NA         </td><td>NA         </td></tr>\n",
       "\t<tr><td>15.8088    </td><td>15.3231    </td><td>15.3584    </td><td>47869312   </td><td>843717365  </td><td>-0.0530    </td><td>-0.3438    </td><td>17.6254    </td><td>0.2566     </td><td>3.24384e+11</td><td>3.24384e+11</td><td>18653471415</td><td>6.4102     </td><td>NA         </td><td>NA         </td><td>NA         </td><td>NA         </td><td>NA         </td></tr>\n",
       "\t<tr><td>15.8883    </td><td>14.9168    </td><td>15.8265    </td><td>54838833   </td><td>966117848  </td><td> 0.4681    </td><td> 3.0477    </td><td>17.6174    </td><td>0.2940     </td><td>3.34270e+11</td><td>3.34270e+11</td><td>18653471415</td><td>6.6056     </td><td>NA         </td><td>NA         </td><td>NA         </td><td>NA         </td><td>NA         </td></tr>\n",
       "\t<tr><td>16.0296    </td><td>15.4732    </td><td>15.5262    </td><td>46723139   </td><td>836146426  </td><td>-0.3003    </td><td>-1.8973    </td><td>17.8958    </td><td>0.2505     </td><td>3.27928e+11</td><td>3.27928e+11</td><td>18653471415</td><td>6.4803     </td><td>NA         </td><td>NA         </td><td>NA         </td><td>NA         </td><td>NA         </td></tr>\n",
       "\t<tr><td>15.8883    </td><td>15.2966    </td><td>15.6145    </td><td>32729006   </td><td>583291559  </td><td> 0.0883    </td><td> 0.5688    </td><td>17.8219    </td><td>0.1755     </td><td>3.29793e+11</td><td>3.29793e+11</td><td>18653471415</td><td>6.5171     </td><td>NA         </td><td>NA         </td><td>NA         </td><td>NA         </td><td>NA         </td></tr>\n",
       "\t<tr><td>15.7912    </td><td>15.4556    </td><td>15.6940    </td><td>29807159   </td><td>527753175  </td><td> 0.0795    </td><td> 0.5090    </td><td>17.7056    </td><td>0.1598     </td><td>3.31472e+11</td><td>3.31472e+11</td><td>18653471415</td><td>6.5503     </td><td>NA         </td><td>NA         </td><td>NA         </td><td>NA         </td><td>NA         </td></tr>\n",
       "\t<tr><td>15.6322    </td><td>15.0846    </td><td>15.2348    </td><td>35968636   </td><td>623546924  </td><td>-0.4593    </td><td>-2.9263    </td><td>17.3359    </td><td>0.1928     </td><td>3.21772e+11</td><td>3.21772e+11</td><td>18653471415</td><td>6.3586     </td><td>NA         </td><td>NA         </td><td>NA         </td><td>NA         </td><td>NA         </td></tr>\n",
       "\t<tr><td>15.4202    </td><td>14.5724    </td><td>14.6430    </td><td>34197115   </td><td>582845476  </td><td>-0.5917    </td><td>-3.8841    </td><td>17.0437    </td><td>0.1833     </td><td>3.09275e+11</td><td>3.09275e+11</td><td>18653471415</td><td>6.1117     </td><td>NA         </td><td>NA         </td><td>NA         </td><td>NA         </td><td>NA         </td></tr>\n",
       "\t<tr><td>15.1111    </td><td>14.5636    </td><td>15.0316    </td><td>42007318   </td><td>708179241  </td><td> 0.3886    </td><td> 2.6538    </td><td>16.8585    </td><td>0.2252     </td><td>3.17482e+11</td><td>3.17482e+11</td><td>18653471415</td><td>6.2739     </td><td>NA         </td><td>NA         </td><td>NA         </td><td>NA         </td><td>NA         </td></tr>\n",
       "\t<tr><td>15.1641    </td><td>14.7667    </td><td>15.0405    </td><td>23558971   </td><td>400445071  </td><td> 0.0088    </td><td> 0.0588    </td><td>16.9976    </td><td>0.1263     </td><td>3.17669e+11</td><td>3.17669e+11</td><td>18653471415</td><td>6.2775     </td><td>NA         </td><td>NA         </td><td>NA         </td><td>NA         </td><td>NA         </td></tr>\n",
       "\t<tr><td>15.1376    </td><td>14.4841    </td><td>14.7137    </td><td>38279766   </td><td>643611762  </td><td>-0.3268    </td><td>-2.1726    </td><td>16.8134    </td><td>0.2052     </td><td>3.10767e+11</td><td>3.10767e+11</td><td>18653471415</td><td>6.1412     </td><td>NA         </td><td>NA         </td><td>NA         </td><td>NA         </td><td>NA         </td></tr>\n",
       "\t<tr><td>14.9963    </td><td>14.5812    </td><td>14.7314    </td><td>44291307   </td><td>742640743  </td><td> 0.0177    </td><td> 0.1200    </td><td>16.7672    </td><td>0.2374     </td><td>3.11140e+11</td><td>3.11140e+11</td><td>18653471415</td><td>6.1485     </td><td>NA         </td><td>NA         </td><td>NA         </td><td>NA         </td><td>NA         </td></tr>\n",
       "\t<tr><td>14.8550    </td><td>14.0248    </td><td>14.6430    </td><td>38902180   </td><td>643984171  </td><td>-0.0883    </td><td>-0.5995    </td><td>16.5539    </td><td>0.2086     </td><td>3.09275e+11</td><td>3.09275e+11</td><td>18653471415</td><td>6.1117     </td><td>NA         </td><td>NA         </td><td>NA         </td><td>NA         </td><td>NA         </td></tr>\n",
       "\t<tr><td>15.0581    </td><td>14.4929    </td><td>14.9257    </td><td>47429000   </td><td>799493381  </td><td> 0.2826    </td><td> 1.9300    </td><td>16.8566    </td><td>0.2543     </td><td>3.15244e+11</td><td>3.15244e+11</td><td>18653471415</td><td>6.2296     </td><td>NA         </td><td>NA         </td><td>NA         </td><td>NA         </td><td>NA         </td></tr>\n",
       "\t<tr><td>15.0140    </td><td>14.4929    </td><td>14.5724    </td><td>29139596   </td><td>485275132  </td><td>-0.3533    </td><td>-2.3669    </td><td>16.6535    </td><td>0.1562     </td><td>3.07782e+11</td><td>3.07782e+11</td><td>18653471415</td><td>6.0822     </td><td>NA         </td><td>NA         </td><td>NA         </td><td>NA         </td><td>NA         </td></tr>\n",
       "\t<tr><td>14.9610    </td><td>14.5371    </td><td>14.8020    </td><td>25380981   </td><td>425396889  </td><td> 0.2296    </td><td> 1.5758    </td><td>16.7605    </td><td>0.1361     </td><td>3.12632e+11</td><td>3.12632e+11</td><td>18653471415</td><td>6.1780     </td><td>NA         </td><td>NA         </td><td>NA         </td><td>NA         </td><td>NA         </td></tr>\n",
       "\t<tr><td>14.7137    </td><td>14.5282    </td><td>14.6695    </td><td>27779183   </td><td>459255616  </td><td>-0.1325    </td><td>-0.8950    </td><td>16.5324    </td><td>0.1489     </td><td>3.09834e+11</td><td>3.09834e+11</td><td>18653471415</td><td>6.1227     </td><td>NA         </td><td>NA         </td><td>NA         </td><td>NA         </td><td>NA         </td></tr>\n",
       "\t<tr><td>15.2966    </td><td>14.6872    </td><td>15.2789    </td><td>47162860   </td><td>799283799  </td><td> 0.6094    </td><td> 4.1541    </td><td>16.9473    </td><td>0.2528     </td><td>3.22705e+11</td><td>3.22705e+11</td><td>18653471415</td><td>6.3771     </td><td>NA         </td><td>NA         </td><td>NA         </td><td>NA         </td><td>NA         </td></tr>\n",
       "\t<tr><td>16.2416    </td><td>15.1465    </td><td>16.2328    </td><td>78413454   </td><td>1401156041 </td><td> 0.9538    </td><td> 6.2428    </td><td>17.8688    </td><td>0.4204     </td><td>3.42851e+11</td><td>3.42851e+11</td><td>18653471415</td><td>6.7752     </td><td>NA         </td><td>NA         </td><td>NA         </td><td>NA         </td><td>NA         </td></tr>\n",
       "\t<tr><td>16.3211    </td><td>15.7205    </td><td>16.2946    </td><td>67296317   </td><td>1221398339 </td><td> 0.0618    </td><td> 0.3808    </td><td>18.1496    </td><td>0.3608     </td><td>3.44157e+11</td><td>3.44157e+11</td><td>18653471415</td><td>6.8010     </td><td>NA         </td><td>NA         </td><td>NA         </td><td>NA         </td><td>NA         </td></tr>\n",
       "\t<tr><td>15.4821    </td><td>14.6695    </td><td>14.9875    </td><td>98240322   </td><td>1657158636 </td><td>-1.3071    </td><td>-8.0217    </td><td>16.8684    </td><td>0.5267     </td><td>3.16549e+11</td><td>3.16549e+11</td><td>18653471415</td><td>6.2554     </td><td>NA         </td><td>NA         </td><td>NA         </td><td>NA         </td><td>NA         </td></tr>\n",
       "\t<tr><td>15.4291    </td><td>14.8550    </td><td>14.8903    </td><td>56922239   </td><td>973317374  </td><td>-0.0971    </td><td>-0.6482    </td><td>17.0991    </td><td>0.3052     </td><td>3.14498e+11</td><td>3.14498e+11</td><td>18653471415</td><td>6.2149     </td><td>NA         </td><td>NA         </td><td>NA         </td><td>NA         </td><td>NA         </td></tr>\n",
       "\t<tr><td>15.1818    </td><td>14.8462    </td><td>15.0316    </td><td>37540932   </td><td>638223050  </td><td> 0.1413    </td><td> 0.9490    </td><td>17.0007    </td><td>0.2013     </td><td>3.17482e+11</td><td>3.17482e+11</td><td>18653471415</td><td>6.2739     </td><td>NA         </td><td>NA         </td><td>NA         </td><td>NA         </td><td>NA         </td></tr>\n",
       "\t<tr><td>15.9590    </td><td>14.9345    </td><td>15.9236    </td><td>108404378  </td><td>1924212601 </td><td> 0.8920    </td><td> 5.9342    </td><td>17.7503    </td><td>0.5811     </td><td>3.36322e+11</td><td>3.36322e+11</td><td>18653471415</td><td>6.6462     </td><td>NA         </td><td>NA         </td><td>NA         </td><td>NA         </td><td>NA         </td></tr>\n",
       "\t<tr><td>...</td><td>...</td><td>...</td><td>...</td><td>...</td><td>...</td><td>...</td><td>...</td><td>...</td><td>...</td><td>...</td><td>...</td><td>...</td><td>...</td><td>...</td><td>...</td><td>...</td><td>...</td></tr>\n",
       "\t<tr><td>16.00      </td><td>15.83      </td><td>15.96      </td><td>19902006   </td><td>316984958  </td><td> 0.08      </td><td> 0.5038    </td><td>15.9273    </td><td>0.0921     </td><td>3.45028e+11</td><td>3.45028e+11</td><td>21618279922</td><td>6.4978     </td><td>NA         </td><td>NA         </td><td>NA         </td><td>NA         </td><td>NA         </td></tr>\n",
       "\t<tr><td>16.13      </td><td>15.90      </td><td>16.04      </td><td>18997369   </td><td>304990151  </td><td> 0.08      </td><td> 0.5013    </td><td>16.0543    </td><td>0.0879     </td><td>3.46757e+11</td><td>3.46757e+11</td><td>21618279922</td><td>6.5304     </td><td>NA         </td><td>NA         </td><td>NA         </td><td>NA         </td><td>NA         </td></tr>\n",
       "\t<tr><td>16.13      </td><td>15.97      </td><td>16.01      </td><td>13212969   </td><td>211750766  </td><td>-0.03      </td><td>-0.1870    </td><td>16.026     </td><td>0.0611     </td><td>3.46109e+11</td><td>3.46109e+11</td><td>21618279922</td><td>6.5182     </td><td>NA         </td><td>NA         </td><td>NA         </td><td>NA         </td><td>NA         </td></tr>\n",
       "\t<tr><td>16.11      </td><td>15.80      </td><td>15.87      </td><td>23446792   </td><td>372794465  </td><td>-0.14      </td><td>-0.8745    </td><td>15.8996    </td><td>0.1085     </td><td>3.43082e+11</td><td>3.43082e+11</td><td>21618279922</td><td>6.4612     </td><td>NA         </td><td>NA         </td><td>NA         </td><td>NA         </td><td>NA         </td></tr>\n",
       "\t<tr><td>15.90      </td><td>15.72      </td><td>15.81      </td><td>23645144   </td><td>373665115  </td><td>-0.06      </td><td>-0.3781    </td><td>15.803     </td><td>0.1094     </td><td>3.41785e+11</td><td>3.41785e+11</td><td>21618279922</td><td>6.4368     </td><td>NA         </td><td>NA         </td><td>NA         </td><td>NA         </td><td>NA         </td></tr>\n",
       "\t<tr><td>16.05      </td><td>15.77      </td><td>16.01      </td><td>24187120   </td><td>385793421  </td><td> 0.20      </td><td> 1.2650    </td><td>15.9504    </td><td>0.1119     </td><td>3.46109e+11</td><td>3.46109e+11</td><td>21618279922</td><td>6.5182     </td><td>NA         </td><td>NA         </td><td>NA         </td><td>NA         </td><td>NA         </td></tr>\n",
       "\t<tr><td>16.20      </td><td>15.89      </td><td>16.16      </td><td>31036271   </td><td>499121565  </td><td> 0.15      </td><td> 0.9369    </td><td>16.0819    </td><td>0.1436     </td><td>3.49351e+11</td><td>3.49351e+11</td><td>21618279922</td><td>6.5792     </td><td>NA         </td><td>NA         </td><td>NA         </td><td>NA         </td><td>NA         </td></tr>\n",
       "\t<tr><td>16.18      </td><td>16.03      </td><td>16.10      </td><td>22335442   </td><td>359361840  </td><td>-0.06      </td><td>-0.3713    </td><td>16.0893    </td><td>0.1033     </td><td>3.48054e+11</td><td>3.48054e+11</td><td>21618279922</td><td>6.5548     </td><td>NA         </td><td>NA         </td><td>NA         </td><td>NA         </td><td>NA         </td></tr>\n",
       "\t<tr><td>16.16      </td><td>16.02      </td><td>16.10      </td><td>20126948   </td><td>323821647  </td><td> 0.00      </td><td> 0.0000    </td><td>16.089     </td><td>0.0931     </td><td>3.48054e+11</td><td>3.48054e+11</td><td>21618279922</td><td>6.5548     </td><td>NA         </td><td>NA         </td><td>NA         </td><td>NA         </td><td>NA         </td></tr>\n",
       "\t<tr><td>16.12      </td><td>15.94      </td><td>15.97      </td><td>16154024   </td><td>258662668  </td><td>-0.13      </td><td>-0.8075    </td><td>16.0123    </td><td>0.0747     </td><td>3.45244e+11</td><td>3.45244e+11</td><td>21618279922</td><td>6.5019     </td><td>NA         </td><td>NA         </td><td>NA         </td><td>NA         </td><td>NA         </td></tr>\n",
       "\t<tr><td>15.99      </td><td>15.81      </td><td>15.89      </td><td>18611375   </td><td>295381671  </td><td>-0.08      </td><td>-0.5009    </td><td>15.871     </td><td>0.0861     </td><td>3.43514e+11</td><td>3.43514e+11</td><td>21618279922</td><td>6.4693     </td><td>NA         </td><td>NA         </td><td>NA         </td><td>NA         </td><td>NA         </td></tr>\n",
       "\t<tr><td>15.96      </td><td>15.75      </td><td>15.89      </td><td>22210541   </td><td>352357729  </td><td> 0.00      </td><td> 0.0000    </td><td>15.8644    </td><td>0.1027     </td><td>3.43514e+11</td><td>3.43514e+11</td><td>21618279922</td><td>6.4693     </td><td>NA         </td><td>NA         </td><td>NA         </td><td>NA         </td><td>NA         </td></tr>\n",
       "\t<tr><td>15.89      </td><td>15.73      </td><td>15.75      </td><td>23426650   </td><td>369388222  </td><td>-0.14      </td><td>-0.8811    </td><td>15.7679    </td><td>0.1084     </td><td>3.40488e+11</td><td>3.40488e+11</td><td>21618279922</td><td>6.4123     </td><td>NA         </td><td>NA         </td><td>NA         </td><td>NA         </td><td>NA         </td></tr>\n",
       "\t<tr><td>15.78      </td><td>15.42      </td><td>15.51      </td><td>40156553   </td><td>625510632  </td><td>-0.24      </td><td>-1.5238    </td><td>15.5768    </td><td>0.1858     </td><td>3.35300e+11</td><td>3.35300e+11</td><td>21618279922</td><td>6.3146     </td><td>NA         </td><td>NA         </td><td>NA         </td><td>NA         </td><td>NA         </td></tr>\n",
       "\t<tr><td>15.60      </td><td>15.30      </td><td>15.56      </td><td>36739448   </td><td>566536789  </td><td> 0.05      </td><td> 0.3224    </td><td>15.4204    </td><td>0.1699     </td><td>3.36380e+11</td><td>3.36380e+11</td><td>21618279922</td><td>6.3350     </td><td>NA         </td><td>NA         </td><td>NA         </td><td>NA         </td><td>NA         </td></tr>\n",
       "\t<tr><td>15.52      </td><td>15.30      </td><td>15.30      </td><td>22889980   </td><td>351624622  </td><td>-0.26      </td><td>-1.6710    </td><td>15.3615    </td><td>0.1059     </td><td>3.30760e+11</td><td>3.30760e+11</td><td>21618279922</td><td>6.2291     </td><td>NA         </td><td>NA         </td><td>NA         </td><td>NA         </td><td>NA         </td></tr>\n",
       "\t<tr><td>15.27      </td><td>15.11      </td><td>15.11      </td><td>24455407   </td><td>371021507  </td><td>-0.19      </td><td>-1.2418    </td><td>15.1713    </td><td>0.1131     </td><td>3.26652e+11</td><td>3.26652e+11</td><td>21618279922</td><td>6.1518     </td><td>NA         </td><td>NA         </td><td>NA         </td><td>NA         </td><td>NA         </td></tr>\n",
       "\t<tr><td>15.14      </td><td>14.90      </td><td>14.91      </td><td>41061406   </td><td>614436383  </td><td>-0.20      </td><td>-1.3236    </td><td>14.9638    </td><td>0.1899     </td><td>3.22329e+11</td><td>3.22329e+11</td><td>21618279922</td><td>6.0703     </td><td>NA         </td><td>NA         </td><td>NA         </td><td>NA         </td><td>NA         </td></tr>\n",
       "\t<tr><td>15.07      </td><td>14.85      </td><td>15.05      </td><td>22688358   </td><td>340453104  </td><td> 0.14      </td><td> 0.9390    </td><td>15.0056    </td><td>0.1049     </td><td>3.25355e+11</td><td>3.25355e+11</td><td>21618279922</td><td>6.1273     </td><td>NA         </td><td>NA         </td><td>NA         </td><td>NA         </td><td>NA         </td></tr>\n",
       "\t<tr><td>15.11      </td><td>14.91      </td><td>15.00      </td><td>17627803   </td><td>264649933  </td><td>-0.05      </td><td>-0.3322    </td><td>15.0132    </td><td>0.0815     </td><td>3.24274e+11</td><td>3.24274e+11</td><td>21618279922</td><td>6.1070     </td><td>NA         </td><td>NA         </td><td>NA         </td><td>NA         </td><td>NA         </td></tr>\n",
       "\t<tr><td>15.10      </td><td>14.99      </td><td>15.05      </td><td>12975919   </td><td>195296862  </td><td> 0.05      </td><td> 0.3333    </td><td>15.0507    </td><td>0.0600     </td><td>3.25355e+11</td><td>3.25355e+11</td><td>21618279922</td><td>6.1273     </td><td>NA         </td><td>NA         </td><td>NA         </td><td>NA         </td><td>NA         </td></tr>\n",
       "\t<tr><td>15.11      </td><td>15.00      </td><td>15.05      </td><td>14939871   </td><td>225022668  </td><td> 0.00      </td><td> 0.0000    </td><td>15.0619    </td><td>0.0691     </td><td>3.25355e+11</td><td>3.25355e+11</td><td>21618279922</td><td>6.1273     </td><td>NA         </td><td>NA         </td><td>NA         </td><td>NA         </td><td>NA         </td></tr>\n",
       "\t<tr><td>15.25      </td><td>15.03      </td><td>15.21      </td><td>22887645   </td><td>345791526  </td><td> 0.16      </td><td> 1.0631    </td><td>15.1082    </td><td>0.1059     </td><td>3.28814e+11</td><td>3.28814e+11</td><td>21618279922</td><td>6.1925     </td><td>NA         </td><td>NA         </td><td>NA         </td><td>NA         </td><td>NA         </td></tr>\n",
       "\t<tr><td>15.22      </td><td>15.08      </td><td>15.21      </td><td>15718509   </td><td>238419161  </td><td> 0.00      </td><td> 0.0000    </td><td>15.1681    </td><td>0.0727     </td><td>3.28814e+11</td><td>3.28814e+11</td><td>21618279922</td><td>6.1925     </td><td>NA         </td><td>NA         </td><td>NA         </td><td>NA         </td><td>NA         </td></tr>\n",
       "\t<tr><td>15.22      </td><td>15.13      </td><td>15.16      </td><td>12607509   </td><td>191225527  </td><td>-0.05      </td><td>-0.3287    </td><td>15.1676    </td><td>0.0583     </td><td>3.27733e+11</td><td>3.27733e+11</td><td>21618279922</td><td>6.1721     </td><td>NA         </td><td>NA         </td><td>NA         </td><td>NA         </td><td>NA         </td></tr>\n",
       "\t<tr><td>15.16      </td><td>15.05      </td><td>15.08      </td><td>14247943   </td><td>215130847  </td><td>-0.08      </td><td>-0.5277    </td><td>15.0991    </td><td>0.0659     </td><td>3.26004e+11</td><td>3.26004e+11</td><td>21618279922</td><td>6.1395     </td><td>NA         </td><td>NA         </td><td>NA         </td><td>NA         </td><td>NA         </td></tr>\n",
       "\t<tr><td>15.07      </td><td>14.90      </td><td>14.98      </td><td>19477788   </td><td>291839737  </td><td>-0.10      </td><td>-0.6631    </td><td>14.9832    </td><td>0.0901     </td><td>3.23842e+11</td><td>3.23842e+11</td><td>21618279922</td><td>6.0988     </td><td>NA         </td><td>NA         </td><td>NA         </td><td>NA         </td><td>NA         </td></tr>\n",
       "\t<tr><td>14.98      </td><td>14.52      </td><td>14.92      </td><td>40194577   </td><td>592160198  </td><td>-0.06      </td><td>-0.4005    </td><td>14.7323    </td><td>0.1859     </td><td>3.22545e+11</td><td>3.22545e+11</td><td>21618279922</td><td>6.0744     </td><td>NA         </td><td>NA         </td><td>NA         </td><td>NA         </td><td>NA         </td></tr>\n",
       "\t<tr><td>14.90      </td><td>14.51      </td><td>14.86      </td><td>43568576   </td><td>638781010  </td><td>-0.06      </td><td>-0.4021    </td><td>14.6615    </td><td>0.2015     </td><td>3.21248e+11</td><td>3.21248e+11</td><td>21618279922</td><td>6.0500     </td><td>NA         </td><td>NA         </td><td>NA         </td><td>NA         </td><td>NA         </td></tr>\n",
       "\t<tr><td>14.84      </td><td>14.66      </td><td>14.76      </td><td>19225492   </td><td>283864640  </td><td>-0.10      </td><td>-0.6729    </td><td>14.765     </td><td>0.0889     </td><td>3.19086e+11</td><td>3.19086e+11</td><td>21618279922</td><td>6.0093     </td><td>NA         </td><td>NA         </td><td>NA         </td><td>NA         </td><td>NA         </td></tr>\n",
       "</tbody>\n",
       "</table>\n"
      ],
      "text/latex": [
       "\\begin{tabular}{r|llllllllllllllllll}\n",
       " ﻿代码 & 简称 & 日期 & 前收盘价(元) & 开盘价(元) & 最高价(元) & 最低价(元) & 收盘价(元) & 成交量(股) & 成交金额(元) & 涨跌(元) & 涨跌幅(\\%) & 均价(元) & 换手率(\\%) & A股流通市值(元) & 总市值(元) & A股流通股本(股) & 市盈率\\\\\n",
       "\\hline\n",
       "\t 16.1444     & 15.4997     & 15.7205     & 42240610    & 754425783   & -0.4151     & -2.5725     & 17.8602     & 0.2264      & 3.32032e+11 & 3.32032e+11 & 18653471415 & 6.5614      & NA          & NA          & NA          & NA          & NA         \\\\\n",
       "\t 15.9501     & 15.3672     & 15.8618     & 58054793    & 1034181474  &  0.1413     &  0.8989     & 17.8139     & 0.3112      & 3.35016e+11 & 3.35016e+11 & 18653471415 & 6.6204      & NA          & NA          & NA          & NA          & NA         \\\\\n",
       "\t 16.0208     & 15.6234     & 15.9855     & 46772653    & 838667398   &  0.1236     &  0.7795     & 17.9307     & 0.2507      & 3.37628e+11 & 3.37628e+11 & 18653471415 & 6.6720      & NA          & NA          & NA          & NA          & NA         \\\\\n",
       "\t 15.8088     & 15.3672     & 15.4644     & 11350479    & 199502702   & -0.5211     & -3.2597     & 17.5766     & 0.0608      & 3.26622e+11 & 3.26622e+11 & 18653471415 & 6.4545      & NA          & NA          & NA          & NA          & NA         \\\\\n",
       "\t 15.7912     & 14.9345     & 15.4467     & 71918296    & 1262105060  & -0.0177     & -0.1142     & 17.5492     & 0.3855      & 3.26249e+11 & 3.26249e+11 & 18653471415 & 6.4471      & NA          & NA          & NA          & NA          & NA         \\\\\n",
       "\t 15.4114     & 14.9786     & 15.0581     & 90177135    & 1550155933  & -0.3886     & -2.5157     & 17.1901     & 0.4834      & 3.18042e+11 & 3.18042e+11 & 18653471415 & 6.2849      & NA          & NA          & NA          & NA          & NA         \\\\\n",
       "\t 15.4732     & 15.0846     & 15.4114     & 55374454    & 964061502   &  0.3533     &  2.3460     & 17.4099     & 0.2969      & 3.25503e+11 & 3.25503e+11 & 18653471415 & 6.4324      & NA          & NA          & NA          & NA          & NA         \\\\\n",
       "\t 15.8088     & 15.3231     & 15.3584     & 47869312    & 843717365   & -0.0530     & -0.3438     & 17.6254     & 0.2566      & 3.24384e+11 & 3.24384e+11 & 18653471415 & 6.4102      & NA          & NA          & NA          & NA          & NA         \\\\\n",
       "\t 15.8883     & 14.9168     & 15.8265     & 54838833    & 966117848   &  0.4681     &  3.0477     & 17.6174     & 0.2940      & 3.34270e+11 & 3.34270e+11 & 18653471415 & 6.6056      & NA          & NA          & NA          & NA          & NA         \\\\\n",
       "\t 16.0296     & 15.4732     & 15.5262     & 46723139    & 836146426   & -0.3003     & -1.8973     & 17.8958     & 0.2505      & 3.27928e+11 & 3.27928e+11 & 18653471415 & 6.4803      & NA          & NA          & NA          & NA          & NA         \\\\\n",
       "\t 15.8883     & 15.2966     & 15.6145     & 32729006    & 583291559   &  0.0883     &  0.5688     & 17.8219     & 0.1755      & 3.29793e+11 & 3.29793e+11 & 18653471415 & 6.5171      & NA          & NA          & NA          & NA          & NA         \\\\\n",
       "\t 15.7912     & 15.4556     & 15.6940     & 29807159    & 527753175   &  0.0795     &  0.5090     & 17.7056     & 0.1598      & 3.31472e+11 & 3.31472e+11 & 18653471415 & 6.5503      & NA          & NA          & NA          & NA          & NA         \\\\\n",
       "\t 15.6322     & 15.0846     & 15.2348     & 35968636    & 623546924   & -0.4593     & -2.9263     & 17.3359     & 0.1928      & 3.21772e+11 & 3.21772e+11 & 18653471415 & 6.3586      & NA          & NA          & NA          & NA          & NA         \\\\\n",
       "\t 15.4202     & 14.5724     & 14.6430     & 34197115    & 582845476   & -0.5917     & -3.8841     & 17.0437     & 0.1833      & 3.09275e+11 & 3.09275e+11 & 18653471415 & 6.1117      & NA          & NA          & NA          & NA          & NA         \\\\\n",
       "\t 15.1111     & 14.5636     & 15.0316     & 42007318    & 708179241   &  0.3886     &  2.6538     & 16.8585     & 0.2252      & 3.17482e+11 & 3.17482e+11 & 18653471415 & 6.2739      & NA          & NA          & NA          & NA          & NA         \\\\\n",
       "\t 15.1641     & 14.7667     & 15.0405     & 23558971    & 400445071   &  0.0088     &  0.0588     & 16.9976     & 0.1263      & 3.17669e+11 & 3.17669e+11 & 18653471415 & 6.2775      & NA          & NA          & NA          & NA          & NA         \\\\\n",
       "\t 15.1376     & 14.4841     & 14.7137     & 38279766    & 643611762   & -0.3268     & -2.1726     & 16.8134     & 0.2052      & 3.10767e+11 & 3.10767e+11 & 18653471415 & 6.1412      & NA          & NA          & NA          & NA          & NA         \\\\\n",
       "\t 14.9963     & 14.5812     & 14.7314     & 44291307    & 742640743   &  0.0177     &  0.1200     & 16.7672     & 0.2374      & 3.11140e+11 & 3.11140e+11 & 18653471415 & 6.1485      & NA          & NA          & NA          & NA          & NA         \\\\\n",
       "\t 14.8550     & 14.0248     & 14.6430     & 38902180    & 643984171   & -0.0883     & -0.5995     & 16.5539     & 0.2086      & 3.09275e+11 & 3.09275e+11 & 18653471415 & 6.1117      & NA          & NA          & NA          & NA          & NA         \\\\\n",
       "\t 15.0581     & 14.4929     & 14.9257     & 47429000    & 799493381   &  0.2826     &  1.9300     & 16.8566     & 0.2543      & 3.15244e+11 & 3.15244e+11 & 18653471415 & 6.2296      & NA          & NA          & NA          & NA          & NA         \\\\\n",
       "\t 15.0140     & 14.4929     & 14.5724     & 29139596    & 485275132   & -0.3533     & -2.3669     & 16.6535     & 0.1562      & 3.07782e+11 & 3.07782e+11 & 18653471415 & 6.0822      & NA          & NA          & NA          & NA          & NA         \\\\\n",
       "\t 14.9610     & 14.5371     & 14.8020     & 25380981    & 425396889   &  0.2296     &  1.5758     & 16.7605     & 0.1361      & 3.12632e+11 & 3.12632e+11 & 18653471415 & 6.1780      & NA          & NA          & NA          & NA          & NA         \\\\\n",
       "\t 14.7137     & 14.5282     & 14.6695     & 27779183    & 459255616   & -0.1325     & -0.8950     & 16.5324     & 0.1489      & 3.09834e+11 & 3.09834e+11 & 18653471415 & 6.1227      & NA          & NA          & NA          & NA          & NA         \\\\\n",
       "\t 15.2966     & 14.6872     & 15.2789     & 47162860    & 799283799   &  0.6094     &  4.1541     & 16.9473     & 0.2528      & 3.22705e+11 & 3.22705e+11 & 18653471415 & 6.3771      & NA          & NA          & NA          & NA          & NA         \\\\\n",
       "\t 16.2416     & 15.1465     & 16.2328     & 78413454    & 1401156041  &  0.9538     &  6.2428     & 17.8688     & 0.4204      & 3.42851e+11 & 3.42851e+11 & 18653471415 & 6.7752      & NA          & NA          & NA          & NA          & NA         \\\\\n",
       "\t 16.3211     & 15.7205     & 16.2946     & 67296317    & 1221398339  &  0.0618     &  0.3808     & 18.1496     & 0.3608      & 3.44157e+11 & 3.44157e+11 & 18653471415 & 6.8010      & NA          & NA          & NA          & NA          & NA         \\\\\n",
       "\t 15.4821     & 14.6695     & 14.9875     & 98240322    & 1657158636  & -1.3071     & -8.0217     & 16.8684     & 0.5267      & 3.16549e+11 & 3.16549e+11 & 18653471415 & 6.2554      & NA          & NA          & NA          & NA          & NA         \\\\\n",
       "\t 15.4291     & 14.8550     & 14.8903     & 56922239    & 973317374   & -0.0971     & -0.6482     & 17.0991     & 0.3052      & 3.14498e+11 & 3.14498e+11 & 18653471415 & 6.2149      & NA          & NA          & NA          & NA          & NA         \\\\\n",
       "\t 15.1818     & 14.8462     & 15.0316     & 37540932    & 638223050   &  0.1413     &  0.9490     & 17.0007     & 0.2013      & 3.17482e+11 & 3.17482e+11 & 18653471415 & 6.2739      & NA          & NA          & NA          & NA          & NA         \\\\\n",
       "\t 15.9590     & 14.9345     & 15.9236     & 108404378   & 1924212601  &  0.8920     &  5.9342     & 17.7503     & 0.5811      & 3.36322e+11 & 3.36322e+11 & 18653471415 & 6.6462      & NA          & NA          & NA          & NA          & NA         \\\\\n",
       "\t ... & ... & ... & ... & ... & ... & ... & ... & ... & ... & ... & ... & ... & ... & ... & ... & ... & ...\\\\\n",
       "\t 16.00       & 15.83       & 15.96       & 19902006    & 316984958   &  0.08       &  0.5038     & 15.9273     & 0.0921      & 3.45028e+11 & 3.45028e+11 & 21618279922 & 6.4978      & NA          & NA          & NA          & NA          & NA         \\\\\n",
       "\t 16.13       & 15.90       & 16.04       & 18997369    & 304990151   &  0.08       &  0.5013     & 16.0543     & 0.0879      & 3.46757e+11 & 3.46757e+11 & 21618279922 & 6.5304      & NA          & NA          & NA          & NA          & NA         \\\\\n",
       "\t 16.13       & 15.97       & 16.01       & 13212969    & 211750766   & -0.03       & -0.1870     & 16.026      & 0.0611      & 3.46109e+11 & 3.46109e+11 & 21618279922 & 6.5182      & NA          & NA          & NA          & NA          & NA         \\\\\n",
       "\t 16.11       & 15.80       & 15.87       & 23446792    & 372794465   & -0.14       & -0.8745     & 15.8996     & 0.1085      & 3.43082e+11 & 3.43082e+11 & 21618279922 & 6.4612      & NA          & NA          & NA          & NA          & NA         \\\\\n",
       "\t 15.90       & 15.72       & 15.81       & 23645144    & 373665115   & -0.06       & -0.3781     & 15.803      & 0.1094      & 3.41785e+11 & 3.41785e+11 & 21618279922 & 6.4368      & NA          & NA          & NA          & NA          & NA         \\\\\n",
       "\t 16.05       & 15.77       & 16.01       & 24187120    & 385793421   &  0.20       &  1.2650     & 15.9504     & 0.1119      & 3.46109e+11 & 3.46109e+11 & 21618279922 & 6.5182      & NA          & NA          & NA          & NA          & NA         \\\\\n",
       "\t 16.20       & 15.89       & 16.16       & 31036271    & 499121565   &  0.15       &  0.9369     & 16.0819     & 0.1436      & 3.49351e+11 & 3.49351e+11 & 21618279922 & 6.5792      & NA          & NA          & NA          & NA          & NA         \\\\\n",
       "\t 16.18       & 16.03       & 16.10       & 22335442    & 359361840   & -0.06       & -0.3713     & 16.0893     & 0.1033      & 3.48054e+11 & 3.48054e+11 & 21618279922 & 6.5548      & NA          & NA          & NA          & NA          & NA         \\\\\n",
       "\t 16.16       & 16.02       & 16.10       & 20126948    & 323821647   &  0.00       &  0.0000     & 16.089      & 0.0931      & 3.48054e+11 & 3.48054e+11 & 21618279922 & 6.5548      & NA          & NA          & NA          & NA          & NA         \\\\\n",
       "\t 16.12       & 15.94       & 15.97       & 16154024    & 258662668   & -0.13       & -0.8075     & 16.0123     & 0.0747      & 3.45244e+11 & 3.45244e+11 & 21618279922 & 6.5019      & NA          & NA          & NA          & NA          & NA         \\\\\n",
       "\t 15.99       & 15.81       & 15.89       & 18611375    & 295381671   & -0.08       & -0.5009     & 15.871      & 0.0861      & 3.43514e+11 & 3.43514e+11 & 21618279922 & 6.4693      & NA          & NA          & NA          & NA          & NA         \\\\\n",
       "\t 15.96       & 15.75       & 15.89       & 22210541    & 352357729   &  0.00       &  0.0000     & 15.8644     & 0.1027      & 3.43514e+11 & 3.43514e+11 & 21618279922 & 6.4693      & NA          & NA          & NA          & NA          & NA         \\\\\n",
       "\t 15.89       & 15.73       & 15.75       & 23426650    & 369388222   & -0.14       & -0.8811     & 15.7679     & 0.1084      & 3.40488e+11 & 3.40488e+11 & 21618279922 & 6.4123      & NA          & NA          & NA          & NA          & NA         \\\\\n",
       "\t 15.78       & 15.42       & 15.51       & 40156553    & 625510632   & -0.24       & -1.5238     & 15.5768     & 0.1858      & 3.35300e+11 & 3.35300e+11 & 21618279922 & 6.3146      & NA          & NA          & NA          & NA          & NA         \\\\\n",
       "\t 15.60       & 15.30       & 15.56       & 36739448    & 566536789   &  0.05       &  0.3224     & 15.4204     & 0.1699      & 3.36380e+11 & 3.36380e+11 & 21618279922 & 6.3350      & NA          & NA          & NA          & NA          & NA         \\\\\n",
       "\t 15.52       & 15.30       & 15.30       & 22889980    & 351624622   & -0.26       & -1.6710     & 15.3615     & 0.1059      & 3.30760e+11 & 3.30760e+11 & 21618279922 & 6.2291      & NA          & NA          & NA          & NA          & NA         \\\\\n",
       "\t 15.27       & 15.11       & 15.11       & 24455407    & 371021507   & -0.19       & -1.2418     & 15.1713     & 0.1131      & 3.26652e+11 & 3.26652e+11 & 21618279922 & 6.1518      & NA          & NA          & NA          & NA          & NA         \\\\\n",
       "\t 15.14       & 14.90       & 14.91       & 41061406    & 614436383   & -0.20       & -1.3236     & 14.9638     & 0.1899      & 3.22329e+11 & 3.22329e+11 & 21618279922 & 6.0703      & NA          & NA          & NA          & NA          & NA         \\\\\n",
       "\t 15.07       & 14.85       & 15.05       & 22688358    & 340453104   &  0.14       &  0.9390     & 15.0056     & 0.1049      & 3.25355e+11 & 3.25355e+11 & 21618279922 & 6.1273      & NA          & NA          & NA          & NA          & NA         \\\\\n",
       "\t 15.11       & 14.91       & 15.00       & 17627803    & 264649933   & -0.05       & -0.3322     & 15.0132     & 0.0815      & 3.24274e+11 & 3.24274e+11 & 21618279922 & 6.1070      & NA          & NA          & NA          & NA          & NA         \\\\\n",
       "\t 15.10       & 14.99       & 15.05       & 12975919    & 195296862   &  0.05       &  0.3333     & 15.0507     & 0.0600      & 3.25355e+11 & 3.25355e+11 & 21618279922 & 6.1273      & NA          & NA          & NA          & NA          & NA         \\\\\n",
       "\t 15.11       & 15.00       & 15.05       & 14939871    & 225022668   &  0.00       &  0.0000     & 15.0619     & 0.0691      & 3.25355e+11 & 3.25355e+11 & 21618279922 & 6.1273      & NA          & NA          & NA          & NA          & NA         \\\\\n",
       "\t 15.25       & 15.03       & 15.21       & 22887645    & 345791526   &  0.16       &  1.0631     & 15.1082     & 0.1059      & 3.28814e+11 & 3.28814e+11 & 21618279922 & 6.1925      & NA          & NA          & NA          & NA          & NA         \\\\\n",
       "\t 15.22       & 15.08       & 15.21       & 15718509    & 238419161   &  0.00       &  0.0000     & 15.1681     & 0.0727      & 3.28814e+11 & 3.28814e+11 & 21618279922 & 6.1925      & NA          & NA          & NA          & NA          & NA         \\\\\n",
       "\t 15.22       & 15.13       & 15.16       & 12607509    & 191225527   & -0.05       & -0.3287     & 15.1676     & 0.0583      & 3.27733e+11 & 3.27733e+11 & 21618279922 & 6.1721      & NA          & NA          & NA          & NA          & NA         \\\\\n",
       "\t 15.16       & 15.05       & 15.08       & 14247943    & 215130847   & -0.08       & -0.5277     & 15.0991     & 0.0659      & 3.26004e+11 & 3.26004e+11 & 21618279922 & 6.1395      & NA          & NA          & NA          & NA          & NA         \\\\\n",
       "\t 15.07       & 14.90       & 14.98       & 19477788    & 291839737   & -0.10       & -0.6631     & 14.9832     & 0.0901      & 3.23842e+11 & 3.23842e+11 & 21618279922 & 6.0988      & NA          & NA          & NA          & NA          & NA         \\\\\n",
       "\t 14.98       & 14.52       & 14.92       & 40194577    & 592160198   & -0.06       & -0.4005     & 14.7323     & 0.1859      & 3.22545e+11 & 3.22545e+11 & 21618279922 & 6.0744      & NA          & NA          & NA          & NA          & NA         \\\\\n",
       "\t 14.90       & 14.51       & 14.86       & 43568576    & 638781010   & -0.06       & -0.4021     & 14.6615     & 0.2015      & 3.21248e+11 & 3.21248e+11 & 21618279922 & 6.0500      & NA          & NA          & NA          & NA          & NA         \\\\\n",
       "\t 14.84       & 14.66       & 14.76       & 19225492    & 283864640   & -0.10       & -0.6729     & 14.765      & 0.0889      & 3.19086e+11 & 3.19086e+11 & 21618279922 & 6.0093      & NA          & NA          & NA          & NA          & NA         \\\\\n",
       "\\end{tabular}\n"
      ],
      "text/markdown": [
       "\n",
       "﻿代码 | 简称 | 日期 | 前收盘价(元) | 开盘价(元) | 最高价(元) | 最低价(元) | 收盘价(元) | 成交量(股) | 成交金额(元) | 涨跌(元) | 涨跌幅(%) | 均价(元) | 换手率(%) | A股流通市值(元) | 总市值(元) | A股流通股本(股) | 市盈率 | \n",
       "|---|---|---|---|---|---|---|---|---|---|---|---|---|---|---|---|---|---|---|---|---|---|---|---|---|---|---|---|---|---|---|---|---|---|---|---|---|---|---|---|---|---|---|---|---|---|---|---|---|---|---|---|---|---|---|---|---|---|---|---|---|\n",
       "| 16.1444     | 15.4997     | 15.7205     | 42240610    | 754425783   | -0.4151     | -2.5725     | 17.8602     | 0.2264      | 3.32032e+11 | 3.32032e+11 | 18653471415 | 6.5614      | NA          | NA          | NA          | NA          | NA          | \n",
       "| 15.9501     | 15.3672     | 15.8618     | 58054793    | 1034181474  |  0.1413     |  0.8989     | 17.8139     | 0.3112      | 3.35016e+11 | 3.35016e+11 | 18653471415 | 6.6204      | NA          | NA          | NA          | NA          | NA          | \n",
       "| 16.0208     | 15.6234     | 15.9855     | 46772653    | 838667398   |  0.1236     |  0.7795     | 17.9307     | 0.2507      | 3.37628e+11 | 3.37628e+11 | 18653471415 | 6.6720      | NA          | NA          | NA          | NA          | NA          | \n",
       "| 15.8088     | 15.3672     | 15.4644     | 11350479    | 199502702   | -0.5211     | -3.2597     | 17.5766     | 0.0608      | 3.26622e+11 | 3.26622e+11 | 18653471415 | 6.4545      | NA          | NA          | NA          | NA          | NA          | \n",
       "| 15.7912     | 14.9345     | 15.4467     | 71918296    | 1262105060  | -0.0177     | -0.1142     | 17.5492     | 0.3855      | 3.26249e+11 | 3.26249e+11 | 18653471415 | 6.4471      | NA          | NA          | NA          | NA          | NA          | \n",
       "| 15.4114     | 14.9786     | 15.0581     | 90177135    | 1550155933  | -0.3886     | -2.5157     | 17.1901     | 0.4834      | 3.18042e+11 | 3.18042e+11 | 18653471415 | 6.2849      | NA          | NA          | NA          | NA          | NA          | \n",
       "| 15.4732     | 15.0846     | 15.4114     | 55374454    | 964061502   |  0.3533     |  2.3460     | 17.4099     | 0.2969      | 3.25503e+11 | 3.25503e+11 | 18653471415 | 6.4324      | NA          | NA          | NA          | NA          | NA          | \n",
       "| 15.8088     | 15.3231     | 15.3584     | 47869312    | 843717365   | -0.0530     | -0.3438     | 17.6254     | 0.2566      | 3.24384e+11 | 3.24384e+11 | 18653471415 | 6.4102      | NA          | NA          | NA          | NA          | NA          | \n",
       "| 15.8883     | 14.9168     | 15.8265     | 54838833    | 966117848   |  0.4681     |  3.0477     | 17.6174     | 0.2940      | 3.34270e+11 | 3.34270e+11 | 18653471415 | 6.6056      | NA          | NA          | NA          | NA          | NA          | \n",
       "| 16.0296     | 15.4732     | 15.5262     | 46723139    | 836146426   | -0.3003     | -1.8973     | 17.8958     | 0.2505      | 3.27928e+11 | 3.27928e+11 | 18653471415 | 6.4803      | NA          | NA          | NA          | NA          | NA          | \n",
       "| 15.8883     | 15.2966     | 15.6145     | 32729006    | 583291559   |  0.0883     |  0.5688     | 17.8219     | 0.1755      | 3.29793e+11 | 3.29793e+11 | 18653471415 | 6.5171      | NA          | NA          | NA          | NA          | NA          | \n",
       "| 15.7912     | 15.4556     | 15.6940     | 29807159    | 527753175   |  0.0795     |  0.5090     | 17.7056     | 0.1598      | 3.31472e+11 | 3.31472e+11 | 18653471415 | 6.5503      | NA          | NA          | NA          | NA          | NA          | \n",
       "| 15.6322     | 15.0846     | 15.2348     | 35968636    | 623546924   | -0.4593     | -2.9263     | 17.3359     | 0.1928      | 3.21772e+11 | 3.21772e+11 | 18653471415 | 6.3586      | NA          | NA          | NA          | NA          | NA          | \n",
       "| 15.4202     | 14.5724     | 14.6430     | 34197115    | 582845476   | -0.5917     | -3.8841     | 17.0437     | 0.1833      | 3.09275e+11 | 3.09275e+11 | 18653471415 | 6.1117      | NA          | NA          | NA          | NA          | NA          | \n",
       "| 15.1111     | 14.5636     | 15.0316     | 42007318    | 708179241   |  0.3886     |  2.6538     | 16.8585     | 0.2252      | 3.17482e+11 | 3.17482e+11 | 18653471415 | 6.2739      | NA          | NA          | NA          | NA          | NA          | \n",
       "| 15.1641     | 14.7667     | 15.0405     | 23558971    | 400445071   |  0.0088     |  0.0588     | 16.9976     | 0.1263      | 3.17669e+11 | 3.17669e+11 | 18653471415 | 6.2775      | NA          | NA          | NA          | NA          | NA          | \n",
       "| 15.1376     | 14.4841     | 14.7137     | 38279766    | 643611762   | -0.3268     | -2.1726     | 16.8134     | 0.2052      | 3.10767e+11 | 3.10767e+11 | 18653471415 | 6.1412      | NA          | NA          | NA          | NA          | NA          | \n",
       "| 14.9963     | 14.5812     | 14.7314     | 44291307    | 742640743   |  0.0177     |  0.1200     | 16.7672     | 0.2374      | 3.11140e+11 | 3.11140e+11 | 18653471415 | 6.1485      | NA          | NA          | NA          | NA          | NA          | \n",
       "| 14.8550     | 14.0248     | 14.6430     | 38902180    | 643984171   | -0.0883     | -0.5995     | 16.5539     | 0.2086      | 3.09275e+11 | 3.09275e+11 | 18653471415 | 6.1117      | NA          | NA          | NA          | NA          | NA          | \n",
       "| 15.0581     | 14.4929     | 14.9257     | 47429000    | 799493381   |  0.2826     |  1.9300     | 16.8566     | 0.2543      | 3.15244e+11 | 3.15244e+11 | 18653471415 | 6.2296      | NA          | NA          | NA          | NA          | NA          | \n",
       "| 15.0140     | 14.4929     | 14.5724     | 29139596    | 485275132   | -0.3533     | -2.3669     | 16.6535     | 0.1562      | 3.07782e+11 | 3.07782e+11 | 18653471415 | 6.0822      | NA          | NA          | NA          | NA          | NA          | \n",
       "| 14.9610     | 14.5371     | 14.8020     | 25380981    | 425396889   |  0.2296     |  1.5758     | 16.7605     | 0.1361      | 3.12632e+11 | 3.12632e+11 | 18653471415 | 6.1780      | NA          | NA          | NA          | NA          | NA          | \n",
       "| 14.7137     | 14.5282     | 14.6695     | 27779183    | 459255616   | -0.1325     | -0.8950     | 16.5324     | 0.1489      | 3.09834e+11 | 3.09834e+11 | 18653471415 | 6.1227      | NA          | NA          | NA          | NA          | NA          | \n",
       "| 15.2966     | 14.6872     | 15.2789     | 47162860    | 799283799   |  0.6094     |  4.1541     | 16.9473     | 0.2528      | 3.22705e+11 | 3.22705e+11 | 18653471415 | 6.3771      | NA          | NA          | NA          | NA          | NA          | \n",
       "| 16.2416     | 15.1465     | 16.2328     | 78413454    | 1401156041  |  0.9538     |  6.2428     | 17.8688     | 0.4204      | 3.42851e+11 | 3.42851e+11 | 18653471415 | 6.7752      | NA          | NA          | NA          | NA          | NA          | \n",
       "| 16.3211     | 15.7205     | 16.2946     | 67296317    | 1221398339  |  0.0618     |  0.3808     | 18.1496     | 0.3608      | 3.44157e+11 | 3.44157e+11 | 18653471415 | 6.8010      | NA          | NA          | NA          | NA          | NA          | \n",
       "| 15.4821     | 14.6695     | 14.9875     | 98240322    | 1657158636  | -1.3071     | -8.0217     | 16.8684     | 0.5267      | 3.16549e+11 | 3.16549e+11 | 18653471415 | 6.2554      | NA          | NA          | NA          | NA          | NA          | \n",
       "| 15.4291     | 14.8550     | 14.8903     | 56922239    | 973317374   | -0.0971     | -0.6482     | 17.0991     | 0.3052      | 3.14498e+11 | 3.14498e+11 | 18653471415 | 6.2149      | NA          | NA          | NA          | NA          | NA          | \n",
       "| 15.1818     | 14.8462     | 15.0316     | 37540932    | 638223050   |  0.1413     |  0.9490     | 17.0007     | 0.2013      | 3.17482e+11 | 3.17482e+11 | 18653471415 | 6.2739      | NA          | NA          | NA          | NA          | NA          | \n",
       "| 15.9590     | 14.9345     | 15.9236     | 108404378   | 1924212601  |  0.8920     |  5.9342     | 17.7503     | 0.5811      | 3.36322e+11 | 3.36322e+11 | 18653471415 | 6.6462      | NA          | NA          | NA          | NA          | NA          | \n",
       "| ... | ... | ... | ... | ... | ... | ... | ... | ... | ... | ... | ... | ... | ... | ... | ... | ... | ... | \n",
       "| 16.00       | 15.83       | 15.96       | 19902006    | 316984958   |  0.08       |  0.5038     | 15.9273     | 0.0921      | 3.45028e+11 | 3.45028e+11 | 21618279922 | 6.4978      | NA          | NA          | NA          | NA          | NA          | \n",
       "| 16.13       | 15.90       | 16.04       | 18997369    | 304990151   |  0.08       |  0.5013     | 16.0543     | 0.0879      | 3.46757e+11 | 3.46757e+11 | 21618279922 | 6.5304      | NA          | NA          | NA          | NA          | NA          | \n",
       "| 16.13       | 15.97       | 16.01       | 13212969    | 211750766   | -0.03       | -0.1870     | 16.026      | 0.0611      | 3.46109e+11 | 3.46109e+11 | 21618279922 | 6.5182      | NA          | NA          | NA          | NA          | NA          | \n",
       "| 16.11       | 15.80       | 15.87       | 23446792    | 372794465   | -0.14       | -0.8745     | 15.8996     | 0.1085      | 3.43082e+11 | 3.43082e+11 | 21618279922 | 6.4612      | NA          | NA          | NA          | NA          | NA          | \n",
       "| 15.90       | 15.72       | 15.81       | 23645144    | 373665115   | -0.06       | -0.3781     | 15.803      | 0.1094      | 3.41785e+11 | 3.41785e+11 | 21618279922 | 6.4368      | NA          | NA          | NA          | NA          | NA          | \n",
       "| 16.05       | 15.77       | 16.01       | 24187120    | 385793421   |  0.20       |  1.2650     | 15.9504     | 0.1119      | 3.46109e+11 | 3.46109e+11 | 21618279922 | 6.5182      | NA          | NA          | NA          | NA          | NA          | \n",
       "| 16.20       | 15.89       | 16.16       | 31036271    | 499121565   |  0.15       |  0.9369     | 16.0819     | 0.1436      | 3.49351e+11 | 3.49351e+11 | 21618279922 | 6.5792      | NA          | NA          | NA          | NA          | NA          | \n",
       "| 16.18       | 16.03       | 16.10       | 22335442    | 359361840   | -0.06       | -0.3713     | 16.0893     | 0.1033      | 3.48054e+11 | 3.48054e+11 | 21618279922 | 6.5548      | NA          | NA          | NA          | NA          | NA          | \n",
       "| 16.16       | 16.02       | 16.10       | 20126948    | 323821647   |  0.00       |  0.0000     | 16.089      | 0.0931      | 3.48054e+11 | 3.48054e+11 | 21618279922 | 6.5548      | NA          | NA          | NA          | NA          | NA          | \n",
       "| 16.12       | 15.94       | 15.97       | 16154024    | 258662668   | -0.13       | -0.8075     | 16.0123     | 0.0747      | 3.45244e+11 | 3.45244e+11 | 21618279922 | 6.5019      | NA          | NA          | NA          | NA          | NA          | \n",
       "| 15.99       | 15.81       | 15.89       | 18611375    | 295381671   | -0.08       | -0.5009     | 15.871      | 0.0861      | 3.43514e+11 | 3.43514e+11 | 21618279922 | 6.4693      | NA          | NA          | NA          | NA          | NA          | \n",
       "| 15.96       | 15.75       | 15.89       | 22210541    | 352357729   |  0.00       |  0.0000     | 15.8644     | 0.1027      | 3.43514e+11 | 3.43514e+11 | 21618279922 | 6.4693      | NA          | NA          | NA          | NA          | NA          | \n",
       "| 15.89       | 15.73       | 15.75       | 23426650    | 369388222   | -0.14       | -0.8811     | 15.7679     | 0.1084      | 3.40488e+11 | 3.40488e+11 | 21618279922 | 6.4123      | NA          | NA          | NA          | NA          | NA          | \n",
       "| 15.78       | 15.42       | 15.51       | 40156553    | 625510632   | -0.24       | -1.5238     | 15.5768     | 0.1858      | 3.35300e+11 | 3.35300e+11 | 21618279922 | 6.3146      | NA          | NA          | NA          | NA          | NA          | \n",
       "| 15.60       | 15.30       | 15.56       | 36739448    | 566536789   |  0.05       |  0.3224     | 15.4204     | 0.1699      | 3.36380e+11 | 3.36380e+11 | 21618279922 | 6.3350      | NA          | NA          | NA          | NA          | NA          | \n",
       "| 15.52       | 15.30       | 15.30       | 22889980    | 351624622   | -0.26       | -1.6710     | 15.3615     | 0.1059      | 3.30760e+11 | 3.30760e+11 | 21618279922 | 6.2291      | NA          | NA          | NA          | NA          | NA          | \n",
       "| 15.27       | 15.11       | 15.11       | 24455407    | 371021507   | -0.19       | -1.2418     | 15.1713     | 0.1131      | 3.26652e+11 | 3.26652e+11 | 21618279922 | 6.1518      | NA          | NA          | NA          | NA          | NA          | \n",
       "| 15.14       | 14.90       | 14.91       | 41061406    | 614436383   | -0.20       | -1.3236     | 14.9638     | 0.1899      | 3.22329e+11 | 3.22329e+11 | 21618279922 | 6.0703      | NA          | NA          | NA          | NA          | NA          | \n",
       "| 15.07       | 14.85       | 15.05       | 22688358    | 340453104   |  0.14       |  0.9390     | 15.0056     | 0.1049      | 3.25355e+11 | 3.25355e+11 | 21618279922 | 6.1273      | NA          | NA          | NA          | NA          | NA          | \n",
       "| 15.11       | 14.91       | 15.00       | 17627803    | 264649933   | -0.05       | -0.3322     | 15.0132     | 0.0815      | 3.24274e+11 | 3.24274e+11 | 21618279922 | 6.1070      | NA          | NA          | NA          | NA          | NA          | \n",
       "| 15.10       | 14.99       | 15.05       | 12975919    | 195296862   |  0.05       |  0.3333     | 15.0507     | 0.0600      | 3.25355e+11 | 3.25355e+11 | 21618279922 | 6.1273      | NA          | NA          | NA          | NA          | NA          | \n",
       "| 15.11       | 15.00       | 15.05       | 14939871    | 225022668   |  0.00       |  0.0000     | 15.0619     | 0.0691      | 3.25355e+11 | 3.25355e+11 | 21618279922 | 6.1273      | NA          | NA          | NA          | NA          | NA          | \n",
       "| 15.25       | 15.03       | 15.21       | 22887645    | 345791526   |  0.16       |  1.0631     | 15.1082     | 0.1059      | 3.28814e+11 | 3.28814e+11 | 21618279922 | 6.1925      | NA          | NA          | NA          | NA          | NA          | \n",
       "| 15.22       | 15.08       | 15.21       | 15718509    | 238419161   |  0.00       |  0.0000     | 15.1681     | 0.0727      | 3.28814e+11 | 3.28814e+11 | 21618279922 | 6.1925      | NA          | NA          | NA          | NA          | NA          | \n",
       "| 15.22       | 15.13       | 15.16       | 12607509    | 191225527   | -0.05       | -0.3287     | 15.1676     | 0.0583      | 3.27733e+11 | 3.27733e+11 | 21618279922 | 6.1721      | NA          | NA          | NA          | NA          | NA          | \n",
       "| 15.16       | 15.05       | 15.08       | 14247943    | 215130847   | -0.08       | -0.5277     | 15.0991     | 0.0659      | 3.26004e+11 | 3.26004e+11 | 21618279922 | 6.1395      | NA          | NA          | NA          | NA          | NA          | \n",
       "| 15.07       | 14.90       | 14.98       | 19477788    | 291839737   | -0.10       | -0.6631     | 14.9832     | 0.0901      | 3.23842e+11 | 3.23842e+11 | 21618279922 | 6.0988      | NA          | NA          | NA          | NA          | NA          | \n",
       "| 14.98       | 14.52       | 14.92       | 40194577    | 592160198   | -0.06       | -0.4005     | 14.7323     | 0.1859      | 3.22545e+11 | 3.22545e+11 | 21618279922 | 6.0744      | NA          | NA          | NA          | NA          | NA          | \n",
       "| 14.90       | 14.51       | 14.86       | 43568576    | 638781010   | -0.06       | -0.4021     | 14.6615     | 0.2015      | 3.21248e+11 | 3.21248e+11 | 21618279922 | 6.0500      | NA          | NA          | NA          | NA          | NA          | \n",
       "| 14.84       | 14.66       | 14.76       | 19225492    | 283864640   | -0.10       | -0.6729     | 14.765      | 0.0889      | 3.19086e+11 | 3.19086e+11 | 21618279922 | 6.0093      | NA          | NA          | NA          | NA          | NA          | \n",
       "\n",
       "\n"
      ],
      "text/plain": [
       "    ﻿代码    简称    日期    前收盘价(元) 开盘价(元) 最高价(元) 最低价(元)\n",
       "1   16.1444 15.4997 15.7205 42240610     754425783  -0.4151    -2.5725   \n",
       "2   15.9501 15.3672 15.8618 58054793     1034181474  0.1413     0.8989   \n",
       "3   16.0208 15.6234 15.9855 46772653     838667398   0.1236     0.7795   \n",
       "4   15.8088 15.3672 15.4644 11350479     199502702  -0.5211    -3.2597   \n",
       "5   15.7912 14.9345 15.4467 71918296     1262105060 -0.0177    -0.1142   \n",
       "6   15.4114 14.9786 15.0581 90177135     1550155933 -0.3886    -2.5157   \n",
       "7   15.4732 15.0846 15.4114 55374454     964061502   0.3533     2.3460   \n",
       "8   15.8088 15.3231 15.3584 47869312     843717365  -0.0530    -0.3438   \n",
       "9   15.8883 14.9168 15.8265 54838833     966117848   0.4681     3.0477   \n",
       "10  16.0296 15.4732 15.5262 46723139     836146426  -0.3003    -1.8973   \n",
       "11  15.8883 15.2966 15.6145 32729006     583291559   0.0883     0.5688   \n",
       "12  15.7912 15.4556 15.6940 29807159     527753175   0.0795     0.5090   \n",
       "13  15.6322 15.0846 15.2348 35968636     623546924  -0.4593    -2.9263   \n",
       "14  15.4202 14.5724 14.6430 34197115     582845476  -0.5917    -3.8841   \n",
       "15  15.1111 14.5636 15.0316 42007318     708179241   0.3886     2.6538   \n",
       "16  15.1641 14.7667 15.0405 23558971     400445071   0.0088     0.0588   \n",
       "17  15.1376 14.4841 14.7137 38279766     643611762  -0.3268    -2.1726   \n",
       "18  14.9963 14.5812 14.7314 44291307     742640743   0.0177     0.1200   \n",
       "19  14.8550 14.0248 14.6430 38902180     643984171  -0.0883    -0.5995   \n",
       "20  15.0581 14.4929 14.9257 47429000     799493381   0.2826     1.9300   \n",
       "21  15.0140 14.4929 14.5724 29139596     485275132  -0.3533    -2.3669   \n",
       "22  14.9610 14.5371 14.8020 25380981     425396889   0.2296     1.5758   \n",
       "23  14.7137 14.5282 14.6695 27779183     459255616  -0.1325    -0.8950   \n",
       "24  15.2966 14.6872 15.2789 47162860     799283799   0.6094     4.1541   \n",
       "25  16.2416 15.1465 16.2328 78413454     1401156041  0.9538     6.2428   \n",
       "26  16.3211 15.7205 16.2946 67296317     1221398339  0.0618     0.3808   \n",
       "27  15.4821 14.6695 14.9875 98240322     1657158636 -1.3071    -8.0217   \n",
       "28  15.4291 14.8550 14.8903 56922239     973317374  -0.0971    -0.6482   \n",
       "29  15.1818 14.8462 15.0316 37540932     638223050   0.1413     0.9490   \n",
       "30  15.9590 14.9345 15.9236 108404378    1924212601  0.8920     5.9342   \n",
       "... ...     ...     ...     ...          ...        ...        ...       \n",
       "280 16.00   15.83   15.96   19902006     316984958   0.08       0.5038   \n",
       "281 16.13   15.90   16.04   18997369     304990151   0.08       0.5013   \n",
       "282 16.13   15.97   16.01   13212969     211750766  -0.03      -0.1870   \n",
       "283 16.11   15.80   15.87   23446792     372794465  -0.14      -0.8745   \n",
       "284 15.90   15.72   15.81   23645144     373665115  -0.06      -0.3781   \n",
       "285 16.05   15.77   16.01   24187120     385793421   0.20       1.2650   \n",
       "286 16.20   15.89   16.16   31036271     499121565   0.15       0.9369   \n",
       "287 16.18   16.03   16.10   22335442     359361840  -0.06      -0.3713   \n",
       "288 16.16   16.02   16.10   20126948     323821647   0.00       0.0000   \n",
       "289 16.12   15.94   15.97   16154024     258662668  -0.13      -0.8075   \n",
       "290 15.99   15.81   15.89   18611375     295381671  -0.08      -0.5009   \n",
       "291 15.96   15.75   15.89   22210541     352357729   0.00       0.0000   \n",
       "292 15.89   15.73   15.75   23426650     369388222  -0.14      -0.8811   \n",
       "293 15.78   15.42   15.51   40156553     625510632  -0.24      -1.5238   \n",
       "294 15.60   15.30   15.56   36739448     566536789   0.05       0.3224   \n",
       "295 15.52   15.30   15.30   22889980     351624622  -0.26      -1.6710   \n",
       "296 15.27   15.11   15.11   24455407     371021507  -0.19      -1.2418   \n",
       "297 15.14   14.90   14.91   41061406     614436383  -0.20      -1.3236   \n",
       "298 15.07   14.85   15.05   22688358     340453104   0.14       0.9390   \n",
       "299 15.11   14.91   15.00   17627803     264649933  -0.05      -0.3322   \n",
       "300 15.10   14.99   15.05   12975919     195296862   0.05       0.3333   \n",
       "301 15.11   15.00   15.05   14939871     225022668   0.00       0.0000   \n",
       "302 15.25   15.03   15.21   22887645     345791526   0.16       1.0631   \n",
       "303 15.22   15.08   15.21   15718509     238419161   0.00       0.0000   \n",
       "304 15.22   15.13   15.16   12607509     191225527  -0.05      -0.3287   \n",
       "305 15.16   15.05   15.08   14247943     215130847  -0.08      -0.5277   \n",
       "306 15.07   14.90   14.98   19477788     291839737  -0.10      -0.6631   \n",
       "307 14.98   14.52   14.92   40194577     592160198  -0.06      -0.4005   \n",
       "308 14.90   14.51   14.86   43568576     638781010  -0.06      -0.4021   \n",
       "309 14.84   14.66   14.76   19225492     283864640  -0.10      -0.6729   \n",
       "    收盘价(元) 成交量(股) 成交金额(元) 涨跌(元)    涨跌幅(%)   均价(元)\n",
       "1   17.8602    0.2264     3.32032e+11  3.32032e+11 18653471415 6.5614  \n",
       "2   17.8139    0.3112     3.35016e+11  3.35016e+11 18653471415 6.6204  \n",
       "3   17.9307    0.2507     3.37628e+11  3.37628e+11 18653471415 6.6720  \n",
       "4   17.5766    0.0608     3.26622e+11  3.26622e+11 18653471415 6.4545  \n",
       "5   17.5492    0.3855     3.26249e+11  3.26249e+11 18653471415 6.4471  \n",
       "6   17.1901    0.4834     3.18042e+11  3.18042e+11 18653471415 6.2849  \n",
       "7   17.4099    0.2969     3.25503e+11  3.25503e+11 18653471415 6.4324  \n",
       "8   17.6254    0.2566     3.24384e+11  3.24384e+11 18653471415 6.4102  \n",
       "9   17.6174    0.2940     3.34270e+11  3.34270e+11 18653471415 6.6056  \n",
       "10  17.8958    0.2505     3.27928e+11  3.27928e+11 18653471415 6.4803  \n",
       "11  17.8219    0.1755     3.29793e+11  3.29793e+11 18653471415 6.5171  \n",
       "12  17.7056    0.1598     3.31472e+11  3.31472e+11 18653471415 6.5503  \n",
       "13  17.3359    0.1928     3.21772e+11  3.21772e+11 18653471415 6.3586  \n",
       "14  17.0437    0.1833     3.09275e+11  3.09275e+11 18653471415 6.1117  \n",
       "15  16.8585    0.2252     3.17482e+11  3.17482e+11 18653471415 6.2739  \n",
       "16  16.9976    0.1263     3.17669e+11  3.17669e+11 18653471415 6.2775  \n",
       "17  16.8134    0.2052     3.10767e+11  3.10767e+11 18653471415 6.1412  \n",
       "18  16.7672    0.2374     3.11140e+11  3.11140e+11 18653471415 6.1485  \n",
       "19  16.5539    0.2086     3.09275e+11  3.09275e+11 18653471415 6.1117  \n",
       "20  16.8566    0.2543     3.15244e+11  3.15244e+11 18653471415 6.2296  \n",
       "21  16.6535    0.1562     3.07782e+11  3.07782e+11 18653471415 6.0822  \n",
       "22  16.7605    0.1361     3.12632e+11  3.12632e+11 18653471415 6.1780  \n",
       "23  16.5324    0.1489     3.09834e+11  3.09834e+11 18653471415 6.1227  \n",
       "24  16.9473    0.2528     3.22705e+11  3.22705e+11 18653471415 6.3771  \n",
       "25  17.8688    0.4204     3.42851e+11  3.42851e+11 18653471415 6.7752  \n",
       "26  18.1496    0.3608     3.44157e+11  3.44157e+11 18653471415 6.8010  \n",
       "27  16.8684    0.5267     3.16549e+11  3.16549e+11 18653471415 6.2554  \n",
       "28  17.0991    0.3052     3.14498e+11  3.14498e+11 18653471415 6.2149  \n",
       "29  17.0007    0.2013     3.17482e+11  3.17482e+11 18653471415 6.2739  \n",
       "30  17.7503    0.5811     3.36322e+11  3.36322e+11 18653471415 6.6462  \n",
       "... ...        ...        ...          ...         ...         ...     \n",
       "280 15.9273    0.0921     3.45028e+11  3.45028e+11 21618279922 6.4978  \n",
       "281 16.0543    0.0879     3.46757e+11  3.46757e+11 21618279922 6.5304  \n",
       "282 16.026     0.0611     3.46109e+11  3.46109e+11 21618279922 6.5182  \n",
       "283 15.8996    0.1085     3.43082e+11  3.43082e+11 21618279922 6.4612  \n",
       "284 15.803     0.1094     3.41785e+11  3.41785e+11 21618279922 6.4368  \n",
       "285 15.9504    0.1119     3.46109e+11  3.46109e+11 21618279922 6.5182  \n",
       "286 16.0819    0.1436     3.49351e+11  3.49351e+11 21618279922 6.5792  \n",
       "287 16.0893    0.1033     3.48054e+11  3.48054e+11 21618279922 6.5548  \n",
       "288 16.089     0.0931     3.48054e+11  3.48054e+11 21618279922 6.5548  \n",
       "289 16.0123    0.0747     3.45244e+11  3.45244e+11 21618279922 6.5019  \n",
       "290 15.871     0.0861     3.43514e+11  3.43514e+11 21618279922 6.4693  \n",
       "291 15.8644    0.1027     3.43514e+11  3.43514e+11 21618279922 6.4693  \n",
       "292 15.7679    0.1084     3.40488e+11  3.40488e+11 21618279922 6.4123  \n",
       "293 15.5768    0.1858     3.35300e+11  3.35300e+11 21618279922 6.3146  \n",
       "294 15.4204    0.1699     3.36380e+11  3.36380e+11 21618279922 6.3350  \n",
       "295 15.3615    0.1059     3.30760e+11  3.30760e+11 21618279922 6.2291  \n",
       "296 15.1713    0.1131     3.26652e+11  3.26652e+11 21618279922 6.1518  \n",
       "297 14.9638    0.1899     3.22329e+11  3.22329e+11 21618279922 6.0703  \n",
       "298 15.0056    0.1049     3.25355e+11  3.25355e+11 21618279922 6.1273  \n",
       "299 15.0132    0.0815     3.24274e+11  3.24274e+11 21618279922 6.1070  \n",
       "300 15.0507    0.0600     3.25355e+11  3.25355e+11 21618279922 6.1273  \n",
       "301 15.0619    0.0691     3.25355e+11  3.25355e+11 21618279922 6.1273  \n",
       "302 15.1082    0.1059     3.28814e+11  3.28814e+11 21618279922 6.1925  \n",
       "303 15.1681    0.0727     3.28814e+11  3.28814e+11 21618279922 6.1925  \n",
       "304 15.1676    0.0583     3.27733e+11  3.27733e+11 21618279922 6.1721  \n",
       "305 15.0991    0.0659     3.26004e+11  3.26004e+11 21618279922 6.1395  \n",
       "306 14.9832    0.0901     3.23842e+11  3.23842e+11 21618279922 6.0988  \n",
       "307 14.7323    0.1859     3.22545e+11  3.22545e+11 21618279922 6.0744  \n",
       "308 14.6615    0.2015     3.21248e+11  3.21248e+11 21618279922 6.0500  \n",
       "309 14.765     0.0889     3.19086e+11  3.19086e+11 21618279922 6.0093  \n",
       "    换手率(%) A股流通市值(元) 总市值(元) A股流通股本(股) 市盈率\n",
       "1   NA        NA              NA         NA              NA    \n",
       "2   NA        NA              NA         NA              NA    \n",
       "3   NA        NA              NA         NA              NA    \n",
       "4   NA        NA              NA         NA              NA    \n",
       "5   NA        NA              NA         NA              NA    \n",
       "6   NA        NA              NA         NA              NA    \n",
       "7   NA        NA              NA         NA              NA    \n",
       "8   NA        NA              NA         NA              NA    \n",
       "9   NA        NA              NA         NA              NA    \n",
       "10  NA        NA              NA         NA              NA    \n",
       "11  NA        NA              NA         NA              NA    \n",
       "12  NA        NA              NA         NA              NA    \n",
       "13  NA        NA              NA         NA              NA    \n",
       "14  NA        NA              NA         NA              NA    \n",
       "15  NA        NA              NA         NA              NA    \n",
       "16  NA        NA              NA         NA              NA    \n",
       "17  NA        NA              NA         NA              NA    \n",
       "18  NA        NA              NA         NA              NA    \n",
       "19  NA        NA              NA         NA              NA    \n",
       "20  NA        NA              NA         NA              NA    \n",
       "21  NA        NA              NA         NA              NA    \n",
       "22  NA        NA              NA         NA              NA    \n",
       "23  NA        NA              NA         NA              NA    \n",
       "24  NA        NA              NA         NA              NA    \n",
       "25  NA        NA              NA         NA              NA    \n",
       "26  NA        NA              NA         NA              NA    \n",
       "27  NA        NA              NA         NA              NA    \n",
       "28  NA        NA              NA         NA              NA    \n",
       "29  NA        NA              NA         NA              NA    \n",
       "30  NA        NA              NA         NA              NA    \n",
       "... ...       ...             ...        ...             ...   \n",
       "280 NA        NA              NA         NA              NA    \n",
       "281 NA        NA              NA         NA              NA    \n",
       "282 NA        NA              NA         NA              NA    \n",
       "283 NA        NA              NA         NA              NA    \n",
       "284 NA        NA              NA         NA              NA    \n",
       "285 NA        NA              NA         NA              NA    \n",
       "286 NA        NA              NA         NA              NA    \n",
       "287 NA        NA              NA         NA              NA    \n",
       "288 NA        NA              NA         NA              NA    \n",
       "289 NA        NA              NA         NA              NA    \n",
       "290 NA        NA              NA         NA              NA    \n",
       "291 NA        NA              NA         NA              NA    \n",
       "292 NA        NA              NA         NA              NA    \n",
       "293 NA        NA              NA         NA              NA    \n",
       "294 NA        NA              NA         NA              NA    \n",
       "295 NA        NA              NA         NA              NA    \n",
       "296 NA        NA              NA         NA              NA    \n",
       "297 NA        NA              NA         NA              NA    \n",
       "298 NA        NA              NA         NA              NA    \n",
       "299 NA        NA              NA         NA              NA    \n",
       "300 NA        NA              NA         NA              NA    \n",
       "301 NA        NA              NA         NA              NA    \n",
       "302 NA        NA              NA         NA              NA    \n",
       "303 NA        NA              NA         NA              NA    \n",
       "304 NA        NA              NA         NA              NA    \n",
       "305 NA        NA              NA         NA              NA    \n",
       "306 NA        NA              NA         NA              NA    \n",
       "307 NA        NA              NA         NA              NA    \n",
       "308 NA        NA              NA         NA              NA    \n",
       "309 NA        NA              NA         NA              NA    "
      ]
     },
     "metadata": {},
     "output_type": "display_data"
    }
   ],
   "source": [
    "lead(df,5)"
   ]
  },
  {
   "cell_type": "markdown",
   "metadata": {},
   "source": [
    "### 77.使用expending函数计算开盘价的移动窗口均值"
   ]
  },
  {
   "cell_type": "code",
   "execution_count": 88,
   "metadata": {
    "collapsed": true
   },
   "outputs": [],
   "source": [
    "#R中没有expanding完全一致的函数\n",
    "#考虑到expanding实际功能就是累积均值\n",
    "#可以用cummean\n",
    "#但cummean的功能和我预想的不同\n",
    "#可能是包之间相互干扰\n",
    "#最后采用cumsum/1:n的形式完成本题\n",
    "\n",
    "res <- df %>%\n",
    "  transmute(cummean = cumsum(`开盘价(元)`)/1:dim(df)[1])"
   ]
  },
  {
   "cell_type": "markdown",
   "metadata": {},
   "source": [
    "### 78.绘制上一题的移动均值与原始数据折线图"
   ]
  },
  {
   "cell_type": "code",
   "execution_count": null,
   "metadata": {
    "collapsed": false
   },
   "outputs": [],
   "source": [
    "library(tidyr)\n",
    "df %>%\n",
    "  cbind(res) %>%\n",
    "  dplyr::rename(Opening_Price = `开盘价(元)`,\n",
    "         Expanding_Open_Mean = cummean) %>%\n",
    "  select(日期,Opening_Price,Expanding_Open_Mean) %>%\n",
    "  pivot_longer(c(Opening_Price,Expanding_Open_Mean),\n",
    "               names_to = 'type',\n",
    "               values_to ='price') %>%\n",
    "  ggplot(aes(日期,price,color = type)) +\n",
    "  geom_line(size=1.2) +\n",
    "  scale_color_manual(values=c('orange','steelblue')) +\n",
    "  theme_bw() +\n",
    "  theme(\n",
    "    panel.grid.major = element_blank(),\n",
    "    panel.grid.minor = element_blank(),\n",
    "    legend.title = element_blank(),\n",
    "    legend.position = c(0.9, 0.9)\n",
    "  )"
   ]
  },
  {
   "cell_type": "markdown",
   "metadata": {},
   "source": [
    "### 79.计算布林指标"
   ]
  },
  {
   "cell_type": "code",
   "execution_count": null,
   "metadata": {
    "collapsed": false
   },
   "outputs": [],
   "source": [
    "df <- df %>%\n",
    "  mutate(avg_20 = roll_mean(`收盘价(元)`,n = 20,align=\"right\",fill = NA),\n",
    "         upper_bound = avg_20 + 2 * roll_sd(`收盘价(元)`,n = 20,align=\"right\",fill = NA),\n",
    "         lower_bound = avg_20 - 2 * roll_sd(`收盘价(元)`,n = 20,align=\"right\",fill = NA))"
   ]
  },
  {
   "cell_type": "markdown",
   "metadata": {},
   "source": [
    "### 80.计算布林线并绘制"
   ]
  },
  {
   "cell_type": "code",
   "execution_count": null,
   "metadata": {
    "collapsed": false
   },
   "outputs": [],
   "source": [
    "df %>%\n",
    "  dplyr::rename(former_30_days_rolling_Close_mean = avg_20,\n",
    "                Closing_Price = `收盘价(元)`) %>%\n",
    "  select(日期,Closing_Price,\n",
    "           former_30_days_rolling_Close_mean,upper_bound,lower_bound) %>%\n",
    "  pivot_longer(c(Closing_Price,former_30_days_rolling_Close_mean,upper_bound,lower_bound),\n",
    "               names_to = 'type',\n",
    "               values_to ='price') %>%\n",
    "  ggplot(aes(日期,price,color = type)) +\n",
    "  geom_line(size=1.2) +\n",
    "  scale_color_manual(values=c('steelblue','orange','red','green')) +\n",
    "  theme_bw() +\n",
    "  theme(\n",
    "    panel.grid.major = element_blank(),\n",
    "    panel.grid.minor = element_blank(),\n",
    "    legend.title = element_blank(),\n",
    "    legend.position = c(0.6, 0.2)\n",
    "  )"
   ]
  },
  {
   "cell_type": "markdown",
   "metadata": {
    "collapsed": true,
    "deletable": true,
    "editable": true
   },
   "source": [
    "## 第四期｜科学计算：81-100\n",
    "备注：在Pandas120题中，本期为NumPy结合，R中则没有NumPy，\n",
    "\n",
    "尽可能保持一致\n",
    "详情点击：https://mp.weixin.qq.com/s/WvgOlFGK0FToobl9ws2oSQ"
   ]
  },
  {
   "cell_type": "markdown",
   "metadata": {
    "collapsed": true,
    "deletable": true,
    "editable": true
   },
   "source": [
    "### 81.查看包的版本"
   ]
  },
  {
   "cell_type": "code",
   "execution_count": 92,
   "metadata": {
    "collapsed": false
   },
   "outputs": [
    {
     "data": {
      "text/plain": [
       "[1] ‘1.1.1’"
      ]
     },
     "metadata": {},
     "output_type": "display_data"
    },
    {
     "data": {
      "text/plain": [
       "[1] ‘0.5.0’"
      ]
     },
     "metadata": {},
     "output_type": "display_data"
    }
   ],
   "source": [
    "packageVersion(\"tidyverse\")\n",
    "\n",
    "packageVersion(\"dplyr\")\n"
   ]
  },
  {
   "cell_type": "markdown",
   "metadata": {},
   "source": [
    "### 82.从数组创建DataFrame"
   ]
  },
  {
   "cell_type": "code",
   "execution_count": 93,
   "metadata": {
    "collapsed": true
   },
   "outputs": [],
   "source": [
    "df1 <- sapply(20,function(n) {\n",
    "  replicate(n,sample(1:100,1))\n",
    "}) %>%\n",
    "  as.data.frame(.) %>%\n",
    "  dplyr::rename(`0` = V1)"
   ]
  },
  {
   "cell_type": "markdown",
   "metadata": {},
   "source": [
    "### 83.生成20个0-100固定步长的数"
   ]
  },
  {
   "cell_type": "code",
   "execution_count": null,
   "metadata": {
    "collapsed": false
   },
   "outputs": [],
   "source": [
    "df2 <- as.data.frame(seq(0,99,5)) %>%\n",
    "  dplyr::rename(`0` = \"seq(0, 99, 5)\")"
   ]
  },
  {
   "cell_type": "markdown",
   "metadata": {},
   "source": [
    "### 84.生成20个指定分布(如标准正态分布)的数"
   ]
  },
  {
   "cell_type": "code",
   "execution_count": null,
   "metadata": {
    "collapsed": false
   },
   "outputs": [],
   "source": [
    "df3 <- as.data.frame(rnorm(20,0,1)) %>%\n",
    "  dplyr::rename(`0` = \"rnorm(20, 0, 1)\")"
   ]
  },
  {
   "cell_type": "markdown",
   "metadata": {},
   "source": [
    "### 85.将df1，df2，df3按照行合并为新DataFrame"
   ]
  },
  {
   "cell_type": "code",
   "execution_count": null,
   "metadata": {
    "collapsed": true
   },
   "outputs": [],
   "source": [
    "df <- rbind(df1,df2,df3)"
   ]
  },
  {
   "cell_type": "markdown",
   "metadata": {},
   "source": [
    "### 86.将df1，df2，df3按照列合并为新DataFrame"
   ]
  },
  {
   "cell_type": "code",
   "execution_count": null,
   "metadata": {
    "collapsed": true
   },
   "outputs": [],
   "source": [
    "df <- cbind(df1,df2,df3)\n",
    "names(df) <- c(0,1,2)"
   ]
  },
  {
   "cell_type": "markdown",
   "metadata": {},
   "source": [
    "### 87.查看df所有数据的最小值、25%分位数、中位数、75%分位数、最大值"
   ]
  },
  {
   "cell_type": "code",
   "execution_count": null,
   "metadata": {
    "collapsed": true
   },
   "outputs": [],
   "source": [
    "summary(unlist(df))"
   ]
  },
  {
   "cell_type": "markdown",
   "metadata": {},
   "source": [
    "### 88.修改列名为col1,col2,col3"
   ]
  },
  {
   "cell_type": "code",
   "execution_count": null,
   "metadata": {
    "collapsed": true
   },
   "outputs": [],
   "source": [
    "df <- df %>%\n",
    "  dplyr::rename(col1 = 1,\n",
    "                col2 = 2,\n",
    "                col3 = 3)\n",
    "# 或者用类似pandas的方法\n",
    "names(df) <- c('col1','col2','col3')"
   ]
  },
  {
   "cell_type": "markdown",
   "metadata": {},
   "source": [
    "### 89.提取第一列中不在第二列出现的数字"
   ]
  },
  {
   "cell_type": "code",
   "execution_count": null,
   "metadata": {
    "collapsed": true
   },
   "outputs": [],
   "source": [
    "df[!(df$col1 %in% df$col2),1]"
   ]
  },
  {
   "cell_type": "markdown",
   "metadata": {},
   "source": [
    "### 90.提取第一列和第二列出现频率最高的三个数字"
   ]
  },
  {
   "cell_type": "code",
   "execution_count": null,
   "metadata": {
    "collapsed": true
   },
   "outputs": [],
   "source": [
    "count(unlist(c(df$col1,df$col2))) %>%\n",
    "  arrange(desc(freq)) %>%\n",
    "  filter(row_number() <= 3)"
   ]
  },
  {
   "cell_type": "markdown",
   "metadata": {},
   "source": [
    "### 91.提取第一列中可以整除5的数字位置"
   ]
  },
  {
   "cell_type": "code",
   "execution_count": null,
   "metadata": {
    "collapsed": true
   },
   "outputs": [],
   "source": [
    "which(df['col1'] %% 5==0)"
   ]
  },
  {
   "cell_type": "markdown",
   "metadata": {},
   "source": [
    "### 92.计算第一列数字前一个与后一个的差值"
   ]
  },
  {
   "cell_type": "code",
   "execution_count": null,
   "metadata": {
    "collapsed": true
   },
   "outputs": [],
   "source": [
    "df %>%\n",
    "  summarise(col1 - lag(col1)) %>%\n",
    "  na.omit(.) # 不去NA也可以，pandas没有去除"
   ]
  },
  {
   "cell_type": "markdown",
   "metadata": {},
   "source": [
    "### 93.将col1,col2,clo3三列顺序颠倒"
   ]
  },
  {
   "cell_type": "code",
   "execution_count": null,
   "metadata": {
    "collapsed": true
   },
   "outputs": [],
   "source": [
    "df %>%\n",
    "  select(col3,col2,everything())"
   ]
  },
  {
   "cell_type": "markdown",
   "metadata": {},
   "source": [
    "### 94.提取第一列位置在1,10,15的数字"
   ]
  },
  {
   "cell_type": "code",
   "execution_count": null,
   "metadata": {
    "collapsed": true
   },
   "outputs": [],
   "source": [
    "df[c(1,10,15) + 1,1]"
   ]
  },
  {
   "cell_type": "markdown",
   "metadata": {},
   "source": [
    "### 95.找第一列的局部最大值位置,即比它前一个与后一个数字的都大的数字"
   ]
  },
  {
   "cell_type": "code",
   "execution_count": null,
   "metadata": {
    "collapsed": true
   },
   "outputs": [],
   "source": [
    "res1 <- which((df$col1 - lag(df$col1) > 0))\n",
    "res2 <- which((df$col1 - lead(df$col1) > 0))\n",
    "\n",
    "intersect(res1,res2)\n",
    "# [1] 3 5 7 12 14 17 19\n",
    "\n",
    "# 另一种方法，类似pandas的用符号判断\n",
    "\n",
    "res <- sign(df$col1 - lag(df$col1))\n",
    "\n",
    "which(res - lag(res) == -2) - 1\n",
    "# # [1] 3 5 7 12 14 17 19"
   ]
  },
  {
   "cell_type": "markdown",
   "metadata": {},
   "source": [
    "### 96.按行计算df的每一行均值"
   ]
  },
  {
   "cell_type": "code",
   "execution_count": null,
   "metadata": {
    "collapsed": true
   },
   "outputs": [],
   "source": [
    "rowMeans(df)"
   ]
  },
  {
   "cell_type": "markdown",
   "metadata": {},
   "source": [
    "### 97.对第二列计算移动平均值\n",
    "备注\n",
    "每次移动三个位置，不可以使用自定义函数"
   ]
  },
  {
   "cell_type": "code",
   "execution_count": null,
   "metadata": {
    "collapsed": true
   },
   "outputs": [],
   "source": [
    "library(RcppRoll)\n",
    "\n",
    "df %>%\n",
    "  summarise(avg_3 = roll_mean(col2, n=3))"
   ]
  },
  {
   "cell_type": "markdown",
   "metadata": {},
   "source": [
    "### 98.将数据按照第三列值的大小升序排列"
   ]
  },
  {
   "cell_type": "code",
   "execution_count": null,
   "metadata": {
    "collapsed": true
   },
   "outputs": [],
   "source": [
    "df <- df %>%\n",
    "  arrange(col3)"
   ]
  },
  {
   "cell_type": "markdown",
   "metadata": {},
   "source": [
    "### 99.将第一列大于50的数字修改为'高'"
   ]
  },
  {
   "cell_type": "code",
   "execution_count": null,
   "metadata": {
    "collapsed": true,
    "deletable": true,
    "editable": true
   },
   "outputs": [],
   "source": [
    "df[df$col1 > 50,1] <- '高'"
   ]
  },
  {
   "cell_type": "markdown",
   "metadata": {
    "collapsed": true,
    "deletable": true,
    "editable": true
   },
   "source": [
    "### 100.计算第一列与第二列之间的欧式距离"
   ]
  },
  {
   "cell_type": "code",
   "execution_count": null,
   "metadata": {
    "collapsed": true
   },
   "outputs": [],
   "source": [
    "# 可以利用概念计算\n",
    "res <- (df$col1 - df$col2) ^ 2\n",
    "sqrt(sum(res))\n",
    "# [1] 197.0102\n",
    "\n",
    "# 也可以利用dist函数，但需要形成两个不同的观测\n",
    "dist(rbind(df$col1,df$col2))\n",
    "# 1\n",
    "# 2 197.0102\n"
   ]
  },
  {
   "cell_type": "markdown",
   "metadata": {
    "deletable": true,
    "editable": true
   },
   "source": [
    "### 第五期｜一些补充：101-120"
   ]
  },
  {
   "cell_type": "markdown",
   "metadata": {
    "collapsed": true,
    "deletable": true,
    "editable": true
   },
   "source": [
    "### 101.从CSV文件中读取指定数据\n",
    "从数据1中的前10行中读取positionName, salary两列"
   ]
  },
  {
   "cell_type": "code",
   "execution_count": null,
   "metadata": {
    "collapsed": false
   },
   "outputs": [],
   "source": [
    "#一步读取文件的指定列用readr包或者原生函数都没办法\n",
    "#如果文件特别大又不想全部再选指定列可以用如下办法\n",
    "#基本思想先读取较少的数据获取列名\n",
    "#给目标列以外的列打上NULL导致第二次读取文件时NULL列丢失即可\n",
    "\n",
    "res <- read.csv('数据1.csv',encoding = 'GBK',nrows = 3)\n",
    "classes <- sapply(res, class)\n",
    "classes[-match(c('positionName','salary'),names(classes))] <-\n",
    "  rep('NULL', length(classes) - 2)\n",
    "\n",
    "df <- read.csv('数据1.csv',encoding = 'GBK',nrows = 10,\n",
    "               colClasses = classes)"
   ]
  },
  {
   "cell_type": "markdown",
   "metadata": {},
   "source": [
    "### 102.从数据2中读取数据并在读取数据时将薪资大于10000的为改为高"
   ]
  },
  {
   "cell_type": "code",
   "execution_count": 99,
   "metadata": {
    "collapsed": false
   },
   "outputs": [
    {
     "name": "stderr",
     "output_type": "stream",
     "text": [
      "Parsed with column specification:\n",
      "cols(\n",
      "  `﻿学历要求` = col_character(),\n",
      "  薪资水平 = col_integer()\n",
      ")\n"
     ]
    }
   ],
   "source": [
    "library(readr)\n",
    "\n",
    "df2 <- read_csv('数据2.csv') %>%\n",
    "  mutate('学历要求',\n",
    "         '薪资水平' = ifelse(\n",
    "           薪资水平 > 10000,'高','低'))"
   ]
  },
  {
   "cell_type": "markdown",
   "metadata": {},
   "source": [
    "### 103.从上一题数据中，对薪资水平列每隔20行进行一次抽样"
   ]
  },
  {
   "cell_type": "code",
   "execution_count": 100,
   "metadata": {
    "collapsed": false,
    "scrolled": true
   },
   "outputs": [
    {
     "data": {
      "text/html": [
       "<table>\n",
       "<thead><tr><th scope=col>﻿学历要求</th><th scope=col>薪资水平</th></tr></thead>\n",
       "<tbody>\n",
       "\t<tr><td>本科</td><td>高  </td></tr>\n",
       "\t<tr><td>本科</td><td>高  </td></tr>\n",
       "\t<tr><td>本科</td><td>高  </td></tr>\n",
       "\t<tr><td>本科</td><td>高  </td></tr>\n",
       "\t<tr><td>本科</td><td>高  </td></tr>\n",
       "\t<tr><td>本科</td><td>高  </td></tr>\n",
       "\t<tr><td>本科</td><td>高  </td></tr>\n",
       "\t<tr><td>本科</td><td>高  </td></tr>\n",
       "\t<tr><td>硕士</td><td>高  </td></tr>\n",
       "\t<tr><td>硕士</td><td>高  </td></tr>\n",
       "\t<tr><td>本科</td><td>高  </td></tr>\n",
       "\t<tr><td>本科</td><td>高  </td></tr>\n",
       "\t<tr><td>本科</td><td>高  </td></tr>\n",
       "\t<tr><td>本科</td><td>高  </td></tr>\n",
       "\t<tr><td>硕士</td><td>低  </td></tr>\n",
       "\t<tr><td>本科</td><td>高  </td></tr>\n",
       "\t<tr><td>本科</td><td>高  </td></tr>\n",
       "\t<tr><td>本科</td><td>低  </td></tr>\n",
       "\t<tr><td>本科</td><td>高  </td></tr>\n",
       "\t<tr><td>本科</td><td>高  </td></tr>\n",
       "\t<tr><td>本科</td><td>高  </td></tr>\n",
       "\t<tr><td>本科</td><td>高  </td></tr>\n",
       "\t<tr><td>大专</td><td>高  </td></tr>\n",
       "\t<tr><td>本科</td><td>低  </td></tr>\n",
       "\t<tr><td>本科</td><td>高  </td></tr>\n",
       "\t<tr><td>硕士</td><td>高  </td></tr>\n",
       "\t<tr><td>本科</td><td>高  </td></tr>\n",
       "\t<tr><td>硕士</td><td>高  </td></tr>\n",
       "\t<tr><td>硕士</td><td>高  </td></tr>\n",
       "\t<tr><td>不限</td><td>高  </td></tr>\n",
       "\t<tr><td>本科</td><td>高  </td></tr>\n",
       "\t<tr><td>硕士</td><td>高  </td></tr>\n",
       "\t<tr><td>本科</td><td>高  </td></tr>\n",
       "\t<tr><td>本科</td><td>低  </td></tr>\n",
       "\t<tr><td>本科</td><td>低  </td></tr>\n",
       "\t<tr><td>硕士</td><td>高  </td></tr>\n",
       "\t<tr><td>硕士</td><td>高  </td></tr>\n",
       "\t<tr><td>硕士</td><td>高  </td></tr>\n",
       "\t<tr><td>本科</td><td>高  </td></tr>\n",
       "\t<tr><td>本科</td><td>高  </td></tr>\n",
       "\t<tr><td>硕士</td><td>高  </td></tr>\n",
       "\t<tr><td>本科</td><td>高  </td></tr>\n",
       "\t<tr><td>本科</td><td>高  </td></tr>\n",
       "\t<tr><td>硕士</td><td>低  </td></tr>\n",
       "\t<tr><td>本科</td><td>高  </td></tr>\n",
       "\t<tr><td>本科</td><td>高  </td></tr>\n",
       "\t<tr><td>本科</td><td>高  </td></tr>\n",
       "\t<tr><td>硕士</td><td>高  </td></tr>\n",
       "\t<tr><td>本科</td><td>高  </td></tr>\n",
       "\t<tr><td>本科</td><td>高  </td></tr>\n",
       "\t<tr><td>本科</td><td>高  </td></tr>\n",
       "\t<tr><td>本科</td><td>高  </td></tr>\n",
       "\t<tr><td>硕士</td><td>高  </td></tr>\n",
       "\t<tr><td>本科</td><td>高  </td></tr>\n",
       "\t<tr><td>硕士</td><td>高  </td></tr>\n",
       "\t<tr><td>硕士</td><td>高  </td></tr>\n",
       "\t<tr><td>硕士</td><td>高  </td></tr>\n",
       "\t<tr><td>硕士</td><td>高  </td></tr>\n",
       "</tbody>\n",
       "</table>\n"
      ],
      "text/latex": [
       "\\begin{tabular}{r|ll}\n",
       " ﻿学历要求 & 薪资水平\\\\\n",
       "\\hline\n",
       "\t 本科 & 高  \\\\\n",
       "\t 本科 & 高  \\\\\n",
       "\t 本科 & 高  \\\\\n",
       "\t 本科 & 高  \\\\\n",
       "\t 本科 & 高  \\\\\n",
       "\t 本科 & 高  \\\\\n",
       "\t 本科 & 高  \\\\\n",
       "\t 本科 & 高  \\\\\n",
       "\t 硕士 & 高  \\\\\n",
       "\t 硕士 & 高  \\\\\n",
       "\t 本科 & 高  \\\\\n",
       "\t 本科 & 高  \\\\\n",
       "\t 本科 & 高  \\\\\n",
       "\t 本科 & 高  \\\\\n",
       "\t 硕士 & 低  \\\\\n",
       "\t 本科 & 高  \\\\\n",
       "\t 本科 & 高  \\\\\n",
       "\t 本科 & 低  \\\\\n",
       "\t 本科 & 高  \\\\\n",
       "\t 本科 & 高  \\\\\n",
       "\t 本科 & 高  \\\\\n",
       "\t 本科 & 高  \\\\\n",
       "\t 大专 & 高  \\\\\n",
       "\t 本科 & 低  \\\\\n",
       "\t 本科 & 高  \\\\\n",
       "\t 硕士 & 高  \\\\\n",
       "\t 本科 & 高  \\\\\n",
       "\t 硕士 & 高  \\\\\n",
       "\t 硕士 & 高  \\\\\n",
       "\t 不限 & 高  \\\\\n",
       "\t 本科 & 高  \\\\\n",
       "\t 硕士 & 高  \\\\\n",
       "\t 本科 & 高  \\\\\n",
       "\t 本科 & 低  \\\\\n",
       "\t 本科 & 低  \\\\\n",
       "\t 硕士 & 高  \\\\\n",
       "\t 硕士 & 高  \\\\\n",
       "\t 硕士 & 高  \\\\\n",
       "\t 本科 & 高  \\\\\n",
       "\t 本科 & 高  \\\\\n",
       "\t 硕士 & 高  \\\\\n",
       "\t 本科 & 高  \\\\\n",
       "\t 本科 & 高  \\\\\n",
       "\t 硕士 & 低  \\\\\n",
       "\t 本科 & 高  \\\\\n",
       "\t 本科 & 高  \\\\\n",
       "\t 本科 & 高  \\\\\n",
       "\t 硕士 & 高  \\\\\n",
       "\t 本科 & 高  \\\\\n",
       "\t 本科 & 高  \\\\\n",
       "\t 本科 & 高  \\\\\n",
       "\t 本科 & 高  \\\\\n",
       "\t 硕士 & 高  \\\\\n",
       "\t 本科 & 高  \\\\\n",
       "\t 硕士 & 高  \\\\\n",
       "\t 硕士 & 高  \\\\\n",
       "\t 硕士 & 高  \\\\\n",
       "\t 硕士 & 高  \\\\\n",
       "\\end{tabular}\n"
      ],
      "text/markdown": [
       "\n",
       "﻿学历要求 | 薪资水平 | \n",
       "|---|---|---|---|---|---|---|---|---|---|---|---|---|---|---|---|---|---|---|---|---|---|---|---|---|---|---|---|---|---|---|---|---|---|---|---|---|---|---|---|---|---|---|---|---|---|---|---|---|---|---|---|---|---|---|---|---|---|\n",
       "| 本科 | 高   | \n",
       "| 本科 | 高   | \n",
       "| 本科 | 高   | \n",
       "| 本科 | 高   | \n",
       "| 本科 | 高   | \n",
       "| 本科 | 高   | \n",
       "| 本科 | 高   | \n",
       "| 本科 | 高   | \n",
       "| 硕士 | 高   | \n",
       "| 硕士 | 高   | \n",
       "| 本科 | 高   | \n",
       "| 本科 | 高   | \n",
       "| 本科 | 高   | \n",
       "| 本科 | 高   | \n",
       "| 硕士 | 低   | \n",
       "| 本科 | 高   | \n",
       "| 本科 | 高   | \n",
       "| 本科 | 低   | \n",
       "| 本科 | 高   | \n",
       "| 本科 | 高   | \n",
       "| 本科 | 高   | \n",
       "| 本科 | 高   | \n",
       "| 大专 | 高   | \n",
       "| 本科 | 低   | \n",
       "| 本科 | 高   | \n",
       "| 硕士 | 高   | \n",
       "| 本科 | 高   | \n",
       "| 硕士 | 高   | \n",
       "| 硕士 | 高   | \n",
       "| 不限 | 高   | \n",
       "| 本科 | 高   | \n",
       "| 硕士 | 高   | \n",
       "| 本科 | 高   | \n",
       "| 本科 | 低   | \n",
       "| 本科 | 低   | \n",
       "| 硕士 | 高   | \n",
       "| 硕士 | 高   | \n",
       "| 硕士 | 高   | \n",
       "| 本科 | 高   | \n",
       "| 本科 | 高   | \n",
       "| 硕士 | 高   | \n",
       "| 本科 | 高   | \n",
       "| 本科 | 高   | \n",
       "| 硕士 | 低   | \n",
       "| 本科 | 高   | \n",
       "| 本科 | 高   | \n",
       "| 本科 | 高   | \n",
       "| 硕士 | 高   | \n",
       "| 本科 | 高   | \n",
       "| 本科 | 高   | \n",
       "| 本科 | 高   | \n",
       "| 本科 | 高   | \n",
       "| 硕士 | 高   | \n",
       "| 本科 | 高   | \n",
       "| 硕士 | 高   | \n",
       "| 硕士 | 高   | \n",
       "| 硕士 | 高   | \n",
       "| 硕士 | 高   | \n",
       "\n",
       "\n"
      ],
      "text/plain": [
       "   ﻿学历要求 薪资水平\n",
       "1  本科     高      \n",
       "2  本科     高      \n",
       "3  本科     高      \n",
       "4  本科     高      \n",
       "5  本科     高      \n",
       "6  本科     高      \n",
       "7  本科     高      \n",
       "8  本科     高      \n",
       "9  硕士     高      \n",
       "10 硕士     高      \n",
       "11 本科     高      \n",
       "12 本科     高      \n",
       "13 本科     高      \n",
       "14 本科     高      \n",
       "15 硕士     低      \n",
       "16 本科     高      \n",
       "17 本科     高      \n",
       "18 本科     低      \n",
       "19 本科     高      \n",
       "20 本科     高      \n",
       "21 本科     高      \n",
       "22 本科     高      \n",
       "23 大专     高      \n",
       "24 本科     低      \n",
       "25 本科     高      \n",
       "26 硕士     高      \n",
       "27 本科     高      \n",
       "28 硕士     高      \n",
       "29 硕士     高      \n",
       "30 不限     高      \n",
       "31 本科     高      \n",
       "32 硕士     高      \n",
       "33 本科     高      \n",
       "34 本科     低      \n",
       "35 本科     低      \n",
       "36 硕士     高      \n",
       "37 硕士     高      \n",
       "38 硕士     高      \n",
       "39 本科     高      \n",
       "40 本科     高      \n",
       "41 硕士     高      \n",
       "42 本科     高      \n",
       "43 本科     高      \n",
       "44 硕士     低      \n",
       "45 本科     高      \n",
       "46 本科     高      \n",
       "47 本科     高      \n",
       "48 硕士     高      \n",
       "49 本科     高      \n",
       "50 本科     高      \n",
       "51 本科     高      \n",
       "52 本科     高      \n",
       "53 硕士     高      \n",
       "54 本科     高      \n",
       "55 硕士     高      \n",
       "56 硕士     高      \n",
       "57 硕士     高      \n",
       "58 硕士     高      "
      ]
     },
     "metadata": {},
     "output_type": "display_data"
    }
   ],
   "source": [
    "df2[seq(1,dim(df2)[1],20),]"
   ]
  },
  {
   "cell_type": "markdown",
   "metadata": {},
   "source": [
    "### 104.将数据取消使用科学计数法"
   ]
  },
  {
   "cell_type": "code",
   "execution_count": 101,
   "metadata": {
    "collapsed": false
   },
   "outputs": [
    {
     "data": {
      "text/html": [
       "<table>\n",
       "<thead><tr><th scope=col>data</th></tr></thead>\n",
       "<tbody>\n",
       "\t<tr><td>0.000</td></tr>\n",
       "\t<tr><td>0.000</td></tr>\n",
       "\t<tr><td>0.000</td></tr>\n",
       "\t<tr><td>0.040</td></tr>\n",
       "\t<tr><td>0.000</td></tr>\n",
       "\t<tr><td>0.000</td></tr>\n",
       "\t<tr><td>0.000</td></tr>\n",
       "\t<tr><td>0.363</td></tr>\n",
       "\t<tr><td>0.000</td></tr>\n",
       "\t<tr><td>0.000</td></tr>\n",
       "</tbody>\n",
       "</table>\n"
      ],
      "text/latex": [
       "\\begin{tabular}{r|l}\n",
       " data\\\\\n",
       "\\hline\n",
       "\t 0.000\\\\\n",
       "\t 0.000\\\\\n",
       "\t 0.000\\\\\n",
       "\t 0.040\\\\\n",
       "\t 0.000\\\\\n",
       "\t 0.000\\\\\n",
       "\t 0.000\\\\\n",
       "\t 0.363\\\\\n",
       "\t 0.000\\\\\n",
       "\t 0.000\\\\\n",
       "\\end{tabular}\n"
      ],
      "text/markdown": [
       "\n",
       "data | \n",
       "|---|---|---|---|---|---|---|---|---|---|\n",
       "| 0.000 | \n",
       "| 0.000 | \n",
       "| 0.000 | \n",
       "| 0.040 | \n",
       "| 0.000 | \n",
       "| 0.000 | \n",
       "| 0.000 | \n",
       "| 0.363 | \n",
       "| 0.000 | \n",
       "| 0.000 | \n",
       "\n",
       "\n"
      ],
      "text/plain": [
       "   data \n",
       "1  0.000\n",
       "2  0.000\n",
       "3  0.000\n",
       "4  0.040\n",
       "5  0.000\n",
       "6  0.000\n",
       "7  0.000\n",
       "8  0.363\n",
       "9  0.000\n",
       "10 0.000"
      ]
     },
     "metadata": {},
     "output_type": "display_data"
    }
   ],
   "source": [
    "df <- tibble(data = runif(10)^10)\n",
    "round(df,3)"
   ]
  },
  {
   "cell_type": "markdown",
   "metadata": {},
   "source": [
    "### 105.将上一题的数据转换为百分数"
   ]
  },
  {
   "cell_type": "code",
   "execution_count": null,
   "metadata": {
    "collapsed": false
   },
   "outputs": [],
   "source": [
    "tibble(data = str_glue('{round(df$data * 100,2)}%'))"
   ]
  },
  {
   "cell_type": "markdown",
   "metadata": {},
   "source": [
    "### 106.查找上一题数据中第3大值的行号"
   ]
  },
  {
   "cell_type": "code",
   "execution_count": 103,
   "metadata": {
    "collapsed": false
   },
   "outputs": [
    {
     "data": {
      "text/html": [
       "<table>\n",
       "<thead><tr><th scope=col>nrow</th></tr></thead>\n",
       "<tbody>\n",
       "\t<tr><td>5</td></tr>\n",
       "</tbody>\n",
       "</table>\n"
      ],
      "text/latex": [
       "\\begin{tabular}{r|l}\n",
       " nrow\\\\\n",
       "\\hline\n",
       "\t 5\\\\\n",
       "\\end{tabular}\n"
      ],
      "text/markdown": [
       "\n",
       "nrow | \n",
       "|---|\n",
       "| 5 | \n",
       "\n",
       "\n"
      ],
      "text/plain": [
       "  nrow\n",
       "1 5   "
      ]
     },
     "metadata": {},
     "output_type": "display_data"
    }
   ],
   "source": [
    "df %>%\n",
    "  mutate(nrow = rownames(.)) %>%\n",
    "  arrange(desc(data)) %>%\n",
    "  filter(row_number() == 3) %>%\n",
    "  select(nrow)\n"
   ]
  },
  {
   "cell_type": "markdown",
   "metadata": {},
   "source": [
    "### 107.反转df的行"
   ]
  },
  {
   "cell_type": "code",
   "execution_count": 104,
   "metadata": {
    "collapsed": false
   },
   "outputs": [
    {
     "data": {
      "text/html": [
       "<table>\n",
       "<thead><tr><th scope=col>data</th></tr></thead>\n",
       "<tbody>\n",
       "\t<tr><td>3.451450e-08</td></tr>\n",
       "\t<tr><td>3.626011e-01</td></tr>\n",
       "\t<tr><td>3.639104e-07</td></tr>\n",
       "\t<tr><td>6.680218e-06</td></tr>\n",
       "\t<tr><td>1.661706e-05</td></tr>\n",
       "\t<tr><td>4.046237e-02</td></tr>\n",
       "\t<tr><td>5.045447e-06</td></tr>\n",
       "\t<tr><td>8.544812e-20</td></tr>\n",
       "\t<tr><td>1.464476e-10</td></tr>\n",
       "\t<tr><td>1.258704e-08</td></tr>\n",
       "</tbody>\n",
       "</table>\n"
      ],
      "text/latex": [
       "\\begin{tabular}{r|l}\n",
       " data\\\\\n",
       "\\hline\n",
       "\t 3.451450e-08\\\\\n",
       "\t 3.626011e-01\\\\\n",
       "\t 3.639104e-07\\\\\n",
       "\t 6.680218e-06\\\\\n",
       "\t 1.661706e-05\\\\\n",
       "\t 4.046237e-02\\\\\n",
       "\t 5.045447e-06\\\\\n",
       "\t 8.544812e-20\\\\\n",
       "\t 1.464476e-10\\\\\n",
       "\t 1.258704e-08\\\\\n",
       "\\end{tabular}\n"
      ],
      "text/markdown": [
       "\n",
       "data | \n",
       "|---|---|---|---|---|---|---|---|---|---|\n",
       "| 3.451450e-08 | \n",
       "| 3.626011e-01 | \n",
       "| 3.639104e-07 | \n",
       "| 6.680218e-06 | \n",
       "| 1.661706e-05 | \n",
       "| 4.046237e-02 | \n",
       "| 5.045447e-06 | \n",
       "| 8.544812e-20 | \n",
       "| 1.464476e-10 | \n",
       "| 1.258704e-08 | \n",
       "\n",
       "\n"
      ],
      "text/plain": [
       "   data        \n",
       "1  3.451450e-08\n",
       "2  3.626011e-01\n",
       "3  3.639104e-07\n",
       "4  6.680218e-06\n",
       "5  1.661706e-05\n",
       "6  4.046237e-02\n",
       "7  5.045447e-06\n",
       "8  8.544812e-20\n",
       "9  1.464476e-10\n",
       "10 1.258704e-08"
      ]
     },
     "metadata": {},
     "output_type": "display_data"
    }
   ],
   "source": [
    "df %>%\n",
    "  arrange(desc(rownames(.)))"
   ]
  },
  {
   "cell_type": "markdown",
   "metadata": {},
   "source": [
    "### 108.按照多列对数据进行合并\n",
    "输入\n",
    "df1= pd.DataFrame({'key1': ['K0', 'K0', 'K1', 'K2'],\n",
    "'key2': ['K0', 'K1', 'K0', 'K1'],\n",
    "'A': ['A0', 'A1', 'A2', 'A3'],\n",
    "'B': ['B0', 'B1', 'B2', 'B3']})\n",
    "\n",
    "df2= pd.DataFrame({'key1': ['K0', 'K1', 'K1', 'K2'],\n",
    "'key2': ['K0', 'K0', 'K0', 'K0'],\n",
    "'C': ['C0', 'C1', 'C2', 'C3'],\n",
    "'D': ['D0', 'D1', 'D2', 'D3']})"
   ]
  },
  {
   "cell_type": "code",
   "execution_count": 105,
   "metadata": {
    "collapsed": false
   },
   "outputs": [
    {
     "name": "stderr",
     "output_type": "stream",
     "text": [
      "Warning message in full_join_impl(x, y, by$x, by$y, suffix$x, suffix$y):\n",
      "“joining factors with different levels, coercing to character vector”"
     ]
    },
    {
     "data": {
      "text/html": [
       "<table>\n",
       "<thead><tr><th></th><th scope=col>key1</th><th scope=col>key2</th><th scope=col>A</th><th scope=col>B</th><th scope=col>C</th><th scope=col>D</th></tr></thead>\n",
       "<tbody>\n",
       "\t<tr><th scope=row>1</th><td>K0</td><td>K0</td><td>A0</td><td>B0</td><td>C0</td><td>D0</td></tr>\n",
       "\t<tr><th scope=row>3</th><td>K1</td><td>K0</td><td>A2</td><td>B2</td><td>C1</td><td>D1</td></tr>\n",
       "\t<tr><th scope=row>4</th><td>K1</td><td>K0</td><td>A2</td><td>B2</td><td>C2</td><td>D2</td></tr>\n",
       "</tbody>\n",
       "</table>\n"
      ],
      "text/latex": [
       "\\begin{tabular}{r|llllll}\n",
       "  & key1 & key2 & A & B & C & D\\\\\n",
       "\\hline\n",
       "\t1 & K0 & K0 & A0 & B0 & C0 & D0\\\\\n",
       "\t3 & K1 & K0 & A2 & B2 & C1 & D1\\\\\n",
       "\t4 & K1 & K0 & A2 & B2 & C2 & D2\\\\\n",
       "\\end{tabular}\n"
      ],
      "text/markdown": [
       "\n",
       "| <!--/--> | key1 | key2 | A | B | C | D | \n",
       "|---|---|---|\n",
       "| 1 | K0 | K0 | A0 | B0 | C0 | D0 | \n",
       "| 3 | K1 | K0 | A2 | B2 | C1 | D1 | \n",
       "| 4 | K1 | K0 | A2 | B2 | C2 | D2 | \n",
       "\n",
       "\n"
      ],
      "text/plain": [
       "  key1 key2 A  B  C  D \n",
       "1 K0   K0   A0 B0 C0 D0\n",
       "3 K1   K0   A2 B2 C1 D1\n",
       "4 K1   K0   A2 B2 C2 D2"
      ]
     },
     "metadata": {},
     "output_type": "display_data"
    }
   ],
   "source": [
    "df1 <- data.frame(\n",
    "  \"key1\" = c(\"K0\",\"K0\",\"K1\",\"K2\"),\n",
    "  \"key2\" = c(\"K0\",\"K1\",\"K0\",\"K1\"),\n",
    "  \"A\" = paste0('A',0:3),\n",
    "  \"B\" = paste0('B',0:3)\n",
    ")\n",
    "\n",
    "df2 <- data.frame(\n",
    "  \"key1\" = c(\"K0\",\"K1\",\"K1\",\"K2\"),\n",
    "  \"key2\" = paste0('K',rep(0,4)),\n",
    "  \"C\" = paste0('C',0:3),\n",
    "  \"D\" = paste0('D',0:3)\n",
    ")\n",
    "\n",
    "full_join(df1,df2,by = c('key1','key2')) %>%\n",
    "  na.omit(.)"
   ]
  },
  {
   "cell_type": "markdown",
   "metadata": {},
   "source": [
    "### 109.按照多列对数据进行合并,只保存df1的数据"
   ]
  },
  {
   "cell_type": "code",
   "execution_count": 106,
   "metadata": {
    "collapsed": false
   },
   "outputs": [
    {
     "name": "stderr",
     "output_type": "stream",
     "text": [
      "Warning message in left_join_impl(x, y, by$x, by$y, suffix$x, suffix$y):\n",
      "“joining factors with different levels, coercing to character vector”"
     ]
    },
    {
     "data": {
      "text/html": [
       "<table>\n",
       "<thead><tr><th scope=col>key1</th><th scope=col>key2</th><th scope=col>A</th><th scope=col>B</th><th scope=col>C</th><th scope=col>D</th></tr></thead>\n",
       "<tbody>\n",
       "\t<tr><td>K0</td><td>K0</td><td>A0</td><td>B0</td><td>C0</td><td>D0</td></tr>\n",
       "\t<tr><td>K0</td><td>K1</td><td>A1</td><td>B1</td><td>NA</td><td>NA</td></tr>\n",
       "\t<tr><td>K1</td><td>K0</td><td>A2</td><td>B2</td><td>C1</td><td>D1</td></tr>\n",
       "\t<tr><td>K1</td><td>K0</td><td>A2</td><td>B2</td><td>C2</td><td>D2</td></tr>\n",
       "\t<tr><td>K2</td><td>K1</td><td>A3</td><td>B3</td><td>NA</td><td>NA</td></tr>\n",
       "</tbody>\n",
       "</table>\n"
      ],
      "text/latex": [
       "\\begin{tabular}{r|llllll}\n",
       " key1 & key2 & A & B & C & D\\\\\n",
       "\\hline\n",
       "\t K0 & K0 & A0 & B0 & C0 & D0\\\\\n",
       "\t K0 & K1 & A1 & B1 & NA & NA\\\\\n",
       "\t K1 & K0 & A2 & B2 & C1 & D1\\\\\n",
       "\t K1 & K0 & A2 & B2 & C2 & D2\\\\\n",
       "\t K2 & K1 & A3 & B3 & NA & NA\\\\\n",
       "\\end{tabular}\n"
      ],
      "text/markdown": [
       "\n",
       "key1 | key2 | A | B | C | D | \n",
       "|---|---|---|---|---|\n",
       "| K0 | K0 | A0 | B0 | C0 | D0 | \n",
       "| K0 | K1 | A1 | B1 | NA | NA | \n",
       "| K1 | K0 | A2 | B2 | C1 | D1 | \n",
       "| K1 | K0 | A2 | B2 | C2 | D2 | \n",
       "| K2 | K1 | A3 | B3 | NA | NA | \n",
       "\n",
       "\n"
      ],
      "text/plain": [
       "  key1 key2 A  B  C  D \n",
       "1 K0   K0   A0 B0 C0 D0\n",
       "2 K0   K1   A1 B1 NA NA\n",
       "3 K1   K0   A2 B2 C1 D1\n",
       "4 K1   K0   A2 B2 C2 D2\n",
       "5 K2   K1   A3 B3 NA NA"
      ]
     },
     "metadata": {},
     "output_type": "display_data"
    }
   ],
   "source": [
    "left_join(df1,df2,by = c('key1','key2'))"
   ]
  },
  {
   "cell_type": "markdown",
   "metadata": {},
   "source": [
    "### 110.再次读取数据1并显示所有的列\n",
    "数据中由于列数较多中间列不显示"
   ]
  },
  {
   "cell_type": "code",
   "execution_count": 107,
   "metadata": {
    "collapsed": false
   },
   "outputs": [
    {
     "name": "stderr",
     "output_type": "stream",
     "text": [
      "Parsed with column specification:\n",
      "cols(\n",
      "  .default = col_character(),\n",
      "  positionId = col_integer(),\n",
      "  companyId = col_integer(),\n",
      "  salary = col_integer(),\n",
      "  publisherId = col_integer(),\n",
      "  approve = col_integer(),\n",
      "  latitude = col_double(),\n",
      "  longitude = col_double(),\n",
      "  resumeProcessRate = col_integer(),\n",
      "  resumeProcessDay = col_integer(),\n",
      "  score = col_integer(),\n",
      "  newScore = col_integer(),\n",
      "  matchScore = col_double(),\n",
      "  isSchoolJob = col_integer(),\n",
      "  adWord = col_integer(),\n",
      "  pcShow = col_integer(),\n",
      "  appShow = col_integer(),\n",
      "  deliver = col_integer(),\n",
      "  isHotHire = col_integer(),\n",
      "  count = col_integer(),\n",
      "  famousCompany = col_logical()\n",
      ")\n",
      "See spec(...) for full column specifications.\n"
     ]
    },
    {
     "name": "stdout",
     "output_type": "stream",
     "text": [
      "# A tibble: 105 × 53\n",
      "   positionId   positionName companyId\n",
      "        <int>          <chr>     <int>\n",
      "1     6802721       数据分析    475770\n",
      "2     5204912       数据建模     50735\n",
      "3     6877668       数据分析    100125\n",
      "4     6496141       数据分析     26564\n",
      "5     6467417       数据分析     29211\n",
      "6     6882347       数据分析     94826\n",
      "7     6841659       数据分析    348784\n",
      "8     6764018 数据建模工程师     13163\n",
      "9     6458372   数据分析专家     34132\n",
      "10    6786904     数据分析师     13163\n",
      "                                                                 companyLogo\n",
      "                                                                       <chr>\n",
      "1                      i/image2/M01/B7/3E/CgoB5lwPfEaAdn8WAABWQ0Jgl5s31.jpeg\n",
      "2                        image1/M00/00/85/CgYXBlTUXeeAR0IjAABbroUk-dw977.png\n",
      "3  image2/M00/0C/57/CgqLKVYcOA2ADcFuAAAE8MukIKA745.png?cc=0.8089290193747729\n",
      "4                      i/image2/M01/F7/3F/CgoB5lyGAQGAZeI-AAAdOqXecnw673.jpg\n",
      "5                      i/image2/M01/77/B8/CgoB5l1WDyGATNP5AAAlY3h88SY623.png\n",
      "6  image2/M00/04/12/CgpzWlXwKIKAaJd9AAARGoomCu4858.jpg?cc=0.6776386289857328\n",
      "7                      i/image2/M01/AC/0E/CgoB5lvvmFmAH5P5AAA5-5rnZGE002.png\n",
      "8                       i/image/M00/4B/5B/Cgp3O1efAWWAC02xAAB2G5qzmHQ810.png\n",
      "9                      i/image2/M01/F8/DE/CgoB5lyHTJeAP7v9AAFXUt4zJo4515.png\n",
      "10                      i/image/M00/4B/5B/Cgp3O1efAWWAC02xAAB2G5qzmHQ810.png\n",
      "   companySize       industryField financeStage\n",
      "         <chr>               <chr>        <chr>\n",
      "1     50-150人     移动互联网,电商          A轮\n",
      "2    150-500人                电商          B轮\n",
      "3   2000人以上 移动互联网,企业服务     上市公司\n",
      "4   500-2000人                电商    D轮及以上\n",
      "5   2000人以上          物流丨运输     上市公司\n",
      "6     50-150人     移动互联网,社交          B轮\n",
      "7     50-150人     移动互联网,电商          A轮\n",
      "8   500-2000人          移动互联网     上市公司\n",
      "9    150-500人   数据服务,广告营销          A轮\n",
      "10  500-2000人          移动互联网     上市公司\n",
      "                                         companyLabelList        firstType\n",
      "                                                    <chr>            <chr>\n",
      "1        ['绩效奖金', '带薪年假', '定期体检', '弹性工作'] 产品|需求|项目类\n",
      "2        ['年终奖金', '做五休二', '六险一金', '子女福利'] 开发|测试|运维类\n",
      "3        ['节日礼物', '年底双薪', '股票期权', '带薪年假'] 产品|需求|项目类\n",
      "4      ['生日趴', '每月腐败基金', '每月补贴', '年度旅游'] 开发|测试|运维类\n",
      "5        ['技能培训', '免费班车', '专项奖金', '岗位晋升'] 产品|需求|项目类\n",
      "6        ['股票期权', '扁平管理', '五险一金', '岗位晋升'] 产品|需求|项目类\n",
      "7        ['大牛团队', '扁平管理', '年底双薪', '股票期权'] 产品|需求|项目类\n",
      "8        ['绩效奖金', '股票期权', '年底双薪', '专项奖金'] 开发|测试|运维类\n",
      "9  ['开放式办公', '扁平管理', '带薪假期', '弹性工作时间'] 产品|需求|项目类\n",
      "10       ['绩效奖金', '股票期权', '年底双薪', '专项奖金'] 开发|测试|运维类\n",
      "   secondType    thirdType                                   skillLables\n",
      "        <chr>        <chr>                                         <chr>\n",
      "1    数据分析     数据分析           ['SQL', '数据库', '数据运营', 'BI']\n",
      "2    数据开发         建模                          ['算法', '数据架构']\n",
      "3    数据分析     数据分析                 ['数据库', '数据分析', 'SQL']\n",
      "4    数据开发     数据分析                                            []\n",
      "5    数据分析     数据分析                ['BI', '数据分析', '数据运营']\n",
      "6    数据分析     数据分析        ['BI', '可视化', '数据分析', '数据库']\n",
      "7    数据分析     数据分析                                            []\n",
      "8    数据开发         建模        ['Hadoop', 'Spark', 'MySQL', 'Oracle']\n",
      "9    数据分析 其他数据分析                      ['数据分析', '数据运营']\n",
      "10   数据开发     BI工程师 ['Hive', '数据挖掘', '数据分析', 'SQLServer']\n",
      "                                                        positionLables\n",
      "                                                                 <chr>\n",
      "1                  ['电商', '社交', 'SQL', '数据库', '数据运营', 'BI']\n",
      "2                                                 ['算法', '数据架构']\n",
      "3                                                    ['数据库', 'SQL']\n",
      "4                                                             ['电商']\n",
      "5                                                   ['BI', '数据运营']\n",
      "6                           ['音乐', '直播', 'BI', '可视化', '数据库']\n",
      "7                                                         ['工具软件']\n",
      "8           ['云计算', '大数据', 'Hadoop', 'Spark', 'MySQL', 'Oracle']\n",
      "9                         ['电商', '广告营销', '数据分析', '数据运营']\n",
      "10 ['企业服务', '大数据', 'Hive', '数据挖掘', '数据分析', 'SQLServer']\n",
      "                                                        industryLables\n",
      "                                                                 <chr>\n",
      "1                  ['电商', '社交', 'SQL', '数据库', '数据运营', 'BI']\n",
      "2                                                                   []\n",
      "3                                                                   []\n",
      "4                                                             ['电商']\n",
      "5                                                                   []\n",
      "6                           ['音乐', '直播', 'BI', '可视化', '数据库']\n",
      "7                                                         ['工具软件']\n",
      "8           ['云计算', '大数据', 'Hadoop', 'Spark', 'MySQL', 'Oracle']\n",
      "9                         ['电商', '广告营销', '数据分析', '数据运营']\n",
      "10 ['企业服务', '大数据', 'Hive', '数据挖掘', '数据分析', 'SQLServer']\n",
      "        createTime formatCreateTime district                businessZones\n",
      "             <chr>            <chr>    <chr>                        <chr>\n",
      "1  2020/3/16 11:00        11:00发布   余杭区                     ['仓前']\n",
      "2  2020/3/16 11:08        11:08发布   滨江区             ['西兴', '长河']\n",
      "3  2020/3/16 10:33        10:33发布   江干区       ['四季青', '钱江新城']\n",
      "4  2020/3/16 10:10        10:10发布   江干区                         <NA>\n",
      "5  2020/3/16 09:56        09:56发布   余杭区                     ['仓前']\n",
      "6  2020/3/16 09:54        09:54发布   余杭区                         <NA>\n",
      "7  2020/3/16 09:41        09:41发布   萧山区                     ['宁围']\n",
      "8  2020/3/16 11:18        11:18发布   西湖区 ['翠苑', '文一路', '古墩路']\n",
      "9  2020/3/16 10:57        10:57发布   余杭区                         <NA>\n",
      "10 2020/3/16 11:18        11:18发布   西湖区 ['翠苑', '文一路', '古墩路']\n",
      "   salary   workYear jobNature education\n",
      "    <int>      <chr>     <chr>     <chr>\n",
      "1   37500      1-3年      全职      本科\n",
      "2   15000      3-5年      全职      本科\n",
      "3    3500      1-3年      全职      本科\n",
      "4   45000      3-5年      全职      本科\n",
      "5   30000      3-5年      全职      大专\n",
      "6   50000      1-3年      全职      本科\n",
      "7   30000      1-3年      全职      本科\n",
      "8   35000 应届毕业生      全职      不限\n",
      "9   60000     5-10年      全职      本科\n",
      "10  40000      1-3年      全职      本科\n",
      "                          positionAdvantage   imState       lastLogin\n",
      "                                      <chr>     <chr>           <chr>\n",
      "1    五险一金、弹性工作、带薪年假、年度体检     today 2020/3/16 11:00\n",
      "2                六险一金,定期体检,丰厚年终  disabled 2020/3/16 11:08\n",
      "3         五险一金 周末双休 不加班 节日福利     today 2020/3/16 10:33\n",
      "4                                  年终奖等 threeDays 2020/3/16 10:10\n",
      "5                                  五险一金  disabled 2020/3/16 09:56\n",
      "6           团建 野生蹦迪 文艺咖 声音发烧友 threeDays 2020/3/16 09:54\n",
      "7                       大牛团队 大数据产品 threeDays 2020/3/16 09:41\n",
      "8                 16-18薪 大数据A股上市公司     today 2020/3/16 11:02\n",
      "9  六险一金、境内外旅游、带薪年假、培训发展     today 2020/3/16 09:51\n",
      "10                 核心业务，季度奖，年终奖     today 2020/3/16 11:02\n",
      "   publisherId approve subwayline stationname\n",
      "         <int>   <int>      <chr>       <chr>\n",
      "1     12022406       1       <NA>        <NA>\n",
      "2      5491688       1       <NA>        <NA>\n",
      "3      5322583       1      4号线      江锦路\n",
      "4      9814560       1      1号线      文泽路\n",
      "5      6392394       1       <NA>        <NA>\n",
      "6     11484869       1       <NA>        <NA>\n",
      "7     15009222       1       <NA>        <NA>\n",
      "8       158057       1      2号线      丰潭路\n",
      "9      7542546       1       <NA>        <NA>\n",
      "10      158057       1      2号线      丰潭路\n",
      "                                 linestaion latitude longitude hitags\n",
      "                                      <chr>    <dbl>     <dbl>  <chr>\n",
      "1                                      <NA> 30.27842  120.0059   <NA>\n",
      "2                                      <NA> 30.18804  120.2012   <NA>\n",
      "3  4号线_城星路;4号线_市民中心;4号线_江锦路 30.24152  120.2125   <NA>\n",
      "4                              1号线_文泽路 30.29940  120.3503   <NA>\n",
      "5                                      <NA> 30.28295  120.0098   <NA>\n",
      "6                                      <NA> 30.27585  119.9971   <NA>\n",
      "7                                      <NA> 30.20363  120.2477   <NA>\n",
      "8                 2号线_古翠路;2号线_丰潭路 30.29031  120.1146   <NA>\n",
      "9                                      <NA> 30.28185  120.0157   <NA>\n",
      "10                2号线_古翠路;2号线_丰潭路 30.29031  120.1146   <NA>\n",
      "   resumeProcessRate resumeProcessDay score newScore matchScore\n",
      "               <int>            <int> <int>    <int>      <dbl>\n",
      "1                 50                1   233        0  15.101875\n",
      "2                 23                1   176        0  32.559414\n",
      "3                 11                4    80        0  14.972357\n",
      "4                100                1    68        0  12.874153\n",
      "5                 20                1    66        0  12.755375\n",
      "6                 16                1    66        0  12.718732\n",
      "7                100                1    65        0  12.615116\n",
      "8                  1                1    47        0   3.033237\n",
      "9                 83                1    24        0   1.141952\n",
      "10                 1                1    18        0   1.177361\n",
      "   matchScoreExplain query explain isSchoolJob adWord  plus pcShow appShow\n",
      "               <chr> <chr>   <chr>       <int>  <int> <chr>  <int>   <int>\n",
      "1               <NA>  <NA>    <NA>           0      0  <NA>      0       0\n",
      "2               <NA>  <NA>    <NA>           0      0  <NA>      0       0\n",
      "3               <NA>  <NA>    <NA>           0      0  <NA>      0       0\n",
      "4               <NA>  <NA>    <NA>           0      0  <NA>      0       0\n",
      "5               <NA>  <NA>    <NA>           0      0  <NA>      0       0\n",
      "6               <NA>  <NA>    <NA>           0      0  <NA>      0       0\n",
      "7               <NA>  <NA>    <NA>           0      0  <NA>      0       0\n",
      "8               <NA>  <NA>    <NA>           1      0  <NA>      0       0\n",
      "9               <NA>  <NA>    <NA>           0      0  <NA>      0       0\n",
      "10              <NA>  <NA>    <NA>           0      0  <NA>      0       0\n",
      "   deliver gradeDescription promotionScoreExplain isHotHire count\n",
      "     <int>            <chr>                 <chr>     <int> <int>\n",
      "1        0             <NA>                  <NA>         0     0\n",
      "2        0             <NA>                  <NA>         0     0\n",
      "3        0             <NA>                  <NA>         0     0\n",
      "4        0             <NA>                  <NA>         0     0\n",
      "5        0             <NA>                  <NA>         0     0\n",
      "6        0             <NA>                  <NA>         0     0\n",
      "7        0             <NA>                  <NA>         0     0\n",
      "8        0             <NA>                  <NA>         0     0\n",
      "9        0             <NA>                  <NA>         0     0\n",
      "10       0             <NA>                  <NA>         0     0\n",
      "   aggregatePositionIds famousCompany\n",
      "                  <chr>         <lgl>\n",
      "1                    []         FALSE\n",
      "2                    []         FALSE\n",
      "3                    []         FALSE\n",
      "4                    []          TRUE\n",
      "5                    []          TRUE\n",
      "6                    []         FALSE\n",
      "7                    []         FALSE\n",
      "8                    []          TRUE\n",
      "9                    []         FALSE\n",
      "10                   []          TRUE\n",
      "# ... with 95 more rows\n"
     ]
    }
   ],
   "source": [
    "df <- read_csv('数据1.csv', locale = locale(encoding = \"GBK\")) %>%\n",
    "  print(width = Inf)"
   ]
  },
  {
   "cell_type": "markdown",
   "metadata": {},
   "source": [
    "### 111.查找secondType与thirdType值相等的行号"
   ]
  },
  {
   "cell_type": "code",
   "execution_count": 108,
   "metadata": {
    "collapsed": false
   },
   "outputs": [
    {
     "data": {
      "text/html": [
       "<dl class=dl-horizontal>\n",
       "\t<dt>nrow1</dt>\n",
       "\t\t<dd>'1'</dd>\n",
       "\t<dt>nrow2</dt>\n",
       "\t\t<dd>'3'</dd>\n",
       "\t<dt>nrow3</dt>\n",
       "\t\t<dd>'5'</dd>\n",
       "\t<dt>nrow4</dt>\n",
       "\t\t<dd>'6'</dd>\n",
       "\t<dt>nrow5</dt>\n",
       "\t\t<dd>'7'</dd>\n",
       "\t<dt>nrow6</dt>\n",
       "\t\t<dd>'11'</dd>\n",
       "\t<dt>nrow7</dt>\n",
       "\t\t<dd>'15'</dd>\n",
       "\t<dt>nrow8</dt>\n",
       "\t\t<dd>'24'</dd>\n",
       "\t<dt>nrow9</dt>\n",
       "\t\t<dd>'26'</dd>\n",
       "\t<dt>nrow10</dt>\n",
       "\t\t<dd>'28'</dd>\n",
       "\t<dt>nrow11</dt>\n",
       "\t\t<dd>'29'</dd>\n",
       "\t<dt>nrow12</dt>\n",
       "\t\t<dd>'30'</dd>\n",
       "\t<dt>nrow13</dt>\n",
       "\t\t<dd>'31'</dd>\n",
       "\t<dt>nrow14</dt>\n",
       "\t\t<dd>'34'</dd>\n",
       "\t<dt>nrow15</dt>\n",
       "\t\t<dd>'38'</dd>\n",
       "\t<dt>nrow16</dt>\n",
       "\t\t<dd>'39'</dd>\n",
       "\t<dt>nrow17</dt>\n",
       "\t\t<dd>'40'</dd>\n",
       "\t<dt>nrow18</dt>\n",
       "\t\t<dd>'41'</dd>\n",
       "\t<dt>nrow19</dt>\n",
       "\t\t<dd>'42'</dd>\n",
       "\t<dt>nrow20</dt>\n",
       "\t\t<dd>'49'</dd>\n",
       "\t<dt>nrow21</dt>\n",
       "\t\t<dd>'50'</dd>\n",
       "\t<dt>nrow22</dt>\n",
       "\t\t<dd>'53'</dd>\n",
       "\t<dt>nrow23</dt>\n",
       "\t\t<dd>'54'</dd>\n",
       "\t<dt>nrow24</dt>\n",
       "\t\t<dd>'56'</dd>\n",
       "\t<dt>nrow25</dt>\n",
       "\t\t<dd>'58'</dd>\n",
       "\t<dt>nrow26</dt>\n",
       "\t\t<dd>'62'</dd>\n",
       "\t<dt>nrow27</dt>\n",
       "\t\t<dd>'66'</dd>\n",
       "\t<dt>nrow28</dt>\n",
       "\t\t<dd>'67'</dd>\n",
       "\t<dt>nrow29</dt>\n",
       "\t\t<dd>'68'</dd>\n",
       "\t<dt>nrow30</dt>\n",
       "\t\t<dd>'72'</dd>\n",
       "\t<dt>nrow31</dt>\n",
       "\t\t<dd>'74'</dd>\n",
       "\t<dt>nrow32</dt>\n",
       "\t\t<dd>'75'</dd>\n",
       "\t<dt>nrow33</dt>\n",
       "\t\t<dd>'76'</dd>\n",
       "\t<dt>nrow34</dt>\n",
       "\t\t<dd>'80'</dd>\n",
       "\t<dt>nrow35</dt>\n",
       "\t\t<dd>'81'</dd>\n",
       "\t<dt>nrow36</dt>\n",
       "\t\t<dd>'83'</dd>\n",
       "\t<dt>nrow37</dt>\n",
       "\t\t<dd>'86'</dd>\n",
       "\t<dt>nrow38</dt>\n",
       "\t\t<dd>'89'</dd>\n",
       "\t<dt>nrow39</dt>\n",
       "\t\t<dd>'90'</dd>\n",
       "\t<dt>nrow40</dt>\n",
       "\t\t<dd>'92'</dd>\n",
       "\t<dt>nrow41</dt>\n",
       "\t\t<dd>'97'</dd>\n",
       "\t<dt>nrow42</dt>\n",
       "\t\t<dd>'101'</dd>\n",
       "</dl>\n"
      ],
      "text/latex": [
       "\\begin{description*}\n",
       "\\item[nrow1] '1'\n",
       "\\item[nrow2] '3'\n",
       "\\item[nrow3] '5'\n",
       "\\item[nrow4] '6'\n",
       "\\item[nrow5] '7'\n",
       "\\item[nrow6] '11'\n",
       "\\item[nrow7] '15'\n",
       "\\item[nrow8] '24'\n",
       "\\item[nrow9] '26'\n",
       "\\item[nrow10] '28'\n",
       "\\item[nrow11] '29'\n",
       "\\item[nrow12] '30'\n",
       "\\item[nrow13] '31'\n",
       "\\item[nrow14] '34'\n",
       "\\item[nrow15] '38'\n",
       "\\item[nrow16] '39'\n",
       "\\item[nrow17] '40'\n",
       "\\item[nrow18] '41'\n",
       "\\item[nrow19] '42'\n",
       "\\item[nrow20] '49'\n",
       "\\item[nrow21] '50'\n",
       "\\item[nrow22] '53'\n",
       "\\item[nrow23] '54'\n",
       "\\item[nrow24] '56'\n",
       "\\item[nrow25] '58'\n",
       "\\item[nrow26] '62'\n",
       "\\item[nrow27] '66'\n",
       "\\item[nrow28] '67'\n",
       "\\item[nrow29] '68'\n",
       "\\item[nrow30] '72'\n",
       "\\item[nrow31] '74'\n",
       "\\item[nrow32] '75'\n",
       "\\item[nrow33] '76'\n",
       "\\item[nrow34] '80'\n",
       "\\item[nrow35] '81'\n",
       "\\item[nrow36] '83'\n",
       "\\item[nrow37] '86'\n",
       "\\item[nrow38] '89'\n",
       "\\item[nrow39] '90'\n",
       "\\item[nrow40] '92'\n",
       "\\item[nrow41] '97'\n",
       "\\item[nrow42] '101'\n",
       "\\end{description*}\n"
      ],
      "text/markdown": [
       "nrow1\n",
       ":   '1'nrow2\n",
       ":   '3'nrow3\n",
       ":   '5'nrow4\n",
       ":   '6'nrow5\n",
       ":   '7'nrow6\n",
       ":   '11'nrow7\n",
       ":   '15'nrow8\n",
       ":   '24'nrow9\n",
       ":   '26'nrow10\n",
       ":   '28'nrow11\n",
       ":   '29'nrow12\n",
       ":   '30'nrow13\n",
       ":   '31'nrow14\n",
       ":   '34'nrow15\n",
       ":   '38'nrow16\n",
       ":   '39'nrow17\n",
       ":   '40'nrow18\n",
       ":   '41'nrow19\n",
       ":   '42'nrow20\n",
       ":   '49'nrow21\n",
       ":   '50'nrow22\n",
       ":   '53'nrow23\n",
       ":   '54'nrow24\n",
       ":   '56'nrow25\n",
       ":   '58'nrow26\n",
       ":   '62'nrow27\n",
       ":   '66'nrow28\n",
       ":   '67'nrow29\n",
       ":   '68'nrow30\n",
       ":   '72'nrow31\n",
       ":   '74'nrow32\n",
       ":   '75'nrow33\n",
       ":   '76'nrow34\n",
       ":   '80'nrow35\n",
       ":   '81'nrow36\n",
       ":   '83'nrow37\n",
       ":   '86'nrow38\n",
       ":   '89'nrow39\n",
       ":   '90'nrow40\n",
       ":   '92'nrow41\n",
       ":   '97'nrow42\n",
       ":   '101'\n",
       "\n"
      ],
      "text/plain": [
       " nrow1  nrow2  nrow3  nrow4  nrow5  nrow6  nrow7  nrow8  nrow9 nrow10 nrow11 \n",
       "   \"1\"    \"3\"    \"5\"    \"6\"    \"7\"   \"11\"   \"15\"   \"24\"   \"26\"   \"28\"   \"29\" \n",
       "nrow12 nrow13 nrow14 nrow15 nrow16 nrow17 nrow18 nrow19 nrow20 nrow21 nrow22 \n",
       "  \"30\"   \"31\"   \"34\"   \"38\"   \"39\"   \"40\"   \"41\"   \"42\"   \"49\"   \"50\"   \"53\" \n",
       "nrow23 nrow24 nrow25 nrow26 nrow27 nrow28 nrow29 nrow30 nrow31 nrow32 nrow33 \n",
       "  \"54\"   \"56\"   \"58\"   \"62\"   \"66\"   \"67\"   \"68\"   \"72\"   \"74\"   \"75\"   \"76\" \n",
       "nrow34 nrow35 nrow36 nrow37 nrow38 nrow39 nrow40 nrow41 nrow42 \n",
       "  \"80\"   \"81\"   \"83\"   \"86\"   \"89\"   \"90\"   \"92\"   \"97\"  \"101\" "
      ]
     },
     "metadata": {},
     "output_type": "display_data"
    }
   ],
   "source": [
    "df %>%\n",
    "  mutate(nrow = rownames(.)) %>%\n",
    "  filter(secondType == thirdType) %>%\n",
    "  select(nrow) %>%\n",
    "  unlist()"
   ]
  },
  {
   "cell_type": "markdown",
   "metadata": {},
   "source": [
    "### 112.查找薪资大于平均薪资的第三个数据"
   ]
  },
  {
   "cell_type": "code",
   "execution_count": 109,
   "metadata": {
    "collapsed": false
   },
   "outputs": [
    {
     "data": {
      "text/html": [
       "<table>\n",
       "<thead><tr><th scope=col>nrow</th></tr></thead>\n",
       "<tbody>\n",
       "\t<tr><td>6</td></tr>\n",
       "</tbody>\n",
       "</table>\n"
      ],
      "text/latex": [
       "\\begin{tabular}{r|l}\n",
       " nrow\\\\\n",
       "\\hline\n",
       "\t 6\\\\\n",
       "\\end{tabular}\n"
      ],
      "text/markdown": [
       "\n",
       "nrow | \n",
       "|---|\n",
       "| 6 | \n",
       "\n",
       "\n"
      ],
      "text/plain": [
       "  nrow\n",
       "1 6   "
      ]
     },
     "metadata": {},
     "output_type": "display_data"
    }
   ],
   "source": [
    "df %>%\n",
    "  mutate(nrow = rownames(.)) %>%\n",
    "  filter(salary > mean(salary)) %>%\n",
    "  select(nrow) %>%\n",
    "  filter(row_number() == 3)\n",
    "# # A tibble: 1 x 1\n",
    "# nrow\n",
    "# <chr>\n",
    "# 1 6"
   ]
  },
  {
   "cell_type": "markdown",
   "metadata": {},
   "source": [
    "### 113.将上一题数据的salary列开根号"
   ]
  },
  {
   "cell_type": "code",
   "execution_count": 110,
   "metadata": {
    "collapsed": false
   },
   "outputs": [
    {
     "data": {
      "text/html": [
       "<table>\n",
       "<thead><tr><th scope=col>salary_sqrt</th></tr></thead>\n",
       "<tbody>\n",
       "\t<tr><td>193.6492</td></tr>\n",
       "\t<tr><td>122.4745</td></tr>\n",
       "\t<tr><td> 59.1608</td></tr>\n",
       "\t<tr><td>212.1320</td></tr>\n",
       "\t<tr><td>173.2051</td></tr>\n",
       "\t<tr><td>223.6068</td></tr>\n",
       "\t<tr><td>173.2051</td></tr>\n",
       "\t<tr><td>187.0829</td></tr>\n",
       "\t<tr><td>244.9490</td></tr>\n",
       "\t<tr><td>200.0000</td></tr>\n",
       "\t<tr><td>173.2051</td></tr>\n",
       "\t<tr><td>173.2051</td></tr>\n",
       "\t<tr><td>141.4214</td></tr>\n",
       "\t<tr><td>173.2051</td></tr>\n",
       "\t<tr><td>193.6492</td></tr>\n",
       "\t<tr><td>165.8312</td></tr>\n",
       "\t<tr><td>193.6492</td></tr>\n",
       "\t<tr><td>193.6492</td></tr>\n",
       "\t<tr><td>173.2051</td></tr>\n",
       "\t<tr><td>193.6492</td></tr>\n",
       "\t<tr><td>165.8312</td></tr>\n",
       "\t<tr><td>141.4214</td></tr>\n",
       "\t<tr><td>173.2051</td></tr>\n",
       "\t<tr><td>150.0000</td></tr>\n",
       "\t<tr><td>165.8312</td></tr>\n",
       "\t<tr><td>212.1320</td></tr>\n",
       "\t<tr><td>180.2776</td></tr>\n",
       "\t<tr><td>173.2051</td></tr>\n",
       "\t<tr><td>193.6492</td></tr>\n",
       "\t<tr><td>212.1320</td></tr>\n",
       "\t<tr><td>...</td></tr>\n",
       "\t<tr><td>164.31677</td></tr>\n",
       "\t<tr><td>173.20508</td></tr>\n",
       "\t<tr><td>193.64917</td></tr>\n",
       "\t<tr><td>162.78821</td></tr>\n",
       "\t<tr><td>193.64917</td></tr>\n",
       "\t<tr><td>173.20508</td></tr>\n",
       "\t<tr><td>150.00000</td></tr>\n",
       "\t<tr><td>244.94897</td></tr>\n",
       "\t<tr><td> 86.60254</td></tr>\n",
       "\t<tr><td> 86.60254</td></tr>\n",
       "\t<tr><td>173.20508</td></tr>\n",
       "\t<tr><td>173.20508</td></tr>\n",
       "\t<tr><td>200.00000</td></tr>\n",
       "\t<tr><td>173.20508</td></tr>\n",
       "\t<tr><td>173.20508</td></tr>\n",
       "\t<tr><td>223.60680</td></tr>\n",
       "\t<tr><td>206.15528</td></tr>\n",
       "\t<tr><td>173.20508</td></tr>\n",
       "\t<tr><td>170.29386</td></tr>\n",
       "\t<tr><td>173.20508</td></tr>\n",
       "\t<tr><td>193.64917</td></tr>\n",
       "\t<tr><td>173.20508</td></tr>\n",
       "\t<tr><td>173.20508</td></tr>\n",
       "\t<tr><td>173.20508</td></tr>\n",
       "\t<tr><td>191.04973</td></tr>\n",
       "\t<tr><td>158.11388</td></tr>\n",
       "\t<tr><td>187.08287</td></tr>\n",
       "\t<tr><td>173.20508</td></tr>\n",
       "\t<tr><td>141.42136</td></tr>\n",
       "\t<tr><td>146.62878</td></tr>\n",
       "</tbody>\n",
       "</table>\n"
      ],
      "text/latex": [
       "\\begin{tabular}{r|l}\n",
       " salary\\_sqrt\\\\\n",
       "\\hline\n",
       "\t 193.6492\\\\\n",
       "\t 122.4745\\\\\n",
       "\t  59.1608\\\\\n",
       "\t 212.1320\\\\\n",
       "\t 173.2051\\\\\n",
       "\t 223.6068\\\\\n",
       "\t 173.2051\\\\\n",
       "\t 187.0829\\\\\n",
       "\t 244.9490\\\\\n",
       "\t 200.0000\\\\\n",
       "\t 173.2051\\\\\n",
       "\t 173.2051\\\\\n",
       "\t 141.4214\\\\\n",
       "\t 173.2051\\\\\n",
       "\t 193.6492\\\\\n",
       "\t 165.8312\\\\\n",
       "\t 193.6492\\\\\n",
       "\t 193.6492\\\\\n",
       "\t 173.2051\\\\\n",
       "\t 193.6492\\\\\n",
       "\t 165.8312\\\\\n",
       "\t 141.4214\\\\\n",
       "\t 173.2051\\\\\n",
       "\t 150.0000\\\\\n",
       "\t 165.8312\\\\\n",
       "\t 212.1320\\\\\n",
       "\t 180.2776\\\\\n",
       "\t 173.2051\\\\\n",
       "\t 193.6492\\\\\n",
       "\t 212.1320\\\\\n",
       "\t ...\\\\\n",
       "\t 164.31677\\\\\n",
       "\t 173.20508\\\\\n",
       "\t 193.64917\\\\\n",
       "\t 162.78821\\\\\n",
       "\t 193.64917\\\\\n",
       "\t 173.20508\\\\\n",
       "\t 150.00000\\\\\n",
       "\t 244.94897\\\\\n",
       "\t  86.60254\\\\\n",
       "\t  86.60254\\\\\n",
       "\t 173.20508\\\\\n",
       "\t 173.20508\\\\\n",
       "\t 200.00000\\\\\n",
       "\t 173.20508\\\\\n",
       "\t 173.20508\\\\\n",
       "\t 223.60680\\\\\n",
       "\t 206.15528\\\\\n",
       "\t 173.20508\\\\\n",
       "\t 170.29386\\\\\n",
       "\t 173.20508\\\\\n",
       "\t 193.64917\\\\\n",
       "\t 173.20508\\\\\n",
       "\t 173.20508\\\\\n",
       "\t 173.20508\\\\\n",
       "\t 191.04973\\\\\n",
       "\t 158.11388\\\\\n",
       "\t 187.08287\\\\\n",
       "\t 173.20508\\\\\n",
       "\t 141.42136\\\\\n",
       "\t 146.62878\\\\\n",
       "\\end{tabular}\n"
      ],
      "text/markdown": [
       "\n",
       "salary_sqrt | \n",
       "|---|---|---|---|---|---|---|---|---|---|---|---|---|---|---|---|---|---|---|---|---|---|---|---|---|---|---|---|---|---|---|---|---|---|---|---|---|---|---|---|---|---|---|---|---|---|---|---|---|---|---|---|---|---|---|---|---|---|---|---|---|\n",
       "| 193.6492 | \n",
       "| 122.4745 | \n",
       "|  59.1608 | \n",
       "| 212.1320 | \n",
       "| 173.2051 | \n",
       "| 223.6068 | \n",
       "| 173.2051 | \n",
       "| 187.0829 | \n",
       "| 244.9490 | \n",
       "| 200.0000 | \n",
       "| 173.2051 | \n",
       "| 173.2051 | \n",
       "| 141.4214 | \n",
       "| 173.2051 | \n",
       "| 193.6492 | \n",
       "| 165.8312 | \n",
       "| 193.6492 | \n",
       "| 193.6492 | \n",
       "| 173.2051 | \n",
       "| 193.6492 | \n",
       "| 165.8312 | \n",
       "| 141.4214 | \n",
       "| 173.2051 | \n",
       "| 150.0000 | \n",
       "| 165.8312 | \n",
       "| 212.1320 | \n",
       "| 180.2776 | \n",
       "| 173.2051 | \n",
       "| 193.6492 | \n",
       "| 212.1320 | \n",
       "| ... | \n",
       "| 164.31677 | \n",
       "| 173.20508 | \n",
       "| 193.64917 | \n",
       "| 162.78821 | \n",
       "| 193.64917 | \n",
       "| 173.20508 | \n",
       "| 150.00000 | \n",
       "| 244.94897 | \n",
       "|  86.60254 | \n",
       "|  86.60254 | \n",
       "| 173.20508 | \n",
       "| 173.20508 | \n",
       "| 200.00000 | \n",
       "| 173.20508 | \n",
       "| 173.20508 | \n",
       "| 223.60680 | \n",
       "| 206.15528 | \n",
       "| 173.20508 | \n",
       "| 170.29386 | \n",
       "| 173.20508 | \n",
       "| 193.64917 | \n",
       "| 173.20508 | \n",
       "| 173.20508 | \n",
       "| 173.20508 | \n",
       "| 191.04973 | \n",
       "| 158.11388 | \n",
       "| 187.08287 | \n",
       "| 173.20508 | \n",
       "| 141.42136 | \n",
       "| 146.62878 | \n",
       "\n",
       "\n"
      ],
      "text/plain": [
       "    salary_sqrt\n",
       "1   193.6492   \n",
       "2   122.4745   \n",
       "3    59.1608   \n",
       "4   212.1320   \n",
       "5   173.2051   \n",
       "6   223.6068   \n",
       "7   173.2051   \n",
       "8   187.0829   \n",
       "9   244.9490   \n",
       "10  200.0000   \n",
       "11  173.2051   \n",
       "12  173.2051   \n",
       "13  141.4214   \n",
       "14  173.2051   \n",
       "15  193.6492   \n",
       "16  165.8312   \n",
       "17  193.6492   \n",
       "18  193.6492   \n",
       "19  173.2051   \n",
       "20  193.6492   \n",
       "21  165.8312   \n",
       "22  141.4214   \n",
       "23  173.2051   \n",
       "24  150.0000   \n",
       "25  165.8312   \n",
       "26  212.1320   \n",
       "27  180.2776   \n",
       "28  173.2051   \n",
       "29  193.6492   \n",
       "30  212.1320   \n",
       "... ...        \n",
       "76  164.31677  \n",
       "77  173.20508  \n",
       "78  193.64917  \n",
       "79  162.78821  \n",
       "80  193.64917  \n",
       "81  173.20508  \n",
       "82  150.00000  \n",
       "83  244.94897  \n",
       "84   86.60254  \n",
       "85   86.60254  \n",
       "86  173.20508  \n",
       "87  173.20508  \n",
       "88  200.00000  \n",
       "89  173.20508  \n",
       "90  173.20508  \n",
       "91  223.60680  \n",
       "92  206.15528  \n",
       "93  173.20508  \n",
       "94  170.29386  \n",
       "95  173.20508  \n",
       "96  193.64917  \n",
       "97  173.20508  \n",
       "98  173.20508  \n",
       "99  173.20508  \n",
       "100 191.04973  \n",
       "101 158.11388  \n",
       "102 187.08287  \n",
       "103 173.20508  \n",
       "104 141.42136  \n",
       "105 146.62878  "
      ]
     },
     "metadata": {},
     "output_type": "display_data"
    }
   ],
   "source": [
    "df %>%\n",
    "  summarise(salary_sqrt = sqrt(salary))"
   ]
  },
  {
   "cell_type": "markdown",
   "metadata": {},
   "source": [
    "### 114.将上一题数据的linestaion列按_拆分"
   ]
  },
  {
   "cell_type": "code",
   "execution_count": 111,
   "metadata": {
    "collapsed": true
   },
   "outputs": [],
   "source": [
    "df <- df %>%\n",
    "  mutate(split = str_split(linestaion,'_'))"
   ]
  },
  {
   "cell_type": "markdown",
   "metadata": {},
   "source": [
    "### 115.查看上一题数据中一共有多少列"
   ]
  },
  {
   "cell_type": "code",
   "execution_count": 112,
   "metadata": {
    "collapsed": false
   },
   "outputs": [
    {
     "data": {
      "text/html": [
       "54"
      ],
      "text/latex": [
       "54"
      ],
      "text/markdown": [
       "54"
      ],
      "text/plain": [
       "[1] 54"
      ]
     },
     "metadata": {},
     "output_type": "display_data"
    }
   ],
   "source": [
    "length(df)"
   ]
  },
  {
   "cell_type": "markdown",
   "metadata": {},
   "source": [
    "### 116.提取industryField列以'数据'开头的行"
   ]
  },
  {
   "cell_type": "code",
   "execution_count": 114,
   "metadata": {
    "collapsed": false
   },
   "outputs": [
    {
     "data": {
      "text/html": [
       "<table>\n",
       "<thead><tr><th scope=col>positionId</th><th scope=col>positionName</th><th scope=col>companyId</th><th scope=col>companyLogo</th><th scope=col>companySize</th><th scope=col>industryField</th><th scope=col>financeStage</th><th scope=col>companyLabelList</th><th scope=col>firstType</th><th scope=col>secondType</th><th scope=col>...</th><th scope=col>pcShow</th><th scope=col>appShow</th><th scope=col>deliver</th><th scope=col>gradeDescription</th><th scope=col>promotionScoreExplain</th><th scope=col>isHotHire</th><th scope=col>count</th><th scope=col>aggregatePositionIds</th><th scope=col>famousCompany</th><th scope=col>split</th></tr></thead>\n",
       "<tbody>\n",
       "\t<tr><td>6458372                                               </td><td>数据分析专家                                          </td><td>    34132                                             </td><td>i/image2/M01/F8/DE/CgoB5lyHTJeAP7v9AAFXUt4zJo4515.png </td><td>150-500人                                             </td><td>数据服务,广告营销                                     </td><td>A轮                                                   </td><td>['开放式办公', '扁平管理', '带薪假期', '弹性工作时间']</td><td>产品|需求|项目类                                      </td><td>数据分析                                              </td><td>...                                                   </td><td>0                                                     </td><td>0                                                     </td><td>0                                                     </td><td>NA                                                    </td><td>NA                                                    </td><td>0                                                     </td><td>0                                                     </td><td>[]                                                    </td><td>FALSE                                                 </td><td>NA                                                    </td></tr>\n",
       "\t<tr><td>6804629                                               </td><td>数据分析师                                            </td><td>    34132                                             </td><td>i/image2/M01/F8/DE/CgoB5lyHTJeAP7v9AAFXUt4zJo4515.png </td><td>150-500人                                             </td><td>数据服务,广告营销                                     </td><td>A轮                                                   </td><td>['开放式办公', '扁平管理', '带薪假期', '弹性工作时间']</td><td>产品|需求|项目类                                      </td><td>数据分析                                              </td><td>...                                                   </td><td>0                                                     </td><td>0                                                     </td><td>0                                                     </td><td>NA                                                    </td><td>NA                                                    </td><td>0                                                     </td><td>0                                                     </td><td>[]                                                    </td><td>FALSE                                                 </td><td>NA                                                    </td></tr>\n",
       "\t<tr><td>6804489                                               </td><td>资深数据分析师                                        </td><td>    34132                                             </td><td>i/image2/M01/F8/DE/CgoB5lyHTJeAP7v9AAFXUt4zJo4515.png </td><td>150-500人                                             </td><td>数据服务,广告营销                                     </td><td>A轮                                                   </td><td>['开放式办公', '扁平管理', '带薪假期', '弹性工作时间']</td><td>开发|测试|运维类                                      </td><td>数据开发                                              </td><td>...                                                   </td><td>0                                                     </td><td>0                                                     </td><td>0                                                     </td><td>NA                                                    </td><td>NA                                                    </td><td>0                                                     </td><td>0                                                     </td><td>[]                                                    </td><td>FALSE                                                 </td><td>NA                                                    </td></tr>\n",
       "\t<tr><td>6267370                                               </td><td>数据分析专家                                          </td><td>    31544                                             </td><td>image1/M00/00/48/CgYXBlTUXOaADKooAABjQoD_n1w508.png   </td><td>150-500人                                             </td><td>数据服务                                              </td><td>不需要融资                                            </td><td>['专业红娘牵线', '节日礼物', '技能培训', '岗位晋升']  </td><td>开发|测试|运维类                                      </td><td>数据开发                                              </td><td>...                                                   </td><td>0                                                     </td><td>0                                                     </td><td>0                                                     </td><td>NA                                                    </td><td>NA                                                    </td><td>0                                                     </td><td>0                                                     </td><td>[]                                                    </td><td>FALSE                                                 </td><td>4号线           , 中医药大学;4号线, 联庄              </td></tr>\n",
       "\t<tr><td>6804489                                               </td><td>资深数据分析师                                        </td><td>    34132                                             </td><td>i/image2/M01/F8/DE/CgoB5lyHTJeAP7v9AAFXUt4zJo4515.png </td><td>150-500人                                             </td><td>数据服务,广告营销                                     </td><td>A轮                                                   </td><td>['开放式办公', '扁平管理', '带薪假期', '弹性工作时间']</td><td>开发|测试|运维类                                      </td><td>数据开发                                              </td><td>...                                                   </td><td>0                                                     </td><td>0                                                     </td><td>0                                                     </td><td>NA                                                    </td><td>NA                                                    </td><td>0                                                     </td><td>0                                                     </td><td>[]                                                    </td><td>FALSE                                                 </td><td>NA                                                    </td></tr>\n",
       "\t<tr><td>6242470                                               </td><td>数据分析师                                            </td><td>    31544                                             </td><td>image1/M00/00/48/CgYXBlTUXOaADKooAABjQoD_n1w508.png   </td><td>150-500人                                             </td><td>数据服务                                              </td><td>不需要融资                                            </td><td>['专业红娘牵线', '节日礼物', '技能培训', '岗位晋升']  </td><td>产品|需求|项目类                                      </td><td>数据分析                                              </td><td>...                                                   </td><td>0                                                     </td><td>0                                                     </td><td>0                                                     </td><td>NA                                                    </td><td>NA                                                    </td><td>0                                                     </td><td>0                                                     </td><td>[]                                                    </td><td>FALSE                                                 </td><td>4号线           , 中医药大学;4号线, 联庄              </td></tr>\n",
       "\t<tr><td>6680900                                               </td><td>数据分析师 (MJ000250)                                 </td><td>   114335                                             </td><td>i/image2/M00/17/C2/CgoB5ln5lUuAM8oSAADO2Rz54hQ336.png </td><td>150-500人                                             </td><td>数据服务                                              </td><td>B轮                                                   </td><td>['股票期权', '弹性工作', '领导好', '五险一金']        </td><td>产品|需求|项目类                                      </td><td>产品经理                                              </td><td>...                                                   </td><td>0                                                     </td><td>0                                                     </td><td>0                                                     </td><td>NA                                                    </td><td>NA                                                    </td><td>0                                                     </td><td>0                                                     </td><td>[]                                                    </td><td>FALSE                                                 </td><td>NA                                                    </td></tr>\n",
       "\t<tr><td>6680900                                               </td><td>数据分析师 (MJ000250)                                 </td><td>   114335                                             </td><td>i/image2/M00/17/C2/CgoB5ln5lUuAM8oSAADO2Rz54hQ336.png </td><td>150-500人                                             </td><td>数据服务                                              </td><td>B轮                                                   </td><td>['股票期权', '弹性工作', '领导好', '五险一金']        </td><td>产品|需求|项目类                                      </td><td>产品经理                                              </td><td>...                                                   </td><td>0                                                     </td><td>0                                                     </td><td>0                                                     </td><td>NA                                                    </td><td>NA                                                    </td><td>0                                                     </td><td>0                                                     </td><td>[]                                                    </td><td>FALSE                                                 </td><td>NA                                                    </td></tr>\n",
       "\t<tr><td>5683671                                               </td><td>数据分析实习生 (MJ000087)                             </td><td>   114335                                             </td><td>i/image2/M00/17/C2/CgoB5ln5lUuAM8oSAADO2Rz54hQ336.png </td><td>150-500人                                             </td><td>数据服务                                              </td><td>B轮                                                   </td><td>['股票期权', '弹性工作', '领导好', '五险一金']        </td><td>开发|测试|运维类                                      </td><td>后端开发                                              </td><td>...                                                   </td><td>0                                                     </td><td>0                                                     </td><td>0                                                     </td><td>NA                                                    </td><td>NA                                                    </td><td>0                                                     </td><td>0                                                     </td><td>[]                                                    </td><td>FALSE                                                 </td><td>NA                                                    </td></tr>\n",
       "\t<tr><td>6046866                                               </td><td>数据分析师                                            </td><td>   543802                                             </td><td>i/image2/M01/63/3C/CgotOV0ulwOAU8KWAAAsMECc53M647.png </td><td>15-50人                                               </td><td>数据服务                                              </td><td>不需要融资                                            </td><td>[]                                                    </td><td>产品|需求|项目类                                      </td><td>数据分析                                              </td><td>...                                                   </td><td>0                                                     </td><td>0                                                     </td><td>0                                                     </td><td>NA                                                    </td><td>NA                                                    </td><td>0                                                     </td><td>0                                                     </td><td>[]                                                    </td><td>FALSE                                                 </td><td>2号线     , 文新;2号线, 三坝                          </td></tr>\n",
       "\t<tr><td>6813626                                               </td><td>资深数据分析专员                                      </td><td>   165939                                             </td><td>i/image3/M01/65/71/CgpOIF5CFp2ACoo9AAD3IkKwlv8861.png </td><td>150-500人                                             </td><td>数据服务                                              </td><td>不需要融资                                            </td><td>['年底双薪', '带薪年假', '午餐补助', '定期体检']      </td><td>开发|测试|运维类                                      </td><td>数据开发                                              </td><td>...                                                   </td><td>0                                                     </td><td>0                                                     </td><td>0                                                     </td><td>NA                                                    </td><td>NA                                                    </td><td>0                                                     </td><td>0                                                     </td><td>[]                                                    </td><td>FALSE                                                 </td><td>NA                                                    </td></tr>\n",
       "\t<tr><td>6818950                                               </td><td>资深数据分析师                                        </td><td>   165939                                             </td><td>i/image3/M01/65/71/CgpOIF5CFp2ACoo9AAD3IkKwlv8861.png </td><td>150-500人                                             </td><td>数据服务                                              </td><td>不需要融资                                            </td><td>['年底双薪', '带薪年假', '午餐补助', '定期体检']      </td><td>开发|测试|运维类                                      </td><td>数据开发                                              </td><td>...                                                   </td><td>0                                                     </td><td>0                                                     </td><td>0                                                     </td><td>NA                                                    </td><td>NA                                                    </td><td>0                                                     </td><td>0                                                     </td><td>[]                                                    </td><td>FALSE                                                 </td><td>NA                                                    </td></tr>\n",
       "\t<tr><td>6718750                                                                                                                                       </td><td>旅游大数据分析师（杭州）                                                                                                                      </td><td>   122019                                                                                                                                     </td><td>i/image/M00/1A/4A/CgqKkVb583WABT4BAABM5RuPCmk968.png                                                                                          </td><td>50-150人                                                                                                                                      </td><td>数据服务,企业服务                                                                                                                             </td><td>A轮                                                                                                                                           </td><td>['年底双薪', '股票期权', '午餐补助', '定期体检']                                                                                              </td><td>开发|测试|运维类                                                                                                                              </td><td>数据开发                                                                                                                                      </td><td>...                                                                                                                                           </td><td>0                                                                                                                                             </td><td>0                                                                                                                                             </td><td>0                                                                                                                                             </td><td>NA                                                                                                                                            </td><td>NA                                                                                                                                            </td><td>0                                                                                                                                             </td><td>0                                                                                                                                             </td><td>[]                                                                                                                                            </td><td>FALSE                                                                                                                                         </td><td>1号线         , 定安路;1号线  , 龙翔桥;1号线  , 凤起路;1号线  , 定安路;1号线  , 龙翔桥;1号线  , 凤起路;2号线  , 中河北路;2号线, 凤起路        </td></tr>\n",
       "\t<tr><td>6655562                                               </td><td>数据分析建模工程师                                    </td><td>117422215                                             </td><td>i/image2/M01/AF/6D/CgotOV3ki4iAOuo3AABbilI8DfA441.png </td><td>50-150人                                              </td><td>数据服务,信息安全                                     </td><td>A轮                                                   </td><td>['午餐补助', '带薪年假', '16到18薪', '法定节假日']    </td><td>开发|测试|运维类                                      </td><td>人工智能                                              </td><td>...                                                   </td><td>0                                                     </td><td>0                                                     </td><td>0                                                     </td><td>NA                                                    </td><td>NA                                                    </td><td>0                                                     </td><td>0                                                     </td><td>[]                                                    </td><td>FALSE                                                 </td><td>2号线       , 古翠路;2号线, 丰潭路                    </td></tr>\n",
       "\t<tr><td>6677939                                               </td><td>数据分析建模工程师（校招）                            </td><td>117422215                                             </td><td>i/image2/M01/AF/6D/CgotOV3ki4iAOuo3AABbilI8DfA441.png </td><td>50-150人                                              </td><td>数据服务,信息安全                                     </td><td>A轮                                                   </td><td>['午餐补助', '带薪年假', '16到18薪', '法定节假日']    </td><td>开发|测试|运维类                                      </td><td>人工智能                                              </td><td>...                                                   </td><td>0                                                     </td><td>0                                                     </td><td>0                                                     </td><td>NA                                                    </td><td>NA                                                    </td><td>0                                                     </td><td>0                                                     </td><td>[]                                                    </td><td>FALSE                                                 </td><td>2号线       , 古翠路;2号线, 丰潭路                    </td></tr>\n",
       "</tbody>\n",
       "</table>\n"
      ],
      "text/latex": [
       "\\begin{tabular}{r|llllllllllllllllllllllllllllllllllllllllllllllllllllll}\n",
       " positionId & positionName & companyId & companyLogo & companySize & industryField & financeStage & companyLabelList & firstType & secondType & ... & pcShow & appShow & deliver & gradeDescription & promotionScoreExplain & isHotHire & count & aggregatePositionIds & famousCompany & split\\\\\n",
       "\\hline\n",
       "\t 6458372                                                    & 数据分析专家                                               &     34132                                                  & i/image2/M01/F8/DE/CgoB5lyHTJeAP7v9AAFXUt4zJo4515.png      & 150-500人                                                  & 数据服务,广告营销                                          & A轮                                                        & {[}'开放式办公', '扁平管理', '带薪假期', '弹性工作时间'{]} & 产品\\textbar{}需求\\textbar{}项目类                       & 数据分析                                                   & ...                                                        & 0                                                          & 0                                                          & 0                                                          & NA                                                         & NA                                                         & 0                                                          & 0                                                          & {[}{]}                                                     & FALSE                                                      & NA                                                        \\\\\n",
       "\t 6804629                                                    & 数据分析师                                                 &     34132                                                  & i/image2/M01/F8/DE/CgoB5lyHTJeAP7v9AAFXUt4zJo4515.png      & 150-500人                                                  & 数据服务,广告营销                                          & A轮                                                        & {[}'开放式办公', '扁平管理', '带薪假期', '弹性工作时间'{]} & 产品\\textbar{}需求\\textbar{}项目类                       & 数据分析                                                   & ...                                                        & 0                                                          & 0                                                          & 0                                                          & NA                                                         & NA                                                         & 0                                                          & 0                                                          & {[}{]}                                                     & FALSE                                                      & NA                                                        \\\\\n",
       "\t 6804489                                                    & 资深数据分析师                                             &     34132                                                  & i/image2/M01/F8/DE/CgoB5lyHTJeAP7v9AAFXUt4zJo4515.png      & 150-500人                                                  & 数据服务,广告营销                                          & A轮                                                        & {[}'开放式办公', '扁平管理', '带薪假期', '弹性工作时间'{]} & 开发\\textbar{}测试\\textbar{}运维类                       & 数据开发                                                   & ...                                                        & 0                                                          & 0                                                          & 0                                                          & NA                                                         & NA                                                         & 0                                                          & 0                                                          & {[}{]}                                                     & FALSE                                                      & NA                                                        \\\\\n",
       "\t 6267370                                                    & 数据分析专家                                               &     31544                                                  & image1/M00/00/48/CgYXBlTUXOaADKooAABjQoD\\_n1w508.png      & 150-500人                                                  & 数据服务                                                   & 不需要融资                                                 & {[}'专业红娘牵线', '节日礼物', '技能培训', '岗位晋升'{]}   & 开发\\textbar{}测试\\textbar{}运维类                       & 数据开发                                                   & ...                                                        & 0                                                          & 0                                                          & 0                                                          & NA                                                         & NA                                                         & 0                                                          & 0                                                          & {[}{]}                                                     & FALSE                                                      & 4号线           , 中医药大学;4号线, 联庄                  \\\\\n",
       "\t 6804489                                                    & 资深数据分析师                                             &     34132                                                  & i/image2/M01/F8/DE/CgoB5lyHTJeAP7v9AAFXUt4zJo4515.png      & 150-500人                                                  & 数据服务,广告营销                                          & A轮                                                        & {[}'开放式办公', '扁平管理', '带薪假期', '弹性工作时间'{]} & 开发\\textbar{}测试\\textbar{}运维类                       & 数据开发                                                   & ...                                                        & 0                                                          & 0                                                          & 0                                                          & NA                                                         & NA                                                         & 0                                                          & 0                                                          & {[}{]}                                                     & FALSE                                                      & NA                                                        \\\\\n",
       "\t 6242470                                                    & 数据分析师                                                 &     31544                                                  & image1/M00/00/48/CgYXBlTUXOaADKooAABjQoD\\_n1w508.png      & 150-500人                                                  & 数据服务                                                   & 不需要融资                                                 & {[}'专业红娘牵线', '节日礼物', '技能培训', '岗位晋升'{]}   & 产品\\textbar{}需求\\textbar{}项目类                       & 数据分析                                                   & ...                                                        & 0                                                          & 0                                                          & 0                                                          & NA                                                         & NA                                                         & 0                                                          & 0                                                          & {[}{]}                                                     & FALSE                                                      & 4号线           , 中医药大学;4号线, 联庄                  \\\\\n",
       "\t 6680900                                                    & 数据分析师 (MJ000250)                                      &    114335                                                  & i/image2/M00/17/C2/CgoB5ln5lUuAM8oSAADO2Rz54hQ336.png      & 150-500人                                                  & 数据服务                                                   & B轮                                                        & {[}'股票期权', '弹性工作', '领导好', '五险一金'{]}         & 产品\\textbar{}需求\\textbar{}项目类                       & 产品经理                                                   & ...                                                        & 0                                                          & 0                                                          & 0                                                          & NA                                                         & NA                                                         & 0                                                          & 0                                                          & {[}{]}                                                     & FALSE                                                      & NA                                                        \\\\\n",
       "\t 6680900                                                    & 数据分析师 (MJ000250)                                      &    114335                                                  & i/image2/M00/17/C2/CgoB5ln5lUuAM8oSAADO2Rz54hQ336.png      & 150-500人                                                  & 数据服务                                                   & B轮                                                        & {[}'股票期权', '弹性工作', '领导好', '五险一金'{]}         & 产品\\textbar{}需求\\textbar{}项目类                       & 产品经理                                                   & ...                                                        & 0                                                          & 0                                                          & 0                                                          & NA                                                         & NA                                                         & 0                                                          & 0                                                          & {[}{]}                                                     & FALSE                                                      & NA                                                        \\\\\n",
       "\t 5683671                                                    & 数据分析实习生 (MJ000087)                                  &    114335                                                  & i/image2/M00/17/C2/CgoB5ln5lUuAM8oSAADO2Rz54hQ336.png      & 150-500人                                                  & 数据服务                                                   & B轮                                                        & {[}'股票期权', '弹性工作', '领导好', '五险一金'{]}         & 开发\\textbar{}测试\\textbar{}运维类                       & 后端开发                                                   & ...                                                        & 0                                                          & 0                                                          & 0                                                          & NA                                                         & NA                                                         & 0                                                          & 0                                                          & {[}{]}                                                     & FALSE                                                      & NA                                                        \\\\\n",
       "\t 6046866                                                    & 数据分析师                                                 &    543802                                                  & i/image2/M01/63/3C/CgotOV0ulwOAU8KWAAAsMECc53M647.png      & 15-50人                                                    & 数据服务                                                   & 不需要融资                                                 & {[}{]}                                                     & 产品\\textbar{}需求\\textbar{}项目类                       & 数据分析                                                   & ...                                                        & 0                                                          & 0                                                          & 0                                                          & NA                                                         & NA                                                         & 0                                                          & 0                                                          & {[}{]}                                                     & FALSE                                                      & 2号线     , 文新;2号线, 三坝                              \\\\\n",
       "\t 6813626                                                    & 资深数据分析专员                                           &    165939                                                  & i/image3/M01/65/71/CgpOIF5CFp2ACoo9AAD3IkKwlv8861.png      & 150-500人                                                  & 数据服务                                                   & 不需要融资                                                 & {[}'年底双薪', '带薪年假', '午餐补助', '定期体检'{]}       & 开发\\textbar{}测试\\textbar{}运维类                       & 数据开发                                                   & ...                                                        & 0                                                          & 0                                                          & 0                                                          & NA                                                         & NA                                                         & 0                                                          & 0                                                          & {[}{]}                                                     & FALSE                                                      & NA                                                        \\\\\n",
       "\t 6818950                                                    & 资深数据分析师                                             &    165939                                                  & i/image3/M01/65/71/CgpOIF5CFp2ACoo9AAD3IkKwlv8861.png      & 150-500人                                                  & 数据服务                                                   & 不需要融资                                                 & {[}'年底双薪', '带薪年假', '午餐补助', '定期体检'{]}       & 开发\\textbar{}测试\\textbar{}运维类                       & 数据开发                                                   & ...                                                        & 0                                                          & 0                                                          & 0                                                          & NA                                                         & NA                                                         & 0                                                          & 0                                                          & {[}{]}                                                     & FALSE                                                      & NA                                                        \\\\\n",
       "\t 6718750                                                                                                                                        & 旅游大数据分析师（杭州）                                                                                                                       &    122019                                                                                                                                      & i/image/M00/1A/4A/CgqKkVb583WABT4BAABM5RuPCmk968.png                                                                                           & 50-150人                                                                                                                                       & 数据服务,企业服务                                                                                                                              & A轮                                                                                                                                            & {[}'年底双薪', '股票期权', '午餐补助', '定期体检'{]}                                                                                           & 开发\\textbar{}测试\\textbar{}运维类                                                                                                           & 数据开发                                                                                                                                       & ...                                                                                                                                            & 0                                                                                                                                              & 0                                                                                                                                              & 0                                                                                                                                              & NA                                                                                                                                             & NA                                                                                                                                             & 0                                                                                                                                              & 0                                                                                                                                              & {[}{]}                                                                                                                                         & FALSE                                                                                                                                          & 1号线         , 定安路;1号线  , 龙翔桥;1号线  , 凤起路;1号线  , 定安路;1号线  , 龙翔桥;1号线  , 凤起路;2号线  , 中河北路;2号线, 凤起路        \\\\\n",
       "\t 6655562                                                    & 数据分析建模工程师                                         & 117422215                                                  & i/image2/M01/AF/6D/CgotOV3ki4iAOuo3AABbilI8DfA441.png      & 50-150人                                                   & 数据服务,信息安全                                          & A轮                                                        & {[}'午餐补助', '带薪年假', '16到18薪', '法定节假日'{]}     & 开发\\textbar{}测试\\textbar{}运维类                       & 人工智能                                                   & ...                                                        & 0                                                          & 0                                                          & 0                                                          & NA                                                         & NA                                                         & 0                                                          & 0                                                          & {[}{]}                                                     & FALSE                                                      & 2号线       , 古翠路;2号线, 丰潭路                        \\\\\n",
       "\t 6677939                                                    & 数据分析建模工程师（校招）                                 & 117422215                                                  & i/image2/M01/AF/6D/CgotOV3ki4iAOuo3AABbilI8DfA441.png      & 50-150人                                                   & 数据服务,信息安全                                          & A轮                                                        & {[}'午餐补助', '带薪年假', '16到18薪', '法定节假日'{]}     & 开发\\textbar{}测试\\textbar{}运维类                       & 人工智能                                                   & ...                                                        & 0                                                          & 0                                                          & 0                                                          & NA                                                         & NA                                                         & 0                                                          & 0                                                          & {[}{]}                                                     & FALSE                                                      & 2号线       , 古翠路;2号线, 丰潭路                        \\\\\n",
       "\\end{tabular}\n"
      ],
      "text/markdown": [
       "\n",
       "positionId | positionName | companyId | companyLogo | companySize | industryField | financeStage | companyLabelList | firstType | secondType | ... | pcShow | appShow | deliver | gradeDescription | promotionScoreExplain | isHotHire | count | aggregatePositionIds | famousCompany | split | \n",
       "|---|---|---|---|---|---|---|---|---|---|---|---|---|---|---|\n",
       "| 6458372                                                | 数据分析专家                                           |     34132                                              | i/image2/M01/F8/DE/CgoB5lyHTJeAP7v9AAFXUt4zJo4515.png  | 150-500人                                              | 数据服务,广告营销                                      | A轮                                                    | ['开放式办公', '扁平管理', '带薪假期', '弹性工作时间'] | 产品|需求|项目类                                       | 数据分析                                               | ...                                                    | 0                                                      | 0                                                      | 0                                                      | NA                                                     | NA                                                     | 0                                                      | 0                                                      | []                                                     | FALSE                                                  | NA                                                     | \n",
       "| 6804629                                                | 数据分析师                                             |     34132                                              | i/image2/M01/F8/DE/CgoB5lyHTJeAP7v9AAFXUt4zJo4515.png  | 150-500人                                              | 数据服务,广告营销                                      | A轮                                                    | ['开放式办公', '扁平管理', '带薪假期', '弹性工作时间'] | 产品|需求|项目类                                       | 数据分析                                               | ...                                                    | 0                                                      | 0                                                      | 0                                                      | NA                                                     | NA                                                     | 0                                                      | 0                                                      | []                                                     | FALSE                                                  | NA                                                     | \n",
       "| 6804489                                                | 资深数据分析师                                         |     34132                                              | i/image2/M01/F8/DE/CgoB5lyHTJeAP7v9AAFXUt4zJo4515.png  | 150-500人                                              | 数据服务,广告营销                                      | A轮                                                    | ['开放式办公', '扁平管理', '带薪假期', '弹性工作时间'] | 开发|测试|运维类                                       | 数据开发                                               | ...                                                    | 0                                                      | 0                                                      | 0                                                      | NA                                                     | NA                                                     | 0                                                      | 0                                                      | []                                                     | FALSE                                                  | NA                                                     | \n",
       "| 6267370                                                | 数据分析专家                                           |     31544                                              | image1/M00/00/48/CgYXBlTUXOaADKooAABjQoD_n1w508.png    | 150-500人                                              | 数据服务                                               | 不需要融资                                             | ['专业红娘牵线', '节日礼物', '技能培训', '岗位晋升']   | 开发|测试|运维类                                       | 数据开发                                               | ...                                                    | 0                                                      | 0                                                      | 0                                                      | NA                                                     | NA                                                     | 0                                                      | 0                                                      | []                                                     | FALSE                                                  | 4号线           , 中医药大学;4号线, 联庄               | \n",
       "| 6804489                                                | 资深数据分析师                                         |     34132                                              | i/image2/M01/F8/DE/CgoB5lyHTJeAP7v9AAFXUt4zJo4515.png  | 150-500人                                              | 数据服务,广告营销                                      | A轮                                                    | ['开放式办公', '扁平管理', '带薪假期', '弹性工作时间'] | 开发|测试|运维类                                       | 数据开发                                               | ...                                                    | 0                                                      | 0                                                      | 0                                                      | NA                                                     | NA                                                     | 0                                                      | 0                                                      | []                                                     | FALSE                                                  | NA                                                     | \n",
       "| 6242470                                                | 数据分析师                                             |     31544                                              | image1/M00/00/48/CgYXBlTUXOaADKooAABjQoD_n1w508.png    | 150-500人                                              | 数据服务                                               | 不需要融资                                             | ['专业红娘牵线', '节日礼物', '技能培训', '岗位晋升']   | 产品|需求|项目类                                       | 数据分析                                               | ...                                                    | 0                                                      | 0                                                      | 0                                                      | NA                                                     | NA                                                     | 0                                                      | 0                                                      | []                                                     | FALSE                                                  | 4号线           , 中医药大学;4号线, 联庄               | \n",
       "| 6680900                                                | 数据分析师 (MJ000250)                                  |    114335                                              | i/image2/M00/17/C2/CgoB5ln5lUuAM8oSAADO2Rz54hQ336.png  | 150-500人                                              | 数据服务                                               | B轮                                                    | ['股票期权', '弹性工作', '领导好', '五险一金']         | 产品|需求|项目类                                       | 产品经理                                               | ...                                                    | 0                                                      | 0                                                      | 0                                                      | NA                                                     | NA                                                     | 0                                                      | 0                                                      | []                                                     | FALSE                                                  | NA                                                     | \n",
       "| 6680900                                                | 数据分析师 (MJ000250)                                  |    114335                                              | i/image2/M00/17/C2/CgoB5ln5lUuAM8oSAADO2Rz54hQ336.png  | 150-500人                                              | 数据服务                                               | B轮                                                    | ['股票期权', '弹性工作', '领导好', '五险一金']         | 产品|需求|项目类                                       | 产品经理                                               | ...                                                    | 0                                                      | 0                                                      | 0                                                      | NA                                                     | NA                                                     | 0                                                      | 0                                                      | []                                                     | FALSE                                                  | NA                                                     | \n",
       "| 5683671                                                | 数据分析实习生 (MJ000087)                              |    114335                                              | i/image2/M00/17/C2/CgoB5ln5lUuAM8oSAADO2Rz54hQ336.png  | 150-500人                                              | 数据服务                                               | B轮                                                    | ['股票期权', '弹性工作', '领导好', '五险一金']         | 开发|测试|运维类                                       | 后端开发                                               | ...                                                    | 0                                                      | 0                                                      | 0                                                      | NA                                                     | NA                                                     | 0                                                      | 0                                                      | []                                                     | FALSE                                                  | NA                                                     | \n",
       "| 6046866                                                | 数据分析师                                             |    543802                                              | i/image2/M01/63/3C/CgotOV0ulwOAU8KWAAAsMECc53M647.png  | 15-50人                                                | 数据服务                                               | 不需要融资                                             | []                                                     | 产品|需求|项目类                                       | 数据分析                                               | ...                                                    | 0                                                      | 0                                                      | 0                                                      | NA                                                     | NA                                                     | 0                                                      | 0                                                      | []                                                     | FALSE                                                  | 2号线     , 文新;2号线, 三坝                           | \n",
       "| 6813626                                                | 资深数据分析专员                                       |    165939                                              | i/image3/M01/65/71/CgpOIF5CFp2ACoo9AAD3IkKwlv8861.png  | 150-500人                                              | 数据服务                                               | 不需要融资                                             | ['年底双薪', '带薪年假', '午餐补助', '定期体检']       | 开发|测试|运维类                                       | 数据开发                                               | ...                                                    | 0                                                      | 0                                                      | 0                                                      | NA                                                     | NA                                                     | 0                                                      | 0                                                      | []                                                     | FALSE                                                  | NA                                                     | \n",
       "| 6818950                                                | 资深数据分析师                                         |    165939                                              | i/image3/M01/65/71/CgpOIF5CFp2ACoo9AAD3IkKwlv8861.png  | 150-500人                                              | 数据服务                                               | 不需要融资                                             | ['年底双薪', '带薪年假', '午餐补助', '定期体检']       | 开发|测试|运维类                                       | 数据开发                                               | ...                                                    | 0                                                      | 0                                                      | 0                                                      | NA                                                     | NA                                                     | 0                                                      | 0                                                      | []                                                     | FALSE                                                  | NA                                                     | \n",
       "| 6718750                                                                                                                                        | 旅游大数据分析师（杭州）                                                                                                                       |    122019                                                                                                                                      | i/image/M00/1A/4A/CgqKkVb583WABT4BAABM5RuPCmk968.png                                                                                           | 50-150人                                                                                                                                       | 数据服务,企业服务                                                                                                                              | A轮                                                                                                                                            | ['年底双薪', '股票期权', '午餐补助', '定期体检']                                                                                               | 开发|测试|运维类                                                                                                                               | 数据开发                                                                                                                                       | ...                                                                                                                                            | 0                                                                                                                                              | 0                                                                                                                                              | 0                                                                                                                                              | NA                                                                                                                                             | NA                                                                                                                                             | 0                                                                                                                                              | 0                                                                                                                                              | []                                                                                                                                             | FALSE                                                                                                                                          | 1号线         , 定安路;1号线  , 龙翔桥;1号线  , 凤起路;1号线  , 定安路;1号线  , 龙翔桥;1号线  , 凤起路;2号线  , 中河北路;2号线, 凤起路         | \n",
       "| 6655562                                                | 数据分析建模工程师                                     | 117422215                                              | i/image2/M01/AF/6D/CgotOV3ki4iAOuo3AABbilI8DfA441.png  | 50-150人                                               | 数据服务,信息安全                                      | A轮                                                    | ['午餐补助', '带薪年假', '16到18薪', '法定节假日']     | 开发|测试|运维类                                       | 人工智能                                               | ...                                                    | 0                                                      | 0                                                      | 0                                                      | NA                                                     | NA                                                     | 0                                                      | 0                                                      | []                                                     | FALSE                                                  | 2号线       , 古翠路;2号线, 丰潭路                     | \n",
       "| 6677939                                                | 数据分析建模工程师（校招）                             | 117422215                                              | i/image2/M01/AF/6D/CgotOV3ki4iAOuo3AABbilI8DfA441.png  | 50-150人                                               | 数据服务,信息安全                                      | A轮                                                    | ['午餐补助', '带薪年假', '16到18薪', '法定节假日']     | 开发|测试|运维类                                       | 人工智能                                               | ...                                                    | 0                                                      | 0                                                      | 0                                                      | NA                                                     | NA                                                     | 0                                                      | 0                                                      | []                                                     | FALSE                                                  | 2号线       , 古翠路;2号线, 丰潭路                     | \n",
       "\n",
       "\n"
      ],
      "text/plain": [
       "   positionId positionName               companyId\n",
       "1  6458372    数据分析专家                   34132\n",
       "2  6804629    数据分析师                     34132\n",
       "3  6804489    资深数据分析师                 34132\n",
       "4  6267370    数据分析专家                   31544\n",
       "5  6804489    资深数据分析师                 34132\n",
       "6  6242470    数据分析师                     31544\n",
       "7  6680900    数据分析师 (MJ000250)         114335\n",
       "8  6680900    数据分析师 (MJ000250)         114335\n",
       "9  5683671    数据分析实习生 (MJ000087)     114335\n",
       "10 6046866    数据分析师                    543802\n",
       "11 6813626    资深数据分析专员              165939\n",
       "12 6818950    资深数据分析师                165939\n",
       "13 6718750    旅游大数据分析师（杭州）      122019\n",
       "14 6655562    数据分析建模工程师         117422215\n",
       "15 6677939    数据分析建模工程师（校招） 117422215\n",
       "   companyLogo                                           companySize\n",
       "1  i/image2/M01/F8/DE/CgoB5lyHTJeAP7v9AAFXUt4zJo4515.png 150-500人  \n",
       "2  i/image2/M01/F8/DE/CgoB5lyHTJeAP7v9AAFXUt4zJo4515.png 150-500人  \n",
       "3  i/image2/M01/F8/DE/CgoB5lyHTJeAP7v9AAFXUt4zJo4515.png 150-500人  \n",
       "4  image1/M00/00/48/CgYXBlTUXOaADKooAABjQoD_n1w508.png   150-500人  \n",
       "5  i/image2/M01/F8/DE/CgoB5lyHTJeAP7v9AAFXUt4zJo4515.png 150-500人  \n",
       "6  image1/M00/00/48/CgYXBlTUXOaADKooAABjQoD_n1w508.png   150-500人  \n",
       "7  i/image2/M00/17/C2/CgoB5ln5lUuAM8oSAADO2Rz54hQ336.png 150-500人  \n",
       "8  i/image2/M00/17/C2/CgoB5ln5lUuAM8oSAADO2Rz54hQ336.png 150-500人  \n",
       "9  i/image2/M00/17/C2/CgoB5ln5lUuAM8oSAADO2Rz54hQ336.png 150-500人  \n",
       "10 i/image2/M01/63/3C/CgotOV0ulwOAU8KWAAAsMECc53M647.png 15-50人    \n",
       "11 i/image3/M01/65/71/CgpOIF5CFp2ACoo9AAD3IkKwlv8861.png 150-500人  \n",
       "12 i/image3/M01/65/71/CgpOIF5CFp2ACoo9AAD3IkKwlv8861.png 150-500人  \n",
       "13 i/image/M00/1A/4A/CgqKkVb583WABT4BAABM5RuPCmk968.png  50-150人   \n",
       "14 i/image2/M01/AF/6D/CgotOV3ki4iAOuo3AABbilI8DfA441.png 50-150人   \n",
       "15 i/image2/M01/AF/6D/CgotOV3ki4iAOuo3AABbilI8DfA441.png 50-150人   \n",
       "   industryField     financeStage\n",
       "1  数据服务,广告营销 A轮         \n",
       "2  数据服务,广告营销 A轮         \n",
       "3  数据服务,广告营销 A轮         \n",
       "4  数据服务          不需要融资  \n",
       "5  数据服务,广告营销 A轮         \n",
       "6  数据服务          不需要融资  \n",
       "7  数据服务          B轮         \n",
       "8  数据服务          B轮         \n",
       "9  数据服务          B轮         \n",
       "10 数据服务          不需要融资  \n",
       "11 数据服务          不需要融资  \n",
       "12 数据服务          不需要融资  \n",
       "13 数据服务,企业服务 A轮         \n",
       "14 数据服务,信息安全 A轮         \n",
       "15 数据服务,信息安全 A轮         \n",
       "   companyLabelList                                       firstType       \n",
       "1  ['开放式办公', '扁平管理', '带薪假期', '弹性工作时间'] 产品|需求|项目类\n",
       "2  ['开放式办公', '扁平管理', '带薪假期', '弹性工作时间'] 产品|需求|项目类\n",
       "3  ['开放式办公', '扁平管理', '带薪假期', '弹性工作时间'] 开发|测试|运维类\n",
       "4  ['专业红娘牵线', '节日礼物', '技能培训', '岗位晋升']   开发|测试|运维类\n",
       "5  ['开放式办公', '扁平管理', '带薪假期', '弹性工作时间'] 开发|测试|运维类\n",
       "6  ['专业红娘牵线', '节日礼物', '技能培训', '岗位晋升']   产品|需求|项目类\n",
       "7  ['股票期权', '弹性工作', '领导好', '五险一金']         产品|需求|项目类\n",
       "8  ['股票期权', '弹性工作', '领导好', '五险一金']         产品|需求|项目类\n",
       "9  ['股票期权', '弹性工作', '领导好', '五险一金']         开发|测试|运维类\n",
       "10 []                                                     产品|需求|项目类\n",
       "11 ['年底双薪', '带薪年假', '午餐补助', '定期体检']       开发|测试|运维类\n",
       "12 ['年底双薪', '带薪年假', '午餐补助', '定期体检']       开发|测试|运维类\n",
       "13 ['年底双薪', '股票期权', '午餐补助', '定期体检']       开发|测试|运维类\n",
       "14 ['午餐补助', '带薪年假', '16到18薪', '法定节假日']     开发|测试|运维类\n",
       "15 ['午餐补助', '带薪年假', '16到18薪', '法定节假日']     开发|测试|运维类\n",
       "   secondType ... pcShow appShow deliver gradeDescription promotionScoreExplain\n",
       "1  数据分析   ... 0      0       0       NA               NA                   \n",
       "2  数据分析   ... 0      0       0       NA               NA                   \n",
       "3  数据开发   ... 0      0       0       NA               NA                   \n",
       "4  数据开发   ... 0      0       0       NA               NA                   \n",
       "5  数据开发   ... 0      0       0       NA               NA                   \n",
       "6  数据分析   ... 0      0       0       NA               NA                   \n",
       "7  产品经理   ... 0      0       0       NA               NA                   \n",
       "8  产品经理   ... 0      0       0       NA               NA                   \n",
       "9  后端开发   ... 0      0       0       NA               NA                   \n",
       "10 数据分析   ... 0      0       0       NA               NA                   \n",
       "11 数据开发   ... 0      0       0       NA               NA                   \n",
       "12 数据开发   ... 0      0       0       NA               NA                   \n",
       "13 数据开发   ... 0      0       0       NA               NA                   \n",
       "14 人工智能   ... 0      0       0       NA               NA                   \n",
       "15 人工智能   ... 0      0       0       NA               NA                   \n",
       "   isHotHire count aggregatePositionIds famousCompany\n",
       "1  0         0     []                   FALSE        \n",
       "2  0         0     []                   FALSE        \n",
       "3  0         0     []                   FALSE        \n",
       "4  0         0     []                   FALSE        \n",
       "5  0         0     []                   FALSE        \n",
       "6  0         0     []                   FALSE        \n",
       "7  0         0     []                   FALSE        \n",
       "8  0         0     []                   FALSE        \n",
       "9  0         0     []                   FALSE        \n",
       "10 0         0     []                   FALSE        \n",
       "11 0         0     []                   FALSE        \n",
       "12 0         0     []                   FALSE        \n",
       "13 0         0     []                   FALSE        \n",
       "14 0         0     []                   FALSE        \n",
       "15 0         0     []                   FALSE        \n",
       "   split                                                                                                                                         \n",
       "1  NA                                                                                                                                            \n",
       "2  NA                                                                                                                                            \n",
       "3  NA                                                                                                                                            \n",
       "4  4号线           , 中医药大学;4号线, 联庄                                                                                                      \n",
       "5  NA                                                                                                                                            \n",
       "6  4号线           , 中医药大学;4号线, 联庄                                                                                                      \n",
       "7  NA                                                                                                                                            \n",
       "8  NA                                                                                                                                            \n",
       "9  NA                                                                                                                                            \n",
       "10 2号线     , 文新;2号线, 三坝                                                                                                                  \n",
       "11 NA                                                                                                                                            \n",
       "12 NA                                                                                                                                            \n",
       "13 1号线         , 定安路;1号线  , 龙翔桥;1号线  , 凤起路;1号线  , 定安路;1号线  , 龙翔桥;1号线  , 凤起路;2号线  , 中河北路;2号线, 凤起路        \n",
       "14 2号线       , 古翠路;2号线, 丰潭路                                                                                                            \n",
       "15 2号线       , 古翠路;2号线, 丰潭路                                                                                                            "
      ]
     },
     "metadata": {},
     "output_type": "display_data"
    }
   ],
   "source": [
    "df[grep(\"^数据\", df$industryField),]"
   ]
  },
  {
   "cell_type": "markdown",
   "metadata": {},
   "source": [
    "### 117.以salary score 和 positionID制作数据透视"
   ]
  },
  {
   "cell_type": "code",
   "execution_count": 115,
   "metadata": {
    "collapsed": false
   },
   "outputs": [
    {
     "data": {
      "text/html": [
       "<table>\n",
       "<thead><tr><th></th><th scope=col>salary</th><th scope=col>score</th></tr></thead>\n",
       "<tbody>\n",
       "\t<tr><th scope=row>5203054</th><td>30000</td><td>  4.0</td></tr>\n",
       "\t<tr><th scope=row>5204912</th><td>15000</td><td>176.0</td></tr>\n",
       "\t<tr><th scope=row>5269002</th><td>37500</td><td>  1.0</td></tr>\n",
       "\t<tr><th scope=row>5453691</th><td>30000</td><td>  4.0</td></tr>\n",
       "\t<tr><th scope=row>5519962</th><td>37500</td><td> 14.0</td></tr>\n",
       "\t<tr><th scope=row>5520623</th><td>30000</td><td>  6.0</td></tr>\n",
       "\t<tr><th scope=row>5559894</th><td>30000</td><td> 12.0</td></tr>\n",
       "\t<tr><th scope=row>5604926</th><td>27500</td><td>  6.0</td></tr>\n",
       "\t<tr><th scope=row>5683671</th><td>26500</td><td>  3.0</td></tr>\n",
       "\t<tr><th scope=row>5921220</th><td>37500</td><td>  4.5</td></tr>\n",
       "\t<tr><th scope=row>5927901</th><td>30000</td><td>  7.0</td></tr>\n",
       "\t<tr><th scope=row>5978750</th><td>40000</td><td>  4.0</td></tr>\n",
       "\t<tr><th scope=row>5990647</th><td>28750</td><td>  4.5</td></tr>\n",
       "\t<tr><th scope=row>6037742</th><td>25000</td><td>  4.0</td></tr>\n",
       "\t<tr><th scope=row>6046775</th><td>30000</td><td>  5.0</td></tr>\n",
       "\t<tr><th scope=row>6046866</th><td>37500</td><td>  3.0</td></tr>\n",
       "\t<tr><th scope=row>6067812</th><td>22500</td><td>  5.0</td></tr>\n",
       "\t<tr><th scope=row>6095231</th><td>40000</td><td>  2.0</td></tr>\n",
       "\t<tr><th scope=row>6116460</th><td>45000</td><td>  4.0</td></tr>\n",
       "\t<tr><th scope=row>6191993</th><td>23750</td><td>  4.5</td></tr>\n",
       "\t<tr><th scope=row>6228290</th><td>37500</td><td>  5.0</td></tr>\n",
       "\t<tr><th scope=row>6234992</th><td>41250</td><td>  6.0</td></tr>\n",
       "\t<tr><th scope=row>6242470</th><td>22500</td><td>  5.0</td></tr>\n",
       "\t<tr><th scope=row>6267370</th><td>20000</td><td>  7.0</td></tr>\n",
       "\t<tr><th scope=row>6284662</th><td>40000</td><td>  5.0</td></tr>\n",
       "\t<tr><th scope=row>6310387</th><td>30000</td><td>  3.0</td></tr>\n",
       "\t<tr><th scope=row>6339988</th><td>45000</td><td>  5.0</td></tr>\n",
       "\t<tr><th scope=row>6344146</th><td>24000</td><td>  5.0</td></tr>\n",
       "\t<tr><th scope=row>6456921</th><td>50000</td><td>  1.0</td></tr>\n",
       "\t<tr><th scope=row>6458372</th><td>60000</td><td> 24.0</td></tr>\n",
       "\t<tr><th scope=row>...</th><td>...</td><td>...</td></tr>\n",
       "\t<tr><th scope=row>6794326</th><td>24000</td><td>  4  </td></tr>\n",
       "\t<tr><th scope=row>6802721</th><td>37500</td><td>233  </td></tr>\n",
       "\t<tr><th scope=row>6803432</th><td>30000</td><td>  0  </td></tr>\n",
       "\t<tr><th scope=row>6804489</th><td>33750</td><td> 16  </td></tr>\n",
       "\t<tr><th scope=row>6804629</th><td>30000</td><td> 17  </td></tr>\n",
       "\t<tr><th scope=row>6813626</th><td>30000</td><td>  1  </td></tr>\n",
       "\t<tr><th scope=row>6814233</th><td>30000</td><td>  5  </td></tr>\n",
       "\t<tr><th scope=row>6818950</th><td>30000</td><td>  1  </td></tr>\n",
       "\t<tr><th scope=row>6819289</th><td>30000</td><td>  4  </td></tr>\n",
       "\t<tr><th scope=row>6820395</th><td>60000</td><td>  3  </td></tr>\n",
       "\t<tr><th scope=row>6829277</th><td>27500</td><td> 12  </td></tr>\n",
       "\t<tr><th scope=row>6829736</th><td>30000</td><td>  4  </td></tr>\n",
       "\t<tr><th scope=row>6837340</th><td>30000</td><td>  4  </td></tr>\n",
       "\t<tr><th scope=row>6841659</th><td>30000</td><td> 65  </td></tr>\n",
       "\t<tr><th scope=row>6847013</th><td>30000</td><td> 17  </td></tr>\n",
       "\t<tr><th scope=row>6848382</th><td>45000</td><td>  4  </td></tr>\n",
       "\t<tr><th scope=row>6849100</th><td>35000</td><td>  0  </td></tr>\n",
       "\t<tr><th scope=row>6850849</th><td>32500</td><td>  6  </td></tr>\n",
       "\t<tr><th scope=row>6854920</th><td>37500</td><td>  3  </td></tr>\n",
       "\t<tr><th scope=row>6862245</th><td>22500</td><td>  6  </td></tr>\n",
       "\t<tr><th scope=row>6869123</th><td>37500</td><td>  5  </td></tr>\n",
       "\t<tr><th scope=row>6872125</th><td>37500</td><td>  4  </td></tr>\n",
       "\t<tr><th scope=row>6872841</th><td> 7500</td><td>  3  </td></tr>\n",
       "\t<tr><th scope=row>6877668</th><td> 3500</td><td> 80  </td></tr>\n",
       "\t<tr><th scope=row>6882347</th><td>50000</td><td> 66  </td></tr>\n",
       "\t<tr><th scope=row>6882983</th><td>27500</td><td> 15  </td></tr>\n",
       "\t<tr><th scope=row>6884346</th><td>25000</td><td>  0  </td></tr>\n",
       "\t<tr><th scope=row>6886661</th><td>37500</td><td>  5  </td></tr>\n",
       "\t<tr><th scope=row>6888169</th><td>42500</td><td>  1  </td></tr>\n",
       "\t<tr><th scope=row>6896403</th><td>30000</td><td>  3  </td></tr>\n",
       "</tbody>\n",
       "</table>\n"
      ],
      "text/latex": [
       "\\begin{tabular}{r|ll}\n",
       "  & salary & score\\\\\n",
       "\\hline\n",
       "\t5203054 & 30000 &   4.0\\\\\n",
       "\t5204912 & 15000 & 176.0\\\\\n",
       "\t5269002 & 37500 &   1.0\\\\\n",
       "\t5453691 & 30000 &   4.0\\\\\n",
       "\t5519962 & 37500 &  14.0\\\\\n",
       "\t5520623 & 30000 &   6.0\\\\\n",
       "\t5559894 & 30000 &  12.0\\\\\n",
       "\t5604926 & 27500 &   6.0\\\\\n",
       "\t5683671 & 26500 &   3.0\\\\\n",
       "\t5921220 & 37500 &   4.5\\\\\n",
       "\t5927901 & 30000 &   7.0\\\\\n",
       "\t5978750 & 40000 &   4.0\\\\\n",
       "\t5990647 & 28750 &   4.5\\\\\n",
       "\t6037742 & 25000 &   4.0\\\\\n",
       "\t6046775 & 30000 &   5.0\\\\\n",
       "\t6046866 & 37500 &   3.0\\\\\n",
       "\t6067812 & 22500 &   5.0\\\\\n",
       "\t6095231 & 40000 &   2.0\\\\\n",
       "\t6116460 & 45000 &   4.0\\\\\n",
       "\t6191993 & 23750 &   4.5\\\\\n",
       "\t6228290 & 37500 &   5.0\\\\\n",
       "\t6234992 & 41250 &   6.0\\\\\n",
       "\t6242470 & 22500 &   5.0\\\\\n",
       "\t6267370 & 20000 &   7.0\\\\\n",
       "\t6284662 & 40000 &   5.0\\\\\n",
       "\t6310387 & 30000 &   3.0\\\\\n",
       "\t6339988 & 45000 &   5.0\\\\\n",
       "\t6344146 & 24000 &   5.0\\\\\n",
       "\t6456921 & 50000 &   1.0\\\\\n",
       "\t6458372 & 60000 &  24.0\\\\\n",
       "\t... & ... & ...\\\\\n",
       "\t6794326 & 24000 &   4  \\\\\n",
       "\t6802721 & 37500 & 233  \\\\\n",
       "\t6803432 & 30000 &   0  \\\\\n",
       "\t6804489 & 33750 &  16  \\\\\n",
       "\t6804629 & 30000 &  17  \\\\\n",
       "\t6813626 & 30000 &   1  \\\\\n",
       "\t6814233 & 30000 &   5  \\\\\n",
       "\t6818950 & 30000 &   1  \\\\\n",
       "\t6819289 & 30000 &   4  \\\\\n",
       "\t6820395 & 60000 &   3  \\\\\n",
       "\t6829277 & 27500 &  12  \\\\\n",
       "\t6829736 & 30000 &   4  \\\\\n",
       "\t6837340 & 30000 &   4  \\\\\n",
       "\t6841659 & 30000 &  65  \\\\\n",
       "\t6847013 & 30000 &  17  \\\\\n",
       "\t6848382 & 45000 &   4  \\\\\n",
       "\t6849100 & 35000 &   0  \\\\\n",
       "\t6850849 & 32500 &   6  \\\\\n",
       "\t6854920 & 37500 &   3  \\\\\n",
       "\t6862245 & 22500 &   6  \\\\\n",
       "\t6869123 & 37500 &   5  \\\\\n",
       "\t6872125 & 37500 &   4  \\\\\n",
       "\t6872841 &  7500 &   3  \\\\\n",
       "\t6877668 &  3500 &  80  \\\\\n",
       "\t6882347 & 50000 &  66  \\\\\n",
       "\t6882983 & 27500 &  15  \\\\\n",
       "\t6884346 & 25000 &   0  \\\\\n",
       "\t6886661 & 37500 &   5  \\\\\n",
       "\t6888169 & 42500 &   1  \\\\\n",
       "\t6896403 & 30000 &   3  \\\\\n",
       "\\end{tabular}\n"
      ],
      "text/markdown": [
       "\n",
       "| <!--/--> | salary | score | \n",
       "|---|---|---|---|---|---|---|---|---|---|---|---|---|---|---|---|---|---|---|---|---|---|---|---|---|---|---|---|---|---|---|---|---|---|---|---|---|---|---|---|---|---|---|---|---|---|---|---|---|---|---|---|---|---|---|---|---|---|---|---|---|\n",
       "| 5203054 | 30000 |   4.0 | \n",
       "| 5204912 | 15000 | 176.0 | \n",
       "| 5269002 | 37500 |   1.0 | \n",
       "| 5453691 | 30000 |   4.0 | \n",
       "| 5519962 | 37500 |  14.0 | \n",
       "| 5520623 | 30000 |   6.0 | \n",
       "| 5559894 | 30000 |  12.0 | \n",
       "| 5604926 | 27500 |   6.0 | \n",
       "| 5683671 | 26500 |   3.0 | \n",
       "| 5921220 | 37500 |   4.5 | \n",
       "| 5927901 | 30000 |   7.0 | \n",
       "| 5978750 | 40000 |   4.0 | \n",
       "| 5990647 | 28750 |   4.5 | \n",
       "| 6037742 | 25000 |   4.0 | \n",
       "| 6046775 | 30000 |   5.0 | \n",
       "| 6046866 | 37500 |   3.0 | \n",
       "| 6067812 | 22500 |   5.0 | \n",
       "| 6095231 | 40000 |   2.0 | \n",
       "| 6116460 | 45000 |   4.0 | \n",
       "| 6191993 | 23750 |   4.5 | \n",
       "| 6228290 | 37500 |   5.0 | \n",
       "| 6234992 | 41250 |   6.0 | \n",
       "| 6242470 | 22500 |   5.0 | \n",
       "| 6267370 | 20000 |   7.0 | \n",
       "| 6284662 | 40000 |   5.0 | \n",
       "| 6310387 | 30000 |   3.0 | \n",
       "| 6339988 | 45000 |   5.0 | \n",
       "| 6344146 | 24000 |   5.0 | \n",
       "| 6456921 | 50000 |   1.0 | \n",
       "| 6458372 | 60000 |  24.0 | \n",
       "| ... | ... | ... | \n",
       "| 6794326 | 24000 |   4   | \n",
       "| 6802721 | 37500 | 233   | \n",
       "| 6803432 | 30000 |   0   | \n",
       "| 6804489 | 33750 |  16   | \n",
       "| 6804629 | 30000 |  17   | \n",
       "| 6813626 | 30000 |   1   | \n",
       "| 6814233 | 30000 |   5   | \n",
       "| 6818950 | 30000 |   1   | \n",
       "| 6819289 | 30000 |   4   | \n",
       "| 6820395 | 60000 |   3   | \n",
       "| 6829277 | 27500 |  12   | \n",
       "| 6829736 | 30000 |   4   | \n",
       "| 6837340 | 30000 |   4   | \n",
       "| 6841659 | 30000 |  65   | \n",
       "| 6847013 | 30000 |  17   | \n",
       "| 6848382 | 45000 |   4   | \n",
       "| 6849100 | 35000 |   0   | \n",
       "| 6850849 | 32500 |   6   | \n",
       "| 6854920 | 37500 |   3   | \n",
       "| 6862245 | 22500 |   6   | \n",
       "| 6869123 | 37500 |   5   | \n",
       "| 6872125 | 37500 |   4   | \n",
       "| 6872841 |  7500 |   3   | \n",
       "| 6877668 |  3500 |  80   | \n",
       "| 6882347 | 50000 |  66   | \n",
       "| 6882983 | 27500 |  15   | \n",
       "| 6884346 | 25000 |   0   | \n",
       "| 6886661 | 37500 |   5   | \n",
       "| 6888169 | 42500 |   1   | \n",
       "| 6896403 | 30000 |   3   | \n",
       "\n",
       "\n"
      ],
      "text/plain": [
       "        salary score\n",
       "5203054 30000    4.0\n",
       "5204912 15000  176.0\n",
       "5269002 37500    1.0\n",
       "5453691 30000    4.0\n",
       "5519962 37500   14.0\n",
       "5520623 30000    6.0\n",
       "5559894 30000   12.0\n",
       "5604926 27500    6.0\n",
       "5683671 26500    3.0\n",
       "5921220 37500    4.5\n",
       "5927901 30000    7.0\n",
       "5978750 40000    4.0\n",
       "5990647 28750    4.5\n",
       "6037742 25000    4.0\n",
       "6046775 30000    5.0\n",
       "6046866 37500    3.0\n",
       "6067812 22500    5.0\n",
       "6095231 40000    2.0\n",
       "6116460 45000    4.0\n",
       "6191993 23750    4.5\n",
       "6228290 37500    5.0\n",
       "6234992 41250    6.0\n",
       "6242470 22500    5.0\n",
       "6267370 20000    7.0\n",
       "6284662 40000    5.0\n",
       "6310387 30000    3.0\n",
       "6339988 45000    5.0\n",
       "6344146 24000    5.0\n",
       "6456921 50000    1.0\n",
       "6458372 60000   24.0\n",
       "...     ...    ...  \n",
       "6794326 24000    4  \n",
       "6802721 37500  233  \n",
       "6803432 30000    0  \n",
       "6804489 33750   16  \n",
       "6804629 30000   17  \n",
       "6813626 30000    1  \n",
       "6814233 30000    5  \n",
       "6818950 30000    1  \n",
       "6819289 30000    4  \n",
       "6820395 60000    3  \n",
       "6829277 27500   12  \n",
       "6829736 30000    4  \n",
       "6837340 30000    4  \n",
       "6841659 30000   65  \n",
       "6847013 30000   17  \n",
       "6848382 45000    4  \n",
       "6849100 35000    0  \n",
       "6850849 32500    6  \n",
       "6854920 37500    3  \n",
       "6862245 22500    6  \n",
       "6869123 37500    5  \n",
       "6872125 37500    4  \n",
       "6872841  7500    3  \n",
       "6877668  3500   80  \n",
       "6882347 50000   66  \n",
       "6882983 27500   15  \n",
       "6884346 25000    0  \n",
       "6886661 37500    5  \n",
       "6888169 42500    1  \n",
       "6896403 30000    3  "
      ]
     },
     "metadata": {},
     "output_type": "display_data"
    }
   ],
   "source": [
    "df <- df %>%\n",
    "  group_by(positionId) %>%\n",
    "  dplyr::summarise(salary = mean(salary),\n",
    "            score = mean(score)) %>%\n",
    "  as.data.frame(.)\n",
    "rownames(df) <- NULL\n",
    "tibble::column_to_rownames(df,var='positionId')"
   ]
  },
  {
   "cell_type": "markdown",
   "metadata": {},
   "source": [
    "### 118.同时对salary、score两列进行计算"
   ]
  },
  {
   "cell_type": "code",
   "execution_count": null,
   "metadata": {
    "collapsed": false
   },
   "outputs": [],
   "source": [
    "res <- df %>%\n",
    "  select(salary,score) %>%\n",
    "  pivot_longer(c(salary,score),names_to = 'type',values_to = 'value') %>%\n",
    "  group_by(type) %>%\n",
    "  summarise(sum = sum(value),mean = mean(value),min = min(value))\n",
    "\n",
    "rownames(res) <- NULL\n",
    "\n",
    "res %>%\n",
    "  column_to_rownames('type') %>%\n",
    "  t(.)\n"
   ]
  },
  {
   "cell_type": "markdown",
   "metadata": {},
   "source": [
    "### 119.对不同列执行不同的计算\n",
    "对salary求平均，对score列求和"
   ]
  },
  {
   "cell_type": "code",
   "execution_count": 117,
   "metadata": {
    "collapsed": false
   },
   "outputs": [
    {
     "data": {
      "text/html": [
       "<table>\n",
       "<thead><tr><th scope=col>salary_sum</th><th scope=col>score_mean</th></tr></thead>\n",
       "<tbody>\n",
       "\t<tr><td>3009750 </td><td>13.42632</td></tr>\n",
       "</tbody>\n",
       "</table>\n"
      ],
      "text/latex": [
       "\\begin{tabular}{r|ll}\n",
       " salary\\_sum & score\\_mean\\\\\n",
       "\\hline\n",
       "\t 3009750  & 13.42632\\\\\n",
       "\\end{tabular}\n"
      ],
      "text/markdown": [
       "\n",
       "salary_sum | score_mean | \n",
       "|---|\n",
       "| 3009750  | 13.42632 | \n",
       "\n",
       "\n"
      ],
      "text/plain": [
       "  salary_sum score_mean\n",
       "1 3009750    13.42632  "
      ]
     },
     "metadata": {},
     "output_type": "display_data"
    }
   ],
   "source": [
    "df %>%\n",
    "  summarise(salary_sum = sum(salary),\n",
    "            score_mean = mean(score))\n"
   ]
  },
  {
   "cell_type": "markdown",
   "metadata": {},
   "source": [
    "### 120.计算并提取平均薪资最高的区"
   ]
  },
  {
   "cell_type": "code",
   "execution_count": null,
   "metadata": {
    "collapsed": false
   },
   "outputs": [],
   "source": [
    "df %>%\n",
    "  group_by(district) %>%\n",
    "  summarise(avg = mean(salary)) %>%\n",
    "  arrange(desc(avg)) %>%\n",
    "  filter(row_number() == 1)"
   ]
  }
 ],
 "metadata": {
  "kernelspec": {
   "display_name": "R",
   "language": "R",
   "name": "ir"
  },
  "language_info": {
   "codemirror_mode": "r",
   "file_extension": ".r",
   "mimetype": "text/x-r-source",
   "name": "R",
   "pygments_lexer": "r",
   "version": "3.3.3"
  }
 },
 "nbformat": 4,
 "nbformat_minor": 2
}
