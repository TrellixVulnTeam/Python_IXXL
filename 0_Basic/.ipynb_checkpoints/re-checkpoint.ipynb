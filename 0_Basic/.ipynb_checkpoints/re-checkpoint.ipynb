{
 "cells": [
  {
   "cell_type": "code",
   "execution_count": null,
   "metadata": {},
   "outputs": [],
   "source": [
    "Regular Expression"
   ]
  },
  {
   "cell_type": "markdown",
   "metadata": {},
   "source": [
    "有些時候可能要找含有某些特定pattern的內容, 如電話, email, url, 特定的tag(h4)等等..., 這時候如果會用regular expression就可以比較有效率的取出需要的資訊"
   ]
  },
  {
   "cell_type": "markdown",
   "metadata": {},
   "source": [
    "一些常見的pattern:\n",
    "* URL: http(s)?://[a-zA-Z0-9./_]+\n",
    "* Email: [a-zA-Z0-9._+]+@[a-zA-Z0-9._]+.(com|org|edu|gov|net)\n",
    "* 所有的中文字(不包含標點符號): [\\u4e00-\\u9fa5]+\n",
    "* 線上Unicode查詢: http://unicodelookup.com\n",
    "* 自己google別人寫好的"
   ]
  },
  {
   "cell_type": "markdown",
   "metadata": {},
   "source": [
    "# 認識「正規表達式」\n",
    "http://120.105.184.250/cswang/thit/Linux/RegularExpression.htm"
   ]
  },
  {
   "cell_type": "markdown",
   "metadata": {},
   "source": [
    "* 是一種表達〝具有某種特徵〞字串的方式，可用來完全指定需要加以處理的資料 , 避免反覆判斷找尋的困擾\n",
    "* 而且幾乎通用在任何語言裡(Javascript, php, ruby, python…)\n",
    "* 為了表達〝特徵〞需定義範本(Pattern)，範本由普通字元(ASCII)、特殊字元(Metacharacter)及數量定義詞(Quantifier)組成。"
   ]
  },
  {
   "cell_type": "markdown",
   "metadata": {},
   "source": [
    "可以到這個網站把表達式貼入查詢\n",
    "https://regex101.com/"
   ]
  },
  {
   "cell_type": "markdown",
   "metadata": {},
   "source": [
    "### 正則表達式re.compile()"
   ]
  },
  {
   "cell_type": "markdown",
   "metadata": {},
   "source": [
    "compile()的定義：<br>\n",
    "compile(pattern, flags=0) <br>\n",
    "Compile a regular expression pattern, returning a pattern object."
   ]
  },
  {
   "cell_type": "code",
   "execution_count": null,
   "metadata": {},
   "outputs": [],
   "source": [
    "從compile()函數的定義中，可以看出返回的是一個匹配對象，它單獨使用就沒有任何意義，需要和findall(), search(), match(）搭配使用。"
   ]
  },
  {
   "cell_type": "code",
   "execution_count": null,
   "metadata": {},
   "outputs": [],
   "source": [
    "compile()與findall()一起使用，返回一個列表。"
   ]
  },
  {
   "cell_type": "code",
   "execution_count": 2,
   "metadata": {
    "scrolled": true
   },
   "outputs": [
    {
     "name": "stdout",
     "output_type": "stream",
     "text": [
      "['Hello', 'from', 'Chongqing', 'montain', 'to', 'you']\n"
     ]
    }
   ],
   "source": [
    "import re\n",
    "\n",
    "\n",
    "def main():\n",
    "    content = 'Hello, I am Jerry, from Chongqing, a montain city, nice to meet you……'\n",
    "    regex = re.compile('\\w*o\\w*')\n",
    "    x = regex.findall(content)\n",
    "    print(x)\n",
    "\n",
    "\n",
    "if __name__ == '__main__':\n",
    "    main()"
   ]
  },
  {
   "cell_type": "markdown",
   "metadata": {},
   "source": [
    "compile()與match()一起使用，可返回一個class、str、tuple。但是一定需要注意match()，從位置0開始匹配，匹配不到會返回None，返回None的時候就沒有span/group屬性了，並且與group使用，返回一個單詞‘Hello’後匹配就會結束"
   ]
  },
  {
   "cell_type": "code",
   "execution_count": 4,
   "metadata": {},
   "outputs": [
    {
     "name": "stdout",
     "output_type": "stream",
     "text": [
      "<re.Match object; span=(0, 5), match='Hello'>\n",
      "<class 're.Match'>\n",
      "Hello\n",
      "(0, 5)\n"
     ]
    }
   ],
   "source": [
    "import re\n",
    "\n",
    "\n",
    "def main():\n",
    "    content = 'Hello, I am Jerry, from Chongqing, a montain city, nice to meet you……'\n",
    "    regex = re.compile('\\w*o\\w*')\n",
    "    y = regex.match(content)\n",
    "    print(y)\n",
    "    print(type(y))\n",
    "    print(y.group())\n",
    "    print(y.span())\n",
    "\n",
    "\n",
    "if __name__ == '__main__':\n",
    "    main()"
   ]
  },
  {
   "cell_type": "markdown",
   "metadata": {},
   "source": [
    "compile()與search()搭配使用, 返回的類型與match()差不多， 但是不同的是search(), 可以不從位置0開始匹配。但是匹配一個單詞之後，匹配和match()一樣，匹配就會結束。"
   ]
  },
  {
   "cell_type": "code",
   "execution_count": 5,
   "metadata": {},
   "outputs": [
    {
     "name": "stdout",
     "output_type": "stream",
     "text": [
      "<re.Match object; span=(0, 5), match='Hello'>\n",
      "<class 're.Match'>\n",
      "Hello\n",
      "(0, 5)\n"
     ]
    }
   ],
   "source": [
    "import re\n",
    "\n",
    "\n",
    "def main():\n",
    "    content = 'Hello, I am Jerry, from Chongqing, a montain city, nice to meet you……'\n",
    "    regex = re.compile('\\w*o\\w*')\n",
    "    z = regex.search(content)\n",
    "    print(z)\n",
    "    print(type(z))\n",
    "    print(z.group())\n",
    "    print(z.span())\n",
    "\n",
    "\n",
    "if __name__ == '__main__':\n",
    "    main()"
   ]
  },
  {
   "cell_type": "code",
   "execution_count": 3,
   "metadata": {},
   "outputs": [
    {
     "name": "stdout",
     "output_type": "stream",
     "text": [
      "Python教學文章\n",
      "開發環境設定\n",
      "Mac使用者\n",
      "資料科學\n",
      "給初學者的 Python 網頁爬蟲與資料分析\n",
      "資料科學\n",
      "給初學者的 Python 網頁爬蟲與資料分析\n",
      "資料科學\n",
      "給初學者的 Python 網頁爬蟲與資料分析\n",
      "資料科學\n",
      "給初學者的 Python 網頁爬蟲與資料分析\n",
      "資料科學\n",
      "給初學者的 Python 網頁爬蟲與資料分析\n",
      "\n",
      "Find all .png img source:\n",
      "static/python-for-beginners.png\n",
      "static/python_crawler.png\n",
      "static/python_crawler.png\n",
      "static/python_crawler.png\n",
      "static/python_crawler.png\n",
      "static/python_crawler.png\n",
      "\n",
      "Find all .png img sources that contain \"beginner\" in file name:\n",
      "static/python-for-beginners.png\n",
      "\n",
      "To count the blog number:\n",
      "Blog count: 6\n",
      "\n",
      "To find how many image sources contains the word \"crawler\"\n",
      "static/python_crawler.png\n",
      "static/python_crawler.png\n",
      "static/python_crawler.png\n",
      "static/python_crawler.png\n",
      "static/python_crawler.png\n"
     ]
    }
   ],
   "source": [
    "import requests\n",
    "import re\n",
    "from bs4 import BeautifulSoup\n",
    "\n",
    "\n",
    "def main():\n",
    "    url = 'http://blog.castman.net/web-crawler-tutorial/ch2/blog/blog.html'\n",
    "    resp = requests.get(url)\n",
    "    soup = BeautifulSoup(resp.text, 'html.parser')\n",
    "    find_text_content_by_reg(soup, 'h[1-6]')\n",
    "\n",
    "    # [a-zA-Z0-9]+ -> means that we hope the result string is composed by character a~z, A~Z and 0~9,\n",
    "    # and the string length should ≥ 1 (which represented by \"+\").\n",
    "\n",
    "    # http(s)?://[a-zA-Z0-9\\./_]+ -> means hyper link.\n",
    "\n",
    "    # [\\u4e00-\\u9fa5]+ -> means all the chinese words in unicode format.\n",
    "\n",
    "    print('\\nFind all .png img source:')\n",
    "    # To find png type image source by reg.\n",
    "    # $ means the tail, the end of the string.\n",
    "    # \\. means \".\", the \\ is for escaping the special characters.\n",
    "    png_source_pattern = '\\.png$'\n",
    "    find_img_source_by_reg(soup, png_source_pattern)\n",
    "\n",
    "    # To find png type image source which contains \"beginner\" in source name by reg.\n",
    "    # In the pattern, the \".\" after beginner means any words,\n",
    "    # the * means the length is 0 or 1.\n",
    "    print('\\nFind all .png img sources that contain \\\"beginner\\\" in file name:')\n",
    "    find_img_source_by_reg(soup, 'beginner.*'+png_source_pattern)\n",
    "\n",
    "    print('\\nTo count the blog number:')\n",
    "    blog_class_pattern = 'card\\-blog$'\n",
    "    count_blog_number(soup, blog_class_pattern)\n",
    "\n",
    "    print('\\nTo find how many image sources contains the word \\\"crawler\\\"')\n",
    "    target_pattern = 'crawler.*'\n",
    "    find_img_source_by_reg(soup, target_pattern)\n",
    "\n",
    "\n",
    "# re.compile API DOC: https://docs.python.org/3/library/re.html#re.compile\n",
    "def find_text_content_by_reg(soup, reg_pattern):\n",
    "    for element in soup.find_all(re.compile(reg_pattern)):\n",
    "        print(element.text.strip())\n",
    "\n",
    "\n",
    "def find_img_source_by_reg(soup, source_type):\n",
    "    for img in soup.find_all('img', {'src': re.compile(source_type)}):\n",
    "        print(img['src'])\n",
    "\n",
    "\n",
    "def count_blog_number(soup, blog_pattern):\n",
    "    count = len(soup.find_all('div', {'class': re.compile(blog_pattern)}))\n",
    "    print('Blog count: ' + str(count))\n",
    "\n",
    "\n",
    "if __name__ == '__main__':\n",
    "    main()"
   ]
  },
  {
   "cell_type": "markdown",
   "metadata": {},
   "source": [
    "### re.sub的功能\n",
    "sub是substitute的所寫，表示替換； re.sub是個正則表達式方面的函數，用來實現通過正則表達式，實現比普通字符串的replace更加強大的替換功能"
   ]
  },
  {
   "cell_type": "code",
   "execution_count": null,
   "metadata": {},
   "outputs": [],
   "source": [
    "pattern : 正則中的模式字符串。\n",
    "repl : 替換的字符串，也可為一個函數。\n",
    "string : 要被查找替換的原始字符串。\n",
    "count : 模式匹配後替換的最大次數，默認0 表示替換所有的匹配。\n",
    "flags : 編譯時用的匹配模式，數字形式。"
   ]
  },
  {
   "cell_type": "markdown",
   "metadata": {},
   "source": [
    "#### re.sub(pattern, repl, string, count=0, flags=0)"
   ]
  },
  {
   "cell_type": "code",
   "execution_count": 23,
   "metadata": {},
   "outputs": [
    {
     "name": "stdout",
     "output_type": "stream",
     "text": [
      "phone number :  2004-959-559 \n",
      "phone number :  2004959559\n"
     ]
    }
   ],
   "source": [
    "import re\n",
    "\n",
    "phone = \"2004-959-559 # 这是一个电话号码\"\n",
    "#刪除註解\n",
    "num = re.sub(r'#.*$', \"\", phone)\n",
    "print(\"phone number : \", num)\n",
    "#移除非數字的內容\n",
    "num = re.sub(r'\\D', \"\", phone)\n",
    "print(\"phone number : \", num)"
   ]
  },
  {
   "cell_type": "code",
   "execution_count": null,
   "metadata": {},
   "outputs": [],
   "source": [
    "repl 參數是一個函數\n",
    "以下實例中將字符串中的匹配的數字乘於2："
   ]
  },
  {
   "cell_type": "code",
   "execution_count": 24,
   "metadata": {},
   "outputs": [
    {
     "data": {
      "text/plain": [
       "'A46G8HFD1134'"
      ]
     },
     "execution_count": 24,
     "metadata": {},
     "output_type": "execute_result"
    }
   ],
   "source": [
    "import re\n",
    "\n",
    "#將匹配的數字乘以 2\n",
    "def double(matched):\n",
    "    value = int(matched.group('value'))\n",
    "    return str(value * 2)\n",
    "\n",
    "s = 'A23G4HFD567'\n",
    "ss = re.sub('(?P<value>\\d+)', double, s)  #repl位置帶入公式double\n",
    "ss"
   ]
  }
 ],
 "metadata": {
  "kernelspec": {
   "display_name": "Python 3",
   "language": "python",
   "name": "python3"
  },
  "language_info": {
   "codemirror_mode": {
    "name": "ipython",
    "version": 3
   },
   "file_extension": ".py",
   "mimetype": "text/x-python",
   "name": "python",
   "nbconvert_exporter": "python",
   "pygments_lexer": "ipython3",
   "version": "3.7.1"
  }
 },
 "nbformat": 4,
 "nbformat_minor": 2
}
