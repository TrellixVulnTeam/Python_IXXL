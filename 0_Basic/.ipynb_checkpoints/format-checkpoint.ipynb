{
 "cells": [
  {
   "cell_type": "code",
   "execution_count": null,
   "metadata": {},
   "outputs": [],
   "source": [
    "x = 1234.56789"
   ]
  },
  {
   "cell_type": "code",
   "execution_count": 17,
   "metadata": {},
   "outputs": [
    {
     "data": {
      "text/plain": [
       "'1234.57'"
      ]
     },
     "execution_count": 17,
     "metadata": {},
     "output_type": "execute_result"
    }
   ],
   "source": [
    "# Two decimal places of accuracy\n",
    "format(x, '0.2f') #無空格，小數保留2位\n",
    "'1234.57'"
   ]
  },
  {
   "cell_type": "code",
   "execution_count": 22,
   "metadata": {},
   "outputs": [
    {
     "data": {
      "text/plain": [
       "'    1234.6'"
      ]
     },
     "execution_count": 22,
     "metadata": {},
     "output_type": "execute_result"
    }
   ],
   "source": [
    "# Right justified in 10 chars, one-digit accuracy\n",
    "format(x, '>10.1f') #數字輸出靠右，總計長度為10，小數保留1位\n",
    "'    1234.6'"
   ]
  },
  {
   "cell_type": "code",
   "execution_count": 21,
   "metadata": {},
   "outputs": [
    {
     "data": {
      "text/plain": [
       "'1234.6    '"
      ]
     },
     "execution_count": 21,
     "metadata": {},
     "output_type": "execute_result"
    }
   ],
   "source": [
    "# Left justified\n",
    "format(x, '<10.1f') #數字輸出靠左，總計長度為10，小數保留1位\n",
    "'1234.6    '"
   ]
  },
  {
   "cell_type": "code",
   "execution_count": 20,
   "metadata": {},
   "outputs": [
    {
     "data": {
      "text/plain": [
       "'  1234.6  '"
      ]
     },
     "execution_count": 20,
     "metadata": {},
     "output_type": "execute_result"
    }
   ],
   "source": [
    "# Centered\n",
    "format(x, '^10.1f') #數字輸出靠中，小數保留2位\n",
    "'  1234.6  '"
   ]
  },
  {
   "cell_type": "code",
   "execution_count": 19,
   "metadata": {},
   "outputs": [
    {
     "data": {
      "text/plain": [
       "'1,234.56789'"
      ]
     },
     "execution_count": 19,
     "metadata": {},
     "output_type": "execute_result"
    }
   ],
   "source": [
    "# Inclusion of thousands separator\n",
    "format(x, ',') #指定逗號位數字的千分位分隔符\n",
    "'1,234.56789'"
   ]
  },
  {
   "cell_type": "code",
   "execution_count": 18,
   "metadata": {},
   "outputs": [
    {
     "data": {
      "text/plain": [
       "'1,234.6'"
      ]
     },
     "execution_count": 18,
     "metadata": {},
     "output_type": "execute_result"
    }
   ],
   "source": [
    "format(x, '0,.1f') #無佔位輸出，用逗號作為分隔符，保留1位小數\n",
    "'1,234.6'"
   ]
  },
  {
   "cell_type": "code",
   "execution_count": 1,
   "metadata": {},
   "outputs": [
    {
     "name": "stdout",
     "output_type": "stream",
     "text": [
      "12,345,678\n"
     ]
    }
   ],
   "source": [
    "a=\"{:,}\".format(12345678) \n",
    "print(a)"
   ]
  },
  {
   "cell_type": "code",
   "execution_count": 2,
   "metadata": {},
   "outputs": [
    {
     "name": "stdout",
     "output_type": "stream",
     "text": [
      "20,003\n"
     ]
    }
   ],
   "source": [
    "import re  \n",
    "a = '20003'  \n",
    "result = re.sub(r\"(?<=\\d)(?=(?:\\d\\d\\d)+$)\", \",\", a)  \n",
    "print(result)"
   ]
  },
  {
   "cell_type": "markdown",
   "metadata": {},
   "source": [
    "# Pandas設置數字格式，整數、小數位數、百分號、千位分隔符"
   ]
  },
  {
   "cell_type": "code",
   "execution_count": 1,
   "metadata": {
    "scrolled": true
   },
   "outputs": [
    {
     "data": {
      "text/html": [
       "<div>\n",
       "<style scoped>\n",
       "    .dataframe tbody tr th:only-of-type {\n",
       "        vertical-align: middle;\n",
       "    }\n",
       "\n",
       "    .dataframe tbody tr th {\n",
       "        vertical-align: top;\n",
       "    }\n",
       "\n",
       "    .dataframe thead th {\n",
       "        text-align: right;\n",
       "    }\n",
       "</style>\n",
       "<table border=\"1\" class=\"dataframe\">\n",
       "  <thead>\n",
       "    <tr style=\"text-align: right;\">\n",
       "      <th></th>\n",
       "      <th>Order Number</th>\n",
       "      <th>Department</th>\n",
       "      <th>Continent</th>\n",
       "      <th>Country</th>\n",
       "      <th>Ship To Number</th>\n",
       "      <th>Ship_To AlphaName</th>\n",
       "      <th>Customer Number</th>\n",
       "      <th>Customer Name</th>\n",
       "      <th>LargeCat</th>\n",
       "      <th>MediumCat</th>\n",
       "      <th>...</th>\n",
       "      <th>Date G/L</th>\n",
       "      <th>Year</th>\n",
       "      <th>Month</th>\n",
       "      <th>Exchange Rate</th>\n",
       "      <th>Foreign Unit Price</th>\n",
       "      <th>Foreign Extended Price</th>\n",
       "      <th>Foreign Extended Cost</th>\n",
       "      <th>Foreign Ext# Margin</th>\n",
       "      <th>Quantity Shipped</th>\n",
       "      <th>Description</th>\n",
       "    </tr>\n",
       "  </thead>\n",
       "  <tbody>\n",
       "    <tr>\n",
       "      <th>0</th>\n",
       "      <td>19100043</td>\n",
       "      <td>SF5</td>\n",
       "      <td>非洲&amp;中東</td>\n",
       "      <td>United Arab Emirates (UAE)</td>\n",
       "      <td>100337</td>\n",
       "      <td>GENIUS COMPUTER TECHNOLOGY LTD</td>\n",
       "      <td>100337.0</td>\n",
       "      <td>GENIUS COMPUTER TECHNOLOGY LTD</td>\n",
       "      <td>Mouse</td>\n",
       "      <td>Wireless Mouse</td>\n",
       "      <td>...</td>\n",
       "      <td>2019-04-07</td>\n",
       "      <td>2019</td>\n",
       "      <td>4</td>\n",
       "      <td>30.765</td>\n",
       "      <td>4.9</td>\n",
       "      <td>490.0</td>\n",
       "      <td>366.20</td>\n",
       "      <td>123.80</td>\n",
       "      <td>100.0</td>\n",
       "      <td>OBM</td>\n",
       "    </tr>\n",
       "    <tr>\n",
       "      <th>1</th>\n",
       "      <td>19100043</td>\n",
       "      <td>SF5</td>\n",
       "      <td>非洲&amp;中東</td>\n",
       "      <td>United Arab Emirates (UAE)</td>\n",
       "      <td>100337</td>\n",
       "      <td>GENIUS COMPUTER TECHNOLOGY LTD</td>\n",
       "      <td>100337.0</td>\n",
       "      <td>GENIUS COMPUTER TECHNOLOGY LTD</td>\n",
       "      <td>Mouse</td>\n",
       "      <td>Wireless Mouse</td>\n",
       "      <td>...</td>\n",
       "      <td>2019-04-07</td>\n",
       "      <td>2019</td>\n",
       "      <td>4</td>\n",
       "      <td>30.765</td>\n",
       "      <td>4.9</td>\n",
       "      <td>490.0</td>\n",
       "      <td>366.31</td>\n",
       "      <td>123.69</td>\n",
       "      <td>100.0</td>\n",
       "      <td>OBM</td>\n",
       "    </tr>\n",
       "    <tr>\n",
       "      <th>2</th>\n",
       "      <td>19100043</td>\n",
       "      <td>SF5</td>\n",
       "      <td>非洲&amp;中東</td>\n",
       "      <td>United Arab Emirates (UAE)</td>\n",
       "      <td>100337</td>\n",
       "      <td>GENIUS COMPUTER TECHNOLOGY LTD</td>\n",
       "      <td>100337.0</td>\n",
       "      <td>GENIUS COMPUTER TECHNOLOGY LTD</td>\n",
       "      <td>Mouse</td>\n",
       "      <td>Wireless Mouse</td>\n",
       "      <td>...</td>\n",
       "      <td>2019-04-07</td>\n",
       "      <td>2019</td>\n",
       "      <td>4</td>\n",
       "      <td>30.765</td>\n",
       "      <td>4.9</td>\n",
       "      <td>490.0</td>\n",
       "      <td>366.18</td>\n",
       "      <td>123.82</td>\n",
       "      <td>100.0</td>\n",
       "      <td>OBM</td>\n",
       "    </tr>\n",
       "    <tr>\n",
       "      <th>3</th>\n",
       "      <td>19100043</td>\n",
       "      <td>SF5</td>\n",
       "      <td>非洲&amp;中東</td>\n",
       "      <td>United Arab Emirates (UAE)</td>\n",
       "      <td>100337</td>\n",
       "      <td>GENIUS COMPUTER TECHNOLOGY LTD</td>\n",
       "      <td>100337.0</td>\n",
       "      <td>GENIUS COMPUTER TECHNOLOGY LTD</td>\n",
       "      <td>Mouse</td>\n",
       "      <td>Wireless Mouse</td>\n",
       "      <td>...</td>\n",
       "      <td>2019-04-07</td>\n",
       "      <td>2019</td>\n",
       "      <td>4</td>\n",
       "      <td>30.765</td>\n",
       "      <td>3.9</td>\n",
       "      <td>19500.0</td>\n",
       "      <td>14171.00</td>\n",
       "      <td>5329.00</td>\n",
       "      <td>5000.0</td>\n",
       "      <td>OBM</td>\n",
       "    </tr>\n",
       "    <tr>\n",
       "      <th>4</th>\n",
       "      <td>19100043</td>\n",
       "      <td>SF5</td>\n",
       "      <td>非洲&amp;中東</td>\n",
       "      <td>United Arab Emirates (UAE)</td>\n",
       "      <td>100337</td>\n",
       "      <td>GENIUS COMPUTER TECHNOLOGY LTD</td>\n",
       "      <td>100337.0</td>\n",
       "      <td>GENIUS COMPUTER TECHNOLOGY LTD</td>\n",
       "      <td>Headset</td>\n",
       "      <td>Headset</td>\n",
       "      <td>...</td>\n",
       "      <td>2019-04-07</td>\n",
       "      <td>2019</td>\n",
       "      <td>4</td>\n",
       "      <td>30.765</td>\n",
       "      <td>2.1</td>\n",
       "      <td>2100.0</td>\n",
       "      <td>1470.00</td>\n",
       "      <td>630.00</td>\n",
       "      <td>1000.0</td>\n",
       "      <td>OBM</td>\n",
       "    </tr>\n",
       "    <tr>\n",
       "      <th>5</th>\n",
       "      <td>19100043</td>\n",
       "      <td>SF5</td>\n",
       "      <td>非洲&amp;中東</td>\n",
       "      <td>United Arab Emirates (UAE)</td>\n",
       "      <td>100337</td>\n",
       "      <td>GENIUS COMPUTER TECHNOLOGY LTD</td>\n",
       "      <td>100337.0</td>\n",
       "      <td>GENIUS COMPUTER TECHNOLOGY LTD</td>\n",
       "      <td>Headset</td>\n",
       "      <td>Headset</td>\n",
       "      <td>...</td>\n",
       "      <td>2019-04-07</td>\n",
       "      <td>2019</td>\n",
       "      <td>4</td>\n",
       "      <td>30.765</td>\n",
       "      <td>15.5</td>\n",
       "      <td>1550.0</td>\n",
       "      <td>647.59</td>\n",
       "      <td>902.41</td>\n",
       "      <td>100.0</td>\n",
       "      <td>OBM</td>\n",
       "    </tr>\n",
       "    <tr>\n",
       "      <th>6</th>\n",
       "      <td>19100043</td>\n",
       "      <td>SF5</td>\n",
       "      <td>非洲&amp;中東</td>\n",
       "      <td>United Arab Emirates (UAE)</td>\n",
       "      <td>100337</td>\n",
       "      <td>GENIUS COMPUTER TECHNOLOGY LTD</td>\n",
       "      <td>100337.0</td>\n",
       "      <td>GENIUS COMPUTER TECHNOLOGY LTD</td>\n",
       "      <td>Headset</td>\n",
       "      <td>Headset</td>\n",
       "      <td>...</td>\n",
       "      <td>2019-04-07</td>\n",
       "      <td>2019</td>\n",
       "      <td>4</td>\n",
       "      <td>30.765</td>\n",
       "      <td>15.5</td>\n",
       "      <td>1550.0</td>\n",
       "      <td>647.59</td>\n",
       "      <td>902.41</td>\n",
       "      <td>100.0</td>\n",
       "      <td>OBM</td>\n",
       "    </tr>\n",
       "    <tr>\n",
       "      <th>7</th>\n",
       "      <td>19100043</td>\n",
       "      <td>SF5</td>\n",
       "      <td>非洲&amp;中東</td>\n",
       "      <td>United Arab Emirates (UAE)</td>\n",
       "      <td>100337</td>\n",
       "      <td>GENIUS COMPUTER TECHNOLOGY LTD</td>\n",
       "      <td>100337.0</td>\n",
       "      <td>GENIUS COMPUTER TECHNOLOGY LTD</td>\n",
       "      <td>Speaker</td>\n",
       "      <td>2.0 Speaker</td>\n",
       "      <td>...</td>\n",
       "      <td>2019-04-07</td>\n",
       "      <td>2019</td>\n",
       "      <td>4</td>\n",
       "      <td>30.765</td>\n",
       "      <td>4.3</td>\n",
       "      <td>6020.0</td>\n",
       "      <td>3839.08</td>\n",
       "      <td>2180.92</td>\n",
       "      <td>1400.0</td>\n",
       "      <td>OBM</td>\n",
       "    </tr>\n",
       "    <tr>\n",
       "      <th>8</th>\n",
       "      <td>19100043</td>\n",
       "      <td>SF5</td>\n",
       "      <td>非洲&amp;中東</td>\n",
       "      <td>United Arab Emirates (UAE)</td>\n",
       "      <td>100337</td>\n",
       "      <td>GENIUS COMPUTER TECHNOLOGY LTD</td>\n",
       "      <td>100337.0</td>\n",
       "      <td>GENIUS COMPUTER TECHNOLOGY LTD</td>\n",
       "      <td>Speaker</td>\n",
       "      <td>2.0 Speaker</td>\n",
       "      <td>...</td>\n",
       "      <td>2019-04-07</td>\n",
       "      <td>2019</td>\n",
       "      <td>4</td>\n",
       "      <td>30.765</td>\n",
       "      <td>4.3</td>\n",
       "      <td>1720.0</td>\n",
       "      <td>1101.32</td>\n",
       "      <td>618.68</td>\n",
       "      <td>400.0</td>\n",
       "      <td>OBM</td>\n",
       "    </tr>\n",
       "    <tr>\n",
       "      <th>9</th>\n",
       "      <td>19100043</td>\n",
       "      <td>SF5</td>\n",
       "      <td>非洲&amp;中東</td>\n",
       "      <td>United Arab Emirates (UAE)</td>\n",
       "      <td>100337</td>\n",
       "      <td>GENIUS COMPUTER TECHNOLOGY LTD</td>\n",
       "      <td>100337.0</td>\n",
       "      <td>GENIUS COMPUTER TECHNOLOGY LTD</td>\n",
       "      <td>Speaker</td>\n",
       "      <td>2.0 Speaker</td>\n",
       "      <td>...</td>\n",
       "      <td>2019-04-07</td>\n",
       "      <td>2019</td>\n",
       "      <td>4</td>\n",
       "      <td>30.765</td>\n",
       "      <td>4.0</td>\n",
       "      <td>2400.0</td>\n",
       "      <td>1759.02</td>\n",
       "      <td>640.98</td>\n",
       "      <td>600.0</td>\n",
       "      <td>OBM</td>\n",
       "    </tr>\n",
       "  </tbody>\n",
       "</table>\n",
       "<p>10 rows × 28 columns</p>\n",
       "</div>"
      ],
      "text/plain": [
       "   Order Number Department Continent                     Country  \\\n",
       "0      19100043        SF5     非洲&中東  United Arab Emirates (UAE)   \n",
       "1      19100043        SF5     非洲&中東  United Arab Emirates (UAE)   \n",
       "2      19100043        SF5     非洲&中東  United Arab Emirates (UAE)   \n",
       "3      19100043        SF5     非洲&中東  United Arab Emirates (UAE)   \n",
       "4      19100043        SF5     非洲&中東  United Arab Emirates (UAE)   \n",
       "5      19100043        SF5     非洲&中東  United Arab Emirates (UAE)   \n",
       "6      19100043        SF5     非洲&中東  United Arab Emirates (UAE)   \n",
       "7      19100043        SF5     非洲&中東  United Arab Emirates (UAE)   \n",
       "8      19100043        SF5     非洲&中東  United Arab Emirates (UAE)   \n",
       "9      19100043        SF5     非洲&中東  United Arab Emirates (UAE)   \n",
       "\n",
       "   Ship To Number               Ship_To AlphaName  Customer Number  \\\n",
       "0          100337  GENIUS COMPUTER TECHNOLOGY LTD         100337.0   \n",
       "1          100337  GENIUS COMPUTER TECHNOLOGY LTD         100337.0   \n",
       "2          100337  GENIUS COMPUTER TECHNOLOGY LTD         100337.0   \n",
       "3          100337  GENIUS COMPUTER TECHNOLOGY LTD         100337.0   \n",
       "4          100337  GENIUS COMPUTER TECHNOLOGY LTD         100337.0   \n",
       "5          100337  GENIUS COMPUTER TECHNOLOGY LTD         100337.0   \n",
       "6          100337  GENIUS COMPUTER TECHNOLOGY LTD         100337.0   \n",
       "7          100337  GENIUS COMPUTER TECHNOLOGY LTD         100337.0   \n",
       "8          100337  GENIUS COMPUTER TECHNOLOGY LTD         100337.0   \n",
       "9          100337  GENIUS COMPUTER TECHNOLOGY LTD         100337.0   \n",
       "\n",
       "                    Customer Name LargeCat       MediumCat  ...   Date G/L  \\\n",
       "0  GENIUS COMPUTER TECHNOLOGY LTD    Mouse  Wireless Mouse  ... 2019-04-07   \n",
       "1  GENIUS COMPUTER TECHNOLOGY LTD    Mouse  Wireless Mouse  ... 2019-04-07   \n",
       "2  GENIUS COMPUTER TECHNOLOGY LTD    Mouse  Wireless Mouse  ... 2019-04-07   \n",
       "3  GENIUS COMPUTER TECHNOLOGY LTD    Mouse  Wireless Mouse  ... 2019-04-07   \n",
       "4  GENIUS COMPUTER TECHNOLOGY LTD  Headset         Headset  ... 2019-04-07   \n",
       "5  GENIUS COMPUTER TECHNOLOGY LTD  Headset         Headset  ... 2019-04-07   \n",
       "6  GENIUS COMPUTER TECHNOLOGY LTD  Headset         Headset  ... 2019-04-07   \n",
       "7  GENIUS COMPUTER TECHNOLOGY LTD  Speaker     2.0 Speaker  ... 2019-04-07   \n",
       "8  GENIUS COMPUTER TECHNOLOGY LTD  Speaker     2.0 Speaker  ... 2019-04-07   \n",
       "9  GENIUS COMPUTER TECHNOLOGY LTD  Speaker     2.0 Speaker  ... 2019-04-07   \n",
       "\n",
       "   Year Month Exchange Rate Foreign Unit Price Foreign Extended Price  \\\n",
       "0  2019     4        30.765                4.9                  490.0   \n",
       "1  2019     4        30.765                4.9                  490.0   \n",
       "2  2019     4        30.765                4.9                  490.0   \n",
       "3  2019     4        30.765                3.9                19500.0   \n",
       "4  2019     4        30.765                2.1                 2100.0   \n",
       "5  2019     4        30.765               15.5                 1550.0   \n",
       "6  2019     4        30.765               15.5                 1550.0   \n",
       "7  2019     4        30.765                4.3                 6020.0   \n",
       "8  2019     4        30.765                4.3                 1720.0   \n",
       "9  2019     4        30.765                4.0                 2400.0   \n",
       "\n",
       "  Foreign Extended Cost Foreign Ext# Margin Quantity Shipped  Description  \n",
       "0                366.20              123.80            100.0          OBM  \n",
       "1                366.31              123.69            100.0          OBM  \n",
       "2                366.18              123.82            100.0          OBM  \n",
       "3              14171.00             5329.00           5000.0          OBM  \n",
       "4               1470.00              630.00           1000.0          OBM  \n",
       "5                647.59              902.41            100.0          OBM  \n",
       "6                647.59              902.41            100.0          OBM  \n",
       "7               3839.08             2180.92           1400.0          OBM  \n",
       "8               1101.32              618.68            400.0          OBM  \n",
       "9               1759.02              640.98            600.0          OBM  \n",
       "\n",
       "[10 rows x 28 columns]"
      ]
     },
     "execution_count": 1,
     "metadata": {},
     "output_type": "execute_result"
    }
   ],
   "source": [
    "import pymysql\n",
    "import pandas as pd\n",
    "import numpy as np\n",
    "\n",
    "#資料載入\n",
    "conn = pymysql.connect(\"localhost\", \"root\", \"zx8212290\", \"genius_data\", charset=\"utf8\")\n",
    "sql = \"SELECT * FROM 歷史數據\"\n",
    "df = pd.read_sql(sql, conn)\n",
    "df.head(10)"
   ]
  },
  {
   "cell_type": "markdown",
   "metadata": {},
   "source": [
    "### 整數"
   ]
  },
  {
   "cell_type": "code",
   "execution_count": 2,
   "metadata": {},
   "outputs": [
    {
     "data": {
      "text/plain": [
       "0           100\n",
       "1           100\n",
       "2           100\n",
       "3          5000\n",
       "4          1000\n",
       "          ...  \n",
       "671303     5000\n",
       "671304    10216\n",
       "671305    14000\n",
       "671306    10000\n",
       "671307    10000\n",
       "Name: Quantity Shipped, Length: 671308, dtype: int32"
      ]
     },
     "execution_count": 2,
     "metadata": {},
     "output_type": "execute_result"
    }
   ],
   "source": [
    "df['Quantity Shipped'].astype(int)"
   ]
  },
  {
   "cell_type": "markdown",
   "metadata": {},
   "source": [
    "### 小數位數，四捨五入\n",
    "使用自定義函数可以做保留小數位數。<br>\n",
    "但是經過自定義函数處理過後的數據已經不再是float。如需後續計算的話需要先做變換。"
   ]
  },
  {
   "cell_type": "code",
   "execution_count": 62,
   "metadata": {},
   "outputs": [
    {
     "data": {
      "text/plain": [
       "0           100.0\n",
       "1           100.0\n",
       "2           100.0\n",
       "3          5000.0\n",
       "4          1000.0\n",
       "           ...   \n",
       "671303     5000.0\n",
       "671304    10216.0\n",
       "671305    14000.0\n",
       "671306    10000.0\n",
       "671307    10000.0\n",
       "Name: Quantity Shipped, Length: 671308, dtype: object"
      ]
     },
     "execution_count": 62,
     "metadata": {},
     "output_type": "execute_result"
    }
   ],
   "source": [
    "df['Quantity Shipped'].map(lambda x:('%.1f')%x)"
   ]
  },
  {
   "cell_type": "markdown",
   "metadata": {},
   "source": [
    "### 百分比\n",
    "這裡利用自定義函数將每個數字進行format格式處理，處理後數據從float格式轉換成了帶2位小數和百分號的對象。"
   ]
  },
  {
   "cell_type": "code",
   "execution_count": 47,
   "metadata": {},
   "outputs": [
    {
     "data": {
      "text/plain": [
       "0           10000.00%\n",
       "1           10000.00%\n",
       "2           10000.00%\n",
       "3          500000.00%\n",
       "4          100000.00%\n",
       "             ...     \n",
       "671303     500000.00%\n",
       "671304    1021600.00%\n",
       "671305    1400000.00%\n",
       "671306    1000000.00%\n",
       "671307    1000000.00%\n",
       "Name: Quantity Shipped, Length: 671308, dtype: object"
      ]
     },
     "execution_count": 47,
     "metadata": {},
     "output_type": "execute_result"
    }
   ],
   "source": [
    "df['Quantity Shipped'].map(lambda x:format(x,'.2%'))"
   ]
  },
  {
   "cell_type": "markdown",
   "metadata": {},
   "source": [
    "### 千位分隔符\n",
    "處理後依然是對象格式。設置千位分割符請小心操作，因為對電腦來說，這些已經不再是數字了，而是數字和逗號組成的字符串，要再變成數值型就麻煩了。"
   ]
  },
  {
   "cell_type": "code",
   "execution_count": 60,
   "metadata": {},
   "outputs": [
    {
     "data": {
      "text/plain": [
       "0            490.0\n",
       "1            490.0\n",
       "2            490.0\n",
       "3         19,500.0\n",
       "4          2,100.0\n",
       "            ...   \n",
       "671303    19,500.0\n",
       "671304    36,777.6\n",
       "671305    27,860.0\n",
       "671306    19,900.0\n",
       "671307    46,000.0\n",
       "Name: Foreign Extended Price, Length: 671308, dtype: object"
      ]
     },
     "execution_count": 60,
     "metadata": {},
     "output_type": "execute_result"
    }
   ],
   "source": [
    "#法一\n",
    "df['Foreign Extended Price'].map(lambda x:format(x,','))"
   ]
  },
  {
   "cell_type": "code",
   "execution_count": 72,
   "metadata": {},
   "outputs": [
    {
     "data": {
      "text/plain": [
       "0            490.0\n",
       "1            490.0\n",
       "2            490.0\n",
       "3         19,500.0\n",
       "4          2,100.0\n",
       "            ...   \n",
       "671303    19,500.0\n",
       "671304    36,777.6\n",
       "671305    27,860.0\n",
       "671306    19,900.0\n",
       "671307    46,000.0\n",
       "Name: Foreign Extended Price, Length: 671308, dtype: object"
      ]
     },
     "execution_count": 72,
     "metadata": {},
     "output_type": "execute_result"
    }
   ],
   "source": [
    "#法二\n",
    "df['Foreign Extended Price'].apply(\"{:,}\".format)"
   ]
  },
  {
   "cell_type": "markdown",
   "metadata": {},
   "source": [
    "### 整數&千分位"
   ]
  },
  {
   "cell_type": "code",
   "execution_count": 6,
   "metadata": {},
   "outputs": [
    {
     "data": {
      "text/plain": [
       "0            100\n",
       "1            100\n",
       "2            100\n",
       "3          5,000\n",
       "4          1,000\n",
       "           ...  \n",
       "671303     5,000\n",
       "671304    10,216\n",
       "671305    14,000\n",
       "671306    10,000\n",
       "671307    10,000\n",
       "Name: Quantity Shipped, Length: 671308, dtype: object"
      ]
     },
     "execution_count": 6,
     "metadata": {},
     "output_type": "execute_result"
    }
   ],
   "source": [
    "df['Quantity Shipped'].astype(int).map(lambda x:format(x,','))\n",
    "#df['Quantity Shipped'].astype(int).apply(\"{:,}\".format)\n",
    "#但type還是object，所以不能用來計算和做圖"
   ]
  },
  {
   "cell_type": "code",
   "execution_count": null,
   "metadata": {},
   "outputs": [],
   "source": []
  }
 ],
 "metadata": {
  "kernelspec": {
   "display_name": "Python 3",
   "language": "python",
   "name": "python3"
  },
  "language_info": {
   "codemirror_mode": {
    "name": "ipython",
    "version": 3
   },
   "file_extension": ".py",
   "mimetype": "text/x-python",
   "name": "python",
   "nbconvert_exporter": "python",
   "pygments_lexer": "ipython3",
   "version": "3.7.1"
  }
 },
 "nbformat": 4,
 "nbformat_minor": 2
}
