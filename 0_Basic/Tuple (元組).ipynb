{
 "cells": [
  {
   "cell_type": "code",
   "execution_count": null,
   "metadata": {},
   "outputs": [],
   "source": [
    "#Tuple類似於List的兄弟，比較大差別在於Tuple是宣告後不能修改、不能刪除。列表使用 []，而元組使用 ()\n",
    "#由於tuple的元素不可修改，結構簡單，因此此資料型態的大小比list來得小\n",
    "#所以在使用時，像是月份、星期等，或是不可修改的資料把其存成tuple資料型態，\n",
    "#可以避免不小心更改到元素值，同時也可以增加執行效能~~"
   ]
  }
 ],
 "metadata": {
  "kernelspec": {
   "display_name": "Python 3",
   "language": "python",
   "name": "python3"
  },
  "language_info": {
   "codemirror_mode": {
    "name": "ipython",
    "version": 3
   },
   "file_extension": ".py",
   "mimetype": "text/x-python",
   "name": "python",
   "nbconvert_exporter": "python",
   "pygments_lexer": "ipython3",
   "version": "3.7.1"
  }
 },
 "nbformat": 4,
 "nbformat_minor": 2
}
