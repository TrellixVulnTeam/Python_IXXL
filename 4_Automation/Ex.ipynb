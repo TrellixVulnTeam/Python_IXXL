{
 "cells": [
  {
   "cell_type": "code",
   "execution_count": null,
   "metadata": {},
   "outputs": [],
   "source": [
    "在正式開始使用 Python 程式來操作 Excel 試算表前我們先來了解 Excel 常見名詞。\n",
    "試算表文件稱作活頁簿（workbook），而活頁簿我們會存在 .xlsx 的副檔名檔案中（若是比較舊版的 Excel 有可能會有其他 .xls 等檔名）。\n",
    "在每個活頁簿可以有多個工作表（worksheet），一般就是我們工作填寫資料的區域，多個資料表使用 tab 來進行區隔，\n",
    "正在使用的資料表（active worksheet）稱為使用中工作表。\n",
    "每個工作表中直的是欄（column）從和橫的是列（row）。\n",
    "在指定的欄和列的區域是儲存格（cell），也就是我們輸入資料的地方。一格格儲存格的網格和內含的資料就組成一份工作表。"
   ]
  },
  {
   "cell_type": "code",
   "execution_count": null,
   "metadata": {},
   "outputs": [],
   "source": [
    "讀取 Excel 檔案"
   ]
  },
  {
   "cell_type": "code",
   "execution_count": null,
   "metadata": {},
   "outputs": [],
   "source": [
    "1. 使用 Openpyxl 開啟 Excel 檔案（可以從這邊下載範例 Excel 資料檔案），\n",
    "下載後檔名改為 sample.xlsx，並放到和 jupyter Notebook 同樣位置的資料夾下："
   ]
  },
  {
   "cell_type": "code",
   "execution_count": null,
   "metadata": {},
   "outputs": [],
   "source": [
    " from openpyxl import load_workbook\n",
    "\n",
    " wb = load_workbook('sample.xlsx')\n",
    " print(wb.sheetnames)"
   ]
  },
  {
   "cell_type": "code",
   "execution_count": null,
   "metadata": {},
   "outputs": [],
   "source": [
    "執行後可以讀取活頁簿物件（類似讀取檔案）並印出這個範例檔案的工作表名稱："
   ]
  },
  {
   "cell_type": "code",
   "execution_count": null,
   "metadata": {},
   "outputs": [],
   "source": [
    "['Sheet1']"
   ]
  },
  {
   "cell_type": "code",
   "execution_count": null,
   "metadata": {},
   "outputs": [],
   "source": [
    "2. 從工作表中取得儲存格（取得 A1 儲存格資料）"
   ]
  },
  {
   "cell_type": "code",
   "execution_count": null,
   "metadata": {},
   "outputs": [],
   "source": [
    "ws['A1'].value"
   ]
  },
  {
   "cell_type": "code",
   "execution_count": null,
   "metadata": {},
   "outputs": [],
   "source": [
    "3. 從工作表中取得欄和列"
   ]
  },
  {
   "cell_type": "code",
   "execution_count": null,
   "metadata": {},
   "outputs": [],
   "source": [
    "#列出每一欄的值\n",
    " for row in ws.rows:\n",
    "     for cell in row:\n",
    "         print(cell.value)"
   ]
  },
  {
   "cell_type": "code",
   "execution_count": null,
   "metadata": {},
   "outputs": [],
   "source": [
    "# 列出每一列的值\n",
    " for column in ws.columns:\n",
    "     for cell in column:\n",
    "         print(cell.value)"
   ]
  },
  {
   "cell_type": "code",
   "execution_count": null,
   "metadata": {},
   "outputs": [],
   "source": [
    "寫入 Excel 檔案"
   ]
  },
  {
   "cell_type": "code",
   "execution_count": null,
   "metadata": {},
   "outputs": [],
   "source": [
    "1. 創建並儲存 Excel 檔案"
   ]
  },
  {
   "cell_type": "code",
   "execution_count": null,
   "metadata": {},
   "outputs": [],
   "source": [
    " from openpyxl import Workbook\n",
    "\n",
    " # 創建一個空白活頁簿物件\n",
    " wb = Workbook()"
   ]
  },
  {
   "cell_type": "code",
   "execution_count": null,
   "metadata": {},
   "outputs": [],
   "source": [
    "2. 建立工作表"
   ]
  },
  {
   "cell_type": "code",
   "execution_count": null,
   "metadata": {},
   "outputs": [],
   "source": [
    " # 選取正在工作中的表單\n",
    " ws = wb.active"
   ]
  },
  {
   "cell_type": "code",
   "execution_count": null,
   "metadata": {},
   "outputs": [],
   "source": [
    "3. 將值寫入儲存格內"
   ]
  },
  {
   "cell_type": "code",
   "execution_count": null,
   "metadata": {},
   "outputs": [],
   "source": [
    " # 指定值給 A1 儲存格\n",
    " ws['A1'] = '我是儲存格'\n",
    "\n",
    " # 向下新增一列並連續插入值\n",
    " ws.append([1, 2, 3])\n",
    " ws.append([3, 2, 1])"
   ]
  },
  {
   "cell_type": "code",
   "execution_count": null,
   "metadata": {},
   "outputs": [],
   "source": [
    "4. 儲存檔案"
   ]
  },
  {
   "cell_type": "code",
   "execution_count": null,
   "metadata": {},
   "outputs": [],
   "source": [
    " # 儲存成 create_sample.xlsx 檔案\n",
    " wb.save('create_sample.xlsx')"
   ]
  },
  {
   "cell_type": "code",
   "execution_count": null,
   "metadata": {},
   "outputs": [],
   "source": []
  },
  {
   "cell_type": "code",
   "execution_count": null,
   "metadata": {},
   "outputs": [],
   "source": []
  }
 ],
 "metadata": {
  "kernelspec": {
   "display_name": "Python 3",
   "language": "python",
   "name": "python3"
  },
  "language_info": {
   "codemirror_mode": {
    "name": "ipython",
    "version": 3
   },
   "file_extension": ".py",
   "mimetype": "text/x-python",
   "name": "python",
   "nbconvert_exporter": "python",
   "pygments_lexer": "ipython3",
   "version": "3.7.1"
  }
 },
 "nbformat": 4,
 "nbformat_minor": 2
}
