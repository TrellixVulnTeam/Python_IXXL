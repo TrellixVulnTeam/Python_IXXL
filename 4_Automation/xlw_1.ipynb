{
 "cells": [
  {
   "cell_type": "code",
   "execution_count": 27,
   "metadata": {},
   "outputs": [
    {
     "data": {
      "text/plain": [
       "<Book [Book1]>"
      ]
     },
     "execution_count": 27,
     "metadata": {},
     "output_type": "execute_result"
    }
   ],
   "source": [
    "app = xw.App(10559)  # or something like xw.apps[10559] for existing apps, get the available PIDs via xw.apps.keys()\n",
    "app.books['Book1']"
   ]
  },
  {
   "cell_type": "code",
   "execution_count": 184,
   "metadata": {},
   "outputs": [],
   "source": [
    "import xlwings as xw\n",
    "\n",
    "#開啟現有活頁簿\n",
    "wb = xw.Book(r'C:\\Users\\11004076\\Documents\\Python Scripts\\4_Automation\\Book1.xlsx')\n",
    "\n",
    "#Excel索引行為(1起始)，標上''內的部分為Excel直觀法\n",
    "sht = wb.sheets['Sheet1']\n",
    "    #單格\n",
    "sht.cells(2,'A').value = 'f'\n",
    "sht.cells(5,1).value = 5  #(5,1)沒錯\n",
    "sht.range('C2').value = 'He'\n",
    "sht.range(10,1).value = 8\n",
    "\n",
    "    #範圍\n",
    "sht.range('A17:C20').value = 8\n",
    "sht.range((22,1), (23,3)).value = 9\n",
    "sht.range(sht.range('A17'), sht.range('C20')).value = 9\n",
    "sht.range('O:P').value = 0\n",
    "sht.range('17:20').value = 1\n",
    "\n",
    "\n",
    "#Python索引行為(0起始)，標上''內的部分為Excel直觀法\n",
    "sht3 = wb.sheets['Sheet3']\n",
    "\n",
    "    #單格\n",
    "sht3['A2'].value = 'A2'\n",
    "sht3[5, 1].value = 5  #為(6,2)\n",
    "\n",
    "    #範圍\n",
    "sht3['C1:D5'].value = 15\n",
    "sht3['C:D'].value = 'CD'\n",
    "sht3[12:13, :10].value = 0\n",
    "sht3[1:3, :].value = 3\n",
    "sht3[8:10, 8:10].value = 'X'"
   ]
  },
  {
   "cell_type": "code",
   "execution_count": null,
   "metadata": {},
   "outputs": [],
   "source": []
  },
  {
   "cell_type": "code",
   "execution_count": 121,
   "metadata": {},
   "outputs": [
    {
     "data": {
      "text/plain": [
       "[[1.0, 1.0, 2.0],\n",
       " ['f', None, 'He'],\n",
       " [2.0, None, None],\n",
       " [datetime.datetime(2000, 1, 1, 0, 0), None, None],\n",
       " [5.0, None, None],\n",
       " [1.0, 2.0, 3.0]]"
      ]
     },
     "execution_count": 121,
     "metadata": {},
     "output_type": "execute_result"
    }
   ],
   "source": [
    "rng1 =sht.range('A1').options(expand='table').value\n",
    "rng1"
   ]
  },
  {
   "cell_type": "code",
   "execution_count": 122,
   "metadata": {},
   "outputs": [
    {
     "data": {
      "text/html": [
       "<div>\n",
       "<style scoped>\n",
       "    .dataframe tbody tr th:only-of-type {\n",
       "        vertical-align: middle;\n",
       "    }\n",
       "\n",
       "    .dataframe tbody tr th {\n",
       "        vertical-align: top;\n",
       "    }\n",
       "\n",
       "    .dataframe thead th {\n",
       "        text-align: right;\n",
       "    }\n",
       "</style>\n",
       "<table border=\"1\" class=\"dataframe\">\n",
       "  <thead>\n",
       "    <tr style=\"text-align: right;\">\n",
       "      <th></th>\n",
       "      <th>0</th>\n",
       "      <th>1</th>\n",
       "      <th>2</th>\n",
       "    </tr>\n",
       "  </thead>\n",
       "  <tbody>\n",
       "    <tr>\n",
       "      <th>0</th>\n",
       "      <td>1</td>\n",
       "      <td>1.0</td>\n",
       "      <td>2</td>\n",
       "    </tr>\n",
       "    <tr>\n",
       "      <th>1</th>\n",
       "      <td>f</td>\n",
       "      <td>NaN</td>\n",
       "      <td>He</td>\n",
       "    </tr>\n",
       "    <tr>\n",
       "      <th>2</th>\n",
       "      <td>2</td>\n",
       "      <td>NaN</td>\n",
       "      <td>None</td>\n",
       "    </tr>\n",
       "    <tr>\n",
       "      <th>3</th>\n",
       "      <td>2000-01-01 00:00:00</td>\n",
       "      <td>NaN</td>\n",
       "      <td>None</td>\n",
       "    </tr>\n",
       "    <tr>\n",
       "      <th>4</th>\n",
       "      <td>5</td>\n",
       "      <td>NaN</td>\n",
       "      <td>None</td>\n",
       "    </tr>\n",
       "    <tr>\n",
       "      <th>5</th>\n",
       "      <td>1</td>\n",
       "      <td>2.0</td>\n",
       "      <td>3</td>\n",
       "    </tr>\n",
       "  </tbody>\n",
       "</table>\n",
       "</div>"
      ],
      "text/plain": [
       "                     0    1     2\n",
       "0                    1  1.0     2\n",
       "1                    f  NaN    He\n",
       "2                    2  NaN  None\n",
       "3  2000-01-01 00:00:00  NaN  None\n",
       "4                    5  NaN  None\n",
       "5                    1  2.0     3"
      ]
     },
     "execution_count": 122,
     "metadata": {},
     "output_type": "execute_result"
    }
   ],
   "source": [
    "#轉換成DataFrame顯示\n",
    "import pandas as pd\n",
    "df_rng1 = pd.DataFrame(rng1)\n",
    "df_rng1"
   ]
  },
  {
   "cell_type": "code",
   "execution_count": 189,
   "metadata": {},
   "outputs": [],
   "source": [
    "#格式化條件\n",
    "sht.range('A17:A20').color = (255, 0, 0)\n",
    "sht.range('B17:B20').color = (0, 255, 0)\n",
    "sht.range('C17:C20').color = (0, 0, 255)"
   ]
  },
  {
   "cell_type": "code",
   "execution_count": null,
   "metadata": {},
   "outputs": [],
   "source": []
  }
 ],
 "metadata": {
  "kernelspec": {
   "display_name": "Python 3",
   "language": "python",
   "name": "python3"
  },
  "language_info": {
   "codemirror_mode": {
    "name": "ipython",
    "version": 3
   },
   "file_extension": ".py",
   "mimetype": "text/x-python",
   "name": "python",
   "nbconvert_exporter": "python",
   "pygments_lexer": "ipython3",
   "version": "3.7.1"
  }
 },
 "nbformat": 4,
 "nbformat_minor": 2
}
