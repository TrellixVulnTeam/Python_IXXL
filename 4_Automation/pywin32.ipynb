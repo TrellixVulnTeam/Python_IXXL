{
 "cells": [
  {
   "cell_type": "code",
   "execution_count": null,
   "metadata": {},
   "outputs": [],
   "source": [
    "https://officeguide.cc/python-control-excel-using-pywin32-tutorial/"
   ]
  },
  {
   "cell_type": "code",
   "execution_count": null,
   "metadata": {},
   "outputs": [],
   "source": [
    "如果想在 Windows 中使用 Python 程式操控 Excel，可以使用 pywin32 這個 Python 模組，使用前先依照步驟安裝 pywin32 模組。\n",
    "win32模塊不僅可以操作Excel，還可以操作其他一眾windows的軟件。"
   ]
  },
  {
   "cell_type": "code",
   "execution_count": null,
   "metadata": {},
   "outputs": [],
   "source": [
    "# 新增 Excel 檔案\n",
    "以下這個範例是使用 Python 操控 Excel，新增一個 Excel 活頁簿，並將資料寫入工作表，最後存檔離開。"
   ]
  },
  {
   "cell_type": "code",
   "execution_count": 25,
   "metadata": {},
   "outputs": [],
   "source": [
    "import win32com.client\n",
    "\n",
    "# 取得 Excel COMObject\n",
    "excel = win32com.client.Dispatch('Excel.Application')\n",
    "\n",
    "# 顯示視窗\n",
    "excel.Visible = True\n",
    "\n",
    "# 新增新的活頁簿\n",
    "newBook = excel.Workbooks.Add()\n",
    "\n",
    "# 取得目前的工作表\n",
    "sheet = newBook.ActiveSheet\n",
    "\n",
    "# 寫入資料\n",
    "sheet.Cells(1, 1).Value = \"Hello!\"\n",
    "sheet.Cells(1, 2).Value = \"Excel.\""
   ]
  },
  {
   "cell_type": "code",
   "execution_count": 10,
   "metadata": {},
   "outputs": [],
   "source": [
    "# 儲存檔案\n",
    "newBook.SaveAs(r'C:\\Users\\11004076\\Documents\\Python Scripts\\4_Automation\\demo2.xlsx')\n",
    "\n",
    "# 關閉活頁簿\n",
    "newBook.Close()\n",
    "\n",
    "# 離開 Excel\n",
    "excel.Application.Quit()"
   ]
  },
  {
   "cell_type": "code",
   "execution_count": null,
   "metadata": {},
   "outputs": [],
   "source": [
    "# 編輯 Excel 檔案\n",
    "以下是使用 Python 開啟上一個範例產生的 Excel 檔案，更改內容、文字顏色、字體的範例："
   ]
  },
  {
   "cell_type": "code",
   "execution_count": 19,
   "metadata": {},
   "outputs": [],
   "source": [
    "import win32com.client\n",
    "\n",
    "# 取得 Excel COMObject\n",
    "excel = win32com.client.Dispatch('Excel.Application')\n",
    "\n",
    "# 顯示視窗\n",
    "excel.Visible = True\n",
    "\n",
    "# 開啟現有 Excel\n",
    "myBook = excel.Workbooks.Open(r'C:\\Users\\11004076\\Documents\\Python Scripts\\4_Automation\\demo2.xlsx')\n",
    "\n",
    "# 取得指定的工作表（可用索引或名稱）\n",
    "sheet = myBook.Worksheets(1)\n",
    "#sheet = myBook.Worksheets(\"我的工作表\")\n",
    "\n",
    "# 讀取資料\n",
    "content = sheet.Cells(1, 1).Value\n",
    "#print(content)\n",
    "\n",
    "# 寫入資料\n",
    "sheet.Cells(2, 1).Value = \"Edit by Python.\"\n",
    "\n",
    "# 將文字設定為綠色\n",
    "sheet.Cells(2, 1).Font.Color = 0x00FF00\n",
    "\n",
    "# 將文字設定為粗體\n",
    "sheet.Cells(2, 1).Font.Bold = True\n",
    "\n",
    "# 設定文字字型\n",
    "sheet.Cells(2, 1).Font.Name = \"微軟正黑體\""
   ]
  },
  {
   "cell_type": "code",
   "execution_count": null,
   "metadata": {},
   "outputs": [],
   "source": [
    "# 儲存檔案\n",
    "myBook.SaveAs(r'C:\\Users\\11004076\\Documents\\Python Scripts\\4_Automation\\demo2.xlsx')\n",
    "\n",
    "# 關閉活頁簿\n",
    "myBook.Close()\n",
    "\n",
    "# 離開 Excel\n",
    "excel.Application.Quit()"
   ]
  },
  {
   "cell_type": "code",
   "execution_count": null,
   "metadata": {},
   "outputs": [],
   "source": [
    "Open Excel, Add a Workbook"
   ]
  },
  {
   "cell_type": "code",
   "execution_count": null,
   "metadata": {},
   "outputs": [],
   "source": [
    "import win32com.client as win32\n",
    "excel = win32.gencache.EnsureDispatch('Excel.Application')  # 取得 Excel COMObject\n",
    "excel.Visible = True  # 顯示視窗\n",
    "wb = excel.Workbooks.Add()  # 新增新的活頁簿\n",
    "wb.SaveAs('c:\\\\tmp\\\\add_a_workbook.xlsx')  # 儲存檔案\n",
    "newBook.Close()   # 關閉活頁簿\n",
    "excel.Application.Quit()  # 離開 Excel"
   ]
  },
  {
   "cell_type": "code",
   "execution_count": null,
   "metadata": {},
   "outputs": [],
   "source": [
    "Open an Existing Workbook"
   ]
  },
  {
   "cell_type": "code",
   "execution_count": 31,
   "metadata": {},
   "outputs": [],
   "source": [
    "import win32com.client as win32\n",
    "excel = win32.gencache.EnsureDispatch('Excel.Application')\n",
    "excel.Visible = True\n",
    "wb = excel.Workbooks.Open(r'C:\\Users\\11004076\\Documents\\Python Scripts\\4_Automation\\20200324-進銷存-SF4_Vietnam_Silicom.xlsx')  #開啟現有活頁簿\n"
   ]
  },
  {
   "cell_type": "code",
   "execution_count": null,
   "metadata": {},
   "outputs": [],
   "source": [
    "Add a Worksheet"
   ]
  },
  {
   "cell_type": "code",
   "execution_count": 36,
   "metadata": {},
   "outputs": [],
   "source": [
    "import win32com.client as win32\n",
    "excel = win32.gencache.EnsureDispatch('Excel.Application')\n",
    "excel.Visible = True\n",
    "wb = excel.Workbooks.Open(r'C:\\Users\\11004076\\Documents\\Python Scripts\\4_Automation\\demo2.xlsx')\n",
    "ws = wb.Worksheets.Add()\n",
    "ws.Name = \"新表\"\n",
    "wb.SaveAs(r'C:\\Users\\11004076\\Documents\\Python Scripts\\4_Automation\\demo2.xlsx')\n",
    "excel.Application.Quit()"
   ]
  },
  {
   "cell_type": "code",
   "execution_count": null,
   "metadata": {},
   "outputs": [],
   "source": [
    "Cell operations \n",
    "\n",
    "Ranges and Offsets"
   ]
  },
  {
   "cell_type": "code",
   "execution_count": 27,
   "metadata": {},
   "outputs": [],
   "source": [
    "import win32com.client as win32\n",
    "excel = win32.gencache.EnsureDispatch('Excel.Application')\n",
    "excel.Visible = True\n",
    "wb = excel.Workbooks.Add()\n",
    "ws = wb.Worksheets.Add()\n",
    "ws.Name = \"MyNewSheet\"\n",
    "ws.Cells(1,1).Value = \"Cell A1\"\n",
    "ws.Cells(1,1).Offset(2,4).Value = \"Cell D2\"\n",
    "ws.Range(\"A2\").Value = \"Cell A2\"\n",
    "ws.Range(\"A3:B4\").Value = \"A3:B4\"\n",
    "ws.Range(\"A6:B7,A9:B10\").Value = \"A6:B7,A9:B10\"\n",
    "#wb.SaveAs('ranges_and_offsets.xlsx')\n",
    "#excel.Application.Quit()"
   ]
  },
  {
   "cell_type": "code",
   "execution_count": null,
   "metadata": {},
   "outputs": [],
   "source": [
    "Autofill Cell Contents"
   ]
  },
  {
   "cell_type": "code",
   "execution_count": 28,
   "metadata": {},
   "outputs": [
    {
     "data": {
      "text/plain": [
       "True"
      ]
     },
     "execution_count": 28,
     "metadata": {},
     "output_type": "execute_result"
    }
   ],
   "source": [
    "import win32com.client as win32\n",
    "excel = win32.gencache.EnsureDispatch('Excel.Application')\n",
    "excel.Visible = True\n",
    "wb = excel.Workbooks.Add()\n",
    "ws = wb.Worksheets.Add()\n",
    "ws.Name = \"MyNewSheet\"\n",
    "ws.Range(\"A1\").Value = 1\n",
    "ws.Range(\"A2\").Value = 2\n",
    "ws.Range(\"A1:A2\").AutoFill(ws.Range(\"A1:A10\"),win32.constants.xlFillDefault)\n",
    "#wb.SaveAs('autofill_cells.xlsx')\n",
    "#excel.Application.Quit()"
   ]
  },
  {
   "cell_type": "code",
   "execution_count": null,
   "metadata": {},
   "outputs": [],
   "source": [
    "Cell Color"
   ]
  },
  {
   "cell_type": "code",
   "execution_count": 30,
   "metadata": {},
   "outputs": [],
   "source": [
    "import win32com.client as win32\n",
    "excel = win32.gencache.EnsureDispatch('Excel.Application')\n",
    "excel.Visible = True\n",
    "wb = excel.Workbooks.Add()\n",
    "ws = wb.Worksheets.Add()\n",
    "ws.Name = \"MyNewSheet\"\n",
    "for i in range (1,21):\n",
    "    ws.Cells(i,1).Value = i\n",
    "    ws.Cells(i,1).Interior.ColorIndex = i\n",
    "#wb.SaveAs('cell_color.xlsx')\n",
    "#excel.Application.Quit()"
   ]
  },
  {
   "cell_type": "code",
   "execution_count": null,
   "metadata": {},
   "outputs": [],
   "source": [
    "Column Formatting"
   ]
  },
  {
   "cell_type": "code",
   "execution_count": 37,
   "metadata": {},
   "outputs": [],
   "source": [
    "import win32com.client as win32\n",
    "excel = win32.gencache.EnsureDispatch('Excel.Application')\n",
    "excel.Visible = True\n",
    "wb = excel.Workbooks.Add()\n",
    "ws = wb.Worksheets.Add()\n",
    "ws.Name = \"MyNewSheet\"\n",
    "ws.Range(\"A1:A10\").Value = \"A\"\n",
    "ws.Range(\"B1:B10\").Value = \"This is a very long line of text\"\n",
    "ws.Columns(1).ColumnWidth = 1\n",
    "ws.Range(\"B:B\").ColumnWidth = 27\n",
    "#wb.SaveAs('column_widths.xlsx')\n",
    "#excel.Application.Quit()"
   ]
  },
  {
   "cell_type": "code",
   "execution_count": null,
   "metadata": {},
   "outputs": [],
   "source": [
    "Format Worksheet Cells"
   ]
  },
  {
   "cell_type": "code",
   "execution_count": 38,
   "metadata": {},
   "outputs": [
    {
     "data": {
      "text/plain": [
       "True"
      ]
     },
     "execution_count": 38,
     "metadata": {},
     "output_type": "execute_result"
    }
   ],
   "source": [
    "import win32com.client as win32\n",
    "excel = win32.gencache.EnsureDispatch('Excel.Application')\n",
    "excel.Visible = True\n",
    "wb = excel.Workbooks.Add()\n",
    "ws = wb.Worksheets.Add()\n",
    "ws.Name = \"MyNewSheet\"\n",
    "\n",
    "#enumerate是內建函數，將其組成一個索引序列，利用它可以同時獲得索引和值\n",
    "for i,font in enumerate([\"Arial\",\"Courier New\",\"Garamond\",\"Georgia\",\"Verdana\"]):\n",
    "    ws.Range(ws.Cells(i+1,1),ws.Cells(i+1,2)).Value = [font,i+i] #在(1,1)和(1,2)代入第一個font=\"Arial\",0....以此類推\n",
    "    ws.Range(ws.Cells(i+1,1),ws.Cells(i+1,2)).Font.Name = font  #\n",
    "    ws.Range(ws.Cells(i+1,1),ws.Cells(i+1,2)).Font.Size = 12+i  #字型大小+1\n",
    "\n",
    "ws.Range(\"A1:A5\").HorizontalAlignment = win32.constants.xlRight  #水平對齊+靠右對齊\n",
    "ws.Range(\"B1:B5\").NumberFormat = \"$###,##0.00\"\n",
    "ws.Columns.AutoFit()  #自動調整欄寬\n",
    "#wb.SaveAs('format_cells.xlsx')\n",
    "#excel.Application.Quit()"
   ]
  },
  {
   "cell_type": "code",
   "execution_count": null,
   "metadata": {},
   "outputs": [],
   "source": [
    "Setting Row Height"
   ]
  },
  {
   "cell_type": "code",
   "execution_count": 40,
   "metadata": {},
   "outputs": [],
   "source": [
    "import win32com.client as win32\n",
    "excel = win32.gencache.EnsureDispatch('Excel.Application')\n",
    "excel.Visible = True\n",
    "wb = excel.Workbooks.Add()\n",
    "ws = wb.Worksheets.Add()\n",
    "ws.Name = \"MyNewSheet\"\n",
    "\n",
    "ws.Range(\"A1:A2\").Value = \"1 line\"\n",
    "ws.Range(\"B1:B2\").Value = \"Two\\nlines\"   #(\\)為換行\n",
    "ws.Range(\"C1:C2\").Value = \"Three\\nlines\\nhere\"\n",
    "ws.Range(\"D1:D2\").Value = \"This\\nis\\nfour\\nlines\"\n",
    "ws.Rows(1).RowHeight = 60\n",
    "ws.Range(\"2:2\").RowHeight = 120\n",
    "ws.Rows(1).VerticalAlignment = win32.constants.xlCenter  #垂直對齊\n",
    "ws.Range(\"2:2\").VerticalAlignment = win32.constants.xlCenter  #垂直對齊\n",
    "\n",
    "# Alternately, you can autofit all rows in the worksheet\n",
    "# ws.Rows.AutoFit()\n",
    "\n",
    "#wb.SaveAs('row_height.xlsx')\n",
    "#excel.Application.Quit()"
   ]
  },
  {
   "cell_type": "code",
   "execution_count": 44,
   "metadata": {},
   "outputs": [],
   "source": [
    "import win32com\n",
    "from win32com.client import Dispatch, constants\n",
    "w = win32com.client.Dispatch('Word.Application')\n",
    "w.Visible = True"
   ]
  },
  {
   "cell_type": "code",
   "execution_count": 46,
   "metadata": {},
   "outputs": [
    {
     "ename": "com_error",
     "evalue": "(-2147221005, '無效的類別字串', None, None)",
     "output_type": "error",
     "traceback": [
      "\u001b[1;31m---------------------------------------------------------------------------\u001b[0m",
      "\u001b[1;31mcom_error\u001b[0m                                 Traceback (most recent call last)",
      "\u001b[1;32m~\\Anaconda3\\lib\\site-packages\\win32com\\client\\dynamic.py\u001b[0m in \u001b[0;36m_GetGoodDispatch\u001b[1;34m(IDispatch, clsctx)\u001b[0m\n\u001b[0;32m     88\u001b[0m                 \u001b[1;32mtry\u001b[0m\u001b[1;33m:\u001b[0m\u001b[1;33m\u001b[0m\u001b[1;33m\u001b[0m\u001b[0m\n\u001b[1;32m---> 89\u001b[1;33m                         \u001b[0mIDispatch\u001b[0m \u001b[1;33m=\u001b[0m \u001b[0mpythoncom\u001b[0m\u001b[1;33m.\u001b[0m\u001b[0mconnect\u001b[0m\u001b[1;33m(\u001b[0m\u001b[0mIDispatch\u001b[0m\u001b[1;33m)\u001b[0m\u001b[1;33m\u001b[0m\u001b[1;33m\u001b[0m\u001b[0m\n\u001b[0m\u001b[0;32m     90\u001b[0m                 \u001b[1;32mexcept\u001b[0m \u001b[0mpythoncom\u001b[0m\u001b[1;33m.\u001b[0m\u001b[0mole_error\u001b[0m\u001b[1;33m:\u001b[0m\u001b[1;33m\u001b[0m\u001b[1;33m\u001b[0m\u001b[0m\n",
      "\u001b[1;31mcom_error\u001b[0m: (-2147221005, '無效的類別字串', None, None)",
      "\nDuring handling of the above exception, another exception occurred:\n",
      "\u001b[1;31mcom_error\u001b[0m                                 Traceback (most recent call last)",
      "\u001b[1;32m<ipython-input-46-5871af3ce0a3>\u001b[0m in \u001b[0;36m<module>\u001b[1;34m\u001b[0m\n\u001b[0;32m      7\u001b[0m \u001b[0mw\u001b[0m \u001b[1;33m=\u001b[0m \u001b[0mwin32com\u001b[0m\u001b[1;33m.\u001b[0m\u001b[0mclient\u001b[0m\u001b[1;33m.\u001b[0m\u001b[0mDispatch\u001b[0m\u001b[1;33m(\u001b[0m\u001b[1;34m\"Outlook.Application\"\u001b[0m\u001b[1;33m)\u001b[0m\u001b[1;33m\u001b[0m\u001b[1;33m\u001b[0m\u001b[0m\n\u001b[0;32m      8\u001b[0m \u001b[0mw\u001b[0m \u001b[1;33m=\u001b[0m \u001b[0mwin32com\u001b[0m\u001b[1;33m.\u001b[0m\u001b[0mclient\u001b[0m\u001b[1;33m.\u001b[0m\u001b[0mDispatch\u001b[0m\u001b[1;33m(\u001b[0m\u001b[1;34m\"InternetExplorer.Application\"\u001b[0m\u001b[1;33m)\u001b[0m\u001b[1;33m\u001b[0m\u001b[1;33m\u001b[0m\u001b[0m\n\u001b[1;32m----> 9\u001b[1;33m \u001b[0mw\u001b[0m \u001b[1;33m=\u001b[0m \u001b[0mwin32com\u001b[0m\u001b[1;33m.\u001b[0m\u001b[0mclient\u001b[0m\u001b[1;33m.\u001b[0m\u001b[0mDispatch\u001b[0m\u001b[1;33m(\u001b[0m\u001b[1;34m\"PythonDemos.Utilities\"\u001b[0m\u001b[1;33m)\u001b[0m\u001b[1;33m\u001b[0m\u001b[1;33m\u001b[0m\u001b[0m\n\u001b[0m\u001b[0;32m     10\u001b[0m \u001b[0mw\u001b[0m \u001b[1;33m=\u001b[0m \u001b[0mwin32com\u001b[0m\u001b[1;33m.\u001b[0m\u001b[0mclient\u001b[0m\u001b[1;33m.\u001b[0m\u001b[0mDispatch\u001b[0m\u001b[1;33m(\u001b[0m\u001b[1;34m\"ctypes.SumObject\"\u001b[0m\u001b[1;33m)\u001b[0m\u001b[1;33m\u001b[0m\u001b[1;33m\u001b[0m\u001b[0m\n\u001b[0;32m     11\u001b[0m \u001b[0mw\u001b[0m\u001b[1;33m.\u001b[0m\u001b[0mVisible\u001b[0m \u001b[1;33m=\u001b[0m \u001b[1;32mTrue\u001b[0m\u001b[1;33m\u001b[0m\u001b[1;33m\u001b[0m\u001b[0m\n",
      "\u001b[1;32m~\\Anaconda3\\lib\\site-packages\\win32com\\client\\__init__.py\u001b[0m in \u001b[0;36mDispatch\u001b[1;34m(dispatch, userName, resultCLSID, typeinfo, UnicodeToString, clsctx)\u001b[0m\n\u001b[0;32m     93\u001b[0m   \"\"\"\n\u001b[0;32m     94\u001b[0m   \u001b[1;32massert\u001b[0m \u001b[0mUnicodeToString\u001b[0m \u001b[1;32mis\u001b[0m \u001b[1;32mNone\u001b[0m\u001b[1;33m,\u001b[0m \u001b[1;34m\"this is deprecated and will go away\"\u001b[0m\u001b[1;33m\u001b[0m\u001b[1;33m\u001b[0m\u001b[0m\n\u001b[1;32m---> 95\u001b[1;33m   \u001b[0mdispatch\u001b[0m\u001b[1;33m,\u001b[0m \u001b[0muserName\u001b[0m \u001b[1;33m=\u001b[0m \u001b[0mdynamic\u001b[0m\u001b[1;33m.\u001b[0m\u001b[0m_GetGoodDispatchAndUserName\u001b[0m\u001b[1;33m(\u001b[0m\u001b[0mdispatch\u001b[0m\u001b[1;33m,\u001b[0m\u001b[0muserName\u001b[0m\u001b[1;33m,\u001b[0m\u001b[0mclsctx\u001b[0m\u001b[1;33m)\u001b[0m\u001b[1;33m\u001b[0m\u001b[1;33m\u001b[0m\u001b[0m\n\u001b[0m\u001b[0;32m     96\u001b[0m   \u001b[1;32mreturn\u001b[0m \u001b[0m__WrapDispatch\u001b[0m\u001b[1;33m(\u001b[0m\u001b[0mdispatch\u001b[0m\u001b[1;33m,\u001b[0m \u001b[0muserName\u001b[0m\u001b[1;33m,\u001b[0m \u001b[0mresultCLSID\u001b[0m\u001b[1;33m,\u001b[0m \u001b[0mtypeinfo\u001b[0m\u001b[1;33m,\u001b[0m \u001b[0mclsctx\u001b[0m\u001b[1;33m=\u001b[0m\u001b[0mclsctx\u001b[0m\u001b[1;33m)\u001b[0m\u001b[1;33m\u001b[0m\u001b[1;33m\u001b[0m\u001b[0m\n\u001b[0;32m     97\u001b[0m \u001b[1;33m\u001b[0m\u001b[0m\n",
      "\u001b[1;32m~\\Anaconda3\\lib\\site-packages\\win32com\\client\\dynamic.py\u001b[0m in \u001b[0;36m_GetGoodDispatchAndUserName\u001b[1;34m(IDispatch, userName, clsctx)\u001b[0m\n\u001b[0;32m    112\u001b[0m         \u001b[1;32melse\u001b[0m\u001b[1;33m:\u001b[0m\u001b[1;33m\u001b[0m\u001b[1;33m\u001b[0m\u001b[0m\n\u001b[0;32m    113\u001b[0m                 \u001b[0muserName\u001b[0m \u001b[1;33m=\u001b[0m \u001b[0mstr\u001b[0m\u001b[1;33m(\u001b[0m\u001b[0muserName\u001b[0m\u001b[1;33m)\u001b[0m\u001b[1;33m\u001b[0m\u001b[1;33m\u001b[0m\u001b[0m\n\u001b[1;32m--> 114\u001b[1;33m         \u001b[1;32mreturn\u001b[0m \u001b[1;33m(\u001b[0m\u001b[0m_GetGoodDispatch\u001b[0m\u001b[1;33m(\u001b[0m\u001b[0mIDispatch\u001b[0m\u001b[1;33m,\u001b[0m \u001b[0mclsctx\u001b[0m\u001b[1;33m)\u001b[0m\u001b[1;33m,\u001b[0m \u001b[0muserName\u001b[0m\u001b[1;33m)\u001b[0m\u001b[1;33m\u001b[0m\u001b[1;33m\u001b[0m\u001b[0m\n\u001b[0m\u001b[0;32m    115\u001b[0m \u001b[1;33m\u001b[0m\u001b[0m\n\u001b[0;32m    116\u001b[0m \u001b[1;32mdef\u001b[0m \u001b[0m_GetDescInvokeType\u001b[0m\u001b[1;33m(\u001b[0m\u001b[0mentry\u001b[0m\u001b[1;33m,\u001b[0m \u001b[0minvoke_type\u001b[0m\u001b[1;33m)\u001b[0m\u001b[1;33m:\u001b[0m\u001b[1;33m\u001b[0m\u001b[1;33m\u001b[0m\u001b[0m\n",
      "\u001b[1;32m~\\Anaconda3\\lib\\site-packages\\win32com\\client\\dynamic.py\u001b[0m in \u001b[0;36m_GetGoodDispatch\u001b[1;34m(IDispatch, clsctx)\u001b[0m\n\u001b[0;32m     89\u001b[0m                         \u001b[0mIDispatch\u001b[0m \u001b[1;33m=\u001b[0m \u001b[0mpythoncom\u001b[0m\u001b[1;33m.\u001b[0m\u001b[0mconnect\u001b[0m\u001b[1;33m(\u001b[0m\u001b[0mIDispatch\u001b[0m\u001b[1;33m)\u001b[0m\u001b[1;33m\u001b[0m\u001b[1;33m\u001b[0m\u001b[0m\n\u001b[0;32m     90\u001b[0m                 \u001b[1;32mexcept\u001b[0m \u001b[0mpythoncom\u001b[0m\u001b[1;33m.\u001b[0m\u001b[0mole_error\u001b[0m\u001b[1;33m:\u001b[0m\u001b[1;33m\u001b[0m\u001b[1;33m\u001b[0m\u001b[0m\n\u001b[1;32m---> 91\u001b[1;33m                         \u001b[0mIDispatch\u001b[0m \u001b[1;33m=\u001b[0m \u001b[0mpythoncom\u001b[0m\u001b[1;33m.\u001b[0m\u001b[0mCoCreateInstance\u001b[0m\u001b[1;33m(\u001b[0m\u001b[0mIDispatch\u001b[0m\u001b[1;33m,\u001b[0m \u001b[1;32mNone\u001b[0m\u001b[1;33m,\u001b[0m \u001b[0mclsctx\u001b[0m\u001b[1;33m,\u001b[0m \u001b[0mpythoncom\u001b[0m\u001b[1;33m.\u001b[0m\u001b[0mIID_IDispatch\u001b[0m\u001b[1;33m)\u001b[0m\u001b[1;33m\u001b[0m\u001b[1;33m\u001b[0m\u001b[0m\n\u001b[0m\u001b[0;32m     92\u001b[0m         \u001b[1;32melse\u001b[0m\u001b[1;33m:\u001b[0m\u001b[1;33m\u001b[0m\u001b[1;33m\u001b[0m\u001b[0m\n\u001b[0;32m     93\u001b[0m                 \u001b[1;31m# may already be a wrapped class.\u001b[0m\u001b[1;33m\u001b[0m\u001b[1;33m\u001b[0m\u001b[1;33m\u001b[0m\u001b[0m\n",
      "\u001b[1;31mcom_error\u001b[0m: (-2147221005, '無效的類別字串', None, None)"
     ]
    }
   ],
   "source": [
    "import win32com\n",
    "from win32com.client import Dispatch, constants\n",
    "#wps、et、wpp對應的是金山檔案、表格和演示  \n",
    "#word、excel、powerpoint對應的是微軟的文字、表格和演示 \n",
    "w = win32com.client.Dispatch('Word.Application')\n",
    "w = win32com.client.Dispatch('Excel.Application')\n",
    "w = win32com.client.Dispatch(\"Outlook.Application\")\n",
    "w = win32com.client.Dispatch(\"InternetExplorer.Application\") \n",
    "w = win32com.client.Dispatch(\"PythonDemos.Utilities\")\n",
    "w = win32com.client.Dispatch(\"ctypes.SumObject\")\n",
    "w.Visible = True\n",
    "# 或者使用下面的方法，使用啟動獨立的程序：\n",
    "# w = win32com.client.DispatchEx('Word.Application')\n",
    "\n",
    "# 後臺執行，不顯示，不警告\n",
    "w.Visible = 0\n",
    "w.DisplayAlerts = 0\n",
    "\n",
    "# 開啟新的檔案\n",
    "doc = w.Documents.Open( FileName = filenamein )\n",
    "# worddoc = w.Documents.Add() # 建立新的文件\n",
    "\n",
    "# 插入文字\n",
    "myRange = doc.Range(0,0)\n",
    "myRange.InsertBefore('Hello from Python!')\n",
    "\n",
    "# 使用樣式\n",
    "wordSel = myRange.Select()\n",
    "wordSel.Style = constants.wdStyleHeading1\n",
    "\n",
    "# 正文文字替換\n",
    "w.Selection.Find.ClearFormatting()\n",
    "w.Selection.Find.Replacement.ClearFormatting()\n",
    "w.Selection.Find.Execute(OldStr, False, False, False, False, False, True, 1, True, NewStr, 2)\n",
    "\n",
    "# 頁首文字替換\n",
    "w.ActiveDocument.Sections[0].Headers[0].Range.Find.ClearFormatting()\n",
    "w.ActiveDocument.Sections[0].Headers[0].Range.Find.Replacement.ClearFormatting()\n",
    "w.ActiveDocument.Sections[0].Headers[0].Range.Find.Execute(OldStr, False, False, False, False, False, True, 1, False, NewStr, 2)\n",
    "\n",
    "# 表格操作\n",
    "doc.Tables[0].Rows[0].Cells[0].Range.Text ='123123'\n",
    "worddoc.Tables[0].Rows.Add() # 增加一行\n",
    "\n",
    "# 轉換為html\n",
    "wc = win32com.client.constants\n",
    "w.ActiveDocument.WebOptions.RelyOnCSS = 1\n",
    "w.ActiveDocument.WebOptions.OptimizeForBrowser = 1\n",
    "w.ActiveDocument.WebOptions.BrowserLevel = 0 # constants.wdBrowserLevelV4\n",
    "w.ActiveDocument.WebOptions.OrganizeInFolder = 0\n",
    "w.ActiveDocument.WebOptions.UseLongFileNames = 1\n",
    "w.ActiveDocument.WebOptions.RelyOnVML = 0\n",
    "w.ActiveDocument.WebOptions.AllowPNG = 1\n",
    "w.ActiveDocument.SaveAs( FileName = filenameout, FileFormat = wc.wdFormatHTML )\n",
    "\n",
    "# 列印\n",
    "doc.PrintOut()\n",
    "\n",
    "# 關閉\n",
    "# doc.Close()\n",
    "w.Documents.Close(wc.wdDoNotSaveChanges)\n",
    "w.Quit()"
   ]
  },
  {
   "cell_type": "code",
   "execution_count": 67,
   "metadata": {
    "scrolled": true
   },
   "outputs": [
    {
     "data": {
      "text/plain": [
       "<enumerate at 0x5af2ee8>"
      ]
     },
     "execution_count": 67,
     "metadata": {},
     "output_type": "execute_result"
    }
   ],
   "source": []
  },
  {
   "cell_type": "code",
   "execution_count": null,
   "metadata": {},
   "outputs": [],
   "source": [
    "操控記事本\n",
    "這是一個開啟 Windows 記事本，並輸入文字的 Python 指令稿範例。"
   ]
  },
  {
   "cell_type": "code",
   "execution_count": 47,
   "metadata": {},
   "outputs": [],
   "source": [
    "import win32gui, win32con, win32api\n",
    "import time\n",
    "\n",
    "# 開啟記事本\n",
    "win32api.ShellExecute(0,\"open\",\"notepad.exe\",\"\",\"\",1)\n",
    "\n",
    "# 等待記事本視窗開啟\n",
    "time.sleep(1)\n",
    "\n",
    "# 尋找記事本視窗\n",
    "notepad = win32gui.FindWindow(\"Notepad\", None)\n",
    "\n",
    "# 若為非 0 的值，代表有找到視窗\n",
    "if (notepad != 0):\n",
    "\n",
    "    # 設定記事本標題\n",
    "    win32gui.SendMessage(notepad, win32con.WM_SETTEXT, None, \"Hello\")\n",
    "\n",
    "    # 尋找輸入文字的地方\n",
    "    edit = win32gui.FindWindowEx(notepad, None, \"Edit\", None)\n",
    "\n",
    "    # 輸入文字\n",
    "    win32gui.SendMessage(edit, win32con.WM_SETTEXT, None, \"您好！Python\\n\")"
   ]
  },
  {
   "cell_type": "code",
   "execution_count": null,
   "metadata": {},
   "outputs": [],
   "source": []
  },
  {
   "cell_type": "code",
   "execution_count": null,
   "metadata": {},
   "outputs": [],
   "source": [
    "用pywin32實現windows模擬滑鼠及鍵盤動作"
   ]
  },
  {
   "cell_type": "code",
   "execution_count": null,
   "metadata": {},
   "outputs": [],
   "source": [
    "import os\n",
    "import time\n",
    "import win32gui\n",
    "import win32api\n",
    "import win32con\n",
    "from PIL import ImageGrab\n",
    "\n",
    "#os.startfile(“D:\\\\artcut6\\\\Prog\\\\Artcut6.exe”)\n",
    "#time.sleep(1)\n",
    "\n",
    "wdname1=u\"文泰刻繪2009[] – [無標題-1]\"\n",
    "w1hd=win32gui.FindWindow(0,wdname1)\n",
    "print w1hd\n",
    "w2hd=win32gui.FindWindowEx(w1hd,None,None,None)\n",
    "print w2hd\n",
    "\n",
    "def aotohelper_wt(i):\n",
    " #獲取視窗焦點\n",
    " win32gui.SetForegroundWindow(w2hd)\n",
    " #快捷鍵Alt F\n",
    " win32api.keybd_event(18,0,0,0)      # Alt\n",
    " win32api.keybd_event(70,0,0,0)      # F\n",
    " win32api.keybd_event(70,0,win32con.KEYEVENTF_KEYUP,0)  #釋放按鍵\n",
    " win32api.keybd_event(18,0,win32con.KEYEVENTF_KEYUP,0)\n",
    "\n",
    " #快捷鍵I\n",
    " win32api.keybd_event(73,0,0,0)     # I\n",
    " win32api.keybd_event(73,0,win32con.KEYEVENTF_KEYUP,0)\n",
    "\n",
    " time.sleep(0.2)\n",
    " wdname3=u\"開啟\"\n",
    " w3hd=win32gui.FindWindow(None,wdname3)  #”開啟“ 視窗控制代碼\n",
    " #print w3hd\n",
    "\n",
    " #win32gui.MoveWindow(w3hd, 50, 50, 300, 200, True)\n",
    " if i<=9:\n",
    "  msg=\"YC-00\" str(i)\n",
    " elif 10<=i<=99:\n",
    "  msg=\"YC-0\" str(i)\n",
    " else:\n",
    "  msg=\"YC-\" str(i)\n",
    " edithd=win32gui.FindWindowEx(w3hd,None,”Edit”,None)\n",
    " win32api.SendMessage(edithd,win32con.WM_SETTEXT,None,msg)\n",
    " time.sleep(0.1)\n",
    " #btnhd=win32gui.FindWindowEx(w3hd,None,”BUTTON”,None)\n",
    " #print btnhd\n",
    " #模擬快捷鍵Alt O\n",
    " win32api.keybd_event(18,0,0,0)      # Alt\n",
    " win32api.keybd_event(79,0,0,0)     # O\n",
    " win32api.keybd_event(79,0,win32con.KEYEVENTF_KEYUP,0)  #釋放按鍵\n",
    " win32api.keybd_event(18,0,win32con.KEYEVENTF_KEYUP,0)\n",
    " time.sleep(0.1)\n",
    " #模擬滑鼠操作\n",
    " win32api.SetCursorPos([30,150])    #為滑鼠焦點設定一個位置\n",
    " win32api.mouse_event(win32con.MOUSEEVENTF_LEFTDOWN,0,0,0,0)\n",
    " win32api.SetCursorPos([500,500])\n",
    " win32api.mouse_event(win32con.MOUSEEVENTF_LEFTUP,0,0,0,0)\n",
    " time.sleep(0.1)\n",
    " #模擬快捷鍵F7(極限觀察)\n",
    " win32api.keybd_event(118,0,0,0)     # F7\n",
    " win32api.keybd_event(118,0,win32con.KEYEVENTF_KEYUP,0)  #釋放按鍵\n",
    " time.sleep(0.2)\n",
    " #利用PIL截圖\n",
    " path=\"C:\\\\Users\\\\LY\\\\Desktop\\\\pic\\\\\"\n",
    " filename=\"YC-” str(i)\".jpg”\n",
    " im=ImageGrab.grab()\n",
    " im.save(path filename)\n",
    "\n",
    " #模擬快捷鍵F8(回到原頁面大小)\n",
    " win32api.keybd_event(119,0,0,0)     # F8\n",
    " win32api.keybd_event(119,0,win32con.KEYEVENTF_KEYUP,0)  #釋放按鍵\n",
    "\n",
    " #模擬鍵盤事件delete\n",
    " win32api.keybd_event(46,0,0,0)     # Delete\n",
    " win32api.keybd_event(46,0,win32con.KEYEVENTF_KEYUP,0)  #釋放按鍵\n",
    " time.sleep(1)\n",
    "\n",
    "for i in range(2,85):\n",
    " aotohelper_wt(i)\n",
    " print i\n",
    "print(\"work done!\")"
   ]
  }
 ],
 "metadata": {
  "kernelspec": {
   "display_name": "Python 3",
   "language": "python",
   "name": "python3"
  },
  "language_info": {
   "codemirror_mode": {
    "name": "ipython",
    "version": 3
   },
   "file_extension": ".py",
   "mimetype": "text/x-python",
   "name": "python",
   "nbconvert_exporter": "python",
   "pygments_lexer": "ipython3",
   "version": "3.7.1"
  }
 },
 "nbformat": 4,
 "nbformat_minor": 2
}
