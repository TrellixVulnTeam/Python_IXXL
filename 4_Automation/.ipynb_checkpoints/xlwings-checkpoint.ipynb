{
 "cells": [
  {
   "cell_type": "code",
   "execution_count": null,
   "metadata": {},
   "outputs": [],
   "source": [
    "https://docs.xlwings.org/en/stable/syntax_overview.html\n",
    "https://medium.com/pyradise/%E7%95%B6%E5%A4%A7%E8%9F%92%E8%9B%87%E8%AA%9E%E8%A8%80%E9%81%87%E4%B8%8A%E8%80%81%E7%89%8C%E8%A9%A6%E7%AE%97%E8%A1%A8%E8%BB%9F%E9%AB%94-2-2e1e825b31fe"
   ]
  },
  {
   "cell_type": "code",
   "execution_count": null,
   "metadata": {},
   "outputs": [],
   "source": [
    "# openpyxl 的侷限\n",
    "就是無法寫入資料到一個正在被其他應用程式開啟的 Excel 檔。\n",
    "而用 VBA 語言為 Excel 寫程式的最大好處，就是程式執行完的結果會馬上呈現在 Excel 試算表上，這種方式會大幅增加開發者的效率。\n",
    "從這點來看，Python 若不能夠做到讓開發者有同樣的開發流程，只靠 openpyxl 套件現有的功能，要完全取代 VBA 語言的功能是很困難的。"
   ]
  },
  {
   "cell_type": "code",
   "execution_count": null,
   "metadata": {},
   "outputs": [],
   "source": [
    "# xlwings 套件\n",
    "這邊就來為各位介紹 xlwings，是筆者認為目前串接 Excel 最好用的 Python 套件：\n",
    "至於這個套件為何好用？\n",
    "1. 即使我沒有關掉 Excel 檔案，透過 xlwings ，我依然可以將值寫入到 Excel，\n",
    "   這種能夠即時把程式執行的結果顯示在 Excel 試算表的功能，可以大幅的提升我們的開發效率！\n",
    "2. 同時在函數的界面上非常接近 VBA，大幅降低了從 VBA 語言切換到 Python 的開發門檻！"
   ]
  },
  {
   "cell_type": "code",
   "execution_count": null,
   "metadata": {},
   "outputs": [],
   "source": [
    "# VBA 為 Excel 寫程式所需要的知識\n",
    "當需要用 VBA 選擇單一個儲存格進行操作時，通常都是以 Cells 函數進行，舉個簡單的例子，\n",
    "今天我若想用 VBA 把 “Hello World!” 字串寫入儲存格 A1，在實作上通常是使用一個叫做 Cells 的函數："
   ]
  },
  {
   "cell_type": "code",
   "execution_count": null,
   "metadata": {},
   "outputs": [],
   "source": [
    "Sub CellsExample()\n",
    "  '用法是 Cells(row的數值, column的數值)\n",
    "  'column (欄) 一般在 Excel 的表達方式是字母，若要轉成數字，就是看該欄是從左邊數起的第幾欄\n",
    "  '例： 若我今天需要將 A1 儲存格的值設定成 \"Hello World!\"\n",
    "  Cells(1, 1).Value = \"Hello World!\"\n",
    "End Sub"
   ]
  },
  {
   "cell_type": "code",
   "execution_count": null,
   "metadata": {},
   "outputs": [],
   "source": [
    "但是我們一般在表達 Excel 的儲存格時，都是以英文字母來表示欄，所以 Cells 函數也支援以下寫法："
   ]
  },
  {
   "cell_type": "code",
   "execution_count": null,
   "metadata": {},
   "outputs": [],
   "source": [
    "Sub CellsExample()\n",
    "  '直接以字串 \"A\" 表示想選擇的欄，相對直覺狠多\n",
    "  Cells(1, \"A\").Value = \"Hello World!\"\n",
    "End Sub"
   ]
  },
  {
   "cell_type": "code",
   "execution_count": null,
   "metadata": {},
   "outputs": [],
   "source": [
    "開啟活頁簿"
   ]
  },
  {
   "cell_type": "code",
   "execution_count": 8,
   "metadata": {},
   "outputs": [],
   "source": [
    "import xlwings as xw   # 匯入 xlwings 套件\n",
    "\n",
    "#開新的活頁簿\n",
    "workbook = xw.Book()   # 讓 xlwings動態開啟一個新的Excel檔案，並將該檔案存入 workbook 變數\n",
    "workbook = xw.books.add()  #法二\n",
    "\n",
    "#開啟未儲存活頁簿\n",
    "xw.Book('Book')\n",
    "xw.books['Book1']   #法二\n",
    "\n",
    "#開啟現有活頁簿\n",
    "#在Windows上指定文件路徑時，您應該在字符串的r前面使用原始字符串，或者使用雙反斜杠，例如：C:\\\\path\\\\to\\\\file.xlsx。\n",
    "xw.Book(r'C:\\path\\to\\file.xlsx')   \n",
    "xw.books.open(r'C:\\path\\to\\file.xlsx')   #法二"
   ]
  },
  {
   "cell_type": "code",
   "execution_count": null,
   "metadata": {},
   "outputs": [],
   "source": [
    "索引順序的不同\n",
    "(圓括號)遵循Excel的行為 : 從1開始的索引  *range('A1')為excel行為，只能用(圓括號)\n",
    "[方括號]遵循Python的行為 :從0開始的索引/切片。"
   ]
  },
  {
   "cell_type": "code",
   "execution_count": 54,
   "metadata": {},
   "outputs": [
    {
     "name": "stdout",
     "output_type": "stream",
     "text": [
      "<Range [Book3]Sheet1!$A$1>\n",
      "<Range [Book3]Sheet1!$A$1>\n"
     ]
    }
   ],
   "source": [
    "print(xw.books[1].sheets[0].range('A1'))\n",
    "print(xw.books(2).sheets(1).range('A1'))"
   ]
  },
  {
   "cell_type": "code",
   "execution_count": null,
   "metadata": {},
   "outputs": [],
   "source": [
    "選取儲存格"
   ]
  },
  {
   "cell_type": "code",
   "execution_count": 40,
   "metadata": {},
   "outputs": [
    {
     "name": "stdout",
     "output_type": "stream",
     "text": [
      "<Range [Book3]Sheet1!$A$1>\n",
      "<Range [Book3]Sheet1!$A$1:$C$3>\n",
      "<Range [Book3]Sheet1!$A$1>\n",
      "<Range [Book3]Sheet1!$A$1:$C$3>\n",
      "<Range [Book3]Sheet1!$A$1:$B$2>\n"
     ]
    }
   ],
   "source": [
    "#未指定路徑的話，開啟的為現在開啟的活頁簿和Sheet\n",
    "print(xw.Range('A1')               )  #mac不支援英文寫法，只能用數字\n",
    "print(xw.Range('A1:C3')            )\n",
    "print(xw.Range((1,1))              )  #mac僅能用此方法\n",
    "print(xw.Range((1,1), (3,3))       )\n",
    "print(xw.Range(xw.Range('A1'), xw.Range('B2'))       )"
   ]
  },
  {
   "cell_type": "code",
   "execution_count": null,
   "metadata": {},
   "outputs": [],
   "source": [
    "選取範圍"
   ]
  },
  {
   "cell_type": "code",
   "execution_count": null,
   "metadata": {},
   "outputs": [],
   "source": [
    "rng = xw.Book().sheets[0].range('A1:D5')\n",
    "rng[0, 0]  #<Range [Workbook1]Sheet1!$A$1>\n",
    "rng[1]  #<Range [Workbook1]Sheet1!$B$1>\n",
    "rng[:, 3:]  #<Range [Workbook1]Sheet1!$D$1:$D$5>\n",
    "rng[1:3, 1:3] #<Range [Workbook1]Sheet1!$B$2:$C$3>"
   ]
  },
  {
   "cell_type": "code",
   "execution_count": 58,
   "metadata": {},
   "outputs": [
    {
     "data": {
      "text/plain": [
       "<Range [Book6]Sheet1!$A$1:$J$10>"
      ]
     },
     "execution_count": 58,
     "metadata": {},
     "output_type": "execute_result"
    }
   ],
   "source": [
    "sht = xw.Book().sheets['Sheet1']\n",
    "sht['A1']      #<Range [Book1]Sheet1!$A$1>\n",
    "sht['A1:B5']   #<Range [Book1]Sheet1!$A$1:$B$5>\n",
    "sht[0, 1]      #<Range [Book1]Sheet1!$B$1>\n",
    "sht[:10, :10]  #<Range [Book1]Sheet1!$A$1:$J$10>"
   ]
  },
  {
   "cell_type": "code",
   "execution_count": null,
   "metadata": {},
   "outputs": [],
   "source": [
    "對象層次\n",
    "下面顯示了對象層次結構的示例，即如何從應用程序獲取到範圍對象並一直返回：\n",
    "應用程序密鑰可以通過xw.apps.keys()獲取PID列表 。"
   ]
  },
  {
   "cell_type": "code",
   "execution_count": 73,
   "metadata": {},
   "outputs": [
    {
     "data": {
      "text/plain": [
       "[7668]"
      ]
     },
     "execution_count": 73,
     "metadata": {},
     "output_type": "execute_result"
    }
   ],
   "source": [
    "xw.apps.keys()"
   ]
  },
  {
   "cell_type": "code",
   "execution_count": 68,
   "metadata": {},
   "outputs": [
    {
     "data": {
      "text/plain": [
       "<Excel App 7668>"
      ]
     },
     "execution_count": 68,
     "metadata": {},
     "output_type": "execute_result"
    }
   ],
   "source": [
    "rng = xw.apps[7668].books[0].sheets[0].range('A1')\n",
    "rng.sheet.book.app"
   ]
  },
  {
   "cell_type": "code",
   "execution_count": null,
   "metadata": {},
   "outputs": [],
   "source": [
    "# Single Cells"
   ]
  },
  {
   "cell_type": "code",
   "execution_count": null,
   "metadata": {},
   "outputs": [],
   "source": [
    "sht = xw.Book('Book3').sheets[0]\n",
    "\n",
    "sht.range('A1').value = 1\n",
    "sht.range(1,1).value = 1\n",
    "sht.cells(1,'A').value = 1\n",
    "sht.cells(1,1).value = 1\n",
    "\n",
    "sht.range('A2').value = 'Hello'\n",
    "sht.cells(2,'A').value = 'Hello'\n",
    "\n",
    "sht.range('A3').value is None\n",
    "sht.cells(3,'A').value is None\n",
    "\n",
    "import datetime as dt\n",
    "sht.range('A4').value = dt.datetime(2000, 1, 1)\n",
    "sht.cells(4,'A').value = dt.datetime(2000, 1, 1)"
   ]
  },
  {
   "cell_type": "code",
   "execution_count": null,
   "metadata": {},
   "outputs": [],
   "source": [
    "# List"
   ]
  },
  {
   "cell_type": "code",
   "execution_count": null,
   "metadata": {},
   "outputs": [],
   "source": [
    "1d列表：代表Excel中行或列的範圍將作為簡單列表返回，這意味著一旦它們在Python中，\n",
    "您就會丟失有關方向的信息。如果這是一個問題，那麼下一點將向您展示如何保存此信息："
   ]
  },
  {
   "cell_type": "code",
   "execution_count": 98,
   "metadata": {
    "scrolled": true
   },
   "outputs": [
    {
     "name": "stdout",
     "output_type": "stream",
     "text": [
      "[1.0, 2.0, 3.0, 4.0, 5.0]\n",
      "[1.0, 2.0, 3.0, 4.0, 5.0]\n"
     ]
    }
   ],
   "source": [
    "sht = xw.Book('Book3').sheets[0]\n",
    "\n",
    "sht.range('A1').value = [1, 2, 3, 4, 5]    # 行方向\n",
    "print(sht.range('A1:E1').value)\n",
    "\n",
    "sht.range('A1').value = [[1],[2],[3],[4],[5]]  # 列方向(巢狀列表)\n",
    "sht.range('A1').options(transpose=True).value = [1,2,3,4,5]  # 列方向(轉向法)\n",
    "print(sht.range('A1:A5').value)"
   ]
  },
  {
   "cell_type": "code",
   "execution_count": null,
   "metadata": {},
   "outputs": [],
   "source": [
    "2d列表：如果必須保留行或列的方向，請ndim在“範圍”選項中進行設置。這會將範圍作為巢狀列表（“2d列表”）返回：\n",
    "二維範圍自動作為巢狀列表返回。將列表分配（巢狀）列表到Excel中的範圍時，僅將\"左上方的單元格\"(起始格)指定為目標地址就足夠了。"
   ]
  },
  {
   "cell_type": "code",
   "execution_count": 114,
   "metadata": {},
   "outputs": [
    {
     "data": {
      "text/plain": [
       "[[1.0], [2.0], [3.0], [4.0], [5.0]]"
      ]
     },
     "execution_count": 114,
     "metadata": {},
     "output_type": "execute_result"
    }
   ],
   "source": [
    "sht = xw.Book('Book3').sheets[0]\n",
    "sht.range('A1:A5').options(ndim=2).value\n",
    "#[[1.0], [2.0], [3.0], [4.0], [5.0]]\n",
    "sht.range('A1:E1').options(ndim=2).value\n",
    "#[[1.0, 2.0, 3.0, 4.0, 5.0]]"
   ]
  },
  {
   "cell_type": "code",
   "execution_count": 115,
   "metadata": {
    "scrolled": true
   },
   "outputs": [
    {
     "data": {
      "text/plain": [
       "[['Foo 1', 'Foo 2', 'Foo 3'], [10.0, 20.0, 30.0]]"
      ]
     },
     "execution_count": 115,
     "metadata": {},
     "output_type": "execute_result"
    }
   ],
   "source": [
    "sht.range('A10').value = [['Foo 1', 'Foo 2', 'Foo 3'], [10, 20, 30]]\n",
    "sht.range((10,1),(11,3)).value"
   ]
  },
  {
   "cell_type": "code",
   "execution_count": null,
   "metadata": {},
   "outputs": [],
   "source": [
    "# Range expanding範圍擴大\n",
    "您可以通過expand或options中的expand關鍵字來動態獲取Excel Ranges的尺寸options。\n",
    "當expand返回擴展的Range對象時，僅在訪問Range的值時才評估選項。最好用一個例子來說明差異：\n",
    "使用expand()了一個名為Range在一起，左上角的單元格讓你在Excel中靈活的設置：您可以左右移動的table，改變它的大小，\n",
    "而無需使用類似調整你的代碼，例如sht.range('NamedRange').expand().value。"
   ]
  },
  {
   "cell_type": "code",
   "execution_count": null,
   "metadata": {},
   "outputs": [],
   "source": [
    "\n",
    "sht = xw.Book('Book3').sheets[1]\n",
    "sht.range('A1').value = [[1,2], [3,4]]\n",
    "rng1 = sht.range('A1').expand('table')  # or just .expand()\n",
    "rng2 = sht.range('A1').options(expand='table')\n",
    "rng1.value #[[1.0, 2.0], [3.0, 4.0]]\n",
    "rng2.value #[[1.0, 2.0], [3.0, 4.0]]\n",
    "sht.range('A3').value = [5, 6]\n",
    "rng1.value #[[1.0, 2.0], [3.0, 4.0]]\n",
    "rng2.value #[[1.0, 2.0], [3.0, 4.0], [5.0, 6.0]]\n",
    "'table'擴展到'down'和'right'，其他可用選項分別可用於僅列或行擴展。"
   ]
  },
  {
   "cell_type": "code",
   "execution_count": null,
   "metadata": {},
   "outputs": [],
   "source": [
    "# NumPy數組\n",
    "NumPy數組的工作類似於巢狀列表。\n",
    "但是，空單元格由nan代替 None。如果要讀取Range作為數組，請convert=np.array在options中進行設置："
   ]
  },
  {
   "cell_type": "code",
   "execution_count": 131,
   "metadata": {},
   "outputs": [
    {
     "data": {
      "text/plain": [
       "array([[1., 0., 0.],\n",
       "       [0., 1., 0.],\n",
       "       [0., 0., 1.]])"
      ]
     },
     "execution_count": 131,
     "metadata": {},
     "output_type": "execute_result"
    }
   ],
   "source": [
    "import numpy as np\n",
    "sht = xw.Book('Book3').sheets[2]\n",
    "sht.range('A1').value = np.eye(3)  #產生一組3*3，對角為1的矩陣\n",
    "sht.range('A1').options(np.array, expand='table').value"
   ]
  },
  {
   "cell_type": "code",
   "execution_count": null,
   "metadata": {},
   "outputs": [],
   "source": [
    "# Pandas DataFrames"
   ]
  },
  {
   "cell_type": "code",
   "execution_count": 142,
   "metadata": {
    "scrolled": true
   },
   "outputs": [
    {
     "name": "stdout",
     "output_type": "stream",
     "text": [
      "     one  two\n",
      "0.0  1.1  2.2\n",
      "1.0  3.3  NaN\n"
     ]
    }
   ],
   "source": [
    "import pandas as pd\n",
    "\n",
    "sht = xw.Book('Book3').sheets[3]\n",
    "df = pd.DataFrame([[1.1, 2.2], [3.3, None]], columns=['one', 'two'])\n",
    "df\n",
    "\n",
    "sht.range('A1').value = df  #將df寫入excel(A1起始)\n",
    "print(sht.range('A1:C3').options(pd.DataFrame).value)\n",
    "\n",
    "sht.range('A5').options(index=False).value = df  #將df寫入excel(取消索引)\n",
    "sht.range('A9').options(index=False, header=False).value = df #將df寫入excel(取消索引、取消欄列名稱)"
   ]
  },
  {
   "cell_type": "code",
   "execution_count": null,
   "metadata": {},
   "outputs": [],
   "source": [
    "# Pandas Series"
   ]
  },
  {
   "cell_type": "code",
   "execution_count": 143,
   "metadata": {},
   "outputs": [
    {
     "data": {
      "text/plain": [
       "0    1.1\n",
       "1    3.3\n",
       "2    5.0\n",
       "3    NaN\n",
       "4    6.0\n",
       "5    8.0\n",
       "Name: myseries, dtype: float64"
      ]
     },
     "execution_count": 143,
     "metadata": {},
     "output_type": "execute_result"
    }
   ],
   "source": [
    "import pandas as pd\n",
    "import numpy as np\n",
    "sht = xw.Book('Book3').sheets[4]\n",
    "s = pd.Series([1.1, 3.3, 5., np.nan, 6., 8.], name='myseries')\n",
    "s"
   ]
  },
  {
   "cell_type": "code",
   "execution_count": 144,
   "metadata": {},
   "outputs": [
    {
     "data": {
      "text/plain": [
       "0.0    1.1\n",
       "1.0    3.3\n",
       "2.0    5.0\n",
       "3.0    NaN\n",
       "4.0    6.0\n",
       "5.0    8.0\n",
       "Name: myseries, dtype: float64"
      ]
     },
     "execution_count": 144,
     "metadata": {},
     "output_type": "execute_result"
    }
   ],
   "source": [
    "sht.range('A1').value = s   #將df寫入excel(A1起始)\n",
    "sht.range('A1:B7').options(pd.Series).value"
   ]
  },
  {
   "cell_type": "code",
   "execution_count": null,
   "metadata": {},
   "outputs": [],
   "source": [
    "在將列表，NumPy數組或Pandas DataFrame寫入Excel時，只需指定左上角的單元格，\n",
    "例如： sht.range('A1').value = np.eye(10)"
   ]
  },
  {
   "cell_type": "markdown",
   "metadata": {},
   "source": [
    "# O"
   ]
  },
  {
   "cell_type": "code",
   "execution_count": null,
   "metadata": {},
   "outputs": [],
   "source": [
    "用 xlwings 來實作上一篇文章的日報酬率\n",
    "接下來我們就用 xlwings 來實作出計算所有日報酬率的效果，這篇文章我們會繼續沿用上一篇文章的範例 Excel 檔："
   ]
  },
  {
   "cell_type": "code",
   "execution_count": 27,
   "metadata": {},
   "outputs": [],
   "source": [
    "wb = xw.Book(r'C:\\Users\\11004076\\Documents\\Python Scripts\\4_Automation\\Book1.xlsx')\n",
    "# 從 檔案裡找出名為 2330 的試算表，存入 tsmc_sheet 這個變數裏\n",
    "tsmc_sheet = wb.sheets['Sheet2']\n",
    "# 算出所有的報酬率\n",
    "for i in range(3, 100):\n",
    "    \n",
    "    price_today = tsmc_sheet.cells(i, \"B\").value  # 到 B 欄截取今日收盤價(mac版本\"B\"改2)\n",
    "    price_yesterday = tsmc_sheet.cells(i-1, \"B\").value  # 到 B 欄截取迭代到的上一個 row, 也就是昨日收盤價(mac版本\"B\"改2)  \n",
    "    daily_return = (price_today - price_yesterday) / price_yesterday  # 算出該筆資料的日報酬率了   \n",
    "    tsmc_sheet.cells(i, \"C\").value = daily_return   # 最後再將算出的日報酬率寫入同一列，欄為 C 的儲存格(mac版本\"B\"改2)"
   ]
  },
  {
   "cell_type": "code",
   "execution_count": null,
   "metadata": {},
   "outputs": [],
   "source": [
    "雖然我們已經成功地算出所有的報酬率了，但是要用數字觀察臺積電股價的漲跌還是有些困難，因此我們就增加一個新的功能：\n",
    "若當天該股票是上漲(報酬率是大於0)，就把底色換成紅色；相對的，若當天該股票是下跌(報酬率是小於0)，\n",
    "就把底色換成綠色，這個用一個簡單的迴圈與判斷式即可完成："
   ]
  },
  {
   "cell_type": "code",
   "execution_count": 28,
   "metadata": {},
   "outputs": [],
   "source": [
    "# 用顔色標記漲跌(mac版\"C\"改3)\n",
    "for i in range(3, 100):\n",
    "    daily_return = tsmc_sheet.cells(i, 'C').value\n",
    "    \n",
    "    if daily_return > 0:  # 若該筆資料的日報酬率是上漲的 (大於 0)  \n",
    "        tsmc_sheet.cells(i, 'C').color = (255, 0, 0)  # 就把該儲存格的底色換成紅色   \n",
    "    elif daily_return < 0:  # 若該筆資料的日報酬率是下跌的 (小於 0)\n",
    "        tsmc_sheet.cells(i, 'C').color = (0, 255 , 0)  # 就把該儲存格的底色換成綠色"
   ]
  }
 ],
 "metadata": {
  "kernelspec": {
   "display_name": "Python 3",
   "language": "python",
   "name": "python3"
  },
  "language_info": {
   "codemirror_mode": {
    "name": "ipython",
    "version": 3
   },
   "file_extension": ".py",
   "mimetype": "text/x-python",
   "name": "python",
   "nbconvert_exporter": "python",
   "pygments_lexer": "ipython3",
   "version": "3.7.1"
  }
 },
 "nbformat": 4,
 "nbformat_minor": 2
}
