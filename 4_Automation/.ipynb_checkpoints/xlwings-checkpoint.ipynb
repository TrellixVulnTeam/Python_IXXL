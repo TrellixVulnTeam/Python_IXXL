{
 "cells": [
  {
   "cell_type": "code",
   "execution_count": null,
   "metadata": {},
   "outputs": [],
   "source": [
    "https://medium.com/pyradise/%E7%95%B6%E5%A4%A7%E8%9F%92%E8%9B%87%E8%AA%9E%E8%A8%80%E9%81%87%E4%B8%8A%E8%80%81%E7%89%8C%E8%A9%A6%E7%AE%97%E8%A1%A8%E8%BB%9F%E9%AB%94-2-2e1e825b31fe"
   ]
  },
  {
   "cell_type": "code",
   "execution_count": null,
   "metadata": {},
   "outputs": [],
   "source": [
    "openpyxl 的侷限\n",
    "如同在上一篇文章提到的，一個 .xlsx 檔案若是被 Excel或是其他應用程式開啟時，openpyxl 是無法把資料寫入該 .xlsx 檔案的；\n",
    "所以今天若每一次需要用 Python寫入資料到，就需要將 Excel 關掉一次、執行 Python 程式、再重新開啟，\n",
    "這樣的工作流程讓利用 openpyxl 做開發的使用者體驗變得非常糟糕。而用 VBA 語言為 Excel 寫程式的最大好處，\n",
    "就是程式執行完的結果會馬上呈現在 Excel 試算表上，這種所見即所得 (WYSIWYG) 的方式會大幅增加開發者的效率。\n",
    "從這點來看，Python 若不能夠做到讓開發者有同樣的開發流程，只靠 openpyxl 套件現有的功能，要完全取代 VBA 語言的功能是很困難的。"
   ]
  },
  {
   "cell_type": "code",
   "execution_count": null,
   "metadata": {},
   "outputs": [],
   "source": [
    "xlwings 套件\n",
    "這邊就來為各位介紹 xlwings，是筆者認為目前串接 Excel 最好用的 Python 套件：\n",
    "至於這個套件為何好用？與其用文字和各位解釋，我們直接透過實作來體驗比較快。"
   ]
  },
  {
   "cell_type": "code",
   "execution_count": null,
   "metadata": {},
   "outputs": [],
   "source": [
    "容許筆者先跟各位講解一點用 VBA 為 Excel 寫程式所需要的知識。\n",
    "當需要用 VBA 選擇單一個儲存格進行操作時，通常都是以 Cells 函數進行，舉個簡單的例子，\n",
    "今天我若想用 VBA 把 “Hello World!” 字串寫入儲存格 A1，在實作上通常是使用一個叫做 Cells 的函數："
   ]
  },
  {
   "cell_type": "code",
   "execution_count": null,
   "metadata": {},
   "outputs": [],
   "source": [
    "Sub CellsExample()\n",
    "  '用法是 Cells(row的數值, column的數值)\n",
    "  'column (欄) 一般在 Excel 的表達方式是字母，若要轉成數字，就是看該欄是從左邊數起的第幾欄\n",
    "  '例： 若我今天需要將 A1 儲存格的值設定成 \"Hello World!\"\n",
    "  Cells(1, 1).Value = \"Hello World!\"\n",
    "End Sub"
   ]
  },
  {
   "cell_type": "code",
   "execution_count": null,
   "metadata": {},
   "outputs": [],
   "source": [
    "但是我們一般在表達 Excel 的儲存格時，都是以英文字母來表示欄，所以 Cells 函數也支援以下寫法："
   ]
  },
  {
   "cell_type": "code",
   "execution_count": null,
   "metadata": {},
   "outputs": [],
   "source": [
    "Sub CellsExample()\n",
    "  '直接以字串 \"A\" 表示想選擇的欄，相對直覺狠多\n",
    "  Cells(1, \"A\").Value = \"Hello World!\"\n",
    "End Sub"
   ]
  },
  {
   "cell_type": "code",
   "execution_count": null,
   "metadata": {},
   "outputs": [],
   "source": [
    "瞭解了 Cells() 函數後，接下來我們就比較能理解 xlwings 的厲害之處。"
   ]
  },
  {
   "cell_type": "code",
   "execution_count": null,
   "metadata": {},
   "outputs": [],
   "source": [
    "來實戰吧\n",
    "接下來我們就來用 Python 與 xlwings 寫一個簡單的 Hello World 程式，這次我們不需要一個現有的 Excel 檔案，直接執行以下程式碼即可："
   ]
  },
  {
   "cell_type": "code",
   "execution_count": 17,
   "metadata": {},
   "outputs": [],
   "source": [
    "# 匯入 xlwings 套件\n",
    "import xlwings as xw\n",
    "# 讓 xlwings 動態開啟一個新的 Excel 檔案，並將該檔案存入 workbook 變數\n",
    "workbook = xw.Book()\n",
    "# 若你沒有開啟你的 Excel, 這行可能會跑的慢一點，請耐心等待，讓子彈飛一會兒～"
   ]
  },
  {
   "cell_type": "code",
   "execution_count": null,
   "metadata": {},
   "outputs": [],
   "source": [
    "如你所見的，xlwings 會自動開啟一個新的 Excel 檔案，這邊先提一下，在使用 xlwings 做開發時，\n",
    "xlwings 是假設開發者的 .xlsx檔是被 Excel 應用程式開起來的，所以請先確保你的電腦已經安裝了 Excel 應用程式。"
   ]
  },
  {
   "cell_type": "code",
   "execution_count": null,
   "metadata": {},
   "outputs": [],
   "source": [
    "接下來我們就來實作 Hello World 吧，請你加入以下程式碼："
   ]
  },
  {
   "cell_type": "code",
   "execution_count": 18,
   "metadata": {},
   "outputs": [],
   "source": [
    "# 到 workbook 代表的 excel 檔案下，開啓名爲 '工作表1' 的試算表\n",
    "sheet = workbook.sheets['Sheet1']\n",
    "# 將該試算表裏面的 A1 儲存格的值設定成 \"Hello World!\"\n",
    "sheet.cells(1, 1).value = \"Hello World!\""
   ]
  },
  {
   "cell_type": "code",
   "execution_count": null,
   "metadata": {},
   "outputs": [],
   "source": [
    "注意上面的寫法幾乎和 VBA 的 Cells() 函數一樣，對熟悉 VBA 的開發著來説，\n",
    "看到這種寫法真的是令人大呼過癮，因爲這樣大幅降低了從 VBA 語言切換到 Python 的開發門檻！\n",
    "但是 xlwings 的好處不光是在語法上，現在請你試試不要關掉 Excel, 直接執行這支程式："
   ]
  },
  {
   "cell_type": "code",
   "execution_count": null,
   "metadata": {},
   "outputs": [],
   "source": [
    "不同於之前 openpyxl，即使我沒有關掉 Excel 檔案，透過 xlwings ，我依然可以將值寫入到 Excel，\n",
    "這種能夠即時把程式執行的結果顯示在 Excel 試算表的功能，可以大幅的提升我們的開發效率 ！"
   ]
  },
  {
   "cell_type": "code",
   "execution_count": null,
   "metadata": {},
   "outputs": [],
   "source": [
    "另外，xlwings 的 cells 函數也支援以英文字母來表示欄的寫法，所以你若覺得上面的程式碼不夠直覺，可以試試以下寫法："
   ]
  },
  {
   "cell_type": "code",
   "execution_count": 19,
   "metadata": {},
   "outputs": [],
   "source": [
    "# 到 workbook 代表的 excel 檔案下，開啓名爲 '工作表1' 的試算表\n",
    "sheet = workbook.sheets['Sheet2']\n",
    "# 和 VBA 的 Cells() 函數一樣，xlings 支援可以用英文字母指定欄！\n",
    "sheet.cells(1, \"A\").value = \"aka!\"\n",
    "\n",
    "#備註：若你是用 Mac 電腦，很遺憾的，目前 xlwings 在 Mac 上不支援\"英文字母指定欄\"這個寫法"
   ]
  },
  {
   "cell_type": "code",
   "execution_count": null,
   "metadata": {},
   "outputs": [],
   "source": [
    "*備注：若你的電腦是 Mac，由於在 Mac 上 xlwings 的 cells 不支援以英文字母的方式表達欄，\n",
    "所以在實作上會有些微的差異，請注意這點，至於要如何用數字指定那一欄? 其實就是該欄是從最左邊數起的第幾欄，\n",
    "因此，A 欄相對應的數字為 1，B 欄為 2，C 欄為 3，以此類推。"
   ]
  },
  {
   "cell_type": "code",
   "execution_count": null,
   "metadata": {},
   "outputs": [],
   "source": [
    "用 xlwings 來實作上一篇文章的日報酬率\n",
    "接下來我們就用 xlwings 來實作出計算所有日報酬率的效果，這篇文章我們會繼續沿用上一篇文章的範例 Excel 檔："
   ]
  },
  {
   "cell_type": "code",
   "execution_count": 27,
   "metadata": {},
   "outputs": [],
   "source": [
    "wb = xw.Book(r'C:\\Users\\11004076\\Documents\\Python Scripts\\4_Automation\\Book1.xlsx')\n",
    "# 從 檔案裡找出名為 2330 的試算表，存入 tsmc_sheet 這個變數裏\n",
    "tsmc_sheet = wb.sheets['Sheet2']\n",
    "# 算出所有的報酬率\n",
    "for i in range(3, 100):\n",
    "    \n",
    "    price_today = tsmc_sheet.cells(i, \"B\").value  # 到 B 欄截取今日收盤價(mac版本\"B\"改2)\n",
    "    price_yesterday = tsmc_sheet.cells(i-1, \"B\").value  # 到 B 欄截取迭代到的上一個 row, 也就是昨日收盤價(mac版本\"B\"改2)  \n",
    "    daily_return = (price_today - price_yesterday) / price_yesterday  # 算出該筆資料的日報酬率了   \n",
    "    tsmc_sheet.cells(i, \"C\").value = daily_return   # 最後再將算出的日報酬率寫入同一列，欄為 C 的儲存格(mac版本\"B\"改2)"
   ]
  },
  {
   "cell_type": "code",
   "execution_count": null,
   "metadata": {},
   "outputs": [],
   "source": [
    "雖然我們已經成功地算出所有的報酬率了，但是要用數字觀察臺積電股價的漲跌還是有些困難，因此我們就增加一個新的功能：\n",
    "若當天該股票是上漲(報酬率是大於0)，就把底色換成紅色；相對的，若當天該股票是下跌(報酬率是小於0)，\n",
    "就把底色換成綠色，這個用一個簡單的迴圈與判斷式即可完成："
   ]
  },
  {
   "cell_type": "code",
   "execution_count": 28,
   "metadata": {},
   "outputs": [],
   "source": [
    "# 用顔色標記漲跌(mac版\"C\"改3)\n",
    "for i in range(3, 100):\n",
    "    daily_return = tsmc_sheet.cells(i, 'C').value\n",
    "    \n",
    "    if daily_return > 0:  # 若該筆資料的日報酬率是上漲的 (大於 0)  \n",
    "        tsmc_sheet.cells(i, 'C').color = (255, 0, 0)  # 就把該儲存格的底色換成紅色   \n",
    "    elif daily_return < 0:  # 若該筆資料的日報酬率是下跌的 (小於 0)\n",
    "        tsmc_sheet.cells(i, 'C').color = (0, 255 , 0)  # 就把該儲存格的底色換成綠色"
   ]
  },
  {
   "cell_type": "code",
   "execution_count": null,
   "metadata": {},
   "outputs": [],
   "source": [
    "小結\n",
    "在這篇文章裡我們見識到 openpyxl 套件有個限制，就是無法寫入資料到一個正在被其他應用程式開啟的 Excel 檔。\n",
    "而我們也認識了 xlwings 這個強大的套件，它不但沒有上述 openpyxl 的限制，同時在函數的界面上非常接近 VBA，\n",
    "一方面不會對 Python 的開發者帶來負擔，另一方面大幅降低VBA 開發者切換至 Python 語言的成本，\n",
    "可説是個真正有在用心做的套件。當然，xlwings 也有它的侷限：那就是它需要 Excel 應用程式才能運作，\n",
    "不過由於 Excel 的普及，這個相對是個小問題，若你的電腦沒有安裝 Excel，建議你買個正版的 Office 來使用，\n",
    "想想 Excel 能為你帶來的便利以及節省的時間，絕對是一個值得的投資。"
   ]
  }
 ],
 "metadata": {
  "kernelspec": {
   "display_name": "Python 3",
   "language": "python",
   "name": "python3"
  },
  "language_info": {
   "codemirror_mode": {
    "name": "ipython",
    "version": 3
   },
   "file_extension": ".py",
   "mimetype": "text/x-python",
   "name": "python",
   "nbconvert_exporter": "python",
   "pygments_lexer": "ipython3",
   "version": "3.7.1"
  }
 },
 "nbformat": 4,
 "nbformat_minor": 2
}
