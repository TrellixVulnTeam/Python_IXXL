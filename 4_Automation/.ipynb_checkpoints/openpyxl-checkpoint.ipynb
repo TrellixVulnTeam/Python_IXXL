{
 "cells": [
  {
   "cell_type": "markdown",
   "metadata": {},
   "source": [
    "https://medium.com/pyradise/%E7%95%B6%E5%A4%A7%E8%9F%92%E8%9B%87%E8%AA%9E%E8%A8%80%E9%81%87%E4%B8%8A%E8%80%81%E7%89%8C%E8%A9%A6%E7%AE%97%E8%A1%A8%E8%BB%9F%E9%AB%94-fc7947792000"
   ]
  },
  {
   "cell_type": "code",
   "execution_count": null,
   "metadata": {},
   "outputs": [],
   "source": [
    "這邊就先和大家分享一個在 Python 社群裡處理 Excel 常用的套件：openpyxl"
   ]
  },
  {
   "cell_type": "code",
   "execution_count": null,
   "metadata": {},
   "outputs": [],
   "source": [
    "Hello World\n",
    "接下來就來用 Python 與 openpyxl 寫一個簡單的 Hello World 吧，這邊請先下載我爲各位讀者准備的範例 Excel 檔案"
   ]
  },
  {
   "cell_type": "code",
   "execution_count": 8,
   "metadata": {},
   "outputs": [],
   "source": [
    "import openpyxl\n",
    "import os\n",
    "# os.chdir 是 python 切換到電腦指定路徑的方法\n",
    "os.chdir(r\"C:\\Users\\11004076\\Documents\\Python Scripts\\4_Automation\")\n",
    "# 開啓名爲 “TW2330” 的 excel 檔案，存入 workbook 這個變數中\n",
    "workbook = openpyxl.load_workbook('Book1.xlsx')\n",
    "# 從 workbook 中開啓一個名爲 'HelloWorld' 的工作表，存入 sheet 變數\n",
    "sheet = workbook['Sheet1']\n",
    "# 把 “Hello World!” 這個字串賦值到 row 為 1, column 為 1 的,也就是儲存格 A1\n",
    "sheet.cell(row=1, column=1).value = \"Hello World!\"\n",
    "# 存檔\n",
    "workbook.save('Book1.xlsx')"
   ]
  },
  {
   "cell_type": "code",
   "execution_count": null,
   "metadata": {},
   "outputs": [],
   "source": [
    " "
   ]
  },
  {
   "cell_type": "code",
   "execution_count": null,
   "metadata": {},
   "outputs": [],
   "source": [
    "再C3儲存格計算成長率=(B3-B2)/B2，並往下計算(Excel“往下拉”功能)"
   ]
  },
  {
   "cell_type": "code",
   "execution_count": 22,
   "metadata": {},
   "outputs": [],
   "source": [
    "import openpyxl\n",
    "import os\n",
    "# os.chdir 是 python 切換到電腦指定路徑的方法\n",
    "os.chdir(r\"C:\\Users\\11004076\\Documents\\Python Scripts\\4_Automation\")\n",
    "workbook = openpyxl.load_workbook('Book1.xlsx')\n",
    "# 從 workbook 中開啓一個名爲 2330 的工作表，存入 sheet 變數\n",
    "sheet = workbook['Sheet2']\n",
    "# 從第三列開始 (我們的日報酬率至少需要兩天的資料，因此從第二天開始算)，到第 99 列\n",
    "for i in range(3, 100):\n",
    "    price_today = sheet.cell(row=i, column=2).value  # 截取 column 值為 2，也就是欄為 B 的儲存格\n",
    "    price_yesterday = sheet.cell(row=i-1, column=2).value  # 截取column值為2(也就是欄為B的儲存格)但是上一列，也就是昨天的收盤價\n",
    "    daily_return = (price_today - price_yesterday) / price_yesterday  # 截取出兩者後，就可以算出該筆資料的日報酬率了\n",
    "    # 最後再將算出的日報酬率寫入同一列，但是 column 值為 3 的儲存格 (也就是欄為 C 的儲存格)\n",
    "    sheet.cell(row=i, column=3).value = daily_return\n",
    "\n",
    "# 存檔\n",
    "workbook.save('Book1.xlsx')"
   ]
  },
  {
   "cell_type": "code",
   "execution_count": null,
   "metadata": {},
   "outputs": [],
   "source": []
  },
  {
   "cell_type": "code",
   "execution_count": null,
   "metadata": {},
   "outputs": [],
   "source": []
  },
  {
   "cell_type": "code",
   "execution_count": null,
   "metadata": {},
   "outputs": [],
   "source": []
  },
  {
   "cell_type": "code",
   "execution_count": null,
   "metadata": {},
   "outputs": [],
   "source": []
  },
  {
   "cell_type": "code",
   "execution_count": null,
   "metadata": {},
   "outputs": [],
   "source": []
  }
 ],
 "metadata": {
  "kernelspec": {
   "display_name": "Python 3",
   "language": "python",
   "name": "python3"
  },
  "language_info": {
   "codemirror_mode": {
    "name": "ipython",
    "version": 3
   },
   "file_extension": ".py",
   "mimetype": "text/x-python",
   "name": "python",
   "nbconvert_exporter": "python",
   "pygments_lexer": "ipython3",
   "version": "3.7.1"
  }
 },
 "nbformat": 4,
 "nbformat_minor": 2
}
