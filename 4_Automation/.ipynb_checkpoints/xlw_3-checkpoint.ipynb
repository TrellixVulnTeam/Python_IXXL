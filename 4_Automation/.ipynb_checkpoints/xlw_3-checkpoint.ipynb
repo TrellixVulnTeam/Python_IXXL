{
 "cells": [
  {
   "cell_type": "code",
   "execution_count": null,
   "metadata": {},
   "outputs": [],
   "source": [
    "中文：https://twgreatdaily.com/w4bYyG0BMH2_cNUgurKB.html\n",
    "英文原文：https://www.dataquest.io/blog/python-excel-xlwings-tutorial/"
   ]
  },
  {
   "cell_type": "code",
   "execution_count": 1,
   "metadata": {},
   "outputs": [
    {
     "data": {
      "text/html": [
       "<div>\n",
       "<style scoped>\n",
       "    .dataframe tbody tr th:only-of-type {\n",
       "        vertical-align: middle;\n",
       "    }\n",
       "\n",
       "    .dataframe tbody tr th {\n",
       "        vertical-align: top;\n",
       "    }\n",
       "\n",
       "    .dataframe thead th {\n",
       "        text-align: right;\n",
       "    }\n",
       "</style>\n",
       "<table border=\"1\" class=\"dataframe\">\n",
       "  <thead>\n",
       "    <tr style=\"text-align: right;\">\n",
       "      <th></th>\n",
       "      <th>進銷存</th>\n",
       "      <th>2nd Item Number</th>\n",
       "      <th>Qty</th>\n",
       "      <th>LargeCat</th>\n",
       "      <th>MediumCat</th>\n",
       "      <th>Sls CD4 Desc#</th>\n",
       "      <th>Product Desc#</th>\n",
       "      <th>Year</th>\n",
       "      <th>Month</th>\n",
       "      <th>Unnamed: 9</th>\n",
       "      <th>進貨量</th>\n",
       "      <th>銷貨量</th>\n",
       "      <th>存貨量</th>\n",
       "    </tr>\n",
       "  </thead>\n",
       "  <tbody>\n",
       "    <tr>\n",
       "      <th>856</th>\n",
       "      <td>存貨量</td>\n",
       "      <td>31731063101</td>\n",
       "      <td>0.0</td>\n",
       "      <td>Speaker</td>\n",
       "      <td>2.0 Speaker</td>\n",
       "      <td>SP-HF160</td>\n",
       "      <td>RS,SP-HF160,USB,WOOD</td>\n",
       "      <td>2020</td>\n",
       "      <td>2</td>\n",
       "      <td>NaN</td>\n",
       "      <td>NaN</td>\n",
       "      <td>NaN</td>\n",
       "      <td>NaN</td>\n",
       "    </tr>\n",
       "    <tr>\n",
       "      <th>439</th>\n",
       "      <td>存貨量</td>\n",
       "      <td>31030114109</td>\n",
       "      <td>354.0</td>\n",
       "      <td>Mouse</td>\n",
       "      <td>Wireless Mouse</td>\n",
       "      <td>NX-7010</td>\n",
       "      <td>RS,NX-7010,USB,TURQUOISE,BLIS!</td>\n",
       "      <td>2019</td>\n",
       "      <td>9</td>\n",
       "      <td>NaN</td>\n",
       "      <td>NaN</td>\n",
       "      <td>NaN</td>\n",
       "      <td>NaN</td>\n",
       "    </tr>\n",
       "    <tr>\n",
       "      <th>326</th>\n",
       "      <td>存貨量</td>\n",
       "      <td>31010116103</td>\n",
       "      <td>700.0</td>\n",
       "      <td>Mouse</td>\n",
       "      <td>Wired Mouse</td>\n",
       "      <td>DX-110</td>\n",
       "      <td>RS,DX-110,USB,BLUE,G5</td>\n",
       "      <td>2019</td>\n",
       "      <td>3</td>\n",
       "      <td>NaN</td>\n",
       "      <td>NaN</td>\n",
       "      <td>NaN</td>\n",
       "      <td>NaN</td>\n",
       "    </tr>\n",
       "    <tr>\n",
       "      <th>615</th>\n",
       "      <td>存貨量</td>\n",
       "      <td>31730007401</td>\n",
       "      <td>0.0</td>\n",
       "      <td>Speaker</td>\n",
       "      <td>BT Speaker</td>\n",
       "      <td>SP-906BT PLUS-LI</td>\n",
       "      <td>RS,SP-906BT PLUS,R2,Blue,!</td>\n",
       "      <td>2019</td>\n",
       "      <td>11</td>\n",
       "      <td>NaN</td>\n",
       "      <td>NaN</td>\n",
       "      <td>NaN</td>\n",
       "      <td>NaN</td>\n",
       "    </tr>\n",
       "    <tr>\n",
       "      <th>808</th>\n",
       "      <td>存貨量</td>\n",
       "      <td>31010116102</td>\n",
       "      <td>724.0</td>\n",
       "      <td>Mouse</td>\n",
       "      <td>Wired Mouse</td>\n",
       "      <td>DX-110</td>\n",
       "      <td>RS,DX-110,USB,WHITE,G5</td>\n",
       "      <td>2020</td>\n",
       "      <td>2</td>\n",
       "      <td>NaN</td>\n",
       "      <td>NaN</td>\n",
       "      <td>NaN</td>\n",
       "      <td>NaN</td>\n",
       "    </tr>\n",
       "  </tbody>\n",
       "</table>\n",
       "</div>"
      ],
      "text/plain": [
       "     進銷存  2nd Item Number    Qty LargeCat       MediumCat     Sls CD4 Desc#  \\\n",
       "856  存貨量      31731063101    0.0  Speaker     2.0 Speaker          SP-HF160   \n",
       "439  存貨量      31030114109  354.0    Mouse  Wireless Mouse           NX-7010   \n",
       "326  存貨量      31010116103  700.0    Mouse     Wired Mouse            DX-110   \n",
       "615  存貨量      31730007401    0.0  Speaker      BT Speaker  SP-906BT PLUS-LI   \n",
       "808  存貨量      31010116102  724.0    Mouse     Wired Mouse            DX-110   \n",
       "\n",
       "                      Product Desc#  Year  Month  Unnamed: 9  進貨量  銷貨量  存貨量  \n",
       "856            RS,SP-HF160,USB,WOOD  2020      2         NaN  NaN  NaN  NaN  \n",
       "439  RS,NX-7010,USB,TURQUOISE,BLIS!  2019      9         NaN  NaN  NaN  NaN  \n",
       "326           RS,DX-110,USB,BLUE,G5  2019      3         NaN  NaN  NaN  NaN  \n",
       "615      RS,SP-906BT PLUS,R2,Blue,!  2019     11         NaN  NaN  NaN  NaN  \n",
       "808          RS,DX-110,USB,WHITE,G5  2020      2         NaN  NaN  NaN  NaN  "
      ]
     },
     "execution_count": 1,
     "metadata": {},
     "output_type": "execute_result"
    }
   ],
   "source": [
    "import xlwings as xw\n",
    "import pandas as pd\n",
    "\n",
    "df = pd.read_excel(r'C:\\Users\\11004076\\Documents\\Python Scripts\\4_Automation\\20200324-進銷存-SF4_Vietnam_Silicom.xlsx',\n",
    "                  sheet_name = 'raw')\n",
    "df.sample(5)"
   ]
  },
  {
   "cell_type": "code",
   "execution_count": 2,
   "metadata": {},
   "outputs": [],
   "source": [
    "wb = xw.Book()\n",
    "sht = wb.sheets[0]\n",
    "sht.name = '進銷存'  #改表名\n",
    "sht.range(\"A1\").value = df  #將df的值貼過來這個新的表(但直接貼會帶有索引)"
   ]
  },
  {
   "cell_type": "code",
   "execution_count": 5,
   "metadata": {},
   "outputs": [],
   "source": [
    "sht.clear_contents()   #清除此工作表的內容(重做一次)\n",
    "sht.range(\"A1\").options(index=False).value = df  #並複製不帶索引的數據"
   ]
  },
  {
   "cell_type": "code",
   "execution_count": null,
   "metadata": {},
   "outputs": [],
   "source": [
    "能夠知道我們的表在哪裡結束是很有用的。更具體地說，我們需要包含了數據的最後一行。為此，我們可以使用end方法和Range對象的row屬性。\n",
    "\n",
    "不出所料，row方法會返回Range對象的row。\n",
    "\n",
    "方法end接受一個方向(「up」(或1)、「right」(或2)、「left」(或3)、「down」(或4))作為參數，並返回另一個range對象。\n",
    "它模仿Excel中常見的CTRL+Shift+箭頭動作。"
   ]
  },
  {
   "cell_type": "code",
   "execution_count": 14,
   "metadata": {},
   "outputs": [
    {
     "data": {
      "text/plain": [
       "9"
      ]
     },
     "execution_count": 14,
     "metadata": {},
     "output_type": "execute_result"
    }
   ],
   "source": [
    "sht.range(\"G9\").row  #row方法會返回Range對象的row。"
   ]
  },
  {
   "cell_type": "code",
   "execution_count": 7,
   "metadata": {},
   "outputs": [
    {
     "data": {
      "text/plain": [
       "1234"
      ]
     },
     "execution_count": 7,
     "metadata": {},
     "output_type": "execute_result"
    }
   ],
   "source": [
    "down_row =sht.range(\"A1\").end('down').row  #最下面那列是excel的第幾列\n",
    "down_row"
   ]
  },
  {
   "cell_type": "code",
   "execution_count": 28,
   "metadata": {
    "scrolled": true
   },
   "outputs": [
    {
     "data": {
      "text/plain": [
       "(1233, 13)"
      ]
     },
     "execution_count": 28,
     "metadata": {},
     "output_type": "execute_result"
    }
   ],
   "source": [
    "df.shape  #Dataframe中的列數"
   ]
  },
  {
   "cell_type": "code",
   "execution_count": null,
   "metadata": {},
   "outputs": [],
   "source": [
    "並不是所有的Excel功能都可以作為一個本地xlwings特性來使用。有時我們必須找到變通辦法來做我們想做的事。\n",
    "幸運的是，xlwings讓這一切變得非常簡單。來自官方文檔中「缺失的特性」一節:\n",
    "\n",
    "解決方案:本質上，xlwings只是一個圍繞Windows平台上的pywin32和Mac平台上的appscript的靈活的包裝器。\n",
    "    你可以通過調用其api屬性來訪問底層對象。底層對象將使用pywin32語法(感覺很像VBA)和appscript語法(感覺不像VBA)\n",
    "    為您提供幾乎所有可以用VBA做的事情。但是除了看起來很醜之外，請記住它使您的代碼平台變成特定的(!)。\n",
    "    Excel Visual Basic for Applications是對各種現有Excel對象的一個詳細解釋。\n",
    "\n",
    "排序就是xlwings中缺少的功能之一。您可能已經注意到，那些記錄是從最近到最遠的抽籤順序排列的。在接下來的幾個步驟中，我們將反轉順序。\n",
    "\n",
    "對象ws.range(「A2:N{row}」.format(row=last_row))是一個Range對象。將api屬性追加給它之後，\n",
    "會生成一個VBA Range對象，該對象反過來又可以訪問它的VBA特性。\n",
    "\n",
    "我們將使用這個VBA對象的Sort屬性。在它的最簡單的應用程式中，Sort接受兩個參數:\n",
    "對表排序所使用的列(作為一個VBA Range對象)和排序類型(無論希望按升序還是降序排序)。\n",
    "第二個參數的參數文檔可以在這裡看到。我們將按升序進行排序。"
   ]
  },
  {
   "cell_type": "markdown",
   "metadata": {},
   "source": [
    "### 排序"
   ]
  },
  {
   "cell_type": "code",
   "execution_count": 120,
   "metadata": {},
   "outputs": [
    {
     "data": {
      "text/plain": [
       "True"
      ]
     },
     "execution_count": 120,
     "metadata": {},
     "output_type": "execute_result"
    }
   ],
   "source": [
    "sht.range('A2').options(expand='table').api.Sort(Key1=sht.range(\"C:C\").api, Order2=0,  Header=\"xlNo\")  \n",
    "#依照C欄排序\n",
    "#Order1说明：1代表升序，2代表降序"
   ]
  },
  {
   "cell_type": "code",
   "execution_count": 69,
   "metadata": {
    "scrolled": true
   },
   "outputs": [
    {
     "data": {
      "text/plain": [
       "<Range [Book6]進銷存!$A$2>"
      ]
     },
     "execution_count": 69,
     "metadata": {},
     "output_type": "execute_result"
    }
   ],
   "source": [
    "sht.range('A2').options(expand='table')"
   ]
  },
  {
   "cell_type": "code",
   "execution_count": 117,
   "metadata": {},
   "outputs": [
    {
     "data": {
      "text/plain": [
       "True"
      ]
     },
     "execution_count": 117,
     "metadata": {},
     "output_type": "execute_result"
    }
   ],
   "source": [
    "\n",
    "sht.range('C2').api.Sort(Key1=sht.range(\"D2\").api, Order1=2,\n",
    "                         Key2=sht.range(\"E2\").api, Order2=2,\n",
    "                         Key3=sht.range(\"C2\").api, Order3=2,\n",
    "                         Header=\"xlYes\") \n",
    "#依照C欄排序\n",
    "#Order1说明：1代表升序，2代表降序"
   ]
  },
  {
   "cell_type": "code",
   "execution_count": 121,
   "metadata": {},
   "outputs": [
    {
     "data": {
      "text/plain": [
       "True"
      ]
     },
     "execution_count": 121,
     "metadata": {},
     "output_type": "execute_result"
    }
   ],
   "source": [
    "#排序\n",
    "sht.range('C2').api.Sort(Key1=sht.range(\"C2\").api, Order1=2)"
   ]
  },
  {
   "cell_type": "code",
   "execution_count": 107,
   "metadata": {
    "scrolled": true
   },
   "outputs": [
    {
     "data": {
      "text/plain": [
       "True"
      ]
     },
     "execution_count": 107,
     "metadata": {},
     "output_type": "execute_result"
    }
   ],
   "source": [
    "sht.range('A2:I1234').api.Sort(Key1=sht.range(\"C2\").api, Order1=2,\n",
    "                         Key2=sht.range(\"D2\").api, Order2=1,\n",
    "                         Key3=sht.range(\"E2\").api, Order3=1,\n",
    "                         Header=\"xlYes\") "
   ]
  },
  {
   "cell_type": "code",
   "execution_count": null,
   "metadata": {},
   "outputs": [],
   "source": []
  },
  {
   "cell_type": "code",
   "execution_count": null,
   "metadata": {},
   "outputs": [],
   "source": [
    "DA"
   ]
  },
  {
   "cell_type": "markdown",
   "metadata": {},
   "source": [
    "# 公式下拉\n",
    "在第一個單元格中插入公式後，在常規的Excel工作流中，第二個特性是通過表的末尾自動填充其餘單元格。"
   ]
  },
  {
   "cell_type": "markdown",
   "metadata": {},
   "source": [
    "### 法一：用迴圈\n",
    "缺點：1.要到哪一列得自己設定 2.公式不會留著會被貼上值"
   ]
  },
  {
   "cell_type": "code",
   "execution_count": 21,
   "metadata": {},
   "outputs": [],
   "source": [
    "import xlwings as xw\n",
    "\n",
    "wb = xw.Book(r'C:\\Users\\11004076\\Documents\\Python Scripts\\4_Automation\\Book1.xlsx')\n",
    "sheet1 = wb.sheets['Sheet1']\n",
    "\n",
    "for i in range(3, 100):   \n",
    "    price_today = sheet1.cells(i, \"B\").value  # 到 B 欄截取今日收盤價\n",
    "    price_yesterday = sheet1.cells(i-1, \"B\").value  # 到 B 欄截取迭代到的上一個 row, 也就是昨日收盤價\n",
    "    daily_return = (price_today - price_yesterday) / price_yesterday  # 算出該筆資料的日報酬率了   \n",
    "    sheet1.cells(i, \"C\").value = daily_return   # 最後再將算出的日報酬率寫入同一列，欄為 C 的儲存格"
   ]
  },
  {
   "cell_type": "markdown",
   "metadata": {},
   "source": [
    "### 法二：Autofill\n",
    "在第一個單元格中插入公式後，在常規的Excel工作流中，第二個特性是通過表的末尾自動填充其餘單元格。\n",
    "Autofill是VBA Range對象的一個方法。它接受兩個參數，即一個將目標單元格作為參數的VBA Range對象和填充類型。\n",
    "我們感興趣的是枚舉為0的默認值。"
   ]
  },
  {
   "cell_type": "code",
   "execution_count": 7,
   "metadata": {},
   "outputs": [
    {
     "data": {
      "text/plain": [
       "True"
      ]
     },
     "execution_count": 7,
     "metadata": {},
     "output_type": "execute_result"
    }
   ],
   "source": [
    "import xlwings as xw\n",
    "\n",
    "wb = xw.Book(r'C:\\Users\\11004076\\Documents\\Python Scripts\\4_Automation\\Book1.xlsx')\n",
    "sheet2 = wb.sheets['Sheet2']\n",
    "\n",
    "sheet2.range(\"C3\").value = \"=(B3-B2)/B2\"\n",
    "\n",
    "sheet2.range(\"C3\").api.AutoFill(\n",
    "    sheet2.range(\"C3:C{row}\".format(row=sheet2.range(\"B1\").end('down').row)).api,\n",
    "    0\n",
    ")"
   ]
  },
  {
   "cell_type": "markdown",
   "metadata": {},
   "source": [
    "# 上色\n",
    "若當天報酬率是大於0，就把底色換成紅色；\n",
    "相對的，若當天報酬率是小於0，就把底色換成綠色："
   ]
  },
  {
   "cell_type": "code",
   "execution_count": 23,
   "metadata": {},
   "outputs": [],
   "source": [
    "for i in range(3, 100):\n",
    "    daily_return = sheet1.cells(i, 'C').value\n",
    "    \n",
    "    if daily_return > 0:  # 若該筆資料的日報酬率是上漲的 (大於 0)  \n",
    "        sheet1.cells(i, 'C').color = (255, 0, 0)  # 就把該儲存格的底色換成紅色   \n",
    "    elif daily_return < 0:  # 若該筆資料的日報酬率是下跌的 (小於 0)\n",
    "        sheet1.cells(i, 'C').color = (0, 255 , 0)  # 就把該儲存格的底色換成綠色"
   ]
  },
  {
   "cell_type": "code",
   "execution_count": null,
   "metadata": {},
   "outputs": [],
   "source": []
  },
  {
   "cell_type": "code",
   "execution_count": null,
   "metadata": {},
   "outputs": [],
   "source": []
  },
  {
   "cell_type": "code",
   "execution_count": null,
   "metadata": {},
   "outputs": [],
   "source": []
  },
  {
   "cell_type": "code",
   "execution_count": null,
   "metadata": {},
   "outputs": [],
   "source": []
  },
  {
   "cell_type": "code",
   "execution_count": null,
   "metadata": {},
   "outputs": [],
   "source": []
  },
  {
   "cell_type": "code",
   "execution_count": null,
   "metadata": {},
   "outputs": [],
   "source": []
  },
  {
   "cell_type": "code",
   "execution_count": null,
   "metadata": {},
   "outputs": [],
   "source": []
  },
  {
   "cell_type": "code",
   "execution_count": null,
   "metadata": {},
   "outputs": [],
   "source": []
  },
  {
   "cell_type": "code",
   "execution_count": null,
   "metadata": {},
   "outputs": [],
   "source": []
  },
  {
   "cell_type": "code",
   "execution_count": null,
   "metadata": {},
   "outputs": [],
   "source": []
  },
  {
   "cell_type": "code",
   "execution_count": 52,
   "metadata": {},
   "outputs": [
    {
     "data": {
      "text/html": [
       "<div>\n",
       "<style scoped>\n",
       "    .dataframe tbody tr th:only-of-type {\n",
       "        vertical-align: middle;\n",
       "    }\n",
       "\n",
       "    .dataframe tbody tr th {\n",
       "        vertical-align: top;\n",
       "    }\n",
       "\n",
       "    .dataframe thead th {\n",
       "        text-align: right;\n",
       "    }\n",
       "</style>\n",
       "<table border=\"1\" class=\"dataframe\">\n",
       "  <thead>\n",
       "    <tr style=\"text-align: right;\">\n",
       "      <th></th>\n",
       "      <th>No.</th>\n",
       "      <th>Day</th>\n",
       "      <th>DD</th>\n",
       "      <th>MMM</th>\n",
       "      <th>YYYY</th>\n",
       "      <th>N1</th>\n",
       "      <th>N2</th>\n",
       "      <th>N3</th>\n",
       "      <th>N4</th>\n",
       "      <th>N5</th>\n",
       "      <th>L1</th>\n",
       "      <th>L2</th>\n",
       "      <th>Jackpot</th>\n",
       "      <th>Wins</th>\n",
       "    </tr>\n",
       "  </thead>\n",
       "  <tbody>\n",
       "    <tr>\n",
       "      <th>772</th>\n",
       "      <td>480</td>\n",
       "      <td>Fri</td>\n",
       "      <td>27</td>\n",
       "      <td>Apr</td>\n",
       "      <td>2012</td>\n",
       "      <td>36</td>\n",
       "      <td>43</td>\n",
       "      <td>30</td>\n",
       "      <td>27</td>\n",
       "      <td>20</td>\n",
       "      <td>1</td>\n",
       "      <td>6</td>\n",
       "      <td>36231900</td>\n",
       "      <td>1</td>\n",
       "    </tr>\n",
       "    <tr>\n",
       "      <th>240</th>\n",
       "      <td>1012</td>\n",
       "      <td>Fri</td>\n",
       "      <td>2</td>\n",
       "      <td>Jun</td>\n",
       "      <td>2017</td>\n",
       "      <td>8</td>\n",
       "      <td>42</td>\n",
       "      <td>33</td>\n",
       "      <td>24</td>\n",
       "      <td>10</td>\n",
       "      <td>9</td>\n",
       "      <td>3</td>\n",
       "      <td>134808762</td>\n",
       "      <td>1</td>\n",
       "    </tr>\n",
       "    <tr>\n",
       "      <th>1058</th>\n",
       "      <td>194</td>\n",
       "      <td>Fri</td>\n",
       "      <td>26</td>\n",
       "      <td>Oct</td>\n",
       "      <td>2007</td>\n",
       "      <td>20</td>\n",
       "      <td>7</td>\n",
       "      <td>38</td>\n",
       "      <td>40</td>\n",
       "      <td>43</td>\n",
       "      <td>8</td>\n",
       "      <td>1</td>\n",
       "      <td>19424115</td>\n",
       "      <td>0</td>\n",
       "    </tr>\n",
       "    <tr>\n",
       "      <th>740</th>\n",
       "      <td>512</td>\n",
       "      <td>Fri</td>\n",
       "      <td>17</td>\n",
       "      <td>Aug</td>\n",
       "      <td>2012</td>\n",
       "      <td>19</td>\n",
       "      <td>25</td>\n",
       "      <td>33</td>\n",
       "      <td>44</td>\n",
       "      <td>28</td>\n",
       "      <td>8</td>\n",
       "      <td>2</td>\n",
       "      <td>21173767</td>\n",
       "      <td>0</td>\n",
       "    </tr>\n",
       "    <tr>\n",
       "      <th>410</th>\n",
       "      <td>842</td>\n",
       "      <td>Fri</td>\n",
       "      <td>16</td>\n",
       "      <td>Oct</td>\n",
       "      <td>2015</td>\n",
       "      <td>28</td>\n",
       "      <td>43</td>\n",
       "      <td>7</td>\n",
       "      <td>48</td>\n",
       "      <td>29</td>\n",
       "      <td>3</td>\n",
       "      <td>10</td>\n",
       "      <td>11035500</td>\n",
       "      <td>0</td>\n",
       "    </tr>\n",
       "  </tbody>\n",
       "</table>\n",
       "</div>"
      ],
      "text/plain": [
       "       No.   Day  DD  MMM  YYYY   N1  N2  N3  N4  N5  L1  L2    Jackpot  \\\n",
       "772    480   Fri  27  Apr  2012   36  43  30  27  20   1   6   36231900   \n",
       "240   1012   Fri   2  Jun  2017    8  42  33  24  10   9   3  134808762   \n",
       "1058   194   Fri  26  Oct  2007   20   7  38  40  43   8   1   19424115   \n",
       "740    512   Fri  17  Aug  2012   19  25  33  44  28   8   2   21173767   \n",
       "410    842   Fri  16  Oct  2015   28  43   7  48  29   3  10   11035500   \n",
       "\n",
       "         Wins  \n",
       "772         1  \n",
       "240         1  \n",
       "1058        0  \n",
       "740         0  \n",
       "410         0  "
      ]
     },
     "execution_count": 52,
     "metadata": {},
     "output_type": "execute_result"
    }
   ],
   "source": [
    "import pandas as pd\n",
    "import xlwings as xw\n",
    "df = pd.read_csv('euromillions.csv')\n",
    "df.sample(5)"
   ]
  },
  {
   "cell_type": "code",
   "execution_count": 53,
   "metadata": {},
   "outputs": [],
   "source": [
    "wb = xw.Book()\n",
    "ws = wb.sheets[\"Sheet1\"]\n",
    "ws.name = \"EuroMillions\"\n",
    "ws.range(\"A1\").options(index=False).value = df"
   ]
  },
  {
   "cell_type": "code",
   "execution_count": 54,
   "metadata": {},
   "outputs": [
    {
     "name": "stdout",
     "output_type": "stream",
     "text": [
      "The last row is 1253.\n",
      "The DataFrame df has 1252 rows.\n"
     ]
    }
   ],
   "source": [
    "last_row = ws.range(1,1).end('down').row\n",
    "print(\"The last row is {row}.\".format(row=last_row))\n",
    "print(\"The DataFrame df has {rows} rows.\".format(rows=df.shape[0]))"
   ]
  },
  {
   "cell_type": "code",
   "execution_count": 55,
   "metadata": {},
   "outputs": [
    {
     "data": {
      "text/plain": [
       "True"
      ]
     },
     "execution_count": 55,
     "metadata": {},
     "output_type": "execute_result"
    }
   ],
   "source": [
    "ws.range(\n",
    "\"A2:N{row}\".format(row=last_row)\n",
    ").api.Sort(Key1=ws.range(\"A:A\").api, Order1=1)"
   ]
  },
  {
   "cell_type": "code",
   "execution_count": 56,
   "metadata": {},
   "outputs": [],
   "source": [
    "ws.range(\"O1\").value = \"Date\"\n",
    "ws.range(\"O2\").value = \"=C2&D2&RIGHT(E2, 2)\""
   ]
  },
  {
   "cell_type": "code",
   "execution_count": 57,
   "metadata": {},
   "outputs": [
    {
     "data": {
      "text/plain": [
       "True"
      ]
     },
     "execution_count": 57,
     "metadata": {},
     "output_type": "execute_result"
    }
   ],
   "source": [
    "ws.range(\"O2\").api.AutoFill(\n",
    "ws.range(\"O2:O{row}\".format(row=last_row)).api,\n",
    "0\n",
    ")"
   ]
  },
  {
   "cell_type": "code",
   "execution_count": null,
   "metadata": {},
   "outputs": [],
   "source": [
    "我們還可以使用所需填充類型的命名形式。為此，我們需要從模塊xlwings.constants中檢索它，該模塊包含大多數VBA屬性的枚舉參數的命名版本。\n",
    "您可以經常通過列印dir(xlwings.constants)來檢查可用的屬性。\n",
    "\n",
    "(如果您不熟悉它，dir是一個本地Python函數，可以接受多種參數(模塊、類和常規對象(如列表和字符串))。\n",
    " 例如，如果您列印dir(some_list)，它將為您輸出您可以通過列表使用的所有方法和屬性。\n",
    "\n",
    "我們在上面所做的也可以通過下面的代碼片段來實現。"
   ]
  },
  {
   "cell_type": "code",
   "execution_count": 58,
   "metadata": {},
   "outputs": [
    {
     "data": {
      "text/plain": [
       "True"
      ]
     },
     "execution_count": 58,
     "metadata": {},
     "output_type": "execute_result"
    }
   ],
   "source": [
    "from xlwings.constants import AutoFillType\n",
    "ws.range(\"O2\").api.AutoFill(\n",
    "ws.range(\"O2:O{row}\".format(row=last_row)).api,\n",
    "    AutoFillType.xlFillDefault\n",
    ")"
   ]
  },
  {
   "cell_type": "code",
   "execution_count": null,
   "metadata": {},
   "outputs": [],
   "source": [
    "由於我們將經常使用這個操作，我們將創建一個應用默認填充的函數，給定:\n",
    "\n",
    "一個工作表\n",
    "一個表示工作表中單元格的字符串\n",
    "一個需要填充的末尾行。\n",
    "為此，我們將引入一個名為get_address的新的Range方法。它接受四個布爾參數並返回一個字符串，\n",
    "該字符串標識不同詳細級別的範圍。下面是這個方法的一個很有啟發性的說明。\n"
   ]
  },
  {
   "cell_type": "code",
   "execution_count": 43,
   "metadata": {},
   "outputs": [
    {
     "ename": "IndentationError",
     "evalue": "expected an indented block (<ipython-input-43-225b191b5f1a>, line 2)",
     "output_type": "error",
     "traceback": [
      "\u001b[1;36m  File \u001b[1;32m\"<ipython-input-43-225b191b5f1a>\"\u001b[1;36m, line \u001b[1;32m2\u001b[0m\n\u001b[1;33m    for arg3 in (0,1):\u001b[0m\n\u001b[1;37m      ^\u001b[0m\n\u001b[1;31mIndentationError\u001b[0m\u001b[1;31m:\u001b[0m expected an indented block\n"
     ]
    }
   ],
   "source": [
    "for arg4 in (0, 1):\n",
    "for arg3 in (0,1):\n",
    "for arg2 in (0,1):\n",
    "for arg1 in (0,1):\n",
    "print(ws.range(\"O2\").get_address(arg1, arg2, arg3, arg4))"
   ]
  },
  {
   "cell_type": "markdown",
   "metadata": {},
   "source": [
    "![Image of Yaktocat](https://twgreatdaily.com/images/elastic/-4b/-4bzyG0BMH2_cNUgg98Z.jpg)"
   ]
  },
  {
   "cell_type": "code",
   "execution_count": null,
   "metadata": {},
   "outputs": [],
   "source": [
    "現在我們來定義函數。"
   ]
  },
  {
   "cell_type": "code",
   "execution_count": 59,
   "metadata": {},
   "outputs": [],
   "source": [
    "def autofill(worksheet, cell, last_row):\n",
    "   rg_cell = worksheet.range(cell)\n",
    "   to_fill = \"{col}{top_row}:{col}{last_row}\".format(\n",
    "      col=rg_cell.get_address(0,0)[0],\n",
    "      top_row=rg_cell.row,\n",
    "      last_row=last_row\n",
    "   )\n",
    "   rg_cell.api.Autofill(worksheet.range(to_fill).api, 0)"
   ]
  },
  {
   "cell_type": "code",
   "execution_count": null,
   "metadata": {},
   "outputs": [],
   "source": [
    "為了避免Excel進行不必要的計算，我們將使用硬編碼的值替換剛才插入到列O中的公式。\n",
    "在此之前，讓我們花點時間思考一下當Range是一個數組時，Range.value是什麼類型的Python對象。"
   ]
  },
  {
   "cell_type": "code",
   "execution_count": 60,
   "metadata": {},
   "outputs": [
    {
     "name": "stdout",
     "output_type": "stream",
     "text": [
      "<class 'list'>\n"
     ]
    }
   ],
   "source": [
    "print(type(ws.range(\"O2:O{row}\".format(row=last_row)).value))"
   ]
  },
  {
   "cell_type": "code",
   "execution_count": null,
   "metadata": {},
   "outputs": [],
   "source": [
    "它是一個列表。我們來看它的前十個元素。"
   ]
  },
  {
   "cell_type": "code",
   "execution_count": 61,
   "metadata": {
    "scrolled": true
   },
   "outputs": [
    {
     "name": "stdout",
     "output_type": "stream",
     "text": [
      "['13Feb04', '20Feb04', '27Feb04', '5Mar04', '12Mar04', '19Mar04', '26Mar04', '2Apr04', '9Apr04', '16Apr04']\n"
     ]
    }
   ],
   "source": [
    "print(ws.range('O2:O{row}'.format(row=last_row)).value[:10])"
   ]
  },
  {
   "cell_type": "code",
   "execution_count": null,
   "metadata": {},
   "outputs": [],
   "source": [
    "如果我們將這個列表插入到任何範圍中，它將會水平放置值，這不是我們想要的。\n",
    "為了將它們垂直放置，我們需要使用Range對象的options方法，並將transpose=True選項作為一個參數，如下所示:"
   ]
  },
  {
   "cell_type": "code",
   "execution_count": 62,
   "metadata": {},
   "outputs": [],
   "source": [
    "#貼上值\n",
    "ws.range('O2').options(transpose=True).value\\\n",
    "= ws.range('O2:O{row}'.format(row=last_row)).value"
   ]
  },
  {
   "cell_type": "code",
   "execution_count": null,
   "metadata": {},
   "outputs": [],
   "source": [
    "現在我們可以刪除列C到E。"
   ]
  },
  {
   "cell_type": "code",
   "execution_count": 63,
   "metadata": {},
   "outputs": [
    {
     "data": {
      "text/plain": [
       "True"
      ]
     },
     "execution_count": 63,
     "metadata": {},
     "output_type": "execute_result"
    }
   ],
   "source": [
    "ws.range('C:E').api.Delete()"
   ]
  },
  {
   "cell_type": "code",
   "execution_count": null,
   "metadata": {},
   "outputs": [],
   "source": [
    "EuroMillions格式多年來經歷了一些溫和的修改，最後一次修改是在2016年9月24日。\n",
    "\n",
    "從2016年9月24日起，幸運星的數量從11個數字變為12個數字。為了進行有意義的分析，我們只考慮在最後修改之後進行的抽獎。\n",
    "下一個代碼片段將查找修改之前的最後一次抽獎，並將其命名為to_delete。"
   ]
  },
  {
   "cell_type": "code",
   "execution_count": 67,
   "metadata": {},
   "outputs": [
    {
     "data": {
      "text/plain": [
       "<Range [Book4]EuroMillions!$L$2:$L$1253>"
      ]
     },
     "execution_count": 67,
     "metadata": {},
     "output_type": "execute_result"
    }
   ],
   "source": [
    "ws.range('L2:L{}'.format(last_row))"
   ]
  },
  {
   "cell_type": "code",
   "execution_count": 70,
   "metadata": {},
   "outputs": [],
   "source": [
    "import datetime\n",
    "\n",
    "for day in ws.range('L2:L{}'.format(last_row)):  # checks if day is not prior to the change of the rules\n",
    "    if day.value <= datetime.datetime(2016, 9, 24, 0, 0):\n",
    "        # since day is past the modification date,\n",
    "        # the row we want is the previous one, hence minus 1\n",
    "        to_delete = int(day.get_address(0, 0)[1:])-1\n",
    "        # leave the for cycle\n",
    "        break"
   ]
  },
  {
   "cell_type": "code",
   "execution_count": null,
   "metadata": {},
   "outputs": [],
   "source": [
    "我們現在可以刪除從第一次抽獎到to_delete的每一行。"
   ]
  },
  {
   "cell_type": "code",
   "execution_count": 51,
   "metadata": {},
   "outputs": [
    {
     "data": {
      "text/plain": [
       "1"
      ]
     },
     "execution_count": 51,
     "metadata": {},
     "output_type": "execute_result"
    }
   ],
   "source": [
    "to_delete"
   ]
  },
  {
   "cell_type": "code",
   "execution_count": 50,
   "metadata": {},
   "outputs": [
    {
     "data": {
      "text/plain": [
       "True"
      ]
     },
     "execution_count": 50,
     "metadata": {},
     "output_type": "execute_result"
    }
   ],
   "source": [
    "ws.range('2:{}'.format(to_delete)).api.Delete()"
   ]
  },
  {
   "cell_type": "code",
   "execution_count": null,
   "metadata": {},
   "outputs": [],
   "source": [
    "這是我們目前的情況，此時:"
   ]
  },
  {
   "cell_type": "code",
   "execution_count": null,
   "metadata": {},
   "outputs": [],
   "source": [
    "在完成數據準備之後，我們現在將格式化這個表。我們首先將第一行的字體設置為粗體。"
   ]
  },
  {
   "cell_type": "code",
   "execution_count": 72,
   "metadata": {},
   "outputs": [],
   "source": [
    "ws.range('1:1').api.Font.Bold = True"
   ]
  },
  {
   "cell_type": "code",
   "execution_count": null,
   "metadata": {},
   "outputs": [],
   "source": [
    "我們可以按此操作將「Jackpot」列以百萬為單位進行格式化。請注意，下面的字符串格式取決於您機器的本地區域設置。\n",
    "如果您的格式看起來很奇怪，試著用圓點替換逗號。更多關於Excel自定義格式的內容，請查看這裡。\n",
    "（地址：https://exceljet.net/custom-number-formats ）"
   ]
  },
  {
   "cell_type": "code",
   "execution_count": 75,
   "metadata": {},
   "outputs": [],
   "source": [
    "#自訂數值格式\n",
    "ws.range('J:J').number_format = \"#!.0,萬\""
   ]
  },
  {
   "cell_type": "code",
   "execution_count": null,
   "metadata": {},
   "outputs": [],
   "source": [
    "作為後續工作的輔助步驟，我們將找到與最後一列數據對應的字母。"
   ]
  },
  {
   "cell_type": "code",
   "execution_count": 77,
   "metadata": {},
   "outputs": [
    {
     "data": {
      "text/plain": [
       "'L'"
      ]
     },
     "execution_count": 77,
     "metadata": {},
     "output_type": "execute_result"
    }
   ],
   "source": [
    "last_column = ws.range(1,1).end('right').get_address(0,0)[0]\n",
    "last_column"
   ]
  },
  {
   "cell_type": "code",
   "execution_count": null,
   "metadata": {},
   "outputs": [],
   "source": [
    "現在，我們在header單元格的底部添加邊框。與我們所做的類似，我們將使用api屬性。\n",
    "此外，我們還將需要Range對象的Border屬性、邊框對齊枚舉和邊框樣式。\n",
    "我們將在header單元格的底部設置一個雙邊邊框(行樣式-4119，對齊方式9)。"
   ]
  },
  {
   "cell_type": "code",
   "execution_count": 85,
   "metadata": {},
   "outputs": [],
   "source": [
    "ws.range('A1:{}1'.format(last_column)).api.Borders(9).LineStyle = -4119"
   ]
  },
  {
   "cell_type": "code",
   "execution_count": null,
   "metadata": {},
   "outputs": [],
   "source": [
    "現在讓我們對行和列進行自動調整。"
   ]
  },
  {
   "cell_type": "code",
   "execution_count": 81,
   "metadata": {},
   "outputs": [],
   "source": [
    "ws.autofit()"
   ]
  },
  {
   "cell_type": "code",
   "execution_count": null,
   "metadata": {},
   "outputs": [],
   "source": [
    "哎呦!這看起來有點壓扁了，讓我們設置所有列的寬度為J列的寬度，這似乎是最大的值。\n",
    "這裡（https://docs.microsoft.com/en-us/office/vba/api/excel.range.columnwidth ） 是我們下面正在使用的ColumnWidth的文檔。"
   ]
  },
  {
   "cell_type": "code",
   "execution_count": 82,
   "metadata": {},
   "outputs": [],
   "source": [
    "ws.range('A:L').api.ColumnWidth = ws.range('J:J').api.ColumnWidth"
   ]
  },
  {
   "cell_type": "code",
   "execution_count": null,
   "metadata": {},
   "outputs": [],
   "source": [
    "那樣看起來更好一點。這個工作表我們就處理完成了!\n",
    "\n",
    "讓我們add一個名為Frequencies的新空白工作表，並將其分配給Python變量frequencies。"
   ]
  },
  {
   "cell_type": "code",
   "execution_count": 86,
   "metadata": {},
   "outputs": [],
   "source": [
    "wb.sheets.add('Frequencies')\n",
    "frequencies = wb.sheets['Frequencies']"
   ]
  },
  {
   "cell_type": "code",
   "execution_count": null,
   "metadata": {},
   "outputs": [],
   "source": [
    "我們將在這個工作表中填入我們剛剛在EuroMillions工作表中處理過的數據集中每個數字和每個幸運星的絕對頻率。"
   ]
  },
  {
   "cell_type": "code",
   "execution_count": 87,
   "metadata": {},
   "outputs": [],
   "source": [
    "# add a header for the numbers\n",
    "frequencies.range('A1').value = 'Number'\n",
    "# populate the fifty cells immediately below with the numbers 1 through 50\n",
    "# since we're starting from the second row, we'll want to substract 1 from the row\n",
    "frequencies.range('A2:A51').value = '=ROW()-1'  #公式:當前列數-1→製造序列"
   ]
  },
  {
   "cell_type": "code",
   "execution_count": null,
   "metadata": {},
   "outputs": [],
   "source": [
    "下面，我們將為單元格B1中的頻率插入一個header，在單元格B2中，我們將輸入一個公式，計算A2中的值在C2:G201範圍內出現的次數。\n",
    "換句話說，我們將計算1在N1-N5列中出現的次數。在此之後，我們將自動填充B列上的其餘單元格，以對它們各自的行執行相同的操作。"
   ]
  },
  {
   "cell_type": "code",
   "execution_count": 89,
   "metadata": {},
   "outputs": [],
   "source": [
    "# add a header for the frequencies\n",
    "frequencies.range('B1').value = 'Frequency'\n",
    "# insert on B2 the result of a standard Excel formula\n",
    "frequencies.range('B2').value = '=COUNTIF(Euromillions!$C$2:$G$201,Frequencies!A2)'\n",
    "autofill(frequencies, 'B2', 51)  #前面的def function"
   ]
  },
  {
   "cell_type": "code",
   "execution_count": null,
   "metadata": {},
   "outputs": [],
   "source": [
    "我們對幸運星也執行同樣的操作:"
   ]
  },
  {
   "cell_type": "code",
   "execution_count": 91,
   "metadata": {},
   "outputs": [],
   "source": [
    "frequencies.range('D1').value = 'Lucky Star'\n",
    "frequencies.range('E1').value = 'Frequency'\n",
    "frequencies.range('D2:D13').value = '=ROW()-1'\n",
    "frequencies.range('E2').value =\\   #(\\):可以換行繼續輸入\n",
    "'=COUNTIF(EuroMillions!$H$2:$I$201,Frequencies!D2)'\n",
    "autofill(frequencies, 'E2', 13)\n",
    "frequencies.autofit()"
   ]
  },
  {
   "cell_type": "code",
   "execution_count": null,
   "metadata": {},
   "outputs": [],
   "source": [
    "此時，我們的新工作表看起來應該像這樣："
   ]
  },
  {
   "cell_type": "code",
   "execution_count": null,
   "metadata": {},
   "outputs": [],
   "source": [
    "我們正在接近我們的目標。讓我們創建一個名為Graphs的工作表。"
   ]
  },
  {
   "cell_type": "code",
   "execution_count": 99,
   "metadata": {},
   "outputs": [],
   "source": [
    "wb.sheets.add('Graphs')\n",
    "graphs = wb.sheets['Graphs']"
   ]
  },
  {
   "cell_type": "code",
   "execution_count": null,
   "metadata": {},
   "outputs": [],
   "source": [
    "現在我們將創建一個Chart對象。這只會產生一個空白的白框，但是不要擔心!我們稍後會用這個方框來圖表化我們的數據。"
   ]
  },
  {
   "cell_type": "code",
   "execution_count": 117,
   "metadata": {},
   "outputs": [],
   "source": [
    "nr_freq = xw.Chart()"
   ]
  },
  {
   "cell_type": "code",
   "execution_count": null,
   "metadata": {},
   "outputs": [],
   "source": [
    "我們可以像name工作表一樣來命名圖表。方法set_source_data允許我們通過傳入一個範圍對象來定義我們圖表的數據源。"
   ]
  },
  {
   "cell_type": "code",
   "execution_count": 118,
   "metadata": {},
   "outputs": [],
   "source": [
    "nr_freq.name = 'Number Frequencies'\n",
    "nr_freq.set_source_data(frequencies.range('Frequencies!B1:B51'))"
   ]
  },
  {
   "cell_type": "code",
   "execution_count": null,
   "metadata": {},
   "outputs": [],
   "source": [
    "Excel將嘗試猜測x軸應該是什麼，但我們可以使用VBA Chart方法FullSeriesCollection來強制讓它成為我們在Frequencies上創建的數字。\n",
    "我們可以通過使用nr_freq.api索引1的對象來編輯圖表:"
   ]
  },
  {
   "cell_type": "code",
   "execution_count": 124,
   "metadata": {},
   "outputs": [
    {
     "ename": "com_error",
     "evalue": "(-2147352570, '不明的名稱。', None, None)",
     "output_type": "error",
     "traceback": [
      "\u001b[1;31m---------------------------------------------------------------------------\u001b[0m",
      "\u001b[1;31mAttributeError\u001b[0m                            Traceback (most recent call last)",
      "\u001b[1;32m~\\Anaconda3\\lib\\site-packages\\xlwings\\_xlwindows.py\u001b[0m in \u001b[0;36m__getattr__\u001b[1;34m(self, item)\u001b[0m\n\u001b[0;32m    116\u001b[0m             \u001b[1;32mtry\u001b[0m\u001b[1;33m:\u001b[0m\u001b[1;33m\u001b[0m\u001b[1;33m\u001b[0m\u001b[0m\n\u001b[1;32m--> 117\u001b[1;33m                 \u001b[0mv\u001b[0m \u001b[1;33m=\u001b[0m \u001b[0mgetattr\u001b[0m\u001b[1;33m(\u001b[0m\u001b[0mself\u001b[0m\u001b[1;33m.\u001b[0m\u001b[0m_inner\u001b[0m\u001b[1;33m,\u001b[0m \u001b[0mitem\u001b[0m\u001b[1;33m)\u001b[0m\u001b[1;33m\u001b[0m\u001b[1;33m\u001b[0m\u001b[0m\n\u001b[0m\u001b[0;32m    118\u001b[0m                 \u001b[0mt\u001b[0m \u001b[1;33m=\u001b[0m \u001b[0mtype\u001b[0m\u001b[1;33m(\u001b[0m\u001b[0mv\u001b[0m\u001b[1;33m)\u001b[0m\u001b[1;33m\u001b[0m\u001b[1;33m\u001b[0m\u001b[0m\n",
      "\u001b[1;32m~\\Anaconda3\\lib\\site-packages\\win32com\\client\\dynamic.py\u001b[0m in \u001b[0;36m__getattr__\u001b[1;34m(self, attr)\u001b[0m\n\u001b[0;32m    526\u001b[0m                 \u001b[1;31m# no where else to look.\u001b[0m\u001b[1;33m\u001b[0m\u001b[1;33m\u001b[0m\u001b[1;33m\u001b[0m\u001b[0m\n\u001b[1;32m--> 527\u001b[1;33m                 \u001b[1;32mraise\u001b[0m \u001b[0mAttributeError\u001b[0m\u001b[1;33m(\u001b[0m\u001b[1;34m\"%s.%s\"\u001b[0m \u001b[1;33m%\u001b[0m \u001b[1;33m(\u001b[0m\u001b[0mself\u001b[0m\u001b[1;33m.\u001b[0m\u001b[0m_username_\u001b[0m\u001b[1;33m,\u001b[0m \u001b[0mattr\u001b[0m\u001b[1;33m)\u001b[0m\u001b[1;33m)\u001b[0m\u001b[1;33m\u001b[0m\u001b[1;33m\u001b[0m\u001b[0m\n\u001b[0m\u001b[0;32m    528\u001b[0m \u001b[1;33m\u001b[0m\u001b[0m\n",
      "\u001b[1;31mAttributeError\u001b[0m: <unknown>.FullSeriesCollection",
      "\nDuring handling of the above exception, another exception occurred:\n",
      "\u001b[1;31mcom_error\u001b[0m                                 Traceback (most recent call last)",
      "\u001b[1;32m<ipython-input-124-05169048f0cb>\u001b[0m in \u001b[0;36m<module>\u001b[1;34m\u001b[0m\n\u001b[1;32m----> 1\u001b[1;33m \u001b[0mnr_freq\u001b[0m\u001b[1;33m.\u001b[0m\u001b[0mapi\u001b[0m\u001b[1;33m[\u001b[0m\u001b[1;36m1\u001b[0m\u001b[1;33m]\u001b[0m\u001b[1;33m.\u001b[0m\u001b[0mFullSeriesCollection\u001b[0m\u001b[1;33m(\u001b[0m\u001b[1;36m1\u001b[0m\u001b[1;33m)\u001b[0m\u001b[1;33m.\u001b[0m\u001b[0mValue\u001b[0m \u001b[1;33m=\u001b[0m \u001b[1;34m'=Frequencies!A2:A51'\u001b[0m\u001b[1;33m\u001b[0m\u001b[1;33m\u001b[0m\u001b[0m\n\u001b[0m",
      "\u001b[1;32m~\\Anaconda3\\lib\\site-packages\\xlwings\\_xlwindows.py\u001b[0m in \u001b[0;36m__getattr__\u001b[1;34m(self, item)\u001b[0m\n\u001b[0;32m    135\u001b[0m                 \u001b[1;31m# we try to test to see what's going on really\u001b[0m\u001b[1;33m\u001b[0m\u001b[1;33m\u001b[0m\u001b[1;33m\u001b[0m\u001b[0m\n\u001b[0;32m    136\u001b[0m                 \u001b[1;32mtry\u001b[0m\u001b[1;33m:\u001b[0m\u001b[1;33m\u001b[0m\u001b[1;33m\u001b[0m\u001b[0m\n\u001b[1;32m--> 137\u001b[1;33m                     \u001b[0mself\u001b[0m\u001b[1;33m.\u001b[0m\u001b[0m_oleobj_\u001b[0m\u001b[1;33m.\u001b[0m\u001b[0mGetIDsOfNames\u001b[0m\u001b[1;33m(\u001b[0m\u001b[1;36m0\u001b[0m\u001b[1;33m,\u001b[0m \u001b[0mitem\u001b[0m\u001b[1;33m)\u001b[0m\u001b[1;33m\u001b[0m\u001b[1;33m\u001b[0m\u001b[0m\n\u001b[0m\u001b[0;32m    138\u001b[0m                 \u001b[1;32mexcept\u001b[0m \u001b[0mpythoncom\u001b[0m\u001b[1;33m.\u001b[0m\u001b[0mole_error\u001b[0m \u001b[1;32mas\u001b[0m \u001b[0me\u001b[0m\u001b[1;33m:\u001b[0m\u001b[1;33m\u001b[0m\u001b[1;33m\u001b[0m\u001b[0m\n\u001b[0;32m    139\u001b[0m                     \u001b[1;32mif\u001b[0m \u001b[0me\u001b[0m\u001b[1;33m.\u001b[0m\u001b[0mhresult\u001b[0m \u001b[1;33m!=\u001b[0m \u001b[1;33m-\u001b[0m\u001b[1;36m2147418111\u001b[0m\u001b[1;33m:\u001b[0m   \u001b[1;31m# RPC_E_CALL_REJECTED\u001b[0m\u001b[1;33m\u001b[0m\u001b[1;33m\u001b[0m\u001b[0m\n",
      "\u001b[1;31mcom_error\u001b[0m: (-2147352570, '不明的名稱。', None, None)"
     ]
    }
   ],
   "source": [
    "nr_freq.api[1].FullSeriesCollection(1).XValues = '=Frequencies!A2:A51'"
   ]
  },
  {
   "cell_type": "code",
   "execution_count": null,
   "metadata": {},
   "outputs": [],
   "source": [
    "Excel非常擅長猜測用戶想要什麼樣的圖表，但是為了防止它猜錯，我們將強制它成為柱狀圖。\n",
    "這裡列出了各種類型的圖表。唉，將這些圖表與chart_type屬性的可能值連接起來的唯一文檔就是其原始碼本身。"
   ]
  },
  {
   "cell_type": "code",
   "execution_count": 120,
   "metadata": {},
   "outputs": [],
   "source": [
    "nr_freq.chart_type = 'column_clustered'"
   ]
  },
  {
   "cell_type": "code",
   "execution_count": null,
   "metadata": {},
   "outputs": [],
   "source": [
    "現在我們將定義圖表的高度和寬度。度量單位為points。"
   ]
  },
  {
   "cell_type": "code",
   "execution_count": 121,
   "metadata": {},
   "outputs": [],
   "source": [
    "nr_freq.height = 250\n",
    "nr_freq.width = 750"
   ]
  },
  {
   "cell_type": "code",
   "execution_count": null,
   "metadata": {},
   "outputs": [],
   "source": [
    "此時，我們應該會看到:"
   ]
  },
  {
   "cell_type": "code",
   "execution_count": null,
   "metadata": {},
   "outputs": [],
   "source": [
    "使用SetElement方法和參數2一起設置圖表上方的標題。請在這裡查看其它參數。\n",
    "(地址;https://docs.microsoft.com/en-us/dotnet/api/microsoft.office.core.msochartelementtype?view=office-pia )"
   ]
  },
  {
   "cell_type": "code",
   "execution_count": 122,
   "metadata": {},
   "outputs": [],
   "source": [
    "nr_freq.api[1].SetElement(2)  # Place chart title at the top\n",
    "nr_freq.api[1].ChartTitle.Text = 'Number Frequencies'"
   ]
  },
  {
   "cell_type": "code",
   "execution_count": null,
   "metadata": {},
   "outputs": [],
   "source": [
    "我們來添加最後的修飾。我們使用HasLegend屬性刪除圖例。"
   ]
  },
  {
   "cell_type": "code",
   "execution_count": 125,
   "metadata": {},
   "outputs": [],
   "source": [
    "nr_freq.api[1].HasLegend = 0"
   ]
  },
  {
   "cell_type": "code",
   "execution_count": null,
   "metadata": {},
   "outputs": [],
   "source": [
    "我們將xlCategory類別作為參數1傳入給Axes方法，並將TickLabelSpacing屬性設置為1，這確保了圖表軸上的每個元素都被顯示。"
   ]
  },
  {
   "cell_type": "code",
   "execution_count": 126,
   "metadata": {},
   "outputs": [],
   "source": [
    "nr_freq.api[1].Axes(1).TickLabelSpacing = 1"
   ]
  },
  {
   "cell_type": "code",
   "execution_count": null,
   "metadata": {},
   "outputs": [],
   "source": [
    "為了完成對這個圖表的格式化，我們通過將Line對象的Visible屬性設置為0來刪除邊線。"
   ]
  },
  {
   "cell_type": "code",
   "execution_count": 131,
   "metadata": {},
   "outputs": [],
   "source": [
    "graphs.shapes.api('Number Frequencies').Line.Visible = 0"
   ]
  },
  {
   "cell_type": "code",
   "execution_count": null,
   "metadata": {},
   "outputs": [],
   "source": [
    "下面我們對幸運星也做了幾乎同樣的事情。"
   ]
  },
  {
   "cell_type": "code",
   "execution_count": 133,
   "metadata": {},
   "outputs": [],
   "source": [
    "ls_freq = xw.Chart()\n",
    "ls_freq.top = 250\n",
    "ls_freq.name = 'Lucky Star Frequencies'\n",
    "ls_freq.set_source_data(frequencies.range('Frequencies!E1:E13'))\n",
    "#ls_freq.api[1].FullSeriesCollection(1).XValues = '=Frequencies!D2:D13'   #這串會Error\n",
    "ls_freq.chart_type = 'column_clustered'\n",
    "ls_freq.height = 250\n",
    "ls_freq.width = 750\n",
    "ls_freq.api[1].SetElement(2)\n",
    "ls_freq.api[1].ChartTitle.Text = 'Lucky Star Frequencies'\n",
    "ls_freq.api[1].HasLegend = 0\n",
    "ls_freq.api[1].Axes(1).TickLabelSpacing = 1\n",
    "graphs.shapes.api('Lucky Star Frequencies').Line.Visible = 0"
   ]
  },
  {
   "cell_type": "code",
   "execution_count": null,
   "metadata": {},
   "outputs": [],
   "source": [
    "最後，我們創建了一個顯示jackpot演變的時間序列圖。"
   ]
  },
  {
   "cell_type": "code",
   "execution_count": 138,
   "metadata": {},
   "outputs": [],
   "source": [
    "jackpot = xw.Chart()\n",
    "jackpot.top = 500\n",
    "jackpot.name = 'Jackpot'\n",
    "last_row = ws.range(1,1).end('down').row\n",
    "jackpot.set_source_data(ws.range('Euromillions!J2:J{}'.format(last_row)))\n",
    "#jackpot.api[1].FullSeriesCollection(1).XValues= 'Euromillions!L2:L{}'.format(last_row)   #這串會Error\n",
    "jackpot.chart_type = 'line'\n",
    "jackpot.height = 250\n",
    "jackpot.width = 750\n",
    "jackpot.api[1].SetElement(2)\n",
    "jackpot.api[1].ChartTitle.Text = 'Jackpot'\n",
    "jackpot.api[1].HasLegend = 0\n",
    "graphs.shapes.api('Jackpot').Line.Visible = 0"
   ]
  },
  {
   "cell_type": "code",
   "execution_count": null,
   "metadata": {},
   "outputs": [],
   "source": [
    "我們通過將TickLabels的NumberForma屬性設置為期望的外觀來修復垂直軸「labels」的格式。"
   ]
  },
  {
   "cell_type": "code",
   "execution_count": 148,
   "metadata": {},
   "outputs": [],
   "source": [
    "jackpot.api[1].Axes(2).TickLabels.NumberFormat = \"#,萬\""
   ]
  }
 ],
 "metadata": {
  "kernelspec": {
   "display_name": "Python 3",
   "language": "python",
   "name": "python3"
  },
  "language_info": {
   "codemirror_mode": {
    "name": "ipython",
    "version": 3
   },
   "file_extension": ".py",
   "mimetype": "text/x-python",
   "name": "python",
   "nbconvert_exporter": "python",
   "pygments_lexer": "ipython3",
   "version": "3.7.1"
  }
 },
 "nbformat": 4,
 "nbformat_minor": 2
}
