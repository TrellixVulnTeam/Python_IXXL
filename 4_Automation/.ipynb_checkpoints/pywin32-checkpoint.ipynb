{
 "cells": [
  {
   "cell_type": "code",
   "execution_count": null,
   "metadata": {},
   "outputs": [],
   "source": [
    "https://officeguide.cc/python-control-excel-using-pywin32-tutorial/"
   ]
  },
  {
   "cell_type": "code",
   "execution_count": null,
   "metadata": {},
   "outputs": [],
   "source": [
    "如果想在 Windows 中使用 Python 程式操控 Excel，可以使用 pywin32 這個 Python 模組，使用前先依照步驟安裝 pywin32 模組。\n",
    "win32模塊不僅可以操作Excel，還可以操作其他一眾windows的軟件。"
   ]
  },
  {
   "cell_type": "code",
   "execution_count": null,
   "metadata": {},
   "outputs": [],
   "source": [
    "新增 Excel 檔案\n",
    "以下這個範例是使用 Python 操控 Excel，新增一個 Excel 活頁簿，並將資料寫入工作表，最後存檔離開。"
   ]
  },
  {
   "cell_type": "code",
   "execution_count": null,
   "metadata": {},
   "outputs": [],
   "source": [
    "import win32com.client\n",
    "\n",
    "# 取得 Excel COMObject\n",
    "excel = win32com.client.Dispatch('Excel.Application')\n",
    "\n",
    "# 顯示視窗\n",
    "excel.Visible = True\n",
    "\n",
    "# 新增活頁簿\n",
    "newBook = excel.Workbooks.Add()\n",
    "\n",
    "# 取得目前的工作表\n",
    "sheet = newBook.ActiveSheet\n",
    "\n",
    "# 寫入資料\n",
    "sheet.Cells(1, 1).Value = \"Hello!\"\n",
    "sheet.Cells(1, 2).Value = \"Excel.\"\n",
    "\n",
    "# 儲存檔案\n",
    "newBook.SaveAs(\"C:\\\\OfficeGuide\\\\demo.xlsx\")\n",
    "\n",
    "# 關閉活頁簿\n",
    "newBook.Close()\n",
    "\n",
    "# 離開 Excel\n",
    "excel.Application.Quit()"
   ]
  },
  {
   "cell_type": "code",
   "execution_count": null,
   "metadata": {},
   "outputs": [],
   "source": [
    "執行這段程式碼之後，就會建立一個檔名為 demo.xlsx 的 Excel 檔案"
   ]
  },
  {
   "cell_type": "code",
   "execution_count": null,
   "metadata": {},
   "outputs": [],
   "source": []
  },
  {
   "cell_type": "code",
   "execution_count": null,
   "metadata": {},
   "outputs": [],
   "source": [
    "編輯 Excel 檔案\n",
    "以下是使用 Python 開啟上一個範例產生的 Excel 檔案，更改內容、文字顏色、字體的範例："
   ]
  },
  {
   "cell_type": "code",
   "execution_count": null,
   "metadata": {},
   "outputs": [],
   "source": [
    "import win32com.client\n",
    "\n",
    "# 取得 Excel COMObject\n",
    "excel = win32com.client.Dispatch('Excel.Application')\n",
    "\n",
    "# 顯示視窗\n",
    "excel.Visible = True\n",
    "\n",
    "# 開啟 Excel\n",
    "myBook = excel.Workbooks.Open(\"C:\\\\OfficeGuide\\\\demo.xlsx\")\n",
    "\n",
    "# 取得指定的工作表（可用索引或名稱）\n",
    "sheet = myBook.Worksheets(1)\n",
    "#sheet = myBook.Worksheets(\"我的工作表\")\n",
    "\n",
    "# 讀取資料\n",
    "content = sheet.Cells(1, 1).Value\n",
    "print(content)\n",
    "\n",
    "# 寫入資料\n",
    "sheet.Cells(2, 1).Value = \"Edit by Python.\"\n",
    "\n",
    "# 將文字設定為綠色\n",
    "sheet.Cells(2, 1).Font.Color = 0x00FF00\n",
    "\n",
    "# 將文字設定為粗體\n",
    "sheet.Cells(2, 1).Font.Bold = True\n",
    "\n",
    "# 設定文字字型\n",
    "sheet.Cells(2, 1).Font.Name = \"微軟雅黑\"\n",
    "\n",
    "# 儲存檔案\n",
    "myBook.Save\n",
    "\n",
    "# 關閉活頁簿\n",
    "myBook.Close()\n",
    "\n",
    "# 離開 Excel\n",
    "excel.Application.Quit()"
   ]
  },
  {
   "cell_type": "code",
   "execution_count": null,
   "metadata": {},
   "outputs": [],
   "source": [
    "編輯之後的 Excel 檔案會像這樣："
   ]
  },
  {
   "cell_type": "code",
   "execution_count": null,
   "metadata": {},
   "outputs": [],
   "source": []
  },
  {
   "cell_type": "code",
   "execution_count": null,
   "metadata": {},
   "outputs": [],
   "source": []
  }
 ],
 "metadata": {
  "kernelspec": {
   "display_name": "Python 3",
   "language": "python",
   "name": "python3"
  },
  "language_info": {
   "codemirror_mode": {
    "name": "ipython",
    "version": 3
   },
   "file_extension": ".py",
   "mimetype": "text/x-python",
   "name": "python",
   "nbconvert_exporter": "python",
   "pygments_lexer": "ipython3",
   "version": "3.7.1"
  }
 },
 "nbformat": 4,
 "nbformat_minor": 2
}
