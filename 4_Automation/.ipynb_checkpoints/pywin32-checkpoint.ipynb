{
 "cells": [
  {
   "cell_type": "code",
   "execution_count": null,
   "metadata": {},
   "outputs": [],
   "source": [
    "https://officeguide.cc/python-control-excel-using-pywin32-tutorial/"
   ]
  },
  {
   "cell_type": "code",
   "execution_count": null,
   "metadata": {},
   "outputs": [],
   "source": [
    "如果想在 Windows 中使用 Python 程式操控 Excel，可以使用 pywin32 這個 Python 模組，使用前先依照步驟安裝 pywin32 模組。\n",
    "win32模塊不僅可以操作Excel，還可以操作其他一眾windows的軟件。"
   ]
  },
  {
   "cell_type": "code",
   "execution_count": null,
   "metadata": {},
   "outputs": [],
   "source": [
    "# 新增 Excel 檔案\n",
    "以下這個範例是使用 Python 操控 Excel，新增一個 Excel 活頁簿，並將資料寫入工作表，最後存檔離開。"
   ]
  },
  {
   "cell_type": "code",
   "execution_count": 25,
   "metadata": {},
   "outputs": [],
   "source": [
    "import win32com.client\n",
    "\n",
    "# 取得 Excel COMObject\n",
    "excel = win32com.client.Dispatch('Excel.Application')\n",
    "\n",
    "# 顯示視窗\n",
    "excel.Visible = True\n",
    "\n",
    "# 新增活頁簿\n",
    "newBook = excel.Workbooks.Add()\n",
    "\n",
    "# 取得目前的工作表\n",
    "sheet = newBook.ActiveSheet\n",
    "\n",
    "# 寫入資料\n",
    "sheet.Cells(1, 1).Value = \"Hello!\"\n",
    "sheet.Cells(1, 2).Value = \"Excel.\""
   ]
  },
  {
   "cell_type": "code",
   "execution_count": 26,
   "metadata": {},
   "outputs": [],
   "source": [
    "# 儲存檔案\n",
    "newBook.SaveAs(r'C:\\Users\\11004076\\Documents\\Python Scripts\\4_Automation\\demo1.xlsx')\n",
    "\n",
    "# 關閉活頁簿\n",
    "newBook.Close()\n",
    "\n",
    "# 離開 Excel\n",
    "excel.Application.Quit()"
   ]
  },
  {
   "cell_type": "code",
   "execution_count": null,
   "metadata": {},
   "outputs": [],
   "source": []
  },
  {
   "cell_type": "code",
   "execution_count": null,
   "metadata": {},
   "outputs": [],
   "source": [
    "# 編輯 Excel 檔案\n",
    "以下是使用 Python 開啟上一個範例產生的 Excel 檔案，更改內容、文字顏色、字體的範例："
   ]
  },
  {
   "cell_type": "code",
   "execution_count": 27,
   "metadata": {},
   "outputs": [
    {
     "name": "stdout",
     "output_type": "stream",
     "text": [
      "Hello!\n"
     ]
    }
   ],
   "source": [
    "import win32com.client\n",
    "\n",
    "# 取得 Excel COMObject\n",
    "excel = win32com.client.Dispatch('Excel.Application')\n",
    "\n",
    "# 顯示視窗\n",
    "excel.Visible = True\n",
    "\n",
    "# 開啟 Excel\n",
    "myBook = excel.Workbooks.Open(r'C:\\Users\\11004076\\Documents\\Python Scripts\\4_Automation\\demo1.xlsx')\n",
    "\n",
    "# 取得指定的工作表（可用索引或名稱）\n",
    "sheet = myBook.Worksheets(1)\n",
    "#sheet = myBook.Worksheets(\"我的工作表\")\n",
    "\n",
    "# 讀取資料\n",
    "content = sheet.Cells(1, 1).Value\n",
    "print(content)\n",
    "\n",
    "# 寫入資料\n",
    "sheet.Cells(2, 1).Value = \"Edit by Python.\"\n",
    "\n",
    "# 將文字設定為綠色\n",
    "sheet.Cells(2, 1).Font.Color = 0x00FF00\n",
    "\n",
    "# 將文字設定為粗體\n",
    "sheet.Cells(2, 1).Font.Bold = True\n",
    "\n",
    "# 設定文字字型\n",
    "sheet.Cells(2, 1).Font.Name = \"微軟雅黑\"\n",
    "\n"
   ]
  },
  {
   "cell_type": "code",
   "execution_count": 28,
   "metadata": {},
   "outputs": [],
   "source": [
    "# 儲存檔案\n",
    "myBook.SaveAs(r'C:\\Users\\11004076\\Documents\\Python Scripts\\4_Automation\\demo1.xlsx')\n",
    "\n",
    "# 關閉活頁簿\n",
    "myBook.Close()\n",
    "\n",
    "# 離開 Excel\n",
    "excel.Application.Quit()"
   ]
  },
  {
   "cell_type": "code",
   "execution_count": null,
   "metadata": {},
   "outputs": [],
   "source": []
  },
  {
   "cell_type": "code",
   "execution_count": null,
   "metadata": {},
   "outputs": [],
   "source": []
  },
  {
   "cell_type": "code",
   "execution_count": null,
   "metadata": {},
   "outputs": [],
   "source": [
    "https://www.yinglinglow.com/blog/2018/04/29/xlwings-pivot-table"
   ]
  },
  {
   "cell_type": "code",
   "execution_count": 6,
   "metadata": {},
   "outputs": [],
   "source": [
    "import win32com.client\n",
    "Excel   = win32com.client.gencache.EnsureDispatch('Excel.Application') \n",
    "# Excel = win32com.client.Dispatch('Excel.Application')\n",
    "\n",
    "win32c = win32com.client.constants\n",
    "\n",
    "wb = Excel.Workbooks.Add()\n",
    "Sheet1 = wb.Worksheets(\"Sheet1\")\n",
    "\n",
    "TestData = [['Country','Name','Gender','Sign','Amount'],\n",
    "             ['CH','Max' ,'M','Plus',123.4567],\n",
    "             ['CH','Max' ,'M','Minus',-23.4567],\n",
    "             ['CH','Max' ,'M','Plus',12.2314],\n",
    "             ['CH','Max' ,'M','Minus',-2.2314],\n",
    "             ['CH','Sam' ,'M','Plus',453.7685],\n",
    "             ['CH','Sam' ,'M','Minus',-53.7685],\n",
    "             ['CH','Sara','F','Plus',777.666],\n",
    "             ['CH','Sara','F','Minus',-77.666],\n",
    "             ['DE','Hans','M','Plus',345.088],\n",
    "             ['DE','Hans','M','Minus',-45.088],\n",
    "             ['DE','Paul','M','Plus',222.455],\n",
    "             ['DE','Paul','M','Minus',-22.455]]\n",
    "\n",
    "for i, TestDataRow in enumerate(TestData):\n",
    "    for j, TestDataItem in enumerate(TestDataRow):\n",
    "        Sheet1.Cells(i+2,j+4).Value = TestDataItem\n",
    "\n",
    "cl1 = Sheet1.Cells(2,4)\n",
    "cl2 = Sheet1.Cells(2+len(TestData)-1,4+len(TestData[0])-1)\n",
    "PivotSourceRange = Sheet1.Range(cl1,cl2)\n",
    "\n",
    "PivotSourceRange.Select()\n",
    "\n",
    "Sheet2 = wb.Worksheets(2)\n",
    "cl3=Sheet2.Cells(4,1)\n",
    "PivotTargetRange=  Sheet2.Range(cl3,cl3)\n",
    "PivotTableName = 'ReportPivotTable'\n",
    "\n",
    "#PivotCache = wb.PivotCaches().Create(SourceType=win32c.xlDatabase, SourceData=PivotSourceRange, Version=win32c.xlPivotTableVersion14)\n",
    "PivotCache = wb.PivotCaches().Create(SourceType=win32c.xlDatabase, SourceData=PivotSourceRange)\n",
    "\n",
    "#PivotTable = PivotCache.CreatePivotTable(TableDestination=PivotTargetRange, TableName=PivotTableName, DefaultVersion=win32c.xlPivotTableVersion14)\n",
    "PivotTable = PivotCache.CreatePivotTable(TableDestination=PivotTargetRange, TableName=PivotTableName)\n",
    "\n",
    "PivotTable.PivotFields('Name').Orientation = win32c.xlRowField\n",
    "PivotTable.PivotFields('Name').Position = 1\n",
    "PivotTable.PivotFields('Gender').Orientation = win32c.xlPageField\n",
    "PivotTable.PivotFields('Gender').Position = 1\n",
    "PivotTable.PivotFields('Gender').CurrentPage = 'M'\n",
    "PivotTable.PivotFields('Country').Orientation = win32c.xlColumnField\n",
    "PivotTable.PivotFields('Country').Position = 1\n",
    "PivotTable.PivotFields('Country').Subtotals = [False, False, False, False, False, False, False, False, False, False, False, False]\n",
    "PivotTable.PivotFields('Sign').Orientation = win32c.xlColumnField\n",
    "PivotTable.PivotFields('Sign').Position = 2\n",
    "\n",
    "DataField = PivotTable.AddDataField(PivotTable.PivotFields('Amount'))\n",
    "DataField.NumberFormat = '#\\'##0.00'\n",
    "\n",
    "Excel.Visible = 1\n",
    "\n",
    "wb.SaveAs('ranges_and_offsets.xlsx')\n",
    "Excel.Application.Quit()"
   ]
  }
 ],
 "metadata": {
  "kernelspec": {
   "display_name": "Python 3",
   "language": "python",
   "name": "python3"
  },
  "language_info": {
   "codemirror_mode": {
    "name": "ipython",
    "version": 3
   },
   "file_extension": ".py",
   "mimetype": "text/x-python",
   "name": "python",
   "nbconvert_exporter": "python",
   "pygments_lexer": "ipython3",
   "version": "3.7.1"
  }
 },
 "nbformat": 4,
 "nbformat_minor": 2
}
