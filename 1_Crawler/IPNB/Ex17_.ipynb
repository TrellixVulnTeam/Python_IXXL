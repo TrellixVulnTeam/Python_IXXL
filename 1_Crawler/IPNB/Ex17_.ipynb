{
 "cells": [
  {
   "cell_type": "code",
   "execution_count": null,
   "metadata": {},
   "outputs": [],
   "source": [
    "# Youtube影片標題爬蟲"
   ]
  },
  {
   "cell_type": "code",
   "execution_count": 1,
   "metadata": {},
   "outputs": [],
   "source": [
    "import requests\n",
    "from bs4 import BeautifulSoup\n",
    "headers = {'user-agent': 'Mozilla/5.0 (Windows NT 6.1) AppleWebKit/537.36 (KHTML, like Gecko) Chrome/52.0.2743.116 Safari/537.36'}\n",
    "url = 'https://www.youtube.com/channel/UCFdTiwvDjyc62DBWrlYDtlQ/videos?sort=p&view=0&flow=grid'\n",
    "resp = requests.get(url,headers=headers)\n",
    "soup = BeautifulSoup(resp.text, 'lxml')\n",
    "target=soup.find_all('a')\n",
    "#存成txt檔案\n",
    "txt = open('video-title.txt', 'w', encoding = 'UTF-8')\n",
    "for i in target:\n",
    "    f=i.get_text().strip() #取得文字、去除左右的空格\n",
    "    txt.write(f)           #寫入文字\n",
    "    txt.write('\\n')        #換行\n",
    "txt.close()                #關閉檔案"
   ]
  },
  {
   "cell_type": "code",
   "execution_count": null,
   "metadata": {},
   "outputs": [],
   "source": [
    "# Youtube熱門影片標題爬蟲，並存至txt當中"
   ]
  },
  {
   "cell_type": "code",
   "execution_count": 2,
   "metadata": {},
   "outputs": [
    {
     "ename": "IndentationError",
     "evalue": "unexpected indent (<ipython-input-2-533ec60e3190>, line 18)",
     "output_type": "error",
     "traceback": [
      "\u001b[1;36m  File \u001b[1;32m\"<ipython-input-2-533ec60e3190>\"\u001b[1;36m, line \u001b[1;32m18\u001b[0m\n\u001b[1;33m    for i in target:\u001b[0m\n\u001b[1;37m    ^\u001b[0m\n\u001b[1;31mIndentationError\u001b[0m\u001b[1;31m:\u001b[0m unexpected indent\n"
     ]
    }
   ],
   "source": [
    "import requests\n",
    "from bs4 import BeautifulSoup\n",
    "url=\"https://www.youtube.com/feed/trending/\"\n",
    "request=requests.get(url)\n",
    "content=request.content\n",
    "soup=BeautifulSoup(content,\"html.parser\")\n",
    "container = soup.select(\"h3 a\")\n",
    "# 寫入result.txt檔案\n",
    "file = open('result.txt','w')\n",
    "for item in container:\n",
    "    if item:\n",
    "        value = item.get_text()\n",
    "        print(value)\n",
    "        file.write(value+'\\n')\n",
    "file.close()\n",
    "#存成txt檔案\n",
    "txt = open('video-title.txt', 'w', encoding = 'UTF-8')\n",
    "    for i in target:\n",
    "    f=i.get_text().strip() #取得文字、去除左右的空格\n",
    "    txt.write(f)           #寫入文字\n",
    "    txt.write('\\n')        #換行\n",
    "txt.close()                #關閉檔案"
   ]
  },
  {
   "cell_type": "code",
   "execution_count": null,
   "metadata": {},
   "outputs": [],
   "source": []
  }
 ],
 "metadata": {
  "kernelspec": {
   "display_name": "Python 3",
   "language": "python",
   "name": "python3"
  },
  "language_info": {
   "codemirror_mode": {
    "name": "ipython",
    "version": 3
   },
   "file_extension": ".py",
   "mimetype": "text/x-python",
   "name": "python",
   "nbconvert_exporter": "python",
   "pygments_lexer": "ipython3",
   "version": "3.7.1"
  }
 },
 "nbformat": 4,
 "nbformat_minor": 2
}
