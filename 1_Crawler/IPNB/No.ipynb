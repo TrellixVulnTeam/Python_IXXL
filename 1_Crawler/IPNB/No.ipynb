{
 "cells": [
  {
   "cell_type": "code",
   "execution_count": 23,
   "metadata": {},
   "outputs": [],
   "source": [
    "html_doc = \"\"\"\n",
    "<html>\n",
    "  <head>\n",
    "    <title>我是網頁標題</title>\n",
    "    <style>\n",
    "    .large {\n",
    "      color:blue;\n",
    "      text-align: center;\n",
    "    }\n",
    "    </style>\n",
    "  </head>\n",
    "  <body>\n",
    "    <h1 class=\"large\">我是變色且置中的抬頭</h1>\n",
    "    <p id=\"p1\">我是段落一</p>\n",
    "    <p id=\"p2\" style=\"\">我是段落二</p>\n",
    "    <p id=\"p3\" style=\"\">我是段落三</p>\n",
    "    <div><a href='http://blog.castman.net' style=\"font-size:200%;\">我是放大的超連結</a></div>\n",
    "  </body>\n",
    "</html>\n",
    "\"\"\""
   ]
  },
  {
   "cell_type": "code",
   "execution_count": 24,
   "metadata": {},
   "outputs": [
    {
     "name": "stdout",
     "output_type": "stream",
     "text": [
      "\n",
      "<html>\n",
      "<head>\n",
      "<title>我是網頁標題</title>\n",
      "<style>\n",
      "    .large {\n",
      "      color:blue;\n",
      "      text-align: center;\n",
      "    }\n",
      "    </style>\n",
      "</head>\n",
      "<body>\n",
      "<h1 class=\"large\">我是變色且置中的抬頭</h1>\n",
      "<p id=\"p1\">我是段落一</p>\n",
      "<p id=\"p2\" style=\"\">我是段落二</p>\n",
      "<p id=\"p3\" style=\"\">我是段落三</p>\n",
      "<div><a href=\"http://blog.castman.net\" style=\"font-size:200%;\">我是放大的超連結</a></div>\n",
      "</body>\n",
      "</html>\n",
      "\n"
     ]
    }
   ],
   "source": [
    "from bs4 import BeautifulSoup\n",
    "soup = BeautifulSoup(html_doc, 'html.parser')\n",
    "print(soup)"
   ]
  },
  {
   "cell_type": "code",
   "execution_count": null,
   "metadata": {},
   "outputs": [],
   "source": [
    "通過標籤名查找(找所有)：<'p'>"
   ]
  },
  {
   "cell_type": "code",
   "execution_count": 26,
   "metadata": {
    "scrolled": false
   },
   "outputs": [
    {
     "name": "stdout",
     "output_type": "stream",
     "text": [
      "[<p id=\"p1\">我是段落一</p>, <p id=\"p2\" style=\"\">我是段落二</p>, <p id=\"p3\" style=\"\">我是段落三</p>]\n",
      "[<p id=\"p1\">我是段落一</p>, <p id=\"p2\" style=\"\">我是段落二</p>, <p id=\"p3\" style=\"\">我是段落三</p>]\n"
     ]
    }
   ],
   "source": [
    "print(soup.find_all('p'))\n",
    "print(soup.select('p'))"
   ]
  },
  {
   "cell_type": "code",
   "execution_count": null,
   "metadata": {},
   "outputs": [],
   "source": [
    "通過標籤名查找(找一個，只會顯示第一項)：<'p'>"
   ]
  },
  {
   "cell_type": "code",
   "execution_count": 32,
   "metadata": {},
   "outputs": [
    {
     "name": "stdout",
     "output_type": "stream",
     "text": [
      "<p id=\"p1\">我是段落一</p>\n",
      "<p id=\"p1\">我是段落一</p>\n"
     ]
    }
   ],
   "source": [
    "print(soup.find('p'))\n",
    "print(soup.select_one('p'))"
   ]
  },
  {
   "cell_type": "code",
   "execution_count": null,
   "metadata": {},
   "outputs": [],
   "source": [
    "有同樣標籤名時，選擇要查找第幾項"
   ]
  },
  {
   "cell_type": "code",
   "execution_count": 31,
   "metadata": {},
   "outputs": [
    {
     "name": "stdout",
     "output_type": "stream",
     "text": [
      "<p id=\"p3\" style=\"\">我是段落三</p>\n",
      "<p id=\"p1\">我是段落一</p>\n"
     ]
    }
   ],
   "source": [
    "print(soup.find_all('p')[2])\n",
    "print(soup.select('p')[0])"
   ]
  },
  {
   "cell_type": "code",
   "execution_count": null,
   "metadata": {},
   "outputs": [],
   "source": [
    "通過類名查找：\".\""
   ]
  },
  {
   "cell_type": "code",
   "execution_count": 41,
   "metadata": {},
   "outputs": [
    {
     "name": "stdout",
     "output_type": "stream",
     "text": [
      "[<h1 class=\"large\">我是變色且置中的抬頭</h1>]\n",
      "[<h1 class=\"large\">我是變色且置中的抬頭</h1>]\n"
     ]
    }
   ],
   "source": [
    "print(soup.find_all(class_='large'))  #print(soup.find_all(attrs={\"class\":\"large\"}))\n",
    "print(soup.select('.large'))"
   ]
  },
  {
   "cell_type": "code",
   "execution_count": null,
   "metadata": {},
   "outputs": [],
   "source": [
    "通過 id 名查找：\"#\""
   ]
  },
  {
   "cell_type": "code",
   "execution_count": 12,
   "metadata": {},
   "outputs": [
    {
     "name": "stdout",
     "output_type": "stream",
     "text": [
      "[<p id=\"p2\" style=\"\">我是段落二</p>]\n",
      "[<p id=\"p2\" style=\"\">我是段落二</p>]\n"
     ]
    }
   ],
   "source": [
    "print(soup.find_all(id='p2'))\n",
    "print(soup.select('#p2'))"
   ]
  },
  {
   "cell_type": "code",
   "execution_count": null,
   "metadata": {},
   "outputs": [],
   "source": [
    "組合查找：二者需要用空格分開"
   ]
  },
  {
   "cell_type": "code",
   "execution_count": 45,
   "metadata": {},
   "outputs": [
    {
     "name": "stdout",
     "output_type": "stream",
     "text": [
      "[<p id=\"p2\" style=\"\">我是段落二</p>]\n",
      "[<p id=\"p2\" style=\"\">我是段落二</p>]\n",
      "[<p id=\"p2\" style=\"\">我是段落二</p>]\n"
     ]
    }
   ],
   "source": [
    "print(soup.find_all('p', id='p2'))   #print(soup.find_all(\"p\", attrs={\"id\":\"p2\"}))\n",
    "print(soup.select('p' '#p2'))   #二者需要用空格分開"
   ]
  },
  {
   "cell_type": "code",
   "execution_count": null,
   "metadata": {},
   "outputs": [],
   "source": [
    "屬性查找：[]"
   ]
  },
  {
   "cell_type": "code",
   "execution_count": 57,
   "metadata": {},
   "outputs": [
    {
     "name": "stdout",
     "output_type": "stream",
     "text": [
      "[<a href=\"http://blog.castman.net\" style=\"font-size:200%;\">我是放大的超連結</a>]\n",
      "[<a href=\"http://blog.castman.net\" style=\"font-size:200%;\">我是放大的超連結</a>]\n"
     ]
    }
   ],
   "source": [
    "print(soup.find_all('a', attrs={\"href\":\"http://blog.castman.net\"}))\n",
    "print(soup.select('a[href=\"http://blog.castman.net\"]'))\n",
    "#查找時還可以加入屬性元素，屬性需要用中括號括起來，注意屬性和標籤屬於同一節點，所以中間不能加空格，否則會無法匹配到。"
   ]
  },
  {
   "cell_type": "code",
   "execution_count": 59,
   "metadata": {},
   "outputs": [
    {
     "name": "stdout",
     "output_type": "stream",
     "text": [
      "[<a href=\"http://blog.castman.net\" style=\"font-size:200%;\">我是放大的超連結</a>]\n",
      "[<a href=\"http://blog.castman.net\" style=\"font-size:200%;\">我是放大的超連結</a>]\n"
     ]
    }
   ],
   "source": [
    "print(soup.div.find_all('a', attrs={\"href\":\"http://blog.castman.net\"}))\n",
    "print(soup.select('div a[href=\"http://blog.castman.net\"]'))\n",
    "#同樣，屬性仍然可以與上述查找方式組合，不在同一節點的空格隔開，同一節點的不加空格"
   ]
  },
  {
   "cell_type": "code",
   "execution_count": null,
   "metadata": {},
   "outputs": [],
   "source": [
    "獲取內容：標籤內容有子標籤時，string屬性無法成功取得標籤內容，需要使用text屬性或get_text()函數"
   ]
  },
  {
   "cell_type": "code",
   "execution_count": 65,
   "metadata": {},
   "outputs": [
    {
     "name": "stdout",
     "output_type": "stream",
     "text": [
      "我是放大的超連結\n",
      "我是放大的超連結\n",
      "我是放大的超連結\n",
      "我是放大的超連結\n",
      "我是放大的超連結\n",
      "我是放大的超連結\n",
      "我是放大的超連結\n",
      "我是放大的超連結\n"
     ]
    }
   ],
   "source": [
    "print(soup.find_all('div')[0].get_text())\n",
    "print(soup.find_all('div')[0].text)\n",
    "print(soup.find('div').text)\n",
    "print(soup.find('div').string)\n",
    "print(soup.select('div')[0].get_text())   \n",
    "print(soup.select('div')[0].text)\n",
    "print(soup.select_one('div').text)\n",
    "print(soup.select_one('div').string)"
   ]
  },
  {
   "cell_type": "code",
   "execution_count": null,
   "metadata": {},
   "outputs": [],
   "source": []
  }
 ],
 "metadata": {
  "kernelspec": {
   "display_name": "Python 3",
   "language": "python",
   "name": "python3"
  },
  "language_info": {
   "codemirror_mode": {
    "name": "ipython",
    "version": 3
   },
   "file_extension": ".py",
   "mimetype": "text/x-python",
   "name": "python",
   "nbconvert_exporter": "python",
   "pygments_lexer": "ipython3",
   "version": "3.7.1"
  }
 },
 "nbformat": 4,
 "nbformat_minor": 2
}
