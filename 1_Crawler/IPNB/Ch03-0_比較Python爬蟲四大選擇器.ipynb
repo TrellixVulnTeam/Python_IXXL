{
 "cells": [
  {
   "cell_type": "markdown",
   "metadata": {},
   "source": [
    "https://www.twblogs.net/a/5cbbdb90bd9eee0eff460ebd"
   ]
  },
  {
   "cell_type": "code",
   "execution_count": null,
   "metadata": {},
   "outputs": [],
   "source": [
    "一、正則表達式：re\n",
    "正則表達式爲我們提供了抓取數據的快捷方式。雖然該正則表達式更容易適應未來變化，但又存在難以構造、可讀性差的問題。\n",
    "正則表達式如下圖所示：\n",
    "此外 ，我們都知道，網頁時常會產生變更，導致網頁中會發生一些微小的佈局變化時，此時也會使得之前寫好的正則表達式無法滿足需求，\n",
    "而且還不太好調試。當需要匹配的內容有很多的時候，使用正則表達式提取目標信息會導致程序運行的速度減慢，需要消耗更多內存。"
   ]
  },
  {
   "cell_type": "markdown",
   "metadata": {},
   "source": [
    "![Image](https://pic1.xuehuaimg.com/proxy/csdn/https://upload-images.jianshu.io/upload_images/9337488-c9b715b63b27e735.jpg?imageMogr2/auto-orient/strip%7CimageView2/2/w/640/format/webp)"
   ]
  },
  {
   "cell_type": "code",
   "execution_count": null,
   "metadata": {},
   "outputs": [],
   "source": [
    "二、BeautifulSoup：find()和find_all()\n",
    "BeautifulSoup是一個非常流行的 Pyhon 模塊。該模塊可以解析網頁，並提供定位內容的便捷接口。\n",
    "使用 BeautifulSoup的第一步是將己下載的 HTML 內容解析爲 soup文檔。由於大多數網頁都不具備良好的HTML格式，\n",
    "因此BeautifulSoup需要對實際格式進行確定。BeautifulSoup能夠正確解析缺失的引號並閉合標籤，\n",
    "此外還會添加＜html ＞和＜body＞標籤使其成爲完整的HTML文檔。通常使用find() 和find_all()方法來定位我們需要的元素。\n",
    "\n",
    "如果你想了解BeautifulSoup全部方法和參數，可以查閱BeautifulSoup的官方文檔。\n",
    "雖然BeautifulSoup在代碼的理解上比正則表達式要複雜一些，但是其更加容易構造和理解。"
   ]
  },
  {
   "cell_type": "code",
   "execution_count": null,
   "metadata": {},
   "outputs": [],
   "source": [
    "三、Lxml：XPath\n",
    "Lxml模塊使用C語言編寫，其解析速度比 BeautiflSoup更快，而且其安裝過程也更爲複雜。\n",
    "XPath 使用路徑表達式在XML文檔中選取節點。節點是通過沿着路徑或者 step 來選取的。\n",
    "\n",
    "Xpath選擇器\n",
    "使用 lxml 模塊的第一步和BeautifulSoup一樣，也是將有可能不合法的HTML 解析爲統一格式。\n",
    "雖然Lxml可以正確解析屬性兩側缺失的引號，並閉合標籤，不過該模塊沒有額外添加＜html ＞和＜body＞標籤 。\n",
    "在線複製Xpath表達式可以很方便的複製Xpath表達式。但是通過該方法得到的Xpath表達式放在程序中一般不能用，\n",
    "而且長的沒法看。所以Xpath表達式一般還是要自己親自上手。"
   ]
  },
  {
   "cell_type": "code",
   "execution_count": null,
   "metadata": {},
   "outputs": [],
   "source": [
    "四、CSS：Select()\n",
    "CSS選擇器表示選擇元素所使用的模式。BeautifulSoup整合了CSS選擇器的語法和自身方便使用API。\n",
    "在網絡爬蟲的開發過程中，對於熟悉CSS選擇器語法的人，使用CSS選擇器是個非常方便的方法。"
   ]
  }
 ],
 "metadata": {
  "kernelspec": {
   "display_name": "Python 3",
   "language": "python",
   "name": "python3"
  },
  "language_info": {
   "codemirror_mode": {
    "name": "ipython",
    "version": 3
   },
   "file_extension": ".py",
   "mimetype": "text/x-python",
   "name": "python",
   "nbconvert_exporter": "python",
   "pygments_lexer": "ipython3",
   "version": "3.7.1"
  }
 },
 "nbformat": 4,
 "nbformat_minor": 2
}
