{
 "cells": [
  {
   "cell_type": "code",
   "execution_count": 13,
   "metadata": {},
   "outputs": [],
   "source": [
    "import time\n",
    "import requests\n",
    "from bs4 import BeautifulSoup\n",
    "import pandas\n",
    "import csv\n",
    "\n",
    "url = \"https://www.amazon.cn/gp/bestsellers/pc/888524051/ref=pd_zg_hrsr_pc\"\n",
    "\n",
    "headers = {\"user-agent\": \"Mozilla/5.0 (Windows NT 10.0; Win64; x64)\"\n",
    "           \"AppleWebKit/537.36 (KHTML, like Gecko)\"\n",
    "           \"Chrome/63.0.3239.132 Safari/537.36\"}\n",
    "res = requests.get(url, headers=headers) \n",
    "soup = BeautifulSoup(res.text, \"lxml\")\n",
    "\n",
    "goods = []\n",
    "rows = soup.find_all(\"li\", class_=\"zg-item-immersion\")\n",
    "for row in rows:\n",
    "    rank = row.find(\"span\", class_=\"zg-badge-text\").text\n",
    "    name = row.find(\"div\", class_=\"p13n-sc-truncated\")\n",
    "    star = row.find(\"span\", class_=\"a-icon-alt\")\n",
    "    try:\n",
    "        reviews = row.find(\"a\", class_=\"a-size-small a-link-normal\").text\n",
    "    except:\n",
    "        reviews=None\n",
    "    try:\n",
    "        price = row.find(\"span\", class_=\"p13n-sc-price\").text\n",
    "    except:\n",
    "        price=None\n",
    "    good= [rank, name, star, reviews, price]\n",
    "    goods.append(good)"
   ]
  },
  {
   "cell_type": "code",
   "execution_count": null,
   "metadata": {},
   "outputs": [],
   "source": []
  }
 ],
 "metadata": {
  "kernelspec": {
   "display_name": "Python 3",
   "language": "python",
   "name": "python3"
  },
  "language_info": {
   "codemirror_mode": {
    "name": "ipython",
    "version": 3
   },
   "file_extension": ".py",
   "mimetype": "text/x-python",
   "name": "python",
   "nbconvert_exporter": "python",
   "pygments_lexer": "ipython3",
   "version": "3.7.1"
  }
 },
 "nbformat": 4,
 "nbformat_minor": 2
}
