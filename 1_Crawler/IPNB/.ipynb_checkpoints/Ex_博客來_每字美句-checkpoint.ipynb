{
 "cells": [
  {
   "cell_type": "code",
   "execution_count": null,
   "metadata": {},
   "outputs": [],
   "source": [
    "Ex_博客來_每字美句網路爬蟲"
   ]
  },
  {
   "cell_type": "code",
   "execution_count": null,
   "metadata": {},
   "outputs": [],
   "source": [
    "import requests\n",
    "from bs4 import BeautifulSoup\n",
    "import pandas as pd"
   ]
  },
  {
   "cell_type": "code",
   "execution_count": null,
   "metadata": {},
   "outputs": [],
   "source": [
    "url='https://activity.books.com.tw/everylettermatters/sentence/most'\n",
    "resp = requests.get(url)\n",
    "soup = BeautifulSoup(resp.text)"
   ]
  },
  {
   "cell_type": "code",
   "execution_count": null,
   "metadata": {},
   "outputs": [],
   "source": [
    "for i in soup.select('ul > li'):\n",
    "    try:\n",
    "        sent = i.find('h5').text # 句子\n",
    "        auth = i.findAll('span')[1].text # 作者\n",
    "        prod = i.find('span').text # 出處\n",
    "        prod_link = i.findAll('span')[0].find('a')['href'] # 出處連結\n",
    "        collect = i.findAll('em')[0].text # 收藏數\n",
    "        share = i.findAll('em')[1].text # 分享數\n",
    "        ndf = pd.DataFrame([{'句子':sent,\n",
    "                             '作者':auth,\n",
    "                             '出處':prod,\n",
    "                             '出處連結':prod_link,\n",
    "                             '收藏數':collect,\n",
    "                             '分享數':share}],\n",
    "                          columns = ['句子', '作者', '出處', '收藏數', '分享數', '出處連結'])\n",
    "        df.append(ndf)\n",
    "    except:\n",
    "        pass\n",
    "df = pd.concat(df, ignore_index=True)"
   ]
  },
  {
   "cell_type": "code",
   "execution_count": null,
   "metadata": {},
   "outputs": [],
   "source": [
    "df.to_excel('./everylettermatters.xlsx')\n",
    "df"
   ]
  },
  {
   "cell_type": "code",
   "execution_count": null,
   "metadata": {},
   "outputs": [],
   "source": []
  },
  {
   "cell_type": "code",
   "execution_count": null,
   "metadata": {},
   "outputs": [],
   "source": []
  },
  {
   "cell_type": "code",
   "execution_count": null,
   "metadata": {},
   "outputs": [],
   "source": []
  },
  {
   "cell_type": "code",
   "execution_count": null,
   "metadata": {},
   "outputs": [],
   "source": []
  },
  {
   "cell_type": "code",
   "execution_count": null,
   "metadata": {},
   "outputs": [],
   "source": []
  }
 ],
 "metadata": {
  "kernelspec": {
   "display_name": "Python 3",
   "language": "python",
   "name": "python3"
  },
  "language_info": {
   "codemirror_mode": {
    "name": "ipython",
    "version": 3
   },
   "file_extension": ".py",
   "mimetype": "text/x-python",
   "name": "python",
   "nbconvert_exporter": "python",
   "pygments_lexer": "ipython3",
   "version": "3.7.1"
  }
 },
 "nbformat": 4,
 "nbformat_minor": 2
}
