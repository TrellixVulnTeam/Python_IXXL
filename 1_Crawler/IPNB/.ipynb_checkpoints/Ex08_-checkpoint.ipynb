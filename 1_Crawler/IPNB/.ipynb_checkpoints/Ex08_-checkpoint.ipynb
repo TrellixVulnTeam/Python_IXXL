{
 "cells": [
  {
   "cell_type": "code",
   "execution_count": null,
   "metadata": {},
   "outputs": [],
   "source": [
    "這隻要細心一點, 除了會把指定編號的股票資訊顯示出來之外, 另外也實作了取得不同頁歷史資訊的方法:"
   ]
  },
  {
   "cell_type": "code",
   "execution_count": 1,
   "metadata": {},
   "outputs": [
    {
     "ename": "AttributeError",
     "evalue": "'NoneType' object has no attribute 'span'",
     "output_type": "error",
     "traceback": [
      "\u001b[1;31m---------------------------------------------------------------------------\u001b[0m",
      "\u001b[1;31mAttributeError\u001b[0m                            Traceback (most recent call last)",
      "\u001b[1;32m<ipython-input-1-525491b74ce3>\u001b[0m in \u001b[0;36m<module>\u001b[1;34m\u001b[0m\n\u001b[0;32m     65\u001b[0m \u001b[1;33m\u001b[0m\u001b[0m\n\u001b[0;32m     66\u001b[0m \u001b[1;32mif\u001b[0m \u001b[0m__name__\u001b[0m \u001b[1;33m==\u001b[0m \u001b[1;34m'__main__'\u001b[0m\u001b[1;33m:\u001b[0m\u001b[1;33m\u001b[0m\u001b[1;33m\u001b[0m\u001b[0m\n\u001b[1;32m---> 67\u001b[1;33m     \u001b[0mmain\u001b[0m\u001b[1;33m(\u001b[0m\u001b[1;33m)\u001b[0m\u001b[1;33m\u001b[0m\u001b[1;33m\u001b[0m\u001b[0m\n\u001b[0m",
      "\u001b[1;32m<ipython-input-1-525491b74ce3>\u001b[0m in \u001b[0;36mmain\u001b[1;34m()\u001b[0m\n\u001b[0;32m     51\u001b[0m     \u001b[0mfinance_info_page\u001b[0m \u001b[1;33m=\u001b[0m \u001b[0mget_web_page\u001b[0m\u001b[1;33m(\u001b[0m\u001b[0mGOOGLE_FINANCE_INFO\u001b[0m\u001b[1;33m,\u001b[0m \u001b[0mCODE_TSMC\u001b[0m\u001b[1;33m)\u001b[0m\u001b[1;33m\u001b[0m\u001b[1;33m\u001b[0m\u001b[0m\n\u001b[0;32m     52\u001b[0m     \u001b[1;32mif\u001b[0m \u001b[0mfinance_info_page\u001b[0m\u001b[1;33m:\u001b[0m\u001b[1;33m\u001b[0m\u001b[1;33m\u001b[0m\u001b[0m\n\u001b[1;32m---> 53\u001b[1;33m         \u001b[0mstock\u001b[0m \u001b[1;33m=\u001b[0m \u001b[0mget_stock_info\u001b[0m\u001b[1;33m(\u001b[0m\u001b[0mfinance_info_page\u001b[0m\u001b[1;33m)\u001b[0m\u001b[1;33m\u001b[0m\u001b[1;33m\u001b[0m\u001b[0m\n\u001b[0m\u001b[0;32m     54\u001b[0m         \u001b[1;32mfor\u001b[0m \u001b[0mk\u001b[0m\u001b[1;33m,\u001b[0m \u001b[0mv\u001b[0m \u001b[1;32min\u001b[0m \u001b[0mstock\u001b[0m\u001b[1;33m.\u001b[0m\u001b[0mitems\u001b[0m\u001b[1;33m(\u001b[0m\u001b[1;33m)\u001b[0m\u001b[1;33m:\u001b[0m\u001b[1;33m\u001b[0m\u001b[1;33m\u001b[0m\u001b[0m\n\u001b[0;32m     55\u001b[0m             \u001b[0mprint\u001b[0m\u001b[1;33m(\u001b[0m\u001b[0mk\u001b[0m \u001b[1;33m+\u001b[0m \u001b[1;34m\":\"\u001b[0m\u001b[1;33m,\u001b[0m \u001b[0mv\u001b[0m\u001b[1;33m)\u001b[0m\u001b[1;33m\u001b[0m\u001b[1;33m\u001b[0m\u001b[0m\n",
      "\u001b[1;32m<ipython-input-1-525491b74ce3>\u001b[0m in \u001b[0;36mget_stock_info\u001b[1;34m(dom)\u001b[0m\n\u001b[0;32m     28\u001b[0m     \u001b[0mstock\u001b[0m \u001b[1;33m=\u001b[0m \u001b[0mdict\u001b[0m\u001b[1;33m(\u001b[0m\u001b[1;33m)\u001b[0m\u001b[1;33m\u001b[0m\u001b[1;33m\u001b[0m\u001b[0m\n\u001b[0;32m     29\u001b[0m     \u001b[0mstock\u001b[0m\u001b[1;33m[\u001b[0m\u001b[1;34m'name'\u001b[0m\u001b[1;33m]\u001b[0m \u001b[1;33m=\u001b[0m \u001b[0msoup\u001b[0m\u001b[1;33m.\u001b[0m\u001b[0mtitle\u001b[0m\u001b[1;33m.\u001b[0m\u001b[0mtext\u001b[0m\u001b[1;33m.\u001b[0m\u001b[0msplit\u001b[0m\u001b[1;33m(\u001b[0m\u001b[1;34m':'\u001b[0m\u001b[1;33m)\u001b[0m\u001b[1;33m[\u001b[0m\u001b[1;36m0\u001b[0m\u001b[1;33m]\u001b[0m\u001b[1;33m\u001b[0m\u001b[1;33m\u001b[0m\u001b[0m\n\u001b[1;32m---> 30\u001b[1;33m     \u001b[0mstock\u001b[0m\u001b[1;33m[\u001b[0m\u001b[1;34m'current_price'\u001b[0m\u001b[1;33m]\u001b[0m \u001b[1;33m=\u001b[0m \u001b[0msoup\u001b[0m\u001b[1;33m.\u001b[0m\u001b[0mfind\u001b[0m\u001b[1;33m(\u001b[0m\u001b[0mid\u001b[0m\u001b[1;33m=\u001b[0m\u001b[1;34m'price-panel'\u001b[0m\u001b[1;33m)\u001b[0m\u001b[1;33m.\u001b[0m\u001b[0mspan\u001b[0m\u001b[1;33m.\u001b[0m\u001b[0mspan\u001b[0m\u001b[1;33m.\u001b[0m\u001b[0mtext\u001b[0m\u001b[1;33m\u001b[0m\u001b[1;33m\u001b[0m\u001b[0m\n\u001b[0m\u001b[0;32m     31\u001b[0m     \u001b[0mstock\u001b[0m\u001b[1;33m[\u001b[0m\u001b[1;34m'current_change'\u001b[0m\u001b[1;33m]\u001b[0m \u001b[1;33m=\u001b[0m \u001b[0msoup\u001b[0m\u001b[1;33m.\u001b[0m\u001b[0mfind\u001b[0m\u001b[1;33m(\u001b[0m\u001b[0mid\u001b[0m\u001b[1;33m=\u001b[0m\u001b[1;34m'price-panel'\u001b[0m\u001b[1;33m)\u001b[0m\u001b[1;33m.\u001b[0m\u001b[0mfind\u001b[0m\u001b[1;33m(\u001b[0m\u001b[1;34m'div'\u001b[0m\u001b[1;33m,\u001b[0m \u001b[1;34m'id-price-change'\u001b[0m\u001b[1;33m)\u001b[0m\u001b[1;33m.\u001b[0m\u001b[0mtext\u001b[0m\u001b[1;33m.\u001b[0m\u001b[0mstrip\u001b[0m\u001b[1;33m(\u001b[0m\u001b[1;33m)\u001b[0m\u001b[1;33m.\u001b[0m\u001b[0mreplace\u001b[0m\u001b[1;33m(\u001b[0m\u001b[1;34m'\\n'\u001b[0m\u001b[1;33m,\u001b[0m \u001b[1;34m''\u001b[0m\u001b[1;33m)\u001b[0m\u001b[1;33m\u001b[0m\u001b[1;33m\u001b[0m\u001b[0m\n\u001b[0;32m     32\u001b[0m     \u001b[1;32mfor\u001b[0m \u001b[0mtable\u001b[0m \u001b[1;32min\u001b[0m \u001b[0msoup\u001b[0m\u001b[1;33m.\u001b[0m\u001b[0mfind\u001b[0m\u001b[1;33m(\u001b[0m\u001b[1;34m'div'\u001b[0m\u001b[1;33m,\u001b[0m \u001b[1;34m'snap-panel'\u001b[0m\u001b[1;33m)\u001b[0m\u001b[1;33m.\u001b[0m\u001b[0mfind_all\u001b[0m\u001b[1;33m(\u001b[0m\u001b[1;34m'table'\u001b[0m\u001b[1;33m)\u001b[0m\u001b[1;33m:\u001b[0m\u001b[1;33m\u001b[0m\u001b[1;33m\u001b[0m\u001b[0m\n",
      "\u001b[1;31mAttributeError\u001b[0m: 'NoneType' object has no attribute 'span'"
     ]
    }
   ],
   "source": [
    "import requests\n",
    "from bs4 import BeautifulSoup\n",
    "\n",
    "# To query the specific stock info, add \"MARKET:STOCK_ID\" after the url.\n",
    "# e.g.: https://www.google.com/finance?q=[MARKET]:[STOCK_ID]\n",
    "GOOGLE_FINANCE_INFO = \"https://www.google.com/finance?q=\"\n",
    "GOOGLE_FINANCE_HISTORY = \"https://www.google.com/finance/historical?q=\"\n",
    "CODE_TSMC = \"TPE:2330\"\n",
    "FINANCE_HISTORY_START_BASE = 30\n",
    "FINANCE_HISTORY_RECORD_SIZE = 30\n",
    "\n",
    "\n",
    "def get_web_page(url, query):\n",
    "    if query:\n",
    "        resp = requests.get(url+query)\n",
    "    else:\n",
    "        resp = requests.get(url)\n",
    "\n",
    "    if resp.status_code != 200:\n",
    "        print('Invalid url: ', resp.url)\n",
    "        return None\n",
    "    else:\n",
    "        return resp.text\n",
    "\n",
    "\n",
    "def get_stock_info(dom):\n",
    "    soup = BeautifulSoup(dom, 'html5lib')\n",
    "    stock = dict()\n",
    "    stock['name'] = soup.title.text.split(':')[0]\n",
    "    stock['current_price'] = soup.find(id='price-panel').span.span.text\n",
    "    stock['current_change'] = soup.find(id='price-panel').find('div', 'id-price-change').text.strip().replace('\\n', '')\n",
    "    for table in soup.find('div', 'snap-panel').find_all('table'):\n",
    "        for tr in table.find_all('tr'):\n",
    "            key = tr.find('td', 'key').text.lower().strip()\n",
    "            value = tr.find('td', 'val').text.strip()\n",
    "            stock[key] = value\n",
    "    return stock\n",
    "\n",
    "\n",
    "def get_stock_history(dom):\n",
    "    soup = BeautifulSoup(dom, 'html5lib')\n",
    "    table = soup.find('table', 'historical_price')\n",
    "    header_row = table.find('tr', 'bb')\n",
    "    headers = [header for header in header_row.stripped_strings]\n",
    "    print(headers)\n",
    "    for tds in table.find_all('tr')[1:]:\n",
    "        print([data for data in tds.stripped_strings])\n",
    "\n",
    "\n",
    "def main():\n",
    "    finance_info_page = get_web_page(GOOGLE_FINANCE_INFO, CODE_TSMC)\n",
    "    if finance_info_page:\n",
    "        stock = get_stock_info(finance_info_page)\n",
    "        for k, v in stock.items():\n",
    "            print(k + \":\", v)\n",
    "\n",
    "    # To fetch history data by pagination, you need to add two query params: start and num.\n",
    "    # Just like the following link:\n",
    "    # https://www.google.com/finance/historical?q=TPE:2330&start=30&num=30\n",
    "    for page in range(0, 3, 1):\n",
    "        history_url = GOOGLE_FINANCE_HISTORY + CODE_TSMC + \"&start=\" + str(page * FINANCE_HISTORY_START_BASE) + \"&num=\" + str(FINANCE_HISTORY_RECORD_SIZE)\n",
    "        finance_history_page = get_web_page(history_url, None)\n",
    "        get_stock_history(finance_history_page)\n",
    "\n",
    "\n",
    "if __name__ == '__main__':\n",
    "    main()"
   ]
  },
  {
   "cell_type": "code",
   "execution_count": null,
   "metadata": {},
   "outputs": [],
   "source": []
  }
 ],
 "metadata": {
  "kernelspec": {
   "display_name": "Python 3",
   "language": "python",
   "name": "python3"
  },
  "language_info": {
   "codemirror_mode": {
    "name": "ipython",
    "version": 3
   },
   "file_extension": ".py",
   "mimetype": "text/x-python",
   "name": "python",
   "nbconvert_exporter": "python",
   "pygments_lexer": "ipython3",
   "version": "3.7.1"
  }
 },
 "nbformat": 4,
 "nbformat_minor": 2
}
