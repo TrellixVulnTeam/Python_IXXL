{
 "cells": [
  {
   "cell_type": "code",
   "execution_count": 2,
   "metadata": {},
   "outputs": [],
   "source": [
    "import requests\n",
    "import re\n",
    "from bs4 import BeautifulSoup\n",
    "\n",
    "\n",
    "def main():\n",
    "    dcard_topic_page = 'https://www.dcard.tw/f'\n",
    "    resp = requests.get(dcard_topic_page)\n",
    "    soup = BeautifulSoup(resp.text, 'html.parser')\n",
    "\n",
    "    # ^ means \"start with\"\n",
    "    topic_entry_pattern = '^PostEntry_container_'\n",
    "    topic_title_pattern = 'strong'\n",
    "    find_top10_hot_topic_title(soup, topic_entry_pattern, topic_title_pattern)\n",
    "\n",
    "\n",
    "def find_top10_hot_topic_title(soup, topic_entry_pattern, topic_title_pattern):\n",
    "    top_ten_topic = soup.find_all('div', {'class': re.compile(topic_entry_pattern)})\n",
    "    i = 1\n",
    "    for topic in top_ten_topic[:10]:\n",
    "        print(str(i) + ': ' + topic.find(topic_title_pattern).text)\n",
    "        i += 1\n",
    "\n",
    "\n",
    "if __name__ == '__main__':\n",
    "    main()"
   ]
  },
  {
   "cell_type": "code",
   "execution_count": null,
   "metadata": {},
   "outputs": [],
   "source": []
  }
 ],
 "metadata": {
  "kernelspec": {
   "display_name": "Python 3",
   "language": "python",
   "name": "python3"
  },
  "language_info": {
   "codemirror_mode": {
    "name": "ipython",
    "version": 3
   },
   "file_extension": ".py",
   "mimetype": "text/x-python",
   "name": "python",
   "nbconvert_exporter": "python",
   "pygments_lexer": "ipython3",
   "version": "3.7.1"
  }
 },
 "nbformat": 4,
 "nbformat_minor": 2
}
