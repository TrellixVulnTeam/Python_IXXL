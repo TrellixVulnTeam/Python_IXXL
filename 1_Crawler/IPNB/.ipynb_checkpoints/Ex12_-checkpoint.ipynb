{
 "cells": [
  {
   "cell_type": "markdown",
   "metadata": {},
   "source": [
    "有時候我們爬的網頁可能不是使用UTF-8編碼的, 這時候就需要在程式裡面處理編碼的問題.<br>\n",
    "那要怎麼看目標網頁的編碼呢? 其實只要透過developer tool觀看網頁的head部分即可, 在head區塊裡, 找到meta標籤, 其中的charset就是該網頁的編碼了, 譬如說以下就是用UTF-8編碼的網頁:"
   ]
  },
  {
   "cell_type": "code",
   "execution_count": null,
   "metadata": {},
   "outputs": [],
   "source": [
    "<meta charset=\"UTF-8\">"
   ]
  },
  {
   "cell_type": "markdown",
   "metadata": {},
   "source": [
    "若你要爬的網頁, 其編碼不是UTF-8, 就必須在程式裡面處理了, 接下來的範例會示範怎麼做這件事.<br>\n",
    "至於不同的文件類型, 除了html外, 也許你有一天也會碰上xml, 那這時候就可以選用可處理xml的library去處理其內容."
   ]
  },
  {
   "cell_type": "markdown",
   "metadata": {},
   "source": [
    "### 非UTF-8編碼的文件\n",
    "這邊的範例會去爬兩張非UTF-8編碼的網頁, 其中, 在取得response的時候, 就可以先指定原文件的編碼, 方式如下:"
   ]
  },
  {
   "cell_type": "code",
   "execution_count": null,
   "metadata": {},
   "outputs": [],
   "source": [
    "# 表示爬回來的網頁內容是以BIG-5編碼為基礎的\n",
    "resp.encoding = 'big5'"
   ]
  },
  {
   "cell_type": "markdown",
   "metadata": {},
   "source": [
    "最後, 在處理完資料然後要儲存成檔案時, 再轉換成UTF-8編碼:<br>\n",
    "這樣最後儲存的結果就會是UTF-8編碼了."
   ]
  },
  {
   "cell_type": "code",
   "execution_count": null,
   "metadata": {},
   "outputs": [],
   "source": [
    "with open('xxx.txt', 'w', encoding='UTF-8') as file:"
   ]
  },
  {
   "cell_type": "code",
   "execution_count": null,
   "metadata": {},
   "outputs": [],
   "source": [
    "import requests\n",
    "from bs4 import BeautifulSoup\n",
    "\n",
    "\n",
    "def baidu_encoding():\n",
    "    resp = requests.get('https://zhidao.baidu.com/question/48795122.html')\n",
    "    resp.encoding = 'gbk'\n",
    "    soup = BeautifulSoup(resp.text, 'html.parser')\n",
    "    title = soup.find('span', 'ask-title').text.strip()\n",
    "    content = soup.find('span', 'con').text.strip().replace('\\n', '')\n",
    "    print('title', title)\n",
    "    print('content', content)\n",
    "    try:\n",
    "        with open(title + '.txt', 'w', encoding='UTF-8') as file:\n",
    "            file.write(content)\n",
    "    except Exception as e:\n",
    "        print(e)\n",
    "\n",
    "\n",
    "def gold_66_encoding():\n",
    "    resp = requests.get('http://www.books.com.tw/activity/gold66_day/')\n",
    "    resp.encoding = 'big5'\n",
    "    soup = BeautifulSoup(resp.text, 'html.parser')\n",
    "    books = list()\n",
    "    for div in soup.find_all('div', 'sec_day'):\n",
    "        books.append(div.h1.a.text + div.find_all('h2')[1].text + div.find_all('h2')[2].text)\n",
    "    print('\\n'.join(books))\n",
    "    try:\n",
    "        with open('66.txt', 'w', encoding='UTF-8') as file:\n",
    "            file.write('\\n'.join(books))\n",
    "    except Exception as e:\n",
    "        print(e)\n",
    "\n",
    "\n",
    "if __name__ == '__main__':\n",
    "    baidu_encoding()\n",
    "    gold_66_encoding()"
   ]
  },
  {
   "cell_type": "markdown",
   "metadata": {},
   "source": [
    "### XML文件\n",
    "這邊用的是ElementTree.XML套件:"
   ]
  },
  {
   "cell_type": "code",
   "execution_count": null,
   "metadata": {},
   "outputs": [],
   "source": [
    "import xml.etree.ElementTree as ET\n",
    "\n",
    "\n",
    "if __name__ == '__main__':\n",
    "    tree = ET.parse('example.xml')\n",
    "    root = tree.getroot()\n",
    "    print(root.attrib)\n",
    "    total = root.attrib['totalResults']\n",
    "    movies = list()\n",
    "    for tag in root.findall('result'):\n",
    "        print(tag.attrib)\n",
    "        movies.append(tag.attrib['title'])\n",
    "    print('-----')\n",
    "    print('There are', total, 'results in the xml file.')\n",
    "    print('Top 10 record:')\n",
    "    print('\\n'.join(movies))"
   ]
  },
  {
   "cell_type": "code",
   "execution_count": null,
   "metadata": {},
   "outputs": [],
   "source": []
  },
  {
   "cell_type": "code",
   "execution_count": null,
   "metadata": {},
   "outputs": [],
   "source": []
  },
  {
   "cell_type": "code",
   "execution_count": null,
   "metadata": {},
   "outputs": [],
   "source": []
  }
 ],
 "metadata": {
  "kernelspec": {
   "display_name": "Python 3",
   "language": "python",
   "name": "python3"
  },
  "language_info": {
   "codemirror_mode": {
    "name": "ipython",
    "version": 3
   },
   "file_extension": ".py",
   "mimetype": "text/x-python",
   "name": "python",
   "nbconvert_exporter": "python",
   "pygments_lexer": "ipython3",
   "version": "3.7.1"
  }
 },
 "nbformat": 4,
 "nbformat_minor": 2
}
