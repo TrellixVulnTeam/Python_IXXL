{
 "cells": [
  {
   "cell_type": "markdown",
   "metadata": {},
   "source": [
    "# Yahoo奇摩字典"
   ]
  },
  {
   "cell_type": "code",
   "execution_count": null,
   "metadata": {},
   "outputs": [],
   "source": [
    "這個範例有一個要注意的地方, 就是header要記得帶入referer參數, 不然你看到的字典頁面會跟你從yahoo導過去的字典頁面有所差異."
   ]
  },
  {
   "cell_type": "code",
   "execution_count": 4,
   "metadata": {},
   "outputs": [
    {
     "name": "stdout",
     "output_type": "stream",
     "text": [
      " Dr.eye 譯典通 Java KK[ˋdʒɑvə] DJ[ˋdʒɑ:və] 美式   n. 爪哇；爪哇產的咖啡  \n",
      "\n",
      "KK[ˋdʒɑvə]  \n",
      "\n",
      "DJ[ˋdʒɑ:və]  \n",
      "\n",
      "n. 爪哇；爪哇產的咖啡  \n",
      "\n",
      "釋義相關詞n. 名詞 1. 爪哇 2. 爪哇產的咖啡 3. 【電腦】在網際網路上的應用程式開發語言 Java man ph. 爪哇猿人Powered by Dr.eye Phrase Hot Java ph. 【電腦】一個由Sun Microsystems開發的可讀Java文件的瀏覽器Powered by Dr.eye Phrase Java Applet ph. 【電腦】一Java程式可被包含在HTML頁面中Powered by Dr.eye Phrase Java Applet ph. 【電腦】一Java程式可被包含在HTML頁面中Powered by Dr.eye Hot Java ph. 【電腦】一個由Sun Microsystems開發的可讀Java文件的瀏覽器Powered by Dr.eye Java man ph. 爪哇猿人Powered by Dr.eye 上一頁12下一頁 \n",
      "\n",
      "釋義 \n",
      "\n",
      "相關詞 \n",
      "\n",
      "n. 名詞  \n",
      "\n",
      "1. 爪哇  \n",
      "\n",
      "2. 爪哇產的咖啡  \n",
      "\n",
      "3. 【電腦】在網際網路上的應用程式開發語言  \n",
      "\n",
      "ph. 爪哇猿人 \n",
      "\n",
      "ph. 【電腦】一個由Sun Microsystems開發的可讀Java文件的瀏覽器 \n",
      "\n",
      "ph. 【電腦】一Java程式可被包含在HTML頁面中 \n",
      "\n",
      "ph. 【電腦】一Java程式可被包含在HTML頁面中 \n",
      "\n",
      "ph. 【電腦】一個由Sun Microsystems開發的可讀Java文件的瀏覽器 \n",
      "\n",
      "ph. 爪哇猿人 \n",
      "\n",
      "上一頁 \n",
      "\n",
      "1 \n",
      "\n",
      "2 \n",
      "\n",
      "下一頁 \n",
      "\n",
      "更多解釋Java IPA[ˈdʒɑːvə] pr n 爪哇島 n. Java語言 Powered by Oxford Chinese Dictionary java IPA[ˈdʒɑːvə] 美式   英式   n. 咖啡 Powered by Oxford Chinese Dictionary Java 爪哇,爪哇產的咖啡,咖啡 Powered by PyDict  \n",
      "\n",
      "更多解釋 \n",
      "\n",
      "IPA[ˈdʒɑːvə]  \n",
      "\n",
      "pr n 爪哇島  \n",
      "\n",
      "n. Java語言  \n",
      "\n",
      "IPA[ˈdʒɑːvə]  \n",
      "\n",
      "n. 咖啡  \n",
      "\n",
      "爪哇,爪哇產的咖啡,咖啡  \n",
      "\n",
      "知識+ JAVA作業的問題~急...括弧，修正以上問題後..... 以下是 compile 以及執行的結果：  >javac EX3_1.java >java EX3_1 -485266688 32 86 130  >  另外 main 中列印出的 b 變數值... Java原文書翻譯...省略比較容易懂。    留白   一些有趣的迴圈變化，可在迴圈定義內留白達成。  寫Java時，讓for loop 部分或全部的初始值、條件值、或是循環部分保持空白，是可行... java安裝完一開始就不能執行java指令請問你裝JRE還是JDK?  JRE可以RUN JAVA的程式  但是不能編譯唷(JAVAC)    要編譯要安裝JDK(J2SE... 查看更多 Java 知識+相關結果 >  \n",
      "\n",
      "JAVA作業的問題~急...括弧，修正以上問題後..... 以下是 compile 以及執行的結果：  >javac EX3_1.java >java EX3_1 -485266688 32 86 130  >  另外 main 中列印出的 b 變數值...  \n",
      "\n",
      "Java原文書翻譯...省略比較容易懂。    留白   一些有趣的迴圈變化，可在迴圈定義內留白達成。  寫Java時，讓for loop 部分或全部的初始值、條件值、或是循環部分保持空白，是可行...  \n",
      "\n",
      "java安裝完一開始就不能執行java指令請問你裝JRE還是JDK?  JRE可以RUN JAVA的程式  但是不能編譯唷(JAVAC)    要編譯要安裝JDK(J2SE...  \n",
      "\n"
     ]
    }
   ],
   "source": [
    "import requests\n",
    "from bs4 import BeautifulSoup\n",
    "import urllib.parse\n",
    "\n",
    "\n",
    "YAHOO_DICTIONARY_URL = \"https://tw.dictionary.yahoo.com/dictionary?p=\"\n",
    "YAHOO_REFERER_VALUE = \"https://tw.dictionary.yahoo.com/dictionary\"\n",
    "\n",
    "\n",
    "def get_web_content(url, query):\n",
    "    query = urllib.parse.quote_plus(query)\n",
    "    resp = requests.get(url + query, headers={'Referer': YAHOO_REFERER_VALUE})\n",
    "    if resp.status_code != 200:\n",
    "        print('Invalid url: ', resp.url)\n",
    "        return None\n",
    "    else:\n",
    "        return resp.text\n",
    "\n",
    "\n",
    "def get_dict_info(dom):\n",
    "    soup = BeautifulSoup(dom, 'html5lib')\n",
    "    for explain in soup.find('ol', 'mb-15 reg searchCenterMiddle').find_all('li'):\n",
    "        print(explain.text,'\\n')\n",
    "\n",
    "\n",
    "def main():\n",
    "    page = get_web_content(YAHOO_DICTIONARY_URL, 'Java')\n",
    "    if page:\n",
    "        get_dict_info(page)\n",
    "\n",
    "\n",
    "if __name__ == '__main__':\n",
    "    main()"
   ]
  },
  {
   "cell_type": "code",
   "execution_count": null,
   "metadata": {},
   "outputs": [],
   "source": []
  }
 ],
 "metadata": {
  "kernelspec": {
   "display_name": "Python 3",
   "language": "python",
   "name": "python3"
  },
  "language_info": {
   "codemirror_mode": {
    "name": "ipython",
    "version": 3
   },
   "file_extension": ".py",
   "mimetype": "text/x-python",
   "name": "python",
   "nbconvert_exporter": "python",
   "pygments_lexer": "ipython3",
   "version": "3.7.1"
  }
 },
 "nbformat": 4,
 "nbformat_minor": 2
}
